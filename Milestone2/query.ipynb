{
 "cells": [
  {
   "cell_type": "code",
   "execution_count": 1,
   "metadata": {},
   "outputs": [],
   "source": [
    "import time\n",
    "import json\n",
    "import bz2\n",
    "import sys\n",
    "from qwikidata.entity import WikidataItem\n",
    "from qwikidata.json_dump import WikidataJsonDump\n",
    "from qwikidata.utils import dump_entities_to_json"
   ]
  },
  {
   "cell_type": "code",
   "execution_count": 2,
   "metadata": {},
   "outputs": [],
   "source": [
    "from qwikidata.sparql import (get_subclasses_of_item,\n",
    "                              return_sparql_query_results)\n",
    "\n",
    "# send any sparql query to the wikidata query service and get full result back\n",
    "sparql_query = \"\"\"\n",
    "# Living American politicians and their associated parties\n",
    "select ?politician ?politicianLabel ?party ?partyLabel\n",
    "where {\n",
    "  # Get all senators\n",
    "  ?politician wdt:P106 wd:Q82955; # is politician\n",
    "           p:P102 ?partystatement; # And with a certain party\n",
    "           wdt:P27 wd:Q30. # and is American\n",
    "  minus { ?politician p:P570 ?deathDate .} # minus dead person \n",
    "#   OPTIONAL { ?politician skos:altLabel ?altLabel . FILTER (lang(?altLabel) = \"en\") } # add alternative labels, this will cause running time out\n",
    "\n",
    " \n",
    "\n",
    "  \n",
    "  ?partystatement ps:P102 ?party. # Get the party\n",
    "  ?party wdt:P17 wd:Q30.          # it has to be a American party\n",
    "  minus { ?partystatement pq:P582 ?partyEnd. } # but minus the ones is no longer a member of\n",
    "  minus { ?party wdt:P361 ?partOf. }  # minus sub-group of other party like 'Minnesota Democratic–Farmer–Labor Party'\n",
    "  minus { ?party wdt:P1416 ?affliation.} # minus affiliation of other party like \"Republican Party of Minnesota\"\n",
    "         \n",
    "  service wikibase:label { bd:serviceParam wikibase:language \"[AUTO_LANGUAGE],en\". }\n",
    "}\n",
    "order by ?politicianLabel\n",
    "\"\"\"\n",
    "# link to the query https://w.wiki/4Lic\n",
    "# return result in dict\n",
    "res = return_sparql_query_results(sparql_query)\n"
   ]
  },
  {
   "cell_type": "code",
   "execution_count": 7,
   "metadata": {},
   "outputs": [],
   "source": [
    "# dump in json\n",
    "with open(\"../US_politician_party.json\", \"w\") as out:\n",
    "    json.dump(res, out, indent= 6)"
   ]
  }
 ],
 "metadata": {
  "interpreter": {
   "hash": "916dbcbb3f70747c44a77c7bcd40155683ae19c65e1c03b4aa3499c5328201f1"
  },
  "kernelspec": {
   "display_name": "Python 3.8.10 64-bit",
   "language": "python",
   "name": "python3"
  },
  "language_info": {
   "codemirror_mode": {
    "name": "ipython",
    "version": 3
   },
   "file_extension": ".py",
   "mimetype": "text/x-python",
   "name": "python",
   "nbconvert_exporter": "python",
   "pygments_lexer": "ipython3",
   "version": "3.8.10"
  },
  "orig_nbformat": 4
 },
 "nbformat": 4,
 "nbformat_minor": 2
}
