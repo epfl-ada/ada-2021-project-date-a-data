{
 "cells": [
  {
   "cell_type": "code",
   "execution_count": 2,
   "id": "0f78f811-08e2-4056-81b2-0f07321d29ec",
   "metadata": {},
   "outputs": [],
   "source": [
    "import json\n",
    "import bz2\n",
    "import sys\n",
    "import os\n",
    "import pandas as pd\n",
    "import time"
   ]
  },
  {
   "cell_type": "code",
   "execution_count": 14,
   "id": "293cee0e-2547-4d6d-88ed-2be2962d6463",
   "metadata": {},
   "outputs": [
    {
     "name": "stdout",
     "output_type": "stream",
     "text": [
      "<class 'list'>\n",
      "['../data/quotes-2015.json-003.bz2', '../data/quotes-2016.json-002.bz2', '../data/quotes-2018.json-006.bz2', '../data/quotes-2019.json-004.bz2']\n"
     ]
    }
   ],
   "source": [
    "WIKI_DATA_FILTERED = 'filtered_politician.json.bz2'\n",
    "QUOTEBANK_POLITICIANS_WORLD= 'quotebank_politicians_world.json.bz2'\n",
    "QUOTEBANK_POLITICIANS_USA= 'quotebank_politicians_USA.json.bz2'\n",
    "quotebank_dir ='../data/'\n",
    "print(type(os.listdir(quotebank_dir)))\n",
    "quotebank_files=list( os.path.join(quotebank_dir,x) for x in os.listdir(quotebank_dir))\n",
    "print(quotebank_files)\n",
    "qids_df=pd.read_json(WIKI_DATA_FILTERED, lines=True)"
   ]
  },
  {
   "cell_type": "code",
   "execution_count": 42,
   "id": "cc589446-740f-4856-b0dc-263589eaf3cb",
   "metadata": {},
   "outputs": [
    {
     "name": "stdout",
     "output_type": "stream",
     "text": [
      "dumped 1 WORLD and 1 USA among 0 quotes in 0.09316515922546387s\n",
      "dumped 175 WORLD and 86 USA among 1000 quotes in 55.29328274726868s\n",
      "dumped 155 WORLD and 85 USA among 2000 quotes in 56.82584857940674s\n",
      "dumped 158 WORLD and 75 USA among 3000 quotes in 60.20851182937622s\n",
      "dumped 146 WORLD and 68 USA among 4000 quotes in 56.64293050765991s\n",
      "dumped 155 WORLD and 73 USA among 5000 quotes in 68.43807053565979s\n",
      "dumped 147 WORLD and 83 USA among 6000 quotes in 60.72544527053833s\n",
      "dumped 146 WORLD and 73 USA among 7000 quotes in 61.078824043273926s\n"
     ]
    },
    {
     "ename": "KeyboardInterrupt",
     "evalue": "",
     "output_type": "error",
     "traceback": [
      "\u001b[1;31m---------------------------------------------------------------------------\u001b[0m",
      "\u001b[1;31mKeyboardInterrupt\u001b[0m                         Traceback (most recent call last)",
      "\u001b[1;32m~\\AppData\\Local\\Temp/ipykernel_18888/2726920220.py\u001b[0m in \u001b[0;36m<module>\u001b[1;34m\u001b[0m\n\u001b[0;32m     17\u001b[0m                     \u001b[0mqids\u001b[0m\u001b[1;33m=\u001b[0m\u001b[0mquote\u001b[0m\u001b[1;33m.\u001b[0m\u001b[0mget\u001b[0m\u001b[1;33m(\u001b[0m\u001b[1;34m'qids'\u001b[0m\u001b[1;33m)\u001b[0m\u001b[1;33m\u001b[0m\u001b[1;33m\u001b[0m\u001b[0m\n\u001b[0;32m     18\u001b[0m                     \u001b[1;32mif\u001b[0m \u001b[0mlen\u001b[0m\u001b[1;33m(\u001b[0m\u001b[0mqids\u001b[0m\u001b[1;33m)\u001b[0m \u001b[1;33m!=\u001b[0m \u001b[1;36m0\u001b[0m\u001b[1;33m:\u001b[0m\u001b[1;33m\u001b[0m\u001b[1;33m\u001b[0m\u001b[0m\n\u001b[1;32m---> 19\u001b[1;33m                         \u001b[1;32mfor\u001b[0m \u001b[0mquote_qid\u001b[0m \u001b[1;32min\u001b[0m \u001b[0mqids\u001b[0m\u001b[1;33m:\u001b[0m\u001b[1;33m\u001b[0m\u001b[1;33m\u001b[0m\u001b[0m\n\u001b[0m\u001b[0;32m     20\u001b[0m                             \u001b[1;32mif\u001b[0m \u001b[0mquote_qid\u001b[0m \u001b[1;32min\u001b[0m \u001b[0mlist\u001b[0m\u001b[1;33m(\u001b[0m\u001b[0mqids_df\u001b[0m\u001b[1;33m.\u001b[0m\u001b[0mqid\u001b[0m\u001b[1;33m)\u001b[0m\u001b[1;33m:\u001b[0m\u001b[1;33m\u001b[0m\u001b[1;33m\u001b[0m\u001b[0m\n\u001b[0;32m     21\u001b[0m                                 \u001b[0mquote_world\u001b[0m\u001b[1;33m.\u001b[0m\u001b[0mappend\u001b[0m\u001b[1;33m(\u001b[0m\u001b[0mquote\u001b[0m\u001b[1;33m)\u001b[0m\u001b[1;33m\u001b[0m\u001b[1;33m\u001b[0m\u001b[0m\n",
      "\u001b[1;31mKeyboardInterrupt\u001b[0m: "
     ]
    }
   ],
   "source": [
    "os.remove(QUOTEBANK_POLITICIANS_WORLD)\n",
    "os.remove(QUOTEBANK_POLITICIANS_USA)\n",
    "sum_quotes_world, total_time, sum_quotes_usa=0,0,0\n",
    "\n",
    "\n",
    "\n",
    "with bz2.open(QUOTEBANK_POLITICIANS_WORLD, 'wb') as bzout_world:\n",
    "    with bz2.open(QUOTEBANK_POLITICIANS_USA, 'wb') as bzout_usa:\n",
    "        t1=time.time()\n",
    "        quote_world=[]\n",
    "        quote_usa=[]\n",
    "        for file in quotebank_files:\n",
    "            with bz2.open(file,'rt',encoding=\"utf8\") as bzin:\n",
    "                for i, item in enumerate(bzin):\n",
    "                    \n",
    "                    quote=json.loads(item)\n",
    "                    qids=quote.get('qids')\n",
    "                    if len(qids) != 0:\n",
    "                        for quote_qid in qids:\n",
    "                            if quote_qid in list(qids_df.qid):\n",
    "                                quote_world.append(quote)\n",
    "                                if qids_df.loc[qids_df.qid == quote_qid,'nationality'].values[0] == 'Q30':\n",
    "                                    quote_usa.append(quote)\n",
    "                                break #break as soon as one qid in is WIKI_DATA_FILTERED\n",
    "                    if i % 1000 == 0:\n",
    "                        bzout_world.write(('\\n'.join(map(json.dumps, quote_world))+'\\n').encode('utf-8'))\n",
    "                        bzout_usa.write(('\\n'.join(map(json.dumps, quote_usa))+'\\n').encode('utf-8'))\n",
    "                        t2=time.time()\n",
    "                        dt=t2-t1\n",
    "                        total_time += dt\n",
    "                        print(f'dumped {len(quote_world)} WORLD and {len(quote_usa)} USA among {i} quotes in {dt}s')\n",
    "                        t1=time.time()\n",
    "                        sum_quotes_world += len(quote_world)\n",
    "                        sum_quotes_usa += len(quote_usa)\n",
    "                        quote_world=[]\n",
    "                        quote_usa=[]\n",
    "    print(f'WORLD: total quotes: {sum_quotes_world} in {total_time}s')\n",
    "    print(f'USA: total quotes: {sum_quotes_usa} in {total_time}s')"
   ]
  },
  {
   "cell_type": "code",
   "execution_count": 45,
   "id": "ee050ee2-b2b1-43aa-8138-2b95ca7a31ec",
   "metadata": {},
   "outputs": [
    {
     "name": "stdout",
     "output_type": "stream",
     "text": [
      "{\"quoteID\": \"2015-08-31-000271\", \"quotation\": \"... a great day for veterans here in Littleton and all across the North Country. The men and women of our armed forces never fail our nation on the battlefield, and we must not fail them when they return home and enter civilian life.\", \"speaker\": \"Jeanne Shaheen\", \"qids\": [\"Q270316\"], \"date\": \"2015-08-31 02:10:00\", \"numOccurrences\": 2, \"probas\": [[\"Jeanne Shaheen\", \"0.742\"], [\"None\", \"0.2359\"], [\"Kelly Ayotte\", \"0.0221\"]], \"urls\": [\"http://www.unionleader.com/article/20150831/NEWS12/150839902&source=RSS\", \"http://unionleader.com/article/20150831/NEWS12/150839902\"], \"phase\": \"E\"}\n",
      "\n",
      "{\"quoteID\": \"2015-10-20-018726\", \"quotation\": \"confident that the courts ultimately will dismiss this taxpayer-funded political stunt, which would make healthcare more expensive for millions of Americans.\", \"speaker\": \"Katie Hill\", \"qids\": [\"Q58416634\", \"Q6377460\"], \"date\": \"2015-10-20 19:15:47\", \"numOccurrences\": 2, \"probas\": [[\"Katie Hill\", \"0.9393\"], [\"None\", \"0.0471\"], [\"John Boehner\", \"0.0136\"]], \"urls\": [\"http://www.modernhealthcare.com/article/20151020/NEWS/151029995/obama-loses-another-round-in-house-republicans-aca-lawsuit\", \"http://www.modernhealthcare.com/article/20151020/NEWS/151029995\"], \"phase\": \"E\"}\n",
      "\n",
      "{\"quoteID\": \"2015-11-04-040282\", \"quotation\": \"I get it. I mean, he wants this. He's clinging onto it. I get that. So let's just see.\", \"speaker\": \"Jackie Biskupski\", \"qids\": [\"Q1677269\"], \"date\": \"2015-11-04 17:23:30\", \"numOccurrences\": 2, \"probas\": [[\"Jackie Biskupski\", \"0.8895\"], [\"None\", \"0.0834\"], [\"Jim Dabakis\", \"0.0116\"], [\"Ted Wilson\", \"0.0055\"], [\"Ben McAdams\", \"0.0055\"], [\"Ralph Becker\", \"0.0045\"]], \"urls\": [\"http://ksl.com/?sid=37222158&nid=757&fm=most_popular&s_cid=popular-4\", \"http://ksl.com/?sid=37222158&nid=757&fm=most_popular&s_cid=popular-7\"], \"phase\": \"E\"}\n",
      "\n",
      "544\n"
     ]
    }
   ],
   "source": [
    "sumquote=0\n",
    "with bz2.open(QUOTEBANK_POLITICIANS_USA, 'rt', encoding='utf8') as bzin_usa:\n",
    "    for i, item in enumerate(bzin_usa):\n",
    "        sumquote+=1\n",
    "        if i%200 == 0: print(item)\n",
    "    print(sumquote)"
   ]
  }
 ],
 "metadata": {
  "interpreter": {
   "hash": "3b55f20b1d0618b20c2aa65a9063ea807c0869a2d017e9d59b50892a47715681"
  },
  "kernelspec": {
   "display_name": "Python 3.9.7 64-bit ('ADA': conda)",
   "name": "python3"
  },
  "language_info": {
   "codemirror_mode": {
    "name": "ipython",
    "version": 3
   },
   "file_extension": ".py",
   "mimetype": "text/x-python",
   "name": "python",
   "nbconvert_exporter": "python",
   "pygments_lexer": "ipython3",
   "version": "3.9.7"
  }
 },
 "nbformat": 4,
 "nbformat_minor": 5
}
