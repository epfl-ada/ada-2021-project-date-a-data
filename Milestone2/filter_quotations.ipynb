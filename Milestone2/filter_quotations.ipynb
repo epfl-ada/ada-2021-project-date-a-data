{
 "cells": [
  {
   "cell_type": "code",
   "execution_count": 88,
   "id": "0f78f811-08e2-4056-81b2-0f07321d29ec",
   "metadata": {},
   "outputs": [],
   "source": [
    "import json\n",
    "import bz2\n",
    "import sys\n",
    "import os\n",
    "import pandas as pd\n",
    "import time"
   ]
  },
  {
   "cell_type": "code",
   "execution_count": 81,
   "id": "293cee0e-2547-4d6d-88ed-2be2962d6463",
   "metadata": {},
   "outputs": [
    {
     "name": "stdout",
     "output_type": "stream",
     "text": [
      "<class 'list'>\n",
      "['../data/quotes-2015.json-003.bz2', '../data/quotes-2016.json-002.bz2', '../data/quotes-2018.json-006.bz2', '../data/quotes-2019.json-004.bz2']\n"
     ]
    }
   ],
   "source": [
    "WIKI_DATA_FILTERED = 'filtered_politician.json.bz2'\n",
    "QUOTEBANK_POLITICIANS_WORLD= 'quotebank_politicians_world.json.bz2'\n",
    "quotebank_dir ='../data/'\n",
    "print(type(os.listdir(quotebank_dir)))\n",
    "quotebank_files=list( os.path.join(quotebank_dir,x) for x in os.listdir(quotebank_dir))\n",
    "print(quotebank_files)\n",
    "qids_df=pd.read_json(WIKI_DATA_FILTERED, lines=True)"
   ]
  },
  {
   "cell_type": "code",
   "execution_count": 109,
   "id": "cc589446-740f-4856-b0dc-263589eaf3cb",
   "metadata": {},
   "outputs": [
    {
     "name": "stdout",
     "output_type": "stream",
     "text": [
      "dumped 1 in 0.06912875175476074s\n",
      "dumped 18 in 6.084204435348511s\n",
      "dumped 27 in 4.930691719055176s\n",
      "dumped 0 in 0.19843459129333496s\n",
      "dumped 14 in 4.520450115203857s\n",
      "dumped 19 in 4.95188307762146s\n",
      "dumped 0 in 0.0696876049041748s\n",
      "dumped 14 in 4.71810507774353s\n",
      "dumped 21 in 6.551970720291138s\n",
      "dumped 0 in 0.03864097595214844s\n",
      "dumped 11 in 7.434240818023682s\n",
      "dumped 22 in 6.607268571853638s\n",
      "total quotes: 147 in 46.17470645904541s\n"
     ]
    }
   ],
   "source": [
    "os.remove(QUOTEBANK_POLITICIANS_WORLD)\n",
    "sum_quotes=0\n",
    "total_time=0\n",
    "\n",
    "with bz2.open(QUOTEBANK_POLITICIANS_WORLD, 'wb') as bzout_world:\n",
    "    t1=time.time()\n",
    "    quote_world=[]\n",
    "    for file in quotebank_files:\n",
    "        with bz2.open(file,'rt',encoding=\"utf8\") as bzin:\n",
    "            for i, item in enumerate(bzin):\n",
    "                if i ==201: break\n",
    "                quote=json.loads(item)\n",
    "                qids=quote.get('qids')\n",
    "                if len(qids) != 0:\n",
    "                    #print(len(qids))\n",
    "                    for qid in qids:\n",
    "                        if qid in list(qids_df.qid):\n",
    "                            quote_world.append(quote)\n",
    "                            break #break as soon as one qid in is WIKI_DATA_FILTERED\n",
    "                if i % 100 == 0:\n",
    "                    bzout_world.write(('\\n'.join(map(json.dumps, quote_world))+'\\n').encode('utf-8'))\n",
    "                    t2=time.time()\n",
    "                    dt=t2-t1\n",
    "                    total_time += dt\n",
    "                    print(f'dumped {len(quote_world)} in {dt}s')\n",
    "                    t1=time.time()\n",
    "                    sum_quotes += len (quote_world)\n",
    "                    quote_world=[]\n",
    "    print(f'total quotes: {sum_quotes} in {total_time}s')"
   ]
  },
  {
   "cell_type": "code",
   "execution_count": 113,
   "id": "ee050ee2-b2b1-43aa-8138-2b95ca7a31ec",
   "metadata": {},
   "outputs": [
    {
     "name": "stdout",
     "output_type": "stream",
     "text": [
      "{\"quoteID\": \"2015-08-31-000271\", \"quotation\": \"... a great day for veterans here in Littleton and all across the North Country. The men and women of our armed forces never fail our nation on the battlefield, and we must not fail them when they return home and enter civilian life.\", \"speaker\": \"Jeanne Shaheen\", \"qids\": [\"Q270316\"], \"date\": \"2015-08-31 02:10:00\", \"numOccurrences\": 2, \"probas\": [[\"Jeanne Shaheen\", \"0.742\"], [\"None\", \"0.2359\"], [\"Kelly Ayotte\", \"0.0221\"]], \"urls\": [\"http://www.unionleader.com/article/20150831/NEWS12/150839902&source=RSS\", \"http://unionleader.com/article/20150831/NEWS12/150839902\"], \"phase\": \"E\"}\n",
      "\n",
      "{\"quoteID\": \"2015-06-16-000155\", \"quotation\": \"99.9 per cent of the time, a preferred option is recommended by staff.\", \"speaker\": \"Paula Fletcher\", \"qids\": [\"Q7154679\"], \"date\": \"2015-06-16 00:10:36\", \"numOccurrences\": 1, \"probas\": [[\"Paula Fletcher\", \"0.929\"], [\"None\", \"0.0678\"], [\"John Tory\", \"0.0018\"], [\"Jennifer Keesmaat\", \"0.0014\"]], \"urls\": [\"http://theglobeandmail.com/news/toronto/the-unstoppable-jennifer-keesmaat-how-the-gardiner-debate-exposed-the-rift-between-john-tory-and-the-chief-planner/article24949976\"], \"phase\": \"E\"}\n",
      "\n",
      "{\"quoteID\": \"2015-07-17-029255\", \"quotation\": \"I am incredibly pleased that my message is resonating with people all over the United States. There are so many American's that are ready to make our country great again, and I am the only one who can make it happen. We will bring back the jobs, bring back the money, and bring back the spirit!\", \"speaker\": \"Donald Trump\", \"qids\": [\"Q22686\", \"Q27947481\"], \"date\": \"2015-07-17 10:28:58\", \"numOccurrences\": 2, \"probas\": [[\"Donald Trump\", \"0.8415\"], [\"None\", \"0.1356\"], [\"Rand Paul\", \"0.0086\"], [\"Marco Rubio\", \"0.0021\"], [\"Chris Christie\", \"0.0017\"], [\"Scott Walker\", \"0.0017\"], [\"Jeb Bush\", \"0.0017\"], [\"Rick Santorum\", \"0.0016\"], [\"Mike Huckabee\", \"0.0016\"], [\"Ted Cruz\", \"0.0015\"], [\"Ben Carson\", \"0.0012\"], [\"John Kasich\", \"0.0012\"]], \"urls\": [\"http://washingtontimes.com/news/2015/jul/17/donald-trump-sits-atop-another-national-poll-2016-/\", \"http://p.washingtontimes.com/news/2015/jul/17/donald-trump-sits-atop-another-national-poll-2016-/\"], \"phase\": \"E\"}\n",
      "\n",
      "{\"quoteID\": \"2016-07-01-002778\", \"quotation\": \"A referendum does not mandate an organised political opposition-it simply requires a yes or no answer - one reason why both Napoleon and Hitler were enamoured of them.\", \"speaker\": \"Angela Merkel\", \"qids\": [\"Q567\"], \"date\": \"2016-07-01 03:09:00\", \"numOccurrences\": 2, \"probas\": [[\"Angela Merkel\", \"0.6647\"], [\"None\", \"0.273\"], [\"Marine Le Pen\", \"0.0624\"]], \"urls\": [\"http://express.co.uk/news/world/684282/Germany-Eu-referendum-Dexit-Brexit-Angela-Merkel-european-union\", \"http://forums.vr-zone.com/chit-chatting/3390747-merkel-worst-nightmare-germany-calls-referendum-people-want-free-eu-new-post.html\"], \"phase\": \"E\"}\n",
      "\n",
      "\n",
      "\n",
      "{\"quoteID\": \"2018-07-14-000601\", \"quotation\": \"a deliberate and calculated attempt to cause fear and raise tensions within our community.\", \"speaker\": \"Naomi Long\", \"qids\": [\"Q695272\"], \"date\": \"2018-07-14 00:00:00\", \"numOccurrences\": 1, \"probas\": [[\"Naomi Long\", \"0.942\"], [\"None\", \"0.0391\"], [\"Gerry Adams\", \"0.0189\"]], \"urls\": [\"http://euronews.com/2018/07/14/sinn-fein-slams-attacks-on-former-leaders-homes\"], \"phase\": \"E\"}\n",
      "\n",
      "{\"quoteID\": \"2019-10-09-000269\", \"quotation\": \"[ Khan ] has taken steps, such as the creation of a CPEC Authority [ a new oversight body ] on Monday to overcome those hurdles. The Prime Minister will brief his counterparts about the recent steps and how these steps will help in smoothing implementation of CPEC-related projects,\", \"speaker\": \"Shakeel Ahmad\", \"qids\": [\"Q7462693\"], \"date\": \"2019-10-09 09:10:55\", \"numOccurrences\": 1, \"probas\": [[\"Shakeel Ahmad\", \"0.4719\"], [\"Imran Khan\", \"0.3501\"], [\"None\", \"0.178\"]], \"urls\": [\"http://www.theedgemarkets.com/article/pakistani-prime-minister-imran-khan-seeks-chinese-support-over-kashmir-he-starts-beijing\"], \"phase\": \"E\"}\n",
      "\n",
      "{\"quoteID\": \"2019-02-15-053886\", \"quotation\": \"it might be awhile before we get there.\", \"speaker\": \"Gayle Goldin\", \"qids\": [\"Q16230722\"], \"date\": \"2019-02-15 05:04:55\", \"numOccurrences\": 1, \"probas\": [[\"Gayle Goldin\", \"0.9126\"], [\"None\", \"0.0874\"]], \"urls\": [\"http://feeds.browndailyherald.com/~r/BrownDailyHerald/~3/tfWOTh5BSMs/\"], \"phase\": \"E\"}\n",
      "\n",
      "150\n"
     ]
    }
   ],
   "source": [
    "sumquote=0\n",
    "with bz2.open(QUOTEBANK_POLITICIANS_WORLD, 'rt', encoding='utf8') as bzin_world:\n",
    "    for i, item in enumerate(bzin_world):\n",
    "        sumquote+=1\n",
    "        if i%20 == 0: print(item)\n",
    "    print(sumquote)"
   ]
  }
 ],
 "metadata": {
  "kernelspec": {
   "display_name": "Python 3 (ipykernel)",
   "language": "python",
   "name": "python3"
  },
  "language_info": {
   "codemirror_mode": {
    "name": "ipython",
    "version": 3
   },
   "file_extension": ".py",
   "mimetype": "text/x-python",
   "name": "python",
   "nbconvert_exporter": "python",
   "pygments_lexer": "ipython3",
   "version": "3.9.7"
  }
 },
 "nbformat": 4,
 "nbformat_minor": 5
}
