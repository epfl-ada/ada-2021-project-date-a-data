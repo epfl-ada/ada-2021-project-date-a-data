{
 "cells": [
  {
   "cell_type": "code",
   "execution_count": 1,
   "id": "0f78f811-08e2-4056-81b2-0f07321d29ec",
   "metadata": {},
   "outputs": [],
   "source": [
    "import json\n",
    "import bz2\n",
    "import sys\n",
    "import os\n",
    "import pandas as pd\n",
    "import time"
   ]
  },
  {
   "cell_type": "code",
   "execution_count": 233,
   "id": "293cee0e-2547-4d6d-88ed-2be2962d6463",
   "metadata": {},
   "outputs": [
    {
     "name": "stdout",
     "output_type": "stream",
     "text": [
      "<class 'list'>\n",
      "['../../data/quotes-2020.json.bz2']\n"
     ]
    }
   ],
   "source": [
    "WIKI_DATA_FILTERED = 'filtered_politician.json.bz2'\n",
    "QUOTEBANK_POLITICIANS_WORLD= 'quotebank_politicians_world.json.bz2'\n",
    "QUOTEBANK_POLITICIANS_USA= 'quotebank_politicians_USA.json.bz2'\n",
    "quotebank_dir ='../../data/'\n",
    "print(type(os.listdir(quotebank_dir)))\n",
    "quotebank_files=list( os.path.join(quotebank_dir,x) for x in os.listdir(quotebank_dir))\n",
    "print(quotebank_files)"
   ]
  },
  {
   "cell_type": "code",
   "execution_count": 234,
   "id": "8e0acde9",
   "metadata": {},
   "outputs": [
    {
     "data": {
      "text/html": [
       "<div>\n",
       "<style scoped>\n",
       "    .dataframe tbody tr th:only-of-type {\n",
       "        vertical-align: middle;\n",
       "    }\n",
       "\n",
       "    .dataframe tbody tr th {\n",
       "        vertical-align: top;\n",
       "    }\n",
       "\n",
       "    .dataframe thead th {\n",
       "        text-align: right;\n",
       "    }\n",
       "</style>\n",
       "<table border=\"1\" class=\"dataframe\">\n",
       "  <thead>\n",
       "    <tr style=\"text-align: right;\">\n",
       "      <th></th>\n",
       "      <th>qid</th>\n",
       "      <th>name</th>\n",
       "      <th>nationality</th>\n",
       "    </tr>\n",
       "  </thead>\n",
       "  <tbody>\n",
       "    <tr>\n",
       "      <th>0</th>\n",
       "      <td>Q207</td>\n",
       "      <td>George W. Bush</td>\n",
       "      <td>Q30</td>\n",
       "    </tr>\n",
       "    <tr>\n",
       "      <th>1</th>\n",
       "      <td>Q946</td>\n",
       "      <td>Donald Tusk</td>\n",
       "      <td>Q36</td>\n",
       "    </tr>\n",
       "    <tr>\n",
       "      <th>2</th>\n",
       "      <td>Q1058</td>\n",
       "      <td>Narendra Modi</td>\n",
       "      <td>Q668</td>\n",
       "    </tr>\n",
       "    <tr>\n",
       "      <th>3</th>\n",
       "      <td>Q1253</td>\n",
       "      <td>Ban Ki-moon</td>\n",
       "      <td>Q884</td>\n",
       "    </tr>\n",
       "    <tr>\n",
       "      <th>4</th>\n",
       "      <td>Q3996</td>\n",
       "      <td>V. P. Kalairajan</td>\n",
       "      <td>Q668</td>\n",
       "    </tr>\n",
       "  </tbody>\n",
       "</table>\n",
       "</div>"
      ],
      "text/plain": [
       "     qid              name nationality\n",
       "0   Q207    George W. Bush         Q30\n",
       "1   Q946       Donald Tusk         Q36\n",
       "2  Q1058     Narendra Modi        Q668\n",
       "3  Q1253       Ban Ki-moon        Q884\n",
       "4  Q3996  V. P. Kalairajan        Q668"
      ]
     },
     "execution_count": 234,
     "metadata": {},
     "output_type": "execute_result"
    }
   ],
   "source": [
    "qids_df=pd.read_json(WIKI_DATA_FILTERED, lines=True)\n",
    "qids_df.head()"
   ]
  },
  {
   "cell_type": "code",
   "execution_count": 235,
   "id": "86592cd1",
   "metadata": {},
   "outputs": [
    {
     "data": {
      "text/html": [
       "<div>\n",
       "<style scoped>\n",
       "    .dataframe tbody tr th:only-of-type {\n",
       "        vertical-align: middle;\n",
       "    }\n",
       "\n",
       "    .dataframe tbody tr th {\n",
       "        vertical-align: top;\n",
       "    }\n",
       "\n",
       "    .dataframe thead th {\n",
       "        text-align: right;\n",
       "    }\n",
       "</style>\n",
       "<table border=\"1\" class=\"dataframe\">\n",
       "  <thead>\n",
       "    <tr style=\"text-align: right;\">\n",
       "      <th></th>\n",
       "      <th>qid</th>\n",
       "      <th>name</th>\n",
       "      <th>nationality</th>\n",
       "    </tr>\n",
       "  </thead>\n",
       "  <tbody>\n",
       "    <tr>\n",
       "      <th>0</th>\n",
       "      <td>Q207</td>\n",
       "      <td>George W. Bush</td>\n",
       "      <td>Q30</td>\n",
       "    </tr>\n",
       "    <tr>\n",
       "      <th>5</th>\n",
       "      <td>Q4496</td>\n",
       "      <td>Mitt Romney</td>\n",
       "      <td>Q30</td>\n",
       "    </tr>\n",
       "    <tr>\n",
       "      <th>7</th>\n",
       "      <td>Q11124</td>\n",
       "      <td>Stephen Breyer</td>\n",
       "      <td>Q30</td>\n",
       "    </tr>\n",
       "    <tr>\n",
       "      <th>9</th>\n",
       "      <td>Q11674</td>\n",
       "      <td>David Paterson</td>\n",
       "      <td>Q30</td>\n",
       "    </tr>\n",
       "    <tr>\n",
       "      <th>23</th>\n",
       "      <td>Q22201</td>\n",
       "      <td>Jim DeMint</td>\n",
       "      <td>Q30</td>\n",
       "    </tr>\n",
       "  </tbody>\n",
       "</table>\n",
       "</div>"
      ],
      "text/plain": [
       "       qid            name nationality\n",
       "0     Q207  George W. Bush         Q30\n",
       "5    Q4496     Mitt Romney         Q30\n",
       "7   Q11124  Stephen Breyer         Q30\n",
       "9   Q11674  David Paterson         Q30\n",
       "23  Q22201      Jim DeMint         Q30"
      ]
     },
     "execution_count": 235,
     "metadata": {},
     "output_type": "execute_result"
    }
   ],
   "source": [
    "qids_us_df = qids_df[qids_df['nationality']=='Q30']\n",
    "qids_us_df.head()"
   ]
  },
  {
   "cell_type": "code",
   "execution_count": 236,
   "id": "c526d1a9",
   "metadata": {},
   "outputs": [],
   "source": [
    "qid_list = list(qids_df.qid)\n",
    "qid_list_us = list(qids_us_df.qid)"
   ]
  },
  {
   "cell_type": "code",
   "execution_count": 237,
   "id": "4bc76bd3",
   "metadata": {
    "scrolled": true
   },
   "outputs": [
    {
     "name": "stdout",
     "output_type": "stream",
     "text": [
      "1\n",
      "Dumped 15531 political quotations and 7678 US political quotations among 100000 quotations [quotations/s: 10019.58]\n",
      "2\n",
      "Dumped 15481 political quotations and 7693 US political quotations among 200000 quotations [quotations/s: 18201.97]\n",
      "3\n",
      "Dumped 15381 political quotations and 7628 US political quotations among 300000 quotations [quotations/s: 23765.77]\n",
      "4\n",
      "Dumped 15521 political quotations and 7545 US political quotations among 400000 quotations [quotations/s: 34074.78]\n",
      "5\n",
      "Dumped 15397 political quotations and 7465 US political quotations among 500000 quotations [quotations/s: 46660.20]\n",
      "6\n",
      "Dumped 15438 political quotations and 7691 US political quotations among 600000 quotations [quotations/s: 54923.40]\n",
      "7\n",
      "Dumped 15474 political quotations and 7669 US political quotations among 700000 quotations [quotations/s: 64093.94]\n",
      "8\n",
      "Dumped 15401 political quotations and 7726 US political quotations among 800000 quotations [quotations/s: 70015.10]\n",
      "9\n",
      "Dumped 15543 political quotations and 7589 US political quotations among 900000 quotations [quotations/s: 80466.89]\n",
      "10\n",
      "Dumped 15565 political quotations and 7669 US political quotations among 1000000 quotations [quotations/s: 82483.16]\n",
      "11\n",
      "Dumped 15309 political quotations and 7534 US political quotations among 1100000 quotations [quotations/s: 88994.79]\n",
      "12\n",
      "Dumped 15581 political quotations and 7671 US political quotations among 1200000 quotations [quotations/s: 106254.40]\n",
      "13\n",
      "Dumped 15550 political quotations and 7782 US political quotations among 1300000 quotations [quotations/s: 126289.97]\n",
      "14\n",
      "Dumped 15515 political quotations and 7710 US political quotations among 1400000 quotations [quotations/s: 126209.20]\n",
      "15\n",
      "Dumped 15572 political quotations and 7764 US political quotations among 1500000 quotations [quotations/s: 140303.69]\n",
      "16\n",
      "Dumped 15484 political quotations and 7586 US political quotations among 1600000 quotations [quotations/s: 150701.20]\n",
      "17\n",
      "Dumped 15447 political quotations and 7576 US political quotations among 1700000 quotations [quotations/s: 161662.79]\n",
      "18\n",
      "Dumped 15688 political quotations and 7797 US political quotations among 1800000 quotations [quotations/s: 153515.46]\n",
      "19\n",
      "Dumped 15437 political quotations and 7565 US political quotations among 1900000 quotations [quotations/s: 182147.93]\n",
      "20\n",
      "Dumped 15441 political quotations and 7710 US political quotations among 2000000 quotations [quotations/s: 189420.76]\n",
      "21\n",
      "Dumped 15458 political quotations and 7685 US political quotations among 2100000 quotations [quotations/s: 196533.74]\n",
      "22\n",
      "Dumped 15420 political quotations and 7596 US political quotations among 2200000 quotations [quotations/s: 210690.64]\n",
      "23\n",
      "Dumped 15471 political quotations and 7696 US political quotations among 2300000 quotations [quotations/s: 211719.91]\n",
      "24\n",
      "Dumped 15338 political quotations and 7604 US political quotations among 2400000 quotations [quotations/s: 227738.25]\n",
      "25\n",
      "Dumped 15621 political quotations and 7600 US political quotations among 2500000 quotations [quotations/s: 236370.58]\n",
      "26\n",
      "Dumped 15348 political quotations and 7607 US political quotations among 2600000 quotations [quotations/s: 239704.84]\n",
      "27\n",
      "Dumped 15412 political quotations and 7637 US political quotations among 2700000 quotations [quotations/s: 259614.22]\n",
      "28\n",
      "Dumped 15476 political quotations and 7626 US political quotations among 2800000 quotations [quotations/s: 273332.63]\n",
      "29\n",
      "Dumped 15588 political quotations and 7667 US political quotations among 2900000 quotations [quotations/s: 258338.88]\n",
      "30\n",
      "Dumped 15549 political quotations and 7545 US political quotations among 3000000 quotations [quotations/s: 283767.73]\n",
      "31\n",
      "Dumped 15523 political quotations and 7733 US political quotations among 3100000 quotations [quotations/s: 279643.42]\n",
      "32\n",
      "Dumped 15647 political quotations and 7717 US political quotations among 3200000 quotations [quotations/s: 298199.81]\n",
      "33\n",
      "Dumped 15590 political quotations and 7772 US political quotations among 3300000 quotations [quotations/s: 278217.60]\n",
      "34\n",
      "Dumped 15463 political quotations and 7672 US political quotations among 3400000 quotations [quotations/s: 233236.45]\n",
      "35\n",
      "Dumped 15563 political quotations and 7661 US political quotations among 3500000 quotations [quotations/s: 340598.35]\n",
      "36\n",
      "Dumped 15375 political quotations and 7619 US political quotations among 3600000 quotations [quotations/s: 330679.14]\n",
      "37\n",
      "Dumped 15612 political quotations and 7719 US political quotations among 3700000 quotations [quotations/s: 340307.64]\n",
      "38\n",
      "Dumped 15740 political quotations and 7724 US political quotations among 3800000 quotations [quotations/s: 367133.01]\n",
      "39\n",
      "Dumped 15521 political quotations and 7749 US political quotations among 3900000 quotations [quotations/s: 356205.26]\n",
      "40\n",
      "Dumped 15636 political quotations and 7780 US political quotations among 4000000 quotations [quotations/s: 358896.71]\n",
      "41\n",
      "Dumped 15551 political quotations and 7758 US political quotations among 4100000 quotations [quotations/s: 394218.82]\n",
      "42\n",
      "Dumped 15533 political quotations and 7673 US political quotations among 4200000 quotations [quotations/s: 404085.07]\n",
      "43\n",
      "Dumped 15513 political quotations and 7780 US political quotations among 4300000 quotations [quotations/s: 414784.62]\n",
      "44\n",
      "Dumped 15475 political quotations and 7644 US political quotations among 4400000 quotations [quotations/s: 417497.75]\n",
      "45\n",
      "Dumped 15416 political quotations and 7639 US political quotations among 4500000 quotations [quotations/s: 442612.72]\n",
      "46\n",
      "Dumped 15512 political quotations and 7695 US political quotations among 4600000 quotations [quotations/s: 423242.03]\n",
      "47\n",
      "Dumped 15568 political quotations and 7759 US political quotations among 4700000 quotations [quotations/s: 400700.59]\n",
      "48\n",
      "Dumped 15398 political quotations and 7634 US political quotations among 4800000 quotations [quotations/s: 471548.72]\n",
      "49\n",
      "Dumped 15607 political quotations and 7707 US political quotations among 4900000 quotations [quotations/s: 446858.54]\n",
      "50\n",
      "Dumped 15521 political quotations and 7609 US political quotations among 5000000 quotations [quotations/s: 441419.10]\n",
      "51\n",
      "Dumped 15548 political quotations and 7611 US political quotations among 5100000 quotations [quotations/s: 480721.83]\n",
      "52\n",
      "Dumped 15285 political quotations and 7603 US political quotations among 5200000 quotations [quotations/s: 515347.17]\n",
      "53\n",
      "Dumped 6866 political quotations and 3422 US political quotations among 5300000 quotations [quotations/s: 928000.95]\n"
     ]
    }
   ],
   "source": [
    "CHUNKSIZE = 100000\n",
    "try:\n",
    "    os.remove(QUOTEBANK_POLITICIANS_WORLD)\n",
    "    os.remove(QUOTEBANK_POLITICIANS_USA)\n",
    "except:\n",
    "    pass\n",
    "total_time, sum_quotes_world, sum_quotes_usa, chunk_number=0,0,0,0\n",
    "\n",
    "with bz2.open(QUOTEBANK_POLITICIANS_WORLD, 'wb') as bzout_world:\n",
    "    with bz2.open(QUOTEBANK_POLITICIANS_USA, 'wb') as bzout_usa:\n",
    "        for file in quotebank_files:\n",
    "            with pd.read_json(file, lines=True, compression='bz2', chunksize=CHUNKSIZE) as df_reader:\n",
    "                for chunk in df_reader:\n",
    "                    t1=time.time()\n",
    "                    chunk_not_empty = chunk['qids'].apply(lambda x: len(x)) != 0\n",
    "                    chunk_politician = chunk[chunk_not_empty]['qids'].apply(lambda x: x[0]).isin(qid_list)\n",
    "                    chunk_politician_us = chunk[chunk_not_empty]['qids'].apply(lambda x: x[0]).isin(qid_list_us)\n",
    "                    quote_world = chunk[chunk_not_empty & chunk_politician]\n",
    "                    quote_usa = chunk[chunk_not_empty & chunk_politician_us]\n",
    "                    quote_world.to_json(path_or_buf=bzout_world,orient='records',lines=True)\n",
    "                    quote_usa.to_json(path_or_buf=bzout_usa,orient='records',lines=True)\n",
    "                    sum_quotes_world += len(quote_world)\n",
    "                    sum_quotes_usa += len(quote_usa)\n",
    "                    t2=time.time()\n",
    "                    dt=t2-t1\n",
    "                    total_time += dt\n",
    "                    chunk_number += 1\n",
    "                    print(chunk_number)\n",
    "                    print(\"Dumped {} political quotations and {} US political quotations among {} quotations [quotations/s: {:.2f}]\".format(len(quote_world), len(quote_usa), chunk_number*CHUNKSIZE, sum_quotes_world / dt))\n",
    "                    "
   ]
  },
  {
   "cell_type": "code",
   "execution_count": 238,
   "id": "3e906505",
   "metadata": {},
   "outputs": [
    {
     "name": "stdout",
     "output_type": "stream",
     "text": [
      "WORLD: total quotes: 812900 in 88.9895088672638s\n",
      "USA: total quotes: 401991 in 88.9895088672638s\n"
     ]
    }
   ],
   "source": [
    "print(f'WORLD: total quotes: {sum_quotes_world} in {total_time}s')\n",
    "print(f'USA: total quotes: {sum_quotes_usa} in {total_time}s')"
   ]
  },
  {
   "cell_type": "code",
   "execution_count": 45,
   "id": "ee050ee2-b2b1-43aa-8138-2b95ca7a31ec",
   "metadata": {
    "scrolled": true
   },
   "outputs": [
    {
     "name": "stdout",
     "output_type": "stream",
     "text": [
      "{\"quoteID\": \"2015-08-31-000271\", \"quotation\": \"... a great day for veterans here in Littleton and all across the North Country. The men and women of our armed forces never fail our nation on the battlefield, and we must not fail them when they return home and enter civilian life.\", \"speaker\": \"Jeanne Shaheen\", \"qids\": [\"Q270316\"], \"date\": \"2015-08-31 02:10:00\", \"numOccurrences\": 2, \"probas\": [[\"Jeanne Shaheen\", \"0.742\"], [\"None\", \"0.2359\"], [\"Kelly Ayotte\", \"0.0221\"]], \"urls\": [\"http://www.unionleader.com/article/20150831/NEWS12/150839902&source=RSS\", \"http://unionleader.com/article/20150831/NEWS12/150839902\"], \"phase\": \"E\"}\n",
      "\n",
      "{\"quoteID\": \"2015-10-20-018726\", \"quotation\": \"confident that the courts ultimately will dismiss this taxpayer-funded political stunt, which would make healthcare more expensive for millions of Americans.\", \"speaker\": \"Katie Hill\", \"qids\": [\"Q58416634\", \"Q6377460\"], \"date\": \"2015-10-20 19:15:47\", \"numOccurrences\": 2, \"probas\": [[\"Katie Hill\", \"0.9393\"], [\"None\", \"0.0471\"], [\"John Boehner\", \"0.0136\"]], \"urls\": [\"http://www.modernhealthcare.com/article/20151020/NEWS/151029995/obama-loses-another-round-in-house-republicans-aca-lawsuit\", \"http://www.modernhealthcare.com/article/20151020/NEWS/151029995\"], \"phase\": \"E\"}\n",
      "\n",
      "{\"quoteID\": \"2015-11-04-040282\", \"quotation\": \"I get it. I mean, he wants this. He's clinging onto it. I get that. So let's just see.\", \"speaker\": \"Jackie Biskupski\", \"qids\": [\"Q1677269\"], \"date\": \"2015-11-04 17:23:30\", \"numOccurrences\": 2, \"probas\": [[\"Jackie Biskupski\", \"0.8895\"], [\"None\", \"0.0834\"], [\"Jim Dabakis\", \"0.0116\"], [\"Ted Wilson\", \"0.0055\"], [\"Ben McAdams\", \"0.0055\"], [\"Ralph Becker\", \"0.0045\"]], \"urls\": [\"http://ksl.com/?sid=37222158&nid=757&fm=most_popular&s_cid=popular-4\", \"http://ksl.com/?sid=37222158&nid=757&fm=most_popular&s_cid=popular-7\"], \"phase\": \"E\"}\n",
      "\n",
      "544\n"
     ]
    }
   ],
   "source": [
    "sumquote=0\n",
    "with bz2.open(QUOTEBANK_POLITICIANS_USA, 'rt', encoding='utf8') as bzin_usa:\n",
    "    for i, item in enumerate(bzin_usa):\n",
    "        sumquote+=1\n",
    "        if i%200 == 0: print(item)\n",
    "    print(sumquote)"
   ]
  }
 ],
 "metadata": {
  "interpreter": {
   "hash": "3b55f20b1d0618b20c2aa65a9063ea807c0869a2d017e9d59b50892a47715681"
  },
  "kernelspec": {
   "display_name": "Python 3 (ipykernel)",
   "language": "python",
   "name": "python3"
  },
  "language_info": {
   "codemirror_mode": {
    "name": "ipython",
    "version": 3
   },
   "file_extension": ".py",
   "mimetype": "text/x-python",
   "name": "python",
   "nbconvert_exporter": "python",
   "pygments_lexer": "ipython3",
   "version": "3.8.8"
  }
 },
 "nbformat": 4,
 "nbformat_minor": 5
}
