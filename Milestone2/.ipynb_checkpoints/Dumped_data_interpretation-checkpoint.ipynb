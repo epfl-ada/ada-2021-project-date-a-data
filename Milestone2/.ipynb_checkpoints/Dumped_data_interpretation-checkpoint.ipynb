{
 "cells": [
  {
   "cell_type": "markdown",
   "id": "99a5813c",
   "metadata": {},
   "source": [
    "# Description\n",
    "This script interpreted the qids in the filtered politician entititie dump from the small quotebank qid catalogue.\n",
    "The script works in the pipeline:\n",
    "1. Load the filtred wikidata json dump in chunks\n",
    "2. Go through record's columns and interpret the QIDs from the label field in the catalogue.\n",
    "3. The interpretation is done in 3 ways\n",
    "    <br>single qid interpretation (gender)<br>\n",
    "    list qid interpretation (candidacy_election, parties)<br>\n",
    "    list in list qid interpretatio(position_held)\n",
    "4. Dump the interpreted data into a new json file\n",
    "5. Dump the unrecognized QIDs into a log file\n",
    "\n",
    "# Required package\n",
    "[json](https://docs.python.org/3/library/json.html)\n",
    "[bz2](https://docs.python.org/3/library/bz2.html)"
   ]
  },
  {
   "cell_type": "code",
   "execution_count": 11,
   "id": "d6cc59d3",
   "metadata": {},
   "outputs": [],
   "source": [
    "import pandas as pd\n",
    "import bz2\n",
    "import time"
   ]
  },
  {
   "cell_type": "code",
   "execution_count": 9,
   "id": "78b0468d",
   "metadata": {},
   "outputs": [],
   "source": [
    "Q_catalogue = pd.read_csv('../../wikidata_labels_descriptions_quotebank.csv.bz2', compression='bz2', index_col='QID')\n",
    "WIKI_DATA_FILTERED = '../../filtered_politician_v2.json.bz2' #path to filtered wiki data dump\n",
    "WIKI_DATA_FILTERED_LABELED = '../../filtered_politician_labeled_v2.json.bz2' #path to filtered wikidata with interpretations\n",
    "WIKI_DATA_FILTERED_MISSINGQ = '../../filtered_politician_missingqids_v2.json.bz2'  #path to missing QIDs in small catalogue gile"
   ]
  },
  {
   "cell_type": "code",
   "execution_count": 4,
   "id": "15c204d1",
   "metadata": {},
   "outputs": [],
   "source": [
    "def single_interpret(x):\n",
    "    \"\"\"\n",
    "    Function for single value interpretation. e.g. qid Record undocumented QIDs if not already recorded.\n",
    "    \"\"\"\n",
    "    try:\n",
    "        return Q_catalogue.loc[x]['Label']\n",
    "    except KeyError as e:\n",
    "        if (x not in Unrecorded_Q):\n",
    "            Unrecorded_Q.append(x)\n",
    "        return x"
   ]
  },
  {
   "cell_type": "code",
   "execution_count": 5,
   "id": "3766f25b",
   "metadata": {},
   "outputs": [],
   "source": [
    "def listlist_interpret(x):\n",
    "    \"\"\"\n",
    "    Function for list interpretation. e.g. [[qid1,time1-1,time1-2],[qid2,time2-1,time2-2] Record undocumented QIDs if not already recorded.\n",
    "    \"\"\"\n",
    "    tmp = []\n",
    "    for i in x:\n",
    "        tmp1 = []\n",
    "        try:\n",
    "            tmp1.append(Q_catalogue.loc[i[0]]['Label'])\n",
    "        except KeyError as e:\n",
    "            tmp.append(i[0])\n",
    "            if (i[0] not in Unrecorded_Q):\n",
    "                Unrecorded_Q.append(i[0])\n",
    "        tmp1.append(i[1:2])\n",
    "        tmp.append(tmp1)\n",
    "    return tmp"
   ]
  },
  {
   "cell_type": "code",
   "execution_count": 6,
   "id": "dfed7782",
   "metadata": {},
   "outputs": [],
   "source": [
    "def list_interpret(x):\n",
    "    \"\"\"\n",
    "    Function for list interpretation. e.g. [qid1,qid2] Record undocumented QIDs if not already recorded.\n",
    "    \"\"\"\n",
    "    tmp = []\n",
    "    for i in x:\n",
    "        try:\n",
    "            tmp.append(Q_catalogue.loc[i]['Label'])\n",
    "        except KeyError as e:\n",
    "            tmp.append(i)\n",
    "            if (i not in Unrecorded_Q):\n",
    "                Unrecorded_Q.append(i)\n",
    "    return tmp"
   ]
  },
  {
   "cell_type": "code",
   "execution_count": 12,
   "id": "c36acdb4",
   "metadata": {
    "scrolled": true
   },
   "outputs": [
    {
     "name": "stdout",
     "output_type": "stream",
     "text": [
      "Interpreted 10000 records and found 3418 undocumented qids [records/s: 6184.60]\n",
      "Interpreted 10000 records and found 5127 undocumented qids [records/s: 6918.81]\n",
      "Interpreted 10000 records and found 15559 undocumented qids [records/s: 2556.90]\n",
      "Interpreted 10000 records and found 29334 undocumented qids [records/s: 704.49]\n",
      "Interpreted 10000 records and found 30301 undocumented qids [records/s: 5676.16]\n",
      "Interpreted 10000 records and found 41719 undocumented qids [records/s: 462.67]\n",
      "Interpreted 10000 records and found 50504 undocumented qids [records/s: 940.55]\n",
      "Interpreted 10000 records and found 51566 undocumented qids [records/s: 3957.33]\n",
      "Interpreted 10000 records and found 56791 undocumented qids [records/s: 538.32]\n",
      "Interpreted 10000 records and found 66978 undocumented qids [records/s: 601.98]\n",
      "Interpreted 10000 records and found 74167 undocumented qids [records/s: 249.36]\n",
      "Interpreted 10000 records and found 75039 undocumented qids [records/s: 2581.66]\n",
      "Interpreted 10000 records and found 82208 undocumented qids [records/s: 528.98]\n",
      "Interpreted 10000 records and found 85398 undocumented qids [records/s: 1121.79]\n",
      "Interpreted 10000 records and found 85894 undocumented qids [records/s: 3925.20]\n",
      "Interpreted 10000 records and found 87456 undocumented qids [records/s: 1369.08]\n",
      "Interpreted 10000 records and found 95383 undocumented qids [records/s: 314.04]\n",
      "Interpreted 10000 records and found 96027 undocumented qids [records/s: 2466.66]\n",
      "Interpreted 10000 records and found 100707 undocumented qids [records/s: 238.60]\n",
      "Interpreted 10000 records and found 107976 undocumented qids [records/s: 239.39]\n",
      "Interpreted 10000 records and found 109044 undocumented qids [records/s: 1291.38]\n",
      "Interpreted 10000 records and found 109425 undocumented qids [records/s: 2985.72]\n",
      "Interpreted 10000 records and found 113619 undocumented qids [records/s: 305.52]\n",
      "Interpreted 10000 records and found 116928 undocumented qids [records/s: 353.83]\n",
      "Interpreted 10000 records and found 117380 undocumented qids [records/s: 2201.61]\n",
      "Interpreted 10000 records and found 118590 undocumented qids [records/s: 726.25]\n",
      "Interpreted 10000 records and found 123801 undocumented qids [records/s: 186.15]\n"
     ]
    }
   ],
   "source": [
    "CHUNKSIZE = 10000\n",
    "Unrecorded_Q = []\n",
    "with bz2.open(WIKI_DATA_FILTERED_LABELED, 'wb') as out_path_labeled:\n",
    "    with bz2.open(WIKI_DATA_FILTERED_MISSINGQ, 'wb') as out_path_missingq:\n",
    "        with pd.read_json(WIKI_DATA_FILTERED, lines=True, compression='bz2', chunksize=CHUNKSIZE) as df_reader:\n",
    "            for chunk in df_reader:\n",
    "                t1=time.time()\n",
    "                chunk['gender'] = chunk['gender'].apply(single_interpret)\n",
    "                chunk['parties'] = chunk['parties'].apply(list_interpret)\n",
    "                chunk['candidacy_election'] = chunk['candidacy_election'].apply(list_interpret)\n",
    "                #chunk['religion'] = chunk['religion'].apply(list_interpret)\n",
    "                #religion property in wikipedia is messed up with instances like churches, shrines etc. better filter this another way\n",
    "                try:\n",
    "                    chunk['positions held'] = chunk['positions held'].apply(listlist_interpret)\n",
    "                except:\n",
    "                    chunk['positions held'] = chunk['positions held'].apply(list_interpret)\n",
    "                chunk.to_json(path_or_buf=out_path_labeled,orient='records',lines=True)\n",
    "                t2=time.time()\n",
    "                dt=t2-t1\n",
    "                print(\"Interpreted {} records and found {} undocumented qids [records/s: {:.2f}]\".format(CHUNKSIZE,len(Unrecorded_Q), CHUNKSIZE / dt))\n",
    "            pd.DataFrame(Unrecorded_Q).to_json(path_or_buf=out_path_missingq,orient='records',lines=True)"
   ]
  },
  {
   "cell_type": "code",
   "execution_count": 14,
   "id": "99b781d9",
   "metadata": {},
   "outputs": [
    {
     "name": "stdout",
     "output_type": "stream",
     "text": [
      "Found 123801 undocumented qids in total, which need to be queryed with full wikidata label catalogue. #NOTE: Religion field is not interpreted here.\n"
     ]
    }
   ],
   "source": [
    "print(f'Found {len(Unrecorded_Q)} undocumented qids in total, which need to be queryed with full wikidata label catalogue. #NOTE: Religion field is not interpreted here.')"
   ]
  }
 ],
 "metadata": {
  "kernelspec": {
   "display_name": "Python 3 (ipykernel)",
   "language": "python",
   "name": "python3"
  },
  "language_info": {
   "codemirror_mode": {
    "name": "ipython",
    "version": 3
   },
   "file_extension": ".py",
   "mimetype": "text/x-python",
   "name": "python",
   "nbconvert_exporter": "python",
   "pygments_lexer": "ipython3",
   "version": "3.8.8"
  }
 },
 "nbformat": 4,
 "nbformat_minor": 5
}
