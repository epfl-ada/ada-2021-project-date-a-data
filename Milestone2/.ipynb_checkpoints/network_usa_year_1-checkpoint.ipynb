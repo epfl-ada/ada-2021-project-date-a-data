{
 "cells": [
  {
   "cell_type": "code",
   "execution_count": 1,
   "metadata": {},
   "outputs": [],
   "source": [
    "import json\n",
    "import bz2\n",
    "import sys\n",
    "import os\n",
    "import numpy as np\n",
    "import pandas as pd\n",
    "import networkx as nx\n",
    "import networkx.algorithms.community as community\n",
    "from chart_studio import plotly\n",
    "from plotly.offline import iplot\n",
    "import plotly.graph_objs as go\n",
    "from collections import Counter\n",
    "import matplotlib.pyplot as plt\n",
    "import seaborn as sns\n",
    "from scipy.stats import spearmanr"
   ]
  },
  {
   "cell_type": "markdown",
   "metadata": {},
   "source": [
    "loading catalogue and usa policitians mentions:"
   ]
  },
  {
   "cell_type": "code",
   "execution_count": 3,
   "metadata": {},
   "outputs": [
    {
     "data": {
      "text/html": [
       "<div>\n",
       "<style scoped>\n",
       "    .dataframe tbody tr th:only-of-type {\n",
       "        vertical-align: middle;\n",
       "    }\n",
       "\n",
       "    .dataframe tbody tr th {\n",
       "        vertical-align: top;\n",
       "    }\n",
       "\n",
       "    .dataframe thead th {\n",
       "        text-align: right;\n",
       "    }\n",
       "</style>\n",
       "<table border=\"1\" class=\"dataframe\">\n",
       "  <thead>\n",
       "    <tr style=\"text-align: right;\">\n",
       "      <th></th>\n",
       "      <th>qid</th>\n",
       "      <th>name</th>\n",
       "      <th>gender</th>\n",
       "      <th>nationality</th>\n",
       "      <th>aliases</th>\n",
       "      <th>parties</th>\n",
       "      <th>positions held</th>\n",
       "      <th>religion</th>\n",
       "      <th>us_congress_id</th>\n",
       "      <th>candidacy_election</th>\n",
       "      <th>State</th>\n",
       "    </tr>\n",
       "  </thead>\n",
       "  <tbody>\n",
       "    <tr>\n",
       "      <th>0</th>\n",
       "      <td>Q207</td>\n",
       "      <td>George W. Bush</td>\n",
       "      <td>male</td>\n",
       "      <td>Q30</td>\n",
       "      <td>[George Walker Bush, Bush Jr., Dubya, GWB, Bus...</td>\n",
       "      <td>[Republican Party]</td>\n",
       "      <td>[[Governor of Texas, [+1995-01-17T00:00:00Z]],...</td>\n",
       "      <td>Q329646</td>\n",
       "      <td></td>\n",
       "      <td>[2000 United States presidential election, 200...</td>\n",
       "      <td>Texas</td>\n",
       "    </tr>\n",
       "    <tr>\n",
       "      <th>1</th>\n",
       "      <td>Q4496</td>\n",
       "      <td>Mitt Romney</td>\n",
       "      <td>male</td>\n",
       "      <td>Q30</td>\n",
       "      <td>[Willard Mitt Romney, Pierre Delecto]</td>\n",
       "      <td>[Republican Party]</td>\n",
       "      <td>[[Governor of Massachusetts, [+2003-01-02T00:0...</td>\n",
       "      <td>Q42504</td>\n",
       "      <td>R000615</td>\n",
       "      <td>[2012 Republican Party presidential primaries,...</td>\n",
       "      <td>Massachusetts</td>\n",
       "    </tr>\n",
       "    <tr>\n",
       "      <th>2</th>\n",
       "      <td>Q11124</td>\n",
       "      <td>Stephen Breyer</td>\n",
       "      <td>male</td>\n",
       "      <td>Q30</td>\n",
       "      <td>[Stephen Gerald Breyer]</td>\n",
       "      <td>[Democratic Party]</td>\n",
       "      <td>[[Associate Justice of the Supreme Court of th...</td>\n",
       "      <td>Q9268</td>\n",
       "      <td></td>\n",
       "      <td>[]</td>\n",
       "      <td>None</td>\n",
       "    </tr>\n",
       "    <tr>\n",
       "      <th>3</th>\n",
       "      <td>Q11674</td>\n",
       "      <td>David Paterson</td>\n",
       "      <td>male</td>\n",
       "      <td>Q30</td>\n",
       "      <td>[David Alexander Paterson]</td>\n",
       "      <td>[Democratic Party]</td>\n",
       "      <td>[[Governor of New York, [+2008-03-17T00:00:00Z...</td>\n",
       "      <td></td>\n",
       "      <td></td>\n",
       "      <td>[]</td>\n",
       "      <td>New York</td>\n",
       "    </tr>\n",
       "    <tr>\n",
       "      <th>4</th>\n",
       "      <td>Q22201</td>\n",
       "      <td>Jim DeMint</td>\n",
       "      <td>male</td>\n",
       "      <td>Q30</td>\n",
       "      <td>[James Warren \"Jim\" DeMint, James Warren DeMint]</td>\n",
       "      <td>[Republican Party]</td>\n",
       "      <td>[[United States representative, []], [United S...</td>\n",
       "      <td>Q178169</td>\n",
       "      <td>D000595</td>\n",
       "      <td>[]</td>\n",
       "      <td>None</td>\n",
       "    </tr>\n",
       "  </tbody>\n",
       "</table>\n",
       "</div>"
      ],
      "text/plain": [
       "      qid            name gender nationality  \\\n",
       "0    Q207  George W. Bush   male         Q30   \n",
       "1   Q4496     Mitt Romney   male         Q30   \n",
       "2  Q11124  Stephen Breyer   male         Q30   \n",
       "3  Q11674  David Paterson   male         Q30   \n",
       "4  Q22201      Jim DeMint   male         Q30   \n",
       "\n",
       "                                             aliases             parties  \\\n",
       "0  [George Walker Bush, Bush Jr., Dubya, GWB, Bus...  [Republican Party]   \n",
       "1              [Willard Mitt Romney, Pierre Delecto]  [Republican Party]   \n",
       "2                            [Stephen Gerald Breyer]  [Democratic Party]   \n",
       "3                         [David Alexander Paterson]  [Democratic Party]   \n",
       "4   [James Warren \"Jim\" DeMint, James Warren DeMint]  [Republican Party]   \n",
       "\n",
       "                                      positions held religion us_congress_id  \\\n",
       "0  [[Governor of Texas, [+1995-01-17T00:00:00Z]],...  Q329646                  \n",
       "1  [[Governor of Massachusetts, [+2003-01-02T00:0...   Q42504        R000615   \n",
       "2  [[Associate Justice of the Supreme Court of th...    Q9268                  \n",
       "3  [[Governor of New York, [+2008-03-17T00:00:00Z...                           \n",
       "4  [[United States representative, []], [United S...  Q178169        D000595   \n",
       "\n",
       "                                  candidacy_election          State  \n",
       "0  [2000 United States presidential election, 200...          Texas  \n",
       "1  [2012 Republican Party presidential primaries,...  Massachusetts  \n",
       "2                                                 []           None  \n",
       "3                                                 []       New York  \n",
       "4                                                 []           None  "
      ]
     },
     "execution_count": 3,
     "metadata": {},
     "output_type": "execute_result"
    }
   ],
   "source": [
    "quotes_mapped='../../data/quotebank_politicians_USA_mapped.json'  #shorter version 2020\n",
    "#quotes_mapped='quotes_mentions_USA_compact.json'   #full version 2015-2020\n",
    "\n",
    "WIKI_DATA_FILTERED='../../data/filtered_politician_labeled_us_v3.json.bz2'\n",
    "#WIKI_DATA_FILTERED='filtered_politician_labeled_us_v3.json.bz2'\n",
    "\n",
    "df_full=pd.read_json(quotes_mapped, lines=True)\n",
    "df_full['year'] = df_full['date'].apply(lambda x: str(x.year)+str(x.month).zfill(2))\n",
    "catalogue_df=pd.read_json(WIKI_DATA_FILTERED, lines=True\n",
    "catalogue_df.parties = catalogue_df.parties.apply(lambda x: x[0] if len(x)>0 else '')\n",
    "catalogue_df['parties'][catalogue_df.parties.str.contains('Republican')]='Republican Party'\n",
    "catalogue_df['parties'][catalogue_df.parties.str.contains('Democratic')]='Democratic Party'\n",
    "catalogue_df=catalogue_df[catalogue_df.parties.str.contains('Democratic|Republican')]\n",
    "catalogue_df.head()"
   ]
  },
  {
   "cell_type": "markdown",
   "metadata": {},
   "source": [
    "selecting only the main democratic and republicans parties (with more than 10 politicians in the catalogue, may need to filter more to be more exhaustive?) (for each one checked on wikipedia if \"affiliated to national Democratic/Republican party\"). Keeping only the first party from the catalogue parties list, not sure about this."
   ]
  },
  {
   "cell_type": "code",
   "execution_count": 6,
   "metadata": {},
   "outputs": [],
   "source": [
    "year=df_full.year.sort_values().unique().tolist()"
   ]
  },
  {
   "cell_type": "code",
   "execution_count": 54,
   "metadata": {
    "scrolled": false
   },
   "outputs": [
    {
     "name": "stdout",
     "output_type": "stream",
     "text": [
      "number of politicians in network: 101\n",
      "0\n",
      "number of politicians in network: 112\n",
      "number of politicians in network: 61\n",
      "number of politicians in network: 27\n",
      "     year   node   edge  edge_cumsum  node_cumsum  index\n",
      "0  202001  101.0  124.0        124.0            1    0.0\n",
      "1  202002  112.0  138.0        262.0            2  125.0\n",
      "2  202003   61.0   74.0        336.0            3  264.0\n",
      "3  202004   27.0   27.0        363.0            4  339.0\n"
     ]
    }
   ],
   "source": [
    "#df=df_full[['qids','mentions_qids','speaker']]\n",
    "mention_y=pd.DataFrame()  #CF: store index for data to use for each year\n",
    "\n",
    "j = 0\n",
    "g = []\n",
    "g_all = nx.DiGraph() \n",
    "\n",
    "#g = nx.from_numpy_matrix(adj,create_using=nx.DiGraph)\n",
    "\n",
    "L = []\n",
    "labels = [] #CF: replace labels for unique mentions with labels for unique year + mentions and update each year\n",
    "#iterate for years\n",
    "for y in year:\n",
    "    g_tmp = nx.DiGraph() \n",
    "    L_tmp = {}\n",
    "    #create new mention dataframe\n",
    "    men_df=pd.DataFrame()\n",
    "    df=df_full[df_full['year']==y][['qids','mentions_qids','speaker','year']] #CF: add year for filtering\n",
    "#     print(len(df))\n",
    "    df=df.loc[:500,:] #CF: for testing only use fisrt 500 of 26000 REMOVE IF NOT TESTING\n",
    "    for i,row in df.iterrows():\n",
    "        if row.qids[0] in catalogue_df.qid.values:\n",
    "            for mention_qid in row.mentions_qids:\n",
    "                if mention_qid in catalogue_df.qid.values:\n",
    "                    mention=pd.Series([row.qids[0],mention_qid,row.speaker,y])\n",
    "                    men_df=men_df.append(mention,ignore_index=True)\n",
    "                    if i %10000==0: print(i)\n",
    "    men_df.rename(columns={0:'qid',1:'mention_qid',2:'speaker',3:'year'},inplace=True) #CF: add year for filtering\n",
    "    adj_df = pd.crosstab(men_df.qid, men_df.mention_qid)\n",
    "    idx = adj_df.columns.union(adj_df.index)\n",
    "    adj_df = adj_df.reindex(index = idx, columns=idx, fill_value=0)\n",
    "    adj=adj_df.values\n",
    "    \n",
    "    #CF: replace g and L with g1 and L1 and use loop to update for each year\n",
    "    g1=nx.from_numpy_matrix(adj,create_using=nx.DiGraph) \n",
    "    g1=nx.relabel_nodes(g1,mapping=lambda x: adj_df.index[x])\n",
    "    g1=nx.relabel_nodes(g1,mapping=lambda x: y+x)\n",
    "    L1=nx.kamada_kawai_layout(g1)\n",
    "    \n",
    "    #CF: replace labels (names) with labels (year+names) to distinguish same mentions in different years\n",
    "    labels1=[''+y+catalogue_df.loc[catalogue_df.qid == qid[6:], 'name'].item() for qid in g1.nodes()]\n",
    "    \n",
    "    #CF: use loop to update for each year g, L, labels with g1, L1, labels1, update mention_y dataframe\n",
    "    g_tmp.add_nodes_from(g1)\n",
    "    g_tmp.add_weighted_edges_from(g1.edges.data(\"weight\", default=1))\n",
    "    g_all.add_nodes_from(g1)\n",
    "    g_all.add_weighted_edges_from(g1.edges.data(\"weight\", default=1))\n",
    "    L_tmp.update(L1)\n",
    "    L.append(L_tmp)\n",
    "    labels=labels+labels1\n",
    "    mention_y=mention_y.append(pd.Series([y,len(g1),len(g1.edges)]),ignore_index=True)\n",
    "    g.append(g_tmp)\n",
    "    print(f'number of politicians in network: {len(adj_df.index)}')\n",
    "    \n",
    "mention_y.rename(columns={0:'year',1:'node',2:'edge'},inplace=True)\n",
    "mention_y['edge_cumsum']=mention_y['edge'].cumsum()\n",
    "mention_y['node_cumsum']=np.arange(len(mention_y))\n",
    "mention_y['node_cumsum']+=1\n",
    "mention_y['index']=mention_y['node_cumsum']+mention_y['edge_cumsum']\n",
    "mention_y['index'] = mention_y['index'].shift(1).fillna(0)\n",
    "print(mention_y)"
   ]
  },
  {
   "cell_type": "markdown",
   "metadata": {},
   "source": [
    "create the adjacency table:"
   ]
  },
  {
   "cell_type": "markdown",
   "metadata": {},
   "source": [
    "build graph from adjacency matrix:"
   ]
  },
  {
   "cell_type": "markdown",
   "metadata": {},
   "source": [
    "compute kernighan_lin_bisection of the graph. Uses only undirected graph but for communities doesn't matter. [paper link](https://ieeexplore.ieee.org/stamp/stamp.jsp?tp=&arnumber=6771089)"
   ]
  },
  {
   "cell_type": "markdown",
   "metadata": {},
   "source": [
    "plotting 20 most central nodes of each communities together:"
   ]
  },
  {
   "cell_type": "code",
   "execution_count": 55,
   "metadata": {},
   "outputs": [],
   "source": [
    "count = 0\n",
    "colormap = []\n",
    "colors=['blue','red']\n",
    "for graph in g:\n",
    "    colmap=['black']*nx.number_of_nodes(graph)\n",
    "    counter=0\n",
    "    nodes=list(graph.nodes)\n",
    "    communities=community.kernighan_lin_bisection(graph.subgraph(nodes).to_undirected(),seed=42)\n",
    "    for j,n in enumerate(communities[0]):\n",
    "        colmap[j]=colors[0]\n",
    "    l1 = len(communities[0])\n",
    "    for j,n in enumerate(communities[1]):\n",
    "        colmap[j+l1]=colors[1]\n",
    "    count+=1\n",
    "    colormap.append(colmap)"
   ]
  },
  {
   "cell_type": "code",
   "execution_count": 79,
   "metadata": {},
   "outputs": [],
   "source": [
    "#new function with sliders/dropdowns\n",
    "def plotly_graph_slider(g,L,labels,colormap,m_y=[]):\n",
    "    #CF: m_y is mention_y dataframe containing index of nodes, edges to use, index to count from for each plot, etc.\n",
    "    # this datafarme is useful in toggling visibility of nodes/edges by maneuvering the visibility of corresponding index\n",
    "\n",
    "    scatters=[]\n",
    "    #CF: initialize scatters list to store all plot [node,node,node,node,edge,node,node,node,edge....]\n",
    "    \n",
    "    for j in range(len(m_y)): #CF: embed codes in a loop to interate through years\n",
    "        edge_index = 0\n",
    "        node_index = 0\n",
    "        Xe=[]\n",
    "        Ye=[]\n",
    "        for e in g[j].edges():\n",
    "            Xe+=[[L[j][e[0]][0],L[j][e[1]][0],None]]\n",
    "            Ye+=[[L[j][e[0]][1],L[j][e[1]][1],None]]\n",
    "        edge_count = int(m_y.loc[j]['edge']) #CF: get edge indexes to use from m_y for each year\n",
    "        node_count =  int(m_y.loc[j]['node']) #CF: get node indexes to use from m_y for each year\n",
    "        #add node\n",
    "        for i in range(0,edge_count):\n",
    "            scatters.append(go.Scatter(x=Xe[i],y=Ye[i],mode='lines',\n",
    "                                    line=dict(shape='spline',width=list(nx.get_edge_attributes(g[j],'weight').values())[i]**.25,\n",
    "                                               color='mediumaquamarine')))\n",
    "        Xv=[L[j][k][0] for k in list(g[j].nodes())]\n",
    "        Yv=[L[j][k][1] for k in list(g[j].nodes())]\n",
    "        #add edge\n",
    "        scatters.append(go.Scatter(x=Xv[node_index:node_index+node_count],y=Yv[node_index:node_index+node_count],mode='markers',\n",
    "                                   marker=dict(color=colormap[j][node_index:node_index+node_count],size=15,\n",
    "                                   line=dict(color=colormap[j][node_index:node_index+node_count],width=2)),\n",
    "                                   hovertemplate=labels[node_index:node_index+node_count]))\n",
    "\n",
    "    axis=dict(showbackground=False,\n",
    "            showline=False,\n",
    "            zeroline=False,\n",
    "            showgrid=False,\n",
    "            showticklabels=False,\n",
    "            title='',\n",
    "            visible=False\n",
    "            )\n",
    "    layout = go.Layout(\n",
    "            width=1000,\n",
    "            height=1000,\n",
    "            showlegend=False,\n",
    "            scene=dict(\n",
    "                xaxis=dict(axis),\n",
    "                yaxis=dict(axis),\n",
    "            ),\n",
    "        margin=dict(\n",
    "            t=100\n",
    "        ),\n",
    "        hovermode='closest',\n",
    "        paper_bgcolor='rgba(255,255,255,255)',\n",
    "        plot_bgcolor='rgba(0,0,0,0)',\n",
    "            )\n",
    "    fig=go.Figure(data=scatters,layout=layout)\n",
    "    \n",
    "     \n",
    "    \n",
    "    steps = [] # slider steps\n",
    "    # iterate through years to update the visibility: \n",
    "    # for first year only, visibility looks like:\n",
    "    # [node,node,node,node,edge,node,node,node,edge....]\n",
    "    # [True,True,True,True,True,False,False,False,False....]\n",
    "    for i in range(len(m_y)):\n",
    "        # index of scatter plot to start from in current year\n",
    "        scatter_index = int(m_y.loc[i]['index'])\n",
    "        # total number of scatter plot to go thorugh for current year\n",
    "        scatter_count = int(1 + m_y.loc[i]['edge'])\n",
    "        # initialize all visibility to false \n",
    "        l_visable = [False] * int(m_y.iloc[-1].edge_cumsum+m_y.iloc[-1].node_cumsum)\n",
    "        # label\n",
    "        year=m_y.loc[i]['year']\n",
    "        # update visibility\n",
    "        for j in range(scatter_count):\n",
    "            l_visable[scatter_index+j] =True  #set all records starting from scatter index in range edge_count to True\n",
    "        step = dict(\n",
    "            method=\"update\",\n",
    "            label=year,\n",
    "            args=[{\"visible\": l_visable},\n",
    "                  {\"title\": \"titleYear: \" + year}],  # layout attribute\n",
    "        )\n",
    "        # append current slider tick to list\n",
    "        steps.append(step)\n",
    "\n",
    "    # add slider to figure with slider step configuration dictionary\n",
    "    sliders = [dict(\n",
    "        active=0,\n",
    "        currentvalue={\"prefix\": \"Year: \"},\n",
    "        pad={\"t\": 10},\n",
    "        steps=steps\n",
    "        \n",
    "    )]\n",
    "    \n",
    "    fig.update_layout(\n",
    "        sliders=sliders\n",
    "    )\n",
    "    fig.update_xaxes(visible=False)\n",
    "    fig.update_yaxes(visible=False)\n",
    "    iplot(fig)"
   ]
  },
  {
   "cell_type": "code",
   "execution_count": 83,
   "metadata": {},
   "outputs": [],
   "source": [
    "#new function with sliders/dropdowns\n",
    "def plotly_graph_bar(g,L,labels,colormap,m_y=[]):#CF: m_y mention_y dataframe containing index of nodes, edges to use\n",
    "\n",
    "    #CF: m_y is mention_y dataframe containing index of nodes, edges to use, index to count from for each plot, etc.\n",
    "    # this datafarme is useful in toggling visibility of nodes/edges by maneuvering the visibility of corresponding index\n",
    "\n",
    "    scatters=[]\n",
    "    #CF: initialize scatters list to store all plot [node,node,node,node,edge,node,node,node,edge....]\n",
    "    \n",
    "    for j in range(len(m_y)): #CF: embed codes in a loop to interate through years\n",
    "        edge_index = 0\n",
    "        node_index = 0\n",
    "        Xe=[]\n",
    "        Ye=[]\n",
    "        for e in g[j].edges():\n",
    "            Xe+=[[L[j][e[0]][0],L[j][e[1]][0],None]]\n",
    "            Ye+=[[L[j][e[0]][1],L[j][e[1]][1],None]]\n",
    "        edge_count = int(m_y.loc[j]['edge']) #CF: get edge indexes to use from m_y for each year\n",
    "        node_count =  int(m_y.loc[j]['node']) #CF: get node indexes to use from m_y for each year\n",
    "        #add node\n",
    "        for i in range(0,edge_count):\n",
    "            scatters.append(go.Scatter(x=Xe[i],y=Ye[i],mode='lines',\n",
    "                                    line=dict(shape='spline',width=list(nx.get_edge_attributes(g[j],'weight').values())[i]**.25,\n",
    "                                               color='mediumaquamarine')))\n",
    "        Xv=[L[j][k][0] for k in list(g[j].nodes())]\n",
    "        Yv=[L[j][k][1] for k in list(g[j].nodes())]\n",
    "        #add edge\n",
    "        scatters.append(go.Scatter(x=Xv[node_index:node_index+node_count],y=Yv[node_index:node_index+node_count],mode='markers',\n",
    "                                   marker=dict(color=colormap[j][node_index:node_index+node_count],size=15,\n",
    "                                   line=dict(color=colormap[j][node_index:node_index+node_count],width=2)),\n",
    "                                   hovertemplate=labels[node_index:node_index+node_count]))\n",
    "\n",
    "    axis=dict(showbackground=False,\n",
    "            showline=False,\n",
    "            zeroline=False,\n",
    "            showgrid=False,\n",
    "            showticklabels=False,\n",
    "            title='',\n",
    "            visible=False\n",
    "            )\n",
    "    layout = go.Layout(\n",
    "            width=1000,\n",
    "            height=1000,\n",
    "            showlegend=False,\n",
    "            scene=dict(\n",
    "                xaxis=dict(axis),\n",
    "                yaxis=dict(axis),\n",
    "            ),\n",
    "        margin=dict(\n",
    "            t=100\n",
    "        ),\n",
    "        hovermode='closest',\n",
    "        paper_bgcolor='rgba(255,255,255,255)',\n",
    "        plot_bgcolor='rgba(0,0,0,0)',\n",
    "            )\n",
    "    fig=go.Figure(data=scatters,layout=layout)\n",
    "    \n",
    "    #list of buttons\n",
    "    b_l = []\n",
    "    # iterate through years to write into button list and slider\n",
    "    for i in range(len(m_y)):\n",
    "        # index of scatter plot to start from in current year\n",
    "        scatter_index = int(m_y.loc[i]['index'])\n",
    "        # total number of scatter plot to go thorugh for current year\n",
    "        scatter_count = int(1 + m_y.loc[i]['edge'])\n",
    "        # initialize all visibility to false \n",
    "        l_visable = [False] * int(m_y.iloc[-1].edge_cumsum+m_y.iloc[-1].node_cumsum)\n",
    "        # label\n",
    "        year=m_y.loc[i]['year']\n",
    "        # update visibility\n",
    "        for j in range(scatter_count):\n",
    "            l_visable[scatter_index+j] =True  #set all records starting from scatter index in range edge_count to True\n",
    "        l = dict(label=year,method=\"update\",args=[{\"visible\": l_visable},{\"title\": year}])\n",
    "        b_l.append(l)\n",
    "    \n",
    "    # add drop_down list to figure with button list configuration dictionary\n",
    "    fig.update_layout(\n",
    "        updatemenus=[\n",
    "            dict(\n",
    "                active=0,\n",
    "                buttons=b_l,\n",
    "            )\n",
    "        ])\n",
    "\n",
    "    fig.update_xaxes(visible=False)\n",
    "    fig.update_yaxes(visible=False)\n",
    "    iplot(fig)"
   ]
  },
  {
   "cell_type": "markdown",
   "metadata": {},
   "source": [
    "plotting the whole graph (no sense really)"
   ]
  },
  {
   "cell_type": "code",
   "execution_count": 80,
   "metadata": {},
   "outputs": [
    {
     "data": {
      "application/vnd.plotly.v1+json": {
       "config": {
        "linkText": "Export to plot.ly",
        "plotlyServerURL": "https://plot.ly",
        "showLink": false
       },
       "data": [
        {
         "line": {
          "color": "mediumaquamarine",
          "shape": "spline",
          "width": 1
         },
         "mode": "lines",
         "type": "scatter",
         "x": [
          -0.17364932648352036,
          -0.08695325354031205,
          null
         ],
         "y": [
          -0.2767263333001506,
          -0.07538670862631718,
          null
         ]
        },
        {
         "line": {
          "color": "mediumaquamarine",
          "shape": "spline",
          "width": 1
         },
         "mode": "lines",
         "type": "scatter",
         "x": [
          -0.17364932648352036,
          -0.2818948559021931,
          null
         ],
         "y": [
          -0.2767263333001506,
          -0.44252985106381776,
          null
         ]
        },
        {
         "line": {
          "color": "mediumaquamarine",
          "shape": "spline",
          "width": 1
         },
         "mode": "lines",
         "type": "scatter",
         "x": [
          0.033467161326702126,
          -0.08695325354031205,
          null
         ],
         "y": [
          0.06449212834159318,
          -0.07538670862631718,
          null
         ]
        },
        {
         "line": {
          "color": "mediumaquamarine",
          "shape": "spline",
          "width": 1
         },
         "mode": "lines",
         "type": "scatter",
         "x": [
          -0.3770998630329571,
          -0.2818948559021931,
          null
         ],
         "y": [
          -0.624724212734978,
          -0.44252985106381776,
          null
         ]
        },
        {
         "line": {
          "color": "mediumaquamarine",
          "shape": "spline",
          "width": 1
         },
         "mode": "lines",
         "type": "scatter",
         "x": [
          -0.15571577551053056,
          -0.103690670683909,
          null
         ],
         "y": [
          -0.29587001331636964,
          -0.12239757411585482,
          null
         ]
        },
        {
         "line": {
          "color": "mediumaquamarine",
          "shape": "spline",
          "width": 1
         },
         "mode": "lines",
         "type": "scatter",
         "x": [
          -0.15571577551053056,
          -0.08695325354031205,
          null
         ],
         "y": [
          -0.29587001331636964,
          -0.07538670862631718,
          null
         ]
        },
        {
         "line": {
          "color": "mediumaquamarine",
          "shape": "spline",
          "width": 1
         },
         "mode": "lines",
         "type": "scatter",
         "x": [
          -0.15571577551053056,
          -0.18946871443934,
          null
         ],
         "y": [
          -0.29587001331636964,
          -0.5665909422906474,
          null
         ]
        },
        {
         "line": {
          "color": "mediumaquamarine",
          "shape": "spline",
          "width": 1
         },
         "mode": "lines",
         "type": "scatter",
         "x": [
          -0.15571577551053056,
          0.010200206625450512,
          null
         ],
         "y": [
          -0.29587001331636964,
          -0.36902132611790534,
          null
         ]
        },
        {
         "line": {
          "color": "mediumaquamarine",
          "shape": "spline",
          "width": 1
         },
         "mode": "lines",
         "type": "scatter",
         "x": [
          0.03346915404554261,
          -0.08695325354031205,
          null
         ],
         "y": [
          0.06448337620787767,
          -0.07538670862631718,
          null
         ]
        },
        {
         "line": {
          "color": "mediumaquamarine",
          "shape": "spline",
          "width": 1
         },
         "mode": "lines",
         "type": "scatter",
         "x": [
          0.033467490834916784,
          -0.08695325354031205,
          null
         ],
         "y": [
          0.06448434699555912,
          -0.07538670862631718,
          null
         ]
        },
        {
         "line": {
          "color": "mediumaquamarine",
          "shape": "spline",
          "width": 1
         },
         "mode": "lines",
         "type": "scatter",
         "x": [
          0.033465555730693944,
          -0.08695325354031205,
          null
         ],
         "y": [
          0.06448476335414165,
          -0.07538670862631718,
          null
         ]
        },
        {
         "line": {
          "color": "mediumaquamarine",
          "shape": "spline",
          "width": 1
         },
         "mode": "lines",
         "type": "scatter",
         "x": [
          0.033463203180876304,
          -0.08695325354031205,
          null
         ],
         "y": [
          0.0644839229640926,
          -0.07538670862631718,
          null
         ]
        },
        {
         "line": {
          "color": "mediumaquamarine",
          "shape": "spline",
          "width": 1
         },
         "mode": "lines",
         "type": "scatter",
         "x": [
          0.3331171598668633,
          0.2549414379063806,
          null
         ],
         "y": [
          0.875030989568806,
          0.6779795783515205,
          null
         ]
        },
        {
         "line": {
          "color": "mediumaquamarine",
          "shape": "spline",
          "width": 1
         },
         "mode": "lines",
         "type": "scatter",
         "x": [
          0.36875984550802837,
          0.3068269255642774,
          null
         ],
         "y": [
          0.999856748237832,
          0.8261687727764895,
          null
         ]
        },
        {
         "line": {
          "color": "mediumaquamarine",
          "shape": "spline",
          "width": 1
         },
         "mode": "lines",
         "type": "scatter",
         "x": [
          0.03352033174963888,
          -0.08695325354031205,
          null
         ],
         "y": [
          0.06436751456904949,
          -0.07538670862631718,
          null
         ]
        },
        {
         "line": {
          "color": "mediumaquamarine",
          "shape": "spline",
          "width": 1
         },
         "mode": "lines",
         "type": "scatter",
         "x": [
          0.03352033174963888,
          0.1023557026285066,
          null
         ],
         "y": [
          0.06436751456904949,
          -0.10331629042455082,
          null
         ]
        },
        {
         "line": {
          "color": "mediumaquamarine",
          "shape": "spline",
          "width": 1.189207115002721
         },
         "mode": "lines",
         "type": "scatter",
         "x": [
          0.3068269255642774,
          0.08961586028085518,
          null
         ],
         "y": [
          0.8261687727764895,
          0.4593806278494334,
          null
         ]
        },
        {
         "line": {
          "color": "mediumaquamarine",
          "shape": "spline",
          "width": 1.4953487812212205
         },
         "mode": "lines",
         "type": "scatter",
         "x": [
          0.3068269255642774,
          -0.08695325354031205,
          null
         ],
         "y": [
          0.8261687727764895,
          -0.07538670862631718,
          null
         ]
        },
        {
         "line": {
          "color": "mediumaquamarine",
          "shape": "spline",
          "width": 1
         },
         "mode": "lines",
         "type": "scatter",
         "x": [
          0.3068269255642774,
          0.3256173196143792,
          null
         ],
         "y": [
          0.8261687727764895,
          0.6439974157491533,
          null
         ]
        },
        {
         "line": {
          "color": "mediumaquamarine",
          "shape": "spline",
          "width": 1
         },
         "mode": "lines",
         "type": "scatter",
         "x": [
          0.033458254211490006,
          -0.08695325354031205,
          null
         ],
         "y": [
          0.06447804985493119,
          -0.07538670862631718,
          null
         ]
        },
        {
         "line": {
          "color": "mediumaquamarine",
          "shape": "spline",
          "width": 1
         },
         "mode": "lines",
         "type": "scatter",
         "x": [
          0.03345637405487002,
          -0.08695325354031205,
          null
         ],
         "y": [
          0.06447704840534138,
          -0.07538670862631718,
          null
         ]
        },
        {
         "line": {
          "color": "mediumaquamarine",
          "shape": "spline",
          "width": 1
         },
         "mode": "lines",
         "type": "scatter",
         "x": [
          0.03345564540698469,
          -0.08695325354031205,
          null
         ],
         "y": [
          0.0644751378019206,
          -0.07538670862631718,
          null
         ]
        },
        {
         "line": {
          "color": "mediumaquamarine",
          "shape": "spline",
          "width": 1
         },
         "mode": "lines",
         "type": "scatter",
         "x": [
          0.1341016343612161,
          -0.08695325354031205,
          null
         ],
         "y": [
          -0.05863572536234008,
          -0.07538670862631718,
          null
         ]
        },
        {
         "line": {
          "color": "mediumaquamarine",
          "shape": "spline",
          "width": 1
         },
         "mode": "lines",
         "type": "scatter",
         "x": [
          0.1341016343612161,
          0.4871525780373211,
          null
         ],
         "y": [
          -0.05863572536234008,
          -0.2428845705345533,
          null
         ]
        },
        {
         "line": {
          "color": "mediumaquamarine",
          "shape": "spline",
          "width": 1
         },
         "mode": "lines",
         "type": "scatter",
         "x": [
          0.018107939947814324,
          -0.06354263809013164,
          null
         ],
         "y": [
          0.09227770481349064,
          -0.06947569924820994,
          null
         ]
        },
        {
         "line": {
          "color": "mediumaquamarine",
          "shape": "spline",
          "width": 1
         },
         "mode": "lines",
         "type": "scatter",
         "x": [
          0.0334551428424923,
          -0.08695325354031205,
          null
         ],
         "y": [
          0.06446938829155141,
          -0.07538670862631718,
          null
         ]
        },
        {
         "line": {
          "color": "mediumaquamarine",
          "shape": "spline",
          "width": 1
         },
         "mode": "lines",
         "type": "scatter",
         "x": [
          -0.37726127246990726,
          -0.2818948559021931,
          null
         ],
         "y": [
          -0.6246858014524563,
          -0.44252985106381776,
          null
         ]
        },
        {
         "line": {
          "color": "mediumaquamarine",
          "shape": "spline",
          "width": 1
         },
         "mode": "lines",
         "type": "scatter",
         "x": [
          0.3538382386703728,
          0.4871525780373211,
          null
         ],
         "y": [
          -0.3655088340608702,
          -0.2428845705345533,
          null
         ]
        },
        {
         "line": {
          "color": "mediumaquamarine",
          "shape": "spline",
          "width": 1
         },
         "mode": "lines",
         "type": "scatter",
         "x": [
          0.004457929013975924,
          0.004457929013975924,
          null
         ],
         "y": [
          0.3543629794468247,
          0.3543629794468247,
          null
         ]
        },
        {
         "line": {
          "color": "mediumaquamarine",
          "shape": "spline",
          "width": 1
         },
         "mode": "lines",
         "type": "scatter",
         "x": [
          0.033459873280336686,
          -0.08695325354031205,
          null
         ],
         "y": [
          0.06447423553044625,
          -0.07538670862631718,
          null
         ]
        },
        {
         "line": {
          "color": "mediumaquamarine",
          "shape": "spline",
          "width": 1
         },
         "mode": "lines",
         "type": "scatter",
         "x": [
          0.03345815815746938,
          -0.08695325354031205,
          null
         ],
         "y": [
          0.06447241443462702,
          -0.07538670862631718,
          null
         ]
        },
        {
         "line": {
          "color": "mediumaquamarine",
          "shape": "spline",
          "width": 1
         },
         "mode": "lines",
         "type": "scatter",
         "x": [
          0.04087204039474477,
          -0.08695325354031205,
          null
         ],
         "y": [
          0.00449252476760167,
          -0.07538670862631718,
          null
         ]
        },
        {
         "line": {
          "color": "mediumaquamarine",
          "shape": "spline",
          "width": 1.189207115002721
         },
         "mode": "lines",
         "type": "scatter",
         "x": [
          0.04087204039474477,
          0.16370511734668963,
          null
         ],
         "y": [
          0.00449252476760167,
          0.27916871134945387,
          null
         ]
        },
        {
         "line": {
          "color": "mediumaquamarine",
          "shape": "spline",
          "width": 1.3160740129524924
         },
         "mode": "lines",
         "type": "scatter",
         "x": [
          0.04087204039474477,
          -0.2818948559021931,
          null
         ],
         "y": [
          0.00449252476760167,
          -0.44252985106381776,
          null
         ]
        },
        {
         "line": {
          "color": "mediumaquamarine",
          "shape": "spline",
          "width": 1.189207115002721
         },
         "mode": "lines",
         "type": "scatter",
         "x": [
          0.09162971017790357,
          -0.08695325354031205,
          null
         ],
         "y": [
          0.32533549818106977,
          -0.07538670862631718,
          null
         ]
        },
        {
         "line": {
          "color": "mediumaquamarine",
          "shape": "spline",
          "width": 1
         },
         "mode": "lines",
         "type": "scatter",
         "x": [
          0.23209061048953614,
          0.14567109515693427,
          null
         ],
         "y": [
          0.4468296732068744,
          0.27880404581876694,
          null
         ]
        },
        {
         "line": {
          "color": "mediumaquamarine",
          "shape": "spline",
          "width": 1
         },
         "mode": "lines",
         "type": "scatter",
         "x": [
          -0.08695325354031205,
          -0.3209471836321768,
          null
         ],
         "y": [
          -0.07538670862631718,
          0.03605194482999433,
          null
         ]
        },
        {
         "line": {
          "color": "mediumaquamarine",
          "shape": "spline",
          "width": 1.5650845800732873
         },
         "mode": "lines",
         "type": "scatter",
         "x": [
          -0.08695325354031205,
          -0.08695325354031205,
          null
         ],
         "y": [
          -0.07538670862631718,
          -0.07538670862631718,
          null
         ]
        },
        {
         "line": {
          "color": "mediumaquamarine",
          "shape": "spline",
          "width": 1
         },
         "mode": "lines",
         "type": "scatter",
         "x": [
          -0.08695325354031205,
          -0.3211017409554589,
          null
         ],
         "y": [
          -0.07538670862631718,
          0.03604832650622977,
          null
         ]
        },
        {
         "line": {
          "color": "mediumaquamarine",
          "shape": "spline",
          "width": 1
         },
         "mode": "lines",
         "type": "scatter",
         "x": [
          -0.08695325354031205,
          -0.29344633482240606,
          null
         ],
         "y": [
          -0.07538670862631718,
          -0.03596952649559593,
          null
         ]
        },
        {
         "line": {
          "color": "mediumaquamarine",
          "shape": "spline",
          "width": 1
         },
         "mode": "lines",
         "type": "scatter",
         "x": [
          -0.08695325354031205,
          -0.32112472704950157,
          null
         ],
         "y": [
          -0.07538670862631718,
          0.03604456306387024,
          null
         ]
        },
        {
         "line": {
          "color": "mediumaquamarine",
          "shape": "spline",
          "width": 1
         },
         "mode": "lines",
         "type": "scatter",
         "x": [
          -0.08695325354031205,
          -0.312891539237089,
          null
         ],
         "y": [
          -0.07538670862631718,
          0.0016430166051115294,
          null
         ]
        },
        {
         "line": {
          "color": "mediumaquamarine",
          "shape": "spline",
          "width": 1
         },
         "mode": "lines",
         "type": "scatter",
         "x": [
          -0.08695325354031205,
          -0.30609588649372244,
          null
         ],
         "y": [
          -0.07538670862631718,
          0.1625503325657921,
          null
         ]
        },
        {
         "line": {
          "color": "mediumaquamarine",
          "shape": "spline",
          "width": 1.189207115002721
         },
         "mode": "lines",
         "type": "scatter",
         "x": [
          -0.08695325354031205,
          -0.2818948559021931,
          null
         ],
         "y": [
          -0.07538670862631718,
          -0.44252985106381776,
          null
         ]
        },
        {
         "line": {
          "color": "mediumaquamarine",
          "shape": "spline",
          "width": 1
         },
         "mode": "lines",
         "type": "scatter",
         "x": [
          -0.08695325354031205,
          0.1561536923959958,
          null
         ],
         "y": [
          -0.07538670862631718,
          -0.27718055756721105,
          null
         ]
        },
        {
         "line": {
          "color": "mediumaquamarine",
          "shape": "spline",
          "width": 1.3160740129524924
         },
         "mode": "lines",
         "type": "scatter",
         "x": [
          -0.08695325354031205,
          0.4871525780373211,
          null
         ],
         "y": [
          -0.07538670862631718,
          -0.2428845705345533,
          null
         ]
        },
        {
         "line": {
          "color": "mediumaquamarine",
          "shape": "spline",
          "width": 1
         },
         "mode": "lines",
         "type": "scatter",
         "x": [
          -0.08695325354031205,
          0.15616467218367705,
          null
         ],
         "y": [
          -0.07538670862631718,
          -0.27719791603359706,
          null
         ]
        },
        {
         "line": {
          "color": "mediumaquamarine",
          "shape": "spline",
          "width": 1.3160740129524924
         },
         "mode": "lines",
         "type": "scatter",
         "x": [
          0.4860281295043436,
          -0.08695325354031205,
          null
         ],
         "y": [
          -0.03476823783240991,
          -0.07538670862631718,
          null
         ]
        },
        {
         "line": {
          "color": "mediumaquamarine",
          "shape": "spline",
          "width": 1
         },
         "mode": "lines",
         "type": "scatter",
         "x": [
          0.4860281295043436,
          0.4871525780373211,
          null
         ],
         "y": [
          -0.03476823783240991,
          -0.2428845705345533,
          null
         ]
        },
        {
         "line": {
          "color": "mediumaquamarine",
          "shape": "spline",
          "width": 1
         },
         "mode": "lines",
         "type": "scatter",
         "x": [
          0.033475025507192065,
          -0.08695325354031205,
          null
         ],
         "y": [
          0.0644962849106824,
          -0.07538670862631718,
          null
         ]
        },
        {
         "line": {
          "color": "mediumaquamarine",
          "shape": "spline",
          "width": 1
         },
         "mode": "lines",
         "type": "scatter",
         "x": [
          0.033474106420075714,
          -0.08695325354031205,
          null
         ],
         "y": [
          0.06449589984832602,
          -0.07538670862631718,
          null
         ]
        },
        {
         "line": {
          "color": "mediumaquamarine",
          "shape": "spline",
          "width": 1
         },
         "mode": "lines",
         "type": "scatter",
         "x": [
          0.03347325292127317,
          -0.08695325354031205,
          null
         ],
         "y": [
          0.0644959379736717,
          -0.07538670862631718,
          null
         ]
        },
        {
         "line": {
          "color": "mediumaquamarine",
          "shape": "spline",
          "width": 1
         },
         "mode": "lines",
         "type": "scatter",
         "x": [
          0.03347359444011551,
          -0.08695325354031205,
          null
         ],
         "y": [
          0.06448390322437116,
          -0.07538670862631718,
          null
         ]
        },
        {
         "line": {
          "color": "mediumaquamarine",
          "shape": "spline",
          "width": 1
         },
         "mode": "lines",
         "type": "scatter",
         "x": [
          0.03347416117099885,
          -0.08695325354031205,
          null
         ],
         "y": [
          0.06448357277044404,
          -0.07538670862631718,
          null
         ]
        },
        {
         "line": {
          "color": "mediumaquamarine",
          "shape": "spline",
          "width": 1
         },
         "mode": "lines",
         "type": "scatter",
         "x": [
          0.17562943646688942,
          0.08961586028085518,
          null
         ],
         "y": [
          0.2056200197659469,
          0.4593806278494334,
          null
         ]
        },
        {
         "line": {
          "color": "mediumaquamarine",
          "shape": "spline",
          "width": 1
         },
         "mode": "lines",
         "type": "scatter",
         "x": [
          0.17562943646688942,
          0.13960957067392432,
          null
         ],
         "y": [
          0.2056200197659469,
          -0.027660191158153536,
          null
         ]
        },
        {
         "line": {
          "color": "mediumaquamarine",
          "shape": "spline",
          "width": 1
         },
         "mode": "lines",
         "type": "scatter",
         "x": [
          0.2549414379063806,
          0.08961586028085518,
          null
         ],
         "y": [
          0.6779795783515205,
          0.4593806278494334,
          null
         ]
        },
        {
         "line": {
          "color": "mediumaquamarine",
          "shape": "spline",
          "width": 1.189207115002721
         },
         "mode": "lines",
         "type": "scatter",
         "x": [
          0.2549414379063806,
          0.004457929013975924,
          null
         ],
         "y": [
          0.6779795783515205,
          0.3543629794468247,
          null
         ]
        },
        {
         "line": {
          "color": "mediumaquamarine",
          "shape": "spline",
          "width": 1.6265765616977856
         },
         "mode": "lines",
         "type": "scatter",
         "x": [
          0.2549414379063806,
          -0.08695325354031205,
          null
         ],
         "y": [
          0.6779795783515205,
          -0.07538670862631718,
          null
         ]
        },
        {
         "line": {
          "color": "mediumaquamarine",
          "shape": "spline",
          "width": 1.189207115002721
         },
         "mode": "lines",
         "type": "scatter",
         "x": [
          0.16370511734668963,
          0.08961586028085518,
          null
         ],
         "y": [
          0.27916871134945387,
          0.4593806278494334,
          null
         ]
        },
        {
         "line": {
          "color": "mediumaquamarine",
          "shape": "spline",
          "width": 1
         },
         "mode": "lines",
         "type": "scatter",
         "x": [
          0.16370511734668963,
          0.004457929013975924,
          null
         ],
         "y": [
          0.27916871134945387,
          0.3543629794468247,
          null
         ]
        },
        {
         "line": {
          "color": "mediumaquamarine",
          "shape": "spline",
          "width": 1.3160740129524924
         },
         "mode": "lines",
         "type": "scatter",
         "x": [
          0.16370511734668963,
          -0.08695325354031205,
          null
         ],
         "y": [
          0.27916871134945387,
          -0.07538670862631718,
          null
         ]
        },
        {
         "line": {
          "color": "mediumaquamarine",
          "shape": "spline",
          "width": 1
         },
         "mode": "lines",
         "type": "scatter",
         "x": [
          0.34239108842616267,
          0.4871525780373211,
          null
         ],
         "y": [
          -0.35186457877064076,
          -0.2428845705345533,
          null
         ]
        },
        {
         "line": {
          "color": "mediumaquamarine",
          "shape": "spline",
          "width": 1
         },
         "mode": "lines",
         "type": "scatter",
         "x": [
          0.0334656636056993,
          -0.08695325354031205,
          null
         ],
         "y": [
          0.06447809777141349,
          -0.07538670862631718,
          null
         ]
        },
        {
         "line": {
          "color": "mediumaquamarine",
          "shape": "spline",
          "width": 1
         },
         "mode": "lines",
         "type": "scatter",
         "x": [
          -0.42741493815951587,
          -0.29344633482240606,
          null
         ],
         "y": [
          -0.3169496766345623,
          -0.03596952649559593,
          null
         ]
        },
        {
         "line": {
          "color": "mediumaquamarine",
          "shape": "spline",
          "width": 1
         },
         "mode": "lines",
         "type": "scatter",
         "x": [
          -0.42741493815951587,
          -0.2818948559021931,
          null
         ],
         "y": [
          -0.3169496766345623,
          -0.44252985106381776,
          null
         ]
        },
        {
         "line": {
          "color": "mediumaquamarine",
          "shape": "spline",
          "width": 1
         },
         "mode": "lines",
         "type": "scatter",
         "x": [
          -0.18946871443934,
          -0.2818948559021931,
          null
         ],
         "y": [
          -0.5665909422906474,
          -0.44252985106381776,
          null
         ]
        },
        {
         "line": {
          "color": "mediumaquamarine",
          "shape": "spline",
          "width": 1.681792830507429
         },
         "mode": "lines",
         "type": "scatter",
         "x": [
          -0.38683336102777477,
          -0.08695325354031205,
          null
         ],
         "y": [
          -0.6295172656394739,
          -0.07538670862631718,
          null
         ]
        },
        {
         "line": {
          "color": "mediumaquamarine",
          "shape": "spline",
          "width": 1
         },
         "mode": "lines",
         "type": "scatter",
         "x": [
          -0.38683336102777477,
          -0.2818948559021931,
          null
         ],
         "y": [
          -0.6295172656394739,
          -0.44252985106381776,
          null
         ]
        },
        {
         "line": {
          "color": "mediumaquamarine",
          "shape": "spline",
          "width": 1
         },
         "mode": "lines",
         "type": "scatter",
         "x": [
          0.36822852273088647,
          0.3068269255642774,
          null
         ],
         "y": [
          1,
          0.8261687727764895,
          null
         ]
        },
        {
         "line": {
          "color": "mediumaquamarine",
          "shape": "spline",
          "width": 1.189207115002721
         },
         "mode": "lines",
         "type": "scatter",
         "x": [
          0.008716139011864993,
          -0.29344633482240606,
          null
         ],
         "y": [
          -0.23666621721740924,
          -0.03596952649559593,
          null
         ]
        },
        {
         "line": {
          "color": "mediumaquamarine",
          "shape": "spline",
          "width": 1
         },
         "mode": "lines",
         "type": "scatter",
         "x": [
          0.008716139011864993,
          0.008716139011864993,
          null
         ],
         "y": [
          -0.23666621721740924,
          -0.23666621721740924,
          null
         ]
        },
        {
         "line": {
          "color": "mediumaquamarine",
          "shape": "spline",
          "width": 1
         },
         "mode": "lines",
         "type": "scatter",
         "x": [
          0.03347138902025385,
          -0.08695325354031205,
          null
         ],
         "y": [
          0.06448280370218086,
          -0.07538670862631718,
          null
         ]
        },
        {
         "line": {
          "color": "mediumaquamarine",
          "shape": "spline",
          "width": 1.3160740129524924
         },
         "mode": "lines",
         "type": "scatter",
         "x": [
          0.3346138397925635,
          -0.08695325354031205,
          null
         ],
         "y": [
          0.48815398785834274,
          -0.07538670862631718,
          null
         ]
        },
        {
         "line": {
          "color": "mediumaquamarine",
          "shape": "spline",
          "width": 1
         },
         "mode": "lines",
         "type": "scatter",
         "x": [
          0.3346138397925635,
          0.2549414379063806,
          null
         ],
         "y": [
          0.48815398785834274,
          0.6779795783515205,
          null
         ]
        },
        {
         "line": {
          "color": "mediumaquamarine",
          "shape": "spline",
          "width": 1.3160740129524924
         },
         "mode": "lines",
         "type": "scatter",
         "x": [
          -0.312891539237089,
          -0.08695325354031205,
          null
         ],
         "y": [
          0.0016430166051115294,
          -0.07538670862631718,
          null
         ]
        },
        {
         "line": {
          "color": "mediumaquamarine",
          "shape": "spline",
          "width": 1
         },
         "mode": "lines",
         "type": "scatter",
         "x": [
          -0.312891539237089,
          -0.312891539237089,
          null
         ],
         "y": [
          0.0016430166051115294,
          0.0016430166051115294,
          null
         ]
        },
        {
         "line": {
          "color": "mediumaquamarine",
          "shape": "spline",
          "width": 1
         },
         "mode": "lines",
         "type": "scatter",
         "x": [
          -0.20286231274089161,
          -0.10643692445499014,
          null
         ],
         "y": [
          -0.020278251268973393,
          -0.17365888735898655,
          null
         ]
        },
        {
         "line": {
          "color": "mediumaquamarine",
          "shape": "spline",
          "width": 1
         },
         "mode": "lines",
         "type": "scatter",
         "x": [
          -0.1315755655182324,
          -0.20302497250194784,
          null
         ],
         "y": [
          -0.15480135158774191,
          0.01168773772602277,
          null
         ]
        },
        {
         "line": {
          "color": "mediumaquamarine",
          "shape": "spline",
          "width": 1
         },
         "mode": "lines",
         "type": "scatter",
         "x": [
          -0.3772310513142015,
          -0.2818948559021931,
          null
         ],
         "y": [
          -0.6247697794490703,
          -0.44252985106381776,
          null
         ]
        },
        {
         "line": {
          "color": "mediumaquamarine",
          "shape": "spline",
          "width": 1
         },
         "mode": "lines",
         "type": "scatter",
         "x": [
          0.018800648856448984,
          0.004457929013975924,
          null
         ],
         "y": [
          0.11550523247121236,
          0.3543629794468247,
          null
         ]
        },
        {
         "line": {
          "color": "mediumaquamarine",
          "shape": "spline",
          "width": 1
         },
         "mode": "lines",
         "type": "scatter",
         "x": [
          0.018800648856448984,
          -0.08695325354031205,
          null
         ],
         "y": [
          0.11550523247121236,
          -0.07538670862631718,
          null
         ]
        },
        {
         "line": {
          "color": "mediumaquamarine",
          "shape": "spline",
          "width": 1
         },
         "mode": "lines",
         "type": "scatter",
         "x": [
          -0.05483177345159118,
          0.06018029049510069,
          null
         ],
         "y": [
          -0.07214049622678836,
          0.06787272007615523,
          null
         ]
        },
        {
         "line": {
          "color": "mediumaquamarine",
          "shape": "spline",
          "width": 1
         },
         "mode": "lines",
         "type": "scatter",
         "x": [
          0.03347043256927663,
          -0.08695325354031205,
          null
         ],
         "y": [
          0.06448884453259544,
          -0.07538670862631718,
          null
         ]
        },
        {
         "line": {
          "color": "mediumaquamarine",
          "shape": "spline",
          "width": 1
         },
         "mode": "lines",
         "type": "scatter",
         "x": [
          -0.16089493712799743,
          -0.12898504773171734,
          null
         ],
         "y": [
          -0.20722251811597334,
          -0.004665163142965947,
          null
         ]
        },
        {
         "line": {
          "color": "mediumaquamarine",
          "shape": "spline",
          "width": 1
         },
         "mode": "lines",
         "type": "scatter",
         "x": [
          -0.16089493712799743,
          -0.08695325354031205,
          null
         ],
         "y": [
          -0.20722251811597334,
          -0.07538670862631718,
          null
         ]
        },
        {
         "line": {
          "color": "mediumaquamarine",
          "shape": "spline",
          "width": 1
         },
         "mode": "lines",
         "type": "scatter",
         "x": [
          -0.16089493712799743,
          -0.29344633482240606,
          null
         ],
         "y": [
          -0.20722251811597334,
          -0.03596952649559593,
          null
         ]
        },
        {
         "line": {
          "color": "mediumaquamarine",
          "shape": "spline",
          "width": 1
         },
         "mode": "lines",
         "type": "scatter",
         "x": [
          0.033470883267033916,
          -0.08695325354031205,
          null
         ],
         "y": [
          0.06448726187614828,
          -0.07538670862631718,
          null
         ]
        },
        {
         "line": {
          "color": "mediumaquamarine",
          "shape": "spline",
          "width": 1
         },
         "mode": "lines",
         "type": "scatter",
         "x": [
          0.03347040176847653,
          -0.08695325354031205,
          null
         ],
         "y": [
          0.0644869889734642,
          -0.07538670862631718,
          null
         ]
        },
        {
         "line": {
          "color": "mediumaquamarine",
          "shape": "spline",
          "width": 1.3160740129524924
         },
         "mode": "lines",
         "type": "scatter",
         "x": [
          -0.30609588649372244,
          -0.08695325354031205,
          null
         ],
         "y": [
          0.1625503325657921,
          -0.07538670862631718,
          null
         ]
        },
        {
         "line": {
          "color": "mediumaquamarine",
          "shape": "spline",
          "width": 1
         },
         "mode": "lines",
         "type": "scatter",
         "x": [
          0.03346561779690954,
          -0.08695325354031205,
          null
         ],
         "y": [
          0.0644891185434794,
          -0.07538670862631718,
          null
         ]
        },
        {
         "line": {
          "color": "mediumaquamarine",
          "shape": "spline",
          "width": 1.189207115002721
         },
         "mode": "lines",
         "type": "scatter",
         "x": [
          -0.2818948559021931,
          -0.08695325354031205,
          null
         ],
         "y": [
          -0.44252985106381776,
          -0.07538670862631718,
          null
         ]
        },
        {
         "line": {
          "color": "mediumaquamarine",
          "shape": "spline",
          "width": 1.4142135623730951
         },
         "mode": "lines",
         "type": "scatter",
         "x": [
          -0.2818948559021931,
          -0.2818948559021931,
          null
         ],
         "y": [
          -0.44252985106381776,
          -0.44252985106381776,
          null
         ]
        },
        {
         "line": {
          "color": "mediumaquamarine",
          "shape": "spline",
          "width": 1
         },
         "mode": "lines",
         "type": "scatter",
         "x": [
          0.13960957067392432,
          -0.08695325354031205,
          null
         ],
         "y": [
          -0.027660191158153536,
          -0.07538670862631718,
          null
         ]
        },
        {
         "line": {
          "color": "mediumaquamarine",
          "shape": "spline",
          "width": 1
         },
         "mode": "lines",
         "type": "scatter",
         "x": [
          0.13960957067392432,
          0.4871525780373211,
          null
         ],
         "y": [
          -0.027660191158153536,
          -0.2428845705345533,
          null
         ]
        },
        {
         "line": {
          "color": "mediumaquamarine",
          "shape": "spline",
          "width": 1
         },
         "mode": "lines",
         "type": "scatter",
         "x": [
          0.03346547623657346,
          -0.08695325354031205,
          null
         ],
         "y": [
          0.0644907682973989,
          -0.07538670862631718,
          null
         ]
        },
        {
         "line": {
          "color": "mediumaquamarine",
          "shape": "spline",
          "width": 1
         },
         "mode": "lines",
         "type": "scatter",
         "x": [
          0.012564160111342189,
          -0.15052093739173425,
          null
         ],
         "y": [
          -0.18202714172265996,
          -0.10309786469926445,
          null
         ]
        },
        {
         "line": {
          "color": "mediumaquamarine",
          "shape": "spline",
          "width": 1
         },
         "mode": "lines",
         "type": "scatter",
         "x": [
          0.05032495292228812,
          0.15616485289907567,
          null
         ],
         "y": [
          -0.14756334226425505,
          -0.000505235181103751,
          null
         ]
        },
        {
         "line": {
          "color": "mediumaquamarine",
          "shape": "spline",
          "width": 1
         },
         "mode": "lines",
         "type": "scatter",
         "x": [
          -0.4807206343071841,
          -0.38683336102777477,
          null
         ],
         "y": [
          -0.7920958712021924,
          -0.6295172656394739,
          null
         ]
        },
        {
         "line": {
          "color": "mediumaquamarine",
          "shape": "spline",
          "width": 1
         },
         "mode": "lines",
         "type": "scatter",
         "x": [
          -0.17364815157004085,
          -0.08695325354031205,
          null
         ],
         "y": [
          -0.2767292020047346,
          -0.07538670862631718,
          null
         ]
        },
        {
         "line": {
          "color": "mediumaquamarine",
          "shape": "spline",
          "width": 1
         },
         "mode": "lines",
         "type": "scatter",
         "x": [
          -0.17364815157004085,
          -0.2818948559021931,
          null
         ],
         "y": [
          -0.2767292020047346,
          -0.44252985106381776,
          null
         ]
        },
        {
         "line": {
          "color": "mediumaquamarine",
          "shape": "spline",
          "width": 1
         },
         "mode": "lines",
         "type": "scatter",
         "x": [
          -0.3769989176941771,
          -0.2818948559021931,
          null
         ],
         "y": [
          -0.6247515469597049,
          -0.44252985106381776,
          null
         ]
        },
        {
         "line": {
          "color": "mediumaquamarine",
          "shape": "spline",
          "width": 1
         },
         "mode": "lines",
         "type": "scatter",
         "x": [
          0.18565954934956175,
          0.06759711426636152,
          null
         ],
         "y": [
          0.19401074415010133,
          0.056650279561980564,
          null
         ]
        },
        {
         "line": {
          "color": "mediumaquamarine",
          "shape": "spline",
          "width": 1
         },
         "mode": "lines",
         "type": "scatter",
         "x": [
          0.18565954934956175,
          0.09162971017790357,
          null
         ],
         "y": [
          0.19401074415010133,
          0.32533549818106977,
          null
         ]
        },
        {
         "line": {
          "color": "mediumaquamarine",
          "shape": "spline",
          "width": 1
         },
         "mode": "lines",
         "type": "scatter",
         "x": [
          0.18565954934956175,
          0.03690757311912295,
          null
         ],
         "y": [
          0.19401074415010133,
          0.07014768085097099,
          null
         ]
        },
        {
         "line": {
          "color": "mediumaquamarine",
          "shape": "spline",
          "width": 1
         },
         "mode": "lines",
         "type": "scatter",
         "x": [
          -0.09636740175474885,
          0.08961586028085518,
          null
         ],
         "y": [
          0.19764995116699322,
          0.4593806278494334,
          null
         ]
        },
        {
         "line": {
          "color": "mediumaquamarine",
          "shape": "spline",
          "width": 1
         },
         "mode": "lines",
         "type": "scatter",
         "x": [
          -0.09636740175474885,
          -0.12898504773171734,
          null
         ],
         "y": [
          0.19764995116699322,
          -0.004665163142965947,
          null
         ]
        },
        {
         "line": {
          "color": "mediumaquamarine",
          "shape": "spline",
          "width": 1
         },
         "mode": "lines",
         "type": "scatter",
         "x": [
          -0.09636740175474885,
          0.004457929013975924,
          null
         ],
         "y": [
          0.19764995116699322,
          0.3543629794468247,
          null
         ]
        },
        {
         "line": {
          "color": "mediumaquamarine",
          "shape": "spline",
          "width": 1
         },
         "mode": "lines",
         "type": "scatter",
         "x": [
          -0.09636740175474885,
          -0.29344633482240606,
          null
         ],
         "y": [
          0.19764995116699322,
          -0.03596952649559593,
          null
         ]
        },
        {
         "line": {
          "color": "mediumaquamarine",
          "shape": "spline",
          "width": 1
         },
         "mode": "lines",
         "type": "scatter",
         "x": [
          0.0334517847351091,
          -0.08695325354031205,
          null
         ],
         "y": [
          0.06449792624677915,
          -0.07538670862631718,
          null
         ]
        },
        {
         "line": {
          "color": "mediumaquamarine",
          "shape": "spline",
          "width": 1
         },
         "mode": "lines",
         "type": "scatter",
         "x": [
          0.033450784964510386,
          -0.08695325354031205,
          null
         ],
         "y": [
          0.06449836690673241,
          -0.07538670862631718,
          null
         ]
        },
        {
         "line": {
          "color": "mediumaquamarine",
          "shape": "spline",
          "width": 1
         },
         "mode": "lines",
         "type": "scatter",
         "x": [
          0.09834909967759214,
          0.19947454026062006,
          null
         ],
         "y": [
          -0.17506449651540207,
          -0.024738405272299095,
          null
         ]
        },
        {
         "line": {
          "color": "mediumaquamarine",
          "shape": "spline",
          "width": 1
         },
         "mode": "lines",
         "type": "scatter",
         "x": [
          0.14927949178667752,
          0.14927949178667752,
          null
         ],
         "y": [
          -0.10706650115314445,
          -0.10706650115314445,
          null
         ]
        },
        {
         "line": {
          "color": "mediumaquamarine",
          "shape": "spline",
          "width": 1
         },
         "mode": "lines",
         "type": "scatter",
         "x": [
          0.033450000452415946,
          -0.08695325354031205,
          null
         ],
         "y": [
          0.06449592349369405,
          -0.07538670862631718,
          null
         ]
        },
        {
         "line": {
          "color": "mediumaquamarine",
          "shape": "spline",
          "width": 1
         },
         "mode": "lines",
         "type": "scatter",
         "x": [
          0.033450694300734184,
          -0.08695325354031205,
          null
         ],
         "y": [
          0.0645004694202384,
          -0.07538670862631718,
          null
         ]
        },
        {
         "line": {
          "color": "mediumaquamarine",
          "shape": "spline",
          "width": 1.189207115002721
         },
         "mode": "lines",
         "type": "scatter",
         "x": [
          0.14567109515693427,
          -0.08695325354031205,
          null
         ],
         "y": [
          0.27880404581876694,
          -0.07538670862631718,
          null
         ]
        },
        {
         "line": {
          "color": "mediumaquamarine",
          "shape": "spline",
          "width": 1
         },
         "mode": "lines",
         "type": "scatter",
         "x": [
          -0.48074316568471503,
          -0.38683336102777477,
          null
         ],
         "y": [
          -0.7921228533666063,
          -0.6295172656394739,
          null
         ]
        },
        {
         "line": {
          "color": "mediumaquamarine",
          "shape": "spline",
          "width": 1
         },
         "mode": "lines",
         "type": "scatter",
         "x": [
          -0.08855825793806439,
          -0.29344633482240606,
          null
         ],
         "y": [
          0.14765145518705597,
          -0.03596952649559593,
          null
         ]
        },
        {
         "line": {
          "color": "mediumaquamarine",
          "shape": "spline",
          "width": 1
         },
         "mode": "lines",
         "type": "scatter",
         "x": [
          -0.08855825793806439,
          0.16370511734668963,
          null
         ],
         "y": [
          0.14765145518705597,
          0.27916871134945387,
          null
         ]
        },
        {
         "line": {
          "color": "mediumaquamarine",
          "shape": "spline",
          "width": 1
         },
         "mode": "lines",
         "type": "scatter",
         "x": [
          -0.08855825793806439,
          -0.312891539237089,
          null
         ],
         "y": [
          0.14765145518705597,
          0.0016430166051115294,
          null
         ]
        },
        {
         "line": {
          "color": "mediumaquamarine",
          "shape": "spline",
          "width": 1
         },
         "mode": "lines",
         "type": "scatter",
         "x": [
          0.03346110415273372,
          -0.08695325354031205,
          null
         ],
         "y": [
          0.06449625406540806,
          -0.07538670862631718,
          null
         ]
        },
        {
         "line": {
          "color": "mediumaquamarine",
          "shape": "spline",
          "width": 1
         },
         "mode": "lines",
         "type": "scatter",
         "x": [
          0.03349024132105787,
          -0.08695325354031205,
          null
         ],
         "y": [
          0.06441946945177784,
          -0.07538670862631718,
          null
         ]
        },
        {
         "line": {
          "color": "mediumaquamarine",
          "shape": "spline",
          "width": 1
         },
         "mode": "lines",
         "type": "scatter",
         "x": [
          0.03349024132105787,
          0.04263245671847832,
          null
         ],
         "y": [
          0.06441946945177784,
          -0.1165565237730921,
          null
         ]
        },
        {
         "line": {
          "color": "mediumaquamarine",
          "shape": "spline",
          "width": 1
         },
         "mode": "lines",
         "type": "scatter",
         "x": [
          0.03690757311912295,
          -0.08695325354031205,
          null
         ],
         "y": [
          0.07014768085097099,
          -0.07538670862631718,
          null
         ]
        },
        {
         "hovertemplate": [
          "202001Chris Murphy",
          "202001Chris Van Hollen",
          "202001Bill Clinton",
          "202001Darrell Issa",
          "202001David Plouffe",
          "202001Mick Mulvaney",
          "202001Joe Scarborough",
          "202001Ed Markey",
          "202001Jennifer Horn",
          "202001Jeff Merkley",
          "202001Toni Atkins",
          "202001David Jolly",
          "202001John Dean",
          "202001Mazie Hirono",
          "202001Nury Martinez",
          "202001Nancy Pelosi",
          "202001Jennifer Palmieri",
          "202001Trey Gowdy",
          "202001Steve Bartlett",
          "202001Steve Scalise",
          "202001Pramila Jayapal",
          "202001Mark Pocan",
          "202001Richard Blumenthal",
          "202001Paul Gosar",
          "202001Rudy Giuliani",
          "202001Rick Perry",
          "202001Zoe Lofgren",
          "202001Jackie Speier",
          "202001Lindsey Graham",
          "202001Kirsten Gillibrand",
          "202001Amy Klobuchar",
          "202001Claire McCaskill",
          "202001Olympia Snowe",
          "202001Donald Trump",
          "202001Mike Pence",
          "202001Jeanne Shaheen",
          "202001Jon Ossoff",
          "202001Tammy Duckworth",
          "202001Karl Rove",
          "202001John R. Bolton",
          "202001Marianne Williamson",
          "202001Marco Rubio",
          "202001Tulsi Gabbard",
          "202001Rex Tillerson",
          "202001Adam Schiff",
          "202001Mitch McConnell",
          "202001Chuck Schumer",
          "202001Ann McLane Kuster",
          "202001Mark Randall Meadows",
          "202001Kevin Cramer",
          "202001Lamar Alexander",
          "202001Elizabeth Warren",
          "202001Rick Scott",
          "202001Mitt Romney",
          "202001Carolyn Maloney",
          "202001Gavin Newsom",
          "202001Rand Paul",
          "202001Mike Pompeo",
          "202001Marie Newman",
          "202001Carl DeMaio",
          "202001Chris Pappas",
          "202001Dan Lipinski",
          "202001Duncan L. Hunter",
          "202001Jack Reed",
          "202001Pat Roberts",
          "202001Luz Rivas",
          "202001Alexandria Ocasio-Cortez",
          "202001Michael Bennet",
          "202001Hakeem Jeffries",
          "202001Elaine Luria",
          "202001Patrick Leahy",
          "202001Michael Bloomberg",
          "202001Jeff Van Drew",
          "202001John Rood",
          "202001Joe Biden",
          "202001Hillary Clinton",
          "202001Kellyanne Conway",
          "202001Chris Christie",
          "202001Kevin Faulconer",
          "202001Kevin McCarthy",
          "202001Krystal Ball",
          "202001Martha Fuller Clark",
          "202001Pam Bondi",
          "202001Pete Buttigieg",
          "202001John Cornyn",
          "202001William Barr",
          "202001Rashida Tlaib",
          "202001Ro Khanna",
          "202001Ryan Winkler",
          "202001Barack Obama",
          "202001Kevin McCarthy",
          "202001Tate Reeves",
          "202001Ted Lieu",
          "202001Scott Tipton",
          "202001Val Demings",
          "202001Warren Limmer",
          "202001Peter Shumlin",
          "202001Chris Coons",
          "202001Raúl Grijalva",
          "202001Patrick J. Kennedy",
          "202001Julián Castro"
         ],
         "marker": {
          "color": [
           "blue",
           "blue",
           "blue",
           "blue",
           "blue",
           "blue",
           "blue",
           "blue",
           "blue",
           "blue",
           "blue",
           "blue",
           "blue",
           "blue",
           "blue",
           "blue",
           "blue",
           "blue",
           "blue",
           "blue",
           "blue",
           "blue",
           "blue",
           "blue",
           "blue",
           "blue",
           "blue",
           "blue",
           "blue",
           "blue",
           "blue",
           "blue",
           "blue",
           "blue",
           "blue",
           "blue",
           "blue",
           "blue",
           "blue",
           "blue",
           "blue",
           "blue",
           "blue",
           "blue",
           "blue",
           "blue",
           "blue",
           "blue",
           "blue",
           "blue",
           "red",
           "red",
           "red",
           "red",
           "red",
           "red",
           "red",
           "red",
           "red",
           "red",
           "red",
           "red",
           "red",
           "red",
           "red",
           "red",
           "red",
           "red",
           "red",
           "red",
           "red",
           "red",
           "red",
           "red",
           "red",
           "red",
           "red",
           "red",
           "red",
           "red",
           "red",
           "red",
           "red",
           "red",
           "red",
           "red",
           "red",
           "red",
           "red",
           "red",
           "red",
           "red",
           "red",
           "red",
           "red",
           "red",
           "red",
           "red",
           "red",
           "red",
           "red"
          ],
          "line": {
           "color": [
            "blue",
            "blue",
            "blue",
            "blue",
            "blue",
            "blue",
            "blue",
            "blue",
            "blue",
            "blue",
            "blue",
            "blue",
            "blue",
            "blue",
            "blue",
            "blue",
            "blue",
            "blue",
            "blue",
            "blue",
            "blue",
            "blue",
            "blue",
            "blue",
            "blue",
            "blue",
            "blue",
            "blue",
            "blue",
            "blue",
            "blue",
            "blue",
            "blue",
            "blue",
            "blue",
            "blue",
            "blue",
            "blue",
            "blue",
            "blue",
            "blue",
            "blue",
            "blue",
            "blue",
            "blue",
            "blue",
            "blue",
            "blue",
            "blue",
            "blue",
            "red",
            "red",
            "red",
            "red",
            "red",
            "red",
            "red",
            "red",
            "red",
            "red",
            "red",
            "red",
            "red",
            "red",
            "red",
            "red",
            "red",
            "red",
            "red",
            "red",
            "red",
            "red",
            "red",
            "red",
            "red",
            "red",
            "red",
            "red",
            "red",
            "red",
            "red",
            "red",
            "red",
            "red",
            "red",
            "red",
            "red",
            "red",
            "red",
            "red",
            "red",
            "red",
            "red",
            "red",
            "red",
            "red",
            "red",
            "red",
            "red",
            "red",
            "red"
           ],
           "width": 2
          },
          "size": 15
         },
         "mode": "markers",
         "type": "scatter",
         "x": [
          -0.17364932648352036,
          0.033467161326702126,
          0.08961586028085518,
          0.15616485289907567,
          -0.3770998630329571,
          -0.12898504773171734,
          -0.15571577551053056,
          0.03346915404554261,
          0.033467490834916784,
          0.033465555730693944,
          0.033463203180876304,
          0.3331171598668633,
          0.36875984550802837,
          0.03352033174963888,
          0.06018029049510069,
          0.3068269255642774,
          0.033458254211490006,
          0.03345637405487002,
          0.03345564540698469,
          0.1341016343612161,
          0.018107939947814324,
          0.0334551428424923,
          -0.37726127246990726,
          0.3538382386703728,
          0.004457929013975924,
          -0.3209471836321768,
          0.033459873280336686,
          0.03345815815746938,
          0.04087204039474477,
          0.06759711426636152,
          0.09162971017790357,
          0.23209061048953614,
          -0.103690670683909,
          -0.08695325354031205,
          0.4860281295043436,
          0.033475025507192065,
          0.033474106420075714,
          0.03347325292127317,
          -0.3211017409554589,
          -0.29344633482240606,
          0.03347359444011551,
          0.03347416117099885,
          0.17562943646688942,
          -0.32112472704950157,
          0.2549414379063806,
          0.3256173196143792,
          0.16370511734668963,
          0.34239108842616267,
          0.0334656636056993,
          -0.42741493815951587,
          -0.18946871443934,
          -0.38683336102777477,
          0.36822852273088647,
          0.008716139011864993,
          0.03347138902025385,
          -0.20302497250194784,
          0.3346138397925635,
          -0.312891539237089,
          -0.20286231274089161,
          -0.1315755655182324,
          -0.15052093739173425,
          -0.10643692445499014,
          -0.3772310513142015,
          0.018800648856448984,
          0.010200206625450512,
          -0.05483177345159118,
          -0.06354263809013164,
          0.03347043256927663,
          -0.16089493712799743,
          0.033470883267033916,
          0.03347040176847653,
          -0.30609588649372244,
          0.04263245671847832,
          0.03346561779690954,
          -0.2818948559021931,
          0.13960957067392432,
          0.03346547623657346,
          0.012564160111342189,
          0.05032495292228812,
          0.1561536923959958,
          -0.4807206343071841,
          -0.17364815157004085,
          -0.3769989176941771,
          0.18565954934956175,
          -0.09636740175474885,
          0.1023557026285066,
          0.0334517847351091,
          0.033450784964510386,
          0.09834909967759214,
          0.4871525780373211,
          0.15616467218367705,
          0.14927949178667752,
          0.033450000452415946,
          0.033450694300734184,
          0.14567109515693427,
          0.19947454026062006,
          -0.48074316568471503,
          -0.08855825793806439,
          0.03346110415273372,
          0.03349024132105787,
          0.03690757311912295
         ],
         "y": [
          -0.2767263333001506,
          0.06449212834159318,
          0.4593806278494334,
          -0.000505235181103751,
          -0.624724212734978,
          -0.004665163142965947,
          -0.29587001331636964,
          0.06448337620787767,
          0.06448434699555912,
          0.06448476335414165,
          0.0644839229640926,
          0.875030989568806,
          0.999856748237832,
          0.06436751456904949,
          0.06787272007615523,
          0.8261687727764895,
          0.06447804985493119,
          0.06447704840534138,
          0.0644751378019206,
          -0.05863572536234008,
          0.09227770481349064,
          0.06446938829155141,
          -0.6246858014524563,
          -0.3655088340608702,
          0.3543629794468247,
          0.03605194482999433,
          0.06447423553044625,
          0.06447241443462702,
          0.00449252476760167,
          0.056650279561980564,
          0.32533549818106977,
          0.4468296732068744,
          -0.12239757411585482,
          -0.07538670862631718,
          -0.03476823783240991,
          0.0644962849106824,
          0.06449589984832602,
          0.0644959379736717,
          0.03604832650622977,
          -0.03596952649559593,
          0.06448390322437116,
          0.06448357277044404,
          0.2056200197659469,
          0.03604456306387024,
          0.6779795783515205,
          0.6439974157491533,
          0.27916871134945387,
          -0.35186457877064076,
          0.06447809777141349,
          -0.3169496766345623,
          -0.5665909422906474,
          -0.6295172656394739,
          1,
          -0.23666621721740924,
          0.06448280370218086,
          0.01168773772602277,
          0.48815398785834274,
          0.0016430166051115294,
          -0.020278251268973393,
          -0.15480135158774191,
          -0.10309786469926445,
          -0.17365888735898655,
          -0.6247697794490703,
          0.11550523247121236,
          -0.36902132611790534,
          -0.07214049622678836,
          -0.06947569924820994,
          0.06448884453259544,
          -0.20722251811597334,
          0.06448726187614828,
          0.0644869889734642,
          0.1625503325657921,
          -0.1165565237730921,
          0.0644891185434794,
          -0.44252985106381776,
          -0.027660191158153536,
          0.0644907682973989,
          -0.18202714172265996,
          -0.14756334226425505,
          -0.27718055756721105,
          -0.7920958712021924,
          -0.2767292020047346,
          -0.6247515469597049,
          0.19401074415010133,
          0.19764995116699322,
          -0.10331629042455082,
          0.06449792624677915,
          0.06449836690673241,
          -0.17506449651540207,
          -0.2428845705345533,
          -0.27719791603359706,
          -0.10706650115314445,
          0.06449592349369405,
          0.0645004694202384,
          0.27880404581876694,
          -0.024738405272299095,
          -0.7921228533666063,
          0.14765145518705597,
          0.06449625406540806,
          0.06441946945177784,
          0.07014768085097099
         ]
        },
        {
         "line": {
          "color": "mediumaquamarine",
          "shape": "spline",
          "width": 1
         },
         "mode": "lines",
         "type": "scatter",
         "x": [
          -0.2538861614724361,
          -0.046990916455814886,
          null
         ],
         "y": [
          0.17220692594315112,
          0.21284037145690396,
          null
         ]
        },
        {
         "line": {
          "color": "mediumaquamarine",
          "shape": "spline",
          "width": 1
         },
         "mode": "lines",
         "type": "scatter",
         "x": [
          -0.2539381898342635,
          -0.046990916455814886,
          null
         ],
         "y": [
          0.17255091880895743,
          0.21284037145690396,
          null
         ]
        },
        {
         "line": {
          "color": "mediumaquamarine",
          "shape": "spline",
          "width": 1
         },
         "mode": "lines",
         "type": "scatter",
         "x": [
          -0.2539381898342635,
          -0.3199196702440453,
          null
         ],
         "y": [
          0.17255091880895743,
          0.36553087546356533,
          null
         ]
        },
        {
         "line": {
          "color": "mediumaquamarine",
          "shape": "spline",
          "width": 1
         },
         "mode": "lines",
         "type": "scatter",
         "x": [
          0.5717946181503243,
          0.2690374449616967,
          null
         ],
         "y": [
          -0.4312742408832208,
          -0.2386533395725597,
          null
         ]
        },
        {
         "line": {
          "color": "mediumaquamarine",
          "shape": "spline",
          "width": 1
         },
         "mode": "lines",
         "type": "scatter",
         "x": [
          -0.2539092570184062,
          -0.046990916455814886,
          null
         ],
         "y": [
          0.17221107383309545,
          0.21284037145690396,
          null
         ]
        },
        {
         "line": {
          "color": "mediumaquamarine",
          "shape": "spline",
          "width": 1
         },
         "mode": "lines",
         "type": "scatter",
         "x": [
          -0.2584506856788922,
          -0.05269437140111136,
          null
         ],
         "y": [
          -0.24396368001567295,
          -0.16141589383709587,
          null
         ]
        },
        {
         "line": {
          "color": "mediumaquamarine",
          "shape": "spline",
          "width": 1
         },
         "mode": "lines",
         "type": "scatter",
         "x": [
          -0.2584506856788922,
          -0.13227150054974252,
          null
         ],
         "y": [
          -0.24396368001567295,
          -0.4061684684530822,
          null
         ]
        },
        {
         "line": {
          "color": "mediumaquamarine",
          "shape": "spline",
          "width": 1
         },
         "mode": "lines",
         "type": "scatter",
         "x": [
          0.15278945242584727,
          -0.046990916455814886,
          null
         ],
         "y": [
          0.13508204051531492,
          0.21284037145690396,
          null
         ]
        },
        {
         "line": {
          "color": "mediumaquamarine",
          "shape": "spline",
          "width": 1
         },
         "mode": "lines",
         "type": "scatter",
         "x": [
          0.15278945242584727,
          0.29094739705890743,
          null
         ],
         "y": [
          0.13508204051531492,
          -0.06815794270007974,
          null
         ]
        },
        {
         "line": {
          "color": "mediumaquamarine",
          "shape": "spline",
          "width": 1
         },
         "mode": "lines",
         "type": "scatter",
         "x": [
          0.5762186531291856,
          0.4846135595614289,
          null
         ],
         "y": [
          0.3713792441072575,
          0.18930843196130914,
          null
         ]
        },
        {
         "line": {
          "color": "mediumaquamarine",
          "shape": "spline",
          "width": 1.189207115002721
         },
         "mode": "lines",
         "type": "scatter",
         "x": [
          0.5762186531291856,
          -0.046990916455814886,
          null
         ],
         "y": [
          0.3713792441072575,
          0.21284037145690396,
          null
         ]
        },
        {
         "line": {
          "color": "mediumaquamarine",
          "shape": "spline",
          "width": 1
         },
         "mode": "lines",
         "type": "scatter",
         "x": [
          0.5762186531291856,
          0.48518973330265514,
          null
         ],
         "y": [
          0.3713792441072575,
          0.18904054538114498,
          null
         ]
        },
        {
         "line": {
          "color": "mediumaquamarine",
          "shape": "spline",
          "width": 1
         },
         "mode": "lines",
         "type": "scatter",
         "x": [
          1,
          0.8265829259162691,
          null
         ],
         "y": [
          -0.7690370611023601,
          -0.6386003475290047,
          null
         ]
        },
        {
         "line": {
          "color": "mediumaquamarine",
          "shape": "spline",
          "width": 1.189207115002721
         },
         "mode": "lines",
         "type": "scatter",
         "x": [
          0.8195344616275223,
          0.2690374449616967,
          null
         ],
         "y": [
          -0.6209115518318161,
          -0.2386533395725597,
          null
         ]
        },
        {
         "line": {
          "color": "mediumaquamarine",
          "shape": "spline",
          "width": 1
         },
         "mode": "lines",
         "type": "scatter",
         "x": [
          0.4372167577837611,
          0.18526365883956505,
          null
         ],
         "y": [
          -0.8272211539236833,
          -0.5846179681822352,
          null
         ]
        },
        {
         "line": {
          "color": "mediumaquamarine",
          "shape": "spline",
          "width": 1
         },
         "mode": "lines",
         "type": "scatter",
         "x": [
          0.4372167577837611,
          0.4826589834327793,
          null
         ],
         "y": [
          -0.8272211539236833,
          -0.6101178512510884,
          null
         ]
        },
        {
         "line": {
          "color": "mediumaquamarine",
          "shape": "spline",
          "width": 1
         },
         "mode": "lines",
         "type": "scatter",
         "x": [
          0.08788227220928034,
          0.29094739705890743,
          null
         ],
         "y": [
          -0.08416431245137139,
          -0.06815794270007974,
          null
         ]
        },
        {
         "line": {
          "color": "mediumaquamarine",
          "shape": "spline",
          "width": 1
         },
         "mode": "lines",
         "type": "scatter",
         "x": [
          0.08916392585997854,
          0.29094739705890743,
          null
         ],
         "y": [
          -0.0960604346143917,
          -0.06815794270007974,
          null
         ]
        },
        {
         "line": {
          "color": "mediumaquamarine",
          "shape": "spline",
          "width": 1
         },
         "mode": "lines",
         "type": "scatter",
         "x": [
          0.3428214176145803,
          0.22527806544787235,
          null
         ],
         "y": [
          0.3731693014805722,
          0.5279681843610675,
          null
         ]
        },
        {
         "line": {
          "color": "mediumaquamarine",
          "shape": "spline",
          "width": 1
         },
         "mode": "lines",
         "type": "scatter",
         "x": [
          -0.08915512453278185,
          0.1661720714064134,
          null
         ],
         "y": [
          -0.6398545116972019,
          -0.5009375979143256,
          null
         ]
        },
        {
         "line": {
          "color": "mediumaquamarine",
          "shape": "spline",
          "width": 1
         },
         "mode": "lines",
         "type": "scatter",
         "x": [
          0.11127417166858421,
          -0.046990916455814886,
          null
         ],
         "y": [
          0.012322481288843744,
          0.21284037145690396,
          null
         ]
        },
        {
         "line": {
          "color": "mediumaquamarine",
          "shape": "spline",
          "width": 1
         },
         "mode": "lines",
         "type": "scatter",
         "x": [
          0.11127417166858421,
          0.2690374449616967,
          null
         ],
         "y": [
          0.012322481288843744,
          -0.2386533395725597,
          null
         ]
        },
        {
         "line": {
          "color": "mediumaquamarine",
          "shape": "spline",
          "width": 1
         },
         "mode": "lines",
         "type": "scatter",
         "x": [
          -0.2539363034248378,
          -0.046990916455814886,
          null
         ],
         "y": [
          0.17221007967781357,
          0.21284037145690396,
          null
         ]
        },
        {
         "line": {
          "color": "mediumaquamarine",
          "shape": "spline",
          "width": 1
         },
         "mode": "lines",
         "type": "scatter",
         "x": [
          0.22527806544787235,
          0.212089125231628,
          null
         ],
         "y": [
          0.5279681843610675,
          0.8314757408770145,
          null
         ]
        },
        {
         "line": {
          "color": "mediumaquamarine",
          "shape": "spline",
          "width": 1
         },
         "mode": "lines",
         "type": "scatter",
         "x": [
          0.22527806544787235,
          0.29094739705890743,
          null
         ],
         "y": [
          0.5279681843610675,
          -0.06815794270007974,
          null
         ]
        },
        {
         "line": {
          "color": "mediumaquamarine",
          "shape": "spline",
          "width": 1
         },
         "mode": "lines",
         "type": "scatter",
         "x": [
          0.22615442032495287,
          -0.046990916455814886,
          null
         ],
         "y": [
          0.10216486433273929,
          0.21284037145690396,
          null
         ]
        },
        {
         "line": {
          "color": "mediumaquamarine",
          "shape": "spline",
          "width": 1
         },
         "mode": "lines",
         "type": "scatter",
         "x": [
          0.22615442032495287,
          0.49017376063827806,
          null
         ],
         "y": [
          0.10216486433273929,
          -0.15794365254499812,
          null
         ]
        },
        {
         "line": {
          "color": "mediumaquamarine",
          "shape": "spline",
          "width": 1
         },
         "mode": "lines",
         "type": "scatter",
         "x": [
          -0.2539356830304834,
          -0.046990916455814886,
          null
         ],
         "y": [
          0.17221289561172615,
          0.21284037145690396,
          null
         ]
        },
        {
         "line": {
          "color": "mediumaquamarine",
          "shape": "spline",
          "width": 1
         },
         "mode": "lines",
         "type": "scatter",
         "x": [
          0.08076597837894949,
          0.16369029533257448,
          null
         ],
         "y": [
          0.14709990886015092,
          -0.03896215949186053,
          null
         ]
        },
        {
         "line": {
          "color": "mediumaquamarine",
          "shape": "spline",
          "width": 1
         },
         "mode": "lines",
         "type": "scatter",
         "x": [
          0.16482476725333625,
          0.3440215427162439,
          null
         ],
         "y": [
          -0.35016037237416076,
          -0.44671807066658414,
          null
         ]
        },
        {
         "line": {
          "color": "mediumaquamarine",
          "shape": "spline",
          "width": 1
         },
         "mode": "lines",
         "type": "scatter",
         "x": [
          -0.25394375521144646,
          -0.046990916455814886,
          null
         ],
         "y": [
          0.17221150187581225,
          0.21284037145690396,
          null
         ]
        },
        {
         "line": {
          "color": "mediumaquamarine",
          "shape": "spline",
          "width": 1.189207115002721
         },
         "mode": "lines",
         "type": "scatter",
         "x": [
          0.8265829259162691,
          0.2690374449616967,
          null
         ],
         "y": [
          -0.6386003475290047,
          -0.2386533395725597,
          null
         ]
        },
        {
         "line": {
          "color": "mediumaquamarine",
          "shape": "spline",
          "width": 1
         },
         "mode": "lines",
         "type": "scatter",
         "x": [
          0.8265829259162691,
          0.7512084757501742,
          null
         ],
         "y": [
          -0.6386003475290047,
          -0.4489586799444104,
          null
         ]
        },
        {
         "line": {
          "color": "mediumaquamarine",
          "shape": "spline",
          "width": 1.189207115002721
         },
         "mode": "lines",
         "type": "scatter",
         "x": [
          -0.03623166786590053,
          -0.046990916455814886,
          null
         ],
         "y": [
          -0.35018066175006124,
          0.21284037145690396,
          null
         ]
        },
        {
         "line": {
          "color": "mediumaquamarine",
          "shape": "spline",
          "width": 1
         },
         "mode": "lines",
         "type": "scatter",
         "x": [
          -0.03623166786590053,
          0.18526365883956505,
          null
         ],
         "y": [
          -0.35018066175006124,
          -0.5846179681822352,
          null
         ]
        },
        {
         "line": {
          "color": "mediumaquamarine",
          "shape": "spline",
          "width": 1
         },
         "mode": "lines",
         "type": "scatter",
         "x": [
          -0.03623166786590053,
          0.1661720714064134,
          null
         ],
         "y": [
          -0.35018066175006124,
          -0.5009375979143256,
          null
         ]
        },
        {
         "line": {
          "color": "mediumaquamarine",
          "shape": "spline",
          "width": 1
         },
         "mode": "lines",
         "type": "scatter",
         "x": [
          0.013508990522313542,
          0.22527806544787235,
          null
         ],
         "y": [
          0.47097700266376347,
          0.5279681843610675,
          null
         ]
        },
        {
         "line": {
          "color": "mediumaquamarine",
          "shape": "spline",
          "width": 1
         },
         "mode": "lines",
         "type": "scatter",
         "x": [
          -0.046990916455814886,
          -0.011145066958727804,
          null
         ],
         "y": [
          0.21284037145690396,
          0.4887539221061084,
          null
         ]
        },
        {
         "line": {
          "color": "mediumaquamarine",
          "shape": "spline",
          "width": 1.3160740129524924
         },
         "mode": "lines",
         "type": "scatter",
         "x": [
          -0.046990916455814886,
          0.22527806544787235,
          null
         ],
         "y": [
          0.21284037145690396,
          0.5279681843610675,
          null
         ]
        },
        {
         "line": {
          "color": "mediumaquamarine",
          "shape": "spline",
          "width": 1
         },
         "mode": "lines",
         "type": "scatter",
         "x": [
          -0.046990916455814886,
          0.013508990522313542,
          null
         ],
         "y": [
          0.21284037145690396,
          0.47097700266376347,
          null
         ]
        },
        {
         "line": {
          "color": "mediumaquamarine",
          "shape": "spline",
          "width": 1.8988289221159418
         },
         "mode": "lines",
         "type": "scatter",
         "x": [
          -0.046990916455814886,
          -0.046990916455814886,
          null
         ],
         "y": [
          0.21284037145690396,
          0.21284037145690396,
          null
         ]
        },
        {
         "line": {
          "color": "mediumaquamarine",
          "shape": "spline",
          "width": 1
         },
         "mode": "lines",
         "type": "scatter",
         "x": [
          -0.046990916455814886,
          0.049684873880099976,
          null
         ],
         "y": [
          0.21284037145690396,
          0.45699884167901367,
          null
         ]
        },
        {
         "line": {
          "color": "mediumaquamarine",
          "shape": "spline",
          "width": 1
         },
         "mode": "lines",
         "type": "scatter",
         "x": [
          -0.046990916455814886,
          -0.05269437140111136,
          null
         ],
         "y": [
          0.21284037145690396,
          -0.16141589383709587,
          null
         ]
        },
        {
         "line": {
          "color": "mediumaquamarine",
          "shape": "spline",
          "width": 1
         },
         "mode": "lines",
         "type": "scatter",
         "x": [
          -0.046990916455814886,
          -0.011353869742413328,
          null
         ],
         "y": [
          0.21284037145690396,
          0.4888296673321951,
          null
         ]
        },
        {
         "line": {
          "color": "mediumaquamarine",
          "shape": "spline",
          "width": 1
         },
         "mode": "lines",
         "type": "scatter",
         "x": [
          -0.046990916455814886,
          -0.011370997543038799,
          null
         ],
         "y": [
          0.21284037145690396,
          0.4887701309055294,
          null
         ]
        },
        {
         "line": {
          "color": "mediumaquamarine",
          "shape": "spline",
          "width": 1.189207115002721
         },
         "mode": "lines",
         "type": "scatter",
         "x": [
          -0.046990916455814886,
          0.29094739705890743,
          null
         ],
         "y": [
          0.21284037145690396,
          -0.06815794270007974,
          null
         ]
        },
        {
         "line": {
          "color": "mediumaquamarine",
          "shape": "spline",
          "width": 1
         },
         "mode": "lines",
         "type": "scatter",
         "x": [
          -0.2538770915400085,
          -0.046990916455814886,
          null
         ],
         "y": [
          0.17223040575230514,
          0.21284037145690396,
          null
         ]
        },
        {
         "line": {
          "color": "mediumaquamarine",
          "shape": "spline",
          "width": 1
         },
         "mode": "lines",
         "type": "scatter",
         "x": [
          -0.2538782982682559,
          -0.046990916455814886,
          null
         ],
         "y": [
          0.17222603212301144,
          0.21284037145690396,
          null
         ]
        },
        {
         "line": {
          "color": "mediumaquamarine",
          "shape": "spline",
          "width": 1
         },
         "mode": "lines",
         "type": "scatter",
         "x": [
          0.11125572735401369,
          -0.046990916455814886,
          null
         ],
         "y": [
          0.012316153053499859,
          0.21284037145690396,
          null
         ]
        },
        {
         "line": {
          "color": "mediumaquamarine",
          "shape": "spline",
          "width": 1
         },
         "mode": "lines",
         "type": "scatter",
         "x": [
          0.11125572735401369,
          0.2690374449616967,
          null
         ],
         "y": [
          0.012316153053499859,
          -0.2386533395725597,
          null
         ]
        },
        {
         "line": {
          "color": "mediumaquamarine",
          "shape": "spline",
          "width": 1
         },
         "mode": "lines",
         "type": "scatter",
         "x": [
          0.1112554750212957,
          -0.046990916455814886,
          null
         ],
         "y": [
          0.012316061713486226,
          0.21284037145690396,
          null
         ]
        },
        {
         "line": {
          "color": "mediumaquamarine",
          "shape": "spline",
          "width": 1
         },
         "mode": "lines",
         "type": "scatter",
         "x": [
          0.1112554750212957,
          0.2690374449616967,
          null
         ],
         "y": [
          0.012316061713486226,
          -0.2386533395725597,
          null
         ]
        },
        {
         "line": {
          "color": "mediumaquamarine",
          "shape": "spline",
          "width": 1
         },
         "mode": "lines",
         "type": "scatter",
         "x": [
          -0.12707688946268036,
          -0.12707688946268036,
          null
         ],
         "y": [
          0.1607551862602852,
          0.1607551862602852,
          null
         ]
        },
        {
         "line": {
          "color": "mediumaquamarine",
          "shape": "spline",
          "width": 1
         },
         "mode": "lines",
         "type": "scatter",
         "x": [
          -0.25384272277776576,
          -0.046990916455814886,
          null
         ],
         "y": [
          0.17223182079879204,
          0.21284037145690396,
          null
         ]
        },
        {
         "line": {
          "color": "mediumaquamarine",
          "shape": "spline",
          "width": 1
         },
         "mode": "lines",
         "type": "scatter",
         "x": [
          -0.25384208432639827,
          -0.046990916455814886,
          null
         ],
         "y": [
          0.17223281531674445,
          0.21284037145690396,
          null
         ]
        },
        {
         "line": {
          "color": "mediumaquamarine",
          "shape": "spline",
          "width": 1
         },
         "mode": "lines",
         "type": "scatter",
         "x": [
          -0.28022088432931513,
          -0.03623166786590053,
          null
         ],
         "y": [
          -0.37343010964428164,
          -0.35018066175006124,
          null
         ]
        },
        {
         "line": {
          "color": "mediumaquamarine",
          "shape": "spline",
          "width": 1
         },
         "mode": "lines",
         "type": "scatter",
         "x": [
          -0.2538391742481084,
          -0.046990916455814886,
          null
         ],
         "y": [
          0.17223487117422542,
          0.21284037145690396,
          null
         ]
        },
        {
         "line": {
          "color": "mediumaquamarine",
          "shape": "spline",
          "width": 1.189207115002721
         },
         "mode": "lines",
         "type": "scatter",
         "x": [
          -0.5079961449669633,
          -0.046990916455814886,
          null
         ],
         "y": [
          0.18495564592576683,
          0.21284037145690396,
          null
         ]
        },
        {
         "line": {
          "color": "mediumaquamarine",
          "shape": "spline",
          "width": 1
         },
         "mode": "lines",
         "type": "scatter",
         "x": [
          0.18526365883956505,
          0.3440215427162439,
          null
         ],
         "y": [
          -0.5846179681822352,
          -0.44671807066658414,
          null
         ]
        },
        {
         "line": {
          "color": "mediumaquamarine",
          "shape": "spline",
          "width": 1
         },
         "mode": "lines",
         "type": "scatter",
         "x": [
          0.5154831964841313,
          0.2690374449616967,
          null
         ],
         "y": [
          -0.30063462263229446,
          -0.2386533395725597,
          null
         ]
        },
        {
         "line": {
          "color": "mediumaquamarine",
          "shape": "spline",
          "width": 1
         },
         "mode": "lines",
         "type": "scatter",
         "x": [
          0.5154831964841313,
          0.29094739705890743,
          null
         ],
         "y": [
          -0.30063462263229446,
          -0.06815794270007974,
          null
         ]
        },
        {
         "line": {
          "color": "mediumaquamarine",
          "shape": "spline",
          "width": 1
         },
         "mode": "lines",
         "type": "scatter",
         "x": [
          0.049684873880099976,
          0.049684873880099976,
          null
         ],
         "y": [
          0.45699884167901367,
          0.45699884167901367,
          null
         ]
        },
        {
         "line": {
          "color": "mediumaquamarine",
          "shape": "spline",
          "width": 1
         },
         "mode": "lines",
         "type": "scatter",
         "x": [
          -0.253886120638,
          -0.046990916455814886,
          null
         ],
         "y": [
          0.17223906003869555,
          0.21284037145690396,
          null
         ]
        },
        {
         "line": {
          "color": "mediumaquamarine",
          "shape": "spline",
          "width": 1
         },
         "mode": "lines",
         "type": "scatter",
         "x": [
          0.6536111696571774,
          0.4826589834327793,
          null
         ],
         "y": [
          -0.4269036984997489,
          -0.6101178512510884,
          null
         ]
        },
        {
         "line": {
          "color": "mediumaquamarine",
          "shape": "spline",
          "width": 1
         },
         "mode": "lines",
         "type": "scatter",
         "x": [
          0.6536111696571774,
          0.49017376063827806,
          null
         ],
         "y": [
          -0.4269036984997489,
          -0.15794365254499812,
          null
         ]
        },
        {
         "line": {
          "color": "mediumaquamarine",
          "shape": "spline",
          "width": 1
         },
         "mode": "lines",
         "type": "scatter",
         "x": [
          0.1713219103117564,
          0.3440215427162439,
          null
         ],
         "y": [
          -0.33892564659343866,
          -0.44671807066658414,
          null
         ]
        },
        {
         "line": {
          "color": "mediumaquamarine",
          "shape": "spline",
          "width": 1
         },
         "mode": "lines",
         "type": "scatter",
         "x": [
          -0.2538756099572459,
          -0.046990916455814886,
          null
         ],
         "y": [
          0.17224128366049515,
          0.21284037145690396,
          null
         ]
        },
        {
         "line": {
          "color": "mediumaquamarine",
          "shape": "spline",
          "width": 1
         },
         "mode": "lines",
         "type": "scatter",
         "x": [
          0.1715519357359662,
          -0.011145066958727804,
          null
         ],
         "y": [
          0.5785078688149321,
          0.4887539221061084,
          null
         ]
        },
        {
         "line": {
          "color": "mediumaquamarine",
          "shape": "spline",
          "width": 1.6265765616977856
         },
         "mode": "lines",
         "type": "scatter",
         "x": [
          0.4826589834327793,
          -0.046990916455814886,
          null
         ],
         "y": [
          -0.6101178512510884,
          0.21284037145690396,
          null
         ]
        },
        {
         "line": {
          "color": "mediumaquamarine",
          "shape": "spline",
          "width": 1
         },
         "mode": "lines",
         "type": "scatter",
         "x": [
          0.4826589834327793,
          0.1661720714064134,
          null
         ],
         "y": [
          -0.6101178512510884,
          -0.5009375979143256,
          null
         ]
        },
        {
         "line": {
          "color": "mediumaquamarine",
          "shape": "spline",
          "width": 1
         },
         "mode": "lines",
         "type": "scatter",
         "x": [
          -0.14284722719484563,
          -0.15034101183155726,
          null
         ],
         "y": [
          0.3909456707738219,
          0.18737612285798394,
          null
         ]
        },
        {
         "line": {
          "color": "mediumaquamarine",
          "shape": "spline",
          "width": 1
         },
         "mode": "lines",
         "type": "scatter",
         "x": [
          -0.14284722719484563,
          0.049684873880099976,
          null
         ],
         "y": [
          0.3909456707738219,
          0.45699884167901367,
          null
         ]
        },
        {
         "line": {
          "color": "mediumaquamarine",
          "shape": "spline",
          "width": 1.189207115002721
         },
         "mode": "lines",
         "type": "scatter",
         "x": [
          -0.05269437140111136,
          -0.046990916455814886,
          null
         ],
         "y": [
          -0.16141589383709587,
          0.21284037145690396,
          null
         ]
        },
        {
         "line": {
          "color": "mediumaquamarine",
          "shape": "spline",
          "width": 1
         },
         "mode": "lines",
         "type": "scatter",
         "x": [
          -0.05269437140111136,
          -0.05269437140111136,
          null
         ],
         "y": [
          -0.16141589383709587,
          -0.16141589383709587,
          null
         ]
        },
        {
         "line": {
          "color": "mediumaquamarine",
          "shape": "spline",
          "width": 1
         },
         "mode": "lines",
         "type": "scatter",
         "x": [
          -0.05269437140111136,
          0.2690374449616967,
          null
         ],
         "y": [
          -0.16141589383709587,
          -0.2386533395725597,
          null
         ]
        },
        {
         "line": {
          "color": "mediumaquamarine",
          "shape": "spline",
          "width": 1
         },
         "mode": "lines",
         "type": "scatter",
         "x": [
          -0.08916178915686361,
          0.1661720714064134,
          null
         ],
         "y": [
          -0.6398483795528235,
          -0.5009375979143256,
          null
         ]
        },
        {
         "line": {
          "color": "mediumaquamarine",
          "shape": "spline",
          "width": 1
         },
         "mode": "lines",
         "type": "scatter",
         "x": [
          0.15277646152237206,
          -0.046990916455814886,
          null
         ],
         "y": [
          0.1350455312275401,
          0.21284037145690396,
          null
         ]
        },
        {
         "line": {
          "color": "mediumaquamarine",
          "shape": "spline",
          "width": 1
         },
         "mode": "lines",
         "type": "scatter",
         "x": [
          0.15277646152237206,
          0.29094739705890743,
          null
         ],
         "y": [
          0.1350455312275401,
          -0.06815794270007974,
          null
         ]
        },
        {
         "line": {
          "color": "mediumaquamarine",
          "shape": "spline",
          "width": 1
         },
         "mode": "lines",
         "type": "scatter",
         "x": [
          -0.45718976519120064,
          -0.2544154434336131,
          null
         ],
         "y": [
          0.13047459344388063,
          0.02939988495046766,
          null
         ]
        },
        {
         "line": {
          "color": "mediumaquamarine",
          "shape": "spline",
          "width": 1
         },
         "mode": "lines",
         "type": "scatter",
         "x": [
          -0.45718976519120064,
          -0.26028477954165646,
          null
         ],
         "y": [
          0.13047459344388063,
          0.07783871730608595,
          null
         ]
        },
        {
         "line": {
          "color": "mediumaquamarine",
          "shape": "spline",
          "width": 1
         },
         "mode": "lines",
         "type": "scatter",
         "x": [
          -0.45718976519120064,
          -0.23170616387948104,
          null
         ],
         "y": [
          0.13047459344388063,
          0.11761520551939535,
          null
         ]
        },
        {
         "line": {
          "color": "mediumaquamarine",
          "shape": "spline",
          "width": 1
         },
         "mode": "lines",
         "type": "scatter",
         "x": [
          -0.4571748725463658,
          -0.2544154434336131,
          null
         ],
         "y": [
          0.1305467953765872,
          0.02939988495046766,
          null
         ]
        },
        {
         "line": {
          "color": "mediumaquamarine",
          "shape": "spline",
          "width": 1
         },
         "mode": "lines",
         "type": "scatter",
         "x": [
          -0.4571748725463658,
          -0.23170616387948104,
          null
         ],
         "y": [
          0.1305467953765872,
          0.11761520551939535,
          null
         ]
        },
        {
         "line": {
          "color": "mediumaquamarine",
          "shape": "spline",
          "width": 1
         },
         "mode": "lines",
         "type": "scatter",
         "x": [
          -0.09673212677374662,
          0.10660264004339866,
          null
         ],
         "y": [
          -0.0853922627138707,
          -0.07352722688270652,
          null
         ]
        },
        {
         "line": {
          "color": "mediumaquamarine",
          "shape": "spline",
          "width": 1
         },
         "mode": "lines",
         "type": "scatter",
         "x": [
          -0.4881354333334524,
          -0.2649589144123616,
          null
         ],
         "y": [
          0.17842548564501337,
          0.17670073200212774,
          null
         ]
        },
        {
         "line": {
          "color": "mediumaquamarine",
          "shape": "spline",
          "width": 1
         },
         "mode": "lines",
         "type": "scatter",
         "x": [
          -0.2538464809572591,
          -0.046990916455814886,
          null
         ],
         "y": [
          0.17225504292374474,
          0.21284037145690396,
          null
         ]
        },
        {
         "line": {
          "color": "mediumaquamarine",
          "shape": "spline",
          "width": 1
         },
         "mode": "lines",
         "type": "scatter",
         "x": [
          -0.2538463401925817,
          -0.046990916455814886,
          null
         ],
         "y": [
          0.17225635972130218,
          0.21284037145690396,
          null
         ]
        },
        {
         "line": {
          "color": "mediumaquamarine",
          "shape": "spline",
          "width": 1
         },
         "mode": "lines",
         "type": "scatter",
         "x": [
          -0.2538464105321508,
          -0.046990916455814886,
          null
         ],
         "y": [
          0.17225808568699463,
          0.21284037145690396,
          null
         ]
        },
        {
         "line": {
          "color": "mediumaquamarine",
          "shape": "spline",
          "width": 1
         },
         "mode": "lines",
         "type": "scatter",
         "x": [
          -0.086979651715583,
          0.04444302743467723,
          null
         ],
         "y": [
          -0.05984686483486978,
          0.09575021636167633,
          null
         ]
        },
        {
         "line": {
          "color": "mediumaquamarine",
          "shape": "spline",
          "width": 1
         },
         "mode": "lines",
         "type": "scatter",
         "x": [
          -0.25384436279795913,
          -0.046990916455814886,
          null
         ],
         "y": [
          0.17225930793309724,
          0.21284037145690396,
          null
         ]
        },
        {
         "line": {
          "color": "mediumaquamarine",
          "shape": "spline",
          "width": 1
         },
         "mode": "lines",
         "type": "scatter",
         "x": [
          -0.010339129309178326,
          -0.2544154434336131,
          null
         ],
         "y": [
          -0.09162488542573866,
          0.02939988495046766,
          null
         ]
        },
        {
         "line": {
          "color": "mediumaquamarine",
          "shape": "spline",
          "width": 1
         },
         "mode": "lines",
         "type": "scatter",
         "x": [
          -0.010339129309178326,
          0.2690374449616967,
          null
         ],
         "y": [
          -0.09162488542573866,
          -0.2386533395725597,
          null
         ]
        },
        {
         "line": {
          "color": "mediumaquamarine",
          "shape": "spline",
          "width": 1
         },
         "mode": "lines",
         "type": "scatter",
         "x": [
          -0.010339129309178326,
          -0.23170616387948104,
          null
         ],
         "y": [
          -0.09162488542573866,
          0.11761520551939535,
          null
         ]
        },
        {
         "line": {
          "color": "mediumaquamarine",
          "shape": "spline",
          "width": 1
         },
         "mode": "lines",
         "type": "scatter",
         "x": [
          -0.2538410994003394,
          -0.046990916455814886,
          null
         ],
         "y": [
          0.17225927957059523,
          0.21284037145690396,
          null
         ]
        },
        {
         "line": {
          "color": "mediumaquamarine",
          "shape": "spline",
          "width": 1
         },
         "mode": "lines",
         "type": "scatter",
         "x": [
          -0.25384183354,
          -0.046990916455814886,
          null
         ],
         "y": [
          0.1722603201497639,
          0.21284037145690396,
          null
         ]
        },
        {
         "line": {
          "color": "mediumaquamarine",
          "shape": "spline",
          "width": 1.189207115002721
         },
         "mode": "lines",
         "type": "scatter",
         "x": [
          -0.5079922226981793,
          -0.046990916455814886,
          null
         ],
         "y": [
          0.1852022597864647,
          0.21284037145690396,
          null
         ]
        },
        {
         "line": {
          "color": "mediumaquamarine",
          "shape": "spline",
          "width": 1
         },
         "mode": "lines",
         "type": "scatter",
         "x": [
          -0.25384075093210295,
          -0.046990916455814886,
          null
         ],
         "y": [
          0.17226094608228526,
          0.21284037145690396,
          null
         ]
        },
        {
         "line": {
          "color": "mediumaquamarine",
          "shape": "spline",
          "width": 1
         },
         "mode": "lines",
         "type": "scatter",
         "x": [
          -0.02323606052775056,
          0.18526365883956505,
          null
         ],
         "y": [
          -0.5802383420661726,
          -0.5846179681822352,
          null
         ]
        },
        {
         "line": {
          "color": "mediumaquamarine",
          "shape": "spline",
          "width": 1
         },
         "mode": "lines",
         "type": "scatter",
         "x": [
          -0.02323606052775056,
          -0.13227150054974252,
          null
         ],
         "y": [
          -0.5802383420661726,
          -0.4061684684530822,
          null
         ]
        },
        {
         "line": {
          "color": "mediumaquamarine",
          "shape": "spline",
          "width": 1
         },
         "mode": "lines",
         "type": "scatter",
         "x": [
          -0.25383957379040495,
          -0.046990916455814886,
          null
         ],
         "y": [
          0.17226219095908402,
          0.21284037145690396,
          null
         ]
        },
        {
         "line": {
          "color": "mediumaquamarine",
          "shape": "spline",
          "width": 1
         },
         "mode": "lines",
         "type": "scatter",
         "x": [
          0.3426477108117135,
          0.22527806544787235,
          null
         ],
         "y": [
          0.37297275811253133,
          0.5279681843610675,
          null
         ]
        },
        {
         "line": {
          "color": "mediumaquamarine",
          "shape": "spline",
          "width": 1
         },
         "mode": "lines",
         "type": "scatter",
         "x": [
          -0.2538382230088621,
          -0.046990916455814886,
          null
         ],
         "y": [
          0.17226317106737118,
          0.21284037145690396,
          null
         ]
        },
        {
         "line": {
          "color": "mediumaquamarine",
          "shape": "spline",
          "width": 1
         },
         "mode": "lines",
         "type": "scatter",
         "x": [
          -0.25383630163975957,
          -0.046990916455814886,
          null
         ],
         "y": [
          0.17226228462236895,
          0.21284037145690396,
          null
         ]
        },
        {
         "line": {
          "color": "mediumaquamarine",
          "shape": "spline",
          "width": 1.5650845800732873
         },
         "mode": "lines",
         "type": "scatter",
         "x": [
          0.1661720714064134,
          -0.046990916455814886,
          null
         ],
         "y": [
          -0.5009375979143256,
          0.21284037145690396,
          null
         ]
        },
        {
         "line": {
          "color": "mediumaquamarine",
          "shape": "spline",
          "width": 1
         },
         "mode": "lines",
         "type": "scatter",
         "x": [
          0.1661720714064134,
          0.1833380565063693,
          null
         ],
         "y": [
          -0.5009375979143256,
          -0.7277150979944809,
          null
         ]
        },
        {
         "line": {
          "color": "mediumaquamarine",
          "shape": "spline",
          "width": 1
         },
         "mode": "lines",
         "type": "scatter",
         "x": [
          0.1661720714064134,
          0.18322422407373365,
          null
         ],
         "y": [
          -0.5009375979143256,
          -0.7277771771742519,
          null
         ]
        },
        {
         "line": {
          "color": "mediumaquamarine",
          "shape": "spline",
          "width": 1
         },
         "mode": "lines",
         "type": "scatter",
         "x": [
          0.1661720714064134,
          0.29094739705890743,
          null
         ],
         "y": [
          -0.5009375979143256,
          -0.06815794270007974,
          null
         ]
        },
        {
         "line": {
          "color": "mediumaquamarine",
          "shape": "spline",
          "width": 1
         },
         "mode": "lines",
         "type": "scatter",
         "x": [
          0.2690374449616967,
          0.25803712861746064,
          null
         ],
         "y": [
          -0.2386533395725597,
          -0.44133194198280634,
          null
         ]
        },
        {
         "line": {
          "color": "mediumaquamarine",
          "shape": "spline",
          "width": 1.4953487812212205
         },
         "mode": "lines",
         "type": "scatter",
         "x": [
          0.2690374449616967,
          -0.046990916455814886,
          null
         ],
         "y": [
          -0.2386533395725597,
          0.21284037145690396,
          null
         ]
        },
        {
         "line": {
          "color": "mediumaquamarine",
          "shape": "spline",
          "width": 1
         },
         "mode": "lines",
         "type": "scatter",
         "x": [
          0.2690374449616967,
          0.1661720714064134,
          null
         ],
         "y": [
          -0.2386533395725597,
          -0.5009375979143256,
          null
         ]
        },
        {
         "line": {
          "color": "mediumaquamarine",
          "shape": "spline",
          "width": 1
         },
         "mode": "lines",
         "type": "scatter",
         "x": [
          0.2690374449616967,
          0.25817113625150634,
          null
         ],
         "y": [
          -0.2386533395725597,
          -0.4412175759313457,
          null
         ]
        },
        {
         "line": {
          "color": "mediumaquamarine",
          "shape": "spline",
          "width": 1.4142135623730951
         },
         "mode": "lines",
         "type": "scatter",
         "x": [
          0.2690374449616967,
          0.2690374449616967,
          null
         ],
         "y": [
          -0.2386533395725597,
          -0.2386533395725597,
          null
         ]
        },
        {
         "line": {
          "color": "mediumaquamarine",
          "shape": "spline",
          "width": 1
         },
         "mode": "lines",
         "type": "scatter",
         "x": [
          0.2690374449616967,
          0.49017376063827806,
          null
         ],
         "y": [
          -0.2386533395725597,
          -0.15794365254499812,
          null
         ]
        },
        {
         "line": {
          "color": "mediumaquamarine",
          "shape": "spline",
          "width": 1.4142135623730951
         },
         "mode": "lines",
         "type": "scatter",
         "x": [
          0.2690374449616967,
          0.29094739705890743,
          null
         ],
         "y": [
          -0.2386533395725597,
          -0.06815794270007974,
          null
         ]
        },
        {
         "line": {
          "color": "mediumaquamarine",
          "shape": "spline",
          "width": 1
         },
         "mode": "lines",
         "type": "scatter",
         "x": [
          -0.25382447266279606,
          -0.046990916455814886,
          null
         ],
         "y": [
          0.17222591040281993,
          0.21284037145690396,
          null
         ]
        },
        {
         "line": {
          "color": "mediumaquamarine",
          "shape": "spline",
          "width": 1
         },
         "mode": "lines",
         "type": "scatter",
         "x": [
          -0.23170616387948104,
          -0.046990916455814886,
          null
         ],
         "y": [
          0.11761520551939535,
          0.21284037145690396,
          null
         ]
        },
        {
         "line": {
          "color": "mediumaquamarine",
          "shape": "spline",
          "width": 1
         },
         "mode": "lines",
         "type": "scatter",
         "x": [
          0.39474730417893344,
          0.22527806544787235,
          null
         ],
         "y": [
          0.48913926935264834,
          0.5279681843610675,
          null
         ]
        },
        {
         "line": {
          "color": "mediumaquamarine",
          "shape": "spline",
          "width": 1.3160740129524924
         },
         "mode": "lines",
         "type": "scatter",
         "x": [
          0.39474730417893344,
          -0.046990916455814886,
          null
         ],
         "y": [
          0.48913926935264834,
          0.21284037145690396,
          null
         ]
        },
        {
         "line": {
          "color": "mediumaquamarine",
          "shape": "spline",
          "width": 1
         },
         "mode": "lines",
         "type": "scatter",
         "x": [
          0.39474730417893344,
          0.049684873880099976,
          null
         ],
         "y": [
          0.48913926935264834,
          0.45699884167901367,
          null
         ]
        },
        {
         "line": {
          "color": "mediumaquamarine",
          "shape": "spline",
          "width": 1
         },
         "mode": "lines",
         "type": "scatter",
         "x": [
          -0.2538265499133858,
          -0.046990916455814886,
          null
         ],
         "y": [
          0.1722242080266741,
          0.21284037145690396,
          null
         ]
        },
        {
         "line": {
          "color": "mediumaquamarine",
          "shape": "spline",
          "width": 1
         },
         "mode": "lines",
         "type": "scatter",
         "x": [
          0.06560082463790216,
          -0.13431419955836296,
          null
         ],
         "y": [
          -0.1943305168827764,
          -0.15501873578505335,
          null
         ]
        },
        {
         "line": {
          "color": "mediumaquamarine",
          "shape": "spline",
          "width": 1
         },
         "mode": "lines",
         "type": "scatter",
         "x": [
          -0.08923375164473131,
          0.1661720714064134,
          null
         ],
         "y": [
          -0.6398717898607433,
          -0.5009375979143256,
          null
         ]
        },
        {
         "line": {
          "color": "mediumaquamarine",
          "shape": "spline",
          "width": 1
         },
         "mode": "lines",
         "type": "scatter",
         "x": [
          -0.25383333161969385,
          -0.046990916455814886,
          null
         ],
         "y": [
          0.1722214316371413,
          0.21284037145690396,
          null
         ]
        },
        {
         "line": {
          "color": "mediumaquamarine",
          "shape": "spline",
          "width": 1
         },
         "mode": "lines",
         "type": "scatter",
         "x": [
          -0.25383531770544465,
          -0.046990916455814886,
          null
         ],
         "y": [
          0.17221987486373724,
          0.21284037145690396,
          null
         ]
        },
        {
         "line": {
          "color": "mediumaquamarine",
          "shape": "spline",
          "width": 1
         },
         "mode": "lines",
         "type": "scatter",
         "x": [
          -0.25383709185694786,
          -0.046990916455814886,
          null
         ],
         "y": [
          0.17221817326976183,
          0.21284037145690396,
          null
         ]
        },
        {
         "line": {
          "color": "mediumaquamarine",
          "shape": "spline",
          "width": 1.5650845800732873
         },
         "mode": "lines",
         "type": "scatter",
         "x": [
          0.49017376063827806,
          -0.046990916455814886,
          null
         ],
         "y": [
          -0.15794365254499812,
          0.21284037145690396,
          null
         ]
        },
        {
         "line": {
          "color": "mediumaquamarine",
          "shape": "spline",
          "width": 1
         },
         "mode": "lines",
         "type": "scatter",
         "x": [
          0.49017376063827806,
          0.2690374449616967,
          null
         ],
         "y": [
          -0.15794365254499812,
          -0.2386533395725597,
          null
         ]
        },
        {
         "line": {
          "color": "mediumaquamarine",
          "shape": "spline",
          "width": 1
         },
         "mode": "lines",
         "type": "scatter",
         "x": [
          0.5698870786586611,
          0.2690374449616967,
          null
         ],
         "y": [
          -0.36131012469004026,
          -0.2386533395725597,
          null
         ]
        },
        {
         "line": {
          "color": "mediumaquamarine",
          "shape": "spline",
          "width": 1
         },
         "mode": "lines",
         "type": "scatter",
         "x": [
          0.5698870786586611,
          0.49017376063827806,
          null
         ],
         "y": [
          -0.36131012469004026,
          -0.15794365254499812,
          null
         ]
        },
        {
         "line": {
          "color": "mediumaquamarine",
          "shape": "spline",
          "width": 1
         },
         "mode": "lines",
         "type": "scatter",
         "x": [
          0.10282853934308896,
          -0.03264689010375969,
          null
         ],
         "y": [
          -0.045956102576163414,
          0.10612259520016445,
          null
         ]
        },
        {
         "line": {
          "color": "mediumaquamarine",
          "shape": "spline",
          "width": 1
         },
         "mode": "lines",
         "type": "scatter",
         "x": [
          -0.4571985291940721,
          -0.2544154434336131,
          null
         ],
         "y": [
          0.13085293666608852,
          0.02939988495046766,
          null
         ]
        },
        {
         "line": {
          "color": "mediumaquamarine",
          "shape": "spline",
          "width": 1
         },
         "mode": "lines",
         "type": "scatter",
         "x": [
          -0.4571985291940721,
          -0.23170616387948104,
          null
         ],
         "y": [
          0.13085293666608852,
          0.11761520551939535,
          null
         ]
        },
        {
         "line": {
          "color": "mediumaquamarine",
          "shape": "spline",
          "width": 1
         },
         "mode": "lines",
         "type": "scatter",
         "x": [
          -0.2538765514998222,
          -0.046990916455814886,
          null
         ],
         "y": [
          0.1722163611464956,
          0.21284037145690396,
          null
         ]
        },
        {
         "line": {
          "color": "mediumaquamarine",
          "shape": "spline",
          "width": 1
         },
         "mode": "lines",
         "type": "scatter",
         "x": [
          -0.2649589144123616,
          -0.046990916455814886,
          null
         ],
         "y": [
          0.17670073200212774,
          0.21284037145690396,
          null
         ]
        },
        {
         "line": {
          "color": "mediumaquamarine",
          "shape": "spline",
          "width": 1
         },
         "mode": "lines",
         "type": "scatter",
         "x": [
          -0.25388295661704063,
          -0.046990916455814886,
          null
         ],
         "y": [
          0.1722152306299753,
          0.21284037145690396,
          null
         ]
        },
        {
         "line": {
          "color": "mediumaquamarine",
          "shape": "spline",
          "width": 1
         },
         "mode": "lines",
         "type": "scatter",
         "x": [
          -0.2538833599871711,
          -0.046990916455814886,
          null
         ],
         "y": [
          0.17221289871654819,
          0.21284037145690396,
          null
         ]
        },
        {
         "line": {
          "color": "mediumaquamarine",
          "shape": "spline",
          "width": 1
         },
         "mode": "lines",
         "type": "scatter",
         "x": [
          -0.25388388120556843,
          -0.046990916455814886,
          null
         ],
         "y": [
          0.1722108037806369,
          0.21284037145690396,
          null
         ]
        },
        {
         "line": {
          "color": "mediumaquamarine",
          "shape": "spline",
          "width": 1
         },
         "mode": "lines",
         "type": "scatter",
         "x": [
          -0.2538842536842242,
          -0.046990916455814886,
          null
         ],
         "y": [
          0.1722082435267078,
          0.21284037145690396,
          null
         ]
        },
        {
         "hovertemplate": [
          "202001Chris Murphy",
          "202001Chris Van Hollen",
          "202001Bill Clinton",
          "202001Darrell Issa",
          "202001David Plouffe",
          "202001Mick Mulvaney",
          "202001Joe Scarborough",
          "202001Ed Markey",
          "202001Jennifer Horn",
          "202001Jeff Merkley",
          "202001Toni Atkins",
          "202001David Jolly",
          "202001John Dean",
          "202001Mazie Hirono",
          "202001Nury Martinez",
          "202001Nancy Pelosi",
          "202001Jennifer Palmieri",
          "202001Trey Gowdy",
          "202001Steve Bartlett",
          "202001Steve Scalise",
          "202001Pramila Jayapal",
          "202001Mark Pocan",
          "202001Richard Blumenthal",
          "202001Paul Gosar",
          "202001Rudy Giuliani",
          "202001Rick Perry",
          "202001Zoe Lofgren",
          "202001Jackie Speier",
          "202001Lindsey Graham",
          "202001Kirsten Gillibrand",
          "202001Amy Klobuchar",
          "202001Claire McCaskill",
          "202001Olympia Snowe",
          "202001Donald Trump",
          "202001Mike Pence",
          "202001Jeanne Shaheen",
          "202001Jon Ossoff",
          "202001Tammy Duckworth",
          "202001Karl Rove",
          "202001John R. Bolton",
          "202001Marianne Williamson",
          "202001Marco Rubio",
          "202001Tulsi Gabbard",
          "202001Rex Tillerson",
          "202001Adam Schiff",
          "202001Mitch McConnell",
          "202001Chuck Schumer",
          "202001Ann McLane Kuster",
          "202001Mark Randall Meadows",
          "202001Kevin Cramer",
          "202001Lamar Alexander",
          "202001Elizabeth Warren",
          "202001Rick Scott",
          "202001Mitt Romney",
          "202001Carolyn Maloney",
          "202001Gavin Newsom",
          "202001Rand Paul",
          "202001Mike Pompeo",
          "202001Marie Newman",
          "202001Carl DeMaio",
          "202001Chris Pappas",
          "202001Dan Lipinski",
          "202001Duncan L. Hunter",
          "202001Jack Reed",
          "202001Pat Roberts",
          "202001Luz Rivas",
          "202001Alexandria Ocasio-Cortez",
          "202001Michael Bennet",
          "202001Hakeem Jeffries",
          "202001Elaine Luria",
          "202001Patrick Leahy",
          "202001Michael Bloomberg",
          "202001Jeff Van Drew",
          "202001John Rood",
          "202001Joe Biden",
          "202001Hillary Clinton",
          "202001Kellyanne Conway",
          "202001Chris Christie",
          "202001Kevin Faulconer",
          "202001Kevin McCarthy",
          "202001Krystal Ball",
          "202001Martha Fuller Clark",
          "202001Pam Bondi",
          "202001Pete Buttigieg",
          "202001John Cornyn",
          "202001William Barr",
          "202001Rashida Tlaib",
          "202001Ro Khanna",
          "202001Ryan Winkler",
          "202001Barack Obama",
          "202001Kevin McCarthy",
          "202001Tate Reeves",
          "202001Ted Lieu",
          "202001Scott Tipton",
          "202001Val Demings",
          "202001Warren Limmer",
          "202001Peter Shumlin",
          "202001Chris Coons",
          "202001Raúl Grijalva",
          "202001Patrick J. Kennedy",
          "202001Julián Castro",
          "202002Chris Murphy",
          "202002Kamala Harris",
          "202002Bill Clinton",
          "202002Cory Gardner",
          "202002Jim Hodges",
          "202002Andrew Cuomo",
          "202002Joaquín Castro",
          "202002Mick Mulvaney",
          "202002Joe Scarborough",
          "202002James Carville",
          "202002Jim Clyburn"
         ],
         "marker": {
          "color": [
           "blue",
           "blue",
           "blue",
           "blue",
           "blue",
           "blue",
           "blue",
           "blue",
           "blue",
           "blue",
           "blue",
           "blue",
           "blue",
           "blue",
           "blue",
           "blue",
           "blue",
           "blue",
           "blue",
           "blue",
           "blue",
           "blue",
           "blue",
           "blue",
           "blue",
           "blue",
           "blue",
           "blue",
           "blue",
           "blue",
           "blue",
           "blue",
           "blue",
           "blue",
           "blue",
           "blue",
           "blue",
           "blue",
           "blue",
           "blue",
           "blue",
           "blue",
           "blue",
           "blue",
           "blue",
           "blue",
           "blue",
           "blue",
           "blue",
           "blue",
           "blue",
           "blue",
           "blue",
           "blue",
           "blue",
           "blue",
           "red",
           "red",
           "red",
           "red",
           "red",
           "red",
           "red",
           "red",
           "red",
           "red",
           "red",
           "red",
           "red",
           "red",
           "red",
           "red",
           "red",
           "red",
           "red",
           "red",
           "red",
           "red",
           "red",
           "red",
           "red",
           "red",
           "red",
           "red",
           "red",
           "red",
           "red",
           "red",
           "red",
           "red",
           "red",
           "red",
           "red",
           "red",
           "red",
           "red",
           "red",
           "red",
           "red",
           "red",
           "red",
           "red",
           "red",
           "red",
           "red",
           "red",
           "red",
           "red",
           "red",
           "red",
           "red",
           "red"
          ],
          "line": {
           "color": [
            "blue",
            "blue",
            "blue",
            "blue",
            "blue",
            "blue",
            "blue",
            "blue",
            "blue",
            "blue",
            "blue",
            "blue",
            "blue",
            "blue",
            "blue",
            "blue",
            "blue",
            "blue",
            "blue",
            "blue",
            "blue",
            "blue",
            "blue",
            "blue",
            "blue",
            "blue",
            "blue",
            "blue",
            "blue",
            "blue",
            "blue",
            "blue",
            "blue",
            "blue",
            "blue",
            "blue",
            "blue",
            "blue",
            "blue",
            "blue",
            "blue",
            "blue",
            "blue",
            "blue",
            "blue",
            "blue",
            "blue",
            "blue",
            "blue",
            "blue",
            "blue",
            "blue",
            "blue",
            "blue",
            "blue",
            "blue",
            "red",
            "red",
            "red",
            "red",
            "red",
            "red",
            "red",
            "red",
            "red",
            "red",
            "red",
            "red",
            "red",
            "red",
            "red",
            "red",
            "red",
            "red",
            "red",
            "red",
            "red",
            "red",
            "red",
            "red",
            "red",
            "red",
            "red",
            "red",
            "red",
            "red",
            "red",
            "red",
            "red",
            "red",
            "red",
            "red",
            "red",
            "red",
            "red",
            "red",
            "red",
            "red",
            "red",
            "red",
            "red",
            "red",
            "red",
            "red",
            "red",
            "red",
            "red",
            "red",
            "red",
            "red",
            "red",
            "red"
           ],
           "width": 2
          },
          "size": 15
         },
         "mode": "markers",
         "type": "scatter",
         "x": [
          -0.2538861614724361,
          -0.2539381898342635,
          -0.2544154434336131,
          -0.011145066958727804,
          0.5717946181503243,
          -0.2539092570184062,
          -0.2584506856788922,
          0.15278945242584727,
          0.5762186531291856,
          1,
          0.8195344616275223,
          0.4372167577837611,
          0.08788227220928034,
          0.08916392585997854,
          0.3428214176145803,
          -0.08915512453278185,
          0.11127417166858421,
          -0.2539363034248378,
          0.04444302743467723,
          0.22527806544787235,
          -0.15034101183155726,
          0.22615442032495287,
          -0.2539356830304834,
          0.08076597837894949,
          0.16482476725333625,
          -0.25394375521144646,
          0.25803712861746064,
          0.212089125231628,
          0.8265829259162691,
          -0.03623166786590053,
          0.4846135595614289,
          0.013508990522313542,
          -0.046990916455814886,
          -0.2538770915400085,
          -0.26028477954165646,
          -0.2538782982682559,
          0.11125572735401369,
          -0.03264689010375969,
          0.1112554750212957,
          -0.3199196702440453,
          -0.12707688946268036,
          -0.25384272277776576,
          -0.25384208432639827,
          -0.28022088432931513,
          -0.2538391742481084,
          -0.5079961449669633,
          0.18526365883956505,
          0.5154831964841313,
          0.049684873880099976,
          -0.253886120638,
          0.6536111696571774,
          0.1713219103117564,
          -0.2538756099572459,
          0.1833380565063693,
          0.48518973330265514,
          0.1715519357359662,
          0.4826589834327793,
          -0.14284722719484563,
          -0.05269437140111136,
          -0.011353869742413328,
          -0.08916178915686361,
          0.15277646152237206,
          -0.45718976519120064,
          -0.4571748725463658,
          -0.09673212677374662,
          -0.4881354333334524,
          -0.2538464809572591,
          -0.2538463401925817,
          -0.2538464105321508,
          -0.086979651715583,
          -0.25384436279795913,
          -0.13431419955836296,
          -0.010339129309178326,
          -0.2538410994003394,
          -0.25384183354,
          -0.5079922226981793,
          -0.25384075093210295,
          -0.02323606052775056,
          -0.25383957379040495,
          0.3426477108117135,
          -0.2538382230088621,
          -0.25383630163975957,
          0.1661720714064134,
          0.25817113625150634,
          -0.011370997543038799,
          0.2690374449616967,
          -0.25382447266279606,
          -0.23170616387948104,
          0.39474730417893344,
          -0.2538265499133858,
          0.06560082463790216,
          0.18322422407373365,
          -0.08923375164473131,
          -0.25383333161969385,
          -0.25383531770544465,
          -0.25383709185694786,
          0.49017376063827806,
          -0.13227150054974252,
          0.7512084757501742,
          0.3440215427162439,
          0.5698870786586611,
          0.10282853934308896,
          0.29094739705890743,
          -0.4571985291940721,
          0.16369029533257448,
          -0.2538765514998222,
          0.10660264004339866,
          -0.2649589144123616,
          -0.25388295661704063,
          -0.2538833599871711,
          -0.25388388120556843,
          -0.2538842536842242
         ],
         "y": [
          0.17220692594315112,
          0.17255091880895743,
          0.02939988495046766,
          0.4887539221061084,
          -0.4312742408832208,
          0.17221107383309545,
          -0.24396368001567295,
          0.13508204051531492,
          0.3713792441072575,
          -0.7690370611023601,
          -0.6209115518318161,
          -0.8272211539236833,
          -0.08416431245137139,
          -0.0960604346143917,
          0.3731693014805722,
          -0.6398545116972019,
          0.012322481288843744,
          0.17221007967781357,
          0.09575021636167633,
          0.5279681843610675,
          0.18737612285798394,
          0.10216486433273929,
          0.17221289561172615,
          0.14709990886015092,
          -0.35016037237416076,
          0.17221150187581225,
          -0.44133194198280634,
          0.8314757408770145,
          -0.6386003475290047,
          -0.35018066175006124,
          0.18930843196130914,
          0.47097700266376347,
          0.21284037145690396,
          0.17223040575230514,
          0.07783871730608595,
          0.17222603212301144,
          0.012316153053499859,
          0.10612259520016445,
          0.012316061713486226,
          0.36553087546356533,
          0.1607551862602852,
          0.17223182079879204,
          0.17223281531674445,
          -0.37343010964428164,
          0.17223487117422542,
          0.18495564592576683,
          -0.5846179681822352,
          -0.30063462263229446,
          0.45699884167901367,
          0.17223906003869555,
          -0.4269036984997489,
          -0.33892564659343866,
          0.17224128366049515,
          -0.7277150979944809,
          0.18904054538114498,
          0.5785078688149321,
          -0.6101178512510884,
          0.3909456707738219,
          -0.16141589383709587,
          0.4888296673321951,
          -0.6398483795528235,
          0.1350455312275401,
          0.13047459344388063,
          0.1305467953765872,
          -0.0853922627138707,
          0.17842548564501337,
          0.17225504292374474,
          0.17225635972130218,
          0.17225808568699463,
          -0.05984686483486978,
          0.17225930793309724,
          -0.15501873578505335,
          -0.09162488542573866,
          0.17225927957059523,
          0.1722603201497639,
          0.1852022597864647,
          0.17226094608228526,
          -0.5802383420661726,
          0.17226219095908402,
          0.37297275811253133,
          0.17226317106737118,
          0.17226228462236895,
          -0.5009375979143256,
          -0.4412175759313457,
          0.4887701309055294,
          -0.2386533395725597,
          0.17222591040281993,
          0.11761520551939535,
          0.48913926935264834,
          0.1722242080266741,
          -0.1943305168827764,
          -0.7277771771742519,
          -0.6398717898607433,
          0.1722214316371413,
          0.17221987486373724,
          0.17221817326976183,
          -0.15794365254499812,
          -0.4061684684530822,
          -0.4489586799444104,
          -0.44671807066658414,
          -0.36131012469004026,
          -0.045956102576163414,
          -0.06815794270007974,
          0.13085293666608852,
          -0.03896215949186053,
          0.1722163611464956,
          -0.07352722688270652,
          0.17670073200212774,
          0.1722152306299753,
          0.17221289871654819,
          0.1722108037806369,
          0.1722082435267078
         ]
        },
        {
         "line": {
          "color": "mediumaquamarine",
          "shape": "spline",
          "width": 1
         },
         "mode": "lines",
         "type": "scatter",
         "x": [
          -0.06992336700034084,
          0.12556425051847703,
          null
         ],
         "y": [
          -0.1586829777366672,
          0.08122592568284567,
          null
         ]
        },
        {
         "line": {
          "color": "mediumaquamarine",
          "shape": "spline",
          "width": 1
         },
         "mode": "lines",
         "type": "scatter",
         "x": [
          -0.06992336700034084,
          -0.407030296784562,
          null
         ],
         "y": [
          -0.1586829777366672,
          -0.17496591204824347,
          null
         ]
        },
        {
         "line": {
          "color": "mediumaquamarine",
          "shape": "spline",
          "width": 1
         },
         "mode": "lines",
         "type": "scatter",
         "x": [
          0.11493020163084758,
          -0.1238258914100189,
          null
         ],
         "y": [
          -0.037230153504011286,
          -0.12321821603927363,
          null
         ]
        },
        {
         "line": {
          "color": "mediumaquamarine",
          "shape": "spline",
          "width": 1
         },
         "mode": "lines",
         "type": "scatter",
         "x": [
          0.11493020163084758,
          -0.10224256406625327,
          null
         ],
         "y": [
          -0.037230153504011286,
          -0.16851127198769233,
          null
         ]
        },
        {
         "line": {
          "color": "mediumaquamarine",
          "shape": "spline",
          "width": 1.189207115002721
         },
         "mode": "lines",
         "type": "scatter",
         "x": [
          0.25099278596533997,
          0.25099278596533997,
          null
         ],
         "y": [
          0.05239933473186786,
          0.05239933473186786,
          null
         ]
        },
        {
         "line": {
          "color": "mediumaquamarine",
          "shape": "spline",
          "width": 1
         },
         "mode": "lines",
         "type": "scatter",
         "x": [
          0.37652346402589504,
          0.12556425051847703,
          null
         ],
         "y": [
          0.17290046169792567,
          0.08122592568284567,
          null
         ]
        },
        {
         "line": {
          "color": "mediumaquamarine",
          "shape": "spline",
          "width": 1
         },
         "mode": "lines",
         "type": "scatter",
         "x": [
          -0.06949913220490775,
          0.12556425051847703,
          null
         ],
         "y": [
          -0.14839745485457323,
          0.08122592568284567,
          null
         ]
        },
        {
         "line": {
          "color": "mediumaquamarine",
          "shape": "spline",
          "width": 1
         },
         "mode": "lines",
         "type": "scatter",
         "x": [
          -0.06949913220490775,
          -0.407030296784562,
          null
         ],
         "y": [
          -0.14839745485457323,
          -0.17496591204824347,
          null
         ]
        },
        {
         "line": {
          "color": "mediumaquamarine",
          "shape": "spline",
          "width": 1
         },
         "mode": "lines",
         "type": "scatter",
         "x": [
          0.3765116345964723,
          0.12556425051847703,
          null
         ],
         "y": [
          0.1728819139682018,
          0.08122592568284567,
          null
         ]
        },
        {
         "line": {
          "color": "mediumaquamarine",
          "shape": "spline",
          "width": 1
         },
         "mode": "lines",
         "type": "scatter",
         "x": [
          -0.18068395434277848,
          0.12556425051847703,
          null
         ],
         "y": [
          0.13452358267925332,
          0.08122592568284567,
          null
         ]
        },
        {
         "line": {
          "color": "mediumaquamarine",
          "shape": "spline",
          "width": 1
         },
         "mode": "lines",
         "type": "scatter",
         "x": [
          0.2000176015052409,
          -0.03965275375338926,
          null
         ],
         "y": [
          0.18886598828034948,
          0.27236542302965105,
          null
         ]
        },
        {
         "line": {
          "color": "mediumaquamarine",
          "shape": "spline",
          "width": 1
         },
         "mode": "lines",
         "type": "scatter",
         "x": [
          0.37652375832850443,
          0.12556425051847703,
          null
         ],
         "y": [
          0.17290334224943787,
          0.08122592568284567,
          null
         ]
        },
        {
         "line": {
          "color": "mediumaquamarine",
          "shape": "spline",
          "width": 1
         },
         "mode": "lines",
         "type": "scatter",
         "x": [
          0.24753679781055724,
          0.12556425051847703,
          null
         ],
         "y": [
          0.35224335246371696,
          0.08122592568284567,
          null
         ]
        },
        {
         "line": {
          "color": "mediumaquamarine",
          "shape": "spline",
          "width": 1
         },
         "mode": "lines",
         "type": "scatter",
         "x": [
          0.002350141299245145,
          -0.21601950527218683,
          null
         ],
         "y": [
          0.2066631712898084,
          0.07745875231172576,
          null
         ]
        },
        {
         "line": {
          "color": "mediumaquamarine",
          "shape": "spline",
          "width": 1.189207115002721
         },
         "mode": "lines",
         "type": "scatter",
         "x": [
          -1,
          -0.407030296784562,
          null
         ],
         "y": [
          -0.008553954498802903,
          -0.17496591204824347,
          null
         ]
        },
        {
         "line": {
          "color": "mediumaquamarine",
          "shape": "spline",
          "width": 1
         },
         "mode": "lines",
         "type": "scatter",
         "x": [
          -0.012430188028066343,
          0.03418312371220912,
          null
         ],
         "y": [
          0.14637995491470235,
          0.39563047263382056,
          null
         ]
        },
        {
         "line": {
          "color": "mediumaquamarine",
          "shape": "spline",
          "width": 1
         },
         "mode": "lines",
         "type": "scatter",
         "x": [
          0.12556425051847703,
          0.4868409919390241,
          null
         ],
         "y": [
          0.08122592568284567,
          -0.18938320795122363,
          null
         ]
        },
        {
         "line": {
          "color": "mediumaquamarine",
          "shape": "spline",
          "width": 1
         },
         "mode": "lines",
         "type": "scatter",
         "x": [
          0.12556425051847703,
          -0.18068395434277848,
          null
         ],
         "y": [
          0.08122592568284567,
          0.13452358267925332,
          null
         ]
        },
        {
         "line": {
          "color": "mediumaquamarine",
          "shape": "spline",
          "width": 1
         },
         "mode": "lines",
         "type": "scatter",
         "x": [
          0.12556425051847703,
          0.24753679781055724,
          null
         ],
         "y": [
          0.08122592568284567,
          0.35224335246371696,
          null
         ]
        },
        {
         "line": {
          "color": "mediumaquamarine",
          "shape": "spline",
          "width": 1.5650845800732873
         },
         "mode": "lines",
         "type": "scatter",
         "x": [
          0.12556425051847703,
          0.12556425051847703,
          null
         ],
         "y": [
          0.08122592568284567,
          0.08122592568284567,
          null
         ]
        },
        {
         "line": {
          "color": "mediumaquamarine",
          "shape": "spline",
          "width": 1
         },
         "mode": "lines",
         "type": "scatter",
         "x": [
          0.12556425051847703,
          -0.031075821273408046,
          null
         ],
         "y": [
          0.08122592568284567,
          0.3744150226821672,
          null
         ]
        },
        {
         "line": {
          "color": "mediumaquamarine",
          "shape": "spline",
          "width": 1
         },
         "mode": "lines",
         "type": "scatter",
         "x": [
          0.12556425051847703,
          -0.030994664803139393,
          null
         ],
         "y": [
          0.08122592568284567,
          0.3744761083588138,
          null
         ]
        },
        {
         "line": {
          "color": "mediumaquamarine",
          "shape": "spline",
          "width": 1
         },
         "mode": "lines",
         "type": "scatter",
         "x": [
          0.12556425051847703,
          -0.030996759294375443,
          null
         ],
         "y": [
          0.08122592568284567,
          0.37447533498719976,
          null
         ]
        },
        {
         "line": {
          "color": "mediumaquamarine",
          "shape": "spline",
          "width": 1
         },
         "mode": "lines",
         "type": "scatter",
         "x": [
          0.12556425051847703,
          -0.09525654737371206,
          null
         ],
         "y": [
          0.08122592568284567,
          0.350641540187102,
          null
         ]
        },
        {
         "line": {
          "color": "mediumaquamarine",
          "shape": "spline",
          "width": 1
         },
         "mode": "lines",
         "type": "scatter",
         "x": [
          0.12556425051847703,
          -0.030868636292583927,
          null
         ],
         "y": [
          0.08122592568284567,
          0.378117451449038,
          null
         ]
        },
        {
         "line": {
          "color": "mediumaquamarine",
          "shape": "spline",
          "width": 1
         },
         "mode": "lines",
         "type": "scatter",
         "x": [
          0.12556425051847703,
          -0.32710379200727635,
          null
         ],
         "y": [
          0.08122592568284567,
          0.02585505311443355,
          null
         ]
        },
        {
         "line": {
          "color": "mediumaquamarine",
          "shape": "spline",
          "width": 1
         },
         "mode": "lines",
         "type": "scatter",
         "x": [
          0.12556425051847703,
          0.27871331852236975,
          null
         ],
         "y": [
          0.08122592568284567,
          -0.18985035756394322,
          null
         ]
        },
        {
         "line": {
          "color": "mediumaquamarine",
          "shape": "spline",
          "width": 1
         },
         "mode": "lines",
         "type": "scatter",
         "x": [
          0.12556425051847703,
          0.48681380410668107,
          null
         ],
         "y": [
          0.08122592568284567,
          -0.18944876792558707,
          null
         ]
        },
        {
         "line": {
          "color": "mediumaquamarine",
          "shape": "spline",
          "width": 1.189207115002721
         },
         "mode": "lines",
         "type": "scatter",
         "x": [
          0.12556425051847703,
          -0.407030296784562,
          null
         ],
         "y": [
          0.08122592568284567,
          -0.17496591204824347,
          null
         ]
        },
        {
         "line": {
          "color": "mediumaquamarine",
          "shape": "spline",
          "width": 1
         },
         "mode": "lines",
         "type": "scatter",
         "x": [
          0.12556425051847703,
          0.03418312371220912,
          null
         ],
         "y": [
          0.08122592568284567,
          0.39563047263382056,
          null
         ]
        },
        {
         "line": {
          "color": "mediumaquamarine",
          "shape": "spline",
          "width": 1
         },
         "mode": "lines",
         "type": "scatter",
         "x": [
          0.12556425051847703,
          0.4868363797217803,
          null
         ],
         "y": [
          0.08122592568284567,
          -0.18939457976605625,
          null
         ]
        },
        {
         "line": {
          "color": "mediumaquamarine",
          "shape": "spline",
          "width": 1
         },
         "mode": "lines",
         "type": "scatter",
         "x": [
          0.03451360324132861,
          0.03418312371220912,
          null
         ],
         "y": [
          0.14189004114256581,
          0.39563047263382056,
          null
         ]
        },
        {
         "line": {
          "color": "mediumaquamarine",
          "shape": "spline",
          "width": 1
         },
         "mode": "lines",
         "type": "scatter",
         "x": [
          0.009484332426199284,
          0.12556425051847703,
          null
         ],
         "y": [
          -0.14452211264767117,
          0.08122592568284567,
          null
         ]
        },
        {
         "line": {
          "color": "mediumaquamarine",
          "shape": "spline",
          "width": 1.189207115002721
         },
         "mode": "lines",
         "type": "scatter",
         "x": [
          0.009484332426199284,
          -0.407030296784562,
          null
         ],
         "y": [
          -0.14452211264767117,
          -0.17496591204824347,
          null
         ]
        },
        {
         "line": {
          "color": "mediumaquamarine",
          "shape": "spline",
          "width": 1
         },
         "mode": "lines",
         "type": "scatter",
         "x": [
          -0.11248906376126197,
          0.1404998750839004,
          null
         ],
         "y": [
          0.19278624176704592,
          0.17326930648864708,
          null
         ]
        },
        {
         "line": {
          "color": "mediumaquamarine",
          "shape": "spline",
          "width": 1
         },
         "mode": "lines",
         "type": "scatter",
         "x": [
          -0.08726767189468829,
          -0.21601950527218683,
          null
         ],
         "y": [
          0.2961794106274135,
          0.07745875231172576,
          null
         ]
        },
        {
         "line": {
          "color": "mediumaquamarine",
          "shape": "spline",
          "width": 1
         },
         "mode": "lines",
         "type": "scatter",
         "x": [
          -0.09525654737371206,
          0.03418312371220912,
          null
         ],
         "y": [
          0.350641540187102,
          0.39563047263382056,
          null
         ]
        },
        {
         "line": {
          "color": "mediumaquamarine",
          "shape": "spline",
          "width": 1.189207115002721
         },
         "mode": "lines",
         "type": "scatter",
         "x": [
          -0.030868636292583927,
          -0.1341978888014287,
          null
         ],
         "y": [
          0.378117451449038,
          0.9366341301021904,
          null
         ]
        },
        {
         "line": {
          "color": "mediumaquamarine",
          "shape": "spline",
          "width": 1
         },
         "mode": "lines",
         "type": "scatter",
         "x": [
          0.025395395580866533,
          0.12556425051847703,
          null
         ],
         "y": [
          -0.14209702578135142,
          0.08122592568284567,
          null
         ]
        },
        {
         "line": {
          "color": "mediumaquamarine",
          "shape": "spline",
          "width": 1
         },
         "mode": "lines",
         "type": "scatter",
         "x": [
          0.02540135584104194,
          0.12556425051847703,
          null
         ],
         "y": [
          -0.14208423721303345,
          0.08122592568284567,
          null
         ]
        },
        {
         "line": {
          "color": "mediumaquamarine",
          "shape": "spline",
          "width": 1.4142135623730951
         },
         "mode": "lines",
         "type": "scatter",
         "x": [
          -0.32710379200727635,
          0.12556425051847703,
          null
         ],
         "y": [
          0.02585505311443355,
          0.08122592568284567,
          null
         ]
        },
        {
         "line": {
          "color": "mediumaquamarine",
          "shape": "spline",
          "width": 1
         },
         "mode": "lines",
         "type": "scatter",
         "x": [
          -0.32710379200727635,
          -0.407030296784562,
          null
         ],
         "y": [
          0.02585505311443355,
          -0.17496591204824347,
          null
         ]
        },
        {
         "line": {
          "color": "mediumaquamarine",
          "shape": "spline",
          "width": 1
         },
         "mode": "lines",
         "type": "scatter",
         "x": [
          -0.0694837091903562,
          0.12556425051847703,
          null
         ],
         "y": [
          -0.14840518717800572,
          0.08122592568284567,
          null
         ]
        },
        {
         "line": {
          "color": "mediumaquamarine",
          "shape": "spline",
          "width": 1
         },
         "mode": "lines",
         "type": "scatter",
         "x": [
          -0.0694837091903562,
          0.15509852986688152,
          null
         ],
         "y": [
          -0.14840518717800572,
          -0.266683929101483,
          null
         ]
        },
        {
         "line": {
          "color": "mediumaquamarine",
          "shape": "spline",
          "width": 1
         },
         "mode": "lines",
         "type": "scatter",
         "x": [
          -0.0694837091903562,
          -0.407030296784562,
          null
         ],
         "y": [
          -0.14840518717800572,
          -0.17496591204824347,
          null
         ]
        },
        {
         "line": {
          "color": "mediumaquamarine",
          "shape": "spline",
          "width": 1
         },
         "mode": "lines",
         "type": "scatter",
         "x": [
          0.02538657629377427,
          0.12556425051847703,
          null
         ],
         "y": [
          -0.14211095518138617,
          0.08122592568284567,
          null
         ]
        },
        {
         "line": {
          "color": "mediumaquamarine",
          "shape": "spline",
          "width": 1
         },
         "mode": "lines",
         "type": "scatter",
         "x": [
          0.025386534787018526,
          0.12556425051847703,
          null
         ],
         "y": [
          -0.14211295557347575,
          0.08122592568284567,
          null
         ]
        },
        {
         "line": {
          "color": "mediumaquamarine",
          "shape": "spline",
          "width": 1
         },
         "mode": "lines",
         "type": "scatter",
         "x": [
          -0.4371472076950761,
          -0.407030296784562,
          null
         ],
         "y": [
          -0.44609317203244425,
          -0.17496591204824347,
          null
         ]
        },
        {
         "line": {
          "color": "mediumaquamarine",
          "shape": "spline",
          "width": 1
         },
         "mode": "lines",
         "type": "scatter",
         "x": [
          -0.12254878898013782,
          -0.26935460953291956,
          null
         ],
         "y": [
          -0.24247820549908794,
          -0.035455048820548306,
          null
         ]
        },
        {
         "line": {
          "color": "mediumaquamarine",
          "shape": "spline",
          "width": 1
         },
         "mode": "lines",
         "type": "scatter",
         "x": [
          -0.050946437299762046,
          -0.2537822852458737,
          null
         ],
         "y": [
          -0.2789843827704257,
          -0.12639374181303822,
          null
         ]
        },
        {
         "line": {
          "color": "mediumaquamarine",
          "shape": "spline",
          "width": 1
         },
         "mode": "lines",
         "type": "scatter",
         "x": [
          -0.10787959604795998,
          -0.06992336700034084,
          null
         ],
         "y": [
          -0.43917600314951377,
          -0.1586829777366672,
          null
         ]
        },
        {
         "line": {
          "color": "mediumaquamarine",
          "shape": "spline",
          "width": 1
         },
         "mode": "lines",
         "type": "scatter",
         "x": [
          -0.10787959604795998,
          -0.10787959604795998,
          null
         ],
         "y": [
          -0.43917600314951377,
          -0.43917600314951377,
          null
         ]
        },
        {
         "line": {
          "color": "mediumaquamarine",
          "shape": "spline",
          "width": 1
         },
         "mode": "lines",
         "type": "scatter",
         "x": [
          -0.10787959604795998,
          0.1151534690336601,
          null
         ],
         "y": [
          -0.43917600314951377,
          -0.3178952587389406,
          null
         ]
        },
        {
         "line": {
          "color": "mediumaquamarine",
          "shape": "spline",
          "width": 1
         },
         "mode": "lines",
         "type": "scatter",
         "x": [
          -0.09498032549867211,
          -0.031075821273408046,
          null
         ],
         "y": [
          0.1287225936816323,
          0.3744150226821672,
          null
         ]
        },
        {
         "line": {
          "color": "mediumaquamarine",
          "shape": "spline",
          "width": 1
         },
         "mode": "lines",
         "type": "scatter",
         "x": [
          0.025388400590996906,
          0.12556425051847703,
          null
         ],
         "y": [
          -0.14210652699153953,
          0.08122592568284567,
          null
         ]
        },
        {
         "line": {
          "color": "mediumaquamarine",
          "shape": "spline",
          "width": 1
         },
         "mode": "lines",
         "type": "scatter",
         "x": [
          0.025388839953283945,
          0.12556425051847703,
          null
         ],
         "y": [
          -0.14210342517779273,
          0.08122592568284567,
          null
         ]
        },
        {
         "line": {
          "color": "mediumaquamarine",
          "shape": "spline",
          "width": 1
         },
         "mode": "lines",
         "type": "scatter",
         "x": [
          0.27871331852236975,
          0.12556425051847703,
          null
         ],
         "y": [
          -0.18985035756394322,
          0.08122592568284567,
          null
         ]
        },
        {
         "line": {
          "color": "mediumaquamarine",
          "shape": "spline",
          "width": 1
         },
         "mode": "lines",
         "type": "scatter",
         "x": [
          0.27871331852236975,
          0.27871331852236975,
          null
         ],
         "y": [
          -0.18985035756394322,
          -0.18985035756394322,
          null
         ]
        },
        {
         "line": {
          "color": "mediumaquamarine",
          "shape": "spline",
          "width": 1
         },
         "mode": "lines",
         "type": "scatter",
         "x": [
          -0.407030296784562,
          -0.18068395434277848,
          null
         ],
         "y": [
          -0.17496591204824347,
          0.13452358267925332,
          null
         ]
        },
        {
         "line": {
          "color": "mediumaquamarine",
          "shape": "spline",
          "width": 1.9343364202676694
         },
         "mode": "lines",
         "type": "scatter",
         "x": [
          -0.407030296784562,
          0.12556425051847703,
          null
         ],
         "y": [
          -0.17496591204824347,
          0.08122592568284567,
          null
         ]
        },
        {
         "line": {
          "color": "mediumaquamarine",
          "shape": "spline",
          "width": 1.189207115002721
         },
         "mode": "lines",
         "type": "scatter",
         "x": [
          -0.407030296784562,
          -0.9633708590812551,
          null
         ],
         "y": [
          -0.17496591204824347,
          -0.436379450482141,
          null
         ]
        },
        {
         "line": {
          "color": "mediumaquamarine",
          "shape": "spline",
          "width": 1
         },
         "mode": "lines",
         "type": "scatter",
         "x": [
          -0.407030296784562,
          -0.32710379200727635,
          null
         ],
         "y": [
          -0.17496591204824347,
          0.02585505311443355,
          null
         ]
        },
        {
         "line": {
          "color": "mediumaquamarine",
          "shape": "spline",
          "width": 1.7320508075688772
         },
         "mode": "lines",
         "type": "scatter",
         "x": [
          -0.407030296784562,
          -0.407030296784562,
          null
         ],
         "y": [
          -0.17496591204824347,
          -0.17496591204824347,
          null
         ]
        },
        {
         "line": {
          "color": "mediumaquamarine",
          "shape": "spline",
          "width": 1.3160740129524924
         },
         "mode": "lines",
         "type": "scatter",
         "x": [
          -0.407030296784562,
          0.03418312371220912,
          null
         ],
         "y": [
          -0.17496591204824347,
          0.39563047263382056,
          null
         ]
        },
        {
         "line": {
          "color": "mediumaquamarine",
          "shape": "spline",
          "width": 1.189207115002721
         },
         "mode": "lines",
         "type": "scatter",
         "x": [
          0.08310057839459586,
          0.03418312371220912,
          null
         ],
         "y": [
          -0.110585128120345,
          0.39563047263382056,
          null
         ]
        },
        {
         "line": {
          "color": "mediumaquamarine",
          "shape": "spline",
          "width": 1
         },
         "mode": "lines",
         "type": "scatter",
         "x": [
          0.08858173915217561,
          0.27871331852236975,
          null
         ],
         "y": [
          -0.4319334871329036,
          -0.18985035756394322,
          null
         ]
        },
        {
         "line": {
          "color": "mediumaquamarine",
          "shape": "spline",
          "width": 1
         },
         "mode": "lines",
         "type": "scatter",
         "x": [
          0.3764390337037802,
          0.12556425051847703,
          null
         ],
         "y": [
          0.17276394050591218,
          0.08122592568284567,
          null
         ]
        },
        {
         "line": {
          "color": "mediumaquamarine",
          "shape": "spline",
          "width": 1
         },
         "mode": "lines",
         "type": "scatter",
         "x": [
          0.3764390337037802,
          0.3764390337037802,
          null
         ],
         "y": [
          0.17276394050591218,
          0.17276394050591218,
          null
         ]
        },
        {
         "line": {
          "color": "mediumaquamarine",
          "shape": "spline",
          "width": 1
         },
         "mode": "lines",
         "type": "scatter",
         "x": [
          0.3764310909335287,
          0.12556425051847703,
          null
         ],
         "y": [
          0.1727513785333494,
          0.08122592568284567,
          null
         ]
        },
        {
         "line": {
          "color": "mediumaquamarine",
          "shape": "spline",
          "width": 1
         },
         "mode": "lines",
         "type": "scatter",
         "x": [
          -0.07997863548732125,
          -0.32710379200727635,
          null
         ],
         "y": [
          -0.28815234122253053,
          0.02585505311443355,
          null
         ]
        },
        {
         "line": {
          "color": "mediumaquamarine",
          "shape": "spline",
          "width": 1
         },
         "mode": "lines",
         "type": "scatter",
         "x": [
          -0.07997863548732125,
          0.27871331852236975,
          null
         ],
         "y": [
          -0.28815234122253053,
          -0.18985035756394322,
          null
         ]
        },
        {
         "line": {
          "color": "mediumaquamarine",
          "shape": "spline",
          "width": 1
         },
         "mode": "lines",
         "type": "scatter",
         "x": [
          0.2351194245767656,
          0.2351194245767656,
          null
         ],
         "y": [
          -0.10259211587357765,
          -0.10259211587357765,
          null
         ]
        },
        {
         "line": {
          "color": "mediumaquamarine",
          "shape": "spline",
          "width": 1
         },
         "mode": "lines",
         "type": "scatter",
         "x": [
          -0.43658049270669186,
          -0.407030296784562,
          null
         ],
         "y": [
          -0.44631197061437455,
          -0.17496591204824347,
          null
         ]
        },
        {
         "line": {
          "color": "mediumaquamarine",
          "shape": "spline",
          "width": 1
         },
         "mode": "lines",
         "type": "scatter",
         "x": [
          0.3765044119879617,
          0.12556425051847703,
          null
         ],
         "y": [
          0.17287428543086658,
          0.08122592568284567,
          null
         ]
        },
        {
         "hovertemplate": [
          "202001Chris Murphy",
          "202001Chris Van Hollen",
          "202001Bill Clinton",
          "202001Darrell Issa",
          "202001David Plouffe",
          "202001Mick Mulvaney",
          "202001Joe Scarborough",
          "202001Ed Markey",
          "202001Jennifer Horn",
          "202001Jeff Merkley",
          "202001Toni Atkins",
          "202001David Jolly",
          "202001John Dean",
          "202001Mazie Hirono",
          "202001Nury Martinez",
          "202001Nancy Pelosi",
          "202001Jennifer Palmieri",
          "202001Trey Gowdy",
          "202001Steve Bartlett",
          "202001Steve Scalise",
          "202001Pramila Jayapal",
          "202001Mark Pocan",
          "202001Richard Blumenthal",
          "202001Paul Gosar",
          "202001Rudy Giuliani",
          "202001Rick Perry",
          "202001Zoe Lofgren",
          "202001Jackie Speier",
          "202001Lindsey Graham",
          "202001Kirsten Gillibrand",
          "202001Amy Klobuchar",
          "202001Claire McCaskill",
          "202001Olympia Snowe",
          "202001Donald Trump",
          "202001Mike Pence",
          "202001Jeanne Shaheen",
          "202001Jon Ossoff",
          "202001Tammy Duckworth",
          "202001Karl Rove",
          "202001John R. Bolton",
          "202001Marianne Williamson",
          "202001Marco Rubio",
          "202001Tulsi Gabbard",
          "202001Rex Tillerson",
          "202001Adam Schiff",
          "202001Mitch McConnell",
          "202001Chuck Schumer",
          "202001Ann McLane Kuster",
          "202001Mark Randall Meadows",
          "202001Kevin Cramer",
          "202001Lamar Alexander",
          "202001Elizabeth Warren",
          "202001Rick Scott",
          "202001Mitt Romney",
          "202001Carolyn Maloney",
          "202001Gavin Newsom",
          "202001Rand Paul",
          "202001Mike Pompeo",
          "202001Marie Newman",
          "202001Carl DeMaio",
          "202001Chris Pappas"
         ],
         "marker": {
          "color": [
           "blue",
           "blue",
           "blue",
           "blue",
           "blue",
           "blue",
           "blue",
           "blue",
           "blue",
           "blue",
           "blue",
           "blue",
           "blue",
           "blue",
           "blue",
           "blue",
           "blue",
           "blue",
           "blue",
           "blue",
           "blue",
           "blue",
           "blue",
           "blue",
           "blue",
           "blue",
           "blue",
           "blue",
           "blue",
           "blue",
           "red",
           "red",
           "red",
           "red",
           "red",
           "red",
           "red",
           "red",
           "red",
           "red",
           "red",
           "red",
           "red",
           "red",
           "red",
           "red",
           "red",
           "red",
           "red",
           "red",
           "red",
           "red",
           "red",
           "red",
           "red",
           "red",
           "red",
           "red",
           "red",
           "red",
           "red"
          ],
          "line": {
           "color": [
            "blue",
            "blue",
            "blue",
            "blue",
            "blue",
            "blue",
            "blue",
            "blue",
            "blue",
            "blue",
            "blue",
            "blue",
            "blue",
            "blue",
            "blue",
            "blue",
            "blue",
            "blue",
            "blue",
            "blue",
            "blue",
            "blue",
            "blue",
            "blue",
            "blue",
            "blue",
            "blue",
            "blue",
            "blue",
            "blue",
            "red",
            "red",
            "red",
            "red",
            "red",
            "red",
            "red",
            "red",
            "red",
            "red",
            "red",
            "red",
            "red",
            "red",
            "red",
            "red",
            "red",
            "red",
            "red",
            "red",
            "red",
            "red",
            "red",
            "red",
            "red",
            "red",
            "red",
            "red",
            "red",
            "red",
            "red"
           ],
           "width": 2
          },
          "size": 15
         },
         "mode": "markers",
         "type": "scatter",
         "x": [
          -0.06992336700034084,
          0.11493020163084758,
          0.25099278596533997,
          0.4868409919390241,
          0.37652346402589504,
          -0.06949913220490775,
          0.3765116345964723,
          0.1404998750839004,
          -0.18068395434277848,
          0.2000176015052409,
          0.37652375832850443,
          0.24753679781055724,
          0.002350141299245145,
          -1,
          -0.012430188028066343,
          -0.03965275375338926,
          0.12556425051847703,
          0.03451360324132861,
          -0.031075821273408046,
          -0.030994664803139393,
          -0.030996759294375443,
          0.009484332426199284,
          -0.11248906376126197,
          -0.08726767189468829,
          -0.21601950527218683,
          -0.09525654737371206,
          -0.030868636292583927,
          0.025395395580866533,
          -0.9633708590812551,
          0.02540135584104194,
          -0.32710379200727635,
          -0.0694837091903562,
          0.02538657629377427,
          -0.26935460953291956,
          0.025386534787018526,
          -0.4371472076950761,
          -0.1341978888014287,
          -0.1238258914100189,
          -0.2537822852458737,
          -0.10224256406625327,
          -0.12254878898013782,
          -0.050946437299762046,
          -0.10787959604795998,
          -0.09498032549867211,
          0.025388400590996906,
          0.025388839953283945,
          0.27871331852236975,
          0.15509852986688152,
          0.48681380410668107,
          -0.407030296784562,
          0.08310057839459586,
          0.08858173915217561,
          0.3764390337037802,
          0.3764310909335287,
          -0.07997863548732125,
          0.1151534690336601,
          0.03418312371220912,
          0.2351194245767656,
          0.4868363797217803,
          -0.43658049270669186,
          0.3765044119879617
         ],
         "y": [
          -0.1586829777366672,
          -0.037230153504011286,
          0.05239933473186786,
          -0.18938320795122363,
          0.17290046169792567,
          -0.14839745485457323,
          0.1728819139682018,
          0.17326930648864708,
          0.13452358267925332,
          0.18886598828034948,
          0.17290334224943787,
          0.35224335246371696,
          0.2066631712898084,
          -0.008553954498802903,
          0.14637995491470235,
          0.27236542302965105,
          0.08122592568284567,
          0.14189004114256581,
          0.3744150226821672,
          0.3744761083588138,
          0.37447533498719976,
          -0.14452211264767117,
          0.19278624176704592,
          0.2961794106274135,
          0.07745875231172576,
          0.350641540187102,
          0.378117451449038,
          -0.14209702578135142,
          -0.436379450482141,
          -0.14208423721303345,
          0.02585505311443355,
          -0.14840518717800572,
          -0.14211095518138617,
          -0.035455048820548306,
          -0.14211295557347575,
          -0.44609317203244425,
          0.9366341301021904,
          -0.12321821603927363,
          -0.12639374181303822,
          -0.16851127198769233,
          -0.24247820549908794,
          -0.2789843827704257,
          -0.43917600314951377,
          0.1287225936816323,
          -0.14210652699153953,
          -0.14210342517779273,
          -0.18985035756394322,
          -0.266683929101483,
          -0.18944876792558707,
          -0.17496591204824347,
          -0.110585128120345,
          -0.4319334871329036,
          0.17276394050591218,
          0.1727513785333494,
          -0.28815234122253053,
          -0.3178952587389406,
          0.39563047263382056,
          -0.10259211587357765,
          -0.18939457976605625,
          -0.44631197061437455,
          0.17287428543086658
         ]
        },
        {
         "line": {
          "color": "mediumaquamarine",
          "shape": "spline",
          "width": 1
         },
         "mode": "lines",
         "type": "scatter",
         "x": [
          0.4201351639696622,
          0.4201351639696622,
          null
         ],
         "y": [
          0.0010301855287867083,
          0.0010301855287867083,
          null
         ]
        },
        {
         "line": {
          "color": "mediumaquamarine",
          "shape": "spline",
          "width": 1
         },
         "mode": "lines",
         "type": "scatter",
         "x": [
          0.32215712056554696,
          -0.03378812295016482,
          null
         ],
         "y": [
          0.14853740007011065,
          0.35314815537662775,
          null
         ]
        },
        {
         "line": {
          "color": "mediumaquamarine",
          "shape": "spline",
          "width": 1
         },
         "mode": "lines",
         "type": "scatter",
         "x": [
          0.34015685819077396,
          0.1997361191962242,
          null
         ],
         "y": [
          0.09401661480229888,
          -0.2917928446258578,
          null
         ]
        },
        {
         "line": {
          "color": "mediumaquamarine",
          "shape": "spline",
          "width": 1
         },
         "mode": "lines",
         "type": "scatter",
         "x": [
          0.20265265079415853,
          -0.200161935582182,
          null
         ],
         "y": [
          -0.17764868685999663,
          -0.0967134099410691,
          null
         ]
        },
        {
         "line": {
          "color": "mediumaquamarine",
          "shape": "spline",
          "width": 1
         },
         "mode": "lines",
         "type": "scatter",
         "x": [
          0.2018935874533882,
          -0.200161935582182,
          null
         ],
         "y": [
          -0.18111574164294217,
          -0.0967134099410691,
          null
         ]
        },
        {
         "line": {
          "color": "mediumaquamarine",
          "shape": "spline",
          "width": 1
         },
         "mode": "lines",
         "type": "scatter",
         "x": [
          -0.23306525341995016,
          -0.200161935582182,
          null
         ],
         "y": [
          0.31151184950558364,
          -0.0967134099410691,
          null
         ]
        },
        {
         "line": {
          "color": "mediumaquamarine",
          "shape": "spline",
          "width": 1
         },
         "mode": "lines",
         "type": "scatter",
         "x": [
          -0.23306525341995016,
          -0.5778881979515358,
          null
         ],
         "y": [
          0.31151184950558364,
          0.08196544330714987,
          null
         ]
        },
        {
         "line": {
          "color": "mediumaquamarine",
          "shape": "spline",
          "width": 1.4142135623730951
         },
         "mode": "lines",
         "type": "scatter",
         "x": [
          -0.200161935582182,
          -0.200161935582182,
          null
         ],
         "y": [
          -0.0967134099410691,
          -0.0967134099410691,
          null
         ]
        },
        {
         "line": {
          "color": "mediumaquamarine",
          "shape": "spline",
          "width": 1
         },
         "mode": "lines",
         "type": "scatter",
         "x": [
          -0.200161935582182,
          -0.5778881979515358,
          null
         ],
         "y": [
          -0.0967134099410691,
          0.08196544330714987,
          null
         ]
        },
        {
         "line": {
          "color": "mediumaquamarine",
          "shape": "spline",
          "width": 1
         },
         "mode": "lines",
         "type": "scatter",
         "x": [
          -0.23294403792209087,
          -0.200161935582182,
          null
         ],
         "y": [
          0.31144598554227476,
          -0.0967134099410691,
          null
         ]
        },
        {
         "line": {
          "color": "mediumaquamarine",
          "shape": "spline",
          "width": 1
         },
         "mode": "lines",
         "type": "scatter",
         "x": [
          -0.23294403792209087,
          -0.5778881979515358,
          null
         ],
         "y": [
          0.31144598554227476,
          0.08196544330714987,
          null
         ]
        },
        {
         "line": {
          "color": "mediumaquamarine",
          "shape": "spline",
          "width": 1
         },
         "mode": "lines",
         "type": "scatter",
         "x": [
          -0.28056944759960195,
          -0.463450609781581,
          null
         ],
         "y": [
          0.37050530261903564,
          0.0029216295330042217,
          null
         ]
        },
        {
         "line": {
          "color": "mediumaquamarine",
          "shape": "spline",
          "width": 1
         },
         "mode": "lines",
         "type": "scatter",
         "x": [
          -0.4159795594281268,
          -0.4159795594281268,
          null
         ],
         "y": [
          0.04793765951446853,
          0.04793765951446853,
          null
         ]
        },
        {
         "line": {
          "color": "mediumaquamarine",
          "shape": "spline",
          "width": 1
         },
         "mode": "lines",
         "type": "scatter",
         "x": [
          0.205119352799749,
          -0.200161935582182,
          null
         ],
         "y": [
          -0.1659067370886455,
          -0.0967134099410691,
          null
         ]
        },
        {
         "line": {
          "color": "mediumaquamarine",
          "shape": "spline",
          "width": 1
         },
         "mode": "lines",
         "type": "scatter",
         "x": [
          -0.19150112132268363,
          -0.5778881979515358,
          null
         ],
         "y": [
          0.21828054209133022,
          0.08196544330714987,
          null
         ]
        },
        {
         "line": {
          "color": "mediumaquamarine",
          "shape": "spline",
          "width": 1.189207115002721
         },
         "mode": "lines",
         "type": "scatter",
         "x": [
          0.5945596944866242,
          -0.200161935582182,
          null
         ],
         "y": [
          -0.30443604663400076,
          -0.0967134099410691,
          null
         ]
        },
        {
         "line": {
          "color": "mediumaquamarine",
          "shape": "spline",
          "width": 1
         },
         "mode": "lines",
         "type": "scatter",
         "x": [
          0.20580782343547047,
          -0.200161935582182,
          null
         ],
         "y": [
          -0.16223764687423267,
          -0.0967134099410691,
          null
         ]
        },
        {
         "line": {
          "color": "mediumaquamarine",
          "shape": "spline",
          "width": 1
         },
         "mode": "lines",
         "type": "scatter",
         "x": [
          0.2088997705256518,
          -0.200161935582182,
          null
         ],
         "y": [
          -0.14412388966045314,
          -0.0967134099410691,
          null
         ]
        },
        {
         "line": {
          "color": "mediumaquamarine",
          "shape": "spline",
          "width": 1
         },
         "mode": "lines",
         "type": "scatter",
         "x": [
          0.0617338464866835,
          0.17170561257589248,
          null
         ],
         "y": [
          -0.12329102521417169,
          0.27233158490680537,
          null
         ]
        },
        {
         "line": {
          "color": "mediumaquamarine",
          "shape": "spline",
          "width": 1
         },
         "mode": "lines",
         "type": "scatter",
         "x": [
          0.0617338464866835,
          -0.17213142030285225,
          null
         ],
         "y": [
          -0.12329102521417169,
          0.21418588235435865,
          null
         ]
        },
        {
         "line": {
          "color": "mediumaquamarine",
          "shape": "spline",
          "width": 1
         },
         "mode": "lines",
         "type": "scatter",
         "x": [
          0.0617338464866835,
          -0.2183437035549335,
          null
         ],
         "y": [
          -0.12329102521417169,
          -0.4234825603814944,
          null
         ]
        },
        {
         "line": {
          "color": "mediumaquamarine",
          "shape": "spline",
          "width": 1
         },
         "mode": "lines",
         "type": "scatter",
         "x": [
          0.0617338464866835,
          0.0617338464866835,
          null
         ],
         "y": [
          -0.12329102521417169,
          -0.12329102521417169,
          null
         ]
        },
        {
         "line": {
          "color": "mediumaquamarine",
          "shape": "spline",
          "width": 1
         },
         "mode": "lines",
         "type": "scatter",
         "x": [
          0.0617338464866835,
          0.47180668363345907,
          null
         ],
         "y": [
          -0.12329102521417169,
          -0.1018705165419691,
          null
         ]
        },
        {
         "line": {
          "color": "mediumaquamarine",
          "shape": "spline",
          "width": 1
         },
         "mode": "lines",
         "type": "scatter",
         "x": [
          -0.5778881979515358,
          -1,
          null
         ],
         "y": [
          0.08196544330714987,
          0.05881624853666161,
          null
         ]
        },
        {
         "line": {
          "color": "mediumaquamarine",
          "shape": "spline",
          "width": 1
         },
         "mode": "lines",
         "type": "scatter",
         "x": [
          -0.5778881979515358,
          -0.5778881979515358,
          null
         ],
         "y": [
          0.08196544330714987,
          0.08196544330714987,
          null
         ]
        },
        {
         "line": {
          "color": "mediumaquamarine",
          "shape": "spline",
          "width": 1
         },
         "mode": "lines",
         "type": "scatter",
         "x": [
          0.20823424736133037,
          -0.200161935582182,
          null
         ],
         "y": [
          -0.14843675747453622,
          -0.0967134099410691,
          null
         ]
        },
        {
         "line": {
          "color": "mediumaquamarine",
          "shape": "spline",
          "width": 1
         },
         "mode": "lines",
         "type": "scatter",
         "x": [
          0.20522487834108755,
          -0.200161935582182,
          null
         ],
         "y": [
          -0.16557862074912752,
          -0.0967134099410691,
          null
         ]
        },
        {
         "hovertemplate": [
          "202001Chris Murphy",
          "202001Chris Van Hollen",
          "202001Bill Clinton",
          "202001Darrell Issa",
          "202001David Plouffe",
          "202001Mick Mulvaney",
          "202001Joe Scarborough",
          "202001Ed Markey",
          "202001Jennifer Horn",
          "202001Jeff Merkley",
          "202001Toni Atkins",
          "202001David Jolly",
          "202001John Dean",
          "202001Mazie Hirono",
          "202001Nury Martinez",
          "202001Nancy Pelosi",
          "202001Jennifer Palmieri",
          "202001Trey Gowdy",
          "202001Steve Bartlett",
          "202001Steve Scalise",
          "202001Pramila Jayapal",
          "202001Mark Pocan",
          "202001Richard Blumenthal",
          "202001Paul Gosar",
          "202001Rudy Giuliani",
          "202001Rick Perry",
          "202001Zoe Lofgren"
         ],
         "marker": {
          "color": [
           "blue",
           "blue",
           "blue",
           "blue",
           "blue",
           "blue",
           "blue",
           "blue",
           "blue",
           "blue",
           "blue",
           "blue",
           "blue",
           "red",
           "red",
           "red",
           "red",
           "red",
           "red",
           "red",
           "red",
           "red",
           "red",
           "red",
           "red",
           "red",
           "red"
          ],
          "line": {
           "color": [
            "blue",
            "blue",
            "blue",
            "blue",
            "blue",
            "blue",
            "blue",
            "blue",
            "blue",
            "blue",
            "blue",
            "blue",
            "blue",
            "red",
            "red",
            "red",
            "red",
            "red",
            "red",
            "red",
            "red",
            "red",
            "red",
            "red",
            "red",
            "red",
            "red"
           ],
           "width": 2
          },
          "size": 15
         },
         "mode": "markers",
         "type": "scatter",
         "x": [
          0.4201351639696622,
          0.32215712056554696,
          0.34015685819077396,
          0.20265265079415853,
          0.2018935874533882,
          0.17170561257589248,
          -0.23306525341995016,
          -0.200161935582182,
          -0.03378812295016482,
          -0.17213142030285225,
          -0.23294403792209087,
          -0.28056944759960195,
          -0.463450609781581,
          -0.4159795594281268,
          0.205119352799749,
          -0.19150112132268363,
          -1,
          0.5945596944866242,
          0.20580782343547047,
          -0.2183437035549335,
          0.2088997705256518,
          0.0617338464866835,
          0.1997361191962242,
          -0.5778881979515358,
          0.20823424736133037,
          0.20522487834108755,
          0.47180668363345907
         ],
         "y": [
          0.0010301855287867083,
          0.14853740007011065,
          0.09401661480229888,
          -0.17764868685999663,
          -0.18111574164294217,
          0.27233158490680537,
          0.31151184950558364,
          -0.0967134099410691,
          0.35314815537662775,
          0.21418588235435865,
          0.31144598554227476,
          0.37050530261903564,
          0.0029216295330042217,
          0.04793765951446853,
          -0.1659067370886455,
          0.21828054209133022,
          0.05881624853666161,
          -0.30443604663400076,
          -0.16223764687423267,
          -0.4234825603814944,
          -0.14412388966045314,
          -0.12329102521417169,
          -0.2917928446258578,
          0.08196544330714987,
          -0.14843675747453622,
          -0.16557862074912752,
          -0.1018705165419691
         ]
        }
       ],
       "layout": {
        "height": 1000,
        "hovermode": "closest",
        "margin": {
         "t": 100
        },
        "paper_bgcolor": "rgba(255,255,255,255)",
        "plot_bgcolor": "rgba(0,0,0,0)",
        "scene": {
         "xaxis": {
          "showbackground": false,
          "showgrid": false,
          "showline": false,
          "showticklabels": false,
          "title": {
           "text": ""
          },
          "visible": false,
          "zeroline": false
         },
         "yaxis": {
          "showbackground": false,
          "showgrid": false,
          "showline": false,
          "showticklabels": false,
          "title": {
           "text": ""
          },
          "visible": false,
          "zeroline": false
         }
        },
        "showlegend": false,
        "sliders": [
         {
          "active": 1,
          "currentvalue": {
           "prefix": "Year: "
          },
          "pad": {
           "t": 10
          },
          "steps": [
           {
            "args": [
             {
              "visible": [
               true,
               true,
               true,
               true,
               true,
               true,
               true,
               true,
               true,
               true,
               true,
               true,
               true,
               true,
               true,
               true,
               true,
               true,
               true,
               true,
               true,
               true,
               true,
               true,
               true,
               true,
               true,
               true,
               true,
               true,
               true,
               true,
               true,
               true,
               true,
               true,
               true,
               true,
               true,
               true,
               true,
               true,
               true,
               true,
               true,
               true,
               true,
               true,
               true,
               true,
               true,
               true,
               true,
               true,
               true,
               true,
               true,
               true,
               true,
               true,
               true,
               true,
               true,
               true,
               true,
               true,
               true,
               true,
               true,
               true,
               true,
               true,
               true,
               true,
               true,
               true,
               true,
               true,
               true,
               true,
               true,
               true,
               true,
               true,
               true,
               true,
               true,
               true,
               true,
               true,
               true,
               true,
               true,
               true,
               true,
               true,
               true,
               true,
               true,
               true,
               true,
               true,
               true,
               true,
               true,
               true,
               true,
               true,
               true,
               true,
               true,
               true,
               true,
               true,
               true,
               true,
               true,
               true,
               true,
               true,
               true,
               true,
               true,
               true,
               true,
               false,
               false,
               false,
               false,
               false,
               false,
               false,
               false,
               false,
               false,
               false,
               false,
               false,
               false,
               false,
               false,
               false,
               false,
               false,
               false,
               false,
               false,
               false,
               false,
               false,
               false,
               false,
               false,
               false,
               false,
               false,
               false,
               false,
               false,
               false,
               false,
               false,
               false,
               false,
               false,
               false,
               false,
               false,
               false,
               false,
               false,
               false,
               false,
               false,
               false,
               false,
               false,
               false,
               false,
               false,
               false,
               false,
               false,
               false,
               false,
               false,
               false,
               false,
               false,
               false,
               false,
               false,
               false,
               false,
               false,
               false,
               false,
               false,
               false,
               false,
               false,
               false,
               false,
               false,
               false,
               false,
               false,
               false,
               false,
               false,
               false,
               false,
               false,
               false,
               false,
               false,
               false,
               false,
               false,
               false,
               false,
               false,
               false,
               false,
               false,
               false,
               false,
               false,
               false,
               false,
               false,
               false,
               false,
               false,
               false,
               false,
               false,
               false,
               false,
               false,
               false,
               false,
               false,
               false,
               false,
               false,
               false,
               false,
               false,
               false,
               false,
               false,
               false,
               false,
               false,
               false,
               false,
               false,
               false,
               false,
               false,
               false,
               false,
               false,
               false,
               false,
               false,
               false,
               false,
               false,
               false,
               false,
               false,
               false,
               false,
               false,
               false,
               false,
               false,
               false,
               false,
               false,
               false,
               false,
               false,
               false,
               false,
               false,
               false,
               false,
               false,
               false,
               false,
               false,
               false,
               false,
               false,
               false,
               false,
               false,
               false,
               false,
               false,
               false,
               false,
               false,
               false,
               false,
               false,
               false,
               false,
               false,
               false,
               false,
               false,
               false,
               false,
               false,
               false,
               false,
               false,
               false,
               false,
               false,
               false,
               false,
               false,
               false,
               false,
               false,
               false,
               false,
               false,
               false,
               false,
               false,
               false,
               false,
               false,
               false,
               false,
               false,
               false,
               false,
               false,
               false,
               false,
               false,
               false,
               false,
               false,
               false,
               false,
               false,
               false,
               false,
               false,
               false,
               false,
               false,
               false,
               false,
               false,
               false,
               false,
               false,
               false
              ]
             },
             {
              "title": "titleYear: 202001"
             }
            ],
            "label": "202001",
            "method": "update"
           },
           {
            "args": [
             {
              "visible": [
               false,
               false,
               false,
               false,
               false,
               false,
               false,
               false,
               false,
               false,
               false,
               false,
               false,
               false,
               false,
               false,
               false,
               false,
               false,
               false,
               false,
               false,
               false,
               false,
               false,
               false,
               false,
               false,
               false,
               false,
               false,
               false,
               false,
               false,
               false,
               false,
               false,
               false,
               false,
               false,
               false,
               false,
               false,
               false,
               false,
               false,
               false,
               false,
               false,
               false,
               false,
               false,
               false,
               false,
               false,
               false,
               false,
               false,
               false,
               false,
               false,
               false,
               false,
               false,
               false,
               false,
               false,
               false,
               false,
               false,
               false,
               false,
               false,
               false,
               false,
               false,
               false,
               false,
               false,
               false,
               false,
               false,
               false,
               false,
               false,
               false,
               false,
               false,
               false,
               false,
               false,
               false,
               false,
               false,
               false,
               false,
               false,
               false,
               false,
               false,
               false,
               false,
               false,
               false,
               false,
               false,
               false,
               false,
               false,
               false,
               false,
               false,
               false,
               false,
               false,
               false,
               false,
               false,
               false,
               false,
               false,
               false,
               false,
               false,
               false,
               true,
               true,
               true,
               true,
               true,
               true,
               true,
               true,
               true,
               true,
               true,
               true,
               true,
               true,
               true,
               true,
               true,
               true,
               true,
               true,
               true,
               true,
               true,
               true,
               true,
               true,
               true,
               true,
               true,
               true,
               true,
               true,
               true,
               true,
               true,
               true,
               true,
               true,
               true,
               true,
               true,
               true,
               true,
               true,
               true,
               true,
               true,
               true,
               true,
               true,
               true,
               true,
               true,
               true,
               true,
               true,
               true,
               true,
               true,
               true,
               true,
               true,
               true,
               true,
               true,
               true,
               true,
               true,
               true,
               true,
               true,
               true,
               true,
               true,
               true,
               true,
               true,
               true,
               true,
               true,
               true,
               true,
               true,
               true,
               true,
               true,
               true,
               true,
               true,
               true,
               true,
               true,
               true,
               true,
               true,
               true,
               true,
               true,
               true,
               true,
               true,
               true,
               true,
               true,
               true,
               true,
               true,
               true,
               true,
               true,
               true,
               true,
               true,
               true,
               true,
               true,
               true,
               true,
               true,
               true,
               true,
               true,
               true,
               true,
               true,
               true,
               true,
               true,
               true,
               true,
               true,
               true,
               true,
               true,
               true,
               true,
               true,
               true,
               true,
               false,
               false,
               false,
               false,
               false,
               false,
               false,
               false,
               false,
               false,
               false,
               false,
               false,
               false,
               false,
               false,
               false,
               false,
               false,
               false,
               false,
               false,
               false,
               false,
               false,
               false,
               false,
               false,
               false,
               false,
               false,
               false,
               false,
               false,
               false,
               false,
               false,
               false,
               false,
               false,
               false,
               false,
               false,
               false,
               false,
               false,
               false,
               false,
               false,
               false,
               false,
               false,
               false,
               false,
               false,
               false,
               false,
               false,
               false,
               false,
               false,
               false,
               false,
               false,
               false,
               false,
               false,
               false,
               false,
               false,
               false,
               false,
               false,
               false,
               false,
               false,
               false,
               false,
               false,
               false,
               false,
               false,
               false,
               false,
               false,
               false,
               false,
               false,
               false,
               false,
               false,
               false,
               false,
               false,
               false,
               false,
               false,
               false,
               false,
               false,
               false,
               false,
               false
              ]
             },
             {
              "title": "titleYear: 202002"
             }
            ],
            "label": "202002",
            "method": "update"
           },
           {
            "args": [
             {
              "visible": [
               false,
               false,
               false,
               false,
               false,
               false,
               false,
               false,
               false,
               false,
               false,
               false,
               false,
               false,
               false,
               false,
               false,
               false,
               false,
               false,
               false,
               false,
               false,
               false,
               false,
               false,
               false,
               false,
               false,
               false,
               false,
               false,
               false,
               false,
               false,
               false,
               false,
               false,
               false,
               false,
               false,
               false,
               false,
               false,
               false,
               false,
               false,
               false,
               false,
               false,
               false,
               false,
               false,
               false,
               false,
               false,
               false,
               false,
               false,
               false,
               false,
               false,
               false,
               false,
               false,
               false,
               false,
               false,
               false,
               false,
               false,
               false,
               false,
               false,
               false,
               false,
               false,
               false,
               false,
               false,
               false,
               false,
               false,
               false,
               false,
               false,
               false,
               false,
               false,
               false,
               false,
               false,
               false,
               false,
               false,
               false,
               false,
               false,
               false,
               false,
               false,
               false,
               false,
               false,
               false,
               false,
               false,
               false,
               false,
               false,
               false,
               false,
               false,
               false,
               false,
               false,
               false,
               false,
               false,
               false,
               false,
               false,
               false,
               false,
               false,
               false,
               false,
               false,
               false,
               false,
               false,
               false,
               false,
               false,
               false,
               false,
               false,
               false,
               false,
               false,
               false,
               false,
               false,
               false,
               false,
               false,
               false,
               false,
               false,
               false,
               false,
               false,
               false,
               false,
               false,
               false,
               false,
               false,
               false,
               false,
               false,
               false,
               false,
               false,
               false,
               false,
               false,
               false,
               false,
               false,
               false,
               false,
               false,
               false,
               false,
               false,
               false,
               false,
               false,
               false,
               false,
               false,
               false,
               false,
               false,
               false,
               false,
               false,
               false,
               false,
               false,
               false,
               false,
               false,
               false,
               false,
               false,
               false,
               false,
               false,
               false,
               false,
               false,
               false,
               false,
               false,
               false,
               false,
               false,
               false,
               false,
               false,
               false,
               false,
               false,
               false,
               false,
               false,
               false,
               false,
               false,
               false,
               false,
               false,
               false,
               false,
               false,
               false,
               false,
               false,
               false,
               false,
               false,
               false,
               false,
               false,
               false,
               false,
               false,
               false,
               false,
               false,
               false,
               false,
               false,
               false,
               false,
               false,
               false,
               false,
               false,
               false,
               false,
               false,
               false,
               false,
               false,
               false,
               false,
               false,
               false,
               false,
               false,
               false,
               true,
               true,
               true,
               true,
               true,
               true,
               true,
               true,
               true,
               true,
               true,
               true,
               true,
               true,
               true,
               true,
               true,
               true,
               true,
               true,
               true,
               true,
               true,
               true,
               true,
               true,
               true,
               true,
               true,
               true,
               true,
               true,
               true,
               true,
               true,
               true,
               true,
               true,
               true,
               true,
               true,
               true,
               true,
               true,
               true,
               true,
               true,
               true,
               true,
               true,
               true,
               true,
               true,
               true,
               true,
               true,
               true,
               true,
               true,
               true,
               true,
               true,
               true,
               true,
               true,
               true,
               true,
               true,
               true,
               true,
               true,
               true,
               true,
               true,
               true,
               false,
               false,
               false,
               false,
               false,
               false,
               false,
               false,
               false,
               false,
               false,
               false,
               false,
               false,
               false,
               false,
               false,
               false,
               false,
               false,
               false,
               false,
               false,
               false,
               false,
               false,
               false,
               false
              ]
             },
             {
              "title": "titleYear: 202003"
             }
            ],
            "label": "202003",
            "method": "update"
           },
           {
            "args": [
             {
              "visible": [
               false,
               false,
               false,
               false,
               false,
               false,
               false,
               false,
               false,
               false,
               false,
               false,
               false,
               false,
               false,
               false,
               false,
               false,
               false,
               false,
               false,
               false,
               false,
               false,
               false,
               false,
               false,
               false,
               false,
               false,
               false,
               false,
               false,
               false,
               false,
               false,
               false,
               false,
               false,
               false,
               false,
               false,
               false,
               false,
               false,
               false,
               false,
               false,
               false,
               false,
               false,
               false,
               false,
               false,
               false,
               false,
               false,
               false,
               false,
               false,
               false,
               false,
               false,
               false,
               false,
               false,
               false,
               false,
               false,
               false,
               false,
               false,
               false,
               false,
               false,
               false,
               false,
               false,
               false,
               false,
               false,
               false,
               false,
               false,
               false,
               false,
               false,
               false,
               false,
               false,
               false,
               false,
               false,
               false,
               false,
               false,
               false,
               false,
               false,
               false,
               false,
               false,
               false,
               false,
               false,
               false,
               false,
               false,
               false,
               false,
               false,
               false,
               false,
               false,
               false,
               false,
               false,
               false,
               false,
               false,
               false,
               false,
               false,
               false,
               false,
               false,
               false,
               false,
               false,
               false,
               false,
               false,
               false,
               false,
               false,
               false,
               false,
               false,
               false,
               false,
               false,
               false,
               false,
               false,
               false,
               false,
               false,
               false,
               false,
               false,
               false,
               false,
               false,
               false,
               false,
               false,
               false,
               false,
               false,
               false,
               false,
               false,
               false,
               false,
               false,
               false,
               false,
               false,
               false,
               false,
               false,
               false,
               false,
               false,
               false,
               false,
               false,
               false,
               false,
               false,
               false,
               false,
               false,
               false,
               false,
               false,
               false,
               false,
               false,
               false,
               false,
               false,
               false,
               false,
               false,
               false,
               false,
               false,
               false,
               false,
               false,
               false,
               false,
               false,
               false,
               false,
               false,
               false,
               false,
               false,
               false,
               false,
               false,
               false,
               false,
               false,
               false,
               false,
               false,
               false,
               false,
               false,
               false,
               false,
               false,
               false,
               false,
               false,
               false,
               false,
               false,
               false,
               false,
               false,
               false,
               false,
               false,
               false,
               false,
               false,
               false,
               false,
               false,
               false,
               false,
               false,
               false,
               false,
               false,
               false,
               false,
               false,
               false,
               false,
               false,
               false,
               false,
               false,
               false,
               false,
               false,
               false,
               false,
               false,
               false,
               false,
               false,
               false,
               false,
               false,
               false,
               false,
               false,
               false,
               false,
               false,
               false,
               false,
               false,
               false,
               false,
               false,
               false,
               false,
               false,
               false,
               false,
               false,
               false,
               false,
               false,
               false,
               false,
               false,
               false,
               false,
               false,
               false,
               false,
               false,
               false,
               false,
               false,
               false,
               false,
               false,
               false,
               false,
               false,
               false,
               false,
               false,
               false,
               false,
               false,
               false,
               false,
               false,
               false,
               false,
               false,
               false,
               false,
               false,
               false,
               false,
               false,
               false,
               false,
               false,
               false,
               false,
               false,
               false,
               false,
               false,
               false,
               false,
               false,
               true,
               true,
               true,
               true,
               true,
               true,
               true,
               true,
               true,
               true,
               true,
               true,
               true,
               true,
               true,
               true,
               true,
               true,
               true,
               true,
               true,
               true,
               true,
               true,
               true,
               true,
               true,
               true
              ]
             },
             {
              "title": "titleYear: 202004"
             }
            ],
            "label": "202004",
            "method": "update"
           }
          ]
         }
        ],
        "template": {
         "data": {
          "bar": [
           {
            "error_x": {
             "color": "#2a3f5f"
            },
            "error_y": {
             "color": "#2a3f5f"
            },
            "marker": {
             "line": {
              "color": "#E5ECF6",
              "width": 0.5
             },
             "pattern": {
              "fillmode": "overlay",
              "size": 10,
              "solidity": 0.2
             }
            },
            "type": "bar"
           }
          ],
          "barpolar": [
           {
            "marker": {
             "line": {
              "color": "#E5ECF6",
              "width": 0.5
             },
             "pattern": {
              "fillmode": "overlay",
              "size": 10,
              "solidity": 0.2
             }
            },
            "type": "barpolar"
           }
          ],
          "carpet": [
           {
            "aaxis": {
             "endlinecolor": "#2a3f5f",
             "gridcolor": "white",
             "linecolor": "white",
             "minorgridcolor": "white",
             "startlinecolor": "#2a3f5f"
            },
            "baxis": {
             "endlinecolor": "#2a3f5f",
             "gridcolor": "white",
             "linecolor": "white",
             "minorgridcolor": "white",
             "startlinecolor": "#2a3f5f"
            },
            "type": "carpet"
           }
          ],
          "choropleth": [
           {
            "colorbar": {
             "outlinewidth": 0,
             "ticks": ""
            },
            "type": "choropleth"
           }
          ],
          "contour": [
           {
            "colorbar": {
             "outlinewidth": 0,
             "ticks": ""
            },
            "colorscale": [
             [
              0,
              "#0d0887"
             ],
             [
              0.1111111111111111,
              "#46039f"
             ],
             [
              0.2222222222222222,
              "#7201a8"
             ],
             [
              0.3333333333333333,
              "#9c179e"
             ],
             [
              0.4444444444444444,
              "#bd3786"
             ],
             [
              0.5555555555555556,
              "#d8576b"
             ],
             [
              0.6666666666666666,
              "#ed7953"
             ],
             [
              0.7777777777777778,
              "#fb9f3a"
             ],
             [
              0.8888888888888888,
              "#fdca26"
             ],
             [
              1,
              "#f0f921"
             ]
            ],
            "type": "contour"
           }
          ],
          "contourcarpet": [
           {
            "colorbar": {
             "outlinewidth": 0,
             "ticks": ""
            },
            "type": "contourcarpet"
           }
          ],
          "heatmap": [
           {
            "colorbar": {
             "outlinewidth": 0,
             "ticks": ""
            },
            "colorscale": [
             [
              0,
              "#0d0887"
             ],
             [
              0.1111111111111111,
              "#46039f"
             ],
             [
              0.2222222222222222,
              "#7201a8"
             ],
             [
              0.3333333333333333,
              "#9c179e"
             ],
             [
              0.4444444444444444,
              "#bd3786"
             ],
             [
              0.5555555555555556,
              "#d8576b"
             ],
             [
              0.6666666666666666,
              "#ed7953"
             ],
             [
              0.7777777777777778,
              "#fb9f3a"
             ],
             [
              0.8888888888888888,
              "#fdca26"
             ],
             [
              1,
              "#f0f921"
             ]
            ],
            "type": "heatmap"
           }
          ],
          "heatmapgl": [
           {
            "colorbar": {
             "outlinewidth": 0,
             "ticks": ""
            },
            "colorscale": [
             [
              0,
              "#0d0887"
             ],
             [
              0.1111111111111111,
              "#46039f"
             ],
             [
              0.2222222222222222,
              "#7201a8"
             ],
             [
              0.3333333333333333,
              "#9c179e"
             ],
             [
              0.4444444444444444,
              "#bd3786"
             ],
             [
              0.5555555555555556,
              "#d8576b"
             ],
             [
              0.6666666666666666,
              "#ed7953"
             ],
             [
              0.7777777777777778,
              "#fb9f3a"
             ],
             [
              0.8888888888888888,
              "#fdca26"
             ],
             [
              1,
              "#f0f921"
             ]
            ],
            "type": "heatmapgl"
           }
          ],
          "histogram": [
           {
            "marker": {
             "pattern": {
              "fillmode": "overlay",
              "size": 10,
              "solidity": 0.2
             }
            },
            "type": "histogram"
           }
          ],
          "histogram2d": [
           {
            "colorbar": {
             "outlinewidth": 0,
             "ticks": ""
            },
            "colorscale": [
             [
              0,
              "#0d0887"
             ],
             [
              0.1111111111111111,
              "#46039f"
             ],
             [
              0.2222222222222222,
              "#7201a8"
             ],
             [
              0.3333333333333333,
              "#9c179e"
             ],
             [
              0.4444444444444444,
              "#bd3786"
             ],
             [
              0.5555555555555556,
              "#d8576b"
             ],
             [
              0.6666666666666666,
              "#ed7953"
             ],
             [
              0.7777777777777778,
              "#fb9f3a"
             ],
             [
              0.8888888888888888,
              "#fdca26"
             ],
             [
              1,
              "#f0f921"
             ]
            ],
            "type": "histogram2d"
           }
          ],
          "histogram2dcontour": [
           {
            "colorbar": {
             "outlinewidth": 0,
             "ticks": ""
            },
            "colorscale": [
             [
              0,
              "#0d0887"
             ],
             [
              0.1111111111111111,
              "#46039f"
             ],
             [
              0.2222222222222222,
              "#7201a8"
             ],
             [
              0.3333333333333333,
              "#9c179e"
             ],
             [
              0.4444444444444444,
              "#bd3786"
             ],
             [
              0.5555555555555556,
              "#d8576b"
             ],
             [
              0.6666666666666666,
              "#ed7953"
             ],
             [
              0.7777777777777778,
              "#fb9f3a"
             ],
             [
              0.8888888888888888,
              "#fdca26"
             ],
             [
              1,
              "#f0f921"
             ]
            ],
            "type": "histogram2dcontour"
           }
          ],
          "mesh3d": [
           {
            "colorbar": {
             "outlinewidth": 0,
             "ticks": ""
            },
            "type": "mesh3d"
           }
          ],
          "parcoords": [
           {
            "line": {
             "colorbar": {
              "outlinewidth": 0,
              "ticks": ""
             }
            },
            "type": "parcoords"
           }
          ],
          "pie": [
           {
            "automargin": true,
            "type": "pie"
           }
          ],
          "scatter": [
           {
            "marker": {
             "colorbar": {
              "outlinewidth": 0,
              "ticks": ""
             }
            },
            "type": "scatter"
           }
          ],
          "scatter3d": [
           {
            "line": {
             "colorbar": {
              "outlinewidth": 0,
              "ticks": ""
             }
            },
            "marker": {
             "colorbar": {
              "outlinewidth": 0,
              "ticks": ""
             }
            },
            "type": "scatter3d"
           }
          ],
          "scattercarpet": [
           {
            "marker": {
             "colorbar": {
              "outlinewidth": 0,
              "ticks": ""
             }
            },
            "type": "scattercarpet"
           }
          ],
          "scattergeo": [
           {
            "marker": {
             "colorbar": {
              "outlinewidth": 0,
              "ticks": ""
             }
            },
            "type": "scattergeo"
           }
          ],
          "scattergl": [
           {
            "marker": {
             "colorbar": {
              "outlinewidth": 0,
              "ticks": ""
             }
            },
            "type": "scattergl"
           }
          ],
          "scattermapbox": [
           {
            "marker": {
             "colorbar": {
              "outlinewidth": 0,
              "ticks": ""
             }
            },
            "type": "scattermapbox"
           }
          ],
          "scatterpolar": [
           {
            "marker": {
             "colorbar": {
              "outlinewidth": 0,
              "ticks": ""
             }
            },
            "type": "scatterpolar"
           }
          ],
          "scatterpolargl": [
           {
            "marker": {
             "colorbar": {
              "outlinewidth": 0,
              "ticks": ""
             }
            },
            "type": "scatterpolargl"
           }
          ],
          "scatterternary": [
           {
            "marker": {
             "colorbar": {
              "outlinewidth": 0,
              "ticks": ""
             }
            },
            "type": "scatterternary"
           }
          ],
          "surface": [
           {
            "colorbar": {
             "outlinewidth": 0,
             "ticks": ""
            },
            "colorscale": [
             [
              0,
              "#0d0887"
             ],
             [
              0.1111111111111111,
              "#46039f"
             ],
             [
              0.2222222222222222,
              "#7201a8"
             ],
             [
              0.3333333333333333,
              "#9c179e"
             ],
             [
              0.4444444444444444,
              "#bd3786"
             ],
             [
              0.5555555555555556,
              "#d8576b"
             ],
             [
              0.6666666666666666,
              "#ed7953"
             ],
             [
              0.7777777777777778,
              "#fb9f3a"
             ],
             [
              0.8888888888888888,
              "#fdca26"
             ],
             [
              1,
              "#f0f921"
             ]
            ],
            "type": "surface"
           }
          ],
          "table": [
           {
            "cells": {
             "fill": {
              "color": "#EBF0F8"
             },
             "line": {
              "color": "white"
             }
            },
            "header": {
             "fill": {
              "color": "#C8D4E3"
             },
             "line": {
              "color": "white"
             }
            },
            "type": "table"
           }
          ]
         },
         "layout": {
          "annotationdefaults": {
           "arrowcolor": "#2a3f5f",
           "arrowhead": 0,
           "arrowwidth": 1
          },
          "autotypenumbers": "strict",
          "coloraxis": {
           "colorbar": {
            "outlinewidth": 0,
            "ticks": ""
           }
          },
          "colorscale": {
           "diverging": [
            [
             0,
             "#8e0152"
            ],
            [
             0.1,
             "#c51b7d"
            ],
            [
             0.2,
             "#de77ae"
            ],
            [
             0.3,
             "#f1b6da"
            ],
            [
             0.4,
             "#fde0ef"
            ],
            [
             0.5,
             "#f7f7f7"
            ],
            [
             0.6,
             "#e6f5d0"
            ],
            [
             0.7,
             "#b8e186"
            ],
            [
             0.8,
             "#7fbc41"
            ],
            [
             0.9,
             "#4d9221"
            ],
            [
             1,
             "#276419"
            ]
           ],
           "sequential": [
            [
             0,
             "#0d0887"
            ],
            [
             0.1111111111111111,
             "#46039f"
            ],
            [
             0.2222222222222222,
             "#7201a8"
            ],
            [
             0.3333333333333333,
             "#9c179e"
            ],
            [
             0.4444444444444444,
             "#bd3786"
            ],
            [
             0.5555555555555556,
             "#d8576b"
            ],
            [
             0.6666666666666666,
             "#ed7953"
            ],
            [
             0.7777777777777778,
             "#fb9f3a"
            ],
            [
             0.8888888888888888,
             "#fdca26"
            ],
            [
             1,
             "#f0f921"
            ]
           ],
           "sequentialminus": [
            [
             0,
             "#0d0887"
            ],
            [
             0.1111111111111111,
             "#46039f"
            ],
            [
             0.2222222222222222,
             "#7201a8"
            ],
            [
             0.3333333333333333,
             "#9c179e"
            ],
            [
             0.4444444444444444,
             "#bd3786"
            ],
            [
             0.5555555555555556,
             "#d8576b"
            ],
            [
             0.6666666666666666,
             "#ed7953"
            ],
            [
             0.7777777777777778,
             "#fb9f3a"
            ],
            [
             0.8888888888888888,
             "#fdca26"
            ],
            [
             1,
             "#f0f921"
            ]
           ]
          },
          "colorway": [
           "#636efa",
           "#EF553B",
           "#00cc96",
           "#ab63fa",
           "#FFA15A",
           "#19d3f3",
           "#FF6692",
           "#B6E880",
           "#FF97FF",
           "#FECB52"
          ],
          "font": {
           "color": "#2a3f5f"
          },
          "geo": {
           "bgcolor": "white",
           "lakecolor": "white",
           "landcolor": "#E5ECF6",
           "showlakes": true,
           "showland": true,
           "subunitcolor": "white"
          },
          "hoverlabel": {
           "align": "left"
          },
          "hovermode": "closest",
          "mapbox": {
           "style": "light"
          },
          "paper_bgcolor": "white",
          "plot_bgcolor": "#E5ECF6",
          "polar": {
           "angularaxis": {
            "gridcolor": "white",
            "linecolor": "white",
            "ticks": ""
           },
           "bgcolor": "#E5ECF6",
           "radialaxis": {
            "gridcolor": "white",
            "linecolor": "white",
            "ticks": ""
           }
          },
          "scene": {
           "xaxis": {
            "backgroundcolor": "#E5ECF6",
            "gridcolor": "white",
            "gridwidth": 2,
            "linecolor": "white",
            "showbackground": true,
            "ticks": "",
            "zerolinecolor": "white"
           },
           "yaxis": {
            "backgroundcolor": "#E5ECF6",
            "gridcolor": "white",
            "gridwidth": 2,
            "linecolor": "white",
            "showbackground": true,
            "ticks": "",
            "zerolinecolor": "white"
           },
           "zaxis": {
            "backgroundcolor": "#E5ECF6",
            "gridcolor": "white",
            "gridwidth": 2,
            "linecolor": "white",
            "showbackground": true,
            "ticks": "",
            "zerolinecolor": "white"
           }
          },
          "shapedefaults": {
           "line": {
            "color": "#2a3f5f"
           }
          },
          "ternary": {
           "aaxis": {
            "gridcolor": "white",
            "linecolor": "white",
            "ticks": ""
           },
           "baxis": {
            "gridcolor": "white",
            "linecolor": "white",
            "ticks": ""
           },
           "bgcolor": "#E5ECF6",
           "caxis": {
            "gridcolor": "white",
            "linecolor": "white",
            "ticks": ""
           }
          },
          "title": {
           "x": 0.05
          },
          "xaxis": {
           "automargin": true,
           "gridcolor": "white",
           "linecolor": "white",
           "ticks": "",
           "title": {
            "standoff": 15
           },
           "zerolinecolor": "white",
           "zerolinewidth": 2
          },
          "yaxis": {
           "automargin": true,
           "gridcolor": "white",
           "linecolor": "white",
           "ticks": "",
           "title": {
            "standoff": 15
           },
           "zerolinecolor": "white",
           "zerolinewidth": 2
          }
         }
        },
        "width": 1000,
        "xaxis": {
         "visible": false
        },
        "yaxis": {
         "visible": false
        }
       }
      },
      "text/html": [
       "<div>                            <div id=\"65f0c6fe-f701-41e2-b361-4d49e120911b\" class=\"plotly-graph-div\" style=\"height:1000px; width:1000px;\"></div>            <script type=\"text/javascript\">                require([\"plotly\"], function(Plotly) {                    window.PLOTLYENV=window.PLOTLYENV || {};                                    if (document.getElementById(\"65f0c6fe-f701-41e2-b361-4d49e120911b\")) {                    Plotly.newPlot(                        \"65f0c6fe-f701-41e2-b361-4d49e120911b\",                        [{\"line\":{\"color\":\"mediumaquamarine\",\"shape\":\"spline\",\"width\":1.0},\"mode\":\"lines\",\"x\":[-0.17364932648352036,-0.08695325354031205,null],\"y\":[-0.2767263333001506,-0.07538670862631718,null],\"type\":\"scatter\"},{\"line\":{\"color\":\"mediumaquamarine\",\"shape\":\"spline\",\"width\":1.0},\"mode\":\"lines\",\"x\":[-0.17364932648352036,-0.2818948559021931,null],\"y\":[-0.2767263333001506,-0.44252985106381776,null],\"type\":\"scatter\"},{\"line\":{\"color\":\"mediumaquamarine\",\"shape\":\"spline\",\"width\":1.0},\"mode\":\"lines\",\"x\":[0.033467161326702126,-0.08695325354031205,null],\"y\":[0.06449212834159318,-0.07538670862631718,null],\"type\":\"scatter\"},{\"line\":{\"color\":\"mediumaquamarine\",\"shape\":\"spline\",\"width\":1.0},\"mode\":\"lines\",\"x\":[-0.3770998630329571,-0.2818948559021931,null],\"y\":[-0.624724212734978,-0.44252985106381776,null],\"type\":\"scatter\"},{\"line\":{\"color\":\"mediumaquamarine\",\"shape\":\"spline\",\"width\":1.0},\"mode\":\"lines\",\"x\":[-0.15571577551053056,-0.103690670683909,null],\"y\":[-0.29587001331636964,-0.12239757411585482,null],\"type\":\"scatter\"},{\"line\":{\"color\":\"mediumaquamarine\",\"shape\":\"spline\",\"width\":1.0},\"mode\":\"lines\",\"x\":[-0.15571577551053056,-0.08695325354031205,null],\"y\":[-0.29587001331636964,-0.07538670862631718,null],\"type\":\"scatter\"},{\"line\":{\"color\":\"mediumaquamarine\",\"shape\":\"spline\",\"width\":1.0},\"mode\":\"lines\",\"x\":[-0.15571577551053056,-0.18946871443934,null],\"y\":[-0.29587001331636964,-0.5665909422906474,null],\"type\":\"scatter\"},{\"line\":{\"color\":\"mediumaquamarine\",\"shape\":\"spline\",\"width\":1.0},\"mode\":\"lines\",\"x\":[-0.15571577551053056,0.010200206625450512,null],\"y\":[-0.29587001331636964,-0.36902132611790534,null],\"type\":\"scatter\"},{\"line\":{\"color\":\"mediumaquamarine\",\"shape\":\"spline\",\"width\":1.0},\"mode\":\"lines\",\"x\":[0.03346915404554261,-0.08695325354031205,null],\"y\":[0.06448337620787767,-0.07538670862631718,null],\"type\":\"scatter\"},{\"line\":{\"color\":\"mediumaquamarine\",\"shape\":\"spline\",\"width\":1.0},\"mode\":\"lines\",\"x\":[0.033467490834916784,-0.08695325354031205,null],\"y\":[0.06448434699555912,-0.07538670862631718,null],\"type\":\"scatter\"},{\"line\":{\"color\":\"mediumaquamarine\",\"shape\":\"spline\",\"width\":1.0},\"mode\":\"lines\",\"x\":[0.033465555730693944,-0.08695325354031205,null],\"y\":[0.06448476335414165,-0.07538670862631718,null],\"type\":\"scatter\"},{\"line\":{\"color\":\"mediumaquamarine\",\"shape\":\"spline\",\"width\":1.0},\"mode\":\"lines\",\"x\":[0.033463203180876304,-0.08695325354031205,null],\"y\":[0.0644839229640926,-0.07538670862631718,null],\"type\":\"scatter\"},{\"line\":{\"color\":\"mediumaquamarine\",\"shape\":\"spline\",\"width\":1.0},\"mode\":\"lines\",\"x\":[0.3331171598668633,0.2549414379063806,null],\"y\":[0.875030989568806,0.6779795783515205,null],\"type\":\"scatter\"},{\"line\":{\"color\":\"mediumaquamarine\",\"shape\":\"spline\",\"width\":1.0},\"mode\":\"lines\",\"x\":[0.36875984550802837,0.3068269255642774,null],\"y\":[0.999856748237832,0.8261687727764895,null],\"type\":\"scatter\"},{\"line\":{\"color\":\"mediumaquamarine\",\"shape\":\"spline\",\"width\":1.0},\"mode\":\"lines\",\"x\":[0.03352033174963888,-0.08695325354031205,null],\"y\":[0.06436751456904949,-0.07538670862631718,null],\"type\":\"scatter\"},{\"line\":{\"color\":\"mediumaquamarine\",\"shape\":\"spline\",\"width\":1.0},\"mode\":\"lines\",\"x\":[0.03352033174963888,0.1023557026285066,null],\"y\":[0.06436751456904949,-0.10331629042455082,null],\"type\":\"scatter\"},{\"line\":{\"color\":\"mediumaquamarine\",\"shape\":\"spline\",\"width\":1.189207115002721},\"mode\":\"lines\",\"x\":[0.3068269255642774,0.08961586028085518,null],\"y\":[0.8261687727764895,0.4593806278494334,null],\"type\":\"scatter\"},{\"line\":{\"color\":\"mediumaquamarine\",\"shape\":\"spline\",\"width\":1.4953487812212205},\"mode\":\"lines\",\"x\":[0.3068269255642774,-0.08695325354031205,null],\"y\":[0.8261687727764895,-0.07538670862631718,null],\"type\":\"scatter\"},{\"line\":{\"color\":\"mediumaquamarine\",\"shape\":\"spline\",\"width\":1.0},\"mode\":\"lines\",\"x\":[0.3068269255642774,0.3256173196143792,null],\"y\":[0.8261687727764895,0.6439974157491533,null],\"type\":\"scatter\"},{\"line\":{\"color\":\"mediumaquamarine\",\"shape\":\"spline\",\"width\":1.0},\"mode\":\"lines\",\"x\":[0.033458254211490006,-0.08695325354031205,null],\"y\":[0.06447804985493119,-0.07538670862631718,null],\"type\":\"scatter\"},{\"line\":{\"color\":\"mediumaquamarine\",\"shape\":\"spline\",\"width\":1.0},\"mode\":\"lines\",\"x\":[0.03345637405487002,-0.08695325354031205,null],\"y\":[0.06447704840534138,-0.07538670862631718,null],\"type\":\"scatter\"},{\"line\":{\"color\":\"mediumaquamarine\",\"shape\":\"spline\",\"width\":1.0},\"mode\":\"lines\",\"x\":[0.03345564540698469,-0.08695325354031205,null],\"y\":[0.0644751378019206,-0.07538670862631718,null],\"type\":\"scatter\"},{\"line\":{\"color\":\"mediumaquamarine\",\"shape\":\"spline\",\"width\":1.0},\"mode\":\"lines\",\"x\":[0.1341016343612161,-0.08695325354031205,null],\"y\":[-0.05863572536234008,-0.07538670862631718,null],\"type\":\"scatter\"},{\"line\":{\"color\":\"mediumaquamarine\",\"shape\":\"spline\",\"width\":1.0},\"mode\":\"lines\",\"x\":[0.1341016343612161,0.4871525780373211,null],\"y\":[-0.05863572536234008,-0.2428845705345533,null],\"type\":\"scatter\"},{\"line\":{\"color\":\"mediumaquamarine\",\"shape\":\"spline\",\"width\":1.0},\"mode\":\"lines\",\"x\":[0.018107939947814324,-0.06354263809013164,null],\"y\":[0.09227770481349064,-0.06947569924820994,null],\"type\":\"scatter\"},{\"line\":{\"color\":\"mediumaquamarine\",\"shape\":\"spline\",\"width\":1.0},\"mode\":\"lines\",\"x\":[0.0334551428424923,-0.08695325354031205,null],\"y\":[0.06446938829155141,-0.07538670862631718,null],\"type\":\"scatter\"},{\"line\":{\"color\":\"mediumaquamarine\",\"shape\":\"spline\",\"width\":1.0},\"mode\":\"lines\",\"x\":[-0.37726127246990726,-0.2818948559021931,null],\"y\":[-0.6246858014524563,-0.44252985106381776,null],\"type\":\"scatter\"},{\"line\":{\"color\":\"mediumaquamarine\",\"shape\":\"spline\",\"width\":1.0},\"mode\":\"lines\",\"x\":[0.3538382386703728,0.4871525780373211,null],\"y\":[-0.3655088340608702,-0.2428845705345533,null],\"type\":\"scatter\"},{\"line\":{\"color\":\"mediumaquamarine\",\"shape\":\"spline\",\"width\":1.0},\"mode\":\"lines\",\"x\":[0.004457929013975924,0.004457929013975924,null],\"y\":[0.3543629794468247,0.3543629794468247,null],\"type\":\"scatter\"},{\"line\":{\"color\":\"mediumaquamarine\",\"shape\":\"spline\",\"width\":1.0},\"mode\":\"lines\",\"x\":[0.033459873280336686,-0.08695325354031205,null],\"y\":[0.06447423553044625,-0.07538670862631718,null],\"type\":\"scatter\"},{\"line\":{\"color\":\"mediumaquamarine\",\"shape\":\"spline\",\"width\":1.0},\"mode\":\"lines\",\"x\":[0.03345815815746938,-0.08695325354031205,null],\"y\":[0.06447241443462702,-0.07538670862631718,null],\"type\":\"scatter\"},{\"line\":{\"color\":\"mediumaquamarine\",\"shape\":\"spline\",\"width\":1.0},\"mode\":\"lines\",\"x\":[0.04087204039474477,-0.08695325354031205,null],\"y\":[0.00449252476760167,-0.07538670862631718,null],\"type\":\"scatter\"},{\"line\":{\"color\":\"mediumaquamarine\",\"shape\":\"spline\",\"width\":1.189207115002721},\"mode\":\"lines\",\"x\":[0.04087204039474477,0.16370511734668963,null],\"y\":[0.00449252476760167,0.27916871134945387,null],\"type\":\"scatter\"},{\"line\":{\"color\":\"mediumaquamarine\",\"shape\":\"spline\",\"width\":1.3160740129524924},\"mode\":\"lines\",\"x\":[0.04087204039474477,-0.2818948559021931,null],\"y\":[0.00449252476760167,-0.44252985106381776,null],\"type\":\"scatter\"},{\"line\":{\"color\":\"mediumaquamarine\",\"shape\":\"spline\",\"width\":1.189207115002721},\"mode\":\"lines\",\"x\":[0.09162971017790357,-0.08695325354031205,null],\"y\":[0.32533549818106977,-0.07538670862631718,null],\"type\":\"scatter\"},{\"line\":{\"color\":\"mediumaquamarine\",\"shape\":\"spline\",\"width\":1.0},\"mode\":\"lines\",\"x\":[0.23209061048953614,0.14567109515693427,null],\"y\":[0.4468296732068744,0.27880404581876694,null],\"type\":\"scatter\"},{\"line\":{\"color\":\"mediumaquamarine\",\"shape\":\"spline\",\"width\":1.0},\"mode\":\"lines\",\"x\":[-0.08695325354031205,-0.3209471836321768,null],\"y\":[-0.07538670862631718,0.03605194482999433,null],\"type\":\"scatter\"},{\"line\":{\"color\":\"mediumaquamarine\",\"shape\":\"spline\",\"width\":1.5650845800732873},\"mode\":\"lines\",\"x\":[-0.08695325354031205,-0.08695325354031205,null],\"y\":[-0.07538670862631718,-0.07538670862631718,null],\"type\":\"scatter\"},{\"line\":{\"color\":\"mediumaquamarine\",\"shape\":\"spline\",\"width\":1.0},\"mode\":\"lines\",\"x\":[-0.08695325354031205,-0.3211017409554589,null],\"y\":[-0.07538670862631718,0.03604832650622977,null],\"type\":\"scatter\"},{\"line\":{\"color\":\"mediumaquamarine\",\"shape\":\"spline\",\"width\":1.0},\"mode\":\"lines\",\"x\":[-0.08695325354031205,-0.29344633482240606,null],\"y\":[-0.07538670862631718,-0.03596952649559593,null],\"type\":\"scatter\"},{\"line\":{\"color\":\"mediumaquamarine\",\"shape\":\"spline\",\"width\":1.0},\"mode\":\"lines\",\"x\":[-0.08695325354031205,-0.32112472704950157,null],\"y\":[-0.07538670862631718,0.03604456306387024,null],\"type\":\"scatter\"},{\"line\":{\"color\":\"mediumaquamarine\",\"shape\":\"spline\",\"width\":1.0},\"mode\":\"lines\",\"x\":[-0.08695325354031205,-0.312891539237089,null],\"y\":[-0.07538670862631718,0.0016430166051115294,null],\"type\":\"scatter\"},{\"line\":{\"color\":\"mediumaquamarine\",\"shape\":\"spline\",\"width\":1.0},\"mode\":\"lines\",\"x\":[-0.08695325354031205,-0.30609588649372244,null],\"y\":[-0.07538670862631718,0.1625503325657921,null],\"type\":\"scatter\"},{\"line\":{\"color\":\"mediumaquamarine\",\"shape\":\"spline\",\"width\":1.189207115002721},\"mode\":\"lines\",\"x\":[-0.08695325354031205,-0.2818948559021931,null],\"y\":[-0.07538670862631718,-0.44252985106381776,null],\"type\":\"scatter\"},{\"line\":{\"color\":\"mediumaquamarine\",\"shape\":\"spline\",\"width\":1.0},\"mode\":\"lines\",\"x\":[-0.08695325354031205,0.1561536923959958,null],\"y\":[-0.07538670862631718,-0.27718055756721105,null],\"type\":\"scatter\"},{\"line\":{\"color\":\"mediumaquamarine\",\"shape\":\"spline\",\"width\":1.3160740129524924},\"mode\":\"lines\",\"x\":[-0.08695325354031205,0.4871525780373211,null],\"y\":[-0.07538670862631718,-0.2428845705345533,null],\"type\":\"scatter\"},{\"line\":{\"color\":\"mediumaquamarine\",\"shape\":\"spline\",\"width\":1.0},\"mode\":\"lines\",\"x\":[-0.08695325354031205,0.15616467218367705,null],\"y\":[-0.07538670862631718,-0.27719791603359706,null],\"type\":\"scatter\"},{\"line\":{\"color\":\"mediumaquamarine\",\"shape\":\"spline\",\"width\":1.3160740129524924},\"mode\":\"lines\",\"x\":[0.4860281295043436,-0.08695325354031205,null],\"y\":[-0.03476823783240991,-0.07538670862631718,null],\"type\":\"scatter\"},{\"line\":{\"color\":\"mediumaquamarine\",\"shape\":\"spline\",\"width\":1.0},\"mode\":\"lines\",\"x\":[0.4860281295043436,0.4871525780373211,null],\"y\":[-0.03476823783240991,-0.2428845705345533,null],\"type\":\"scatter\"},{\"line\":{\"color\":\"mediumaquamarine\",\"shape\":\"spline\",\"width\":1.0},\"mode\":\"lines\",\"x\":[0.033475025507192065,-0.08695325354031205,null],\"y\":[0.0644962849106824,-0.07538670862631718,null],\"type\":\"scatter\"},{\"line\":{\"color\":\"mediumaquamarine\",\"shape\":\"spline\",\"width\":1.0},\"mode\":\"lines\",\"x\":[0.033474106420075714,-0.08695325354031205,null],\"y\":[0.06449589984832602,-0.07538670862631718,null],\"type\":\"scatter\"},{\"line\":{\"color\":\"mediumaquamarine\",\"shape\":\"spline\",\"width\":1.0},\"mode\":\"lines\",\"x\":[0.03347325292127317,-0.08695325354031205,null],\"y\":[0.0644959379736717,-0.07538670862631718,null],\"type\":\"scatter\"},{\"line\":{\"color\":\"mediumaquamarine\",\"shape\":\"spline\",\"width\":1.0},\"mode\":\"lines\",\"x\":[0.03347359444011551,-0.08695325354031205,null],\"y\":[0.06448390322437116,-0.07538670862631718,null],\"type\":\"scatter\"},{\"line\":{\"color\":\"mediumaquamarine\",\"shape\":\"spline\",\"width\":1.0},\"mode\":\"lines\",\"x\":[0.03347416117099885,-0.08695325354031205,null],\"y\":[0.06448357277044404,-0.07538670862631718,null],\"type\":\"scatter\"},{\"line\":{\"color\":\"mediumaquamarine\",\"shape\":\"spline\",\"width\":1.0},\"mode\":\"lines\",\"x\":[0.17562943646688942,0.08961586028085518,null],\"y\":[0.2056200197659469,0.4593806278494334,null],\"type\":\"scatter\"},{\"line\":{\"color\":\"mediumaquamarine\",\"shape\":\"spline\",\"width\":1.0},\"mode\":\"lines\",\"x\":[0.17562943646688942,0.13960957067392432,null],\"y\":[0.2056200197659469,-0.027660191158153536,null],\"type\":\"scatter\"},{\"line\":{\"color\":\"mediumaquamarine\",\"shape\":\"spline\",\"width\":1.0},\"mode\":\"lines\",\"x\":[0.2549414379063806,0.08961586028085518,null],\"y\":[0.6779795783515205,0.4593806278494334,null],\"type\":\"scatter\"},{\"line\":{\"color\":\"mediumaquamarine\",\"shape\":\"spline\",\"width\":1.189207115002721},\"mode\":\"lines\",\"x\":[0.2549414379063806,0.004457929013975924,null],\"y\":[0.6779795783515205,0.3543629794468247,null],\"type\":\"scatter\"},{\"line\":{\"color\":\"mediumaquamarine\",\"shape\":\"spline\",\"width\":1.6265765616977856},\"mode\":\"lines\",\"x\":[0.2549414379063806,-0.08695325354031205,null],\"y\":[0.6779795783515205,-0.07538670862631718,null],\"type\":\"scatter\"},{\"line\":{\"color\":\"mediumaquamarine\",\"shape\":\"spline\",\"width\":1.189207115002721},\"mode\":\"lines\",\"x\":[0.16370511734668963,0.08961586028085518,null],\"y\":[0.27916871134945387,0.4593806278494334,null],\"type\":\"scatter\"},{\"line\":{\"color\":\"mediumaquamarine\",\"shape\":\"spline\",\"width\":1.0},\"mode\":\"lines\",\"x\":[0.16370511734668963,0.004457929013975924,null],\"y\":[0.27916871134945387,0.3543629794468247,null],\"type\":\"scatter\"},{\"line\":{\"color\":\"mediumaquamarine\",\"shape\":\"spline\",\"width\":1.3160740129524924},\"mode\":\"lines\",\"x\":[0.16370511734668963,-0.08695325354031205,null],\"y\":[0.27916871134945387,-0.07538670862631718,null],\"type\":\"scatter\"},{\"line\":{\"color\":\"mediumaquamarine\",\"shape\":\"spline\",\"width\":1.0},\"mode\":\"lines\",\"x\":[0.34239108842616267,0.4871525780373211,null],\"y\":[-0.35186457877064076,-0.2428845705345533,null],\"type\":\"scatter\"},{\"line\":{\"color\":\"mediumaquamarine\",\"shape\":\"spline\",\"width\":1.0},\"mode\":\"lines\",\"x\":[0.0334656636056993,-0.08695325354031205,null],\"y\":[0.06447809777141349,-0.07538670862631718,null],\"type\":\"scatter\"},{\"line\":{\"color\":\"mediumaquamarine\",\"shape\":\"spline\",\"width\":1.0},\"mode\":\"lines\",\"x\":[-0.42741493815951587,-0.29344633482240606,null],\"y\":[-0.3169496766345623,-0.03596952649559593,null],\"type\":\"scatter\"},{\"line\":{\"color\":\"mediumaquamarine\",\"shape\":\"spline\",\"width\":1.0},\"mode\":\"lines\",\"x\":[-0.42741493815951587,-0.2818948559021931,null],\"y\":[-0.3169496766345623,-0.44252985106381776,null],\"type\":\"scatter\"},{\"line\":{\"color\":\"mediumaquamarine\",\"shape\":\"spline\",\"width\":1.0},\"mode\":\"lines\",\"x\":[-0.18946871443934,-0.2818948559021931,null],\"y\":[-0.5665909422906474,-0.44252985106381776,null],\"type\":\"scatter\"},{\"line\":{\"color\":\"mediumaquamarine\",\"shape\":\"spline\",\"width\":1.681792830507429},\"mode\":\"lines\",\"x\":[-0.38683336102777477,-0.08695325354031205,null],\"y\":[-0.6295172656394739,-0.07538670862631718,null],\"type\":\"scatter\"},{\"line\":{\"color\":\"mediumaquamarine\",\"shape\":\"spline\",\"width\":1.0},\"mode\":\"lines\",\"x\":[-0.38683336102777477,-0.2818948559021931,null],\"y\":[-0.6295172656394739,-0.44252985106381776,null],\"type\":\"scatter\"},{\"line\":{\"color\":\"mediumaquamarine\",\"shape\":\"spline\",\"width\":1.0},\"mode\":\"lines\",\"x\":[0.36822852273088647,0.3068269255642774,null],\"y\":[1.0,0.8261687727764895,null],\"type\":\"scatter\"},{\"line\":{\"color\":\"mediumaquamarine\",\"shape\":\"spline\",\"width\":1.189207115002721},\"mode\":\"lines\",\"x\":[0.008716139011864993,-0.29344633482240606,null],\"y\":[-0.23666621721740924,-0.03596952649559593,null],\"type\":\"scatter\"},{\"line\":{\"color\":\"mediumaquamarine\",\"shape\":\"spline\",\"width\":1.0},\"mode\":\"lines\",\"x\":[0.008716139011864993,0.008716139011864993,null],\"y\":[-0.23666621721740924,-0.23666621721740924,null],\"type\":\"scatter\"},{\"line\":{\"color\":\"mediumaquamarine\",\"shape\":\"spline\",\"width\":1.0},\"mode\":\"lines\",\"x\":[0.03347138902025385,-0.08695325354031205,null],\"y\":[0.06448280370218086,-0.07538670862631718,null],\"type\":\"scatter\"},{\"line\":{\"color\":\"mediumaquamarine\",\"shape\":\"spline\",\"width\":1.3160740129524924},\"mode\":\"lines\",\"x\":[0.3346138397925635,-0.08695325354031205,null],\"y\":[0.48815398785834274,-0.07538670862631718,null],\"type\":\"scatter\"},{\"line\":{\"color\":\"mediumaquamarine\",\"shape\":\"spline\",\"width\":1.0},\"mode\":\"lines\",\"x\":[0.3346138397925635,0.2549414379063806,null],\"y\":[0.48815398785834274,0.6779795783515205,null],\"type\":\"scatter\"},{\"line\":{\"color\":\"mediumaquamarine\",\"shape\":\"spline\",\"width\":1.3160740129524924},\"mode\":\"lines\",\"x\":[-0.312891539237089,-0.08695325354031205,null],\"y\":[0.0016430166051115294,-0.07538670862631718,null],\"type\":\"scatter\"},{\"line\":{\"color\":\"mediumaquamarine\",\"shape\":\"spline\",\"width\":1.0},\"mode\":\"lines\",\"x\":[-0.312891539237089,-0.312891539237089,null],\"y\":[0.0016430166051115294,0.0016430166051115294,null],\"type\":\"scatter\"},{\"line\":{\"color\":\"mediumaquamarine\",\"shape\":\"spline\",\"width\":1.0},\"mode\":\"lines\",\"x\":[-0.20286231274089161,-0.10643692445499014,null],\"y\":[-0.020278251268973393,-0.17365888735898655,null],\"type\":\"scatter\"},{\"line\":{\"color\":\"mediumaquamarine\",\"shape\":\"spline\",\"width\":1.0},\"mode\":\"lines\",\"x\":[-0.1315755655182324,-0.20302497250194784,null],\"y\":[-0.15480135158774191,0.01168773772602277,null],\"type\":\"scatter\"},{\"line\":{\"color\":\"mediumaquamarine\",\"shape\":\"spline\",\"width\":1.0},\"mode\":\"lines\",\"x\":[-0.3772310513142015,-0.2818948559021931,null],\"y\":[-0.6247697794490703,-0.44252985106381776,null],\"type\":\"scatter\"},{\"line\":{\"color\":\"mediumaquamarine\",\"shape\":\"spline\",\"width\":1.0},\"mode\":\"lines\",\"x\":[0.018800648856448984,0.004457929013975924,null],\"y\":[0.11550523247121236,0.3543629794468247,null],\"type\":\"scatter\"},{\"line\":{\"color\":\"mediumaquamarine\",\"shape\":\"spline\",\"width\":1.0},\"mode\":\"lines\",\"x\":[0.018800648856448984,-0.08695325354031205,null],\"y\":[0.11550523247121236,-0.07538670862631718,null],\"type\":\"scatter\"},{\"line\":{\"color\":\"mediumaquamarine\",\"shape\":\"spline\",\"width\":1.0},\"mode\":\"lines\",\"x\":[-0.05483177345159118,0.06018029049510069,null],\"y\":[-0.07214049622678836,0.06787272007615523,null],\"type\":\"scatter\"},{\"line\":{\"color\":\"mediumaquamarine\",\"shape\":\"spline\",\"width\":1.0},\"mode\":\"lines\",\"x\":[0.03347043256927663,-0.08695325354031205,null],\"y\":[0.06448884453259544,-0.07538670862631718,null],\"type\":\"scatter\"},{\"line\":{\"color\":\"mediumaquamarine\",\"shape\":\"spline\",\"width\":1.0},\"mode\":\"lines\",\"x\":[-0.16089493712799743,-0.12898504773171734,null],\"y\":[-0.20722251811597334,-0.004665163142965947,null],\"type\":\"scatter\"},{\"line\":{\"color\":\"mediumaquamarine\",\"shape\":\"spline\",\"width\":1.0},\"mode\":\"lines\",\"x\":[-0.16089493712799743,-0.08695325354031205,null],\"y\":[-0.20722251811597334,-0.07538670862631718,null],\"type\":\"scatter\"},{\"line\":{\"color\":\"mediumaquamarine\",\"shape\":\"spline\",\"width\":1.0},\"mode\":\"lines\",\"x\":[-0.16089493712799743,-0.29344633482240606,null],\"y\":[-0.20722251811597334,-0.03596952649559593,null],\"type\":\"scatter\"},{\"line\":{\"color\":\"mediumaquamarine\",\"shape\":\"spline\",\"width\":1.0},\"mode\":\"lines\",\"x\":[0.033470883267033916,-0.08695325354031205,null],\"y\":[0.06448726187614828,-0.07538670862631718,null],\"type\":\"scatter\"},{\"line\":{\"color\":\"mediumaquamarine\",\"shape\":\"spline\",\"width\":1.0},\"mode\":\"lines\",\"x\":[0.03347040176847653,-0.08695325354031205,null],\"y\":[0.0644869889734642,-0.07538670862631718,null],\"type\":\"scatter\"},{\"line\":{\"color\":\"mediumaquamarine\",\"shape\":\"spline\",\"width\":1.3160740129524924},\"mode\":\"lines\",\"x\":[-0.30609588649372244,-0.08695325354031205,null],\"y\":[0.1625503325657921,-0.07538670862631718,null],\"type\":\"scatter\"},{\"line\":{\"color\":\"mediumaquamarine\",\"shape\":\"spline\",\"width\":1.0},\"mode\":\"lines\",\"x\":[0.03346561779690954,-0.08695325354031205,null],\"y\":[0.0644891185434794,-0.07538670862631718,null],\"type\":\"scatter\"},{\"line\":{\"color\":\"mediumaquamarine\",\"shape\":\"spline\",\"width\":1.189207115002721},\"mode\":\"lines\",\"x\":[-0.2818948559021931,-0.08695325354031205,null],\"y\":[-0.44252985106381776,-0.07538670862631718,null],\"type\":\"scatter\"},{\"line\":{\"color\":\"mediumaquamarine\",\"shape\":\"spline\",\"width\":1.4142135623730951},\"mode\":\"lines\",\"x\":[-0.2818948559021931,-0.2818948559021931,null],\"y\":[-0.44252985106381776,-0.44252985106381776,null],\"type\":\"scatter\"},{\"line\":{\"color\":\"mediumaquamarine\",\"shape\":\"spline\",\"width\":1.0},\"mode\":\"lines\",\"x\":[0.13960957067392432,-0.08695325354031205,null],\"y\":[-0.027660191158153536,-0.07538670862631718,null],\"type\":\"scatter\"},{\"line\":{\"color\":\"mediumaquamarine\",\"shape\":\"spline\",\"width\":1.0},\"mode\":\"lines\",\"x\":[0.13960957067392432,0.4871525780373211,null],\"y\":[-0.027660191158153536,-0.2428845705345533,null],\"type\":\"scatter\"},{\"line\":{\"color\":\"mediumaquamarine\",\"shape\":\"spline\",\"width\":1.0},\"mode\":\"lines\",\"x\":[0.03346547623657346,-0.08695325354031205,null],\"y\":[0.0644907682973989,-0.07538670862631718,null],\"type\":\"scatter\"},{\"line\":{\"color\":\"mediumaquamarine\",\"shape\":\"spline\",\"width\":1.0},\"mode\":\"lines\",\"x\":[0.012564160111342189,-0.15052093739173425,null],\"y\":[-0.18202714172265996,-0.10309786469926445,null],\"type\":\"scatter\"},{\"line\":{\"color\":\"mediumaquamarine\",\"shape\":\"spline\",\"width\":1.0},\"mode\":\"lines\",\"x\":[0.05032495292228812,0.15616485289907567,null],\"y\":[-0.14756334226425505,-0.000505235181103751,null],\"type\":\"scatter\"},{\"line\":{\"color\":\"mediumaquamarine\",\"shape\":\"spline\",\"width\":1.0},\"mode\":\"lines\",\"x\":[-0.4807206343071841,-0.38683336102777477,null],\"y\":[-0.7920958712021924,-0.6295172656394739,null],\"type\":\"scatter\"},{\"line\":{\"color\":\"mediumaquamarine\",\"shape\":\"spline\",\"width\":1.0},\"mode\":\"lines\",\"x\":[-0.17364815157004085,-0.08695325354031205,null],\"y\":[-0.2767292020047346,-0.07538670862631718,null],\"type\":\"scatter\"},{\"line\":{\"color\":\"mediumaquamarine\",\"shape\":\"spline\",\"width\":1.0},\"mode\":\"lines\",\"x\":[-0.17364815157004085,-0.2818948559021931,null],\"y\":[-0.2767292020047346,-0.44252985106381776,null],\"type\":\"scatter\"},{\"line\":{\"color\":\"mediumaquamarine\",\"shape\":\"spline\",\"width\":1.0},\"mode\":\"lines\",\"x\":[-0.3769989176941771,-0.2818948559021931,null],\"y\":[-0.6247515469597049,-0.44252985106381776,null],\"type\":\"scatter\"},{\"line\":{\"color\":\"mediumaquamarine\",\"shape\":\"spline\",\"width\":1.0},\"mode\":\"lines\",\"x\":[0.18565954934956175,0.06759711426636152,null],\"y\":[0.19401074415010133,0.056650279561980564,null],\"type\":\"scatter\"},{\"line\":{\"color\":\"mediumaquamarine\",\"shape\":\"spline\",\"width\":1.0},\"mode\":\"lines\",\"x\":[0.18565954934956175,0.09162971017790357,null],\"y\":[0.19401074415010133,0.32533549818106977,null],\"type\":\"scatter\"},{\"line\":{\"color\":\"mediumaquamarine\",\"shape\":\"spline\",\"width\":1.0},\"mode\":\"lines\",\"x\":[0.18565954934956175,0.03690757311912295,null],\"y\":[0.19401074415010133,0.07014768085097099,null],\"type\":\"scatter\"},{\"line\":{\"color\":\"mediumaquamarine\",\"shape\":\"spline\",\"width\":1.0},\"mode\":\"lines\",\"x\":[-0.09636740175474885,0.08961586028085518,null],\"y\":[0.19764995116699322,0.4593806278494334,null],\"type\":\"scatter\"},{\"line\":{\"color\":\"mediumaquamarine\",\"shape\":\"spline\",\"width\":1.0},\"mode\":\"lines\",\"x\":[-0.09636740175474885,-0.12898504773171734,null],\"y\":[0.19764995116699322,-0.004665163142965947,null],\"type\":\"scatter\"},{\"line\":{\"color\":\"mediumaquamarine\",\"shape\":\"spline\",\"width\":1.0},\"mode\":\"lines\",\"x\":[-0.09636740175474885,0.004457929013975924,null],\"y\":[0.19764995116699322,0.3543629794468247,null],\"type\":\"scatter\"},{\"line\":{\"color\":\"mediumaquamarine\",\"shape\":\"spline\",\"width\":1.0},\"mode\":\"lines\",\"x\":[-0.09636740175474885,-0.29344633482240606,null],\"y\":[0.19764995116699322,-0.03596952649559593,null],\"type\":\"scatter\"},{\"line\":{\"color\":\"mediumaquamarine\",\"shape\":\"spline\",\"width\":1.0},\"mode\":\"lines\",\"x\":[0.0334517847351091,-0.08695325354031205,null],\"y\":[0.06449792624677915,-0.07538670862631718,null],\"type\":\"scatter\"},{\"line\":{\"color\":\"mediumaquamarine\",\"shape\":\"spline\",\"width\":1.0},\"mode\":\"lines\",\"x\":[0.033450784964510386,-0.08695325354031205,null],\"y\":[0.06449836690673241,-0.07538670862631718,null],\"type\":\"scatter\"},{\"line\":{\"color\":\"mediumaquamarine\",\"shape\":\"spline\",\"width\":1.0},\"mode\":\"lines\",\"x\":[0.09834909967759214,0.19947454026062006,null],\"y\":[-0.17506449651540207,-0.024738405272299095,null],\"type\":\"scatter\"},{\"line\":{\"color\":\"mediumaquamarine\",\"shape\":\"spline\",\"width\":1.0},\"mode\":\"lines\",\"x\":[0.14927949178667752,0.14927949178667752,null],\"y\":[-0.10706650115314445,-0.10706650115314445,null],\"type\":\"scatter\"},{\"line\":{\"color\":\"mediumaquamarine\",\"shape\":\"spline\",\"width\":1.0},\"mode\":\"lines\",\"x\":[0.033450000452415946,-0.08695325354031205,null],\"y\":[0.06449592349369405,-0.07538670862631718,null],\"type\":\"scatter\"},{\"line\":{\"color\":\"mediumaquamarine\",\"shape\":\"spline\",\"width\":1.0},\"mode\":\"lines\",\"x\":[0.033450694300734184,-0.08695325354031205,null],\"y\":[0.0645004694202384,-0.07538670862631718,null],\"type\":\"scatter\"},{\"line\":{\"color\":\"mediumaquamarine\",\"shape\":\"spline\",\"width\":1.189207115002721},\"mode\":\"lines\",\"x\":[0.14567109515693427,-0.08695325354031205,null],\"y\":[0.27880404581876694,-0.07538670862631718,null],\"type\":\"scatter\"},{\"line\":{\"color\":\"mediumaquamarine\",\"shape\":\"spline\",\"width\":1.0},\"mode\":\"lines\",\"x\":[-0.48074316568471503,-0.38683336102777477,null],\"y\":[-0.7921228533666063,-0.6295172656394739,null],\"type\":\"scatter\"},{\"line\":{\"color\":\"mediumaquamarine\",\"shape\":\"spline\",\"width\":1.0},\"mode\":\"lines\",\"x\":[-0.08855825793806439,-0.29344633482240606,null],\"y\":[0.14765145518705597,-0.03596952649559593,null],\"type\":\"scatter\"},{\"line\":{\"color\":\"mediumaquamarine\",\"shape\":\"spline\",\"width\":1.0},\"mode\":\"lines\",\"x\":[-0.08855825793806439,0.16370511734668963,null],\"y\":[0.14765145518705597,0.27916871134945387,null],\"type\":\"scatter\"},{\"line\":{\"color\":\"mediumaquamarine\",\"shape\":\"spline\",\"width\":1.0},\"mode\":\"lines\",\"x\":[-0.08855825793806439,-0.312891539237089,null],\"y\":[0.14765145518705597,0.0016430166051115294,null],\"type\":\"scatter\"},{\"line\":{\"color\":\"mediumaquamarine\",\"shape\":\"spline\",\"width\":1.0},\"mode\":\"lines\",\"x\":[0.03346110415273372,-0.08695325354031205,null],\"y\":[0.06449625406540806,-0.07538670862631718,null],\"type\":\"scatter\"},{\"line\":{\"color\":\"mediumaquamarine\",\"shape\":\"spline\",\"width\":1.0},\"mode\":\"lines\",\"x\":[0.03349024132105787,-0.08695325354031205,null],\"y\":[0.06441946945177784,-0.07538670862631718,null],\"type\":\"scatter\"},{\"line\":{\"color\":\"mediumaquamarine\",\"shape\":\"spline\",\"width\":1.0},\"mode\":\"lines\",\"x\":[0.03349024132105787,0.04263245671847832,null],\"y\":[0.06441946945177784,-0.1165565237730921,null],\"type\":\"scatter\"},{\"line\":{\"color\":\"mediumaquamarine\",\"shape\":\"spline\",\"width\":1.0},\"mode\":\"lines\",\"x\":[0.03690757311912295,-0.08695325354031205,null],\"y\":[0.07014768085097099,-0.07538670862631718,null],\"type\":\"scatter\"},{\"hovertemplate\":[\"202001Chris Murphy\",\"202001Chris Van Hollen\",\"202001Bill Clinton\",\"202001Darrell Issa\",\"202001David Plouffe\",\"202001Mick Mulvaney\",\"202001Joe Scarborough\",\"202001Ed Markey\",\"202001Jennifer Horn\",\"202001Jeff Merkley\",\"202001Toni Atkins\",\"202001David Jolly\",\"202001John Dean\",\"202001Mazie Hirono\",\"202001Nury Martinez\",\"202001Nancy Pelosi\",\"202001Jennifer Palmieri\",\"202001Trey Gowdy\",\"202001Steve Bartlett\",\"202001Steve Scalise\",\"202001Pramila Jayapal\",\"202001Mark Pocan\",\"202001Richard Blumenthal\",\"202001Paul Gosar\",\"202001Rudy Giuliani\",\"202001Rick Perry\",\"202001Zoe Lofgren\",\"202001Jackie Speier\",\"202001Lindsey Graham\",\"202001Kirsten Gillibrand\",\"202001Amy Klobuchar\",\"202001Claire McCaskill\",\"202001Olympia Snowe\",\"202001Donald Trump\",\"202001Mike Pence\",\"202001Jeanne Shaheen\",\"202001Jon Ossoff\",\"202001Tammy Duckworth\",\"202001Karl Rove\",\"202001John R. Bolton\",\"202001Marianne Williamson\",\"202001Marco Rubio\",\"202001Tulsi Gabbard\",\"202001Rex Tillerson\",\"202001Adam Schiff\",\"202001Mitch McConnell\",\"202001Chuck Schumer\",\"202001Ann McLane Kuster\",\"202001Mark Randall Meadows\",\"202001Kevin Cramer\",\"202001Lamar Alexander\",\"202001Elizabeth Warren\",\"202001Rick Scott\",\"202001Mitt Romney\",\"202001Carolyn Maloney\",\"202001Gavin Newsom\",\"202001Rand Paul\",\"202001Mike Pompeo\",\"202001Marie Newman\",\"202001Carl DeMaio\",\"202001Chris Pappas\",\"202001Dan Lipinski\",\"202001Duncan L. Hunter\",\"202001Jack Reed\",\"202001Pat Roberts\",\"202001Luz Rivas\",\"202001Alexandria Ocasio-Cortez\",\"202001Michael Bennet\",\"202001Hakeem Jeffries\",\"202001Elaine Luria\",\"202001Patrick Leahy\",\"202001Michael Bloomberg\",\"202001Jeff Van Drew\",\"202001John Rood\",\"202001Joe Biden\",\"202001Hillary Clinton\",\"202001Kellyanne Conway\",\"202001Chris Christie\",\"202001Kevin Faulconer\",\"202001Kevin McCarthy\",\"202001Krystal Ball\",\"202001Martha Fuller Clark\",\"202001Pam Bondi\",\"202001Pete Buttigieg\",\"202001John Cornyn\",\"202001William Barr\",\"202001Rashida Tlaib\",\"202001Ro Khanna\",\"202001Ryan Winkler\",\"202001Barack Obama\",\"202001Kevin McCarthy\",\"202001Tate Reeves\",\"202001Ted Lieu\",\"202001Scott Tipton\",\"202001Val Demings\",\"202001Warren Limmer\",\"202001Peter Shumlin\",\"202001Chris Coons\",\"202001Ra\\u00fal Grijalva\",\"202001Patrick J. Kennedy\",\"202001Juli\\u00e1n Castro\"],\"marker\":{\"color\":[\"blue\",\"blue\",\"blue\",\"blue\",\"blue\",\"blue\",\"blue\",\"blue\",\"blue\",\"blue\",\"blue\",\"blue\",\"blue\",\"blue\",\"blue\",\"blue\",\"blue\",\"blue\",\"blue\",\"blue\",\"blue\",\"blue\",\"blue\",\"blue\",\"blue\",\"blue\",\"blue\",\"blue\",\"blue\",\"blue\",\"blue\",\"blue\",\"blue\",\"blue\",\"blue\",\"blue\",\"blue\",\"blue\",\"blue\",\"blue\",\"blue\",\"blue\",\"blue\",\"blue\",\"blue\",\"blue\",\"blue\",\"blue\",\"blue\",\"blue\",\"red\",\"red\",\"red\",\"red\",\"red\",\"red\",\"red\",\"red\",\"red\",\"red\",\"red\",\"red\",\"red\",\"red\",\"red\",\"red\",\"red\",\"red\",\"red\",\"red\",\"red\",\"red\",\"red\",\"red\",\"red\",\"red\",\"red\",\"red\",\"red\",\"red\",\"red\",\"red\",\"red\",\"red\",\"red\",\"red\",\"red\",\"red\",\"red\",\"red\",\"red\",\"red\",\"red\",\"red\",\"red\",\"red\",\"red\",\"red\",\"red\",\"red\",\"red\"],\"line\":{\"color\":[\"blue\",\"blue\",\"blue\",\"blue\",\"blue\",\"blue\",\"blue\",\"blue\",\"blue\",\"blue\",\"blue\",\"blue\",\"blue\",\"blue\",\"blue\",\"blue\",\"blue\",\"blue\",\"blue\",\"blue\",\"blue\",\"blue\",\"blue\",\"blue\",\"blue\",\"blue\",\"blue\",\"blue\",\"blue\",\"blue\",\"blue\",\"blue\",\"blue\",\"blue\",\"blue\",\"blue\",\"blue\",\"blue\",\"blue\",\"blue\",\"blue\",\"blue\",\"blue\",\"blue\",\"blue\",\"blue\",\"blue\",\"blue\",\"blue\",\"blue\",\"red\",\"red\",\"red\",\"red\",\"red\",\"red\",\"red\",\"red\",\"red\",\"red\",\"red\",\"red\",\"red\",\"red\",\"red\",\"red\",\"red\",\"red\",\"red\",\"red\",\"red\",\"red\",\"red\",\"red\",\"red\",\"red\",\"red\",\"red\",\"red\",\"red\",\"red\",\"red\",\"red\",\"red\",\"red\",\"red\",\"red\",\"red\",\"red\",\"red\",\"red\",\"red\",\"red\",\"red\",\"red\",\"red\",\"red\",\"red\",\"red\",\"red\",\"red\"],\"width\":2},\"size\":15},\"mode\":\"markers\",\"x\":[-0.17364932648352036,0.033467161326702126,0.08961586028085518,0.15616485289907567,-0.3770998630329571,-0.12898504773171734,-0.15571577551053056,0.03346915404554261,0.033467490834916784,0.033465555730693944,0.033463203180876304,0.3331171598668633,0.36875984550802837,0.03352033174963888,0.06018029049510069,0.3068269255642774,0.033458254211490006,0.03345637405487002,0.03345564540698469,0.1341016343612161,0.018107939947814324,0.0334551428424923,-0.37726127246990726,0.3538382386703728,0.004457929013975924,-0.3209471836321768,0.033459873280336686,0.03345815815746938,0.04087204039474477,0.06759711426636152,0.09162971017790357,0.23209061048953614,-0.103690670683909,-0.08695325354031205,0.4860281295043436,0.033475025507192065,0.033474106420075714,0.03347325292127317,-0.3211017409554589,-0.29344633482240606,0.03347359444011551,0.03347416117099885,0.17562943646688942,-0.32112472704950157,0.2549414379063806,0.3256173196143792,0.16370511734668963,0.34239108842616267,0.0334656636056993,-0.42741493815951587,-0.18946871443934,-0.38683336102777477,0.36822852273088647,0.008716139011864993,0.03347138902025385,-0.20302497250194784,0.3346138397925635,-0.312891539237089,-0.20286231274089161,-0.1315755655182324,-0.15052093739173425,-0.10643692445499014,-0.3772310513142015,0.018800648856448984,0.010200206625450512,-0.05483177345159118,-0.06354263809013164,0.03347043256927663,-0.16089493712799743,0.033470883267033916,0.03347040176847653,-0.30609588649372244,0.04263245671847832,0.03346561779690954,-0.2818948559021931,0.13960957067392432,0.03346547623657346,0.012564160111342189,0.05032495292228812,0.1561536923959958,-0.4807206343071841,-0.17364815157004085,-0.3769989176941771,0.18565954934956175,-0.09636740175474885,0.1023557026285066,0.0334517847351091,0.033450784964510386,0.09834909967759214,0.4871525780373211,0.15616467218367705,0.14927949178667752,0.033450000452415946,0.033450694300734184,0.14567109515693427,0.19947454026062006,-0.48074316568471503,-0.08855825793806439,0.03346110415273372,0.03349024132105787,0.03690757311912295],\"y\":[-0.2767263333001506,0.06449212834159318,0.4593806278494334,-0.000505235181103751,-0.624724212734978,-0.004665163142965947,-0.29587001331636964,0.06448337620787767,0.06448434699555912,0.06448476335414165,0.0644839229640926,0.875030989568806,0.999856748237832,0.06436751456904949,0.06787272007615523,0.8261687727764895,0.06447804985493119,0.06447704840534138,0.0644751378019206,-0.05863572536234008,0.09227770481349064,0.06446938829155141,-0.6246858014524563,-0.3655088340608702,0.3543629794468247,0.03605194482999433,0.06447423553044625,0.06447241443462702,0.00449252476760167,0.056650279561980564,0.32533549818106977,0.4468296732068744,-0.12239757411585482,-0.07538670862631718,-0.03476823783240991,0.0644962849106824,0.06449589984832602,0.0644959379736717,0.03604832650622977,-0.03596952649559593,0.06448390322437116,0.06448357277044404,0.2056200197659469,0.03604456306387024,0.6779795783515205,0.6439974157491533,0.27916871134945387,-0.35186457877064076,0.06447809777141349,-0.3169496766345623,-0.5665909422906474,-0.6295172656394739,1.0,-0.23666621721740924,0.06448280370218086,0.01168773772602277,0.48815398785834274,0.0016430166051115294,-0.020278251268973393,-0.15480135158774191,-0.10309786469926445,-0.17365888735898655,-0.6247697794490703,0.11550523247121236,-0.36902132611790534,-0.07214049622678836,-0.06947569924820994,0.06448884453259544,-0.20722251811597334,0.06448726187614828,0.0644869889734642,0.1625503325657921,-0.1165565237730921,0.0644891185434794,-0.44252985106381776,-0.027660191158153536,0.0644907682973989,-0.18202714172265996,-0.14756334226425505,-0.27718055756721105,-0.7920958712021924,-0.2767292020047346,-0.6247515469597049,0.19401074415010133,0.19764995116699322,-0.10331629042455082,0.06449792624677915,0.06449836690673241,-0.17506449651540207,-0.2428845705345533,-0.27719791603359706,-0.10706650115314445,0.06449592349369405,0.0645004694202384,0.27880404581876694,-0.024738405272299095,-0.7921228533666063,0.14765145518705597,0.06449625406540806,0.06441946945177784,0.07014768085097099],\"type\":\"scatter\"},{\"line\":{\"color\":\"mediumaquamarine\",\"shape\":\"spline\",\"width\":1.0},\"mode\":\"lines\",\"x\":[-0.2538861614724361,-0.046990916455814886,null],\"y\":[0.17220692594315112,0.21284037145690396,null],\"type\":\"scatter\"},{\"line\":{\"color\":\"mediumaquamarine\",\"shape\":\"spline\",\"width\":1.0},\"mode\":\"lines\",\"x\":[-0.2539381898342635,-0.046990916455814886,null],\"y\":[0.17255091880895743,0.21284037145690396,null],\"type\":\"scatter\"},{\"line\":{\"color\":\"mediumaquamarine\",\"shape\":\"spline\",\"width\":1.0},\"mode\":\"lines\",\"x\":[-0.2539381898342635,-0.3199196702440453,null],\"y\":[0.17255091880895743,0.36553087546356533,null],\"type\":\"scatter\"},{\"line\":{\"color\":\"mediumaquamarine\",\"shape\":\"spline\",\"width\":1.0},\"mode\":\"lines\",\"x\":[0.5717946181503243,0.2690374449616967,null],\"y\":[-0.4312742408832208,-0.2386533395725597,null],\"type\":\"scatter\"},{\"line\":{\"color\":\"mediumaquamarine\",\"shape\":\"spline\",\"width\":1.0},\"mode\":\"lines\",\"x\":[-0.2539092570184062,-0.046990916455814886,null],\"y\":[0.17221107383309545,0.21284037145690396,null],\"type\":\"scatter\"},{\"line\":{\"color\":\"mediumaquamarine\",\"shape\":\"spline\",\"width\":1.0},\"mode\":\"lines\",\"x\":[-0.2584506856788922,-0.05269437140111136,null],\"y\":[-0.24396368001567295,-0.16141589383709587,null],\"type\":\"scatter\"},{\"line\":{\"color\":\"mediumaquamarine\",\"shape\":\"spline\",\"width\":1.0},\"mode\":\"lines\",\"x\":[-0.2584506856788922,-0.13227150054974252,null],\"y\":[-0.24396368001567295,-0.4061684684530822,null],\"type\":\"scatter\"},{\"line\":{\"color\":\"mediumaquamarine\",\"shape\":\"spline\",\"width\":1.0},\"mode\":\"lines\",\"x\":[0.15278945242584727,-0.046990916455814886,null],\"y\":[0.13508204051531492,0.21284037145690396,null],\"type\":\"scatter\"},{\"line\":{\"color\":\"mediumaquamarine\",\"shape\":\"spline\",\"width\":1.0},\"mode\":\"lines\",\"x\":[0.15278945242584727,0.29094739705890743,null],\"y\":[0.13508204051531492,-0.06815794270007974,null],\"type\":\"scatter\"},{\"line\":{\"color\":\"mediumaquamarine\",\"shape\":\"spline\",\"width\":1.0},\"mode\":\"lines\",\"x\":[0.5762186531291856,0.4846135595614289,null],\"y\":[0.3713792441072575,0.18930843196130914,null],\"type\":\"scatter\"},{\"line\":{\"color\":\"mediumaquamarine\",\"shape\":\"spline\",\"width\":1.189207115002721},\"mode\":\"lines\",\"x\":[0.5762186531291856,-0.046990916455814886,null],\"y\":[0.3713792441072575,0.21284037145690396,null],\"type\":\"scatter\"},{\"line\":{\"color\":\"mediumaquamarine\",\"shape\":\"spline\",\"width\":1.0},\"mode\":\"lines\",\"x\":[0.5762186531291856,0.48518973330265514,null],\"y\":[0.3713792441072575,0.18904054538114498,null],\"type\":\"scatter\"},{\"line\":{\"color\":\"mediumaquamarine\",\"shape\":\"spline\",\"width\":1.0},\"mode\":\"lines\",\"x\":[1.0,0.8265829259162691,null],\"y\":[-0.7690370611023601,-0.6386003475290047,null],\"type\":\"scatter\"},{\"line\":{\"color\":\"mediumaquamarine\",\"shape\":\"spline\",\"width\":1.189207115002721},\"mode\":\"lines\",\"x\":[0.8195344616275223,0.2690374449616967,null],\"y\":[-0.6209115518318161,-0.2386533395725597,null],\"type\":\"scatter\"},{\"line\":{\"color\":\"mediumaquamarine\",\"shape\":\"spline\",\"width\":1.0},\"mode\":\"lines\",\"x\":[0.4372167577837611,0.18526365883956505,null],\"y\":[-0.8272211539236833,-0.5846179681822352,null],\"type\":\"scatter\"},{\"line\":{\"color\":\"mediumaquamarine\",\"shape\":\"spline\",\"width\":1.0},\"mode\":\"lines\",\"x\":[0.4372167577837611,0.4826589834327793,null],\"y\":[-0.8272211539236833,-0.6101178512510884,null],\"type\":\"scatter\"},{\"line\":{\"color\":\"mediumaquamarine\",\"shape\":\"spline\",\"width\":1.0},\"mode\":\"lines\",\"x\":[0.08788227220928034,0.29094739705890743,null],\"y\":[-0.08416431245137139,-0.06815794270007974,null],\"type\":\"scatter\"},{\"line\":{\"color\":\"mediumaquamarine\",\"shape\":\"spline\",\"width\":1.0},\"mode\":\"lines\",\"x\":[0.08916392585997854,0.29094739705890743,null],\"y\":[-0.0960604346143917,-0.06815794270007974,null],\"type\":\"scatter\"},{\"line\":{\"color\":\"mediumaquamarine\",\"shape\":\"spline\",\"width\":1.0},\"mode\":\"lines\",\"x\":[0.3428214176145803,0.22527806544787235,null],\"y\":[0.3731693014805722,0.5279681843610675,null],\"type\":\"scatter\"},{\"line\":{\"color\":\"mediumaquamarine\",\"shape\":\"spline\",\"width\":1.0},\"mode\":\"lines\",\"x\":[-0.08915512453278185,0.1661720714064134,null],\"y\":[-0.6398545116972019,-0.5009375979143256,null],\"type\":\"scatter\"},{\"line\":{\"color\":\"mediumaquamarine\",\"shape\":\"spline\",\"width\":1.0},\"mode\":\"lines\",\"x\":[0.11127417166858421,-0.046990916455814886,null],\"y\":[0.012322481288843744,0.21284037145690396,null],\"type\":\"scatter\"},{\"line\":{\"color\":\"mediumaquamarine\",\"shape\":\"spline\",\"width\":1.0},\"mode\":\"lines\",\"x\":[0.11127417166858421,0.2690374449616967,null],\"y\":[0.012322481288843744,-0.2386533395725597,null],\"type\":\"scatter\"},{\"line\":{\"color\":\"mediumaquamarine\",\"shape\":\"spline\",\"width\":1.0},\"mode\":\"lines\",\"x\":[-0.2539363034248378,-0.046990916455814886,null],\"y\":[0.17221007967781357,0.21284037145690396,null],\"type\":\"scatter\"},{\"line\":{\"color\":\"mediumaquamarine\",\"shape\":\"spline\",\"width\":1.0},\"mode\":\"lines\",\"x\":[0.22527806544787235,0.212089125231628,null],\"y\":[0.5279681843610675,0.8314757408770145,null],\"type\":\"scatter\"},{\"line\":{\"color\":\"mediumaquamarine\",\"shape\":\"spline\",\"width\":1.0},\"mode\":\"lines\",\"x\":[0.22527806544787235,0.29094739705890743,null],\"y\":[0.5279681843610675,-0.06815794270007974,null],\"type\":\"scatter\"},{\"line\":{\"color\":\"mediumaquamarine\",\"shape\":\"spline\",\"width\":1.0},\"mode\":\"lines\",\"x\":[0.22615442032495287,-0.046990916455814886,null],\"y\":[0.10216486433273929,0.21284037145690396,null],\"type\":\"scatter\"},{\"line\":{\"color\":\"mediumaquamarine\",\"shape\":\"spline\",\"width\":1.0},\"mode\":\"lines\",\"x\":[0.22615442032495287,0.49017376063827806,null],\"y\":[0.10216486433273929,-0.15794365254499812,null],\"type\":\"scatter\"},{\"line\":{\"color\":\"mediumaquamarine\",\"shape\":\"spline\",\"width\":1.0},\"mode\":\"lines\",\"x\":[-0.2539356830304834,-0.046990916455814886,null],\"y\":[0.17221289561172615,0.21284037145690396,null],\"type\":\"scatter\"},{\"line\":{\"color\":\"mediumaquamarine\",\"shape\":\"spline\",\"width\":1.0},\"mode\":\"lines\",\"x\":[0.08076597837894949,0.16369029533257448,null],\"y\":[0.14709990886015092,-0.03896215949186053,null],\"type\":\"scatter\"},{\"line\":{\"color\":\"mediumaquamarine\",\"shape\":\"spline\",\"width\":1.0},\"mode\":\"lines\",\"x\":[0.16482476725333625,0.3440215427162439,null],\"y\":[-0.35016037237416076,-0.44671807066658414,null],\"type\":\"scatter\"},{\"line\":{\"color\":\"mediumaquamarine\",\"shape\":\"spline\",\"width\":1.0},\"mode\":\"lines\",\"x\":[-0.25394375521144646,-0.046990916455814886,null],\"y\":[0.17221150187581225,0.21284037145690396,null],\"type\":\"scatter\"},{\"line\":{\"color\":\"mediumaquamarine\",\"shape\":\"spline\",\"width\":1.189207115002721},\"mode\":\"lines\",\"x\":[0.8265829259162691,0.2690374449616967,null],\"y\":[-0.6386003475290047,-0.2386533395725597,null],\"type\":\"scatter\"},{\"line\":{\"color\":\"mediumaquamarine\",\"shape\":\"spline\",\"width\":1.0},\"mode\":\"lines\",\"x\":[0.8265829259162691,0.7512084757501742,null],\"y\":[-0.6386003475290047,-0.4489586799444104,null],\"type\":\"scatter\"},{\"line\":{\"color\":\"mediumaquamarine\",\"shape\":\"spline\",\"width\":1.189207115002721},\"mode\":\"lines\",\"x\":[-0.03623166786590053,-0.046990916455814886,null],\"y\":[-0.35018066175006124,0.21284037145690396,null],\"type\":\"scatter\"},{\"line\":{\"color\":\"mediumaquamarine\",\"shape\":\"spline\",\"width\":1.0},\"mode\":\"lines\",\"x\":[-0.03623166786590053,0.18526365883956505,null],\"y\":[-0.35018066175006124,-0.5846179681822352,null],\"type\":\"scatter\"},{\"line\":{\"color\":\"mediumaquamarine\",\"shape\":\"spline\",\"width\":1.0},\"mode\":\"lines\",\"x\":[-0.03623166786590053,0.1661720714064134,null],\"y\":[-0.35018066175006124,-0.5009375979143256,null],\"type\":\"scatter\"},{\"line\":{\"color\":\"mediumaquamarine\",\"shape\":\"spline\",\"width\":1.0},\"mode\":\"lines\",\"x\":[0.013508990522313542,0.22527806544787235,null],\"y\":[0.47097700266376347,0.5279681843610675,null],\"type\":\"scatter\"},{\"line\":{\"color\":\"mediumaquamarine\",\"shape\":\"spline\",\"width\":1.0},\"mode\":\"lines\",\"x\":[-0.046990916455814886,-0.011145066958727804,null],\"y\":[0.21284037145690396,0.4887539221061084,null],\"type\":\"scatter\"},{\"line\":{\"color\":\"mediumaquamarine\",\"shape\":\"spline\",\"width\":1.3160740129524924},\"mode\":\"lines\",\"x\":[-0.046990916455814886,0.22527806544787235,null],\"y\":[0.21284037145690396,0.5279681843610675,null],\"type\":\"scatter\"},{\"line\":{\"color\":\"mediumaquamarine\",\"shape\":\"spline\",\"width\":1.0},\"mode\":\"lines\",\"x\":[-0.046990916455814886,0.013508990522313542,null],\"y\":[0.21284037145690396,0.47097700266376347,null],\"type\":\"scatter\"},{\"line\":{\"color\":\"mediumaquamarine\",\"shape\":\"spline\",\"width\":1.8988289221159418},\"mode\":\"lines\",\"x\":[-0.046990916455814886,-0.046990916455814886,null],\"y\":[0.21284037145690396,0.21284037145690396,null],\"type\":\"scatter\"},{\"line\":{\"color\":\"mediumaquamarine\",\"shape\":\"spline\",\"width\":1.0},\"mode\":\"lines\",\"x\":[-0.046990916455814886,0.049684873880099976,null],\"y\":[0.21284037145690396,0.45699884167901367,null],\"type\":\"scatter\"},{\"line\":{\"color\":\"mediumaquamarine\",\"shape\":\"spline\",\"width\":1.0},\"mode\":\"lines\",\"x\":[-0.046990916455814886,-0.05269437140111136,null],\"y\":[0.21284037145690396,-0.16141589383709587,null],\"type\":\"scatter\"},{\"line\":{\"color\":\"mediumaquamarine\",\"shape\":\"spline\",\"width\":1.0},\"mode\":\"lines\",\"x\":[-0.046990916455814886,-0.011353869742413328,null],\"y\":[0.21284037145690396,0.4888296673321951,null],\"type\":\"scatter\"},{\"line\":{\"color\":\"mediumaquamarine\",\"shape\":\"spline\",\"width\":1.0},\"mode\":\"lines\",\"x\":[-0.046990916455814886,-0.011370997543038799,null],\"y\":[0.21284037145690396,0.4887701309055294,null],\"type\":\"scatter\"},{\"line\":{\"color\":\"mediumaquamarine\",\"shape\":\"spline\",\"width\":1.189207115002721},\"mode\":\"lines\",\"x\":[-0.046990916455814886,0.29094739705890743,null],\"y\":[0.21284037145690396,-0.06815794270007974,null],\"type\":\"scatter\"},{\"line\":{\"color\":\"mediumaquamarine\",\"shape\":\"spline\",\"width\":1.0},\"mode\":\"lines\",\"x\":[-0.2538770915400085,-0.046990916455814886,null],\"y\":[0.17223040575230514,0.21284037145690396,null],\"type\":\"scatter\"},{\"line\":{\"color\":\"mediumaquamarine\",\"shape\":\"spline\",\"width\":1.0},\"mode\":\"lines\",\"x\":[-0.2538782982682559,-0.046990916455814886,null],\"y\":[0.17222603212301144,0.21284037145690396,null],\"type\":\"scatter\"},{\"line\":{\"color\":\"mediumaquamarine\",\"shape\":\"spline\",\"width\":1.0},\"mode\":\"lines\",\"x\":[0.11125572735401369,-0.046990916455814886,null],\"y\":[0.012316153053499859,0.21284037145690396,null],\"type\":\"scatter\"},{\"line\":{\"color\":\"mediumaquamarine\",\"shape\":\"spline\",\"width\":1.0},\"mode\":\"lines\",\"x\":[0.11125572735401369,0.2690374449616967,null],\"y\":[0.012316153053499859,-0.2386533395725597,null],\"type\":\"scatter\"},{\"line\":{\"color\":\"mediumaquamarine\",\"shape\":\"spline\",\"width\":1.0},\"mode\":\"lines\",\"x\":[0.1112554750212957,-0.046990916455814886,null],\"y\":[0.012316061713486226,0.21284037145690396,null],\"type\":\"scatter\"},{\"line\":{\"color\":\"mediumaquamarine\",\"shape\":\"spline\",\"width\":1.0},\"mode\":\"lines\",\"x\":[0.1112554750212957,0.2690374449616967,null],\"y\":[0.012316061713486226,-0.2386533395725597,null],\"type\":\"scatter\"},{\"line\":{\"color\":\"mediumaquamarine\",\"shape\":\"spline\",\"width\":1.0},\"mode\":\"lines\",\"x\":[-0.12707688946268036,-0.12707688946268036,null],\"y\":[0.1607551862602852,0.1607551862602852,null],\"type\":\"scatter\"},{\"line\":{\"color\":\"mediumaquamarine\",\"shape\":\"spline\",\"width\":1.0},\"mode\":\"lines\",\"x\":[-0.25384272277776576,-0.046990916455814886,null],\"y\":[0.17223182079879204,0.21284037145690396,null],\"type\":\"scatter\"},{\"line\":{\"color\":\"mediumaquamarine\",\"shape\":\"spline\",\"width\":1.0},\"mode\":\"lines\",\"x\":[-0.25384208432639827,-0.046990916455814886,null],\"y\":[0.17223281531674445,0.21284037145690396,null],\"type\":\"scatter\"},{\"line\":{\"color\":\"mediumaquamarine\",\"shape\":\"spline\",\"width\":1.0},\"mode\":\"lines\",\"x\":[-0.28022088432931513,-0.03623166786590053,null],\"y\":[-0.37343010964428164,-0.35018066175006124,null],\"type\":\"scatter\"},{\"line\":{\"color\":\"mediumaquamarine\",\"shape\":\"spline\",\"width\":1.0},\"mode\":\"lines\",\"x\":[-0.2538391742481084,-0.046990916455814886,null],\"y\":[0.17223487117422542,0.21284037145690396,null],\"type\":\"scatter\"},{\"line\":{\"color\":\"mediumaquamarine\",\"shape\":\"spline\",\"width\":1.189207115002721},\"mode\":\"lines\",\"x\":[-0.5079961449669633,-0.046990916455814886,null],\"y\":[0.18495564592576683,0.21284037145690396,null],\"type\":\"scatter\"},{\"line\":{\"color\":\"mediumaquamarine\",\"shape\":\"spline\",\"width\":1.0},\"mode\":\"lines\",\"x\":[0.18526365883956505,0.3440215427162439,null],\"y\":[-0.5846179681822352,-0.44671807066658414,null],\"type\":\"scatter\"},{\"line\":{\"color\":\"mediumaquamarine\",\"shape\":\"spline\",\"width\":1.0},\"mode\":\"lines\",\"x\":[0.5154831964841313,0.2690374449616967,null],\"y\":[-0.30063462263229446,-0.2386533395725597,null],\"type\":\"scatter\"},{\"line\":{\"color\":\"mediumaquamarine\",\"shape\":\"spline\",\"width\":1.0},\"mode\":\"lines\",\"x\":[0.5154831964841313,0.29094739705890743,null],\"y\":[-0.30063462263229446,-0.06815794270007974,null],\"type\":\"scatter\"},{\"line\":{\"color\":\"mediumaquamarine\",\"shape\":\"spline\",\"width\":1.0},\"mode\":\"lines\",\"x\":[0.049684873880099976,0.049684873880099976,null],\"y\":[0.45699884167901367,0.45699884167901367,null],\"type\":\"scatter\"},{\"line\":{\"color\":\"mediumaquamarine\",\"shape\":\"spline\",\"width\":1.0},\"mode\":\"lines\",\"x\":[-0.253886120638,-0.046990916455814886,null],\"y\":[0.17223906003869555,0.21284037145690396,null],\"type\":\"scatter\"},{\"line\":{\"color\":\"mediumaquamarine\",\"shape\":\"spline\",\"width\":1.0},\"mode\":\"lines\",\"x\":[0.6536111696571774,0.4826589834327793,null],\"y\":[-0.4269036984997489,-0.6101178512510884,null],\"type\":\"scatter\"},{\"line\":{\"color\":\"mediumaquamarine\",\"shape\":\"spline\",\"width\":1.0},\"mode\":\"lines\",\"x\":[0.6536111696571774,0.49017376063827806,null],\"y\":[-0.4269036984997489,-0.15794365254499812,null],\"type\":\"scatter\"},{\"line\":{\"color\":\"mediumaquamarine\",\"shape\":\"spline\",\"width\":1.0},\"mode\":\"lines\",\"x\":[0.1713219103117564,0.3440215427162439,null],\"y\":[-0.33892564659343866,-0.44671807066658414,null],\"type\":\"scatter\"},{\"line\":{\"color\":\"mediumaquamarine\",\"shape\":\"spline\",\"width\":1.0},\"mode\":\"lines\",\"x\":[-0.2538756099572459,-0.046990916455814886,null],\"y\":[0.17224128366049515,0.21284037145690396,null],\"type\":\"scatter\"},{\"line\":{\"color\":\"mediumaquamarine\",\"shape\":\"spline\",\"width\":1.0},\"mode\":\"lines\",\"x\":[0.1715519357359662,-0.011145066958727804,null],\"y\":[0.5785078688149321,0.4887539221061084,null],\"type\":\"scatter\"},{\"line\":{\"color\":\"mediumaquamarine\",\"shape\":\"spline\",\"width\":1.6265765616977856},\"mode\":\"lines\",\"x\":[0.4826589834327793,-0.046990916455814886,null],\"y\":[-0.6101178512510884,0.21284037145690396,null],\"type\":\"scatter\"},{\"line\":{\"color\":\"mediumaquamarine\",\"shape\":\"spline\",\"width\":1.0},\"mode\":\"lines\",\"x\":[0.4826589834327793,0.1661720714064134,null],\"y\":[-0.6101178512510884,-0.5009375979143256,null],\"type\":\"scatter\"},{\"line\":{\"color\":\"mediumaquamarine\",\"shape\":\"spline\",\"width\":1.0},\"mode\":\"lines\",\"x\":[-0.14284722719484563,-0.15034101183155726,null],\"y\":[0.3909456707738219,0.18737612285798394,null],\"type\":\"scatter\"},{\"line\":{\"color\":\"mediumaquamarine\",\"shape\":\"spline\",\"width\":1.0},\"mode\":\"lines\",\"x\":[-0.14284722719484563,0.049684873880099976,null],\"y\":[0.3909456707738219,0.45699884167901367,null],\"type\":\"scatter\"},{\"line\":{\"color\":\"mediumaquamarine\",\"shape\":\"spline\",\"width\":1.189207115002721},\"mode\":\"lines\",\"x\":[-0.05269437140111136,-0.046990916455814886,null],\"y\":[-0.16141589383709587,0.21284037145690396,null],\"type\":\"scatter\"},{\"line\":{\"color\":\"mediumaquamarine\",\"shape\":\"spline\",\"width\":1.0},\"mode\":\"lines\",\"x\":[-0.05269437140111136,-0.05269437140111136,null],\"y\":[-0.16141589383709587,-0.16141589383709587,null],\"type\":\"scatter\"},{\"line\":{\"color\":\"mediumaquamarine\",\"shape\":\"spline\",\"width\":1.0},\"mode\":\"lines\",\"x\":[-0.05269437140111136,0.2690374449616967,null],\"y\":[-0.16141589383709587,-0.2386533395725597,null],\"type\":\"scatter\"},{\"line\":{\"color\":\"mediumaquamarine\",\"shape\":\"spline\",\"width\":1.0},\"mode\":\"lines\",\"x\":[-0.08916178915686361,0.1661720714064134,null],\"y\":[-0.6398483795528235,-0.5009375979143256,null],\"type\":\"scatter\"},{\"line\":{\"color\":\"mediumaquamarine\",\"shape\":\"spline\",\"width\":1.0},\"mode\":\"lines\",\"x\":[0.15277646152237206,-0.046990916455814886,null],\"y\":[0.1350455312275401,0.21284037145690396,null],\"type\":\"scatter\"},{\"line\":{\"color\":\"mediumaquamarine\",\"shape\":\"spline\",\"width\":1.0},\"mode\":\"lines\",\"x\":[0.15277646152237206,0.29094739705890743,null],\"y\":[0.1350455312275401,-0.06815794270007974,null],\"type\":\"scatter\"},{\"line\":{\"color\":\"mediumaquamarine\",\"shape\":\"spline\",\"width\":1.0},\"mode\":\"lines\",\"x\":[-0.45718976519120064,-0.2544154434336131,null],\"y\":[0.13047459344388063,0.02939988495046766,null],\"type\":\"scatter\"},{\"line\":{\"color\":\"mediumaquamarine\",\"shape\":\"spline\",\"width\":1.0},\"mode\":\"lines\",\"x\":[-0.45718976519120064,-0.26028477954165646,null],\"y\":[0.13047459344388063,0.07783871730608595,null],\"type\":\"scatter\"},{\"line\":{\"color\":\"mediumaquamarine\",\"shape\":\"spline\",\"width\":1.0},\"mode\":\"lines\",\"x\":[-0.45718976519120064,-0.23170616387948104,null],\"y\":[0.13047459344388063,0.11761520551939535,null],\"type\":\"scatter\"},{\"line\":{\"color\":\"mediumaquamarine\",\"shape\":\"spline\",\"width\":1.0},\"mode\":\"lines\",\"x\":[-0.4571748725463658,-0.2544154434336131,null],\"y\":[0.1305467953765872,0.02939988495046766,null],\"type\":\"scatter\"},{\"line\":{\"color\":\"mediumaquamarine\",\"shape\":\"spline\",\"width\":1.0},\"mode\":\"lines\",\"x\":[-0.4571748725463658,-0.23170616387948104,null],\"y\":[0.1305467953765872,0.11761520551939535,null],\"type\":\"scatter\"},{\"line\":{\"color\":\"mediumaquamarine\",\"shape\":\"spline\",\"width\":1.0},\"mode\":\"lines\",\"x\":[-0.09673212677374662,0.10660264004339866,null],\"y\":[-0.0853922627138707,-0.07352722688270652,null],\"type\":\"scatter\"},{\"line\":{\"color\":\"mediumaquamarine\",\"shape\":\"spline\",\"width\":1.0},\"mode\":\"lines\",\"x\":[-0.4881354333334524,-0.2649589144123616,null],\"y\":[0.17842548564501337,0.17670073200212774,null],\"type\":\"scatter\"},{\"line\":{\"color\":\"mediumaquamarine\",\"shape\":\"spline\",\"width\":1.0},\"mode\":\"lines\",\"x\":[-0.2538464809572591,-0.046990916455814886,null],\"y\":[0.17225504292374474,0.21284037145690396,null],\"type\":\"scatter\"},{\"line\":{\"color\":\"mediumaquamarine\",\"shape\":\"spline\",\"width\":1.0},\"mode\":\"lines\",\"x\":[-0.2538463401925817,-0.046990916455814886,null],\"y\":[0.17225635972130218,0.21284037145690396,null],\"type\":\"scatter\"},{\"line\":{\"color\":\"mediumaquamarine\",\"shape\":\"spline\",\"width\":1.0},\"mode\":\"lines\",\"x\":[-0.2538464105321508,-0.046990916455814886,null],\"y\":[0.17225808568699463,0.21284037145690396,null],\"type\":\"scatter\"},{\"line\":{\"color\":\"mediumaquamarine\",\"shape\":\"spline\",\"width\":1.0},\"mode\":\"lines\",\"x\":[-0.086979651715583,0.04444302743467723,null],\"y\":[-0.05984686483486978,0.09575021636167633,null],\"type\":\"scatter\"},{\"line\":{\"color\":\"mediumaquamarine\",\"shape\":\"spline\",\"width\":1.0},\"mode\":\"lines\",\"x\":[-0.25384436279795913,-0.046990916455814886,null],\"y\":[0.17225930793309724,0.21284037145690396,null],\"type\":\"scatter\"},{\"line\":{\"color\":\"mediumaquamarine\",\"shape\":\"spline\",\"width\":1.0},\"mode\":\"lines\",\"x\":[-0.010339129309178326,-0.2544154434336131,null],\"y\":[-0.09162488542573866,0.02939988495046766,null],\"type\":\"scatter\"},{\"line\":{\"color\":\"mediumaquamarine\",\"shape\":\"spline\",\"width\":1.0},\"mode\":\"lines\",\"x\":[-0.010339129309178326,0.2690374449616967,null],\"y\":[-0.09162488542573866,-0.2386533395725597,null],\"type\":\"scatter\"},{\"line\":{\"color\":\"mediumaquamarine\",\"shape\":\"spline\",\"width\":1.0},\"mode\":\"lines\",\"x\":[-0.010339129309178326,-0.23170616387948104,null],\"y\":[-0.09162488542573866,0.11761520551939535,null],\"type\":\"scatter\"},{\"line\":{\"color\":\"mediumaquamarine\",\"shape\":\"spline\",\"width\":1.0},\"mode\":\"lines\",\"x\":[-0.2538410994003394,-0.046990916455814886,null],\"y\":[0.17225927957059523,0.21284037145690396,null],\"type\":\"scatter\"},{\"line\":{\"color\":\"mediumaquamarine\",\"shape\":\"spline\",\"width\":1.0},\"mode\":\"lines\",\"x\":[-0.25384183354,-0.046990916455814886,null],\"y\":[0.1722603201497639,0.21284037145690396,null],\"type\":\"scatter\"},{\"line\":{\"color\":\"mediumaquamarine\",\"shape\":\"spline\",\"width\":1.189207115002721},\"mode\":\"lines\",\"x\":[-0.5079922226981793,-0.046990916455814886,null],\"y\":[0.1852022597864647,0.21284037145690396,null],\"type\":\"scatter\"},{\"line\":{\"color\":\"mediumaquamarine\",\"shape\":\"spline\",\"width\":1.0},\"mode\":\"lines\",\"x\":[-0.25384075093210295,-0.046990916455814886,null],\"y\":[0.17226094608228526,0.21284037145690396,null],\"type\":\"scatter\"},{\"line\":{\"color\":\"mediumaquamarine\",\"shape\":\"spline\",\"width\":1.0},\"mode\":\"lines\",\"x\":[-0.02323606052775056,0.18526365883956505,null],\"y\":[-0.5802383420661726,-0.5846179681822352,null],\"type\":\"scatter\"},{\"line\":{\"color\":\"mediumaquamarine\",\"shape\":\"spline\",\"width\":1.0},\"mode\":\"lines\",\"x\":[-0.02323606052775056,-0.13227150054974252,null],\"y\":[-0.5802383420661726,-0.4061684684530822,null],\"type\":\"scatter\"},{\"line\":{\"color\":\"mediumaquamarine\",\"shape\":\"spline\",\"width\":1.0},\"mode\":\"lines\",\"x\":[-0.25383957379040495,-0.046990916455814886,null],\"y\":[0.17226219095908402,0.21284037145690396,null],\"type\":\"scatter\"},{\"line\":{\"color\":\"mediumaquamarine\",\"shape\":\"spline\",\"width\":1.0},\"mode\":\"lines\",\"x\":[0.3426477108117135,0.22527806544787235,null],\"y\":[0.37297275811253133,0.5279681843610675,null],\"type\":\"scatter\"},{\"line\":{\"color\":\"mediumaquamarine\",\"shape\":\"spline\",\"width\":1.0},\"mode\":\"lines\",\"x\":[-0.2538382230088621,-0.046990916455814886,null],\"y\":[0.17226317106737118,0.21284037145690396,null],\"type\":\"scatter\"},{\"line\":{\"color\":\"mediumaquamarine\",\"shape\":\"spline\",\"width\":1.0},\"mode\":\"lines\",\"x\":[-0.25383630163975957,-0.046990916455814886,null],\"y\":[0.17226228462236895,0.21284037145690396,null],\"type\":\"scatter\"},{\"line\":{\"color\":\"mediumaquamarine\",\"shape\":\"spline\",\"width\":1.5650845800732873},\"mode\":\"lines\",\"x\":[0.1661720714064134,-0.046990916455814886,null],\"y\":[-0.5009375979143256,0.21284037145690396,null],\"type\":\"scatter\"},{\"line\":{\"color\":\"mediumaquamarine\",\"shape\":\"spline\",\"width\":1.0},\"mode\":\"lines\",\"x\":[0.1661720714064134,0.1833380565063693,null],\"y\":[-0.5009375979143256,-0.7277150979944809,null],\"type\":\"scatter\"},{\"line\":{\"color\":\"mediumaquamarine\",\"shape\":\"spline\",\"width\":1.0},\"mode\":\"lines\",\"x\":[0.1661720714064134,0.18322422407373365,null],\"y\":[-0.5009375979143256,-0.7277771771742519,null],\"type\":\"scatter\"},{\"line\":{\"color\":\"mediumaquamarine\",\"shape\":\"spline\",\"width\":1.0},\"mode\":\"lines\",\"x\":[0.1661720714064134,0.29094739705890743,null],\"y\":[-0.5009375979143256,-0.06815794270007974,null],\"type\":\"scatter\"},{\"line\":{\"color\":\"mediumaquamarine\",\"shape\":\"spline\",\"width\":1.0},\"mode\":\"lines\",\"x\":[0.2690374449616967,0.25803712861746064,null],\"y\":[-0.2386533395725597,-0.44133194198280634,null],\"type\":\"scatter\"},{\"line\":{\"color\":\"mediumaquamarine\",\"shape\":\"spline\",\"width\":1.4953487812212205},\"mode\":\"lines\",\"x\":[0.2690374449616967,-0.046990916455814886,null],\"y\":[-0.2386533395725597,0.21284037145690396,null],\"type\":\"scatter\"},{\"line\":{\"color\":\"mediumaquamarine\",\"shape\":\"spline\",\"width\":1.0},\"mode\":\"lines\",\"x\":[0.2690374449616967,0.1661720714064134,null],\"y\":[-0.2386533395725597,-0.5009375979143256,null],\"type\":\"scatter\"},{\"line\":{\"color\":\"mediumaquamarine\",\"shape\":\"spline\",\"width\":1.0},\"mode\":\"lines\",\"x\":[0.2690374449616967,0.25817113625150634,null],\"y\":[-0.2386533395725597,-0.4412175759313457,null],\"type\":\"scatter\"},{\"line\":{\"color\":\"mediumaquamarine\",\"shape\":\"spline\",\"width\":1.4142135623730951},\"mode\":\"lines\",\"x\":[0.2690374449616967,0.2690374449616967,null],\"y\":[-0.2386533395725597,-0.2386533395725597,null],\"type\":\"scatter\"},{\"line\":{\"color\":\"mediumaquamarine\",\"shape\":\"spline\",\"width\":1.0},\"mode\":\"lines\",\"x\":[0.2690374449616967,0.49017376063827806,null],\"y\":[-0.2386533395725597,-0.15794365254499812,null],\"type\":\"scatter\"},{\"line\":{\"color\":\"mediumaquamarine\",\"shape\":\"spline\",\"width\":1.4142135623730951},\"mode\":\"lines\",\"x\":[0.2690374449616967,0.29094739705890743,null],\"y\":[-0.2386533395725597,-0.06815794270007974,null],\"type\":\"scatter\"},{\"line\":{\"color\":\"mediumaquamarine\",\"shape\":\"spline\",\"width\":1.0},\"mode\":\"lines\",\"x\":[-0.25382447266279606,-0.046990916455814886,null],\"y\":[0.17222591040281993,0.21284037145690396,null],\"type\":\"scatter\"},{\"line\":{\"color\":\"mediumaquamarine\",\"shape\":\"spline\",\"width\":1.0},\"mode\":\"lines\",\"x\":[-0.23170616387948104,-0.046990916455814886,null],\"y\":[0.11761520551939535,0.21284037145690396,null],\"type\":\"scatter\"},{\"line\":{\"color\":\"mediumaquamarine\",\"shape\":\"spline\",\"width\":1.0},\"mode\":\"lines\",\"x\":[0.39474730417893344,0.22527806544787235,null],\"y\":[0.48913926935264834,0.5279681843610675,null],\"type\":\"scatter\"},{\"line\":{\"color\":\"mediumaquamarine\",\"shape\":\"spline\",\"width\":1.3160740129524924},\"mode\":\"lines\",\"x\":[0.39474730417893344,-0.046990916455814886,null],\"y\":[0.48913926935264834,0.21284037145690396,null],\"type\":\"scatter\"},{\"line\":{\"color\":\"mediumaquamarine\",\"shape\":\"spline\",\"width\":1.0},\"mode\":\"lines\",\"x\":[0.39474730417893344,0.049684873880099976,null],\"y\":[0.48913926935264834,0.45699884167901367,null],\"type\":\"scatter\"},{\"line\":{\"color\":\"mediumaquamarine\",\"shape\":\"spline\",\"width\":1.0},\"mode\":\"lines\",\"x\":[-0.2538265499133858,-0.046990916455814886,null],\"y\":[0.1722242080266741,0.21284037145690396,null],\"type\":\"scatter\"},{\"line\":{\"color\":\"mediumaquamarine\",\"shape\":\"spline\",\"width\":1.0},\"mode\":\"lines\",\"x\":[0.06560082463790216,-0.13431419955836296,null],\"y\":[-0.1943305168827764,-0.15501873578505335,null],\"type\":\"scatter\"},{\"line\":{\"color\":\"mediumaquamarine\",\"shape\":\"spline\",\"width\":1.0},\"mode\":\"lines\",\"x\":[-0.08923375164473131,0.1661720714064134,null],\"y\":[-0.6398717898607433,-0.5009375979143256,null],\"type\":\"scatter\"},{\"line\":{\"color\":\"mediumaquamarine\",\"shape\":\"spline\",\"width\":1.0},\"mode\":\"lines\",\"x\":[-0.25383333161969385,-0.046990916455814886,null],\"y\":[0.1722214316371413,0.21284037145690396,null],\"type\":\"scatter\"},{\"line\":{\"color\":\"mediumaquamarine\",\"shape\":\"spline\",\"width\":1.0},\"mode\":\"lines\",\"x\":[-0.25383531770544465,-0.046990916455814886,null],\"y\":[0.17221987486373724,0.21284037145690396,null],\"type\":\"scatter\"},{\"line\":{\"color\":\"mediumaquamarine\",\"shape\":\"spline\",\"width\":1.0},\"mode\":\"lines\",\"x\":[-0.25383709185694786,-0.046990916455814886,null],\"y\":[0.17221817326976183,0.21284037145690396,null],\"type\":\"scatter\"},{\"line\":{\"color\":\"mediumaquamarine\",\"shape\":\"spline\",\"width\":1.5650845800732873},\"mode\":\"lines\",\"x\":[0.49017376063827806,-0.046990916455814886,null],\"y\":[-0.15794365254499812,0.21284037145690396,null],\"type\":\"scatter\"},{\"line\":{\"color\":\"mediumaquamarine\",\"shape\":\"spline\",\"width\":1.0},\"mode\":\"lines\",\"x\":[0.49017376063827806,0.2690374449616967,null],\"y\":[-0.15794365254499812,-0.2386533395725597,null],\"type\":\"scatter\"},{\"line\":{\"color\":\"mediumaquamarine\",\"shape\":\"spline\",\"width\":1.0},\"mode\":\"lines\",\"x\":[0.5698870786586611,0.2690374449616967,null],\"y\":[-0.36131012469004026,-0.2386533395725597,null],\"type\":\"scatter\"},{\"line\":{\"color\":\"mediumaquamarine\",\"shape\":\"spline\",\"width\":1.0},\"mode\":\"lines\",\"x\":[0.5698870786586611,0.49017376063827806,null],\"y\":[-0.36131012469004026,-0.15794365254499812,null],\"type\":\"scatter\"},{\"line\":{\"color\":\"mediumaquamarine\",\"shape\":\"spline\",\"width\":1.0},\"mode\":\"lines\",\"x\":[0.10282853934308896,-0.03264689010375969,null],\"y\":[-0.045956102576163414,0.10612259520016445,null],\"type\":\"scatter\"},{\"line\":{\"color\":\"mediumaquamarine\",\"shape\":\"spline\",\"width\":1.0},\"mode\":\"lines\",\"x\":[-0.4571985291940721,-0.2544154434336131,null],\"y\":[0.13085293666608852,0.02939988495046766,null],\"type\":\"scatter\"},{\"line\":{\"color\":\"mediumaquamarine\",\"shape\":\"spline\",\"width\":1.0},\"mode\":\"lines\",\"x\":[-0.4571985291940721,-0.23170616387948104,null],\"y\":[0.13085293666608852,0.11761520551939535,null],\"type\":\"scatter\"},{\"line\":{\"color\":\"mediumaquamarine\",\"shape\":\"spline\",\"width\":1.0},\"mode\":\"lines\",\"x\":[-0.2538765514998222,-0.046990916455814886,null],\"y\":[0.1722163611464956,0.21284037145690396,null],\"type\":\"scatter\"},{\"line\":{\"color\":\"mediumaquamarine\",\"shape\":\"spline\",\"width\":1.0},\"mode\":\"lines\",\"x\":[-0.2649589144123616,-0.046990916455814886,null],\"y\":[0.17670073200212774,0.21284037145690396,null],\"type\":\"scatter\"},{\"line\":{\"color\":\"mediumaquamarine\",\"shape\":\"spline\",\"width\":1.0},\"mode\":\"lines\",\"x\":[-0.25388295661704063,-0.046990916455814886,null],\"y\":[0.1722152306299753,0.21284037145690396,null],\"type\":\"scatter\"},{\"line\":{\"color\":\"mediumaquamarine\",\"shape\":\"spline\",\"width\":1.0},\"mode\":\"lines\",\"x\":[-0.2538833599871711,-0.046990916455814886,null],\"y\":[0.17221289871654819,0.21284037145690396,null],\"type\":\"scatter\"},{\"line\":{\"color\":\"mediumaquamarine\",\"shape\":\"spline\",\"width\":1.0},\"mode\":\"lines\",\"x\":[-0.25388388120556843,-0.046990916455814886,null],\"y\":[0.1722108037806369,0.21284037145690396,null],\"type\":\"scatter\"},{\"line\":{\"color\":\"mediumaquamarine\",\"shape\":\"spline\",\"width\":1.0},\"mode\":\"lines\",\"x\":[-0.2538842536842242,-0.046990916455814886,null],\"y\":[0.1722082435267078,0.21284037145690396,null],\"type\":\"scatter\"},{\"hovertemplate\":[\"202001Chris Murphy\",\"202001Chris Van Hollen\",\"202001Bill Clinton\",\"202001Darrell Issa\",\"202001David Plouffe\",\"202001Mick Mulvaney\",\"202001Joe Scarborough\",\"202001Ed Markey\",\"202001Jennifer Horn\",\"202001Jeff Merkley\",\"202001Toni Atkins\",\"202001David Jolly\",\"202001John Dean\",\"202001Mazie Hirono\",\"202001Nury Martinez\",\"202001Nancy Pelosi\",\"202001Jennifer Palmieri\",\"202001Trey Gowdy\",\"202001Steve Bartlett\",\"202001Steve Scalise\",\"202001Pramila Jayapal\",\"202001Mark Pocan\",\"202001Richard Blumenthal\",\"202001Paul Gosar\",\"202001Rudy Giuliani\",\"202001Rick Perry\",\"202001Zoe Lofgren\",\"202001Jackie Speier\",\"202001Lindsey Graham\",\"202001Kirsten Gillibrand\",\"202001Amy Klobuchar\",\"202001Claire McCaskill\",\"202001Olympia Snowe\",\"202001Donald Trump\",\"202001Mike Pence\",\"202001Jeanne Shaheen\",\"202001Jon Ossoff\",\"202001Tammy Duckworth\",\"202001Karl Rove\",\"202001John R. Bolton\",\"202001Marianne Williamson\",\"202001Marco Rubio\",\"202001Tulsi Gabbard\",\"202001Rex Tillerson\",\"202001Adam Schiff\",\"202001Mitch McConnell\",\"202001Chuck Schumer\",\"202001Ann McLane Kuster\",\"202001Mark Randall Meadows\",\"202001Kevin Cramer\",\"202001Lamar Alexander\",\"202001Elizabeth Warren\",\"202001Rick Scott\",\"202001Mitt Romney\",\"202001Carolyn Maloney\",\"202001Gavin Newsom\",\"202001Rand Paul\",\"202001Mike Pompeo\",\"202001Marie Newman\",\"202001Carl DeMaio\",\"202001Chris Pappas\",\"202001Dan Lipinski\",\"202001Duncan L. Hunter\",\"202001Jack Reed\",\"202001Pat Roberts\",\"202001Luz Rivas\",\"202001Alexandria Ocasio-Cortez\",\"202001Michael Bennet\",\"202001Hakeem Jeffries\",\"202001Elaine Luria\",\"202001Patrick Leahy\",\"202001Michael Bloomberg\",\"202001Jeff Van Drew\",\"202001John Rood\",\"202001Joe Biden\",\"202001Hillary Clinton\",\"202001Kellyanne Conway\",\"202001Chris Christie\",\"202001Kevin Faulconer\",\"202001Kevin McCarthy\",\"202001Krystal Ball\",\"202001Martha Fuller Clark\",\"202001Pam Bondi\",\"202001Pete Buttigieg\",\"202001John Cornyn\",\"202001William Barr\",\"202001Rashida Tlaib\",\"202001Ro Khanna\",\"202001Ryan Winkler\",\"202001Barack Obama\",\"202001Kevin McCarthy\",\"202001Tate Reeves\",\"202001Ted Lieu\",\"202001Scott Tipton\",\"202001Val Demings\",\"202001Warren Limmer\",\"202001Peter Shumlin\",\"202001Chris Coons\",\"202001Ra\\u00fal Grijalva\",\"202001Patrick J. Kennedy\",\"202001Juli\\u00e1n Castro\",\"202002Chris Murphy\",\"202002Kamala Harris\",\"202002Bill Clinton\",\"202002Cory Gardner\",\"202002Jim Hodges\",\"202002Andrew Cuomo\",\"202002Joaqu\\u00edn Castro\",\"202002Mick Mulvaney\",\"202002Joe Scarborough\",\"202002James Carville\",\"202002Jim Clyburn\"],\"marker\":{\"color\":[\"blue\",\"blue\",\"blue\",\"blue\",\"blue\",\"blue\",\"blue\",\"blue\",\"blue\",\"blue\",\"blue\",\"blue\",\"blue\",\"blue\",\"blue\",\"blue\",\"blue\",\"blue\",\"blue\",\"blue\",\"blue\",\"blue\",\"blue\",\"blue\",\"blue\",\"blue\",\"blue\",\"blue\",\"blue\",\"blue\",\"blue\",\"blue\",\"blue\",\"blue\",\"blue\",\"blue\",\"blue\",\"blue\",\"blue\",\"blue\",\"blue\",\"blue\",\"blue\",\"blue\",\"blue\",\"blue\",\"blue\",\"blue\",\"blue\",\"blue\",\"blue\",\"blue\",\"blue\",\"blue\",\"blue\",\"blue\",\"red\",\"red\",\"red\",\"red\",\"red\",\"red\",\"red\",\"red\",\"red\",\"red\",\"red\",\"red\",\"red\",\"red\",\"red\",\"red\",\"red\",\"red\",\"red\",\"red\",\"red\",\"red\",\"red\",\"red\",\"red\",\"red\",\"red\",\"red\",\"red\",\"red\",\"red\",\"red\",\"red\",\"red\",\"red\",\"red\",\"red\",\"red\",\"red\",\"red\",\"red\",\"red\",\"red\",\"red\",\"red\",\"red\",\"red\",\"red\",\"red\",\"red\",\"red\",\"red\",\"red\",\"red\",\"red\",\"red\"],\"line\":{\"color\":[\"blue\",\"blue\",\"blue\",\"blue\",\"blue\",\"blue\",\"blue\",\"blue\",\"blue\",\"blue\",\"blue\",\"blue\",\"blue\",\"blue\",\"blue\",\"blue\",\"blue\",\"blue\",\"blue\",\"blue\",\"blue\",\"blue\",\"blue\",\"blue\",\"blue\",\"blue\",\"blue\",\"blue\",\"blue\",\"blue\",\"blue\",\"blue\",\"blue\",\"blue\",\"blue\",\"blue\",\"blue\",\"blue\",\"blue\",\"blue\",\"blue\",\"blue\",\"blue\",\"blue\",\"blue\",\"blue\",\"blue\",\"blue\",\"blue\",\"blue\",\"blue\",\"blue\",\"blue\",\"blue\",\"blue\",\"blue\",\"red\",\"red\",\"red\",\"red\",\"red\",\"red\",\"red\",\"red\",\"red\",\"red\",\"red\",\"red\",\"red\",\"red\",\"red\",\"red\",\"red\",\"red\",\"red\",\"red\",\"red\",\"red\",\"red\",\"red\",\"red\",\"red\",\"red\",\"red\",\"red\",\"red\",\"red\",\"red\",\"red\",\"red\",\"red\",\"red\",\"red\",\"red\",\"red\",\"red\",\"red\",\"red\",\"red\",\"red\",\"red\",\"red\",\"red\",\"red\",\"red\",\"red\",\"red\",\"red\",\"red\",\"red\",\"red\",\"red\"],\"width\":2},\"size\":15},\"mode\":\"markers\",\"x\":[-0.2538861614724361,-0.2539381898342635,-0.2544154434336131,-0.011145066958727804,0.5717946181503243,-0.2539092570184062,-0.2584506856788922,0.15278945242584727,0.5762186531291856,1.0,0.8195344616275223,0.4372167577837611,0.08788227220928034,0.08916392585997854,0.3428214176145803,-0.08915512453278185,0.11127417166858421,-0.2539363034248378,0.04444302743467723,0.22527806544787235,-0.15034101183155726,0.22615442032495287,-0.2539356830304834,0.08076597837894949,0.16482476725333625,-0.25394375521144646,0.25803712861746064,0.212089125231628,0.8265829259162691,-0.03623166786590053,0.4846135595614289,0.013508990522313542,-0.046990916455814886,-0.2538770915400085,-0.26028477954165646,-0.2538782982682559,0.11125572735401369,-0.03264689010375969,0.1112554750212957,-0.3199196702440453,-0.12707688946268036,-0.25384272277776576,-0.25384208432639827,-0.28022088432931513,-0.2538391742481084,-0.5079961449669633,0.18526365883956505,0.5154831964841313,0.049684873880099976,-0.253886120638,0.6536111696571774,0.1713219103117564,-0.2538756099572459,0.1833380565063693,0.48518973330265514,0.1715519357359662,0.4826589834327793,-0.14284722719484563,-0.05269437140111136,-0.011353869742413328,-0.08916178915686361,0.15277646152237206,-0.45718976519120064,-0.4571748725463658,-0.09673212677374662,-0.4881354333334524,-0.2538464809572591,-0.2538463401925817,-0.2538464105321508,-0.086979651715583,-0.25384436279795913,-0.13431419955836296,-0.010339129309178326,-0.2538410994003394,-0.25384183354,-0.5079922226981793,-0.25384075093210295,-0.02323606052775056,-0.25383957379040495,0.3426477108117135,-0.2538382230088621,-0.25383630163975957,0.1661720714064134,0.25817113625150634,-0.011370997543038799,0.2690374449616967,-0.25382447266279606,-0.23170616387948104,0.39474730417893344,-0.2538265499133858,0.06560082463790216,0.18322422407373365,-0.08923375164473131,-0.25383333161969385,-0.25383531770544465,-0.25383709185694786,0.49017376063827806,-0.13227150054974252,0.7512084757501742,0.3440215427162439,0.5698870786586611,0.10282853934308896,0.29094739705890743,-0.4571985291940721,0.16369029533257448,-0.2538765514998222,0.10660264004339866,-0.2649589144123616,-0.25388295661704063,-0.2538833599871711,-0.25388388120556843,-0.2538842536842242],\"y\":[0.17220692594315112,0.17255091880895743,0.02939988495046766,0.4887539221061084,-0.4312742408832208,0.17221107383309545,-0.24396368001567295,0.13508204051531492,0.3713792441072575,-0.7690370611023601,-0.6209115518318161,-0.8272211539236833,-0.08416431245137139,-0.0960604346143917,0.3731693014805722,-0.6398545116972019,0.012322481288843744,0.17221007967781357,0.09575021636167633,0.5279681843610675,0.18737612285798394,0.10216486433273929,0.17221289561172615,0.14709990886015092,-0.35016037237416076,0.17221150187581225,-0.44133194198280634,0.8314757408770145,-0.6386003475290047,-0.35018066175006124,0.18930843196130914,0.47097700266376347,0.21284037145690396,0.17223040575230514,0.07783871730608595,0.17222603212301144,0.012316153053499859,0.10612259520016445,0.012316061713486226,0.36553087546356533,0.1607551862602852,0.17223182079879204,0.17223281531674445,-0.37343010964428164,0.17223487117422542,0.18495564592576683,-0.5846179681822352,-0.30063462263229446,0.45699884167901367,0.17223906003869555,-0.4269036984997489,-0.33892564659343866,0.17224128366049515,-0.7277150979944809,0.18904054538114498,0.5785078688149321,-0.6101178512510884,0.3909456707738219,-0.16141589383709587,0.4888296673321951,-0.6398483795528235,0.1350455312275401,0.13047459344388063,0.1305467953765872,-0.0853922627138707,0.17842548564501337,0.17225504292374474,0.17225635972130218,0.17225808568699463,-0.05984686483486978,0.17225930793309724,-0.15501873578505335,-0.09162488542573866,0.17225927957059523,0.1722603201497639,0.1852022597864647,0.17226094608228526,-0.5802383420661726,0.17226219095908402,0.37297275811253133,0.17226317106737118,0.17226228462236895,-0.5009375979143256,-0.4412175759313457,0.4887701309055294,-0.2386533395725597,0.17222591040281993,0.11761520551939535,0.48913926935264834,0.1722242080266741,-0.1943305168827764,-0.7277771771742519,-0.6398717898607433,0.1722214316371413,0.17221987486373724,0.17221817326976183,-0.15794365254499812,-0.4061684684530822,-0.4489586799444104,-0.44671807066658414,-0.36131012469004026,-0.045956102576163414,-0.06815794270007974,0.13085293666608852,-0.03896215949186053,0.1722163611464956,-0.07352722688270652,0.17670073200212774,0.1722152306299753,0.17221289871654819,0.1722108037806369,0.1722082435267078],\"type\":\"scatter\"},{\"line\":{\"color\":\"mediumaquamarine\",\"shape\":\"spline\",\"width\":1.0},\"mode\":\"lines\",\"x\":[-0.06992336700034084,0.12556425051847703,null],\"y\":[-0.1586829777366672,0.08122592568284567,null],\"type\":\"scatter\"},{\"line\":{\"color\":\"mediumaquamarine\",\"shape\":\"spline\",\"width\":1.0},\"mode\":\"lines\",\"x\":[-0.06992336700034084,-0.407030296784562,null],\"y\":[-0.1586829777366672,-0.17496591204824347,null],\"type\":\"scatter\"},{\"line\":{\"color\":\"mediumaquamarine\",\"shape\":\"spline\",\"width\":1.0},\"mode\":\"lines\",\"x\":[0.11493020163084758,-0.1238258914100189,null],\"y\":[-0.037230153504011286,-0.12321821603927363,null],\"type\":\"scatter\"},{\"line\":{\"color\":\"mediumaquamarine\",\"shape\":\"spline\",\"width\":1.0},\"mode\":\"lines\",\"x\":[0.11493020163084758,-0.10224256406625327,null],\"y\":[-0.037230153504011286,-0.16851127198769233,null],\"type\":\"scatter\"},{\"line\":{\"color\":\"mediumaquamarine\",\"shape\":\"spline\",\"width\":1.189207115002721},\"mode\":\"lines\",\"x\":[0.25099278596533997,0.25099278596533997,null],\"y\":[0.05239933473186786,0.05239933473186786,null],\"type\":\"scatter\"},{\"line\":{\"color\":\"mediumaquamarine\",\"shape\":\"spline\",\"width\":1.0},\"mode\":\"lines\",\"x\":[0.37652346402589504,0.12556425051847703,null],\"y\":[0.17290046169792567,0.08122592568284567,null],\"type\":\"scatter\"},{\"line\":{\"color\":\"mediumaquamarine\",\"shape\":\"spline\",\"width\":1.0},\"mode\":\"lines\",\"x\":[-0.06949913220490775,0.12556425051847703,null],\"y\":[-0.14839745485457323,0.08122592568284567,null],\"type\":\"scatter\"},{\"line\":{\"color\":\"mediumaquamarine\",\"shape\":\"spline\",\"width\":1.0},\"mode\":\"lines\",\"x\":[-0.06949913220490775,-0.407030296784562,null],\"y\":[-0.14839745485457323,-0.17496591204824347,null],\"type\":\"scatter\"},{\"line\":{\"color\":\"mediumaquamarine\",\"shape\":\"spline\",\"width\":1.0},\"mode\":\"lines\",\"x\":[0.3765116345964723,0.12556425051847703,null],\"y\":[0.1728819139682018,0.08122592568284567,null],\"type\":\"scatter\"},{\"line\":{\"color\":\"mediumaquamarine\",\"shape\":\"spline\",\"width\":1.0},\"mode\":\"lines\",\"x\":[-0.18068395434277848,0.12556425051847703,null],\"y\":[0.13452358267925332,0.08122592568284567,null],\"type\":\"scatter\"},{\"line\":{\"color\":\"mediumaquamarine\",\"shape\":\"spline\",\"width\":1.0},\"mode\":\"lines\",\"x\":[0.2000176015052409,-0.03965275375338926,null],\"y\":[0.18886598828034948,0.27236542302965105,null],\"type\":\"scatter\"},{\"line\":{\"color\":\"mediumaquamarine\",\"shape\":\"spline\",\"width\":1.0},\"mode\":\"lines\",\"x\":[0.37652375832850443,0.12556425051847703,null],\"y\":[0.17290334224943787,0.08122592568284567,null],\"type\":\"scatter\"},{\"line\":{\"color\":\"mediumaquamarine\",\"shape\":\"spline\",\"width\":1.0},\"mode\":\"lines\",\"x\":[0.24753679781055724,0.12556425051847703,null],\"y\":[0.35224335246371696,0.08122592568284567,null],\"type\":\"scatter\"},{\"line\":{\"color\":\"mediumaquamarine\",\"shape\":\"spline\",\"width\":1.0},\"mode\":\"lines\",\"x\":[0.002350141299245145,-0.21601950527218683,null],\"y\":[0.2066631712898084,0.07745875231172576,null],\"type\":\"scatter\"},{\"line\":{\"color\":\"mediumaquamarine\",\"shape\":\"spline\",\"width\":1.189207115002721},\"mode\":\"lines\",\"x\":[-1.0,-0.407030296784562,null],\"y\":[-0.008553954498802903,-0.17496591204824347,null],\"type\":\"scatter\"},{\"line\":{\"color\":\"mediumaquamarine\",\"shape\":\"spline\",\"width\":1.0},\"mode\":\"lines\",\"x\":[-0.012430188028066343,0.03418312371220912,null],\"y\":[0.14637995491470235,0.39563047263382056,null],\"type\":\"scatter\"},{\"line\":{\"color\":\"mediumaquamarine\",\"shape\":\"spline\",\"width\":1.0},\"mode\":\"lines\",\"x\":[0.12556425051847703,0.4868409919390241,null],\"y\":[0.08122592568284567,-0.18938320795122363,null],\"type\":\"scatter\"},{\"line\":{\"color\":\"mediumaquamarine\",\"shape\":\"spline\",\"width\":1.0},\"mode\":\"lines\",\"x\":[0.12556425051847703,-0.18068395434277848,null],\"y\":[0.08122592568284567,0.13452358267925332,null],\"type\":\"scatter\"},{\"line\":{\"color\":\"mediumaquamarine\",\"shape\":\"spline\",\"width\":1.0},\"mode\":\"lines\",\"x\":[0.12556425051847703,0.24753679781055724,null],\"y\":[0.08122592568284567,0.35224335246371696,null],\"type\":\"scatter\"},{\"line\":{\"color\":\"mediumaquamarine\",\"shape\":\"spline\",\"width\":1.5650845800732873},\"mode\":\"lines\",\"x\":[0.12556425051847703,0.12556425051847703,null],\"y\":[0.08122592568284567,0.08122592568284567,null],\"type\":\"scatter\"},{\"line\":{\"color\":\"mediumaquamarine\",\"shape\":\"spline\",\"width\":1.0},\"mode\":\"lines\",\"x\":[0.12556425051847703,-0.031075821273408046,null],\"y\":[0.08122592568284567,0.3744150226821672,null],\"type\":\"scatter\"},{\"line\":{\"color\":\"mediumaquamarine\",\"shape\":\"spline\",\"width\":1.0},\"mode\":\"lines\",\"x\":[0.12556425051847703,-0.030994664803139393,null],\"y\":[0.08122592568284567,0.3744761083588138,null],\"type\":\"scatter\"},{\"line\":{\"color\":\"mediumaquamarine\",\"shape\":\"spline\",\"width\":1.0},\"mode\":\"lines\",\"x\":[0.12556425051847703,-0.030996759294375443,null],\"y\":[0.08122592568284567,0.37447533498719976,null],\"type\":\"scatter\"},{\"line\":{\"color\":\"mediumaquamarine\",\"shape\":\"spline\",\"width\":1.0},\"mode\":\"lines\",\"x\":[0.12556425051847703,-0.09525654737371206,null],\"y\":[0.08122592568284567,0.350641540187102,null],\"type\":\"scatter\"},{\"line\":{\"color\":\"mediumaquamarine\",\"shape\":\"spline\",\"width\":1.0},\"mode\":\"lines\",\"x\":[0.12556425051847703,-0.030868636292583927,null],\"y\":[0.08122592568284567,0.378117451449038,null],\"type\":\"scatter\"},{\"line\":{\"color\":\"mediumaquamarine\",\"shape\":\"spline\",\"width\":1.0},\"mode\":\"lines\",\"x\":[0.12556425051847703,-0.32710379200727635,null],\"y\":[0.08122592568284567,0.02585505311443355,null],\"type\":\"scatter\"},{\"line\":{\"color\":\"mediumaquamarine\",\"shape\":\"spline\",\"width\":1.0},\"mode\":\"lines\",\"x\":[0.12556425051847703,0.27871331852236975,null],\"y\":[0.08122592568284567,-0.18985035756394322,null],\"type\":\"scatter\"},{\"line\":{\"color\":\"mediumaquamarine\",\"shape\":\"spline\",\"width\":1.0},\"mode\":\"lines\",\"x\":[0.12556425051847703,0.48681380410668107,null],\"y\":[0.08122592568284567,-0.18944876792558707,null],\"type\":\"scatter\"},{\"line\":{\"color\":\"mediumaquamarine\",\"shape\":\"spline\",\"width\":1.189207115002721},\"mode\":\"lines\",\"x\":[0.12556425051847703,-0.407030296784562,null],\"y\":[0.08122592568284567,-0.17496591204824347,null],\"type\":\"scatter\"},{\"line\":{\"color\":\"mediumaquamarine\",\"shape\":\"spline\",\"width\":1.0},\"mode\":\"lines\",\"x\":[0.12556425051847703,0.03418312371220912,null],\"y\":[0.08122592568284567,0.39563047263382056,null],\"type\":\"scatter\"},{\"line\":{\"color\":\"mediumaquamarine\",\"shape\":\"spline\",\"width\":1.0},\"mode\":\"lines\",\"x\":[0.12556425051847703,0.4868363797217803,null],\"y\":[0.08122592568284567,-0.18939457976605625,null],\"type\":\"scatter\"},{\"line\":{\"color\":\"mediumaquamarine\",\"shape\":\"spline\",\"width\":1.0},\"mode\":\"lines\",\"x\":[0.03451360324132861,0.03418312371220912,null],\"y\":[0.14189004114256581,0.39563047263382056,null],\"type\":\"scatter\"},{\"line\":{\"color\":\"mediumaquamarine\",\"shape\":\"spline\",\"width\":1.0},\"mode\":\"lines\",\"x\":[0.009484332426199284,0.12556425051847703,null],\"y\":[-0.14452211264767117,0.08122592568284567,null],\"type\":\"scatter\"},{\"line\":{\"color\":\"mediumaquamarine\",\"shape\":\"spline\",\"width\":1.189207115002721},\"mode\":\"lines\",\"x\":[0.009484332426199284,-0.407030296784562,null],\"y\":[-0.14452211264767117,-0.17496591204824347,null],\"type\":\"scatter\"},{\"line\":{\"color\":\"mediumaquamarine\",\"shape\":\"spline\",\"width\":1.0},\"mode\":\"lines\",\"x\":[-0.11248906376126197,0.1404998750839004,null],\"y\":[0.19278624176704592,0.17326930648864708,null],\"type\":\"scatter\"},{\"line\":{\"color\":\"mediumaquamarine\",\"shape\":\"spline\",\"width\":1.0},\"mode\":\"lines\",\"x\":[-0.08726767189468829,-0.21601950527218683,null],\"y\":[0.2961794106274135,0.07745875231172576,null],\"type\":\"scatter\"},{\"line\":{\"color\":\"mediumaquamarine\",\"shape\":\"spline\",\"width\":1.0},\"mode\":\"lines\",\"x\":[-0.09525654737371206,0.03418312371220912,null],\"y\":[0.350641540187102,0.39563047263382056,null],\"type\":\"scatter\"},{\"line\":{\"color\":\"mediumaquamarine\",\"shape\":\"spline\",\"width\":1.189207115002721},\"mode\":\"lines\",\"x\":[-0.030868636292583927,-0.1341978888014287,null],\"y\":[0.378117451449038,0.9366341301021904,null],\"type\":\"scatter\"},{\"line\":{\"color\":\"mediumaquamarine\",\"shape\":\"spline\",\"width\":1.0},\"mode\":\"lines\",\"x\":[0.025395395580866533,0.12556425051847703,null],\"y\":[-0.14209702578135142,0.08122592568284567,null],\"type\":\"scatter\"},{\"line\":{\"color\":\"mediumaquamarine\",\"shape\":\"spline\",\"width\":1.0},\"mode\":\"lines\",\"x\":[0.02540135584104194,0.12556425051847703,null],\"y\":[-0.14208423721303345,0.08122592568284567,null],\"type\":\"scatter\"},{\"line\":{\"color\":\"mediumaquamarine\",\"shape\":\"spline\",\"width\":1.4142135623730951},\"mode\":\"lines\",\"x\":[-0.32710379200727635,0.12556425051847703,null],\"y\":[0.02585505311443355,0.08122592568284567,null],\"type\":\"scatter\"},{\"line\":{\"color\":\"mediumaquamarine\",\"shape\":\"spline\",\"width\":1.0},\"mode\":\"lines\",\"x\":[-0.32710379200727635,-0.407030296784562,null],\"y\":[0.02585505311443355,-0.17496591204824347,null],\"type\":\"scatter\"},{\"line\":{\"color\":\"mediumaquamarine\",\"shape\":\"spline\",\"width\":1.0},\"mode\":\"lines\",\"x\":[-0.0694837091903562,0.12556425051847703,null],\"y\":[-0.14840518717800572,0.08122592568284567,null],\"type\":\"scatter\"},{\"line\":{\"color\":\"mediumaquamarine\",\"shape\":\"spline\",\"width\":1.0},\"mode\":\"lines\",\"x\":[-0.0694837091903562,0.15509852986688152,null],\"y\":[-0.14840518717800572,-0.266683929101483,null],\"type\":\"scatter\"},{\"line\":{\"color\":\"mediumaquamarine\",\"shape\":\"spline\",\"width\":1.0},\"mode\":\"lines\",\"x\":[-0.0694837091903562,-0.407030296784562,null],\"y\":[-0.14840518717800572,-0.17496591204824347,null],\"type\":\"scatter\"},{\"line\":{\"color\":\"mediumaquamarine\",\"shape\":\"spline\",\"width\":1.0},\"mode\":\"lines\",\"x\":[0.02538657629377427,0.12556425051847703,null],\"y\":[-0.14211095518138617,0.08122592568284567,null],\"type\":\"scatter\"},{\"line\":{\"color\":\"mediumaquamarine\",\"shape\":\"spline\",\"width\":1.0},\"mode\":\"lines\",\"x\":[0.025386534787018526,0.12556425051847703,null],\"y\":[-0.14211295557347575,0.08122592568284567,null],\"type\":\"scatter\"},{\"line\":{\"color\":\"mediumaquamarine\",\"shape\":\"spline\",\"width\":1.0},\"mode\":\"lines\",\"x\":[-0.4371472076950761,-0.407030296784562,null],\"y\":[-0.44609317203244425,-0.17496591204824347,null],\"type\":\"scatter\"},{\"line\":{\"color\":\"mediumaquamarine\",\"shape\":\"spline\",\"width\":1.0},\"mode\":\"lines\",\"x\":[-0.12254878898013782,-0.26935460953291956,null],\"y\":[-0.24247820549908794,-0.035455048820548306,null],\"type\":\"scatter\"},{\"line\":{\"color\":\"mediumaquamarine\",\"shape\":\"spline\",\"width\":1.0},\"mode\":\"lines\",\"x\":[-0.050946437299762046,-0.2537822852458737,null],\"y\":[-0.2789843827704257,-0.12639374181303822,null],\"type\":\"scatter\"},{\"line\":{\"color\":\"mediumaquamarine\",\"shape\":\"spline\",\"width\":1.0},\"mode\":\"lines\",\"x\":[-0.10787959604795998,-0.06992336700034084,null],\"y\":[-0.43917600314951377,-0.1586829777366672,null],\"type\":\"scatter\"},{\"line\":{\"color\":\"mediumaquamarine\",\"shape\":\"spline\",\"width\":1.0},\"mode\":\"lines\",\"x\":[-0.10787959604795998,-0.10787959604795998,null],\"y\":[-0.43917600314951377,-0.43917600314951377,null],\"type\":\"scatter\"},{\"line\":{\"color\":\"mediumaquamarine\",\"shape\":\"spline\",\"width\":1.0},\"mode\":\"lines\",\"x\":[-0.10787959604795998,0.1151534690336601,null],\"y\":[-0.43917600314951377,-0.3178952587389406,null],\"type\":\"scatter\"},{\"line\":{\"color\":\"mediumaquamarine\",\"shape\":\"spline\",\"width\":1.0},\"mode\":\"lines\",\"x\":[-0.09498032549867211,-0.031075821273408046,null],\"y\":[0.1287225936816323,0.3744150226821672,null],\"type\":\"scatter\"},{\"line\":{\"color\":\"mediumaquamarine\",\"shape\":\"spline\",\"width\":1.0},\"mode\":\"lines\",\"x\":[0.025388400590996906,0.12556425051847703,null],\"y\":[-0.14210652699153953,0.08122592568284567,null],\"type\":\"scatter\"},{\"line\":{\"color\":\"mediumaquamarine\",\"shape\":\"spline\",\"width\":1.0},\"mode\":\"lines\",\"x\":[0.025388839953283945,0.12556425051847703,null],\"y\":[-0.14210342517779273,0.08122592568284567,null],\"type\":\"scatter\"},{\"line\":{\"color\":\"mediumaquamarine\",\"shape\":\"spline\",\"width\":1.0},\"mode\":\"lines\",\"x\":[0.27871331852236975,0.12556425051847703,null],\"y\":[-0.18985035756394322,0.08122592568284567,null],\"type\":\"scatter\"},{\"line\":{\"color\":\"mediumaquamarine\",\"shape\":\"spline\",\"width\":1.0},\"mode\":\"lines\",\"x\":[0.27871331852236975,0.27871331852236975,null],\"y\":[-0.18985035756394322,-0.18985035756394322,null],\"type\":\"scatter\"},{\"line\":{\"color\":\"mediumaquamarine\",\"shape\":\"spline\",\"width\":1.0},\"mode\":\"lines\",\"x\":[-0.407030296784562,-0.18068395434277848,null],\"y\":[-0.17496591204824347,0.13452358267925332,null],\"type\":\"scatter\"},{\"line\":{\"color\":\"mediumaquamarine\",\"shape\":\"spline\",\"width\":1.9343364202676694},\"mode\":\"lines\",\"x\":[-0.407030296784562,0.12556425051847703,null],\"y\":[-0.17496591204824347,0.08122592568284567,null],\"type\":\"scatter\"},{\"line\":{\"color\":\"mediumaquamarine\",\"shape\":\"spline\",\"width\":1.189207115002721},\"mode\":\"lines\",\"x\":[-0.407030296784562,-0.9633708590812551,null],\"y\":[-0.17496591204824347,-0.436379450482141,null],\"type\":\"scatter\"},{\"line\":{\"color\":\"mediumaquamarine\",\"shape\":\"spline\",\"width\":1.0},\"mode\":\"lines\",\"x\":[-0.407030296784562,-0.32710379200727635,null],\"y\":[-0.17496591204824347,0.02585505311443355,null],\"type\":\"scatter\"},{\"line\":{\"color\":\"mediumaquamarine\",\"shape\":\"spline\",\"width\":1.7320508075688772},\"mode\":\"lines\",\"x\":[-0.407030296784562,-0.407030296784562,null],\"y\":[-0.17496591204824347,-0.17496591204824347,null],\"type\":\"scatter\"},{\"line\":{\"color\":\"mediumaquamarine\",\"shape\":\"spline\",\"width\":1.3160740129524924},\"mode\":\"lines\",\"x\":[-0.407030296784562,0.03418312371220912,null],\"y\":[-0.17496591204824347,0.39563047263382056,null],\"type\":\"scatter\"},{\"line\":{\"color\":\"mediumaquamarine\",\"shape\":\"spline\",\"width\":1.189207115002721},\"mode\":\"lines\",\"x\":[0.08310057839459586,0.03418312371220912,null],\"y\":[-0.110585128120345,0.39563047263382056,null],\"type\":\"scatter\"},{\"line\":{\"color\":\"mediumaquamarine\",\"shape\":\"spline\",\"width\":1.0},\"mode\":\"lines\",\"x\":[0.08858173915217561,0.27871331852236975,null],\"y\":[-0.4319334871329036,-0.18985035756394322,null],\"type\":\"scatter\"},{\"line\":{\"color\":\"mediumaquamarine\",\"shape\":\"spline\",\"width\":1.0},\"mode\":\"lines\",\"x\":[0.3764390337037802,0.12556425051847703,null],\"y\":[0.17276394050591218,0.08122592568284567,null],\"type\":\"scatter\"},{\"line\":{\"color\":\"mediumaquamarine\",\"shape\":\"spline\",\"width\":1.0},\"mode\":\"lines\",\"x\":[0.3764390337037802,0.3764390337037802,null],\"y\":[0.17276394050591218,0.17276394050591218,null],\"type\":\"scatter\"},{\"line\":{\"color\":\"mediumaquamarine\",\"shape\":\"spline\",\"width\":1.0},\"mode\":\"lines\",\"x\":[0.3764310909335287,0.12556425051847703,null],\"y\":[0.1727513785333494,0.08122592568284567,null],\"type\":\"scatter\"},{\"line\":{\"color\":\"mediumaquamarine\",\"shape\":\"spline\",\"width\":1.0},\"mode\":\"lines\",\"x\":[-0.07997863548732125,-0.32710379200727635,null],\"y\":[-0.28815234122253053,0.02585505311443355,null],\"type\":\"scatter\"},{\"line\":{\"color\":\"mediumaquamarine\",\"shape\":\"spline\",\"width\":1.0},\"mode\":\"lines\",\"x\":[-0.07997863548732125,0.27871331852236975,null],\"y\":[-0.28815234122253053,-0.18985035756394322,null],\"type\":\"scatter\"},{\"line\":{\"color\":\"mediumaquamarine\",\"shape\":\"spline\",\"width\":1.0},\"mode\":\"lines\",\"x\":[0.2351194245767656,0.2351194245767656,null],\"y\":[-0.10259211587357765,-0.10259211587357765,null],\"type\":\"scatter\"},{\"line\":{\"color\":\"mediumaquamarine\",\"shape\":\"spline\",\"width\":1.0},\"mode\":\"lines\",\"x\":[-0.43658049270669186,-0.407030296784562,null],\"y\":[-0.44631197061437455,-0.17496591204824347,null],\"type\":\"scatter\"},{\"line\":{\"color\":\"mediumaquamarine\",\"shape\":\"spline\",\"width\":1.0},\"mode\":\"lines\",\"x\":[0.3765044119879617,0.12556425051847703,null],\"y\":[0.17287428543086658,0.08122592568284567,null],\"type\":\"scatter\"},{\"hovertemplate\":[\"202001Chris Murphy\",\"202001Chris Van Hollen\",\"202001Bill Clinton\",\"202001Darrell Issa\",\"202001David Plouffe\",\"202001Mick Mulvaney\",\"202001Joe Scarborough\",\"202001Ed Markey\",\"202001Jennifer Horn\",\"202001Jeff Merkley\",\"202001Toni Atkins\",\"202001David Jolly\",\"202001John Dean\",\"202001Mazie Hirono\",\"202001Nury Martinez\",\"202001Nancy Pelosi\",\"202001Jennifer Palmieri\",\"202001Trey Gowdy\",\"202001Steve Bartlett\",\"202001Steve Scalise\",\"202001Pramila Jayapal\",\"202001Mark Pocan\",\"202001Richard Blumenthal\",\"202001Paul Gosar\",\"202001Rudy Giuliani\",\"202001Rick Perry\",\"202001Zoe Lofgren\",\"202001Jackie Speier\",\"202001Lindsey Graham\",\"202001Kirsten Gillibrand\",\"202001Amy Klobuchar\",\"202001Claire McCaskill\",\"202001Olympia Snowe\",\"202001Donald Trump\",\"202001Mike Pence\",\"202001Jeanne Shaheen\",\"202001Jon Ossoff\",\"202001Tammy Duckworth\",\"202001Karl Rove\",\"202001John R. Bolton\",\"202001Marianne Williamson\",\"202001Marco Rubio\",\"202001Tulsi Gabbard\",\"202001Rex Tillerson\",\"202001Adam Schiff\",\"202001Mitch McConnell\",\"202001Chuck Schumer\",\"202001Ann McLane Kuster\",\"202001Mark Randall Meadows\",\"202001Kevin Cramer\",\"202001Lamar Alexander\",\"202001Elizabeth Warren\",\"202001Rick Scott\",\"202001Mitt Romney\",\"202001Carolyn Maloney\",\"202001Gavin Newsom\",\"202001Rand Paul\",\"202001Mike Pompeo\",\"202001Marie Newman\",\"202001Carl DeMaio\",\"202001Chris Pappas\"],\"marker\":{\"color\":[\"blue\",\"blue\",\"blue\",\"blue\",\"blue\",\"blue\",\"blue\",\"blue\",\"blue\",\"blue\",\"blue\",\"blue\",\"blue\",\"blue\",\"blue\",\"blue\",\"blue\",\"blue\",\"blue\",\"blue\",\"blue\",\"blue\",\"blue\",\"blue\",\"blue\",\"blue\",\"blue\",\"blue\",\"blue\",\"blue\",\"red\",\"red\",\"red\",\"red\",\"red\",\"red\",\"red\",\"red\",\"red\",\"red\",\"red\",\"red\",\"red\",\"red\",\"red\",\"red\",\"red\",\"red\",\"red\",\"red\",\"red\",\"red\",\"red\",\"red\",\"red\",\"red\",\"red\",\"red\",\"red\",\"red\",\"red\"],\"line\":{\"color\":[\"blue\",\"blue\",\"blue\",\"blue\",\"blue\",\"blue\",\"blue\",\"blue\",\"blue\",\"blue\",\"blue\",\"blue\",\"blue\",\"blue\",\"blue\",\"blue\",\"blue\",\"blue\",\"blue\",\"blue\",\"blue\",\"blue\",\"blue\",\"blue\",\"blue\",\"blue\",\"blue\",\"blue\",\"blue\",\"blue\",\"red\",\"red\",\"red\",\"red\",\"red\",\"red\",\"red\",\"red\",\"red\",\"red\",\"red\",\"red\",\"red\",\"red\",\"red\",\"red\",\"red\",\"red\",\"red\",\"red\",\"red\",\"red\",\"red\",\"red\",\"red\",\"red\",\"red\",\"red\",\"red\",\"red\",\"red\"],\"width\":2},\"size\":15},\"mode\":\"markers\",\"x\":[-0.06992336700034084,0.11493020163084758,0.25099278596533997,0.4868409919390241,0.37652346402589504,-0.06949913220490775,0.3765116345964723,0.1404998750839004,-0.18068395434277848,0.2000176015052409,0.37652375832850443,0.24753679781055724,0.002350141299245145,-1.0,-0.012430188028066343,-0.03965275375338926,0.12556425051847703,0.03451360324132861,-0.031075821273408046,-0.030994664803139393,-0.030996759294375443,0.009484332426199284,-0.11248906376126197,-0.08726767189468829,-0.21601950527218683,-0.09525654737371206,-0.030868636292583927,0.025395395580866533,-0.9633708590812551,0.02540135584104194,-0.32710379200727635,-0.0694837091903562,0.02538657629377427,-0.26935460953291956,0.025386534787018526,-0.4371472076950761,-0.1341978888014287,-0.1238258914100189,-0.2537822852458737,-0.10224256406625327,-0.12254878898013782,-0.050946437299762046,-0.10787959604795998,-0.09498032549867211,0.025388400590996906,0.025388839953283945,0.27871331852236975,0.15509852986688152,0.48681380410668107,-0.407030296784562,0.08310057839459586,0.08858173915217561,0.3764390337037802,0.3764310909335287,-0.07997863548732125,0.1151534690336601,0.03418312371220912,0.2351194245767656,0.4868363797217803,-0.43658049270669186,0.3765044119879617],\"y\":[-0.1586829777366672,-0.037230153504011286,0.05239933473186786,-0.18938320795122363,0.17290046169792567,-0.14839745485457323,0.1728819139682018,0.17326930648864708,0.13452358267925332,0.18886598828034948,0.17290334224943787,0.35224335246371696,0.2066631712898084,-0.008553954498802903,0.14637995491470235,0.27236542302965105,0.08122592568284567,0.14189004114256581,0.3744150226821672,0.3744761083588138,0.37447533498719976,-0.14452211264767117,0.19278624176704592,0.2961794106274135,0.07745875231172576,0.350641540187102,0.378117451449038,-0.14209702578135142,-0.436379450482141,-0.14208423721303345,0.02585505311443355,-0.14840518717800572,-0.14211095518138617,-0.035455048820548306,-0.14211295557347575,-0.44609317203244425,0.9366341301021904,-0.12321821603927363,-0.12639374181303822,-0.16851127198769233,-0.24247820549908794,-0.2789843827704257,-0.43917600314951377,0.1287225936816323,-0.14210652699153953,-0.14210342517779273,-0.18985035756394322,-0.266683929101483,-0.18944876792558707,-0.17496591204824347,-0.110585128120345,-0.4319334871329036,0.17276394050591218,0.1727513785333494,-0.28815234122253053,-0.3178952587389406,0.39563047263382056,-0.10259211587357765,-0.18939457976605625,-0.44631197061437455,0.17287428543086658],\"type\":\"scatter\"},{\"line\":{\"color\":\"mediumaquamarine\",\"shape\":\"spline\",\"width\":1.0},\"mode\":\"lines\",\"x\":[0.4201351639696622,0.4201351639696622,null],\"y\":[0.0010301855287867083,0.0010301855287867083,null],\"type\":\"scatter\"},{\"line\":{\"color\":\"mediumaquamarine\",\"shape\":\"spline\",\"width\":1.0},\"mode\":\"lines\",\"x\":[0.32215712056554696,-0.03378812295016482,null],\"y\":[0.14853740007011065,0.35314815537662775,null],\"type\":\"scatter\"},{\"line\":{\"color\":\"mediumaquamarine\",\"shape\":\"spline\",\"width\":1.0},\"mode\":\"lines\",\"x\":[0.34015685819077396,0.1997361191962242,null],\"y\":[0.09401661480229888,-0.2917928446258578,null],\"type\":\"scatter\"},{\"line\":{\"color\":\"mediumaquamarine\",\"shape\":\"spline\",\"width\":1.0},\"mode\":\"lines\",\"x\":[0.20265265079415853,-0.200161935582182,null],\"y\":[-0.17764868685999663,-0.0967134099410691,null],\"type\":\"scatter\"},{\"line\":{\"color\":\"mediumaquamarine\",\"shape\":\"spline\",\"width\":1.0},\"mode\":\"lines\",\"x\":[0.2018935874533882,-0.200161935582182,null],\"y\":[-0.18111574164294217,-0.0967134099410691,null],\"type\":\"scatter\"},{\"line\":{\"color\":\"mediumaquamarine\",\"shape\":\"spline\",\"width\":1.0},\"mode\":\"lines\",\"x\":[-0.23306525341995016,-0.200161935582182,null],\"y\":[0.31151184950558364,-0.0967134099410691,null],\"type\":\"scatter\"},{\"line\":{\"color\":\"mediumaquamarine\",\"shape\":\"spline\",\"width\":1.0},\"mode\":\"lines\",\"x\":[-0.23306525341995016,-0.5778881979515358,null],\"y\":[0.31151184950558364,0.08196544330714987,null],\"type\":\"scatter\"},{\"line\":{\"color\":\"mediumaquamarine\",\"shape\":\"spline\",\"width\":1.4142135623730951},\"mode\":\"lines\",\"x\":[-0.200161935582182,-0.200161935582182,null],\"y\":[-0.0967134099410691,-0.0967134099410691,null],\"type\":\"scatter\"},{\"line\":{\"color\":\"mediumaquamarine\",\"shape\":\"spline\",\"width\":1.0},\"mode\":\"lines\",\"x\":[-0.200161935582182,-0.5778881979515358,null],\"y\":[-0.0967134099410691,0.08196544330714987,null],\"type\":\"scatter\"},{\"line\":{\"color\":\"mediumaquamarine\",\"shape\":\"spline\",\"width\":1.0},\"mode\":\"lines\",\"x\":[-0.23294403792209087,-0.200161935582182,null],\"y\":[0.31144598554227476,-0.0967134099410691,null],\"type\":\"scatter\"},{\"line\":{\"color\":\"mediumaquamarine\",\"shape\":\"spline\",\"width\":1.0},\"mode\":\"lines\",\"x\":[-0.23294403792209087,-0.5778881979515358,null],\"y\":[0.31144598554227476,0.08196544330714987,null],\"type\":\"scatter\"},{\"line\":{\"color\":\"mediumaquamarine\",\"shape\":\"spline\",\"width\":1.0},\"mode\":\"lines\",\"x\":[-0.28056944759960195,-0.463450609781581,null],\"y\":[0.37050530261903564,0.0029216295330042217,null],\"type\":\"scatter\"},{\"line\":{\"color\":\"mediumaquamarine\",\"shape\":\"spline\",\"width\":1.0},\"mode\":\"lines\",\"x\":[-0.4159795594281268,-0.4159795594281268,null],\"y\":[0.04793765951446853,0.04793765951446853,null],\"type\":\"scatter\"},{\"line\":{\"color\":\"mediumaquamarine\",\"shape\":\"spline\",\"width\":1.0},\"mode\":\"lines\",\"x\":[0.205119352799749,-0.200161935582182,null],\"y\":[-0.1659067370886455,-0.0967134099410691,null],\"type\":\"scatter\"},{\"line\":{\"color\":\"mediumaquamarine\",\"shape\":\"spline\",\"width\":1.0},\"mode\":\"lines\",\"x\":[-0.19150112132268363,-0.5778881979515358,null],\"y\":[0.21828054209133022,0.08196544330714987,null],\"type\":\"scatter\"},{\"line\":{\"color\":\"mediumaquamarine\",\"shape\":\"spline\",\"width\":1.189207115002721},\"mode\":\"lines\",\"x\":[0.5945596944866242,-0.200161935582182,null],\"y\":[-0.30443604663400076,-0.0967134099410691,null],\"type\":\"scatter\"},{\"line\":{\"color\":\"mediumaquamarine\",\"shape\":\"spline\",\"width\":1.0},\"mode\":\"lines\",\"x\":[0.20580782343547047,-0.200161935582182,null],\"y\":[-0.16223764687423267,-0.0967134099410691,null],\"type\":\"scatter\"},{\"line\":{\"color\":\"mediumaquamarine\",\"shape\":\"spline\",\"width\":1.0},\"mode\":\"lines\",\"x\":[0.2088997705256518,-0.200161935582182,null],\"y\":[-0.14412388966045314,-0.0967134099410691,null],\"type\":\"scatter\"},{\"line\":{\"color\":\"mediumaquamarine\",\"shape\":\"spline\",\"width\":1.0},\"mode\":\"lines\",\"x\":[0.0617338464866835,0.17170561257589248,null],\"y\":[-0.12329102521417169,0.27233158490680537,null],\"type\":\"scatter\"},{\"line\":{\"color\":\"mediumaquamarine\",\"shape\":\"spline\",\"width\":1.0},\"mode\":\"lines\",\"x\":[0.0617338464866835,-0.17213142030285225,null],\"y\":[-0.12329102521417169,0.21418588235435865,null],\"type\":\"scatter\"},{\"line\":{\"color\":\"mediumaquamarine\",\"shape\":\"spline\",\"width\":1.0},\"mode\":\"lines\",\"x\":[0.0617338464866835,-0.2183437035549335,null],\"y\":[-0.12329102521417169,-0.4234825603814944,null],\"type\":\"scatter\"},{\"line\":{\"color\":\"mediumaquamarine\",\"shape\":\"spline\",\"width\":1.0},\"mode\":\"lines\",\"x\":[0.0617338464866835,0.0617338464866835,null],\"y\":[-0.12329102521417169,-0.12329102521417169,null],\"type\":\"scatter\"},{\"line\":{\"color\":\"mediumaquamarine\",\"shape\":\"spline\",\"width\":1.0},\"mode\":\"lines\",\"x\":[0.0617338464866835,0.47180668363345907,null],\"y\":[-0.12329102521417169,-0.1018705165419691,null],\"type\":\"scatter\"},{\"line\":{\"color\":\"mediumaquamarine\",\"shape\":\"spline\",\"width\":1.0},\"mode\":\"lines\",\"x\":[-0.5778881979515358,-1.0,null],\"y\":[0.08196544330714987,0.05881624853666161,null],\"type\":\"scatter\"},{\"line\":{\"color\":\"mediumaquamarine\",\"shape\":\"spline\",\"width\":1.0},\"mode\":\"lines\",\"x\":[-0.5778881979515358,-0.5778881979515358,null],\"y\":[0.08196544330714987,0.08196544330714987,null],\"type\":\"scatter\"},{\"line\":{\"color\":\"mediumaquamarine\",\"shape\":\"spline\",\"width\":1.0},\"mode\":\"lines\",\"x\":[0.20823424736133037,-0.200161935582182,null],\"y\":[-0.14843675747453622,-0.0967134099410691,null],\"type\":\"scatter\"},{\"line\":{\"color\":\"mediumaquamarine\",\"shape\":\"spline\",\"width\":1.0},\"mode\":\"lines\",\"x\":[0.20522487834108755,-0.200161935582182,null],\"y\":[-0.16557862074912752,-0.0967134099410691,null],\"type\":\"scatter\"},{\"hovertemplate\":[\"202001Chris Murphy\",\"202001Chris Van Hollen\",\"202001Bill Clinton\",\"202001Darrell Issa\",\"202001David Plouffe\",\"202001Mick Mulvaney\",\"202001Joe Scarborough\",\"202001Ed Markey\",\"202001Jennifer Horn\",\"202001Jeff Merkley\",\"202001Toni Atkins\",\"202001David Jolly\",\"202001John Dean\",\"202001Mazie Hirono\",\"202001Nury Martinez\",\"202001Nancy Pelosi\",\"202001Jennifer Palmieri\",\"202001Trey Gowdy\",\"202001Steve Bartlett\",\"202001Steve Scalise\",\"202001Pramila Jayapal\",\"202001Mark Pocan\",\"202001Richard Blumenthal\",\"202001Paul Gosar\",\"202001Rudy Giuliani\",\"202001Rick Perry\",\"202001Zoe Lofgren\"],\"marker\":{\"color\":[\"blue\",\"blue\",\"blue\",\"blue\",\"blue\",\"blue\",\"blue\",\"blue\",\"blue\",\"blue\",\"blue\",\"blue\",\"blue\",\"red\",\"red\",\"red\",\"red\",\"red\",\"red\",\"red\",\"red\",\"red\",\"red\",\"red\",\"red\",\"red\",\"red\"],\"line\":{\"color\":[\"blue\",\"blue\",\"blue\",\"blue\",\"blue\",\"blue\",\"blue\",\"blue\",\"blue\",\"blue\",\"blue\",\"blue\",\"blue\",\"red\",\"red\",\"red\",\"red\",\"red\",\"red\",\"red\",\"red\",\"red\",\"red\",\"red\",\"red\",\"red\",\"red\"],\"width\":2},\"size\":15},\"mode\":\"markers\",\"x\":[0.4201351639696622,0.32215712056554696,0.34015685819077396,0.20265265079415853,0.2018935874533882,0.17170561257589248,-0.23306525341995016,-0.200161935582182,-0.03378812295016482,-0.17213142030285225,-0.23294403792209087,-0.28056944759960195,-0.463450609781581,-0.4159795594281268,0.205119352799749,-0.19150112132268363,-1.0,0.5945596944866242,0.20580782343547047,-0.2183437035549335,0.2088997705256518,0.0617338464866835,0.1997361191962242,-0.5778881979515358,0.20823424736133037,0.20522487834108755,0.47180668363345907],\"y\":[0.0010301855287867083,0.14853740007011065,0.09401661480229888,-0.17764868685999663,-0.18111574164294217,0.27233158490680537,0.31151184950558364,-0.0967134099410691,0.35314815537662775,0.21418588235435865,0.31144598554227476,0.37050530261903564,0.0029216295330042217,0.04793765951446853,-0.1659067370886455,0.21828054209133022,0.05881624853666161,-0.30443604663400076,-0.16223764687423267,-0.4234825603814944,-0.14412388966045314,-0.12329102521417169,-0.2917928446258578,0.08196544330714987,-0.14843675747453622,-0.16557862074912752,-0.1018705165419691],\"type\":\"scatter\"}],                        {\"height\":1000,\"hovermode\":\"closest\",\"margin\":{\"t\":100},\"paper_bgcolor\":\"rgba(255,255,255,255)\",\"plot_bgcolor\":\"rgba(0,0,0,0)\",\"scene\":{\"xaxis\":{\"showbackground\":false,\"showgrid\":false,\"showline\":false,\"showticklabels\":false,\"title\":{\"text\":\"\"},\"visible\":false,\"zeroline\":false},\"yaxis\":{\"showbackground\":false,\"showgrid\":false,\"showline\":false,\"showticklabels\":false,\"title\":{\"text\":\"\"},\"visible\":false,\"zeroline\":false}},\"showlegend\":false,\"sliders\":[{\"active\":1,\"currentvalue\":{\"prefix\":\"Year: \"},\"pad\":{\"t\":10},\"steps\":[{\"args\":[{\"visible\":[true,true,true,true,true,true,true,true,true,true,true,true,true,true,true,true,true,true,true,true,true,true,true,true,true,true,true,true,true,true,true,true,true,true,true,true,true,true,true,true,true,true,true,true,true,true,true,true,true,true,true,true,true,true,true,true,true,true,true,true,true,true,true,true,true,true,true,true,true,true,true,true,true,true,true,true,true,true,true,true,true,true,true,true,true,true,true,true,true,true,true,true,true,true,true,true,true,true,true,true,true,true,true,true,true,true,true,true,true,true,true,true,true,true,true,true,true,true,true,true,true,true,true,true,true,false,false,false,false,false,false,false,false,false,false,false,false,false,false,false,false,false,false,false,false,false,false,false,false,false,false,false,false,false,false,false,false,false,false,false,false,false,false,false,false,false,false,false,false,false,false,false,false,false,false,false,false,false,false,false,false,false,false,false,false,false,false,false,false,false,false,false,false,false,false,false,false,false,false,false,false,false,false,false,false,false,false,false,false,false,false,false,false,false,false,false,false,false,false,false,false,false,false,false,false,false,false,false,false,false,false,false,false,false,false,false,false,false,false,false,false,false,false,false,false,false,false,false,false,false,false,false,false,false,false,false,false,false,false,false,false,false,false,false,false,false,false,false,false,false,false,false,false,false,false,false,false,false,false,false,false,false,false,false,false,false,false,false,false,false,false,false,false,false,false,false,false,false,false,false,false,false,false,false,false,false,false,false,false,false,false,false,false,false,false,false,false,false,false,false,false,false,false,false,false,false,false,false,false,false,false,false,false,false,false,false,false,false,false,false,false,false,false,false,false,false,false,false,false,false,false,false,false,false,false,false,false,false,false,false,false,false,false,false,false,false,false]},{\"title\":\"titleYear: 202001\"}],\"label\":\"202001\",\"method\":\"update\"},{\"args\":[{\"visible\":[false,false,false,false,false,false,false,false,false,false,false,false,false,false,false,false,false,false,false,false,false,false,false,false,false,false,false,false,false,false,false,false,false,false,false,false,false,false,false,false,false,false,false,false,false,false,false,false,false,false,false,false,false,false,false,false,false,false,false,false,false,false,false,false,false,false,false,false,false,false,false,false,false,false,false,false,false,false,false,false,false,false,false,false,false,false,false,false,false,false,false,false,false,false,false,false,false,false,false,false,false,false,false,false,false,false,false,false,false,false,false,false,false,false,false,false,false,false,false,false,false,false,false,false,false,true,true,true,true,true,true,true,true,true,true,true,true,true,true,true,true,true,true,true,true,true,true,true,true,true,true,true,true,true,true,true,true,true,true,true,true,true,true,true,true,true,true,true,true,true,true,true,true,true,true,true,true,true,true,true,true,true,true,true,true,true,true,true,true,true,true,true,true,true,true,true,true,true,true,true,true,true,true,true,true,true,true,true,true,true,true,true,true,true,true,true,true,true,true,true,true,true,true,true,true,true,true,true,true,true,true,true,true,true,true,true,true,true,true,true,true,true,true,true,true,true,true,true,true,true,true,true,true,true,true,true,true,true,true,true,true,true,true,true,false,false,false,false,false,false,false,false,false,false,false,false,false,false,false,false,false,false,false,false,false,false,false,false,false,false,false,false,false,false,false,false,false,false,false,false,false,false,false,false,false,false,false,false,false,false,false,false,false,false,false,false,false,false,false,false,false,false,false,false,false,false,false,false,false,false,false,false,false,false,false,false,false,false,false,false,false,false,false,false,false,false,false,false,false,false,false,false,false,false,false,false,false,false,false,false,false,false,false,false,false,false,false]},{\"title\":\"titleYear: 202002\"}],\"label\":\"202002\",\"method\":\"update\"},{\"args\":[{\"visible\":[false,false,false,false,false,false,false,false,false,false,false,false,false,false,false,false,false,false,false,false,false,false,false,false,false,false,false,false,false,false,false,false,false,false,false,false,false,false,false,false,false,false,false,false,false,false,false,false,false,false,false,false,false,false,false,false,false,false,false,false,false,false,false,false,false,false,false,false,false,false,false,false,false,false,false,false,false,false,false,false,false,false,false,false,false,false,false,false,false,false,false,false,false,false,false,false,false,false,false,false,false,false,false,false,false,false,false,false,false,false,false,false,false,false,false,false,false,false,false,false,false,false,false,false,false,false,false,false,false,false,false,false,false,false,false,false,false,false,false,false,false,false,false,false,false,false,false,false,false,false,false,false,false,false,false,false,false,false,false,false,false,false,false,false,false,false,false,false,false,false,false,false,false,false,false,false,false,false,false,false,false,false,false,false,false,false,false,false,false,false,false,false,false,false,false,false,false,false,false,false,false,false,false,false,false,false,false,false,false,false,false,false,false,false,false,false,false,false,false,false,false,false,false,false,false,false,false,false,false,false,false,false,false,false,false,false,false,false,false,false,false,false,false,false,false,false,false,false,false,false,false,false,false,false,false,false,false,false,false,false,false,false,false,false,true,true,true,true,true,true,true,true,true,true,true,true,true,true,true,true,true,true,true,true,true,true,true,true,true,true,true,true,true,true,true,true,true,true,true,true,true,true,true,true,true,true,true,true,true,true,true,true,true,true,true,true,true,true,true,true,true,true,true,true,true,true,true,true,true,true,true,true,true,true,true,true,true,true,true,false,false,false,false,false,false,false,false,false,false,false,false,false,false,false,false,false,false,false,false,false,false,false,false,false,false,false,false]},{\"title\":\"titleYear: 202003\"}],\"label\":\"202003\",\"method\":\"update\"},{\"args\":[{\"visible\":[false,false,false,false,false,false,false,false,false,false,false,false,false,false,false,false,false,false,false,false,false,false,false,false,false,false,false,false,false,false,false,false,false,false,false,false,false,false,false,false,false,false,false,false,false,false,false,false,false,false,false,false,false,false,false,false,false,false,false,false,false,false,false,false,false,false,false,false,false,false,false,false,false,false,false,false,false,false,false,false,false,false,false,false,false,false,false,false,false,false,false,false,false,false,false,false,false,false,false,false,false,false,false,false,false,false,false,false,false,false,false,false,false,false,false,false,false,false,false,false,false,false,false,false,false,false,false,false,false,false,false,false,false,false,false,false,false,false,false,false,false,false,false,false,false,false,false,false,false,false,false,false,false,false,false,false,false,false,false,false,false,false,false,false,false,false,false,false,false,false,false,false,false,false,false,false,false,false,false,false,false,false,false,false,false,false,false,false,false,false,false,false,false,false,false,false,false,false,false,false,false,false,false,false,false,false,false,false,false,false,false,false,false,false,false,false,false,false,false,false,false,false,false,false,false,false,false,false,false,false,false,false,false,false,false,false,false,false,false,false,false,false,false,false,false,false,false,false,false,false,false,false,false,false,false,false,false,false,false,false,false,false,false,false,false,false,false,false,false,false,false,false,false,false,false,false,false,false,false,false,false,false,false,false,false,false,false,false,false,false,false,false,false,false,false,false,false,false,false,false,false,false,false,false,false,false,false,false,false,false,false,false,false,false,false,false,false,false,false,false,false,false,false,false,false,false,false,false,false,false,false,false,false,false,false,false,false,false,false,true,true,true,true,true,true,true,true,true,true,true,true,true,true,true,true,true,true,true,true,true,true,true,true,true,true,true,true]},{\"title\":\"titleYear: 202004\"}],\"label\":\"202004\",\"method\":\"update\"}]}],\"template\":{\"data\":{\"barpolar\":[{\"marker\":{\"line\":{\"color\":\"#E5ECF6\",\"width\":0.5},\"pattern\":{\"fillmode\":\"overlay\",\"size\":10,\"solidity\":0.2}},\"type\":\"barpolar\"}],\"bar\":[{\"error_x\":{\"color\":\"#2a3f5f\"},\"error_y\":{\"color\":\"#2a3f5f\"},\"marker\":{\"line\":{\"color\":\"#E5ECF6\",\"width\":0.5},\"pattern\":{\"fillmode\":\"overlay\",\"size\":10,\"solidity\":0.2}},\"type\":\"bar\"}],\"carpet\":[{\"aaxis\":{\"endlinecolor\":\"#2a3f5f\",\"gridcolor\":\"white\",\"linecolor\":\"white\",\"minorgridcolor\":\"white\",\"startlinecolor\":\"#2a3f5f\"},\"baxis\":{\"endlinecolor\":\"#2a3f5f\",\"gridcolor\":\"white\",\"linecolor\":\"white\",\"minorgridcolor\":\"white\",\"startlinecolor\":\"#2a3f5f\"},\"type\":\"carpet\"}],\"choropleth\":[{\"colorbar\":{\"outlinewidth\":0,\"ticks\":\"\"},\"type\":\"choropleth\"}],\"contourcarpet\":[{\"colorbar\":{\"outlinewidth\":0,\"ticks\":\"\"},\"type\":\"contourcarpet\"}],\"contour\":[{\"colorbar\":{\"outlinewidth\":0,\"ticks\":\"\"},\"colorscale\":[[0.0,\"#0d0887\"],[0.1111111111111111,\"#46039f\"],[0.2222222222222222,\"#7201a8\"],[0.3333333333333333,\"#9c179e\"],[0.4444444444444444,\"#bd3786\"],[0.5555555555555556,\"#d8576b\"],[0.6666666666666666,\"#ed7953\"],[0.7777777777777778,\"#fb9f3a\"],[0.8888888888888888,\"#fdca26\"],[1.0,\"#f0f921\"]],\"type\":\"contour\"}],\"heatmapgl\":[{\"colorbar\":{\"outlinewidth\":0,\"ticks\":\"\"},\"colorscale\":[[0.0,\"#0d0887\"],[0.1111111111111111,\"#46039f\"],[0.2222222222222222,\"#7201a8\"],[0.3333333333333333,\"#9c179e\"],[0.4444444444444444,\"#bd3786\"],[0.5555555555555556,\"#d8576b\"],[0.6666666666666666,\"#ed7953\"],[0.7777777777777778,\"#fb9f3a\"],[0.8888888888888888,\"#fdca26\"],[1.0,\"#f0f921\"]],\"type\":\"heatmapgl\"}],\"heatmap\":[{\"colorbar\":{\"outlinewidth\":0,\"ticks\":\"\"},\"colorscale\":[[0.0,\"#0d0887\"],[0.1111111111111111,\"#46039f\"],[0.2222222222222222,\"#7201a8\"],[0.3333333333333333,\"#9c179e\"],[0.4444444444444444,\"#bd3786\"],[0.5555555555555556,\"#d8576b\"],[0.6666666666666666,\"#ed7953\"],[0.7777777777777778,\"#fb9f3a\"],[0.8888888888888888,\"#fdca26\"],[1.0,\"#f0f921\"]],\"type\":\"heatmap\"}],\"histogram2dcontour\":[{\"colorbar\":{\"outlinewidth\":0,\"ticks\":\"\"},\"colorscale\":[[0.0,\"#0d0887\"],[0.1111111111111111,\"#46039f\"],[0.2222222222222222,\"#7201a8\"],[0.3333333333333333,\"#9c179e\"],[0.4444444444444444,\"#bd3786\"],[0.5555555555555556,\"#d8576b\"],[0.6666666666666666,\"#ed7953\"],[0.7777777777777778,\"#fb9f3a\"],[0.8888888888888888,\"#fdca26\"],[1.0,\"#f0f921\"]],\"type\":\"histogram2dcontour\"}],\"histogram2d\":[{\"colorbar\":{\"outlinewidth\":0,\"ticks\":\"\"},\"colorscale\":[[0.0,\"#0d0887\"],[0.1111111111111111,\"#46039f\"],[0.2222222222222222,\"#7201a8\"],[0.3333333333333333,\"#9c179e\"],[0.4444444444444444,\"#bd3786\"],[0.5555555555555556,\"#d8576b\"],[0.6666666666666666,\"#ed7953\"],[0.7777777777777778,\"#fb9f3a\"],[0.8888888888888888,\"#fdca26\"],[1.0,\"#f0f921\"]],\"type\":\"histogram2d\"}],\"histogram\":[{\"marker\":{\"pattern\":{\"fillmode\":\"overlay\",\"size\":10,\"solidity\":0.2}},\"type\":\"histogram\"}],\"mesh3d\":[{\"colorbar\":{\"outlinewidth\":0,\"ticks\":\"\"},\"type\":\"mesh3d\"}],\"parcoords\":[{\"line\":{\"colorbar\":{\"outlinewidth\":0,\"ticks\":\"\"}},\"type\":\"parcoords\"}],\"pie\":[{\"automargin\":true,\"type\":\"pie\"}],\"scatter3d\":[{\"line\":{\"colorbar\":{\"outlinewidth\":0,\"ticks\":\"\"}},\"marker\":{\"colorbar\":{\"outlinewidth\":0,\"ticks\":\"\"}},\"type\":\"scatter3d\"}],\"scattercarpet\":[{\"marker\":{\"colorbar\":{\"outlinewidth\":0,\"ticks\":\"\"}},\"type\":\"scattercarpet\"}],\"scattergeo\":[{\"marker\":{\"colorbar\":{\"outlinewidth\":0,\"ticks\":\"\"}},\"type\":\"scattergeo\"}],\"scattergl\":[{\"marker\":{\"colorbar\":{\"outlinewidth\":0,\"ticks\":\"\"}},\"type\":\"scattergl\"}],\"scattermapbox\":[{\"marker\":{\"colorbar\":{\"outlinewidth\":0,\"ticks\":\"\"}},\"type\":\"scattermapbox\"}],\"scatterpolargl\":[{\"marker\":{\"colorbar\":{\"outlinewidth\":0,\"ticks\":\"\"}},\"type\":\"scatterpolargl\"}],\"scatterpolar\":[{\"marker\":{\"colorbar\":{\"outlinewidth\":0,\"ticks\":\"\"}},\"type\":\"scatterpolar\"}],\"scatter\":[{\"marker\":{\"colorbar\":{\"outlinewidth\":0,\"ticks\":\"\"}},\"type\":\"scatter\"}],\"scatterternary\":[{\"marker\":{\"colorbar\":{\"outlinewidth\":0,\"ticks\":\"\"}},\"type\":\"scatterternary\"}],\"surface\":[{\"colorbar\":{\"outlinewidth\":0,\"ticks\":\"\"},\"colorscale\":[[0.0,\"#0d0887\"],[0.1111111111111111,\"#46039f\"],[0.2222222222222222,\"#7201a8\"],[0.3333333333333333,\"#9c179e\"],[0.4444444444444444,\"#bd3786\"],[0.5555555555555556,\"#d8576b\"],[0.6666666666666666,\"#ed7953\"],[0.7777777777777778,\"#fb9f3a\"],[0.8888888888888888,\"#fdca26\"],[1.0,\"#f0f921\"]],\"type\":\"surface\"}],\"table\":[{\"cells\":{\"fill\":{\"color\":\"#EBF0F8\"},\"line\":{\"color\":\"white\"}},\"header\":{\"fill\":{\"color\":\"#C8D4E3\"},\"line\":{\"color\":\"white\"}},\"type\":\"table\"}]},\"layout\":{\"annotationdefaults\":{\"arrowcolor\":\"#2a3f5f\",\"arrowhead\":0,\"arrowwidth\":1},\"autotypenumbers\":\"strict\",\"coloraxis\":{\"colorbar\":{\"outlinewidth\":0,\"ticks\":\"\"}},\"colorscale\":{\"diverging\":[[0,\"#8e0152\"],[0.1,\"#c51b7d\"],[0.2,\"#de77ae\"],[0.3,\"#f1b6da\"],[0.4,\"#fde0ef\"],[0.5,\"#f7f7f7\"],[0.6,\"#e6f5d0\"],[0.7,\"#b8e186\"],[0.8,\"#7fbc41\"],[0.9,\"#4d9221\"],[1,\"#276419\"]],\"sequential\":[[0.0,\"#0d0887\"],[0.1111111111111111,\"#46039f\"],[0.2222222222222222,\"#7201a8\"],[0.3333333333333333,\"#9c179e\"],[0.4444444444444444,\"#bd3786\"],[0.5555555555555556,\"#d8576b\"],[0.6666666666666666,\"#ed7953\"],[0.7777777777777778,\"#fb9f3a\"],[0.8888888888888888,\"#fdca26\"],[1.0,\"#f0f921\"]],\"sequentialminus\":[[0.0,\"#0d0887\"],[0.1111111111111111,\"#46039f\"],[0.2222222222222222,\"#7201a8\"],[0.3333333333333333,\"#9c179e\"],[0.4444444444444444,\"#bd3786\"],[0.5555555555555556,\"#d8576b\"],[0.6666666666666666,\"#ed7953\"],[0.7777777777777778,\"#fb9f3a\"],[0.8888888888888888,\"#fdca26\"],[1.0,\"#f0f921\"]]},\"colorway\":[\"#636efa\",\"#EF553B\",\"#00cc96\",\"#ab63fa\",\"#FFA15A\",\"#19d3f3\",\"#FF6692\",\"#B6E880\",\"#FF97FF\",\"#FECB52\"],\"font\":{\"color\":\"#2a3f5f\"},\"geo\":{\"bgcolor\":\"white\",\"lakecolor\":\"white\",\"landcolor\":\"#E5ECF6\",\"showlakes\":true,\"showland\":true,\"subunitcolor\":\"white\"},\"hoverlabel\":{\"align\":\"left\"},\"hovermode\":\"closest\",\"mapbox\":{\"style\":\"light\"},\"paper_bgcolor\":\"white\",\"plot_bgcolor\":\"#E5ECF6\",\"polar\":{\"angularaxis\":{\"gridcolor\":\"white\",\"linecolor\":\"white\",\"ticks\":\"\"},\"bgcolor\":\"#E5ECF6\",\"radialaxis\":{\"gridcolor\":\"white\",\"linecolor\":\"white\",\"ticks\":\"\"}},\"scene\":{\"xaxis\":{\"backgroundcolor\":\"#E5ECF6\",\"gridcolor\":\"white\",\"gridwidth\":2,\"linecolor\":\"white\",\"showbackground\":true,\"ticks\":\"\",\"zerolinecolor\":\"white\"},\"yaxis\":{\"backgroundcolor\":\"#E5ECF6\",\"gridcolor\":\"white\",\"gridwidth\":2,\"linecolor\":\"white\",\"showbackground\":true,\"ticks\":\"\",\"zerolinecolor\":\"white\"},\"zaxis\":{\"backgroundcolor\":\"#E5ECF6\",\"gridcolor\":\"white\",\"gridwidth\":2,\"linecolor\":\"white\",\"showbackground\":true,\"ticks\":\"\",\"zerolinecolor\":\"white\"}},\"shapedefaults\":{\"line\":{\"color\":\"#2a3f5f\"}},\"ternary\":{\"aaxis\":{\"gridcolor\":\"white\",\"linecolor\":\"white\",\"ticks\":\"\"},\"baxis\":{\"gridcolor\":\"white\",\"linecolor\":\"white\",\"ticks\":\"\"},\"bgcolor\":\"#E5ECF6\",\"caxis\":{\"gridcolor\":\"white\",\"linecolor\":\"white\",\"ticks\":\"\"}},\"title\":{\"x\":0.05},\"xaxis\":{\"automargin\":true,\"gridcolor\":\"white\",\"linecolor\":\"white\",\"ticks\":\"\",\"title\":{\"standoff\":15},\"zerolinecolor\":\"white\",\"zerolinewidth\":2},\"yaxis\":{\"automargin\":true,\"gridcolor\":\"white\",\"linecolor\":\"white\",\"ticks\":\"\",\"title\":{\"standoff\":15},\"zerolinecolor\":\"white\",\"zerolinewidth\":2}}},\"width\":1000,\"xaxis\":{\"visible\":false},\"yaxis\":{\"visible\":false}},                        {\"responsive\": true}                    ).then(function(){\n",
       "                            \n",
       "var gd = document.getElementById('65f0c6fe-f701-41e2-b361-4d49e120911b');\n",
       "var x = new MutationObserver(function (mutations, observer) {{\n",
       "        var display = window.getComputedStyle(gd).display;\n",
       "        if (!display || display === 'none') {{\n",
       "            console.log([gd, 'removed!']);\n",
       "            Plotly.purge(gd);\n",
       "            observer.disconnect();\n",
       "        }}\n",
       "}});\n",
       "\n",
       "// Listen for the removal of the full notebook cells\n",
       "var notebookContainer = gd.closest('#notebook-container');\n",
       "if (notebookContainer) {{\n",
       "    x.observe(notebookContainer, {childList: true});\n",
       "}}\n",
       "\n",
       "// Listen for the clearing of the current output cell\n",
       "var outputEl = gd.closest('.output');\n",
       "if (outputEl) {{\n",
       "    x.observe(outputEl, {childList: true});\n",
       "}}\n",
       "\n",
       "                        })                };                });            </script>        </div>"
      ]
     },
     "metadata": {},
     "output_type": "display_data"
    }
   ],
   "source": [
    "print(len(g_all.nodes))\n",
    "print(len(g_all.edges))\n",
    "print(len(labels))\n",
    "plotly_graph_slider(g,L,labels,colormap,mention_y) "
   ]
  },
  {
   "cell_type": "code",
   "execution_count": 84,
   "metadata": {
    "scrolled": false
   },
   "outputs": [
    {
     "name": "stdout",
     "output_type": "stream",
     "text": [
      "301\n",
      "363\n",
      "301\n"
     ]
    },
    {
     "data": {
      "application/vnd.plotly.v1+json": {
       "config": {
        "linkText": "Export to plot.ly",
        "plotlyServerURL": "https://plot.ly",
        "showLink": false
       },
       "data": [
        {
         "line": {
          "color": "mediumaquamarine",
          "shape": "spline",
          "width": 1
         },
         "mode": "lines",
         "type": "scatter",
         "x": [
          -0.17364932648352036,
          -0.08695325354031205,
          null
         ],
         "y": [
          -0.2767263333001506,
          -0.07538670862631718,
          null
         ]
        },
        {
         "line": {
          "color": "mediumaquamarine",
          "shape": "spline",
          "width": 1
         },
         "mode": "lines",
         "type": "scatter",
         "x": [
          -0.17364932648352036,
          -0.2818948559021931,
          null
         ],
         "y": [
          -0.2767263333001506,
          -0.44252985106381776,
          null
         ]
        },
        {
         "line": {
          "color": "mediumaquamarine",
          "shape": "spline",
          "width": 1
         },
         "mode": "lines",
         "type": "scatter",
         "x": [
          0.033467161326702126,
          -0.08695325354031205,
          null
         ],
         "y": [
          0.06449212834159318,
          -0.07538670862631718,
          null
         ]
        },
        {
         "line": {
          "color": "mediumaquamarine",
          "shape": "spline",
          "width": 1
         },
         "mode": "lines",
         "type": "scatter",
         "x": [
          -0.3770998630329571,
          -0.2818948559021931,
          null
         ],
         "y": [
          -0.624724212734978,
          -0.44252985106381776,
          null
         ]
        },
        {
         "line": {
          "color": "mediumaquamarine",
          "shape": "spline",
          "width": 1
         },
         "mode": "lines",
         "type": "scatter",
         "x": [
          -0.15571577551053056,
          -0.103690670683909,
          null
         ],
         "y": [
          -0.29587001331636964,
          -0.12239757411585482,
          null
         ]
        },
        {
         "line": {
          "color": "mediumaquamarine",
          "shape": "spline",
          "width": 1
         },
         "mode": "lines",
         "type": "scatter",
         "x": [
          -0.15571577551053056,
          -0.08695325354031205,
          null
         ],
         "y": [
          -0.29587001331636964,
          -0.07538670862631718,
          null
         ]
        },
        {
         "line": {
          "color": "mediumaquamarine",
          "shape": "spline",
          "width": 1
         },
         "mode": "lines",
         "type": "scatter",
         "x": [
          -0.15571577551053056,
          -0.18946871443934,
          null
         ],
         "y": [
          -0.29587001331636964,
          -0.5665909422906474,
          null
         ]
        },
        {
         "line": {
          "color": "mediumaquamarine",
          "shape": "spline",
          "width": 1
         },
         "mode": "lines",
         "type": "scatter",
         "x": [
          -0.15571577551053056,
          0.010200206625450512,
          null
         ],
         "y": [
          -0.29587001331636964,
          -0.36902132611790534,
          null
         ]
        },
        {
         "line": {
          "color": "mediumaquamarine",
          "shape": "spline",
          "width": 1
         },
         "mode": "lines",
         "type": "scatter",
         "x": [
          0.03346915404554261,
          -0.08695325354031205,
          null
         ],
         "y": [
          0.06448337620787767,
          -0.07538670862631718,
          null
         ]
        },
        {
         "line": {
          "color": "mediumaquamarine",
          "shape": "spline",
          "width": 1
         },
         "mode": "lines",
         "type": "scatter",
         "x": [
          0.033467490834916784,
          -0.08695325354031205,
          null
         ],
         "y": [
          0.06448434699555912,
          -0.07538670862631718,
          null
         ]
        },
        {
         "line": {
          "color": "mediumaquamarine",
          "shape": "spline",
          "width": 1
         },
         "mode": "lines",
         "type": "scatter",
         "x": [
          0.033465555730693944,
          -0.08695325354031205,
          null
         ],
         "y": [
          0.06448476335414165,
          -0.07538670862631718,
          null
         ]
        },
        {
         "line": {
          "color": "mediumaquamarine",
          "shape": "spline",
          "width": 1
         },
         "mode": "lines",
         "type": "scatter",
         "x": [
          0.033463203180876304,
          -0.08695325354031205,
          null
         ],
         "y": [
          0.0644839229640926,
          -0.07538670862631718,
          null
         ]
        },
        {
         "line": {
          "color": "mediumaquamarine",
          "shape": "spline",
          "width": 1
         },
         "mode": "lines",
         "type": "scatter",
         "x": [
          0.3331171598668633,
          0.2549414379063806,
          null
         ],
         "y": [
          0.875030989568806,
          0.6779795783515205,
          null
         ]
        },
        {
         "line": {
          "color": "mediumaquamarine",
          "shape": "spline",
          "width": 1
         },
         "mode": "lines",
         "type": "scatter",
         "x": [
          0.36875984550802837,
          0.3068269255642774,
          null
         ],
         "y": [
          0.999856748237832,
          0.8261687727764895,
          null
         ]
        },
        {
         "line": {
          "color": "mediumaquamarine",
          "shape": "spline",
          "width": 1
         },
         "mode": "lines",
         "type": "scatter",
         "x": [
          0.03352033174963888,
          -0.08695325354031205,
          null
         ],
         "y": [
          0.06436751456904949,
          -0.07538670862631718,
          null
         ]
        },
        {
         "line": {
          "color": "mediumaquamarine",
          "shape": "spline",
          "width": 1
         },
         "mode": "lines",
         "type": "scatter",
         "x": [
          0.03352033174963888,
          0.1023557026285066,
          null
         ],
         "y": [
          0.06436751456904949,
          -0.10331629042455082,
          null
         ]
        },
        {
         "line": {
          "color": "mediumaquamarine",
          "shape": "spline",
          "width": 1.189207115002721
         },
         "mode": "lines",
         "type": "scatter",
         "x": [
          0.3068269255642774,
          0.08961586028085518,
          null
         ],
         "y": [
          0.8261687727764895,
          0.4593806278494334,
          null
         ]
        },
        {
         "line": {
          "color": "mediumaquamarine",
          "shape": "spline",
          "width": 1.4953487812212205
         },
         "mode": "lines",
         "type": "scatter",
         "x": [
          0.3068269255642774,
          -0.08695325354031205,
          null
         ],
         "y": [
          0.8261687727764895,
          -0.07538670862631718,
          null
         ]
        },
        {
         "line": {
          "color": "mediumaquamarine",
          "shape": "spline",
          "width": 1
         },
         "mode": "lines",
         "type": "scatter",
         "x": [
          0.3068269255642774,
          0.3256173196143792,
          null
         ],
         "y": [
          0.8261687727764895,
          0.6439974157491533,
          null
         ]
        },
        {
         "line": {
          "color": "mediumaquamarine",
          "shape": "spline",
          "width": 1
         },
         "mode": "lines",
         "type": "scatter",
         "x": [
          0.033458254211490006,
          -0.08695325354031205,
          null
         ],
         "y": [
          0.06447804985493119,
          -0.07538670862631718,
          null
         ]
        },
        {
         "line": {
          "color": "mediumaquamarine",
          "shape": "spline",
          "width": 1
         },
         "mode": "lines",
         "type": "scatter",
         "x": [
          0.03345637405487002,
          -0.08695325354031205,
          null
         ],
         "y": [
          0.06447704840534138,
          -0.07538670862631718,
          null
         ]
        },
        {
         "line": {
          "color": "mediumaquamarine",
          "shape": "spline",
          "width": 1
         },
         "mode": "lines",
         "type": "scatter",
         "x": [
          0.03345564540698469,
          -0.08695325354031205,
          null
         ],
         "y": [
          0.0644751378019206,
          -0.07538670862631718,
          null
         ]
        },
        {
         "line": {
          "color": "mediumaquamarine",
          "shape": "spline",
          "width": 1
         },
         "mode": "lines",
         "type": "scatter",
         "x": [
          0.1341016343612161,
          -0.08695325354031205,
          null
         ],
         "y": [
          -0.05863572536234008,
          -0.07538670862631718,
          null
         ]
        },
        {
         "line": {
          "color": "mediumaquamarine",
          "shape": "spline",
          "width": 1
         },
         "mode": "lines",
         "type": "scatter",
         "x": [
          0.1341016343612161,
          0.4871525780373211,
          null
         ],
         "y": [
          -0.05863572536234008,
          -0.2428845705345533,
          null
         ]
        },
        {
         "line": {
          "color": "mediumaquamarine",
          "shape": "spline",
          "width": 1
         },
         "mode": "lines",
         "type": "scatter",
         "x": [
          0.018107939947814324,
          -0.06354263809013164,
          null
         ],
         "y": [
          0.09227770481349064,
          -0.06947569924820994,
          null
         ]
        },
        {
         "line": {
          "color": "mediumaquamarine",
          "shape": "spline",
          "width": 1
         },
         "mode": "lines",
         "type": "scatter",
         "x": [
          0.0334551428424923,
          -0.08695325354031205,
          null
         ],
         "y": [
          0.06446938829155141,
          -0.07538670862631718,
          null
         ]
        },
        {
         "line": {
          "color": "mediumaquamarine",
          "shape": "spline",
          "width": 1
         },
         "mode": "lines",
         "type": "scatter",
         "x": [
          -0.37726127246990726,
          -0.2818948559021931,
          null
         ],
         "y": [
          -0.6246858014524563,
          -0.44252985106381776,
          null
         ]
        },
        {
         "line": {
          "color": "mediumaquamarine",
          "shape": "spline",
          "width": 1
         },
         "mode": "lines",
         "type": "scatter",
         "x": [
          0.3538382386703728,
          0.4871525780373211,
          null
         ],
         "y": [
          -0.3655088340608702,
          -0.2428845705345533,
          null
         ]
        },
        {
         "line": {
          "color": "mediumaquamarine",
          "shape": "spline",
          "width": 1
         },
         "mode": "lines",
         "type": "scatter",
         "x": [
          0.004457929013975924,
          0.004457929013975924,
          null
         ],
         "y": [
          0.3543629794468247,
          0.3543629794468247,
          null
         ]
        },
        {
         "line": {
          "color": "mediumaquamarine",
          "shape": "spline",
          "width": 1
         },
         "mode": "lines",
         "type": "scatter",
         "x": [
          0.033459873280336686,
          -0.08695325354031205,
          null
         ],
         "y": [
          0.06447423553044625,
          -0.07538670862631718,
          null
         ]
        },
        {
         "line": {
          "color": "mediumaquamarine",
          "shape": "spline",
          "width": 1
         },
         "mode": "lines",
         "type": "scatter",
         "x": [
          0.03345815815746938,
          -0.08695325354031205,
          null
         ],
         "y": [
          0.06447241443462702,
          -0.07538670862631718,
          null
         ]
        },
        {
         "line": {
          "color": "mediumaquamarine",
          "shape": "spline",
          "width": 1
         },
         "mode": "lines",
         "type": "scatter",
         "x": [
          0.04087204039474477,
          -0.08695325354031205,
          null
         ],
         "y": [
          0.00449252476760167,
          -0.07538670862631718,
          null
         ]
        },
        {
         "line": {
          "color": "mediumaquamarine",
          "shape": "spline",
          "width": 1.189207115002721
         },
         "mode": "lines",
         "type": "scatter",
         "x": [
          0.04087204039474477,
          0.16370511734668963,
          null
         ],
         "y": [
          0.00449252476760167,
          0.27916871134945387,
          null
         ]
        },
        {
         "line": {
          "color": "mediumaquamarine",
          "shape": "spline",
          "width": 1.3160740129524924
         },
         "mode": "lines",
         "type": "scatter",
         "x": [
          0.04087204039474477,
          -0.2818948559021931,
          null
         ],
         "y": [
          0.00449252476760167,
          -0.44252985106381776,
          null
         ]
        },
        {
         "line": {
          "color": "mediumaquamarine",
          "shape": "spline",
          "width": 1.189207115002721
         },
         "mode": "lines",
         "type": "scatter",
         "x": [
          0.09162971017790357,
          -0.08695325354031205,
          null
         ],
         "y": [
          0.32533549818106977,
          -0.07538670862631718,
          null
         ]
        },
        {
         "line": {
          "color": "mediumaquamarine",
          "shape": "spline",
          "width": 1
         },
         "mode": "lines",
         "type": "scatter",
         "x": [
          0.23209061048953614,
          0.14567109515693427,
          null
         ],
         "y": [
          0.4468296732068744,
          0.27880404581876694,
          null
         ]
        },
        {
         "line": {
          "color": "mediumaquamarine",
          "shape": "spline",
          "width": 1
         },
         "mode": "lines",
         "type": "scatter",
         "x": [
          -0.08695325354031205,
          -0.3209471836321768,
          null
         ],
         "y": [
          -0.07538670862631718,
          0.03605194482999433,
          null
         ]
        },
        {
         "line": {
          "color": "mediumaquamarine",
          "shape": "spline",
          "width": 1.5650845800732873
         },
         "mode": "lines",
         "type": "scatter",
         "x": [
          -0.08695325354031205,
          -0.08695325354031205,
          null
         ],
         "y": [
          -0.07538670862631718,
          -0.07538670862631718,
          null
         ]
        },
        {
         "line": {
          "color": "mediumaquamarine",
          "shape": "spline",
          "width": 1
         },
         "mode": "lines",
         "type": "scatter",
         "x": [
          -0.08695325354031205,
          -0.3211017409554589,
          null
         ],
         "y": [
          -0.07538670862631718,
          0.03604832650622977,
          null
         ]
        },
        {
         "line": {
          "color": "mediumaquamarine",
          "shape": "spline",
          "width": 1
         },
         "mode": "lines",
         "type": "scatter",
         "x": [
          -0.08695325354031205,
          -0.29344633482240606,
          null
         ],
         "y": [
          -0.07538670862631718,
          -0.03596952649559593,
          null
         ]
        },
        {
         "line": {
          "color": "mediumaquamarine",
          "shape": "spline",
          "width": 1
         },
         "mode": "lines",
         "type": "scatter",
         "x": [
          -0.08695325354031205,
          -0.32112472704950157,
          null
         ],
         "y": [
          -0.07538670862631718,
          0.03604456306387024,
          null
         ]
        },
        {
         "line": {
          "color": "mediumaquamarine",
          "shape": "spline",
          "width": 1
         },
         "mode": "lines",
         "type": "scatter",
         "x": [
          -0.08695325354031205,
          -0.312891539237089,
          null
         ],
         "y": [
          -0.07538670862631718,
          0.0016430166051115294,
          null
         ]
        },
        {
         "line": {
          "color": "mediumaquamarine",
          "shape": "spline",
          "width": 1
         },
         "mode": "lines",
         "type": "scatter",
         "x": [
          -0.08695325354031205,
          -0.30609588649372244,
          null
         ],
         "y": [
          -0.07538670862631718,
          0.1625503325657921,
          null
         ]
        },
        {
         "line": {
          "color": "mediumaquamarine",
          "shape": "spline",
          "width": 1.189207115002721
         },
         "mode": "lines",
         "type": "scatter",
         "x": [
          -0.08695325354031205,
          -0.2818948559021931,
          null
         ],
         "y": [
          -0.07538670862631718,
          -0.44252985106381776,
          null
         ]
        },
        {
         "line": {
          "color": "mediumaquamarine",
          "shape": "spline",
          "width": 1
         },
         "mode": "lines",
         "type": "scatter",
         "x": [
          -0.08695325354031205,
          0.1561536923959958,
          null
         ],
         "y": [
          -0.07538670862631718,
          -0.27718055756721105,
          null
         ]
        },
        {
         "line": {
          "color": "mediumaquamarine",
          "shape": "spline",
          "width": 1.3160740129524924
         },
         "mode": "lines",
         "type": "scatter",
         "x": [
          -0.08695325354031205,
          0.4871525780373211,
          null
         ],
         "y": [
          -0.07538670862631718,
          -0.2428845705345533,
          null
         ]
        },
        {
         "line": {
          "color": "mediumaquamarine",
          "shape": "spline",
          "width": 1
         },
         "mode": "lines",
         "type": "scatter",
         "x": [
          -0.08695325354031205,
          0.15616467218367705,
          null
         ],
         "y": [
          -0.07538670862631718,
          -0.27719791603359706,
          null
         ]
        },
        {
         "line": {
          "color": "mediumaquamarine",
          "shape": "spline",
          "width": 1.3160740129524924
         },
         "mode": "lines",
         "type": "scatter",
         "x": [
          0.4860281295043436,
          -0.08695325354031205,
          null
         ],
         "y": [
          -0.03476823783240991,
          -0.07538670862631718,
          null
         ]
        },
        {
         "line": {
          "color": "mediumaquamarine",
          "shape": "spline",
          "width": 1
         },
         "mode": "lines",
         "type": "scatter",
         "x": [
          0.4860281295043436,
          0.4871525780373211,
          null
         ],
         "y": [
          -0.03476823783240991,
          -0.2428845705345533,
          null
         ]
        },
        {
         "line": {
          "color": "mediumaquamarine",
          "shape": "spline",
          "width": 1
         },
         "mode": "lines",
         "type": "scatter",
         "x": [
          0.033475025507192065,
          -0.08695325354031205,
          null
         ],
         "y": [
          0.0644962849106824,
          -0.07538670862631718,
          null
         ]
        },
        {
         "line": {
          "color": "mediumaquamarine",
          "shape": "spline",
          "width": 1
         },
         "mode": "lines",
         "type": "scatter",
         "x": [
          0.033474106420075714,
          -0.08695325354031205,
          null
         ],
         "y": [
          0.06449589984832602,
          -0.07538670862631718,
          null
         ]
        },
        {
         "line": {
          "color": "mediumaquamarine",
          "shape": "spline",
          "width": 1
         },
         "mode": "lines",
         "type": "scatter",
         "x": [
          0.03347325292127317,
          -0.08695325354031205,
          null
         ],
         "y": [
          0.0644959379736717,
          -0.07538670862631718,
          null
         ]
        },
        {
         "line": {
          "color": "mediumaquamarine",
          "shape": "spline",
          "width": 1
         },
         "mode": "lines",
         "type": "scatter",
         "x": [
          0.03347359444011551,
          -0.08695325354031205,
          null
         ],
         "y": [
          0.06448390322437116,
          -0.07538670862631718,
          null
         ]
        },
        {
         "line": {
          "color": "mediumaquamarine",
          "shape": "spline",
          "width": 1
         },
         "mode": "lines",
         "type": "scatter",
         "x": [
          0.03347416117099885,
          -0.08695325354031205,
          null
         ],
         "y": [
          0.06448357277044404,
          -0.07538670862631718,
          null
         ]
        },
        {
         "line": {
          "color": "mediumaquamarine",
          "shape": "spline",
          "width": 1
         },
         "mode": "lines",
         "type": "scatter",
         "x": [
          0.17562943646688942,
          0.08961586028085518,
          null
         ],
         "y": [
          0.2056200197659469,
          0.4593806278494334,
          null
         ]
        },
        {
         "line": {
          "color": "mediumaquamarine",
          "shape": "spline",
          "width": 1
         },
         "mode": "lines",
         "type": "scatter",
         "x": [
          0.17562943646688942,
          0.13960957067392432,
          null
         ],
         "y": [
          0.2056200197659469,
          -0.027660191158153536,
          null
         ]
        },
        {
         "line": {
          "color": "mediumaquamarine",
          "shape": "spline",
          "width": 1
         },
         "mode": "lines",
         "type": "scatter",
         "x": [
          0.2549414379063806,
          0.08961586028085518,
          null
         ],
         "y": [
          0.6779795783515205,
          0.4593806278494334,
          null
         ]
        },
        {
         "line": {
          "color": "mediumaquamarine",
          "shape": "spline",
          "width": 1.189207115002721
         },
         "mode": "lines",
         "type": "scatter",
         "x": [
          0.2549414379063806,
          0.004457929013975924,
          null
         ],
         "y": [
          0.6779795783515205,
          0.3543629794468247,
          null
         ]
        },
        {
         "line": {
          "color": "mediumaquamarine",
          "shape": "spline",
          "width": 1.6265765616977856
         },
         "mode": "lines",
         "type": "scatter",
         "x": [
          0.2549414379063806,
          -0.08695325354031205,
          null
         ],
         "y": [
          0.6779795783515205,
          -0.07538670862631718,
          null
         ]
        },
        {
         "line": {
          "color": "mediumaquamarine",
          "shape": "spline",
          "width": 1.189207115002721
         },
         "mode": "lines",
         "type": "scatter",
         "x": [
          0.16370511734668963,
          0.08961586028085518,
          null
         ],
         "y": [
          0.27916871134945387,
          0.4593806278494334,
          null
         ]
        },
        {
         "line": {
          "color": "mediumaquamarine",
          "shape": "spline",
          "width": 1
         },
         "mode": "lines",
         "type": "scatter",
         "x": [
          0.16370511734668963,
          0.004457929013975924,
          null
         ],
         "y": [
          0.27916871134945387,
          0.3543629794468247,
          null
         ]
        },
        {
         "line": {
          "color": "mediumaquamarine",
          "shape": "spline",
          "width": 1.3160740129524924
         },
         "mode": "lines",
         "type": "scatter",
         "x": [
          0.16370511734668963,
          -0.08695325354031205,
          null
         ],
         "y": [
          0.27916871134945387,
          -0.07538670862631718,
          null
         ]
        },
        {
         "line": {
          "color": "mediumaquamarine",
          "shape": "spline",
          "width": 1
         },
         "mode": "lines",
         "type": "scatter",
         "x": [
          0.34239108842616267,
          0.4871525780373211,
          null
         ],
         "y": [
          -0.35186457877064076,
          -0.2428845705345533,
          null
         ]
        },
        {
         "line": {
          "color": "mediumaquamarine",
          "shape": "spline",
          "width": 1
         },
         "mode": "lines",
         "type": "scatter",
         "x": [
          0.0334656636056993,
          -0.08695325354031205,
          null
         ],
         "y": [
          0.06447809777141349,
          -0.07538670862631718,
          null
         ]
        },
        {
         "line": {
          "color": "mediumaquamarine",
          "shape": "spline",
          "width": 1
         },
         "mode": "lines",
         "type": "scatter",
         "x": [
          -0.42741493815951587,
          -0.29344633482240606,
          null
         ],
         "y": [
          -0.3169496766345623,
          -0.03596952649559593,
          null
         ]
        },
        {
         "line": {
          "color": "mediumaquamarine",
          "shape": "spline",
          "width": 1
         },
         "mode": "lines",
         "type": "scatter",
         "x": [
          -0.42741493815951587,
          -0.2818948559021931,
          null
         ],
         "y": [
          -0.3169496766345623,
          -0.44252985106381776,
          null
         ]
        },
        {
         "line": {
          "color": "mediumaquamarine",
          "shape": "spline",
          "width": 1
         },
         "mode": "lines",
         "type": "scatter",
         "x": [
          -0.18946871443934,
          -0.2818948559021931,
          null
         ],
         "y": [
          -0.5665909422906474,
          -0.44252985106381776,
          null
         ]
        },
        {
         "line": {
          "color": "mediumaquamarine",
          "shape": "spline",
          "width": 1.681792830507429
         },
         "mode": "lines",
         "type": "scatter",
         "x": [
          -0.38683336102777477,
          -0.08695325354031205,
          null
         ],
         "y": [
          -0.6295172656394739,
          -0.07538670862631718,
          null
         ]
        },
        {
         "line": {
          "color": "mediumaquamarine",
          "shape": "spline",
          "width": 1
         },
         "mode": "lines",
         "type": "scatter",
         "x": [
          -0.38683336102777477,
          -0.2818948559021931,
          null
         ],
         "y": [
          -0.6295172656394739,
          -0.44252985106381776,
          null
         ]
        },
        {
         "line": {
          "color": "mediumaquamarine",
          "shape": "spline",
          "width": 1
         },
         "mode": "lines",
         "type": "scatter",
         "x": [
          0.36822852273088647,
          0.3068269255642774,
          null
         ],
         "y": [
          1,
          0.8261687727764895,
          null
         ]
        },
        {
         "line": {
          "color": "mediumaquamarine",
          "shape": "spline",
          "width": 1.189207115002721
         },
         "mode": "lines",
         "type": "scatter",
         "x": [
          0.008716139011864993,
          -0.29344633482240606,
          null
         ],
         "y": [
          -0.23666621721740924,
          -0.03596952649559593,
          null
         ]
        },
        {
         "line": {
          "color": "mediumaquamarine",
          "shape": "spline",
          "width": 1
         },
         "mode": "lines",
         "type": "scatter",
         "x": [
          0.008716139011864993,
          0.008716139011864993,
          null
         ],
         "y": [
          -0.23666621721740924,
          -0.23666621721740924,
          null
         ]
        },
        {
         "line": {
          "color": "mediumaquamarine",
          "shape": "spline",
          "width": 1
         },
         "mode": "lines",
         "type": "scatter",
         "x": [
          0.03347138902025385,
          -0.08695325354031205,
          null
         ],
         "y": [
          0.06448280370218086,
          -0.07538670862631718,
          null
         ]
        },
        {
         "line": {
          "color": "mediumaquamarine",
          "shape": "spline",
          "width": 1.3160740129524924
         },
         "mode": "lines",
         "type": "scatter",
         "x": [
          0.3346138397925635,
          -0.08695325354031205,
          null
         ],
         "y": [
          0.48815398785834274,
          -0.07538670862631718,
          null
         ]
        },
        {
         "line": {
          "color": "mediumaquamarine",
          "shape": "spline",
          "width": 1
         },
         "mode": "lines",
         "type": "scatter",
         "x": [
          0.3346138397925635,
          0.2549414379063806,
          null
         ],
         "y": [
          0.48815398785834274,
          0.6779795783515205,
          null
         ]
        },
        {
         "line": {
          "color": "mediumaquamarine",
          "shape": "spline",
          "width": 1.3160740129524924
         },
         "mode": "lines",
         "type": "scatter",
         "x": [
          -0.312891539237089,
          -0.08695325354031205,
          null
         ],
         "y": [
          0.0016430166051115294,
          -0.07538670862631718,
          null
         ]
        },
        {
         "line": {
          "color": "mediumaquamarine",
          "shape": "spline",
          "width": 1
         },
         "mode": "lines",
         "type": "scatter",
         "x": [
          -0.312891539237089,
          -0.312891539237089,
          null
         ],
         "y": [
          0.0016430166051115294,
          0.0016430166051115294,
          null
         ]
        },
        {
         "line": {
          "color": "mediumaquamarine",
          "shape": "spline",
          "width": 1
         },
         "mode": "lines",
         "type": "scatter",
         "x": [
          -0.20286231274089161,
          -0.10643692445499014,
          null
         ],
         "y": [
          -0.020278251268973393,
          -0.17365888735898655,
          null
         ]
        },
        {
         "line": {
          "color": "mediumaquamarine",
          "shape": "spline",
          "width": 1
         },
         "mode": "lines",
         "type": "scatter",
         "x": [
          -0.1315755655182324,
          -0.20302497250194784,
          null
         ],
         "y": [
          -0.15480135158774191,
          0.01168773772602277,
          null
         ]
        },
        {
         "line": {
          "color": "mediumaquamarine",
          "shape": "spline",
          "width": 1
         },
         "mode": "lines",
         "type": "scatter",
         "x": [
          -0.3772310513142015,
          -0.2818948559021931,
          null
         ],
         "y": [
          -0.6247697794490703,
          -0.44252985106381776,
          null
         ]
        },
        {
         "line": {
          "color": "mediumaquamarine",
          "shape": "spline",
          "width": 1
         },
         "mode": "lines",
         "type": "scatter",
         "x": [
          0.018800648856448984,
          0.004457929013975924,
          null
         ],
         "y": [
          0.11550523247121236,
          0.3543629794468247,
          null
         ]
        },
        {
         "line": {
          "color": "mediumaquamarine",
          "shape": "spline",
          "width": 1
         },
         "mode": "lines",
         "type": "scatter",
         "x": [
          0.018800648856448984,
          -0.08695325354031205,
          null
         ],
         "y": [
          0.11550523247121236,
          -0.07538670862631718,
          null
         ]
        },
        {
         "line": {
          "color": "mediumaquamarine",
          "shape": "spline",
          "width": 1
         },
         "mode": "lines",
         "type": "scatter",
         "x": [
          -0.05483177345159118,
          0.06018029049510069,
          null
         ],
         "y": [
          -0.07214049622678836,
          0.06787272007615523,
          null
         ]
        },
        {
         "line": {
          "color": "mediumaquamarine",
          "shape": "spline",
          "width": 1
         },
         "mode": "lines",
         "type": "scatter",
         "x": [
          0.03347043256927663,
          -0.08695325354031205,
          null
         ],
         "y": [
          0.06448884453259544,
          -0.07538670862631718,
          null
         ]
        },
        {
         "line": {
          "color": "mediumaquamarine",
          "shape": "spline",
          "width": 1
         },
         "mode": "lines",
         "type": "scatter",
         "x": [
          -0.16089493712799743,
          -0.12898504773171734,
          null
         ],
         "y": [
          -0.20722251811597334,
          -0.004665163142965947,
          null
         ]
        },
        {
         "line": {
          "color": "mediumaquamarine",
          "shape": "spline",
          "width": 1
         },
         "mode": "lines",
         "type": "scatter",
         "x": [
          -0.16089493712799743,
          -0.08695325354031205,
          null
         ],
         "y": [
          -0.20722251811597334,
          -0.07538670862631718,
          null
         ]
        },
        {
         "line": {
          "color": "mediumaquamarine",
          "shape": "spline",
          "width": 1
         },
         "mode": "lines",
         "type": "scatter",
         "x": [
          -0.16089493712799743,
          -0.29344633482240606,
          null
         ],
         "y": [
          -0.20722251811597334,
          -0.03596952649559593,
          null
         ]
        },
        {
         "line": {
          "color": "mediumaquamarine",
          "shape": "spline",
          "width": 1
         },
         "mode": "lines",
         "type": "scatter",
         "x": [
          0.033470883267033916,
          -0.08695325354031205,
          null
         ],
         "y": [
          0.06448726187614828,
          -0.07538670862631718,
          null
         ]
        },
        {
         "line": {
          "color": "mediumaquamarine",
          "shape": "spline",
          "width": 1
         },
         "mode": "lines",
         "type": "scatter",
         "x": [
          0.03347040176847653,
          -0.08695325354031205,
          null
         ],
         "y": [
          0.0644869889734642,
          -0.07538670862631718,
          null
         ]
        },
        {
         "line": {
          "color": "mediumaquamarine",
          "shape": "spline",
          "width": 1.3160740129524924
         },
         "mode": "lines",
         "type": "scatter",
         "x": [
          -0.30609588649372244,
          -0.08695325354031205,
          null
         ],
         "y": [
          0.1625503325657921,
          -0.07538670862631718,
          null
         ]
        },
        {
         "line": {
          "color": "mediumaquamarine",
          "shape": "spline",
          "width": 1
         },
         "mode": "lines",
         "type": "scatter",
         "x": [
          0.03346561779690954,
          -0.08695325354031205,
          null
         ],
         "y": [
          0.0644891185434794,
          -0.07538670862631718,
          null
         ]
        },
        {
         "line": {
          "color": "mediumaquamarine",
          "shape": "spline",
          "width": 1.189207115002721
         },
         "mode": "lines",
         "type": "scatter",
         "x": [
          -0.2818948559021931,
          -0.08695325354031205,
          null
         ],
         "y": [
          -0.44252985106381776,
          -0.07538670862631718,
          null
         ]
        },
        {
         "line": {
          "color": "mediumaquamarine",
          "shape": "spline",
          "width": 1.4142135623730951
         },
         "mode": "lines",
         "type": "scatter",
         "x": [
          -0.2818948559021931,
          -0.2818948559021931,
          null
         ],
         "y": [
          -0.44252985106381776,
          -0.44252985106381776,
          null
         ]
        },
        {
         "line": {
          "color": "mediumaquamarine",
          "shape": "spline",
          "width": 1
         },
         "mode": "lines",
         "type": "scatter",
         "x": [
          0.13960957067392432,
          -0.08695325354031205,
          null
         ],
         "y": [
          -0.027660191158153536,
          -0.07538670862631718,
          null
         ]
        },
        {
         "line": {
          "color": "mediumaquamarine",
          "shape": "spline",
          "width": 1
         },
         "mode": "lines",
         "type": "scatter",
         "x": [
          0.13960957067392432,
          0.4871525780373211,
          null
         ],
         "y": [
          -0.027660191158153536,
          -0.2428845705345533,
          null
         ]
        },
        {
         "line": {
          "color": "mediumaquamarine",
          "shape": "spline",
          "width": 1
         },
         "mode": "lines",
         "type": "scatter",
         "x": [
          0.03346547623657346,
          -0.08695325354031205,
          null
         ],
         "y": [
          0.0644907682973989,
          -0.07538670862631718,
          null
         ]
        },
        {
         "line": {
          "color": "mediumaquamarine",
          "shape": "spline",
          "width": 1
         },
         "mode": "lines",
         "type": "scatter",
         "x": [
          0.012564160111342189,
          -0.15052093739173425,
          null
         ],
         "y": [
          -0.18202714172265996,
          -0.10309786469926445,
          null
         ]
        },
        {
         "line": {
          "color": "mediumaquamarine",
          "shape": "spline",
          "width": 1
         },
         "mode": "lines",
         "type": "scatter",
         "x": [
          0.05032495292228812,
          0.15616485289907567,
          null
         ],
         "y": [
          -0.14756334226425505,
          -0.000505235181103751,
          null
         ]
        },
        {
         "line": {
          "color": "mediumaquamarine",
          "shape": "spline",
          "width": 1
         },
         "mode": "lines",
         "type": "scatter",
         "x": [
          -0.4807206343071841,
          -0.38683336102777477,
          null
         ],
         "y": [
          -0.7920958712021924,
          -0.6295172656394739,
          null
         ]
        },
        {
         "line": {
          "color": "mediumaquamarine",
          "shape": "spline",
          "width": 1
         },
         "mode": "lines",
         "type": "scatter",
         "x": [
          -0.17364815157004085,
          -0.08695325354031205,
          null
         ],
         "y": [
          -0.2767292020047346,
          -0.07538670862631718,
          null
         ]
        },
        {
         "line": {
          "color": "mediumaquamarine",
          "shape": "spline",
          "width": 1
         },
         "mode": "lines",
         "type": "scatter",
         "x": [
          -0.17364815157004085,
          -0.2818948559021931,
          null
         ],
         "y": [
          -0.2767292020047346,
          -0.44252985106381776,
          null
         ]
        },
        {
         "line": {
          "color": "mediumaquamarine",
          "shape": "spline",
          "width": 1
         },
         "mode": "lines",
         "type": "scatter",
         "x": [
          -0.3769989176941771,
          -0.2818948559021931,
          null
         ],
         "y": [
          -0.6247515469597049,
          -0.44252985106381776,
          null
         ]
        },
        {
         "line": {
          "color": "mediumaquamarine",
          "shape": "spline",
          "width": 1
         },
         "mode": "lines",
         "type": "scatter",
         "x": [
          0.18565954934956175,
          0.06759711426636152,
          null
         ],
         "y": [
          0.19401074415010133,
          0.056650279561980564,
          null
         ]
        },
        {
         "line": {
          "color": "mediumaquamarine",
          "shape": "spline",
          "width": 1
         },
         "mode": "lines",
         "type": "scatter",
         "x": [
          0.18565954934956175,
          0.09162971017790357,
          null
         ],
         "y": [
          0.19401074415010133,
          0.32533549818106977,
          null
         ]
        },
        {
         "line": {
          "color": "mediumaquamarine",
          "shape": "spline",
          "width": 1
         },
         "mode": "lines",
         "type": "scatter",
         "x": [
          0.18565954934956175,
          0.03690757311912295,
          null
         ],
         "y": [
          0.19401074415010133,
          0.07014768085097099,
          null
         ]
        },
        {
         "line": {
          "color": "mediumaquamarine",
          "shape": "spline",
          "width": 1
         },
         "mode": "lines",
         "type": "scatter",
         "x": [
          -0.09636740175474885,
          0.08961586028085518,
          null
         ],
         "y": [
          0.19764995116699322,
          0.4593806278494334,
          null
         ]
        },
        {
         "line": {
          "color": "mediumaquamarine",
          "shape": "spline",
          "width": 1
         },
         "mode": "lines",
         "type": "scatter",
         "x": [
          -0.09636740175474885,
          -0.12898504773171734,
          null
         ],
         "y": [
          0.19764995116699322,
          -0.004665163142965947,
          null
         ]
        },
        {
         "line": {
          "color": "mediumaquamarine",
          "shape": "spline",
          "width": 1
         },
         "mode": "lines",
         "type": "scatter",
         "x": [
          -0.09636740175474885,
          0.004457929013975924,
          null
         ],
         "y": [
          0.19764995116699322,
          0.3543629794468247,
          null
         ]
        },
        {
         "line": {
          "color": "mediumaquamarine",
          "shape": "spline",
          "width": 1
         },
         "mode": "lines",
         "type": "scatter",
         "x": [
          -0.09636740175474885,
          -0.29344633482240606,
          null
         ],
         "y": [
          0.19764995116699322,
          -0.03596952649559593,
          null
         ]
        },
        {
         "line": {
          "color": "mediumaquamarine",
          "shape": "spline",
          "width": 1
         },
         "mode": "lines",
         "type": "scatter",
         "x": [
          0.0334517847351091,
          -0.08695325354031205,
          null
         ],
         "y": [
          0.06449792624677915,
          -0.07538670862631718,
          null
         ]
        },
        {
         "line": {
          "color": "mediumaquamarine",
          "shape": "spline",
          "width": 1
         },
         "mode": "lines",
         "type": "scatter",
         "x": [
          0.033450784964510386,
          -0.08695325354031205,
          null
         ],
         "y": [
          0.06449836690673241,
          -0.07538670862631718,
          null
         ]
        },
        {
         "line": {
          "color": "mediumaquamarine",
          "shape": "spline",
          "width": 1
         },
         "mode": "lines",
         "type": "scatter",
         "x": [
          0.09834909967759214,
          0.19947454026062006,
          null
         ],
         "y": [
          -0.17506449651540207,
          -0.024738405272299095,
          null
         ]
        },
        {
         "line": {
          "color": "mediumaquamarine",
          "shape": "spline",
          "width": 1
         },
         "mode": "lines",
         "type": "scatter",
         "x": [
          0.14927949178667752,
          0.14927949178667752,
          null
         ],
         "y": [
          -0.10706650115314445,
          -0.10706650115314445,
          null
         ]
        },
        {
         "line": {
          "color": "mediumaquamarine",
          "shape": "spline",
          "width": 1
         },
         "mode": "lines",
         "type": "scatter",
         "x": [
          0.033450000452415946,
          -0.08695325354031205,
          null
         ],
         "y": [
          0.06449592349369405,
          -0.07538670862631718,
          null
         ]
        },
        {
         "line": {
          "color": "mediumaquamarine",
          "shape": "spline",
          "width": 1
         },
         "mode": "lines",
         "type": "scatter",
         "x": [
          0.033450694300734184,
          -0.08695325354031205,
          null
         ],
         "y": [
          0.0645004694202384,
          -0.07538670862631718,
          null
         ]
        },
        {
         "line": {
          "color": "mediumaquamarine",
          "shape": "spline",
          "width": 1.189207115002721
         },
         "mode": "lines",
         "type": "scatter",
         "x": [
          0.14567109515693427,
          -0.08695325354031205,
          null
         ],
         "y": [
          0.27880404581876694,
          -0.07538670862631718,
          null
         ]
        },
        {
         "line": {
          "color": "mediumaquamarine",
          "shape": "spline",
          "width": 1
         },
         "mode": "lines",
         "type": "scatter",
         "x": [
          -0.48074316568471503,
          -0.38683336102777477,
          null
         ],
         "y": [
          -0.7921228533666063,
          -0.6295172656394739,
          null
         ]
        },
        {
         "line": {
          "color": "mediumaquamarine",
          "shape": "spline",
          "width": 1
         },
         "mode": "lines",
         "type": "scatter",
         "x": [
          -0.08855825793806439,
          -0.29344633482240606,
          null
         ],
         "y": [
          0.14765145518705597,
          -0.03596952649559593,
          null
         ]
        },
        {
         "line": {
          "color": "mediumaquamarine",
          "shape": "spline",
          "width": 1
         },
         "mode": "lines",
         "type": "scatter",
         "x": [
          -0.08855825793806439,
          0.16370511734668963,
          null
         ],
         "y": [
          0.14765145518705597,
          0.27916871134945387,
          null
         ]
        },
        {
         "line": {
          "color": "mediumaquamarine",
          "shape": "spline",
          "width": 1
         },
         "mode": "lines",
         "type": "scatter",
         "x": [
          -0.08855825793806439,
          -0.312891539237089,
          null
         ],
         "y": [
          0.14765145518705597,
          0.0016430166051115294,
          null
         ]
        },
        {
         "line": {
          "color": "mediumaquamarine",
          "shape": "spline",
          "width": 1
         },
         "mode": "lines",
         "type": "scatter",
         "x": [
          0.03346110415273372,
          -0.08695325354031205,
          null
         ],
         "y": [
          0.06449625406540806,
          -0.07538670862631718,
          null
         ]
        },
        {
         "line": {
          "color": "mediumaquamarine",
          "shape": "spline",
          "width": 1
         },
         "mode": "lines",
         "type": "scatter",
         "x": [
          0.03349024132105787,
          -0.08695325354031205,
          null
         ],
         "y": [
          0.06441946945177784,
          -0.07538670862631718,
          null
         ]
        },
        {
         "line": {
          "color": "mediumaquamarine",
          "shape": "spline",
          "width": 1
         },
         "mode": "lines",
         "type": "scatter",
         "x": [
          0.03349024132105787,
          0.04263245671847832,
          null
         ],
         "y": [
          0.06441946945177784,
          -0.1165565237730921,
          null
         ]
        },
        {
         "line": {
          "color": "mediumaquamarine",
          "shape": "spline",
          "width": 1
         },
         "mode": "lines",
         "type": "scatter",
         "x": [
          0.03690757311912295,
          -0.08695325354031205,
          null
         ],
         "y": [
          0.07014768085097099,
          -0.07538670862631718,
          null
         ]
        },
        {
         "hovertemplate": [
          "202001Chris Murphy",
          "202001Chris Van Hollen",
          "202001Bill Clinton",
          "202001Darrell Issa",
          "202001David Plouffe",
          "202001Mick Mulvaney",
          "202001Joe Scarborough",
          "202001Ed Markey",
          "202001Jennifer Horn",
          "202001Jeff Merkley",
          "202001Toni Atkins",
          "202001David Jolly",
          "202001John Dean",
          "202001Mazie Hirono",
          "202001Nury Martinez",
          "202001Nancy Pelosi",
          "202001Jennifer Palmieri",
          "202001Trey Gowdy",
          "202001Steve Bartlett",
          "202001Steve Scalise",
          "202001Pramila Jayapal",
          "202001Mark Pocan",
          "202001Richard Blumenthal",
          "202001Paul Gosar",
          "202001Rudy Giuliani",
          "202001Rick Perry",
          "202001Zoe Lofgren",
          "202001Jackie Speier",
          "202001Lindsey Graham",
          "202001Kirsten Gillibrand",
          "202001Amy Klobuchar",
          "202001Claire McCaskill",
          "202001Olympia Snowe",
          "202001Donald Trump",
          "202001Mike Pence",
          "202001Jeanne Shaheen",
          "202001Jon Ossoff",
          "202001Tammy Duckworth",
          "202001Karl Rove",
          "202001John R. Bolton",
          "202001Marianne Williamson",
          "202001Marco Rubio",
          "202001Tulsi Gabbard",
          "202001Rex Tillerson",
          "202001Adam Schiff",
          "202001Mitch McConnell",
          "202001Chuck Schumer",
          "202001Ann McLane Kuster",
          "202001Mark Randall Meadows",
          "202001Kevin Cramer",
          "202001Lamar Alexander",
          "202001Elizabeth Warren",
          "202001Rick Scott",
          "202001Mitt Romney",
          "202001Carolyn Maloney",
          "202001Gavin Newsom",
          "202001Rand Paul",
          "202001Mike Pompeo",
          "202001Marie Newman",
          "202001Carl DeMaio",
          "202001Chris Pappas",
          "202001Dan Lipinski",
          "202001Duncan L. Hunter",
          "202001Jack Reed",
          "202001Pat Roberts",
          "202001Luz Rivas",
          "202001Alexandria Ocasio-Cortez",
          "202001Michael Bennet",
          "202001Hakeem Jeffries",
          "202001Elaine Luria",
          "202001Patrick Leahy",
          "202001Michael Bloomberg",
          "202001Jeff Van Drew",
          "202001John Rood",
          "202001Joe Biden",
          "202001Hillary Clinton",
          "202001Kellyanne Conway",
          "202001Chris Christie",
          "202001Kevin Faulconer",
          "202001Kevin McCarthy",
          "202001Krystal Ball",
          "202001Martha Fuller Clark",
          "202001Pam Bondi",
          "202001Pete Buttigieg",
          "202001John Cornyn",
          "202001William Barr",
          "202001Rashida Tlaib",
          "202001Ro Khanna",
          "202001Ryan Winkler",
          "202001Barack Obama",
          "202001Kevin McCarthy",
          "202001Tate Reeves",
          "202001Ted Lieu",
          "202001Scott Tipton",
          "202001Val Demings",
          "202001Warren Limmer",
          "202001Peter Shumlin",
          "202001Chris Coons",
          "202001Raúl Grijalva",
          "202001Patrick J. Kennedy",
          "202001Julián Castro"
         ],
         "marker": {
          "color": [
           "blue",
           "blue",
           "blue",
           "blue",
           "blue",
           "blue",
           "blue",
           "blue",
           "blue",
           "blue",
           "blue",
           "blue",
           "blue",
           "blue",
           "blue",
           "blue",
           "blue",
           "blue",
           "blue",
           "blue",
           "blue",
           "blue",
           "blue",
           "blue",
           "blue",
           "blue",
           "blue",
           "blue",
           "blue",
           "blue",
           "blue",
           "blue",
           "blue",
           "blue",
           "blue",
           "blue",
           "blue",
           "blue",
           "blue",
           "blue",
           "blue",
           "blue",
           "blue",
           "blue",
           "blue",
           "blue",
           "blue",
           "blue",
           "blue",
           "blue",
           "red",
           "red",
           "red",
           "red",
           "red",
           "red",
           "red",
           "red",
           "red",
           "red",
           "red",
           "red",
           "red",
           "red",
           "red",
           "red",
           "red",
           "red",
           "red",
           "red",
           "red",
           "red",
           "red",
           "red",
           "red",
           "red",
           "red",
           "red",
           "red",
           "red",
           "red",
           "red",
           "red",
           "red",
           "red",
           "red",
           "red",
           "red",
           "red",
           "red",
           "red",
           "red",
           "red",
           "red",
           "red",
           "red",
           "red",
           "red",
           "red",
           "red",
           "red"
          ],
          "line": {
           "color": [
            "blue",
            "blue",
            "blue",
            "blue",
            "blue",
            "blue",
            "blue",
            "blue",
            "blue",
            "blue",
            "blue",
            "blue",
            "blue",
            "blue",
            "blue",
            "blue",
            "blue",
            "blue",
            "blue",
            "blue",
            "blue",
            "blue",
            "blue",
            "blue",
            "blue",
            "blue",
            "blue",
            "blue",
            "blue",
            "blue",
            "blue",
            "blue",
            "blue",
            "blue",
            "blue",
            "blue",
            "blue",
            "blue",
            "blue",
            "blue",
            "blue",
            "blue",
            "blue",
            "blue",
            "blue",
            "blue",
            "blue",
            "blue",
            "blue",
            "blue",
            "red",
            "red",
            "red",
            "red",
            "red",
            "red",
            "red",
            "red",
            "red",
            "red",
            "red",
            "red",
            "red",
            "red",
            "red",
            "red",
            "red",
            "red",
            "red",
            "red",
            "red",
            "red",
            "red",
            "red",
            "red",
            "red",
            "red",
            "red",
            "red",
            "red",
            "red",
            "red",
            "red",
            "red",
            "red",
            "red",
            "red",
            "red",
            "red",
            "red",
            "red",
            "red",
            "red",
            "red",
            "red",
            "red",
            "red",
            "red",
            "red",
            "red",
            "red"
           ],
           "width": 2
          },
          "size": 15
         },
         "mode": "markers",
         "type": "scatter",
         "x": [
          -0.17364932648352036,
          0.033467161326702126,
          0.08961586028085518,
          0.15616485289907567,
          -0.3770998630329571,
          -0.12898504773171734,
          -0.15571577551053056,
          0.03346915404554261,
          0.033467490834916784,
          0.033465555730693944,
          0.033463203180876304,
          0.3331171598668633,
          0.36875984550802837,
          0.03352033174963888,
          0.06018029049510069,
          0.3068269255642774,
          0.033458254211490006,
          0.03345637405487002,
          0.03345564540698469,
          0.1341016343612161,
          0.018107939947814324,
          0.0334551428424923,
          -0.37726127246990726,
          0.3538382386703728,
          0.004457929013975924,
          -0.3209471836321768,
          0.033459873280336686,
          0.03345815815746938,
          0.04087204039474477,
          0.06759711426636152,
          0.09162971017790357,
          0.23209061048953614,
          -0.103690670683909,
          -0.08695325354031205,
          0.4860281295043436,
          0.033475025507192065,
          0.033474106420075714,
          0.03347325292127317,
          -0.3211017409554589,
          -0.29344633482240606,
          0.03347359444011551,
          0.03347416117099885,
          0.17562943646688942,
          -0.32112472704950157,
          0.2549414379063806,
          0.3256173196143792,
          0.16370511734668963,
          0.34239108842616267,
          0.0334656636056993,
          -0.42741493815951587,
          -0.18946871443934,
          -0.38683336102777477,
          0.36822852273088647,
          0.008716139011864993,
          0.03347138902025385,
          -0.20302497250194784,
          0.3346138397925635,
          -0.312891539237089,
          -0.20286231274089161,
          -0.1315755655182324,
          -0.15052093739173425,
          -0.10643692445499014,
          -0.3772310513142015,
          0.018800648856448984,
          0.010200206625450512,
          -0.05483177345159118,
          -0.06354263809013164,
          0.03347043256927663,
          -0.16089493712799743,
          0.033470883267033916,
          0.03347040176847653,
          -0.30609588649372244,
          0.04263245671847832,
          0.03346561779690954,
          -0.2818948559021931,
          0.13960957067392432,
          0.03346547623657346,
          0.012564160111342189,
          0.05032495292228812,
          0.1561536923959958,
          -0.4807206343071841,
          -0.17364815157004085,
          -0.3769989176941771,
          0.18565954934956175,
          -0.09636740175474885,
          0.1023557026285066,
          0.0334517847351091,
          0.033450784964510386,
          0.09834909967759214,
          0.4871525780373211,
          0.15616467218367705,
          0.14927949178667752,
          0.033450000452415946,
          0.033450694300734184,
          0.14567109515693427,
          0.19947454026062006,
          -0.48074316568471503,
          -0.08855825793806439,
          0.03346110415273372,
          0.03349024132105787,
          0.03690757311912295
         ],
         "y": [
          -0.2767263333001506,
          0.06449212834159318,
          0.4593806278494334,
          -0.000505235181103751,
          -0.624724212734978,
          -0.004665163142965947,
          -0.29587001331636964,
          0.06448337620787767,
          0.06448434699555912,
          0.06448476335414165,
          0.0644839229640926,
          0.875030989568806,
          0.999856748237832,
          0.06436751456904949,
          0.06787272007615523,
          0.8261687727764895,
          0.06447804985493119,
          0.06447704840534138,
          0.0644751378019206,
          -0.05863572536234008,
          0.09227770481349064,
          0.06446938829155141,
          -0.6246858014524563,
          -0.3655088340608702,
          0.3543629794468247,
          0.03605194482999433,
          0.06447423553044625,
          0.06447241443462702,
          0.00449252476760167,
          0.056650279561980564,
          0.32533549818106977,
          0.4468296732068744,
          -0.12239757411585482,
          -0.07538670862631718,
          -0.03476823783240991,
          0.0644962849106824,
          0.06449589984832602,
          0.0644959379736717,
          0.03604832650622977,
          -0.03596952649559593,
          0.06448390322437116,
          0.06448357277044404,
          0.2056200197659469,
          0.03604456306387024,
          0.6779795783515205,
          0.6439974157491533,
          0.27916871134945387,
          -0.35186457877064076,
          0.06447809777141349,
          -0.3169496766345623,
          -0.5665909422906474,
          -0.6295172656394739,
          1,
          -0.23666621721740924,
          0.06448280370218086,
          0.01168773772602277,
          0.48815398785834274,
          0.0016430166051115294,
          -0.020278251268973393,
          -0.15480135158774191,
          -0.10309786469926445,
          -0.17365888735898655,
          -0.6247697794490703,
          0.11550523247121236,
          -0.36902132611790534,
          -0.07214049622678836,
          -0.06947569924820994,
          0.06448884453259544,
          -0.20722251811597334,
          0.06448726187614828,
          0.0644869889734642,
          0.1625503325657921,
          -0.1165565237730921,
          0.0644891185434794,
          -0.44252985106381776,
          -0.027660191158153536,
          0.0644907682973989,
          -0.18202714172265996,
          -0.14756334226425505,
          -0.27718055756721105,
          -0.7920958712021924,
          -0.2767292020047346,
          -0.6247515469597049,
          0.19401074415010133,
          0.19764995116699322,
          -0.10331629042455082,
          0.06449792624677915,
          0.06449836690673241,
          -0.17506449651540207,
          -0.2428845705345533,
          -0.27719791603359706,
          -0.10706650115314445,
          0.06449592349369405,
          0.0645004694202384,
          0.27880404581876694,
          -0.024738405272299095,
          -0.7921228533666063,
          0.14765145518705597,
          0.06449625406540806,
          0.06441946945177784,
          0.07014768085097099
         ]
        },
        {
         "line": {
          "color": "mediumaquamarine",
          "shape": "spline",
          "width": 1
         },
         "mode": "lines",
         "type": "scatter",
         "x": [
          -0.2538861614724361,
          -0.046990916455814886,
          null
         ],
         "y": [
          0.17220692594315112,
          0.21284037145690396,
          null
         ]
        },
        {
         "line": {
          "color": "mediumaquamarine",
          "shape": "spline",
          "width": 1
         },
         "mode": "lines",
         "type": "scatter",
         "x": [
          -0.2539381898342635,
          -0.046990916455814886,
          null
         ],
         "y": [
          0.17255091880895743,
          0.21284037145690396,
          null
         ]
        },
        {
         "line": {
          "color": "mediumaquamarine",
          "shape": "spline",
          "width": 1
         },
         "mode": "lines",
         "type": "scatter",
         "x": [
          -0.2539381898342635,
          -0.3199196702440453,
          null
         ],
         "y": [
          0.17255091880895743,
          0.36553087546356533,
          null
         ]
        },
        {
         "line": {
          "color": "mediumaquamarine",
          "shape": "spline",
          "width": 1
         },
         "mode": "lines",
         "type": "scatter",
         "x": [
          0.5717946181503243,
          0.2690374449616967,
          null
         ],
         "y": [
          -0.4312742408832208,
          -0.2386533395725597,
          null
         ]
        },
        {
         "line": {
          "color": "mediumaquamarine",
          "shape": "spline",
          "width": 1
         },
         "mode": "lines",
         "type": "scatter",
         "x": [
          -0.2539092570184062,
          -0.046990916455814886,
          null
         ],
         "y": [
          0.17221107383309545,
          0.21284037145690396,
          null
         ]
        },
        {
         "line": {
          "color": "mediumaquamarine",
          "shape": "spline",
          "width": 1
         },
         "mode": "lines",
         "type": "scatter",
         "x": [
          -0.2584506856788922,
          -0.05269437140111136,
          null
         ],
         "y": [
          -0.24396368001567295,
          -0.16141589383709587,
          null
         ]
        },
        {
         "line": {
          "color": "mediumaquamarine",
          "shape": "spline",
          "width": 1
         },
         "mode": "lines",
         "type": "scatter",
         "x": [
          -0.2584506856788922,
          -0.13227150054974252,
          null
         ],
         "y": [
          -0.24396368001567295,
          -0.4061684684530822,
          null
         ]
        },
        {
         "line": {
          "color": "mediumaquamarine",
          "shape": "spline",
          "width": 1
         },
         "mode": "lines",
         "type": "scatter",
         "x": [
          0.15278945242584727,
          -0.046990916455814886,
          null
         ],
         "y": [
          0.13508204051531492,
          0.21284037145690396,
          null
         ]
        },
        {
         "line": {
          "color": "mediumaquamarine",
          "shape": "spline",
          "width": 1
         },
         "mode": "lines",
         "type": "scatter",
         "x": [
          0.15278945242584727,
          0.29094739705890743,
          null
         ],
         "y": [
          0.13508204051531492,
          -0.06815794270007974,
          null
         ]
        },
        {
         "line": {
          "color": "mediumaquamarine",
          "shape": "spline",
          "width": 1
         },
         "mode": "lines",
         "type": "scatter",
         "x": [
          0.5762186531291856,
          0.4846135595614289,
          null
         ],
         "y": [
          0.3713792441072575,
          0.18930843196130914,
          null
         ]
        },
        {
         "line": {
          "color": "mediumaquamarine",
          "shape": "spline",
          "width": 1.189207115002721
         },
         "mode": "lines",
         "type": "scatter",
         "x": [
          0.5762186531291856,
          -0.046990916455814886,
          null
         ],
         "y": [
          0.3713792441072575,
          0.21284037145690396,
          null
         ]
        },
        {
         "line": {
          "color": "mediumaquamarine",
          "shape": "spline",
          "width": 1
         },
         "mode": "lines",
         "type": "scatter",
         "x": [
          0.5762186531291856,
          0.48518973330265514,
          null
         ],
         "y": [
          0.3713792441072575,
          0.18904054538114498,
          null
         ]
        },
        {
         "line": {
          "color": "mediumaquamarine",
          "shape": "spline",
          "width": 1
         },
         "mode": "lines",
         "type": "scatter",
         "x": [
          1,
          0.8265829259162691,
          null
         ],
         "y": [
          -0.7690370611023601,
          -0.6386003475290047,
          null
         ]
        },
        {
         "line": {
          "color": "mediumaquamarine",
          "shape": "spline",
          "width": 1.189207115002721
         },
         "mode": "lines",
         "type": "scatter",
         "x": [
          0.8195344616275223,
          0.2690374449616967,
          null
         ],
         "y": [
          -0.6209115518318161,
          -0.2386533395725597,
          null
         ]
        },
        {
         "line": {
          "color": "mediumaquamarine",
          "shape": "spline",
          "width": 1
         },
         "mode": "lines",
         "type": "scatter",
         "x": [
          0.4372167577837611,
          0.18526365883956505,
          null
         ],
         "y": [
          -0.8272211539236833,
          -0.5846179681822352,
          null
         ]
        },
        {
         "line": {
          "color": "mediumaquamarine",
          "shape": "spline",
          "width": 1
         },
         "mode": "lines",
         "type": "scatter",
         "x": [
          0.4372167577837611,
          0.4826589834327793,
          null
         ],
         "y": [
          -0.8272211539236833,
          -0.6101178512510884,
          null
         ]
        },
        {
         "line": {
          "color": "mediumaquamarine",
          "shape": "spline",
          "width": 1
         },
         "mode": "lines",
         "type": "scatter",
         "x": [
          0.08788227220928034,
          0.29094739705890743,
          null
         ],
         "y": [
          -0.08416431245137139,
          -0.06815794270007974,
          null
         ]
        },
        {
         "line": {
          "color": "mediumaquamarine",
          "shape": "spline",
          "width": 1
         },
         "mode": "lines",
         "type": "scatter",
         "x": [
          0.08916392585997854,
          0.29094739705890743,
          null
         ],
         "y": [
          -0.0960604346143917,
          -0.06815794270007974,
          null
         ]
        },
        {
         "line": {
          "color": "mediumaquamarine",
          "shape": "spline",
          "width": 1
         },
         "mode": "lines",
         "type": "scatter",
         "x": [
          0.3428214176145803,
          0.22527806544787235,
          null
         ],
         "y": [
          0.3731693014805722,
          0.5279681843610675,
          null
         ]
        },
        {
         "line": {
          "color": "mediumaquamarine",
          "shape": "spline",
          "width": 1
         },
         "mode": "lines",
         "type": "scatter",
         "x": [
          -0.08915512453278185,
          0.1661720714064134,
          null
         ],
         "y": [
          -0.6398545116972019,
          -0.5009375979143256,
          null
         ]
        },
        {
         "line": {
          "color": "mediumaquamarine",
          "shape": "spline",
          "width": 1
         },
         "mode": "lines",
         "type": "scatter",
         "x": [
          0.11127417166858421,
          -0.046990916455814886,
          null
         ],
         "y": [
          0.012322481288843744,
          0.21284037145690396,
          null
         ]
        },
        {
         "line": {
          "color": "mediumaquamarine",
          "shape": "spline",
          "width": 1
         },
         "mode": "lines",
         "type": "scatter",
         "x": [
          0.11127417166858421,
          0.2690374449616967,
          null
         ],
         "y": [
          0.012322481288843744,
          -0.2386533395725597,
          null
         ]
        },
        {
         "line": {
          "color": "mediumaquamarine",
          "shape": "spline",
          "width": 1
         },
         "mode": "lines",
         "type": "scatter",
         "x": [
          -0.2539363034248378,
          -0.046990916455814886,
          null
         ],
         "y": [
          0.17221007967781357,
          0.21284037145690396,
          null
         ]
        },
        {
         "line": {
          "color": "mediumaquamarine",
          "shape": "spline",
          "width": 1
         },
         "mode": "lines",
         "type": "scatter",
         "x": [
          0.22527806544787235,
          0.212089125231628,
          null
         ],
         "y": [
          0.5279681843610675,
          0.8314757408770145,
          null
         ]
        },
        {
         "line": {
          "color": "mediumaquamarine",
          "shape": "spline",
          "width": 1
         },
         "mode": "lines",
         "type": "scatter",
         "x": [
          0.22527806544787235,
          0.29094739705890743,
          null
         ],
         "y": [
          0.5279681843610675,
          -0.06815794270007974,
          null
         ]
        },
        {
         "line": {
          "color": "mediumaquamarine",
          "shape": "spline",
          "width": 1
         },
         "mode": "lines",
         "type": "scatter",
         "x": [
          0.22615442032495287,
          -0.046990916455814886,
          null
         ],
         "y": [
          0.10216486433273929,
          0.21284037145690396,
          null
         ]
        },
        {
         "line": {
          "color": "mediumaquamarine",
          "shape": "spline",
          "width": 1
         },
         "mode": "lines",
         "type": "scatter",
         "x": [
          0.22615442032495287,
          0.49017376063827806,
          null
         ],
         "y": [
          0.10216486433273929,
          -0.15794365254499812,
          null
         ]
        },
        {
         "line": {
          "color": "mediumaquamarine",
          "shape": "spline",
          "width": 1
         },
         "mode": "lines",
         "type": "scatter",
         "x": [
          -0.2539356830304834,
          -0.046990916455814886,
          null
         ],
         "y": [
          0.17221289561172615,
          0.21284037145690396,
          null
         ]
        },
        {
         "line": {
          "color": "mediumaquamarine",
          "shape": "spline",
          "width": 1
         },
         "mode": "lines",
         "type": "scatter",
         "x": [
          0.08076597837894949,
          0.16369029533257448,
          null
         ],
         "y": [
          0.14709990886015092,
          -0.03896215949186053,
          null
         ]
        },
        {
         "line": {
          "color": "mediumaquamarine",
          "shape": "spline",
          "width": 1
         },
         "mode": "lines",
         "type": "scatter",
         "x": [
          0.16482476725333625,
          0.3440215427162439,
          null
         ],
         "y": [
          -0.35016037237416076,
          -0.44671807066658414,
          null
         ]
        },
        {
         "line": {
          "color": "mediumaquamarine",
          "shape": "spline",
          "width": 1
         },
         "mode": "lines",
         "type": "scatter",
         "x": [
          -0.25394375521144646,
          -0.046990916455814886,
          null
         ],
         "y": [
          0.17221150187581225,
          0.21284037145690396,
          null
         ]
        },
        {
         "line": {
          "color": "mediumaquamarine",
          "shape": "spline",
          "width": 1.189207115002721
         },
         "mode": "lines",
         "type": "scatter",
         "x": [
          0.8265829259162691,
          0.2690374449616967,
          null
         ],
         "y": [
          -0.6386003475290047,
          -0.2386533395725597,
          null
         ]
        },
        {
         "line": {
          "color": "mediumaquamarine",
          "shape": "spline",
          "width": 1
         },
         "mode": "lines",
         "type": "scatter",
         "x": [
          0.8265829259162691,
          0.7512084757501742,
          null
         ],
         "y": [
          -0.6386003475290047,
          -0.4489586799444104,
          null
         ]
        },
        {
         "line": {
          "color": "mediumaquamarine",
          "shape": "spline",
          "width": 1.189207115002721
         },
         "mode": "lines",
         "type": "scatter",
         "x": [
          -0.03623166786590053,
          -0.046990916455814886,
          null
         ],
         "y": [
          -0.35018066175006124,
          0.21284037145690396,
          null
         ]
        },
        {
         "line": {
          "color": "mediumaquamarine",
          "shape": "spline",
          "width": 1
         },
         "mode": "lines",
         "type": "scatter",
         "x": [
          -0.03623166786590053,
          0.18526365883956505,
          null
         ],
         "y": [
          -0.35018066175006124,
          -0.5846179681822352,
          null
         ]
        },
        {
         "line": {
          "color": "mediumaquamarine",
          "shape": "spline",
          "width": 1
         },
         "mode": "lines",
         "type": "scatter",
         "x": [
          -0.03623166786590053,
          0.1661720714064134,
          null
         ],
         "y": [
          -0.35018066175006124,
          -0.5009375979143256,
          null
         ]
        },
        {
         "line": {
          "color": "mediumaquamarine",
          "shape": "spline",
          "width": 1
         },
         "mode": "lines",
         "type": "scatter",
         "x": [
          0.013508990522313542,
          0.22527806544787235,
          null
         ],
         "y": [
          0.47097700266376347,
          0.5279681843610675,
          null
         ]
        },
        {
         "line": {
          "color": "mediumaquamarine",
          "shape": "spline",
          "width": 1
         },
         "mode": "lines",
         "type": "scatter",
         "x": [
          -0.046990916455814886,
          -0.011145066958727804,
          null
         ],
         "y": [
          0.21284037145690396,
          0.4887539221061084,
          null
         ]
        },
        {
         "line": {
          "color": "mediumaquamarine",
          "shape": "spline",
          "width": 1.3160740129524924
         },
         "mode": "lines",
         "type": "scatter",
         "x": [
          -0.046990916455814886,
          0.22527806544787235,
          null
         ],
         "y": [
          0.21284037145690396,
          0.5279681843610675,
          null
         ]
        },
        {
         "line": {
          "color": "mediumaquamarine",
          "shape": "spline",
          "width": 1
         },
         "mode": "lines",
         "type": "scatter",
         "x": [
          -0.046990916455814886,
          0.013508990522313542,
          null
         ],
         "y": [
          0.21284037145690396,
          0.47097700266376347,
          null
         ]
        },
        {
         "line": {
          "color": "mediumaquamarine",
          "shape": "spline",
          "width": 1.8988289221159418
         },
         "mode": "lines",
         "type": "scatter",
         "x": [
          -0.046990916455814886,
          -0.046990916455814886,
          null
         ],
         "y": [
          0.21284037145690396,
          0.21284037145690396,
          null
         ]
        },
        {
         "line": {
          "color": "mediumaquamarine",
          "shape": "spline",
          "width": 1
         },
         "mode": "lines",
         "type": "scatter",
         "x": [
          -0.046990916455814886,
          0.049684873880099976,
          null
         ],
         "y": [
          0.21284037145690396,
          0.45699884167901367,
          null
         ]
        },
        {
         "line": {
          "color": "mediumaquamarine",
          "shape": "spline",
          "width": 1
         },
         "mode": "lines",
         "type": "scatter",
         "x": [
          -0.046990916455814886,
          -0.05269437140111136,
          null
         ],
         "y": [
          0.21284037145690396,
          -0.16141589383709587,
          null
         ]
        },
        {
         "line": {
          "color": "mediumaquamarine",
          "shape": "spline",
          "width": 1
         },
         "mode": "lines",
         "type": "scatter",
         "x": [
          -0.046990916455814886,
          -0.011353869742413328,
          null
         ],
         "y": [
          0.21284037145690396,
          0.4888296673321951,
          null
         ]
        },
        {
         "line": {
          "color": "mediumaquamarine",
          "shape": "spline",
          "width": 1
         },
         "mode": "lines",
         "type": "scatter",
         "x": [
          -0.046990916455814886,
          -0.011370997543038799,
          null
         ],
         "y": [
          0.21284037145690396,
          0.4887701309055294,
          null
         ]
        },
        {
         "line": {
          "color": "mediumaquamarine",
          "shape": "spline",
          "width": 1.189207115002721
         },
         "mode": "lines",
         "type": "scatter",
         "x": [
          -0.046990916455814886,
          0.29094739705890743,
          null
         ],
         "y": [
          0.21284037145690396,
          -0.06815794270007974,
          null
         ]
        },
        {
         "line": {
          "color": "mediumaquamarine",
          "shape": "spline",
          "width": 1
         },
         "mode": "lines",
         "type": "scatter",
         "x": [
          -0.2538770915400085,
          -0.046990916455814886,
          null
         ],
         "y": [
          0.17223040575230514,
          0.21284037145690396,
          null
         ]
        },
        {
         "line": {
          "color": "mediumaquamarine",
          "shape": "spline",
          "width": 1
         },
         "mode": "lines",
         "type": "scatter",
         "x": [
          -0.2538782982682559,
          -0.046990916455814886,
          null
         ],
         "y": [
          0.17222603212301144,
          0.21284037145690396,
          null
         ]
        },
        {
         "line": {
          "color": "mediumaquamarine",
          "shape": "spline",
          "width": 1
         },
         "mode": "lines",
         "type": "scatter",
         "x": [
          0.11125572735401369,
          -0.046990916455814886,
          null
         ],
         "y": [
          0.012316153053499859,
          0.21284037145690396,
          null
         ]
        },
        {
         "line": {
          "color": "mediumaquamarine",
          "shape": "spline",
          "width": 1
         },
         "mode": "lines",
         "type": "scatter",
         "x": [
          0.11125572735401369,
          0.2690374449616967,
          null
         ],
         "y": [
          0.012316153053499859,
          -0.2386533395725597,
          null
         ]
        },
        {
         "line": {
          "color": "mediumaquamarine",
          "shape": "spline",
          "width": 1
         },
         "mode": "lines",
         "type": "scatter",
         "x": [
          0.1112554750212957,
          -0.046990916455814886,
          null
         ],
         "y": [
          0.012316061713486226,
          0.21284037145690396,
          null
         ]
        },
        {
         "line": {
          "color": "mediumaquamarine",
          "shape": "spline",
          "width": 1
         },
         "mode": "lines",
         "type": "scatter",
         "x": [
          0.1112554750212957,
          0.2690374449616967,
          null
         ],
         "y": [
          0.012316061713486226,
          -0.2386533395725597,
          null
         ]
        },
        {
         "line": {
          "color": "mediumaquamarine",
          "shape": "spline",
          "width": 1
         },
         "mode": "lines",
         "type": "scatter",
         "x": [
          -0.12707688946268036,
          -0.12707688946268036,
          null
         ],
         "y": [
          0.1607551862602852,
          0.1607551862602852,
          null
         ]
        },
        {
         "line": {
          "color": "mediumaquamarine",
          "shape": "spline",
          "width": 1
         },
         "mode": "lines",
         "type": "scatter",
         "x": [
          -0.25384272277776576,
          -0.046990916455814886,
          null
         ],
         "y": [
          0.17223182079879204,
          0.21284037145690396,
          null
         ]
        },
        {
         "line": {
          "color": "mediumaquamarine",
          "shape": "spline",
          "width": 1
         },
         "mode": "lines",
         "type": "scatter",
         "x": [
          -0.25384208432639827,
          -0.046990916455814886,
          null
         ],
         "y": [
          0.17223281531674445,
          0.21284037145690396,
          null
         ]
        },
        {
         "line": {
          "color": "mediumaquamarine",
          "shape": "spline",
          "width": 1
         },
         "mode": "lines",
         "type": "scatter",
         "x": [
          -0.28022088432931513,
          -0.03623166786590053,
          null
         ],
         "y": [
          -0.37343010964428164,
          -0.35018066175006124,
          null
         ]
        },
        {
         "line": {
          "color": "mediumaquamarine",
          "shape": "spline",
          "width": 1
         },
         "mode": "lines",
         "type": "scatter",
         "x": [
          -0.2538391742481084,
          -0.046990916455814886,
          null
         ],
         "y": [
          0.17223487117422542,
          0.21284037145690396,
          null
         ]
        },
        {
         "line": {
          "color": "mediumaquamarine",
          "shape": "spline",
          "width": 1.189207115002721
         },
         "mode": "lines",
         "type": "scatter",
         "x": [
          -0.5079961449669633,
          -0.046990916455814886,
          null
         ],
         "y": [
          0.18495564592576683,
          0.21284037145690396,
          null
         ]
        },
        {
         "line": {
          "color": "mediumaquamarine",
          "shape": "spline",
          "width": 1
         },
         "mode": "lines",
         "type": "scatter",
         "x": [
          0.18526365883956505,
          0.3440215427162439,
          null
         ],
         "y": [
          -0.5846179681822352,
          -0.44671807066658414,
          null
         ]
        },
        {
         "line": {
          "color": "mediumaquamarine",
          "shape": "spline",
          "width": 1
         },
         "mode": "lines",
         "type": "scatter",
         "x": [
          0.5154831964841313,
          0.2690374449616967,
          null
         ],
         "y": [
          -0.30063462263229446,
          -0.2386533395725597,
          null
         ]
        },
        {
         "line": {
          "color": "mediumaquamarine",
          "shape": "spline",
          "width": 1
         },
         "mode": "lines",
         "type": "scatter",
         "x": [
          0.5154831964841313,
          0.29094739705890743,
          null
         ],
         "y": [
          -0.30063462263229446,
          -0.06815794270007974,
          null
         ]
        },
        {
         "line": {
          "color": "mediumaquamarine",
          "shape": "spline",
          "width": 1
         },
         "mode": "lines",
         "type": "scatter",
         "x": [
          0.049684873880099976,
          0.049684873880099976,
          null
         ],
         "y": [
          0.45699884167901367,
          0.45699884167901367,
          null
         ]
        },
        {
         "line": {
          "color": "mediumaquamarine",
          "shape": "spline",
          "width": 1
         },
         "mode": "lines",
         "type": "scatter",
         "x": [
          -0.253886120638,
          -0.046990916455814886,
          null
         ],
         "y": [
          0.17223906003869555,
          0.21284037145690396,
          null
         ]
        },
        {
         "line": {
          "color": "mediumaquamarine",
          "shape": "spline",
          "width": 1
         },
         "mode": "lines",
         "type": "scatter",
         "x": [
          0.6536111696571774,
          0.4826589834327793,
          null
         ],
         "y": [
          -0.4269036984997489,
          -0.6101178512510884,
          null
         ]
        },
        {
         "line": {
          "color": "mediumaquamarine",
          "shape": "spline",
          "width": 1
         },
         "mode": "lines",
         "type": "scatter",
         "x": [
          0.6536111696571774,
          0.49017376063827806,
          null
         ],
         "y": [
          -0.4269036984997489,
          -0.15794365254499812,
          null
         ]
        },
        {
         "line": {
          "color": "mediumaquamarine",
          "shape": "spline",
          "width": 1
         },
         "mode": "lines",
         "type": "scatter",
         "x": [
          0.1713219103117564,
          0.3440215427162439,
          null
         ],
         "y": [
          -0.33892564659343866,
          -0.44671807066658414,
          null
         ]
        },
        {
         "line": {
          "color": "mediumaquamarine",
          "shape": "spline",
          "width": 1
         },
         "mode": "lines",
         "type": "scatter",
         "x": [
          -0.2538756099572459,
          -0.046990916455814886,
          null
         ],
         "y": [
          0.17224128366049515,
          0.21284037145690396,
          null
         ]
        },
        {
         "line": {
          "color": "mediumaquamarine",
          "shape": "spline",
          "width": 1
         },
         "mode": "lines",
         "type": "scatter",
         "x": [
          0.1715519357359662,
          -0.011145066958727804,
          null
         ],
         "y": [
          0.5785078688149321,
          0.4887539221061084,
          null
         ]
        },
        {
         "line": {
          "color": "mediumaquamarine",
          "shape": "spline",
          "width": 1.6265765616977856
         },
         "mode": "lines",
         "type": "scatter",
         "x": [
          0.4826589834327793,
          -0.046990916455814886,
          null
         ],
         "y": [
          -0.6101178512510884,
          0.21284037145690396,
          null
         ]
        },
        {
         "line": {
          "color": "mediumaquamarine",
          "shape": "spline",
          "width": 1
         },
         "mode": "lines",
         "type": "scatter",
         "x": [
          0.4826589834327793,
          0.1661720714064134,
          null
         ],
         "y": [
          -0.6101178512510884,
          -0.5009375979143256,
          null
         ]
        },
        {
         "line": {
          "color": "mediumaquamarine",
          "shape": "spline",
          "width": 1
         },
         "mode": "lines",
         "type": "scatter",
         "x": [
          -0.14284722719484563,
          -0.15034101183155726,
          null
         ],
         "y": [
          0.3909456707738219,
          0.18737612285798394,
          null
         ]
        },
        {
         "line": {
          "color": "mediumaquamarine",
          "shape": "spline",
          "width": 1
         },
         "mode": "lines",
         "type": "scatter",
         "x": [
          -0.14284722719484563,
          0.049684873880099976,
          null
         ],
         "y": [
          0.3909456707738219,
          0.45699884167901367,
          null
         ]
        },
        {
         "line": {
          "color": "mediumaquamarine",
          "shape": "spline",
          "width": 1.189207115002721
         },
         "mode": "lines",
         "type": "scatter",
         "x": [
          -0.05269437140111136,
          -0.046990916455814886,
          null
         ],
         "y": [
          -0.16141589383709587,
          0.21284037145690396,
          null
         ]
        },
        {
         "line": {
          "color": "mediumaquamarine",
          "shape": "spline",
          "width": 1
         },
         "mode": "lines",
         "type": "scatter",
         "x": [
          -0.05269437140111136,
          -0.05269437140111136,
          null
         ],
         "y": [
          -0.16141589383709587,
          -0.16141589383709587,
          null
         ]
        },
        {
         "line": {
          "color": "mediumaquamarine",
          "shape": "spline",
          "width": 1
         },
         "mode": "lines",
         "type": "scatter",
         "x": [
          -0.05269437140111136,
          0.2690374449616967,
          null
         ],
         "y": [
          -0.16141589383709587,
          -0.2386533395725597,
          null
         ]
        },
        {
         "line": {
          "color": "mediumaquamarine",
          "shape": "spline",
          "width": 1
         },
         "mode": "lines",
         "type": "scatter",
         "x": [
          -0.08916178915686361,
          0.1661720714064134,
          null
         ],
         "y": [
          -0.6398483795528235,
          -0.5009375979143256,
          null
         ]
        },
        {
         "line": {
          "color": "mediumaquamarine",
          "shape": "spline",
          "width": 1
         },
         "mode": "lines",
         "type": "scatter",
         "x": [
          0.15277646152237206,
          -0.046990916455814886,
          null
         ],
         "y": [
          0.1350455312275401,
          0.21284037145690396,
          null
         ]
        },
        {
         "line": {
          "color": "mediumaquamarine",
          "shape": "spline",
          "width": 1
         },
         "mode": "lines",
         "type": "scatter",
         "x": [
          0.15277646152237206,
          0.29094739705890743,
          null
         ],
         "y": [
          0.1350455312275401,
          -0.06815794270007974,
          null
         ]
        },
        {
         "line": {
          "color": "mediumaquamarine",
          "shape": "spline",
          "width": 1
         },
         "mode": "lines",
         "type": "scatter",
         "x": [
          -0.45718976519120064,
          -0.2544154434336131,
          null
         ],
         "y": [
          0.13047459344388063,
          0.02939988495046766,
          null
         ]
        },
        {
         "line": {
          "color": "mediumaquamarine",
          "shape": "spline",
          "width": 1
         },
         "mode": "lines",
         "type": "scatter",
         "x": [
          -0.45718976519120064,
          -0.26028477954165646,
          null
         ],
         "y": [
          0.13047459344388063,
          0.07783871730608595,
          null
         ]
        },
        {
         "line": {
          "color": "mediumaquamarine",
          "shape": "spline",
          "width": 1
         },
         "mode": "lines",
         "type": "scatter",
         "x": [
          -0.45718976519120064,
          -0.23170616387948104,
          null
         ],
         "y": [
          0.13047459344388063,
          0.11761520551939535,
          null
         ]
        },
        {
         "line": {
          "color": "mediumaquamarine",
          "shape": "spline",
          "width": 1
         },
         "mode": "lines",
         "type": "scatter",
         "x": [
          -0.4571748725463658,
          -0.2544154434336131,
          null
         ],
         "y": [
          0.1305467953765872,
          0.02939988495046766,
          null
         ]
        },
        {
         "line": {
          "color": "mediumaquamarine",
          "shape": "spline",
          "width": 1
         },
         "mode": "lines",
         "type": "scatter",
         "x": [
          -0.4571748725463658,
          -0.23170616387948104,
          null
         ],
         "y": [
          0.1305467953765872,
          0.11761520551939535,
          null
         ]
        },
        {
         "line": {
          "color": "mediumaquamarine",
          "shape": "spline",
          "width": 1
         },
         "mode": "lines",
         "type": "scatter",
         "x": [
          -0.09673212677374662,
          0.10660264004339866,
          null
         ],
         "y": [
          -0.0853922627138707,
          -0.07352722688270652,
          null
         ]
        },
        {
         "line": {
          "color": "mediumaquamarine",
          "shape": "spline",
          "width": 1
         },
         "mode": "lines",
         "type": "scatter",
         "x": [
          -0.4881354333334524,
          -0.2649589144123616,
          null
         ],
         "y": [
          0.17842548564501337,
          0.17670073200212774,
          null
         ]
        },
        {
         "line": {
          "color": "mediumaquamarine",
          "shape": "spline",
          "width": 1
         },
         "mode": "lines",
         "type": "scatter",
         "x": [
          -0.2538464809572591,
          -0.046990916455814886,
          null
         ],
         "y": [
          0.17225504292374474,
          0.21284037145690396,
          null
         ]
        },
        {
         "line": {
          "color": "mediumaquamarine",
          "shape": "spline",
          "width": 1
         },
         "mode": "lines",
         "type": "scatter",
         "x": [
          -0.2538463401925817,
          -0.046990916455814886,
          null
         ],
         "y": [
          0.17225635972130218,
          0.21284037145690396,
          null
         ]
        },
        {
         "line": {
          "color": "mediumaquamarine",
          "shape": "spline",
          "width": 1
         },
         "mode": "lines",
         "type": "scatter",
         "x": [
          -0.2538464105321508,
          -0.046990916455814886,
          null
         ],
         "y": [
          0.17225808568699463,
          0.21284037145690396,
          null
         ]
        },
        {
         "line": {
          "color": "mediumaquamarine",
          "shape": "spline",
          "width": 1
         },
         "mode": "lines",
         "type": "scatter",
         "x": [
          -0.086979651715583,
          0.04444302743467723,
          null
         ],
         "y": [
          -0.05984686483486978,
          0.09575021636167633,
          null
         ]
        },
        {
         "line": {
          "color": "mediumaquamarine",
          "shape": "spline",
          "width": 1
         },
         "mode": "lines",
         "type": "scatter",
         "x": [
          -0.25384436279795913,
          -0.046990916455814886,
          null
         ],
         "y": [
          0.17225930793309724,
          0.21284037145690396,
          null
         ]
        },
        {
         "line": {
          "color": "mediumaquamarine",
          "shape": "spline",
          "width": 1
         },
         "mode": "lines",
         "type": "scatter",
         "x": [
          -0.010339129309178326,
          -0.2544154434336131,
          null
         ],
         "y": [
          -0.09162488542573866,
          0.02939988495046766,
          null
         ]
        },
        {
         "line": {
          "color": "mediumaquamarine",
          "shape": "spline",
          "width": 1
         },
         "mode": "lines",
         "type": "scatter",
         "x": [
          -0.010339129309178326,
          0.2690374449616967,
          null
         ],
         "y": [
          -0.09162488542573866,
          -0.2386533395725597,
          null
         ]
        },
        {
         "line": {
          "color": "mediumaquamarine",
          "shape": "spline",
          "width": 1
         },
         "mode": "lines",
         "type": "scatter",
         "x": [
          -0.010339129309178326,
          -0.23170616387948104,
          null
         ],
         "y": [
          -0.09162488542573866,
          0.11761520551939535,
          null
         ]
        },
        {
         "line": {
          "color": "mediumaquamarine",
          "shape": "spline",
          "width": 1
         },
         "mode": "lines",
         "type": "scatter",
         "x": [
          -0.2538410994003394,
          -0.046990916455814886,
          null
         ],
         "y": [
          0.17225927957059523,
          0.21284037145690396,
          null
         ]
        },
        {
         "line": {
          "color": "mediumaquamarine",
          "shape": "spline",
          "width": 1
         },
         "mode": "lines",
         "type": "scatter",
         "x": [
          -0.25384183354,
          -0.046990916455814886,
          null
         ],
         "y": [
          0.1722603201497639,
          0.21284037145690396,
          null
         ]
        },
        {
         "line": {
          "color": "mediumaquamarine",
          "shape": "spline",
          "width": 1.189207115002721
         },
         "mode": "lines",
         "type": "scatter",
         "x": [
          -0.5079922226981793,
          -0.046990916455814886,
          null
         ],
         "y": [
          0.1852022597864647,
          0.21284037145690396,
          null
         ]
        },
        {
         "line": {
          "color": "mediumaquamarine",
          "shape": "spline",
          "width": 1
         },
         "mode": "lines",
         "type": "scatter",
         "x": [
          -0.25384075093210295,
          -0.046990916455814886,
          null
         ],
         "y": [
          0.17226094608228526,
          0.21284037145690396,
          null
         ]
        },
        {
         "line": {
          "color": "mediumaquamarine",
          "shape": "spline",
          "width": 1
         },
         "mode": "lines",
         "type": "scatter",
         "x": [
          -0.02323606052775056,
          0.18526365883956505,
          null
         ],
         "y": [
          -0.5802383420661726,
          -0.5846179681822352,
          null
         ]
        },
        {
         "line": {
          "color": "mediumaquamarine",
          "shape": "spline",
          "width": 1
         },
         "mode": "lines",
         "type": "scatter",
         "x": [
          -0.02323606052775056,
          -0.13227150054974252,
          null
         ],
         "y": [
          -0.5802383420661726,
          -0.4061684684530822,
          null
         ]
        },
        {
         "line": {
          "color": "mediumaquamarine",
          "shape": "spline",
          "width": 1
         },
         "mode": "lines",
         "type": "scatter",
         "x": [
          -0.25383957379040495,
          -0.046990916455814886,
          null
         ],
         "y": [
          0.17226219095908402,
          0.21284037145690396,
          null
         ]
        },
        {
         "line": {
          "color": "mediumaquamarine",
          "shape": "spline",
          "width": 1
         },
         "mode": "lines",
         "type": "scatter",
         "x": [
          0.3426477108117135,
          0.22527806544787235,
          null
         ],
         "y": [
          0.37297275811253133,
          0.5279681843610675,
          null
         ]
        },
        {
         "line": {
          "color": "mediumaquamarine",
          "shape": "spline",
          "width": 1
         },
         "mode": "lines",
         "type": "scatter",
         "x": [
          -0.2538382230088621,
          -0.046990916455814886,
          null
         ],
         "y": [
          0.17226317106737118,
          0.21284037145690396,
          null
         ]
        },
        {
         "line": {
          "color": "mediumaquamarine",
          "shape": "spline",
          "width": 1
         },
         "mode": "lines",
         "type": "scatter",
         "x": [
          -0.25383630163975957,
          -0.046990916455814886,
          null
         ],
         "y": [
          0.17226228462236895,
          0.21284037145690396,
          null
         ]
        },
        {
         "line": {
          "color": "mediumaquamarine",
          "shape": "spline",
          "width": 1.5650845800732873
         },
         "mode": "lines",
         "type": "scatter",
         "x": [
          0.1661720714064134,
          -0.046990916455814886,
          null
         ],
         "y": [
          -0.5009375979143256,
          0.21284037145690396,
          null
         ]
        },
        {
         "line": {
          "color": "mediumaquamarine",
          "shape": "spline",
          "width": 1
         },
         "mode": "lines",
         "type": "scatter",
         "x": [
          0.1661720714064134,
          0.1833380565063693,
          null
         ],
         "y": [
          -0.5009375979143256,
          -0.7277150979944809,
          null
         ]
        },
        {
         "line": {
          "color": "mediumaquamarine",
          "shape": "spline",
          "width": 1
         },
         "mode": "lines",
         "type": "scatter",
         "x": [
          0.1661720714064134,
          0.18322422407373365,
          null
         ],
         "y": [
          -0.5009375979143256,
          -0.7277771771742519,
          null
         ]
        },
        {
         "line": {
          "color": "mediumaquamarine",
          "shape": "spline",
          "width": 1
         },
         "mode": "lines",
         "type": "scatter",
         "x": [
          0.1661720714064134,
          0.29094739705890743,
          null
         ],
         "y": [
          -0.5009375979143256,
          -0.06815794270007974,
          null
         ]
        },
        {
         "line": {
          "color": "mediumaquamarine",
          "shape": "spline",
          "width": 1
         },
         "mode": "lines",
         "type": "scatter",
         "x": [
          0.2690374449616967,
          0.25803712861746064,
          null
         ],
         "y": [
          -0.2386533395725597,
          -0.44133194198280634,
          null
         ]
        },
        {
         "line": {
          "color": "mediumaquamarine",
          "shape": "spline",
          "width": 1.4953487812212205
         },
         "mode": "lines",
         "type": "scatter",
         "x": [
          0.2690374449616967,
          -0.046990916455814886,
          null
         ],
         "y": [
          -0.2386533395725597,
          0.21284037145690396,
          null
         ]
        },
        {
         "line": {
          "color": "mediumaquamarine",
          "shape": "spline",
          "width": 1
         },
         "mode": "lines",
         "type": "scatter",
         "x": [
          0.2690374449616967,
          0.1661720714064134,
          null
         ],
         "y": [
          -0.2386533395725597,
          -0.5009375979143256,
          null
         ]
        },
        {
         "line": {
          "color": "mediumaquamarine",
          "shape": "spline",
          "width": 1
         },
         "mode": "lines",
         "type": "scatter",
         "x": [
          0.2690374449616967,
          0.25817113625150634,
          null
         ],
         "y": [
          -0.2386533395725597,
          -0.4412175759313457,
          null
         ]
        },
        {
         "line": {
          "color": "mediumaquamarine",
          "shape": "spline",
          "width": 1.4142135623730951
         },
         "mode": "lines",
         "type": "scatter",
         "x": [
          0.2690374449616967,
          0.2690374449616967,
          null
         ],
         "y": [
          -0.2386533395725597,
          -0.2386533395725597,
          null
         ]
        },
        {
         "line": {
          "color": "mediumaquamarine",
          "shape": "spline",
          "width": 1
         },
         "mode": "lines",
         "type": "scatter",
         "x": [
          0.2690374449616967,
          0.49017376063827806,
          null
         ],
         "y": [
          -0.2386533395725597,
          -0.15794365254499812,
          null
         ]
        },
        {
         "line": {
          "color": "mediumaquamarine",
          "shape": "spline",
          "width": 1.4142135623730951
         },
         "mode": "lines",
         "type": "scatter",
         "x": [
          0.2690374449616967,
          0.29094739705890743,
          null
         ],
         "y": [
          -0.2386533395725597,
          -0.06815794270007974,
          null
         ]
        },
        {
         "line": {
          "color": "mediumaquamarine",
          "shape": "spline",
          "width": 1
         },
         "mode": "lines",
         "type": "scatter",
         "x": [
          -0.25382447266279606,
          -0.046990916455814886,
          null
         ],
         "y": [
          0.17222591040281993,
          0.21284037145690396,
          null
         ]
        },
        {
         "line": {
          "color": "mediumaquamarine",
          "shape": "spline",
          "width": 1
         },
         "mode": "lines",
         "type": "scatter",
         "x": [
          -0.23170616387948104,
          -0.046990916455814886,
          null
         ],
         "y": [
          0.11761520551939535,
          0.21284037145690396,
          null
         ]
        },
        {
         "line": {
          "color": "mediumaquamarine",
          "shape": "spline",
          "width": 1
         },
         "mode": "lines",
         "type": "scatter",
         "x": [
          0.39474730417893344,
          0.22527806544787235,
          null
         ],
         "y": [
          0.48913926935264834,
          0.5279681843610675,
          null
         ]
        },
        {
         "line": {
          "color": "mediumaquamarine",
          "shape": "spline",
          "width": 1.3160740129524924
         },
         "mode": "lines",
         "type": "scatter",
         "x": [
          0.39474730417893344,
          -0.046990916455814886,
          null
         ],
         "y": [
          0.48913926935264834,
          0.21284037145690396,
          null
         ]
        },
        {
         "line": {
          "color": "mediumaquamarine",
          "shape": "spline",
          "width": 1
         },
         "mode": "lines",
         "type": "scatter",
         "x": [
          0.39474730417893344,
          0.049684873880099976,
          null
         ],
         "y": [
          0.48913926935264834,
          0.45699884167901367,
          null
         ]
        },
        {
         "line": {
          "color": "mediumaquamarine",
          "shape": "spline",
          "width": 1
         },
         "mode": "lines",
         "type": "scatter",
         "x": [
          -0.2538265499133858,
          -0.046990916455814886,
          null
         ],
         "y": [
          0.1722242080266741,
          0.21284037145690396,
          null
         ]
        },
        {
         "line": {
          "color": "mediumaquamarine",
          "shape": "spline",
          "width": 1
         },
         "mode": "lines",
         "type": "scatter",
         "x": [
          0.06560082463790216,
          -0.13431419955836296,
          null
         ],
         "y": [
          -0.1943305168827764,
          -0.15501873578505335,
          null
         ]
        },
        {
         "line": {
          "color": "mediumaquamarine",
          "shape": "spline",
          "width": 1
         },
         "mode": "lines",
         "type": "scatter",
         "x": [
          -0.08923375164473131,
          0.1661720714064134,
          null
         ],
         "y": [
          -0.6398717898607433,
          -0.5009375979143256,
          null
         ]
        },
        {
         "line": {
          "color": "mediumaquamarine",
          "shape": "spline",
          "width": 1
         },
         "mode": "lines",
         "type": "scatter",
         "x": [
          -0.25383333161969385,
          -0.046990916455814886,
          null
         ],
         "y": [
          0.1722214316371413,
          0.21284037145690396,
          null
         ]
        },
        {
         "line": {
          "color": "mediumaquamarine",
          "shape": "spline",
          "width": 1
         },
         "mode": "lines",
         "type": "scatter",
         "x": [
          -0.25383531770544465,
          -0.046990916455814886,
          null
         ],
         "y": [
          0.17221987486373724,
          0.21284037145690396,
          null
         ]
        },
        {
         "line": {
          "color": "mediumaquamarine",
          "shape": "spline",
          "width": 1
         },
         "mode": "lines",
         "type": "scatter",
         "x": [
          -0.25383709185694786,
          -0.046990916455814886,
          null
         ],
         "y": [
          0.17221817326976183,
          0.21284037145690396,
          null
         ]
        },
        {
         "line": {
          "color": "mediumaquamarine",
          "shape": "spline",
          "width": 1.5650845800732873
         },
         "mode": "lines",
         "type": "scatter",
         "x": [
          0.49017376063827806,
          -0.046990916455814886,
          null
         ],
         "y": [
          -0.15794365254499812,
          0.21284037145690396,
          null
         ]
        },
        {
         "line": {
          "color": "mediumaquamarine",
          "shape": "spline",
          "width": 1
         },
         "mode": "lines",
         "type": "scatter",
         "x": [
          0.49017376063827806,
          0.2690374449616967,
          null
         ],
         "y": [
          -0.15794365254499812,
          -0.2386533395725597,
          null
         ]
        },
        {
         "line": {
          "color": "mediumaquamarine",
          "shape": "spline",
          "width": 1
         },
         "mode": "lines",
         "type": "scatter",
         "x": [
          0.5698870786586611,
          0.2690374449616967,
          null
         ],
         "y": [
          -0.36131012469004026,
          -0.2386533395725597,
          null
         ]
        },
        {
         "line": {
          "color": "mediumaquamarine",
          "shape": "spline",
          "width": 1
         },
         "mode": "lines",
         "type": "scatter",
         "x": [
          0.5698870786586611,
          0.49017376063827806,
          null
         ],
         "y": [
          -0.36131012469004026,
          -0.15794365254499812,
          null
         ]
        },
        {
         "line": {
          "color": "mediumaquamarine",
          "shape": "spline",
          "width": 1
         },
         "mode": "lines",
         "type": "scatter",
         "x": [
          0.10282853934308896,
          -0.03264689010375969,
          null
         ],
         "y": [
          -0.045956102576163414,
          0.10612259520016445,
          null
         ]
        },
        {
         "line": {
          "color": "mediumaquamarine",
          "shape": "spline",
          "width": 1
         },
         "mode": "lines",
         "type": "scatter",
         "x": [
          -0.4571985291940721,
          -0.2544154434336131,
          null
         ],
         "y": [
          0.13085293666608852,
          0.02939988495046766,
          null
         ]
        },
        {
         "line": {
          "color": "mediumaquamarine",
          "shape": "spline",
          "width": 1
         },
         "mode": "lines",
         "type": "scatter",
         "x": [
          -0.4571985291940721,
          -0.23170616387948104,
          null
         ],
         "y": [
          0.13085293666608852,
          0.11761520551939535,
          null
         ]
        },
        {
         "line": {
          "color": "mediumaquamarine",
          "shape": "spline",
          "width": 1
         },
         "mode": "lines",
         "type": "scatter",
         "x": [
          -0.2538765514998222,
          -0.046990916455814886,
          null
         ],
         "y": [
          0.1722163611464956,
          0.21284037145690396,
          null
         ]
        },
        {
         "line": {
          "color": "mediumaquamarine",
          "shape": "spline",
          "width": 1
         },
         "mode": "lines",
         "type": "scatter",
         "x": [
          -0.2649589144123616,
          -0.046990916455814886,
          null
         ],
         "y": [
          0.17670073200212774,
          0.21284037145690396,
          null
         ]
        },
        {
         "line": {
          "color": "mediumaquamarine",
          "shape": "spline",
          "width": 1
         },
         "mode": "lines",
         "type": "scatter",
         "x": [
          -0.25388295661704063,
          -0.046990916455814886,
          null
         ],
         "y": [
          0.1722152306299753,
          0.21284037145690396,
          null
         ]
        },
        {
         "line": {
          "color": "mediumaquamarine",
          "shape": "spline",
          "width": 1
         },
         "mode": "lines",
         "type": "scatter",
         "x": [
          -0.2538833599871711,
          -0.046990916455814886,
          null
         ],
         "y": [
          0.17221289871654819,
          0.21284037145690396,
          null
         ]
        },
        {
         "line": {
          "color": "mediumaquamarine",
          "shape": "spline",
          "width": 1
         },
         "mode": "lines",
         "type": "scatter",
         "x": [
          -0.25388388120556843,
          -0.046990916455814886,
          null
         ],
         "y": [
          0.1722108037806369,
          0.21284037145690396,
          null
         ]
        },
        {
         "line": {
          "color": "mediumaquamarine",
          "shape": "spline",
          "width": 1
         },
         "mode": "lines",
         "type": "scatter",
         "x": [
          -0.2538842536842242,
          -0.046990916455814886,
          null
         ],
         "y": [
          0.1722082435267078,
          0.21284037145690396,
          null
         ]
        },
        {
         "hovertemplate": [
          "202001Chris Murphy",
          "202001Chris Van Hollen",
          "202001Bill Clinton",
          "202001Darrell Issa",
          "202001David Plouffe",
          "202001Mick Mulvaney",
          "202001Joe Scarborough",
          "202001Ed Markey",
          "202001Jennifer Horn",
          "202001Jeff Merkley",
          "202001Toni Atkins",
          "202001David Jolly",
          "202001John Dean",
          "202001Mazie Hirono",
          "202001Nury Martinez",
          "202001Nancy Pelosi",
          "202001Jennifer Palmieri",
          "202001Trey Gowdy",
          "202001Steve Bartlett",
          "202001Steve Scalise",
          "202001Pramila Jayapal",
          "202001Mark Pocan",
          "202001Richard Blumenthal",
          "202001Paul Gosar",
          "202001Rudy Giuliani",
          "202001Rick Perry",
          "202001Zoe Lofgren",
          "202001Jackie Speier",
          "202001Lindsey Graham",
          "202001Kirsten Gillibrand",
          "202001Amy Klobuchar",
          "202001Claire McCaskill",
          "202001Olympia Snowe",
          "202001Donald Trump",
          "202001Mike Pence",
          "202001Jeanne Shaheen",
          "202001Jon Ossoff",
          "202001Tammy Duckworth",
          "202001Karl Rove",
          "202001John R. Bolton",
          "202001Marianne Williamson",
          "202001Marco Rubio",
          "202001Tulsi Gabbard",
          "202001Rex Tillerson",
          "202001Adam Schiff",
          "202001Mitch McConnell",
          "202001Chuck Schumer",
          "202001Ann McLane Kuster",
          "202001Mark Randall Meadows",
          "202001Kevin Cramer",
          "202001Lamar Alexander",
          "202001Elizabeth Warren",
          "202001Rick Scott",
          "202001Mitt Romney",
          "202001Carolyn Maloney",
          "202001Gavin Newsom",
          "202001Rand Paul",
          "202001Mike Pompeo",
          "202001Marie Newman",
          "202001Carl DeMaio",
          "202001Chris Pappas",
          "202001Dan Lipinski",
          "202001Duncan L. Hunter",
          "202001Jack Reed",
          "202001Pat Roberts",
          "202001Luz Rivas",
          "202001Alexandria Ocasio-Cortez",
          "202001Michael Bennet",
          "202001Hakeem Jeffries",
          "202001Elaine Luria",
          "202001Patrick Leahy",
          "202001Michael Bloomberg",
          "202001Jeff Van Drew",
          "202001John Rood",
          "202001Joe Biden",
          "202001Hillary Clinton",
          "202001Kellyanne Conway",
          "202001Chris Christie",
          "202001Kevin Faulconer",
          "202001Kevin McCarthy",
          "202001Krystal Ball",
          "202001Martha Fuller Clark",
          "202001Pam Bondi",
          "202001Pete Buttigieg",
          "202001John Cornyn",
          "202001William Barr",
          "202001Rashida Tlaib",
          "202001Ro Khanna",
          "202001Ryan Winkler",
          "202001Barack Obama",
          "202001Kevin McCarthy",
          "202001Tate Reeves",
          "202001Ted Lieu",
          "202001Scott Tipton",
          "202001Val Demings",
          "202001Warren Limmer",
          "202001Peter Shumlin",
          "202001Chris Coons",
          "202001Raúl Grijalva",
          "202001Patrick J. Kennedy",
          "202001Julián Castro",
          "202002Chris Murphy",
          "202002Kamala Harris",
          "202002Bill Clinton",
          "202002Cory Gardner",
          "202002Jim Hodges",
          "202002Andrew Cuomo",
          "202002Joaquín Castro",
          "202002Mick Mulvaney",
          "202002Joe Scarborough",
          "202002James Carville",
          "202002Jim Clyburn"
         ],
         "marker": {
          "color": [
           "blue",
           "blue",
           "blue",
           "blue",
           "blue",
           "blue",
           "blue",
           "blue",
           "blue",
           "blue",
           "blue",
           "blue",
           "blue",
           "blue",
           "blue",
           "blue",
           "blue",
           "blue",
           "blue",
           "blue",
           "blue",
           "blue",
           "blue",
           "blue",
           "blue",
           "blue",
           "blue",
           "blue",
           "blue",
           "blue",
           "blue",
           "blue",
           "blue",
           "blue",
           "blue",
           "blue",
           "blue",
           "blue",
           "blue",
           "blue",
           "blue",
           "blue",
           "blue",
           "blue",
           "blue",
           "blue",
           "blue",
           "blue",
           "blue",
           "blue",
           "blue",
           "blue",
           "blue",
           "blue",
           "blue",
           "blue",
           "red",
           "red",
           "red",
           "red",
           "red",
           "red",
           "red",
           "red",
           "red",
           "red",
           "red",
           "red",
           "red",
           "red",
           "red",
           "red",
           "red",
           "red",
           "red",
           "red",
           "red",
           "red",
           "red",
           "red",
           "red",
           "red",
           "red",
           "red",
           "red",
           "red",
           "red",
           "red",
           "red",
           "red",
           "red",
           "red",
           "red",
           "red",
           "red",
           "red",
           "red",
           "red",
           "red",
           "red",
           "red",
           "red",
           "red",
           "red",
           "red",
           "red",
           "red",
           "red",
           "red",
           "red",
           "red",
           "red"
          ],
          "line": {
           "color": [
            "blue",
            "blue",
            "blue",
            "blue",
            "blue",
            "blue",
            "blue",
            "blue",
            "blue",
            "blue",
            "blue",
            "blue",
            "blue",
            "blue",
            "blue",
            "blue",
            "blue",
            "blue",
            "blue",
            "blue",
            "blue",
            "blue",
            "blue",
            "blue",
            "blue",
            "blue",
            "blue",
            "blue",
            "blue",
            "blue",
            "blue",
            "blue",
            "blue",
            "blue",
            "blue",
            "blue",
            "blue",
            "blue",
            "blue",
            "blue",
            "blue",
            "blue",
            "blue",
            "blue",
            "blue",
            "blue",
            "blue",
            "blue",
            "blue",
            "blue",
            "blue",
            "blue",
            "blue",
            "blue",
            "blue",
            "blue",
            "red",
            "red",
            "red",
            "red",
            "red",
            "red",
            "red",
            "red",
            "red",
            "red",
            "red",
            "red",
            "red",
            "red",
            "red",
            "red",
            "red",
            "red",
            "red",
            "red",
            "red",
            "red",
            "red",
            "red",
            "red",
            "red",
            "red",
            "red",
            "red",
            "red",
            "red",
            "red",
            "red",
            "red",
            "red",
            "red",
            "red",
            "red",
            "red",
            "red",
            "red",
            "red",
            "red",
            "red",
            "red",
            "red",
            "red",
            "red",
            "red",
            "red",
            "red",
            "red",
            "red",
            "red",
            "red",
            "red"
           ],
           "width": 2
          },
          "size": 15
         },
         "mode": "markers",
         "type": "scatter",
         "x": [
          -0.2538861614724361,
          -0.2539381898342635,
          -0.2544154434336131,
          -0.011145066958727804,
          0.5717946181503243,
          -0.2539092570184062,
          -0.2584506856788922,
          0.15278945242584727,
          0.5762186531291856,
          1,
          0.8195344616275223,
          0.4372167577837611,
          0.08788227220928034,
          0.08916392585997854,
          0.3428214176145803,
          -0.08915512453278185,
          0.11127417166858421,
          -0.2539363034248378,
          0.04444302743467723,
          0.22527806544787235,
          -0.15034101183155726,
          0.22615442032495287,
          -0.2539356830304834,
          0.08076597837894949,
          0.16482476725333625,
          -0.25394375521144646,
          0.25803712861746064,
          0.212089125231628,
          0.8265829259162691,
          -0.03623166786590053,
          0.4846135595614289,
          0.013508990522313542,
          -0.046990916455814886,
          -0.2538770915400085,
          -0.26028477954165646,
          -0.2538782982682559,
          0.11125572735401369,
          -0.03264689010375969,
          0.1112554750212957,
          -0.3199196702440453,
          -0.12707688946268036,
          -0.25384272277776576,
          -0.25384208432639827,
          -0.28022088432931513,
          -0.2538391742481084,
          -0.5079961449669633,
          0.18526365883956505,
          0.5154831964841313,
          0.049684873880099976,
          -0.253886120638,
          0.6536111696571774,
          0.1713219103117564,
          -0.2538756099572459,
          0.1833380565063693,
          0.48518973330265514,
          0.1715519357359662,
          0.4826589834327793,
          -0.14284722719484563,
          -0.05269437140111136,
          -0.011353869742413328,
          -0.08916178915686361,
          0.15277646152237206,
          -0.45718976519120064,
          -0.4571748725463658,
          -0.09673212677374662,
          -0.4881354333334524,
          -0.2538464809572591,
          -0.2538463401925817,
          -0.2538464105321508,
          -0.086979651715583,
          -0.25384436279795913,
          -0.13431419955836296,
          -0.010339129309178326,
          -0.2538410994003394,
          -0.25384183354,
          -0.5079922226981793,
          -0.25384075093210295,
          -0.02323606052775056,
          -0.25383957379040495,
          0.3426477108117135,
          -0.2538382230088621,
          -0.25383630163975957,
          0.1661720714064134,
          0.25817113625150634,
          -0.011370997543038799,
          0.2690374449616967,
          -0.25382447266279606,
          -0.23170616387948104,
          0.39474730417893344,
          -0.2538265499133858,
          0.06560082463790216,
          0.18322422407373365,
          -0.08923375164473131,
          -0.25383333161969385,
          -0.25383531770544465,
          -0.25383709185694786,
          0.49017376063827806,
          -0.13227150054974252,
          0.7512084757501742,
          0.3440215427162439,
          0.5698870786586611,
          0.10282853934308896,
          0.29094739705890743,
          -0.4571985291940721,
          0.16369029533257448,
          -0.2538765514998222,
          0.10660264004339866,
          -0.2649589144123616,
          -0.25388295661704063,
          -0.2538833599871711,
          -0.25388388120556843,
          -0.2538842536842242
         ],
         "y": [
          0.17220692594315112,
          0.17255091880895743,
          0.02939988495046766,
          0.4887539221061084,
          -0.4312742408832208,
          0.17221107383309545,
          -0.24396368001567295,
          0.13508204051531492,
          0.3713792441072575,
          -0.7690370611023601,
          -0.6209115518318161,
          -0.8272211539236833,
          -0.08416431245137139,
          -0.0960604346143917,
          0.3731693014805722,
          -0.6398545116972019,
          0.012322481288843744,
          0.17221007967781357,
          0.09575021636167633,
          0.5279681843610675,
          0.18737612285798394,
          0.10216486433273929,
          0.17221289561172615,
          0.14709990886015092,
          -0.35016037237416076,
          0.17221150187581225,
          -0.44133194198280634,
          0.8314757408770145,
          -0.6386003475290047,
          -0.35018066175006124,
          0.18930843196130914,
          0.47097700266376347,
          0.21284037145690396,
          0.17223040575230514,
          0.07783871730608595,
          0.17222603212301144,
          0.012316153053499859,
          0.10612259520016445,
          0.012316061713486226,
          0.36553087546356533,
          0.1607551862602852,
          0.17223182079879204,
          0.17223281531674445,
          -0.37343010964428164,
          0.17223487117422542,
          0.18495564592576683,
          -0.5846179681822352,
          -0.30063462263229446,
          0.45699884167901367,
          0.17223906003869555,
          -0.4269036984997489,
          -0.33892564659343866,
          0.17224128366049515,
          -0.7277150979944809,
          0.18904054538114498,
          0.5785078688149321,
          -0.6101178512510884,
          0.3909456707738219,
          -0.16141589383709587,
          0.4888296673321951,
          -0.6398483795528235,
          0.1350455312275401,
          0.13047459344388063,
          0.1305467953765872,
          -0.0853922627138707,
          0.17842548564501337,
          0.17225504292374474,
          0.17225635972130218,
          0.17225808568699463,
          -0.05984686483486978,
          0.17225930793309724,
          -0.15501873578505335,
          -0.09162488542573866,
          0.17225927957059523,
          0.1722603201497639,
          0.1852022597864647,
          0.17226094608228526,
          -0.5802383420661726,
          0.17226219095908402,
          0.37297275811253133,
          0.17226317106737118,
          0.17226228462236895,
          -0.5009375979143256,
          -0.4412175759313457,
          0.4887701309055294,
          -0.2386533395725597,
          0.17222591040281993,
          0.11761520551939535,
          0.48913926935264834,
          0.1722242080266741,
          -0.1943305168827764,
          -0.7277771771742519,
          -0.6398717898607433,
          0.1722214316371413,
          0.17221987486373724,
          0.17221817326976183,
          -0.15794365254499812,
          -0.4061684684530822,
          -0.4489586799444104,
          -0.44671807066658414,
          -0.36131012469004026,
          -0.045956102576163414,
          -0.06815794270007974,
          0.13085293666608852,
          -0.03896215949186053,
          0.1722163611464956,
          -0.07352722688270652,
          0.17670073200212774,
          0.1722152306299753,
          0.17221289871654819,
          0.1722108037806369,
          0.1722082435267078
         ]
        },
        {
         "line": {
          "color": "mediumaquamarine",
          "shape": "spline",
          "width": 1
         },
         "mode": "lines",
         "type": "scatter",
         "x": [
          -0.06992336700034084,
          0.12556425051847703,
          null
         ],
         "y": [
          -0.1586829777366672,
          0.08122592568284567,
          null
         ]
        },
        {
         "line": {
          "color": "mediumaquamarine",
          "shape": "spline",
          "width": 1
         },
         "mode": "lines",
         "type": "scatter",
         "x": [
          -0.06992336700034084,
          -0.407030296784562,
          null
         ],
         "y": [
          -0.1586829777366672,
          -0.17496591204824347,
          null
         ]
        },
        {
         "line": {
          "color": "mediumaquamarine",
          "shape": "spline",
          "width": 1
         },
         "mode": "lines",
         "type": "scatter",
         "x": [
          0.11493020163084758,
          -0.1238258914100189,
          null
         ],
         "y": [
          -0.037230153504011286,
          -0.12321821603927363,
          null
         ]
        },
        {
         "line": {
          "color": "mediumaquamarine",
          "shape": "spline",
          "width": 1
         },
         "mode": "lines",
         "type": "scatter",
         "x": [
          0.11493020163084758,
          -0.10224256406625327,
          null
         ],
         "y": [
          -0.037230153504011286,
          -0.16851127198769233,
          null
         ]
        },
        {
         "line": {
          "color": "mediumaquamarine",
          "shape": "spline",
          "width": 1.189207115002721
         },
         "mode": "lines",
         "type": "scatter",
         "x": [
          0.25099278596533997,
          0.25099278596533997,
          null
         ],
         "y": [
          0.05239933473186786,
          0.05239933473186786,
          null
         ]
        },
        {
         "line": {
          "color": "mediumaquamarine",
          "shape": "spline",
          "width": 1
         },
         "mode": "lines",
         "type": "scatter",
         "x": [
          0.37652346402589504,
          0.12556425051847703,
          null
         ],
         "y": [
          0.17290046169792567,
          0.08122592568284567,
          null
         ]
        },
        {
         "line": {
          "color": "mediumaquamarine",
          "shape": "spline",
          "width": 1
         },
         "mode": "lines",
         "type": "scatter",
         "x": [
          -0.06949913220490775,
          0.12556425051847703,
          null
         ],
         "y": [
          -0.14839745485457323,
          0.08122592568284567,
          null
         ]
        },
        {
         "line": {
          "color": "mediumaquamarine",
          "shape": "spline",
          "width": 1
         },
         "mode": "lines",
         "type": "scatter",
         "x": [
          -0.06949913220490775,
          -0.407030296784562,
          null
         ],
         "y": [
          -0.14839745485457323,
          -0.17496591204824347,
          null
         ]
        },
        {
         "line": {
          "color": "mediumaquamarine",
          "shape": "spline",
          "width": 1
         },
         "mode": "lines",
         "type": "scatter",
         "x": [
          0.3765116345964723,
          0.12556425051847703,
          null
         ],
         "y": [
          0.1728819139682018,
          0.08122592568284567,
          null
         ]
        },
        {
         "line": {
          "color": "mediumaquamarine",
          "shape": "spline",
          "width": 1
         },
         "mode": "lines",
         "type": "scatter",
         "x": [
          -0.18068395434277848,
          0.12556425051847703,
          null
         ],
         "y": [
          0.13452358267925332,
          0.08122592568284567,
          null
         ]
        },
        {
         "line": {
          "color": "mediumaquamarine",
          "shape": "spline",
          "width": 1
         },
         "mode": "lines",
         "type": "scatter",
         "x": [
          0.2000176015052409,
          -0.03965275375338926,
          null
         ],
         "y": [
          0.18886598828034948,
          0.27236542302965105,
          null
         ]
        },
        {
         "line": {
          "color": "mediumaquamarine",
          "shape": "spline",
          "width": 1
         },
         "mode": "lines",
         "type": "scatter",
         "x": [
          0.37652375832850443,
          0.12556425051847703,
          null
         ],
         "y": [
          0.17290334224943787,
          0.08122592568284567,
          null
         ]
        },
        {
         "line": {
          "color": "mediumaquamarine",
          "shape": "spline",
          "width": 1
         },
         "mode": "lines",
         "type": "scatter",
         "x": [
          0.24753679781055724,
          0.12556425051847703,
          null
         ],
         "y": [
          0.35224335246371696,
          0.08122592568284567,
          null
         ]
        },
        {
         "line": {
          "color": "mediumaquamarine",
          "shape": "spline",
          "width": 1
         },
         "mode": "lines",
         "type": "scatter",
         "x": [
          0.002350141299245145,
          -0.21601950527218683,
          null
         ],
         "y": [
          0.2066631712898084,
          0.07745875231172576,
          null
         ]
        },
        {
         "line": {
          "color": "mediumaquamarine",
          "shape": "spline",
          "width": 1.189207115002721
         },
         "mode": "lines",
         "type": "scatter",
         "x": [
          -1,
          -0.407030296784562,
          null
         ],
         "y": [
          -0.008553954498802903,
          -0.17496591204824347,
          null
         ]
        },
        {
         "line": {
          "color": "mediumaquamarine",
          "shape": "spline",
          "width": 1
         },
         "mode": "lines",
         "type": "scatter",
         "x": [
          -0.012430188028066343,
          0.03418312371220912,
          null
         ],
         "y": [
          0.14637995491470235,
          0.39563047263382056,
          null
         ]
        },
        {
         "line": {
          "color": "mediumaquamarine",
          "shape": "spline",
          "width": 1
         },
         "mode": "lines",
         "type": "scatter",
         "x": [
          0.12556425051847703,
          0.4868409919390241,
          null
         ],
         "y": [
          0.08122592568284567,
          -0.18938320795122363,
          null
         ]
        },
        {
         "line": {
          "color": "mediumaquamarine",
          "shape": "spline",
          "width": 1
         },
         "mode": "lines",
         "type": "scatter",
         "x": [
          0.12556425051847703,
          -0.18068395434277848,
          null
         ],
         "y": [
          0.08122592568284567,
          0.13452358267925332,
          null
         ]
        },
        {
         "line": {
          "color": "mediumaquamarine",
          "shape": "spline",
          "width": 1
         },
         "mode": "lines",
         "type": "scatter",
         "x": [
          0.12556425051847703,
          0.24753679781055724,
          null
         ],
         "y": [
          0.08122592568284567,
          0.35224335246371696,
          null
         ]
        },
        {
         "line": {
          "color": "mediumaquamarine",
          "shape": "spline",
          "width": 1.5650845800732873
         },
         "mode": "lines",
         "type": "scatter",
         "x": [
          0.12556425051847703,
          0.12556425051847703,
          null
         ],
         "y": [
          0.08122592568284567,
          0.08122592568284567,
          null
         ]
        },
        {
         "line": {
          "color": "mediumaquamarine",
          "shape": "spline",
          "width": 1
         },
         "mode": "lines",
         "type": "scatter",
         "x": [
          0.12556425051847703,
          -0.031075821273408046,
          null
         ],
         "y": [
          0.08122592568284567,
          0.3744150226821672,
          null
         ]
        },
        {
         "line": {
          "color": "mediumaquamarine",
          "shape": "spline",
          "width": 1
         },
         "mode": "lines",
         "type": "scatter",
         "x": [
          0.12556425051847703,
          -0.030994664803139393,
          null
         ],
         "y": [
          0.08122592568284567,
          0.3744761083588138,
          null
         ]
        },
        {
         "line": {
          "color": "mediumaquamarine",
          "shape": "spline",
          "width": 1
         },
         "mode": "lines",
         "type": "scatter",
         "x": [
          0.12556425051847703,
          -0.030996759294375443,
          null
         ],
         "y": [
          0.08122592568284567,
          0.37447533498719976,
          null
         ]
        },
        {
         "line": {
          "color": "mediumaquamarine",
          "shape": "spline",
          "width": 1
         },
         "mode": "lines",
         "type": "scatter",
         "x": [
          0.12556425051847703,
          -0.09525654737371206,
          null
         ],
         "y": [
          0.08122592568284567,
          0.350641540187102,
          null
         ]
        },
        {
         "line": {
          "color": "mediumaquamarine",
          "shape": "spline",
          "width": 1
         },
         "mode": "lines",
         "type": "scatter",
         "x": [
          0.12556425051847703,
          -0.030868636292583927,
          null
         ],
         "y": [
          0.08122592568284567,
          0.378117451449038,
          null
         ]
        },
        {
         "line": {
          "color": "mediumaquamarine",
          "shape": "spline",
          "width": 1
         },
         "mode": "lines",
         "type": "scatter",
         "x": [
          0.12556425051847703,
          -0.32710379200727635,
          null
         ],
         "y": [
          0.08122592568284567,
          0.02585505311443355,
          null
         ]
        },
        {
         "line": {
          "color": "mediumaquamarine",
          "shape": "spline",
          "width": 1
         },
         "mode": "lines",
         "type": "scatter",
         "x": [
          0.12556425051847703,
          0.27871331852236975,
          null
         ],
         "y": [
          0.08122592568284567,
          -0.18985035756394322,
          null
         ]
        },
        {
         "line": {
          "color": "mediumaquamarine",
          "shape": "spline",
          "width": 1
         },
         "mode": "lines",
         "type": "scatter",
         "x": [
          0.12556425051847703,
          0.48681380410668107,
          null
         ],
         "y": [
          0.08122592568284567,
          -0.18944876792558707,
          null
         ]
        },
        {
         "line": {
          "color": "mediumaquamarine",
          "shape": "spline",
          "width": 1.189207115002721
         },
         "mode": "lines",
         "type": "scatter",
         "x": [
          0.12556425051847703,
          -0.407030296784562,
          null
         ],
         "y": [
          0.08122592568284567,
          -0.17496591204824347,
          null
         ]
        },
        {
         "line": {
          "color": "mediumaquamarine",
          "shape": "spline",
          "width": 1
         },
         "mode": "lines",
         "type": "scatter",
         "x": [
          0.12556425051847703,
          0.03418312371220912,
          null
         ],
         "y": [
          0.08122592568284567,
          0.39563047263382056,
          null
         ]
        },
        {
         "line": {
          "color": "mediumaquamarine",
          "shape": "spline",
          "width": 1
         },
         "mode": "lines",
         "type": "scatter",
         "x": [
          0.12556425051847703,
          0.4868363797217803,
          null
         ],
         "y": [
          0.08122592568284567,
          -0.18939457976605625,
          null
         ]
        },
        {
         "line": {
          "color": "mediumaquamarine",
          "shape": "spline",
          "width": 1
         },
         "mode": "lines",
         "type": "scatter",
         "x": [
          0.03451360324132861,
          0.03418312371220912,
          null
         ],
         "y": [
          0.14189004114256581,
          0.39563047263382056,
          null
         ]
        },
        {
         "line": {
          "color": "mediumaquamarine",
          "shape": "spline",
          "width": 1
         },
         "mode": "lines",
         "type": "scatter",
         "x": [
          0.009484332426199284,
          0.12556425051847703,
          null
         ],
         "y": [
          -0.14452211264767117,
          0.08122592568284567,
          null
         ]
        },
        {
         "line": {
          "color": "mediumaquamarine",
          "shape": "spline",
          "width": 1.189207115002721
         },
         "mode": "lines",
         "type": "scatter",
         "x": [
          0.009484332426199284,
          -0.407030296784562,
          null
         ],
         "y": [
          -0.14452211264767117,
          -0.17496591204824347,
          null
         ]
        },
        {
         "line": {
          "color": "mediumaquamarine",
          "shape": "spline",
          "width": 1
         },
         "mode": "lines",
         "type": "scatter",
         "x": [
          -0.11248906376126197,
          0.1404998750839004,
          null
         ],
         "y": [
          0.19278624176704592,
          0.17326930648864708,
          null
         ]
        },
        {
         "line": {
          "color": "mediumaquamarine",
          "shape": "spline",
          "width": 1
         },
         "mode": "lines",
         "type": "scatter",
         "x": [
          -0.08726767189468829,
          -0.21601950527218683,
          null
         ],
         "y": [
          0.2961794106274135,
          0.07745875231172576,
          null
         ]
        },
        {
         "line": {
          "color": "mediumaquamarine",
          "shape": "spline",
          "width": 1
         },
         "mode": "lines",
         "type": "scatter",
         "x": [
          -0.09525654737371206,
          0.03418312371220912,
          null
         ],
         "y": [
          0.350641540187102,
          0.39563047263382056,
          null
         ]
        },
        {
         "line": {
          "color": "mediumaquamarine",
          "shape": "spline",
          "width": 1.189207115002721
         },
         "mode": "lines",
         "type": "scatter",
         "x": [
          -0.030868636292583927,
          -0.1341978888014287,
          null
         ],
         "y": [
          0.378117451449038,
          0.9366341301021904,
          null
         ]
        },
        {
         "line": {
          "color": "mediumaquamarine",
          "shape": "spline",
          "width": 1
         },
         "mode": "lines",
         "type": "scatter",
         "x": [
          0.025395395580866533,
          0.12556425051847703,
          null
         ],
         "y": [
          -0.14209702578135142,
          0.08122592568284567,
          null
         ]
        },
        {
         "line": {
          "color": "mediumaquamarine",
          "shape": "spline",
          "width": 1
         },
         "mode": "lines",
         "type": "scatter",
         "x": [
          0.02540135584104194,
          0.12556425051847703,
          null
         ],
         "y": [
          -0.14208423721303345,
          0.08122592568284567,
          null
         ]
        },
        {
         "line": {
          "color": "mediumaquamarine",
          "shape": "spline",
          "width": 1.4142135623730951
         },
         "mode": "lines",
         "type": "scatter",
         "x": [
          -0.32710379200727635,
          0.12556425051847703,
          null
         ],
         "y": [
          0.02585505311443355,
          0.08122592568284567,
          null
         ]
        },
        {
         "line": {
          "color": "mediumaquamarine",
          "shape": "spline",
          "width": 1
         },
         "mode": "lines",
         "type": "scatter",
         "x": [
          -0.32710379200727635,
          -0.407030296784562,
          null
         ],
         "y": [
          0.02585505311443355,
          -0.17496591204824347,
          null
         ]
        },
        {
         "line": {
          "color": "mediumaquamarine",
          "shape": "spline",
          "width": 1
         },
         "mode": "lines",
         "type": "scatter",
         "x": [
          -0.0694837091903562,
          0.12556425051847703,
          null
         ],
         "y": [
          -0.14840518717800572,
          0.08122592568284567,
          null
         ]
        },
        {
         "line": {
          "color": "mediumaquamarine",
          "shape": "spline",
          "width": 1
         },
         "mode": "lines",
         "type": "scatter",
         "x": [
          -0.0694837091903562,
          0.15509852986688152,
          null
         ],
         "y": [
          -0.14840518717800572,
          -0.266683929101483,
          null
         ]
        },
        {
         "line": {
          "color": "mediumaquamarine",
          "shape": "spline",
          "width": 1
         },
         "mode": "lines",
         "type": "scatter",
         "x": [
          -0.0694837091903562,
          -0.407030296784562,
          null
         ],
         "y": [
          -0.14840518717800572,
          -0.17496591204824347,
          null
         ]
        },
        {
         "line": {
          "color": "mediumaquamarine",
          "shape": "spline",
          "width": 1
         },
         "mode": "lines",
         "type": "scatter",
         "x": [
          0.02538657629377427,
          0.12556425051847703,
          null
         ],
         "y": [
          -0.14211095518138617,
          0.08122592568284567,
          null
         ]
        },
        {
         "line": {
          "color": "mediumaquamarine",
          "shape": "spline",
          "width": 1
         },
         "mode": "lines",
         "type": "scatter",
         "x": [
          0.025386534787018526,
          0.12556425051847703,
          null
         ],
         "y": [
          -0.14211295557347575,
          0.08122592568284567,
          null
         ]
        },
        {
         "line": {
          "color": "mediumaquamarine",
          "shape": "spline",
          "width": 1
         },
         "mode": "lines",
         "type": "scatter",
         "x": [
          -0.4371472076950761,
          -0.407030296784562,
          null
         ],
         "y": [
          -0.44609317203244425,
          -0.17496591204824347,
          null
         ]
        },
        {
         "line": {
          "color": "mediumaquamarine",
          "shape": "spline",
          "width": 1
         },
         "mode": "lines",
         "type": "scatter",
         "x": [
          -0.12254878898013782,
          -0.26935460953291956,
          null
         ],
         "y": [
          -0.24247820549908794,
          -0.035455048820548306,
          null
         ]
        },
        {
         "line": {
          "color": "mediumaquamarine",
          "shape": "spline",
          "width": 1
         },
         "mode": "lines",
         "type": "scatter",
         "x": [
          -0.050946437299762046,
          -0.2537822852458737,
          null
         ],
         "y": [
          -0.2789843827704257,
          -0.12639374181303822,
          null
         ]
        },
        {
         "line": {
          "color": "mediumaquamarine",
          "shape": "spline",
          "width": 1
         },
         "mode": "lines",
         "type": "scatter",
         "x": [
          -0.10787959604795998,
          -0.06992336700034084,
          null
         ],
         "y": [
          -0.43917600314951377,
          -0.1586829777366672,
          null
         ]
        },
        {
         "line": {
          "color": "mediumaquamarine",
          "shape": "spline",
          "width": 1
         },
         "mode": "lines",
         "type": "scatter",
         "x": [
          -0.10787959604795998,
          -0.10787959604795998,
          null
         ],
         "y": [
          -0.43917600314951377,
          -0.43917600314951377,
          null
         ]
        },
        {
         "line": {
          "color": "mediumaquamarine",
          "shape": "spline",
          "width": 1
         },
         "mode": "lines",
         "type": "scatter",
         "x": [
          -0.10787959604795998,
          0.1151534690336601,
          null
         ],
         "y": [
          -0.43917600314951377,
          -0.3178952587389406,
          null
         ]
        },
        {
         "line": {
          "color": "mediumaquamarine",
          "shape": "spline",
          "width": 1
         },
         "mode": "lines",
         "type": "scatter",
         "x": [
          -0.09498032549867211,
          -0.031075821273408046,
          null
         ],
         "y": [
          0.1287225936816323,
          0.3744150226821672,
          null
         ]
        },
        {
         "line": {
          "color": "mediumaquamarine",
          "shape": "spline",
          "width": 1
         },
         "mode": "lines",
         "type": "scatter",
         "x": [
          0.025388400590996906,
          0.12556425051847703,
          null
         ],
         "y": [
          -0.14210652699153953,
          0.08122592568284567,
          null
         ]
        },
        {
         "line": {
          "color": "mediumaquamarine",
          "shape": "spline",
          "width": 1
         },
         "mode": "lines",
         "type": "scatter",
         "x": [
          0.025388839953283945,
          0.12556425051847703,
          null
         ],
         "y": [
          -0.14210342517779273,
          0.08122592568284567,
          null
         ]
        },
        {
         "line": {
          "color": "mediumaquamarine",
          "shape": "spline",
          "width": 1
         },
         "mode": "lines",
         "type": "scatter",
         "x": [
          0.27871331852236975,
          0.12556425051847703,
          null
         ],
         "y": [
          -0.18985035756394322,
          0.08122592568284567,
          null
         ]
        },
        {
         "line": {
          "color": "mediumaquamarine",
          "shape": "spline",
          "width": 1
         },
         "mode": "lines",
         "type": "scatter",
         "x": [
          0.27871331852236975,
          0.27871331852236975,
          null
         ],
         "y": [
          -0.18985035756394322,
          -0.18985035756394322,
          null
         ]
        },
        {
         "line": {
          "color": "mediumaquamarine",
          "shape": "spline",
          "width": 1
         },
         "mode": "lines",
         "type": "scatter",
         "x": [
          -0.407030296784562,
          -0.18068395434277848,
          null
         ],
         "y": [
          -0.17496591204824347,
          0.13452358267925332,
          null
         ]
        },
        {
         "line": {
          "color": "mediumaquamarine",
          "shape": "spline",
          "width": 1.9343364202676694
         },
         "mode": "lines",
         "type": "scatter",
         "x": [
          -0.407030296784562,
          0.12556425051847703,
          null
         ],
         "y": [
          -0.17496591204824347,
          0.08122592568284567,
          null
         ]
        },
        {
         "line": {
          "color": "mediumaquamarine",
          "shape": "spline",
          "width": 1.189207115002721
         },
         "mode": "lines",
         "type": "scatter",
         "x": [
          -0.407030296784562,
          -0.9633708590812551,
          null
         ],
         "y": [
          -0.17496591204824347,
          -0.436379450482141,
          null
         ]
        },
        {
         "line": {
          "color": "mediumaquamarine",
          "shape": "spline",
          "width": 1
         },
         "mode": "lines",
         "type": "scatter",
         "x": [
          -0.407030296784562,
          -0.32710379200727635,
          null
         ],
         "y": [
          -0.17496591204824347,
          0.02585505311443355,
          null
         ]
        },
        {
         "line": {
          "color": "mediumaquamarine",
          "shape": "spline",
          "width": 1.7320508075688772
         },
         "mode": "lines",
         "type": "scatter",
         "x": [
          -0.407030296784562,
          -0.407030296784562,
          null
         ],
         "y": [
          -0.17496591204824347,
          -0.17496591204824347,
          null
         ]
        },
        {
         "line": {
          "color": "mediumaquamarine",
          "shape": "spline",
          "width": 1.3160740129524924
         },
         "mode": "lines",
         "type": "scatter",
         "x": [
          -0.407030296784562,
          0.03418312371220912,
          null
         ],
         "y": [
          -0.17496591204824347,
          0.39563047263382056,
          null
         ]
        },
        {
         "line": {
          "color": "mediumaquamarine",
          "shape": "spline",
          "width": 1.189207115002721
         },
         "mode": "lines",
         "type": "scatter",
         "x": [
          0.08310057839459586,
          0.03418312371220912,
          null
         ],
         "y": [
          -0.110585128120345,
          0.39563047263382056,
          null
         ]
        },
        {
         "line": {
          "color": "mediumaquamarine",
          "shape": "spline",
          "width": 1
         },
         "mode": "lines",
         "type": "scatter",
         "x": [
          0.08858173915217561,
          0.27871331852236975,
          null
         ],
         "y": [
          -0.4319334871329036,
          -0.18985035756394322,
          null
         ]
        },
        {
         "line": {
          "color": "mediumaquamarine",
          "shape": "spline",
          "width": 1
         },
         "mode": "lines",
         "type": "scatter",
         "x": [
          0.3764390337037802,
          0.12556425051847703,
          null
         ],
         "y": [
          0.17276394050591218,
          0.08122592568284567,
          null
         ]
        },
        {
         "line": {
          "color": "mediumaquamarine",
          "shape": "spline",
          "width": 1
         },
         "mode": "lines",
         "type": "scatter",
         "x": [
          0.3764390337037802,
          0.3764390337037802,
          null
         ],
         "y": [
          0.17276394050591218,
          0.17276394050591218,
          null
         ]
        },
        {
         "line": {
          "color": "mediumaquamarine",
          "shape": "spline",
          "width": 1
         },
         "mode": "lines",
         "type": "scatter",
         "x": [
          0.3764310909335287,
          0.12556425051847703,
          null
         ],
         "y": [
          0.1727513785333494,
          0.08122592568284567,
          null
         ]
        },
        {
         "line": {
          "color": "mediumaquamarine",
          "shape": "spline",
          "width": 1
         },
         "mode": "lines",
         "type": "scatter",
         "x": [
          -0.07997863548732125,
          -0.32710379200727635,
          null
         ],
         "y": [
          -0.28815234122253053,
          0.02585505311443355,
          null
         ]
        },
        {
         "line": {
          "color": "mediumaquamarine",
          "shape": "spline",
          "width": 1
         },
         "mode": "lines",
         "type": "scatter",
         "x": [
          -0.07997863548732125,
          0.27871331852236975,
          null
         ],
         "y": [
          -0.28815234122253053,
          -0.18985035756394322,
          null
         ]
        },
        {
         "line": {
          "color": "mediumaquamarine",
          "shape": "spline",
          "width": 1
         },
         "mode": "lines",
         "type": "scatter",
         "x": [
          0.2351194245767656,
          0.2351194245767656,
          null
         ],
         "y": [
          -0.10259211587357765,
          -0.10259211587357765,
          null
         ]
        },
        {
         "line": {
          "color": "mediumaquamarine",
          "shape": "spline",
          "width": 1
         },
         "mode": "lines",
         "type": "scatter",
         "x": [
          -0.43658049270669186,
          -0.407030296784562,
          null
         ],
         "y": [
          -0.44631197061437455,
          -0.17496591204824347,
          null
         ]
        },
        {
         "line": {
          "color": "mediumaquamarine",
          "shape": "spline",
          "width": 1
         },
         "mode": "lines",
         "type": "scatter",
         "x": [
          0.3765044119879617,
          0.12556425051847703,
          null
         ],
         "y": [
          0.17287428543086658,
          0.08122592568284567,
          null
         ]
        },
        {
         "hovertemplate": [
          "202001Chris Murphy",
          "202001Chris Van Hollen",
          "202001Bill Clinton",
          "202001Darrell Issa",
          "202001David Plouffe",
          "202001Mick Mulvaney",
          "202001Joe Scarborough",
          "202001Ed Markey",
          "202001Jennifer Horn",
          "202001Jeff Merkley",
          "202001Toni Atkins",
          "202001David Jolly",
          "202001John Dean",
          "202001Mazie Hirono",
          "202001Nury Martinez",
          "202001Nancy Pelosi",
          "202001Jennifer Palmieri",
          "202001Trey Gowdy",
          "202001Steve Bartlett",
          "202001Steve Scalise",
          "202001Pramila Jayapal",
          "202001Mark Pocan",
          "202001Richard Blumenthal",
          "202001Paul Gosar",
          "202001Rudy Giuliani",
          "202001Rick Perry",
          "202001Zoe Lofgren",
          "202001Jackie Speier",
          "202001Lindsey Graham",
          "202001Kirsten Gillibrand",
          "202001Amy Klobuchar",
          "202001Claire McCaskill",
          "202001Olympia Snowe",
          "202001Donald Trump",
          "202001Mike Pence",
          "202001Jeanne Shaheen",
          "202001Jon Ossoff",
          "202001Tammy Duckworth",
          "202001Karl Rove",
          "202001John R. Bolton",
          "202001Marianne Williamson",
          "202001Marco Rubio",
          "202001Tulsi Gabbard",
          "202001Rex Tillerson",
          "202001Adam Schiff",
          "202001Mitch McConnell",
          "202001Chuck Schumer",
          "202001Ann McLane Kuster",
          "202001Mark Randall Meadows",
          "202001Kevin Cramer",
          "202001Lamar Alexander",
          "202001Elizabeth Warren",
          "202001Rick Scott",
          "202001Mitt Romney",
          "202001Carolyn Maloney",
          "202001Gavin Newsom",
          "202001Rand Paul",
          "202001Mike Pompeo",
          "202001Marie Newman",
          "202001Carl DeMaio",
          "202001Chris Pappas"
         ],
         "marker": {
          "color": [
           "blue",
           "blue",
           "blue",
           "blue",
           "blue",
           "blue",
           "blue",
           "blue",
           "blue",
           "blue",
           "blue",
           "blue",
           "blue",
           "blue",
           "blue",
           "blue",
           "blue",
           "blue",
           "blue",
           "blue",
           "blue",
           "blue",
           "blue",
           "blue",
           "blue",
           "blue",
           "blue",
           "blue",
           "blue",
           "blue",
           "red",
           "red",
           "red",
           "red",
           "red",
           "red",
           "red",
           "red",
           "red",
           "red",
           "red",
           "red",
           "red",
           "red",
           "red",
           "red",
           "red",
           "red",
           "red",
           "red",
           "red",
           "red",
           "red",
           "red",
           "red",
           "red",
           "red",
           "red",
           "red",
           "red",
           "red"
          ],
          "line": {
           "color": [
            "blue",
            "blue",
            "blue",
            "blue",
            "blue",
            "blue",
            "blue",
            "blue",
            "blue",
            "blue",
            "blue",
            "blue",
            "blue",
            "blue",
            "blue",
            "blue",
            "blue",
            "blue",
            "blue",
            "blue",
            "blue",
            "blue",
            "blue",
            "blue",
            "blue",
            "blue",
            "blue",
            "blue",
            "blue",
            "blue",
            "red",
            "red",
            "red",
            "red",
            "red",
            "red",
            "red",
            "red",
            "red",
            "red",
            "red",
            "red",
            "red",
            "red",
            "red",
            "red",
            "red",
            "red",
            "red",
            "red",
            "red",
            "red",
            "red",
            "red",
            "red",
            "red",
            "red",
            "red",
            "red",
            "red",
            "red"
           ],
           "width": 2
          },
          "size": 15
         },
         "mode": "markers",
         "type": "scatter",
         "x": [
          -0.06992336700034084,
          0.11493020163084758,
          0.25099278596533997,
          0.4868409919390241,
          0.37652346402589504,
          -0.06949913220490775,
          0.3765116345964723,
          0.1404998750839004,
          -0.18068395434277848,
          0.2000176015052409,
          0.37652375832850443,
          0.24753679781055724,
          0.002350141299245145,
          -1,
          -0.012430188028066343,
          -0.03965275375338926,
          0.12556425051847703,
          0.03451360324132861,
          -0.031075821273408046,
          -0.030994664803139393,
          -0.030996759294375443,
          0.009484332426199284,
          -0.11248906376126197,
          -0.08726767189468829,
          -0.21601950527218683,
          -0.09525654737371206,
          -0.030868636292583927,
          0.025395395580866533,
          -0.9633708590812551,
          0.02540135584104194,
          -0.32710379200727635,
          -0.0694837091903562,
          0.02538657629377427,
          -0.26935460953291956,
          0.025386534787018526,
          -0.4371472076950761,
          -0.1341978888014287,
          -0.1238258914100189,
          -0.2537822852458737,
          -0.10224256406625327,
          -0.12254878898013782,
          -0.050946437299762046,
          -0.10787959604795998,
          -0.09498032549867211,
          0.025388400590996906,
          0.025388839953283945,
          0.27871331852236975,
          0.15509852986688152,
          0.48681380410668107,
          -0.407030296784562,
          0.08310057839459586,
          0.08858173915217561,
          0.3764390337037802,
          0.3764310909335287,
          -0.07997863548732125,
          0.1151534690336601,
          0.03418312371220912,
          0.2351194245767656,
          0.4868363797217803,
          -0.43658049270669186,
          0.3765044119879617
         ],
         "y": [
          -0.1586829777366672,
          -0.037230153504011286,
          0.05239933473186786,
          -0.18938320795122363,
          0.17290046169792567,
          -0.14839745485457323,
          0.1728819139682018,
          0.17326930648864708,
          0.13452358267925332,
          0.18886598828034948,
          0.17290334224943787,
          0.35224335246371696,
          0.2066631712898084,
          -0.008553954498802903,
          0.14637995491470235,
          0.27236542302965105,
          0.08122592568284567,
          0.14189004114256581,
          0.3744150226821672,
          0.3744761083588138,
          0.37447533498719976,
          -0.14452211264767117,
          0.19278624176704592,
          0.2961794106274135,
          0.07745875231172576,
          0.350641540187102,
          0.378117451449038,
          -0.14209702578135142,
          -0.436379450482141,
          -0.14208423721303345,
          0.02585505311443355,
          -0.14840518717800572,
          -0.14211095518138617,
          -0.035455048820548306,
          -0.14211295557347575,
          -0.44609317203244425,
          0.9366341301021904,
          -0.12321821603927363,
          -0.12639374181303822,
          -0.16851127198769233,
          -0.24247820549908794,
          -0.2789843827704257,
          -0.43917600314951377,
          0.1287225936816323,
          -0.14210652699153953,
          -0.14210342517779273,
          -0.18985035756394322,
          -0.266683929101483,
          -0.18944876792558707,
          -0.17496591204824347,
          -0.110585128120345,
          -0.4319334871329036,
          0.17276394050591218,
          0.1727513785333494,
          -0.28815234122253053,
          -0.3178952587389406,
          0.39563047263382056,
          -0.10259211587357765,
          -0.18939457976605625,
          -0.44631197061437455,
          0.17287428543086658
         ]
        },
        {
         "line": {
          "color": "mediumaquamarine",
          "shape": "spline",
          "width": 1
         },
         "mode": "lines",
         "type": "scatter",
         "x": [
          0.4201351639696622,
          0.4201351639696622,
          null
         ],
         "y": [
          0.0010301855287867083,
          0.0010301855287867083,
          null
         ]
        },
        {
         "line": {
          "color": "mediumaquamarine",
          "shape": "spline",
          "width": 1
         },
         "mode": "lines",
         "type": "scatter",
         "x": [
          0.32215712056554696,
          -0.03378812295016482,
          null
         ],
         "y": [
          0.14853740007011065,
          0.35314815537662775,
          null
         ]
        },
        {
         "line": {
          "color": "mediumaquamarine",
          "shape": "spline",
          "width": 1
         },
         "mode": "lines",
         "type": "scatter",
         "x": [
          0.34015685819077396,
          0.1997361191962242,
          null
         ],
         "y": [
          0.09401661480229888,
          -0.2917928446258578,
          null
         ]
        },
        {
         "line": {
          "color": "mediumaquamarine",
          "shape": "spline",
          "width": 1
         },
         "mode": "lines",
         "type": "scatter",
         "x": [
          0.20265265079415853,
          -0.200161935582182,
          null
         ],
         "y": [
          -0.17764868685999663,
          -0.0967134099410691,
          null
         ]
        },
        {
         "line": {
          "color": "mediumaquamarine",
          "shape": "spline",
          "width": 1
         },
         "mode": "lines",
         "type": "scatter",
         "x": [
          0.2018935874533882,
          -0.200161935582182,
          null
         ],
         "y": [
          -0.18111574164294217,
          -0.0967134099410691,
          null
         ]
        },
        {
         "line": {
          "color": "mediumaquamarine",
          "shape": "spline",
          "width": 1
         },
         "mode": "lines",
         "type": "scatter",
         "x": [
          -0.23306525341995016,
          -0.200161935582182,
          null
         ],
         "y": [
          0.31151184950558364,
          -0.0967134099410691,
          null
         ]
        },
        {
         "line": {
          "color": "mediumaquamarine",
          "shape": "spline",
          "width": 1
         },
         "mode": "lines",
         "type": "scatter",
         "x": [
          -0.23306525341995016,
          -0.5778881979515358,
          null
         ],
         "y": [
          0.31151184950558364,
          0.08196544330714987,
          null
         ]
        },
        {
         "line": {
          "color": "mediumaquamarine",
          "shape": "spline",
          "width": 1.4142135623730951
         },
         "mode": "lines",
         "type": "scatter",
         "x": [
          -0.200161935582182,
          -0.200161935582182,
          null
         ],
         "y": [
          -0.0967134099410691,
          -0.0967134099410691,
          null
         ]
        },
        {
         "line": {
          "color": "mediumaquamarine",
          "shape": "spline",
          "width": 1
         },
         "mode": "lines",
         "type": "scatter",
         "x": [
          -0.200161935582182,
          -0.5778881979515358,
          null
         ],
         "y": [
          -0.0967134099410691,
          0.08196544330714987,
          null
         ]
        },
        {
         "line": {
          "color": "mediumaquamarine",
          "shape": "spline",
          "width": 1
         },
         "mode": "lines",
         "type": "scatter",
         "x": [
          -0.23294403792209087,
          -0.200161935582182,
          null
         ],
         "y": [
          0.31144598554227476,
          -0.0967134099410691,
          null
         ]
        },
        {
         "line": {
          "color": "mediumaquamarine",
          "shape": "spline",
          "width": 1
         },
         "mode": "lines",
         "type": "scatter",
         "x": [
          -0.23294403792209087,
          -0.5778881979515358,
          null
         ],
         "y": [
          0.31144598554227476,
          0.08196544330714987,
          null
         ]
        },
        {
         "line": {
          "color": "mediumaquamarine",
          "shape": "spline",
          "width": 1
         },
         "mode": "lines",
         "type": "scatter",
         "x": [
          -0.28056944759960195,
          -0.463450609781581,
          null
         ],
         "y": [
          0.37050530261903564,
          0.0029216295330042217,
          null
         ]
        },
        {
         "line": {
          "color": "mediumaquamarine",
          "shape": "spline",
          "width": 1
         },
         "mode": "lines",
         "type": "scatter",
         "x": [
          -0.4159795594281268,
          -0.4159795594281268,
          null
         ],
         "y": [
          0.04793765951446853,
          0.04793765951446853,
          null
         ]
        },
        {
         "line": {
          "color": "mediumaquamarine",
          "shape": "spline",
          "width": 1
         },
         "mode": "lines",
         "type": "scatter",
         "x": [
          0.205119352799749,
          -0.200161935582182,
          null
         ],
         "y": [
          -0.1659067370886455,
          -0.0967134099410691,
          null
         ]
        },
        {
         "line": {
          "color": "mediumaquamarine",
          "shape": "spline",
          "width": 1
         },
         "mode": "lines",
         "type": "scatter",
         "x": [
          -0.19150112132268363,
          -0.5778881979515358,
          null
         ],
         "y": [
          0.21828054209133022,
          0.08196544330714987,
          null
         ]
        },
        {
         "line": {
          "color": "mediumaquamarine",
          "shape": "spline",
          "width": 1.189207115002721
         },
         "mode": "lines",
         "type": "scatter",
         "x": [
          0.5945596944866242,
          -0.200161935582182,
          null
         ],
         "y": [
          -0.30443604663400076,
          -0.0967134099410691,
          null
         ]
        },
        {
         "line": {
          "color": "mediumaquamarine",
          "shape": "spline",
          "width": 1
         },
         "mode": "lines",
         "type": "scatter",
         "x": [
          0.20580782343547047,
          -0.200161935582182,
          null
         ],
         "y": [
          -0.16223764687423267,
          -0.0967134099410691,
          null
         ]
        },
        {
         "line": {
          "color": "mediumaquamarine",
          "shape": "spline",
          "width": 1
         },
         "mode": "lines",
         "type": "scatter",
         "x": [
          0.2088997705256518,
          -0.200161935582182,
          null
         ],
         "y": [
          -0.14412388966045314,
          -0.0967134099410691,
          null
         ]
        },
        {
         "line": {
          "color": "mediumaquamarine",
          "shape": "spline",
          "width": 1
         },
         "mode": "lines",
         "type": "scatter",
         "x": [
          0.0617338464866835,
          0.17170561257589248,
          null
         ],
         "y": [
          -0.12329102521417169,
          0.27233158490680537,
          null
         ]
        },
        {
         "line": {
          "color": "mediumaquamarine",
          "shape": "spline",
          "width": 1
         },
         "mode": "lines",
         "type": "scatter",
         "x": [
          0.0617338464866835,
          -0.17213142030285225,
          null
         ],
         "y": [
          -0.12329102521417169,
          0.21418588235435865,
          null
         ]
        },
        {
         "line": {
          "color": "mediumaquamarine",
          "shape": "spline",
          "width": 1
         },
         "mode": "lines",
         "type": "scatter",
         "x": [
          0.0617338464866835,
          -0.2183437035549335,
          null
         ],
         "y": [
          -0.12329102521417169,
          -0.4234825603814944,
          null
         ]
        },
        {
         "line": {
          "color": "mediumaquamarine",
          "shape": "spline",
          "width": 1
         },
         "mode": "lines",
         "type": "scatter",
         "x": [
          0.0617338464866835,
          0.0617338464866835,
          null
         ],
         "y": [
          -0.12329102521417169,
          -0.12329102521417169,
          null
         ]
        },
        {
         "line": {
          "color": "mediumaquamarine",
          "shape": "spline",
          "width": 1
         },
         "mode": "lines",
         "type": "scatter",
         "x": [
          0.0617338464866835,
          0.47180668363345907,
          null
         ],
         "y": [
          -0.12329102521417169,
          -0.1018705165419691,
          null
         ]
        },
        {
         "line": {
          "color": "mediumaquamarine",
          "shape": "spline",
          "width": 1
         },
         "mode": "lines",
         "type": "scatter",
         "x": [
          -0.5778881979515358,
          -1,
          null
         ],
         "y": [
          0.08196544330714987,
          0.05881624853666161,
          null
         ]
        },
        {
         "line": {
          "color": "mediumaquamarine",
          "shape": "spline",
          "width": 1
         },
         "mode": "lines",
         "type": "scatter",
         "x": [
          -0.5778881979515358,
          -0.5778881979515358,
          null
         ],
         "y": [
          0.08196544330714987,
          0.08196544330714987,
          null
         ]
        },
        {
         "line": {
          "color": "mediumaquamarine",
          "shape": "spline",
          "width": 1
         },
         "mode": "lines",
         "type": "scatter",
         "x": [
          0.20823424736133037,
          -0.200161935582182,
          null
         ],
         "y": [
          -0.14843675747453622,
          -0.0967134099410691,
          null
         ]
        },
        {
         "line": {
          "color": "mediumaquamarine",
          "shape": "spline",
          "width": 1
         },
         "mode": "lines",
         "type": "scatter",
         "x": [
          0.20522487834108755,
          -0.200161935582182,
          null
         ],
         "y": [
          -0.16557862074912752,
          -0.0967134099410691,
          null
         ]
        },
        {
         "hovertemplate": [
          "202001Chris Murphy",
          "202001Chris Van Hollen",
          "202001Bill Clinton",
          "202001Darrell Issa",
          "202001David Plouffe",
          "202001Mick Mulvaney",
          "202001Joe Scarborough",
          "202001Ed Markey",
          "202001Jennifer Horn",
          "202001Jeff Merkley",
          "202001Toni Atkins",
          "202001David Jolly",
          "202001John Dean",
          "202001Mazie Hirono",
          "202001Nury Martinez",
          "202001Nancy Pelosi",
          "202001Jennifer Palmieri",
          "202001Trey Gowdy",
          "202001Steve Bartlett",
          "202001Steve Scalise",
          "202001Pramila Jayapal",
          "202001Mark Pocan",
          "202001Richard Blumenthal",
          "202001Paul Gosar",
          "202001Rudy Giuliani",
          "202001Rick Perry",
          "202001Zoe Lofgren"
         ],
         "marker": {
          "color": [
           "blue",
           "blue",
           "blue",
           "blue",
           "blue",
           "blue",
           "blue",
           "blue",
           "blue",
           "blue",
           "blue",
           "blue",
           "blue",
           "red",
           "red",
           "red",
           "red",
           "red",
           "red",
           "red",
           "red",
           "red",
           "red",
           "red",
           "red",
           "red",
           "red"
          ],
          "line": {
           "color": [
            "blue",
            "blue",
            "blue",
            "blue",
            "blue",
            "blue",
            "blue",
            "blue",
            "blue",
            "blue",
            "blue",
            "blue",
            "blue",
            "red",
            "red",
            "red",
            "red",
            "red",
            "red",
            "red",
            "red",
            "red",
            "red",
            "red",
            "red",
            "red",
            "red"
           ],
           "width": 2
          },
          "size": 15
         },
         "mode": "markers",
         "type": "scatter",
         "x": [
          0.4201351639696622,
          0.32215712056554696,
          0.34015685819077396,
          0.20265265079415853,
          0.2018935874533882,
          0.17170561257589248,
          -0.23306525341995016,
          -0.200161935582182,
          -0.03378812295016482,
          -0.17213142030285225,
          -0.23294403792209087,
          -0.28056944759960195,
          -0.463450609781581,
          -0.4159795594281268,
          0.205119352799749,
          -0.19150112132268363,
          -1,
          0.5945596944866242,
          0.20580782343547047,
          -0.2183437035549335,
          0.2088997705256518,
          0.0617338464866835,
          0.1997361191962242,
          -0.5778881979515358,
          0.20823424736133037,
          0.20522487834108755,
          0.47180668363345907
         ],
         "y": [
          0.0010301855287867083,
          0.14853740007011065,
          0.09401661480229888,
          -0.17764868685999663,
          -0.18111574164294217,
          0.27233158490680537,
          0.31151184950558364,
          -0.0967134099410691,
          0.35314815537662775,
          0.21418588235435865,
          0.31144598554227476,
          0.37050530261903564,
          0.0029216295330042217,
          0.04793765951446853,
          -0.1659067370886455,
          0.21828054209133022,
          0.05881624853666161,
          -0.30443604663400076,
          -0.16223764687423267,
          -0.4234825603814944,
          -0.14412388966045314,
          -0.12329102521417169,
          -0.2917928446258578,
          0.08196544330714987,
          -0.14843675747453622,
          -0.16557862074912752,
          -0.1018705165419691
         ]
        }
       ],
       "layout": {
        "height": 1000,
        "hovermode": "closest",
        "margin": {
         "t": 100
        },
        "paper_bgcolor": "rgba(255,255,255,255)",
        "plot_bgcolor": "rgba(0,0,0,0)",
        "scene": {
         "xaxis": {
          "showbackground": false,
          "showgrid": false,
          "showline": false,
          "showticklabels": false,
          "title": {
           "text": ""
          },
          "visible": false,
          "zeroline": false
         },
         "yaxis": {
          "showbackground": false,
          "showgrid": false,
          "showline": false,
          "showticklabels": false,
          "title": {
           "text": ""
          },
          "visible": false,
          "zeroline": false
         }
        },
        "showlegend": false,
        "template": {
         "data": {
          "bar": [
           {
            "error_x": {
             "color": "#2a3f5f"
            },
            "error_y": {
             "color": "#2a3f5f"
            },
            "marker": {
             "line": {
              "color": "#E5ECF6",
              "width": 0.5
             },
             "pattern": {
              "fillmode": "overlay",
              "size": 10,
              "solidity": 0.2
             }
            },
            "type": "bar"
           }
          ],
          "barpolar": [
           {
            "marker": {
             "line": {
              "color": "#E5ECF6",
              "width": 0.5
             },
             "pattern": {
              "fillmode": "overlay",
              "size": 10,
              "solidity": 0.2
             }
            },
            "type": "barpolar"
           }
          ],
          "carpet": [
           {
            "aaxis": {
             "endlinecolor": "#2a3f5f",
             "gridcolor": "white",
             "linecolor": "white",
             "minorgridcolor": "white",
             "startlinecolor": "#2a3f5f"
            },
            "baxis": {
             "endlinecolor": "#2a3f5f",
             "gridcolor": "white",
             "linecolor": "white",
             "minorgridcolor": "white",
             "startlinecolor": "#2a3f5f"
            },
            "type": "carpet"
           }
          ],
          "choropleth": [
           {
            "colorbar": {
             "outlinewidth": 0,
             "ticks": ""
            },
            "type": "choropleth"
           }
          ],
          "contour": [
           {
            "colorbar": {
             "outlinewidth": 0,
             "ticks": ""
            },
            "colorscale": [
             [
              0,
              "#0d0887"
             ],
             [
              0.1111111111111111,
              "#46039f"
             ],
             [
              0.2222222222222222,
              "#7201a8"
             ],
             [
              0.3333333333333333,
              "#9c179e"
             ],
             [
              0.4444444444444444,
              "#bd3786"
             ],
             [
              0.5555555555555556,
              "#d8576b"
             ],
             [
              0.6666666666666666,
              "#ed7953"
             ],
             [
              0.7777777777777778,
              "#fb9f3a"
             ],
             [
              0.8888888888888888,
              "#fdca26"
             ],
             [
              1,
              "#f0f921"
             ]
            ],
            "type": "contour"
           }
          ],
          "contourcarpet": [
           {
            "colorbar": {
             "outlinewidth": 0,
             "ticks": ""
            },
            "type": "contourcarpet"
           }
          ],
          "heatmap": [
           {
            "colorbar": {
             "outlinewidth": 0,
             "ticks": ""
            },
            "colorscale": [
             [
              0,
              "#0d0887"
             ],
             [
              0.1111111111111111,
              "#46039f"
             ],
             [
              0.2222222222222222,
              "#7201a8"
             ],
             [
              0.3333333333333333,
              "#9c179e"
             ],
             [
              0.4444444444444444,
              "#bd3786"
             ],
             [
              0.5555555555555556,
              "#d8576b"
             ],
             [
              0.6666666666666666,
              "#ed7953"
             ],
             [
              0.7777777777777778,
              "#fb9f3a"
             ],
             [
              0.8888888888888888,
              "#fdca26"
             ],
             [
              1,
              "#f0f921"
             ]
            ],
            "type": "heatmap"
           }
          ],
          "heatmapgl": [
           {
            "colorbar": {
             "outlinewidth": 0,
             "ticks": ""
            },
            "colorscale": [
             [
              0,
              "#0d0887"
             ],
             [
              0.1111111111111111,
              "#46039f"
             ],
             [
              0.2222222222222222,
              "#7201a8"
             ],
             [
              0.3333333333333333,
              "#9c179e"
             ],
             [
              0.4444444444444444,
              "#bd3786"
             ],
             [
              0.5555555555555556,
              "#d8576b"
             ],
             [
              0.6666666666666666,
              "#ed7953"
             ],
             [
              0.7777777777777778,
              "#fb9f3a"
             ],
             [
              0.8888888888888888,
              "#fdca26"
             ],
             [
              1,
              "#f0f921"
             ]
            ],
            "type": "heatmapgl"
           }
          ],
          "histogram": [
           {
            "marker": {
             "pattern": {
              "fillmode": "overlay",
              "size": 10,
              "solidity": 0.2
             }
            },
            "type": "histogram"
           }
          ],
          "histogram2d": [
           {
            "colorbar": {
             "outlinewidth": 0,
             "ticks": ""
            },
            "colorscale": [
             [
              0,
              "#0d0887"
             ],
             [
              0.1111111111111111,
              "#46039f"
             ],
             [
              0.2222222222222222,
              "#7201a8"
             ],
             [
              0.3333333333333333,
              "#9c179e"
             ],
             [
              0.4444444444444444,
              "#bd3786"
             ],
             [
              0.5555555555555556,
              "#d8576b"
             ],
             [
              0.6666666666666666,
              "#ed7953"
             ],
             [
              0.7777777777777778,
              "#fb9f3a"
             ],
             [
              0.8888888888888888,
              "#fdca26"
             ],
             [
              1,
              "#f0f921"
             ]
            ],
            "type": "histogram2d"
           }
          ],
          "histogram2dcontour": [
           {
            "colorbar": {
             "outlinewidth": 0,
             "ticks": ""
            },
            "colorscale": [
             [
              0,
              "#0d0887"
             ],
             [
              0.1111111111111111,
              "#46039f"
             ],
             [
              0.2222222222222222,
              "#7201a8"
             ],
             [
              0.3333333333333333,
              "#9c179e"
             ],
             [
              0.4444444444444444,
              "#bd3786"
             ],
             [
              0.5555555555555556,
              "#d8576b"
             ],
             [
              0.6666666666666666,
              "#ed7953"
             ],
             [
              0.7777777777777778,
              "#fb9f3a"
             ],
             [
              0.8888888888888888,
              "#fdca26"
             ],
             [
              1,
              "#f0f921"
             ]
            ],
            "type": "histogram2dcontour"
           }
          ],
          "mesh3d": [
           {
            "colorbar": {
             "outlinewidth": 0,
             "ticks": ""
            },
            "type": "mesh3d"
           }
          ],
          "parcoords": [
           {
            "line": {
             "colorbar": {
              "outlinewidth": 0,
              "ticks": ""
             }
            },
            "type": "parcoords"
           }
          ],
          "pie": [
           {
            "automargin": true,
            "type": "pie"
           }
          ],
          "scatter": [
           {
            "marker": {
             "colorbar": {
              "outlinewidth": 0,
              "ticks": ""
             }
            },
            "type": "scatter"
           }
          ],
          "scatter3d": [
           {
            "line": {
             "colorbar": {
              "outlinewidth": 0,
              "ticks": ""
             }
            },
            "marker": {
             "colorbar": {
              "outlinewidth": 0,
              "ticks": ""
             }
            },
            "type": "scatter3d"
           }
          ],
          "scattercarpet": [
           {
            "marker": {
             "colorbar": {
              "outlinewidth": 0,
              "ticks": ""
             }
            },
            "type": "scattercarpet"
           }
          ],
          "scattergeo": [
           {
            "marker": {
             "colorbar": {
              "outlinewidth": 0,
              "ticks": ""
             }
            },
            "type": "scattergeo"
           }
          ],
          "scattergl": [
           {
            "marker": {
             "colorbar": {
              "outlinewidth": 0,
              "ticks": ""
             }
            },
            "type": "scattergl"
           }
          ],
          "scattermapbox": [
           {
            "marker": {
             "colorbar": {
              "outlinewidth": 0,
              "ticks": ""
             }
            },
            "type": "scattermapbox"
           }
          ],
          "scatterpolar": [
           {
            "marker": {
             "colorbar": {
              "outlinewidth": 0,
              "ticks": ""
             }
            },
            "type": "scatterpolar"
           }
          ],
          "scatterpolargl": [
           {
            "marker": {
             "colorbar": {
              "outlinewidth": 0,
              "ticks": ""
             }
            },
            "type": "scatterpolargl"
           }
          ],
          "scatterternary": [
           {
            "marker": {
             "colorbar": {
              "outlinewidth": 0,
              "ticks": ""
             }
            },
            "type": "scatterternary"
           }
          ],
          "surface": [
           {
            "colorbar": {
             "outlinewidth": 0,
             "ticks": ""
            },
            "colorscale": [
             [
              0,
              "#0d0887"
             ],
             [
              0.1111111111111111,
              "#46039f"
             ],
             [
              0.2222222222222222,
              "#7201a8"
             ],
             [
              0.3333333333333333,
              "#9c179e"
             ],
             [
              0.4444444444444444,
              "#bd3786"
             ],
             [
              0.5555555555555556,
              "#d8576b"
             ],
             [
              0.6666666666666666,
              "#ed7953"
             ],
             [
              0.7777777777777778,
              "#fb9f3a"
             ],
             [
              0.8888888888888888,
              "#fdca26"
             ],
             [
              1,
              "#f0f921"
             ]
            ],
            "type": "surface"
           }
          ],
          "table": [
           {
            "cells": {
             "fill": {
              "color": "#EBF0F8"
             },
             "line": {
              "color": "white"
             }
            },
            "header": {
             "fill": {
              "color": "#C8D4E3"
             },
             "line": {
              "color": "white"
             }
            },
            "type": "table"
           }
          ]
         },
         "layout": {
          "annotationdefaults": {
           "arrowcolor": "#2a3f5f",
           "arrowhead": 0,
           "arrowwidth": 1
          },
          "autotypenumbers": "strict",
          "coloraxis": {
           "colorbar": {
            "outlinewidth": 0,
            "ticks": ""
           }
          },
          "colorscale": {
           "diverging": [
            [
             0,
             "#8e0152"
            ],
            [
             0.1,
             "#c51b7d"
            ],
            [
             0.2,
             "#de77ae"
            ],
            [
             0.3,
             "#f1b6da"
            ],
            [
             0.4,
             "#fde0ef"
            ],
            [
             0.5,
             "#f7f7f7"
            ],
            [
             0.6,
             "#e6f5d0"
            ],
            [
             0.7,
             "#b8e186"
            ],
            [
             0.8,
             "#7fbc41"
            ],
            [
             0.9,
             "#4d9221"
            ],
            [
             1,
             "#276419"
            ]
           ],
           "sequential": [
            [
             0,
             "#0d0887"
            ],
            [
             0.1111111111111111,
             "#46039f"
            ],
            [
             0.2222222222222222,
             "#7201a8"
            ],
            [
             0.3333333333333333,
             "#9c179e"
            ],
            [
             0.4444444444444444,
             "#bd3786"
            ],
            [
             0.5555555555555556,
             "#d8576b"
            ],
            [
             0.6666666666666666,
             "#ed7953"
            ],
            [
             0.7777777777777778,
             "#fb9f3a"
            ],
            [
             0.8888888888888888,
             "#fdca26"
            ],
            [
             1,
             "#f0f921"
            ]
           ],
           "sequentialminus": [
            [
             0,
             "#0d0887"
            ],
            [
             0.1111111111111111,
             "#46039f"
            ],
            [
             0.2222222222222222,
             "#7201a8"
            ],
            [
             0.3333333333333333,
             "#9c179e"
            ],
            [
             0.4444444444444444,
             "#bd3786"
            ],
            [
             0.5555555555555556,
             "#d8576b"
            ],
            [
             0.6666666666666666,
             "#ed7953"
            ],
            [
             0.7777777777777778,
             "#fb9f3a"
            ],
            [
             0.8888888888888888,
             "#fdca26"
            ],
            [
             1,
             "#f0f921"
            ]
           ]
          },
          "colorway": [
           "#636efa",
           "#EF553B",
           "#00cc96",
           "#ab63fa",
           "#FFA15A",
           "#19d3f3",
           "#FF6692",
           "#B6E880",
           "#FF97FF",
           "#FECB52"
          ],
          "font": {
           "color": "#2a3f5f"
          },
          "geo": {
           "bgcolor": "white",
           "lakecolor": "white",
           "landcolor": "#E5ECF6",
           "showlakes": true,
           "showland": true,
           "subunitcolor": "white"
          },
          "hoverlabel": {
           "align": "left"
          },
          "hovermode": "closest",
          "mapbox": {
           "style": "light"
          },
          "paper_bgcolor": "white",
          "plot_bgcolor": "#E5ECF6",
          "polar": {
           "angularaxis": {
            "gridcolor": "white",
            "linecolor": "white",
            "ticks": ""
           },
           "bgcolor": "#E5ECF6",
           "radialaxis": {
            "gridcolor": "white",
            "linecolor": "white",
            "ticks": ""
           }
          },
          "scene": {
           "xaxis": {
            "backgroundcolor": "#E5ECF6",
            "gridcolor": "white",
            "gridwidth": 2,
            "linecolor": "white",
            "showbackground": true,
            "ticks": "",
            "zerolinecolor": "white"
           },
           "yaxis": {
            "backgroundcolor": "#E5ECF6",
            "gridcolor": "white",
            "gridwidth": 2,
            "linecolor": "white",
            "showbackground": true,
            "ticks": "",
            "zerolinecolor": "white"
           },
           "zaxis": {
            "backgroundcolor": "#E5ECF6",
            "gridcolor": "white",
            "gridwidth": 2,
            "linecolor": "white",
            "showbackground": true,
            "ticks": "",
            "zerolinecolor": "white"
           }
          },
          "shapedefaults": {
           "line": {
            "color": "#2a3f5f"
           }
          },
          "ternary": {
           "aaxis": {
            "gridcolor": "white",
            "linecolor": "white",
            "ticks": ""
           },
           "baxis": {
            "gridcolor": "white",
            "linecolor": "white",
            "ticks": ""
           },
           "bgcolor": "#E5ECF6",
           "caxis": {
            "gridcolor": "white",
            "linecolor": "white",
            "ticks": ""
           }
          },
          "title": {
           "x": 0.05
          },
          "xaxis": {
           "automargin": true,
           "gridcolor": "white",
           "linecolor": "white",
           "ticks": "",
           "title": {
            "standoff": 15
           },
           "zerolinecolor": "white",
           "zerolinewidth": 2
          },
          "yaxis": {
           "automargin": true,
           "gridcolor": "white",
           "linecolor": "white",
           "ticks": "",
           "title": {
            "standoff": 15
           },
           "zerolinecolor": "white",
           "zerolinewidth": 2
          }
         }
        },
        "updatemenus": [
         {
          "active": 0,
          "buttons": [
           {
            "args": [
             {
              "visible": [
               true,
               true,
               true,
               true,
               true,
               true,
               true,
               true,
               true,
               true,
               true,
               true,
               true,
               true,
               true,
               true,
               true,
               true,
               true,
               true,
               true,
               true,
               true,
               true,
               true,
               true,
               true,
               true,
               true,
               true,
               true,
               true,
               true,
               true,
               true,
               true,
               true,
               true,
               true,
               true,
               true,
               true,
               true,
               true,
               true,
               true,
               true,
               true,
               true,
               true,
               true,
               true,
               true,
               true,
               true,
               true,
               true,
               true,
               true,
               true,
               true,
               true,
               true,
               true,
               true,
               true,
               true,
               true,
               true,
               true,
               true,
               true,
               true,
               true,
               true,
               true,
               true,
               true,
               true,
               true,
               true,
               true,
               true,
               true,
               true,
               true,
               true,
               true,
               true,
               true,
               true,
               true,
               true,
               true,
               true,
               true,
               true,
               true,
               true,
               true,
               true,
               true,
               true,
               true,
               true,
               true,
               true,
               true,
               true,
               true,
               true,
               true,
               true,
               true,
               true,
               true,
               true,
               true,
               true,
               true,
               true,
               true,
               true,
               true,
               true,
               false,
               false,
               false,
               false,
               false,
               false,
               false,
               false,
               false,
               false,
               false,
               false,
               false,
               false,
               false,
               false,
               false,
               false,
               false,
               false,
               false,
               false,
               false,
               false,
               false,
               false,
               false,
               false,
               false,
               false,
               false,
               false,
               false,
               false,
               false,
               false,
               false,
               false,
               false,
               false,
               false,
               false,
               false,
               false,
               false,
               false,
               false,
               false,
               false,
               false,
               false,
               false,
               false,
               false,
               false,
               false,
               false,
               false,
               false,
               false,
               false,
               false,
               false,
               false,
               false,
               false,
               false,
               false,
               false,
               false,
               false,
               false,
               false,
               false,
               false,
               false,
               false,
               false,
               false,
               false,
               false,
               false,
               false,
               false,
               false,
               false,
               false,
               false,
               false,
               false,
               false,
               false,
               false,
               false,
               false,
               false,
               false,
               false,
               false,
               false,
               false,
               false,
               false,
               false,
               false,
               false,
               false,
               false,
               false,
               false,
               false,
               false,
               false,
               false,
               false,
               false,
               false,
               false,
               false,
               false,
               false,
               false,
               false,
               false,
               false,
               false,
               false,
               false,
               false,
               false,
               false,
               false,
               false,
               false,
               false,
               false,
               false,
               false,
               false,
               false,
               false,
               false,
               false,
               false,
               false,
               false,
               false,
               false,
               false,
               false,
               false,
               false,
               false,
               false,
               false,
               false,
               false,
               false,
               false,
               false,
               false,
               false,
               false,
               false,
               false,
               false,
               false,
               false,
               false,
               false,
               false,
               false,
               false,
               false,
               false,
               false,
               false,
               false,
               false,
               false,
               false,
               false,
               false,
               false,
               false,
               false,
               false,
               false,
               false,
               false,
               false,
               false,
               false,
               false,
               false,
               false,
               false,
               false,
               false,
               false,
               false,
               false,
               false,
               false,
               false,
               false,
               false,
               false,
               false,
               false,
               false,
               false,
               false,
               false,
               false,
               false,
               false,
               false,
               false,
               false,
               false,
               false,
               false,
               false,
               false,
               false,
               false,
               false,
               false,
               false,
               false,
               false,
               false,
               false,
               false,
               false,
               false,
               false,
               false,
               false,
               false,
               false
              ]
             },
             {
              "title": "202001"
             }
            ],
            "label": "202001",
            "method": "update"
           },
           {
            "args": [
             {
              "visible": [
               false,
               false,
               false,
               false,
               false,
               false,
               false,
               false,
               false,
               false,
               false,
               false,
               false,
               false,
               false,
               false,
               false,
               false,
               false,
               false,
               false,
               false,
               false,
               false,
               false,
               false,
               false,
               false,
               false,
               false,
               false,
               false,
               false,
               false,
               false,
               false,
               false,
               false,
               false,
               false,
               false,
               false,
               false,
               false,
               false,
               false,
               false,
               false,
               false,
               false,
               false,
               false,
               false,
               false,
               false,
               false,
               false,
               false,
               false,
               false,
               false,
               false,
               false,
               false,
               false,
               false,
               false,
               false,
               false,
               false,
               false,
               false,
               false,
               false,
               false,
               false,
               false,
               false,
               false,
               false,
               false,
               false,
               false,
               false,
               false,
               false,
               false,
               false,
               false,
               false,
               false,
               false,
               false,
               false,
               false,
               false,
               false,
               false,
               false,
               false,
               false,
               false,
               false,
               false,
               false,
               false,
               false,
               false,
               false,
               false,
               false,
               false,
               false,
               false,
               false,
               false,
               false,
               false,
               false,
               false,
               false,
               false,
               false,
               false,
               false,
               true,
               true,
               true,
               true,
               true,
               true,
               true,
               true,
               true,
               true,
               true,
               true,
               true,
               true,
               true,
               true,
               true,
               true,
               true,
               true,
               true,
               true,
               true,
               true,
               true,
               true,
               true,
               true,
               true,
               true,
               true,
               true,
               true,
               true,
               true,
               true,
               true,
               true,
               true,
               true,
               true,
               true,
               true,
               true,
               true,
               true,
               true,
               true,
               true,
               true,
               true,
               true,
               true,
               true,
               true,
               true,
               true,
               true,
               true,
               true,
               true,
               true,
               true,
               true,
               true,
               true,
               true,
               true,
               true,
               true,
               true,
               true,
               true,
               true,
               true,
               true,
               true,
               true,
               true,
               true,
               true,
               true,
               true,
               true,
               true,
               true,
               true,
               true,
               true,
               true,
               true,
               true,
               true,
               true,
               true,
               true,
               true,
               true,
               true,
               true,
               true,
               true,
               true,
               true,
               true,
               true,
               true,
               true,
               true,
               true,
               true,
               true,
               true,
               true,
               true,
               true,
               true,
               true,
               true,
               true,
               true,
               true,
               true,
               true,
               true,
               true,
               true,
               true,
               true,
               true,
               true,
               true,
               true,
               true,
               true,
               true,
               true,
               true,
               true,
               false,
               false,
               false,
               false,
               false,
               false,
               false,
               false,
               false,
               false,
               false,
               false,
               false,
               false,
               false,
               false,
               false,
               false,
               false,
               false,
               false,
               false,
               false,
               false,
               false,
               false,
               false,
               false,
               false,
               false,
               false,
               false,
               false,
               false,
               false,
               false,
               false,
               false,
               false,
               false,
               false,
               false,
               false,
               false,
               false,
               false,
               false,
               false,
               false,
               false,
               false,
               false,
               false,
               false,
               false,
               false,
               false,
               false,
               false,
               false,
               false,
               false,
               false,
               false,
               false,
               false,
               false,
               false,
               false,
               false,
               false,
               false,
               false,
               false,
               false,
               false,
               false,
               false,
               false,
               false,
               false,
               false,
               false,
               false,
               false,
               false,
               false,
               false,
               false,
               false,
               false,
               false,
               false,
               false,
               false,
               false,
               false,
               false,
               false,
               false,
               false,
               false,
               false
              ]
             },
             {
              "title": "202002"
             }
            ],
            "label": "202002",
            "method": "update"
           },
           {
            "args": [
             {
              "visible": [
               false,
               false,
               false,
               false,
               false,
               false,
               false,
               false,
               false,
               false,
               false,
               false,
               false,
               false,
               false,
               false,
               false,
               false,
               false,
               false,
               false,
               false,
               false,
               false,
               false,
               false,
               false,
               false,
               false,
               false,
               false,
               false,
               false,
               false,
               false,
               false,
               false,
               false,
               false,
               false,
               false,
               false,
               false,
               false,
               false,
               false,
               false,
               false,
               false,
               false,
               false,
               false,
               false,
               false,
               false,
               false,
               false,
               false,
               false,
               false,
               false,
               false,
               false,
               false,
               false,
               false,
               false,
               false,
               false,
               false,
               false,
               false,
               false,
               false,
               false,
               false,
               false,
               false,
               false,
               false,
               false,
               false,
               false,
               false,
               false,
               false,
               false,
               false,
               false,
               false,
               false,
               false,
               false,
               false,
               false,
               false,
               false,
               false,
               false,
               false,
               false,
               false,
               false,
               false,
               false,
               false,
               false,
               false,
               false,
               false,
               false,
               false,
               false,
               false,
               false,
               false,
               false,
               false,
               false,
               false,
               false,
               false,
               false,
               false,
               false,
               false,
               false,
               false,
               false,
               false,
               false,
               false,
               false,
               false,
               false,
               false,
               false,
               false,
               false,
               false,
               false,
               false,
               false,
               false,
               false,
               false,
               false,
               false,
               false,
               false,
               false,
               false,
               false,
               false,
               false,
               false,
               false,
               false,
               false,
               false,
               false,
               false,
               false,
               false,
               false,
               false,
               false,
               false,
               false,
               false,
               false,
               false,
               false,
               false,
               false,
               false,
               false,
               false,
               false,
               false,
               false,
               false,
               false,
               false,
               false,
               false,
               false,
               false,
               false,
               false,
               false,
               false,
               false,
               false,
               false,
               false,
               false,
               false,
               false,
               false,
               false,
               false,
               false,
               false,
               false,
               false,
               false,
               false,
               false,
               false,
               false,
               false,
               false,
               false,
               false,
               false,
               false,
               false,
               false,
               false,
               false,
               false,
               false,
               false,
               false,
               false,
               false,
               false,
               false,
               false,
               false,
               false,
               false,
               false,
               false,
               false,
               false,
               false,
               false,
               false,
               false,
               false,
               false,
               false,
               false,
               false,
               false,
               false,
               false,
               false,
               false,
               false,
               false,
               false,
               false,
               false,
               false,
               false,
               false,
               false,
               false,
               false,
               false,
               false,
               true,
               true,
               true,
               true,
               true,
               true,
               true,
               true,
               true,
               true,
               true,
               true,
               true,
               true,
               true,
               true,
               true,
               true,
               true,
               true,
               true,
               true,
               true,
               true,
               true,
               true,
               true,
               true,
               true,
               true,
               true,
               true,
               true,
               true,
               true,
               true,
               true,
               true,
               true,
               true,
               true,
               true,
               true,
               true,
               true,
               true,
               true,
               true,
               true,
               true,
               true,
               true,
               true,
               true,
               true,
               true,
               true,
               true,
               true,
               true,
               true,
               true,
               true,
               true,
               true,
               true,
               true,
               true,
               true,
               true,
               true,
               true,
               true,
               true,
               true,
               false,
               false,
               false,
               false,
               false,
               false,
               false,
               false,
               false,
               false,
               false,
               false,
               false,
               false,
               false,
               false,
               false,
               false,
               false,
               false,
               false,
               false,
               false,
               false,
               false,
               false,
               false,
               false
              ]
             },
             {
              "title": "202003"
             }
            ],
            "label": "202003",
            "method": "update"
           },
           {
            "args": [
             {
              "visible": [
               false,
               false,
               false,
               false,
               false,
               false,
               false,
               false,
               false,
               false,
               false,
               false,
               false,
               false,
               false,
               false,
               false,
               false,
               false,
               false,
               false,
               false,
               false,
               false,
               false,
               false,
               false,
               false,
               false,
               false,
               false,
               false,
               false,
               false,
               false,
               false,
               false,
               false,
               false,
               false,
               false,
               false,
               false,
               false,
               false,
               false,
               false,
               false,
               false,
               false,
               false,
               false,
               false,
               false,
               false,
               false,
               false,
               false,
               false,
               false,
               false,
               false,
               false,
               false,
               false,
               false,
               false,
               false,
               false,
               false,
               false,
               false,
               false,
               false,
               false,
               false,
               false,
               false,
               false,
               false,
               false,
               false,
               false,
               false,
               false,
               false,
               false,
               false,
               false,
               false,
               false,
               false,
               false,
               false,
               false,
               false,
               false,
               false,
               false,
               false,
               false,
               false,
               false,
               false,
               false,
               false,
               false,
               false,
               false,
               false,
               false,
               false,
               false,
               false,
               false,
               false,
               false,
               false,
               false,
               false,
               false,
               false,
               false,
               false,
               false,
               false,
               false,
               false,
               false,
               false,
               false,
               false,
               false,
               false,
               false,
               false,
               false,
               false,
               false,
               false,
               false,
               false,
               false,
               false,
               false,
               false,
               false,
               false,
               false,
               false,
               false,
               false,
               false,
               false,
               false,
               false,
               false,
               false,
               false,
               false,
               false,
               false,
               false,
               false,
               false,
               false,
               false,
               false,
               false,
               false,
               false,
               false,
               false,
               false,
               false,
               false,
               false,
               false,
               false,
               false,
               false,
               false,
               false,
               false,
               false,
               false,
               false,
               false,
               false,
               false,
               false,
               false,
               false,
               false,
               false,
               false,
               false,
               false,
               false,
               false,
               false,
               false,
               false,
               false,
               false,
               false,
               false,
               false,
               false,
               false,
               false,
               false,
               false,
               false,
               false,
               false,
               false,
               false,
               false,
               false,
               false,
               false,
               false,
               false,
               false,
               false,
               false,
               false,
               false,
               false,
               false,
               false,
               false,
               false,
               false,
               false,
               false,
               false,
               false,
               false,
               false,
               false,
               false,
               false,
               false,
               false,
               false,
               false,
               false,
               false,
               false,
               false,
               false,
               false,
               false,
               false,
               false,
               false,
               false,
               false,
               false,
               false,
               false,
               false,
               false,
               false,
               false,
               false,
               false,
               false,
               false,
               false,
               false,
               false,
               false,
               false,
               false,
               false,
               false,
               false,
               false,
               false,
               false,
               false,
               false,
               false,
               false,
               false,
               false,
               false,
               false,
               false,
               false,
               false,
               false,
               false,
               false,
               false,
               false,
               false,
               false,
               false,
               false,
               false,
               false,
               false,
               false,
               false,
               false,
               false,
               false,
               false,
               false,
               false,
               false,
               false,
               false,
               false,
               false,
               false,
               false,
               false,
               false,
               false,
               false,
               false,
               false,
               false,
               false,
               false,
               false,
               false,
               false,
               false,
               false,
               false,
               false,
               false,
               false,
               true,
               true,
               true,
               true,
               true,
               true,
               true,
               true,
               true,
               true,
               true,
               true,
               true,
               true,
               true,
               true,
               true,
               true,
               true,
               true,
               true,
               true,
               true,
               true,
               true,
               true,
               true,
               true
              ]
             },
             {
              "title": "202004"
             }
            ],
            "label": "202004",
            "method": "update"
           }
          ]
         }
        ],
        "width": 1000,
        "xaxis": {
         "visible": false
        },
        "yaxis": {
         "visible": false
        }
       }
      },
      "text/html": [
       "<div>                            <div id=\"299097f1-2636-4f9f-95c6-bec5b17db0c8\" class=\"plotly-graph-div\" style=\"height:1000px; width:1000px;\"></div>            <script type=\"text/javascript\">                require([\"plotly\"], function(Plotly) {                    window.PLOTLYENV=window.PLOTLYENV || {};                                    if (document.getElementById(\"299097f1-2636-4f9f-95c6-bec5b17db0c8\")) {                    Plotly.newPlot(                        \"299097f1-2636-4f9f-95c6-bec5b17db0c8\",                        [{\"line\":{\"color\":\"mediumaquamarine\",\"shape\":\"spline\",\"width\":1.0},\"mode\":\"lines\",\"x\":[-0.17364932648352036,-0.08695325354031205,null],\"y\":[-0.2767263333001506,-0.07538670862631718,null],\"type\":\"scatter\"},{\"line\":{\"color\":\"mediumaquamarine\",\"shape\":\"spline\",\"width\":1.0},\"mode\":\"lines\",\"x\":[-0.17364932648352036,-0.2818948559021931,null],\"y\":[-0.2767263333001506,-0.44252985106381776,null],\"type\":\"scatter\"},{\"line\":{\"color\":\"mediumaquamarine\",\"shape\":\"spline\",\"width\":1.0},\"mode\":\"lines\",\"x\":[0.033467161326702126,-0.08695325354031205,null],\"y\":[0.06449212834159318,-0.07538670862631718,null],\"type\":\"scatter\"},{\"line\":{\"color\":\"mediumaquamarine\",\"shape\":\"spline\",\"width\":1.0},\"mode\":\"lines\",\"x\":[-0.3770998630329571,-0.2818948559021931,null],\"y\":[-0.624724212734978,-0.44252985106381776,null],\"type\":\"scatter\"},{\"line\":{\"color\":\"mediumaquamarine\",\"shape\":\"spline\",\"width\":1.0},\"mode\":\"lines\",\"x\":[-0.15571577551053056,-0.103690670683909,null],\"y\":[-0.29587001331636964,-0.12239757411585482,null],\"type\":\"scatter\"},{\"line\":{\"color\":\"mediumaquamarine\",\"shape\":\"spline\",\"width\":1.0},\"mode\":\"lines\",\"x\":[-0.15571577551053056,-0.08695325354031205,null],\"y\":[-0.29587001331636964,-0.07538670862631718,null],\"type\":\"scatter\"},{\"line\":{\"color\":\"mediumaquamarine\",\"shape\":\"spline\",\"width\":1.0},\"mode\":\"lines\",\"x\":[-0.15571577551053056,-0.18946871443934,null],\"y\":[-0.29587001331636964,-0.5665909422906474,null],\"type\":\"scatter\"},{\"line\":{\"color\":\"mediumaquamarine\",\"shape\":\"spline\",\"width\":1.0},\"mode\":\"lines\",\"x\":[-0.15571577551053056,0.010200206625450512,null],\"y\":[-0.29587001331636964,-0.36902132611790534,null],\"type\":\"scatter\"},{\"line\":{\"color\":\"mediumaquamarine\",\"shape\":\"spline\",\"width\":1.0},\"mode\":\"lines\",\"x\":[0.03346915404554261,-0.08695325354031205,null],\"y\":[0.06448337620787767,-0.07538670862631718,null],\"type\":\"scatter\"},{\"line\":{\"color\":\"mediumaquamarine\",\"shape\":\"spline\",\"width\":1.0},\"mode\":\"lines\",\"x\":[0.033467490834916784,-0.08695325354031205,null],\"y\":[0.06448434699555912,-0.07538670862631718,null],\"type\":\"scatter\"},{\"line\":{\"color\":\"mediumaquamarine\",\"shape\":\"spline\",\"width\":1.0},\"mode\":\"lines\",\"x\":[0.033465555730693944,-0.08695325354031205,null],\"y\":[0.06448476335414165,-0.07538670862631718,null],\"type\":\"scatter\"},{\"line\":{\"color\":\"mediumaquamarine\",\"shape\":\"spline\",\"width\":1.0},\"mode\":\"lines\",\"x\":[0.033463203180876304,-0.08695325354031205,null],\"y\":[0.0644839229640926,-0.07538670862631718,null],\"type\":\"scatter\"},{\"line\":{\"color\":\"mediumaquamarine\",\"shape\":\"spline\",\"width\":1.0},\"mode\":\"lines\",\"x\":[0.3331171598668633,0.2549414379063806,null],\"y\":[0.875030989568806,0.6779795783515205,null],\"type\":\"scatter\"},{\"line\":{\"color\":\"mediumaquamarine\",\"shape\":\"spline\",\"width\":1.0},\"mode\":\"lines\",\"x\":[0.36875984550802837,0.3068269255642774,null],\"y\":[0.999856748237832,0.8261687727764895,null],\"type\":\"scatter\"},{\"line\":{\"color\":\"mediumaquamarine\",\"shape\":\"spline\",\"width\":1.0},\"mode\":\"lines\",\"x\":[0.03352033174963888,-0.08695325354031205,null],\"y\":[0.06436751456904949,-0.07538670862631718,null],\"type\":\"scatter\"},{\"line\":{\"color\":\"mediumaquamarine\",\"shape\":\"spline\",\"width\":1.0},\"mode\":\"lines\",\"x\":[0.03352033174963888,0.1023557026285066,null],\"y\":[0.06436751456904949,-0.10331629042455082,null],\"type\":\"scatter\"},{\"line\":{\"color\":\"mediumaquamarine\",\"shape\":\"spline\",\"width\":1.189207115002721},\"mode\":\"lines\",\"x\":[0.3068269255642774,0.08961586028085518,null],\"y\":[0.8261687727764895,0.4593806278494334,null],\"type\":\"scatter\"},{\"line\":{\"color\":\"mediumaquamarine\",\"shape\":\"spline\",\"width\":1.4953487812212205},\"mode\":\"lines\",\"x\":[0.3068269255642774,-0.08695325354031205,null],\"y\":[0.8261687727764895,-0.07538670862631718,null],\"type\":\"scatter\"},{\"line\":{\"color\":\"mediumaquamarine\",\"shape\":\"spline\",\"width\":1.0},\"mode\":\"lines\",\"x\":[0.3068269255642774,0.3256173196143792,null],\"y\":[0.8261687727764895,0.6439974157491533,null],\"type\":\"scatter\"},{\"line\":{\"color\":\"mediumaquamarine\",\"shape\":\"spline\",\"width\":1.0},\"mode\":\"lines\",\"x\":[0.033458254211490006,-0.08695325354031205,null],\"y\":[0.06447804985493119,-0.07538670862631718,null],\"type\":\"scatter\"},{\"line\":{\"color\":\"mediumaquamarine\",\"shape\":\"spline\",\"width\":1.0},\"mode\":\"lines\",\"x\":[0.03345637405487002,-0.08695325354031205,null],\"y\":[0.06447704840534138,-0.07538670862631718,null],\"type\":\"scatter\"},{\"line\":{\"color\":\"mediumaquamarine\",\"shape\":\"spline\",\"width\":1.0},\"mode\":\"lines\",\"x\":[0.03345564540698469,-0.08695325354031205,null],\"y\":[0.0644751378019206,-0.07538670862631718,null],\"type\":\"scatter\"},{\"line\":{\"color\":\"mediumaquamarine\",\"shape\":\"spline\",\"width\":1.0},\"mode\":\"lines\",\"x\":[0.1341016343612161,-0.08695325354031205,null],\"y\":[-0.05863572536234008,-0.07538670862631718,null],\"type\":\"scatter\"},{\"line\":{\"color\":\"mediumaquamarine\",\"shape\":\"spline\",\"width\":1.0},\"mode\":\"lines\",\"x\":[0.1341016343612161,0.4871525780373211,null],\"y\":[-0.05863572536234008,-0.2428845705345533,null],\"type\":\"scatter\"},{\"line\":{\"color\":\"mediumaquamarine\",\"shape\":\"spline\",\"width\":1.0},\"mode\":\"lines\",\"x\":[0.018107939947814324,-0.06354263809013164,null],\"y\":[0.09227770481349064,-0.06947569924820994,null],\"type\":\"scatter\"},{\"line\":{\"color\":\"mediumaquamarine\",\"shape\":\"spline\",\"width\":1.0},\"mode\":\"lines\",\"x\":[0.0334551428424923,-0.08695325354031205,null],\"y\":[0.06446938829155141,-0.07538670862631718,null],\"type\":\"scatter\"},{\"line\":{\"color\":\"mediumaquamarine\",\"shape\":\"spline\",\"width\":1.0},\"mode\":\"lines\",\"x\":[-0.37726127246990726,-0.2818948559021931,null],\"y\":[-0.6246858014524563,-0.44252985106381776,null],\"type\":\"scatter\"},{\"line\":{\"color\":\"mediumaquamarine\",\"shape\":\"spline\",\"width\":1.0},\"mode\":\"lines\",\"x\":[0.3538382386703728,0.4871525780373211,null],\"y\":[-0.3655088340608702,-0.2428845705345533,null],\"type\":\"scatter\"},{\"line\":{\"color\":\"mediumaquamarine\",\"shape\":\"spline\",\"width\":1.0},\"mode\":\"lines\",\"x\":[0.004457929013975924,0.004457929013975924,null],\"y\":[0.3543629794468247,0.3543629794468247,null],\"type\":\"scatter\"},{\"line\":{\"color\":\"mediumaquamarine\",\"shape\":\"spline\",\"width\":1.0},\"mode\":\"lines\",\"x\":[0.033459873280336686,-0.08695325354031205,null],\"y\":[0.06447423553044625,-0.07538670862631718,null],\"type\":\"scatter\"},{\"line\":{\"color\":\"mediumaquamarine\",\"shape\":\"spline\",\"width\":1.0},\"mode\":\"lines\",\"x\":[0.03345815815746938,-0.08695325354031205,null],\"y\":[0.06447241443462702,-0.07538670862631718,null],\"type\":\"scatter\"},{\"line\":{\"color\":\"mediumaquamarine\",\"shape\":\"spline\",\"width\":1.0},\"mode\":\"lines\",\"x\":[0.04087204039474477,-0.08695325354031205,null],\"y\":[0.00449252476760167,-0.07538670862631718,null],\"type\":\"scatter\"},{\"line\":{\"color\":\"mediumaquamarine\",\"shape\":\"spline\",\"width\":1.189207115002721},\"mode\":\"lines\",\"x\":[0.04087204039474477,0.16370511734668963,null],\"y\":[0.00449252476760167,0.27916871134945387,null],\"type\":\"scatter\"},{\"line\":{\"color\":\"mediumaquamarine\",\"shape\":\"spline\",\"width\":1.3160740129524924},\"mode\":\"lines\",\"x\":[0.04087204039474477,-0.2818948559021931,null],\"y\":[0.00449252476760167,-0.44252985106381776,null],\"type\":\"scatter\"},{\"line\":{\"color\":\"mediumaquamarine\",\"shape\":\"spline\",\"width\":1.189207115002721},\"mode\":\"lines\",\"x\":[0.09162971017790357,-0.08695325354031205,null],\"y\":[0.32533549818106977,-0.07538670862631718,null],\"type\":\"scatter\"},{\"line\":{\"color\":\"mediumaquamarine\",\"shape\":\"spline\",\"width\":1.0},\"mode\":\"lines\",\"x\":[0.23209061048953614,0.14567109515693427,null],\"y\":[0.4468296732068744,0.27880404581876694,null],\"type\":\"scatter\"},{\"line\":{\"color\":\"mediumaquamarine\",\"shape\":\"spline\",\"width\":1.0},\"mode\":\"lines\",\"x\":[-0.08695325354031205,-0.3209471836321768,null],\"y\":[-0.07538670862631718,0.03605194482999433,null],\"type\":\"scatter\"},{\"line\":{\"color\":\"mediumaquamarine\",\"shape\":\"spline\",\"width\":1.5650845800732873},\"mode\":\"lines\",\"x\":[-0.08695325354031205,-0.08695325354031205,null],\"y\":[-0.07538670862631718,-0.07538670862631718,null],\"type\":\"scatter\"},{\"line\":{\"color\":\"mediumaquamarine\",\"shape\":\"spline\",\"width\":1.0},\"mode\":\"lines\",\"x\":[-0.08695325354031205,-0.3211017409554589,null],\"y\":[-0.07538670862631718,0.03604832650622977,null],\"type\":\"scatter\"},{\"line\":{\"color\":\"mediumaquamarine\",\"shape\":\"spline\",\"width\":1.0},\"mode\":\"lines\",\"x\":[-0.08695325354031205,-0.29344633482240606,null],\"y\":[-0.07538670862631718,-0.03596952649559593,null],\"type\":\"scatter\"},{\"line\":{\"color\":\"mediumaquamarine\",\"shape\":\"spline\",\"width\":1.0},\"mode\":\"lines\",\"x\":[-0.08695325354031205,-0.32112472704950157,null],\"y\":[-0.07538670862631718,0.03604456306387024,null],\"type\":\"scatter\"},{\"line\":{\"color\":\"mediumaquamarine\",\"shape\":\"spline\",\"width\":1.0},\"mode\":\"lines\",\"x\":[-0.08695325354031205,-0.312891539237089,null],\"y\":[-0.07538670862631718,0.0016430166051115294,null],\"type\":\"scatter\"},{\"line\":{\"color\":\"mediumaquamarine\",\"shape\":\"spline\",\"width\":1.0},\"mode\":\"lines\",\"x\":[-0.08695325354031205,-0.30609588649372244,null],\"y\":[-0.07538670862631718,0.1625503325657921,null],\"type\":\"scatter\"},{\"line\":{\"color\":\"mediumaquamarine\",\"shape\":\"spline\",\"width\":1.189207115002721},\"mode\":\"lines\",\"x\":[-0.08695325354031205,-0.2818948559021931,null],\"y\":[-0.07538670862631718,-0.44252985106381776,null],\"type\":\"scatter\"},{\"line\":{\"color\":\"mediumaquamarine\",\"shape\":\"spline\",\"width\":1.0},\"mode\":\"lines\",\"x\":[-0.08695325354031205,0.1561536923959958,null],\"y\":[-0.07538670862631718,-0.27718055756721105,null],\"type\":\"scatter\"},{\"line\":{\"color\":\"mediumaquamarine\",\"shape\":\"spline\",\"width\":1.3160740129524924},\"mode\":\"lines\",\"x\":[-0.08695325354031205,0.4871525780373211,null],\"y\":[-0.07538670862631718,-0.2428845705345533,null],\"type\":\"scatter\"},{\"line\":{\"color\":\"mediumaquamarine\",\"shape\":\"spline\",\"width\":1.0},\"mode\":\"lines\",\"x\":[-0.08695325354031205,0.15616467218367705,null],\"y\":[-0.07538670862631718,-0.27719791603359706,null],\"type\":\"scatter\"},{\"line\":{\"color\":\"mediumaquamarine\",\"shape\":\"spline\",\"width\":1.3160740129524924},\"mode\":\"lines\",\"x\":[0.4860281295043436,-0.08695325354031205,null],\"y\":[-0.03476823783240991,-0.07538670862631718,null],\"type\":\"scatter\"},{\"line\":{\"color\":\"mediumaquamarine\",\"shape\":\"spline\",\"width\":1.0},\"mode\":\"lines\",\"x\":[0.4860281295043436,0.4871525780373211,null],\"y\":[-0.03476823783240991,-0.2428845705345533,null],\"type\":\"scatter\"},{\"line\":{\"color\":\"mediumaquamarine\",\"shape\":\"spline\",\"width\":1.0},\"mode\":\"lines\",\"x\":[0.033475025507192065,-0.08695325354031205,null],\"y\":[0.0644962849106824,-0.07538670862631718,null],\"type\":\"scatter\"},{\"line\":{\"color\":\"mediumaquamarine\",\"shape\":\"spline\",\"width\":1.0},\"mode\":\"lines\",\"x\":[0.033474106420075714,-0.08695325354031205,null],\"y\":[0.06449589984832602,-0.07538670862631718,null],\"type\":\"scatter\"},{\"line\":{\"color\":\"mediumaquamarine\",\"shape\":\"spline\",\"width\":1.0},\"mode\":\"lines\",\"x\":[0.03347325292127317,-0.08695325354031205,null],\"y\":[0.0644959379736717,-0.07538670862631718,null],\"type\":\"scatter\"},{\"line\":{\"color\":\"mediumaquamarine\",\"shape\":\"spline\",\"width\":1.0},\"mode\":\"lines\",\"x\":[0.03347359444011551,-0.08695325354031205,null],\"y\":[0.06448390322437116,-0.07538670862631718,null],\"type\":\"scatter\"},{\"line\":{\"color\":\"mediumaquamarine\",\"shape\":\"spline\",\"width\":1.0},\"mode\":\"lines\",\"x\":[0.03347416117099885,-0.08695325354031205,null],\"y\":[0.06448357277044404,-0.07538670862631718,null],\"type\":\"scatter\"},{\"line\":{\"color\":\"mediumaquamarine\",\"shape\":\"spline\",\"width\":1.0},\"mode\":\"lines\",\"x\":[0.17562943646688942,0.08961586028085518,null],\"y\":[0.2056200197659469,0.4593806278494334,null],\"type\":\"scatter\"},{\"line\":{\"color\":\"mediumaquamarine\",\"shape\":\"spline\",\"width\":1.0},\"mode\":\"lines\",\"x\":[0.17562943646688942,0.13960957067392432,null],\"y\":[0.2056200197659469,-0.027660191158153536,null],\"type\":\"scatter\"},{\"line\":{\"color\":\"mediumaquamarine\",\"shape\":\"spline\",\"width\":1.0},\"mode\":\"lines\",\"x\":[0.2549414379063806,0.08961586028085518,null],\"y\":[0.6779795783515205,0.4593806278494334,null],\"type\":\"scatter\"},{\"line\":{\"color\":\"mediumaquamarine\",\"shape\":\"spline\",\"width\":1.189207115002721},\"mode\":\"lines\",\"x\":[0.2549414379063806,0.004457929013975924,null],\"y\":[0.6779795783515205,0.3543629794468247,null],\"type\":\"scatter\"},{\"line\":{\"color\":\"mediumaquamarine\",\"shape\":\"spline\",\"width\":1.6265765616977856},\"mode\":\"lines\",\"x\":[0.2549414379063806,-0.08695325354031205,null],\"y\":[0.6779795783515205,-0.07538670862631718,null],\"type\":\"scatter\"},{\"line\":{\"color\":\"mediumaquamarine\",\"shape\":\"spline\",\"width\":1.189207115002721},\"mode\":\"lines\",\"x\":[0.16370511734668963,0.08961586028085518,null],\"y\":[0.27916871134945387,0.4593806278494334,null],\"type\":\"scatter\"},{\"line\":{\"color\":\"mediumaquamarine\",\"shape\":\"spline\",\"width\":1.0},\"mode\":\"lines\",\"x\":[0.16370511734668963,0.004457929013975924,null],\"y\":[0.27916871134945387,0.3543629794468247,null],\"type\":\"scatter\"},{\"line\":{\"color\":\"mediumaquamarine\",\"shape\":\"spline\",\"width\":1.3160740129524924},\"mode\":\"lines\",\"x\":[0.16370511734668963,-0.08695325354031205,null],\"y\":[0.27916871134945387,-0.07538670862631718,null],\"type\":\"scatter\"},{\"line\":{\"color\":\"mediumaquamarine\",\"shape\":\"spline\",\"width\":1.0},\"mode\":\"lines\",\"x\":[0.34239108842616267,0.4871525780373211,null],\"y\":[-0.35186457877064076,-0.2428845705345533,null],\"type\":\"scatter\"},{\"line\":{\"color\":\"mediumaquamarine\",\"shape\":\"spline\",\"width\":1.0},\"mode\":\"lines\",\"x\":[0.0334656636056993,-0.08695325354031205,null],\"y\":[0.06447809777141349,-0.07538670862631718,null],\"type\":\"scatter\"},{\"line\":{\"color\":\"mediumaquamarine\",\"shape\":\"spline\",\"width\":1.0},\"mode\":\"lines\",\"x\":[-0.42741493815951587,-0.29344633482240606,null],\"y\":[-0.3169496766345623,-0.03596952649559593,null],\"type\":\"scatter\"},{\"line\":{\"color\":\"mediumaquamarine\",\"shape\":\"spline\",\"width\":1.0},\"mode\":\"lines\",\"x\":[-0.42741493815951587,-0.2818948559021931,null],\"y\":[-0.3169496766345623,-0.44252985106381776,null],\"type\":\"scatter\"},{\"line\":{\"color\":\"mediumaquamarine\",\"shape\":\"spline\",\"width\":1.0},\"mode\":\"lines\",\"x\":[-0.18946871443934,-0.2818948559021931,null],\"y\":[-0.5665909422906474,-0.44252985106381776,null],\"type\":\"scatter\"},{\"line\":{\"color\":\"mediumaquamarine\",\"shape\":\"spline\",\"width\":1.681792830507429},\"mode\":\"lines\",\"x\":[-0.38683336102777477,-0.08695325354031205,null],\"y\":[-0.6295172656394739,-0.07538670862631718,null],\"type\":\"scatter\"},{\"line\":{\"color\":\"mediumaquamarine\",\"shape\":\"spline\",\"width\":1.0},\"mode\":\"lines\",\"x\":[-0.38683336102777477,-0.2818948559021931,null],\"y\":[-0.6295172656394739,-0.44252985106381776,null],\"type\":\"scatter\"},{\"line\":{\"color\":\"mediumaquamarine\",\"shape\":\"spline\",\"width\":1.0},\"mode\":\"lines\",\"x\":[0.36822852273088647,0.3068269255642774,null],\"y\":[1.0,0.8261687727764895,null],\"type\":\"scatter\"},{\"line\":{\"color\":\"mediumaquamarine\",\"shape\":\"spline\",\"width\":1.189207115002721},\"mode\":\"lines\",\"x\":[0.008716139011864993,-0.29344633482240606,null],\"y\":[-0.23666621721740924,-0.03596952649559593,null],\"type\":\"scatter\"},{\"line\":{\"color\":\"mediumaquamarine\",\"shape\":\"spline\",\"width\":1.0},\"mode\":\"lines\",\"x\":[0.008716139011864993,0.008716139011864993,null],\"y\":[-0.23666621721740924,-0.23666621721740924,null],\"type\":\"scatter\"},{\"line\":{\"color\":\"mediumaquamarine\",\"shape\":\"spline\",\"width\":1.0},\"mode\":\"lines\",\"x\":[0.03347138902025385,-0.08695325354031205,null],\"y\":[0.06448280370218086,-0.07538670862631718,null],\"type\":\"scatter\"},{\"line\":{\"color\":\"mediumaquamarine\",\"shape\":\"spline\",\"width\":1.3160740129524924},\"mode\":\"lines\",\"x\":[0.3346138397925635,-0.08695325354031205,null],\"y\":[0.48815398785834274,-0.07538670862631718,null],\"type\":\"scatter\"},{\"line\":{\"color\":\"mediumaquamarine\",\"shape\":\"spline\",\"width\":1.0},\"mode\":\"lines\",\"x\":[0.3346138397925635,0.2549414379063806,null],\"y\":[0.48815398785834274,0.6779795783515205,null],\"type\":\"scatter\"},{\"line\":{\"color\":\"mediumaquamarine\",\"shape\":\"spline\",\"width\":1.3160740129524924},\"mode\":\"lines\",\"x\":[-0.312891539237089,-0.08695325354031205,null],\"y\":[0.0016430166051115294,-0.07538670862631718,null],\"type\":\"scatter\"},{\"line\":{\"color\":\"mediumaquamarine\",\"shape\":\"spline\",\"width\":1.0},\"mode\":\"lines\",\"x\":[-0.312891539237089,-0.312891539237089,null],\"y\":[0.0016430166051115294,0.0016430166051115294,null],\"type\":\"scatter\"},{\"line\":{\"color\":\"mediumaquamarine\",\"shape\":\"spline\",\"width\":1.0},\"mode\":\"lines\",\"x\":[-0.20286231274089161,-0.10643692445499014,null],\"y\":[-0.020278251268973393,-0.17365888735898655,null],\"type\":\"scatter\"},{\"line\":{\"color\":\"mediumaquamarine\",\"shape\":\"spline\",\"width\":1.0},\"mode\":\"lines\",\"x\":[-0.1315755655182324,-0.20302497250194784,null],\"y\":[-0.15480135158774191,0.01168773772602277,null],\"type\":\"scatter\"},{\"line\":{\"color\":\"mediumaquamarine\",\"shape\":\"spline\",\"width\":1.0},\"mode\":\"lines\",\"x\":[-0.3772310513142015,-0.2818948559021931,null],\"y\":[-0.6247697794490703,-0.44252985106381776,null],\"type\":\"scatter\"},{\"line\":{\"color\":\"mediumaquamarine\",\"shape\":\"spline\",\"width\":1.0},\"mode\":\"lines\",\"x\":[0.018800648856448984,0.004457929013975924,null],\"y\":[0.11550523247121236,0.3543629794468247,null],\"type\":\"scatter\"},{\"line\":{\"color\":\"mediumaquamarine\",\"shape\":\"spline\",\"width\":1.0},\"mode\":\"lines\",\"x\":[0.018800648856448984,-0.08695325354031205,null],\"y\":[0.11550523247121236,-0.07538670862631718,null],\"type\":\"scatter\"},{\"line\":{\"color\":\"mediumaquamarine\",\"shape\":\"spline\",\"width\":1.0},\"mode\":\"lines\",\"x\":[-0.05483177345159118,0.06018029049510069,null],\"y\":[-0.07214049622678836,0.06787272007615523,null],\"type\":\"scatter\"},{\"line\":{\"color\":\"mediumaquamarine\",\"shape\":\"spline\",\"width\":1.0},\"mode\":\"lines\",\"x\":[0.03347043256927663,-0.08695325354031205,null],\"y\":[0.06448884453259544,-0.07538670862631718,null],\"type\":\"scatter\"},{\"line\":{\"color\":\"mediumaquamarine\",\"shape\":\"spline\",\"width\":1.0},\"mode\":\"lines\",\"x\":[-0.16089493712799743,-0.12898504773171734,null],\"y\":[-0.20722251811597334,-0.004665163142965947,null],\"type\":\"scatter\"},{\"line\":{\"color\":\"mediumaquamarine\",\"shape\":\"spline\",\"width\":1.0},\"mode\":\"lines\",\"x\":[-0.16089493712799743,-0.08695325354031205,null],\"y\":[-0.20722251811597334,-0.07538670862631718,null],\"type\":\"scatter\"},{\"line\":{\"color\":\"mediumaquamarine\",\"shape\":\"spline\",\"width\":1.0},\"mode\":\"lines\",\"x\":[-0.16089493712799743,-0.29344633482240606,null],\"y\":[-0.20722251811597334,-0.03596952649559593,null],\"type\":\"scatter\"},{\"line\":{\"color\":\"mediumaquamarine\",\"shape\":\"spline\",\"width\":1.0},\"mode\":\"lines\",\"x\":[0.033470883267033916,-0.08695325354031205,null],\"y\":[0.06448726187614828,-0.07538670862631718,null],\"type\":\"scatter\"},{\"line\":{\"color\":\"mediumaquamarine\",\"shape\":\"spline\",\"width\":1.0},\"mode\":\"lines\",\"x\":[0.03347040176847653,-0.08695325354031205,null],\"y\":[0.0644869889734642,-0.07538670862631718,null],\"type\":\"scatter\"},{\"line\":{\"color\":\"mediumaquamarine\",\"shape\":\"spline\",\"width\":1.3160740129524924},\"mode\":\"lines\",\"x\":[-0.30609588649372244,-0.08695325354031205,null],\"y\":[0.1625503325657921,-0.07538670862631718,null],\"type\":\"scatter\"},{\"line\":{\"color\":\"mediumaquamarine\",\"shape\":\"spline\",\"width\":1.0},\"mode\":\"lines\",\"x\":[0.03346561779690954,-0.08695325354031205,null],\"y\":[0.0644891185434794,-0.07538670862631718,null],\"type\":\"scatter\"},{\"line\":{\"color\":\"mediumaquamarine\",\"shape\":\"spline\",\"width\":1.189207115002721},\"mode\":\"lines\",\"x\":[-0.2818948559021931,-0.08695325354031205,null],\"y\":[-0.44252985106381776,-0.07538670862631718,null],\"type\":\"scatter\"},{\"line\":{\"color\":\"mediumaquamarine\",\"shape\":\"spline\",\"width\":1.4142135623730951},\"mode\":\"lines\",\"x\":[-0.2818948559021931,-0.2818948559021931,null],\"y\":[-0.44252985106381776,-0.44252985106381776,null],\"type\":\"scatter\"},{\"line\":{\"color\":\"mediumaquamarine\",\"shape\":\"spline\",\"width\":1.0},\"mode\":\"lines\",\"x\":[0.13960957067392432,-0.08695325354031205,null],\"y\":[-0.027660191158153536,-0.07538670862631718,null],\"type\":\"scatter\"},{\"line\":{\"color\":\"mediumaquamarine\",\"shape\":\"spline\",\"width\":1.0},\"mode\":\"lines\",\"x\":[0.13960957067392432,0.4871525780373211,null],\"y\":[-0.027660191158153536,-0.2428845705345533,null],\"type\":\"scatter\"},{\"line\":{\"color\":\"mediumaquamarine\",\"shape\":\"spline\",\"width\":1.0},\"mode\":\"lines\",\"x\":[0.03346547623657346,-0.08695325354031205,null],\"y\":[0.0644907682973989,-0.07538670862631718,null],\"type\":\"scatter\"},{\"line\":{\"color\":\"mediumaquamarine\",\"shape\":\"spline\",\"width\":1.0},\"mode\":\"lines\",\"x\":[0.012564160111342189,-0.15052093739173425,null],\"y\":[-0.18202714172265996,-0.10309786469926445,null],\"type\":\"scatter\"},{\"line\":{\"color\":\"mediumaquamarine\",\"shape\":\"spline\",\"width\":1.0},\"mode\":\"lines\",\"x\":[0.05032495292228812,0.15616485289907567,null],\"y\":[-0.14756334226425505,-0.000505235181103751,null],\"type\":\"scatter\"},{\"line\":{\"color\":\"mediumaquamarine\",\"shape\":\"spline\",\"width\":1.0},\"mode\":\"lines\",\"x\":[-0.4807206343071841,-0.38683336102777477,null],\"y\":[-0.7920958712021924,-0.6295172656394739,null],\"type\":\"scatter\"},{\"line\":{\"color\":\"mediumaquamarine\",\"shape\":\"spline\",\"width\":1.0},\"mode\":\"lines\",\"x\":[-0.17364815157004085,-0.08695325354031205,null],\"y\":[-0.2767292020047346,-0.07538670862631718,null],\"type\":\"scatter\"},{\"line\":{\"color\":\"mediumaquamarine\",\"shape\":\"spline\",\"width\":1.0},\"mode\":\"lines\",\"x\":[-0.17364815157004085,-0.2818948559021931,null],\"y\":[-0.2767292020047346,-0.44252985106381776,null],\"type\":\"scatter\"},{\"line\":{\"color\":\"mediumaquamarine\",\"shape\":\"spline\",\"width\":1.0},\"mode\":\"lines\",\"x\":[-0.3769989176941771,-0.2818948559021931,null],\"y\":[-0.6247515469597049,-0.44252985106381776,null],\"type\":\"scatter\"},{\"line\":{\"color\":\"mediumaquamarine\",\"shape\":\"spline\",\"width\":1.0},\"mode\":\"lines\",\"x\":[0.18565954934956175,0.06759711426636152,null],\"y\":[0.19401074415010133,0.056650279561980564,null],\"type\":\"scatter\"},{\"line\":{\"color\":\"mediumaquamarine\",\"shape\":\"spline\",\"width\":1.0},\"mode\":\"lines\",\"x\":[0.18565954934956175,0.09162971017790357,null],\"y\":[0.19401074415010133,0.32533549818106977,null],\"type\":\"scatter\"},{\"line\":{\"color\":\"mediumaquamarine\",\"shape\":\"spline\",\"width\":1.0},\"mode\":\"lines\",\"x\":[0.18565954934956175,0.03690757311912295,null],\"y\":[0.19401074415010133,0.07014768085097099,null],\"type\":\"scatter\"},{\"line\":{\"color\":\"mediumaquamarine\",\"shape\":\"spline\",\"width\":1.0},\"mode\":\"lines\",\"x\":[-0.09636740175474885,0.08961586028085518,null],\"y\":[0.19764995116699322,0.4593806278494334,null],\"type\":\"scatter\"},{\"line\":{\"color\":\"mediumaquamarine\",\"shape\":\"spline\",\"width\":1.0},\"mode\":\"lines\",\"x\":[-0.09636740175474885,-0.12898504773171734,null],\"y\":[0.19764995116699322,-0.004665163142965947,null],\"type\":\"scatter\"},{\"line\":{\"color\":\"mediumaquamarine\",\"shape\":\"spline\",\"width\":1.0},\"mode\":\"lines\",\"x\":[-0.09636740175474885,0.004457929013975924,null],\"y\":[0.19764995116699322,0.3543629794468247,null],\"type\":\"scatter\"},{\"line\":{\"color\":\"mediumaquamarine\",\"shape\":\"spline\",\"width\":1.0},\"mode\":\"lines\",\"x\":[-0.09636740175474885,-0.29344633482240606,null],\"y\":[0.19764995116699322,-0.03596952649559593,null],\"type\":\"scatter\"},{\"line\":{\"color\":\"mediumaquamarine\",\"shape\":\"spline\",\"width\":1.0},\"mode\":\"lines\",\"x\":[0.0334517847351091,-0.08695325354031205,null],\"y\":[0.06449792624677915,-0.07538670862631718,null],\"type\":\"scatter\"},{\"line\":{\"color\":\"mediumaquamarine\",\"shape\":\"spline\",\"width\":1.0},\"mode\":\"lines\",\"x\":[0.033450784964510386,-0.08695325354031205,null],\"y\":[0.06449836690673241,-0.07538670862631718,null],\"type\":\"scatter\"},{\"line\":{\"color\":\"mediumaquamarine\",\"shape\":\"spline\",\"width\":1.0},\"mode\":\"lines\",\"x\":[0.09834909967759214,0.19947454026062006,null],\"y\":[-0.17506449651540207,-0.024738405272299095,null],\"type\":\"scatter\"},{\"line\":{\"color\":\"mediumaquamarine\",\"shape\":\"spline\",\"width\":1.0},\"mode\":\"lines\",\"x\":[0.14927949178667752,0.14927949178667752,null],\"y\":[-0.10706650115314445,-0.10706650115314445,null],\"type\":\"scatter\"},{\"line\":{\"color\":\"mediumaquamarine\",\"shape\":\"spline\",\"width\":1.0},\"mode\":\"lines\",\"x\":[0.033450000452415946,-0.08695325354031205,null],\"y\":[0.06449592349369405,-0.07538670862631718,null],\"type\":\"scatter\"},{\"line\":{\"color\":\"mediumaquamarine\",\"shape\":\"spline\",\"width\":1.0},\"mode\":\"lines\",\"x\":[0.033450694300734184,-0.08695325354031205,null],\"y\":[0.0645004694202384,-0.07538670862631718,null],\"type\":\"scatter\"},{\"line\":{\"color\":\"mediumaquamarine\",\"shape\":\"spline\",\"width\":1.189207115002721},\"mode\":\"lines\",\"x\":[0.14567109515693427,-0.08695325354031205,null],\"y\":[0.27880404581876694,-0.07538670862631718,null],\"type\":\"scatter\"},{\"line\":{\"color\":\"mediumaquamarine\",\"shape\":\"spline\",\"width\":1.0},\"mode\":\"lines\",\"x\":[-0.48074316568471503,-0.38683336102777477,null],\"y\":[-0.7921228533666063,-0.6295172656394739,null],\"type\":\"scatter\"},{\"line\":{\"color\":\"mediumaquamarine\",\"shape\":\"spline\",\"width\":1.0},\"mode\":\"lines\",\"x\":[-0.08855825793806439,-0.29344633482240606,null],\"y\":[0.14765145518705597,-0.03596952649559593,null],\"type\":\"scatter\"},{\"line\":{\"color\":\"mediumaquamarine\",\"shape\":\"spline\",\"width\":1.0},\"mode\":\"lines\",\"x\":[-0.08855825793806439,0.16370511734668963,null],\"y\":[0.14765145518705597,0.27916871134945387,null],\"type\":\"scatter\"},{\"line\":{\"color\":\"mediumaquamarine\",\"shape\":\"spline\",\"width\":1.0},\"mode\":\"lines\",\"x\":[-0.08855825793806439,-0.312891539237089,null],\"y\":[0.14765145518705597,0.0016430166051115294,null],\"type\":\"scatter\"},{\"line\":{\"color\":\"mediumaquamarine\",\"shape\":\"spline\",\"width\":1.0},\"mode\":\"lines\",\"x\":[0.03346110415273372,-0.08695325354031205,null],\"y\":[0.06449625406540806,-0.07538670862631718,null],\"type\":\"scatter\"},{\"line\":{\"color\":\"mediumaquamarine\",\"shape\":\"spline\",\"width\":1.0},\"mode\":\"lines\",\"x\":[0.03349024132105787,-0.08695325354031205,null],\"y\":[0.06441946945177784,-0.07538670862631718,null],\"type\":\"scatter\"},{\"line\":{\"color\":\"mediumaquamarine\",\"shape\":\"spline\",\"width\":1.0},\"mode\":\"lines\",\"x\":[0.03349024132105787,0.04263245671847832,null],\"y\":[0.06441946945177784,-0.1165565237730921,null],\"type\":\"scatter\"},{\"line\":{\"color\":\"mediumaquamarine\",\"shape\":\"spline\",\"width\":1.0},\"mode\":\"lines\",\"x\":[0.03690757311912295,-0.08695325354031205,null],\"y\":[0.07014768085097099,-0.07538670862631718,null],\"type\":\"scatter\"},{\"hovertemplate\":[\"202001Chris Murphy\",\"202001Chris Van Hollen\",\"202001Bill Clinton\",\"202001Darrell Issa\",\"202001David Plouffe\",\"202001Mick Mulvaney\",\"202001Joe Scarborough\",\"202001Ed Markey\",\"202001Jennifer Horn\",\"202001Jeff Merkley\",\"202001Toni Atkins\",\"202001David Jolly\",\"202001John Dean\",\"202001Mazie Hirono\",\"202001Nury Martinez\",\"202001Nancy Pelosi\",\"202001Jennifer Palmieri\",\"202001Trey Gowdy\",\"202001Steve Bartlett\",\"202001Steve Scalise\",\"202001Pramila Jayapal\",\"202001Mark Pocan\",\"202001Richard Blumenthal\",\"202001Paul Gosar\",\"202001Rudy Giuliani\",\"202001Rick Perry\",\"202001Zoe Lofgren\",\"202001Jackie Speier\",\"202001Lindsey Graham\",\"202001Kirsten Gillibrand\",\"202001Amy Klobuchar\",\"202001Claire McCaskill\",\"202001Olympia Snowe\",\"202001Donald Trump\",\"202001Mike Pence\",\"202001Jeanne Shaheen\",\"202001Jon Ossoff\",\"202001Tammy Duckworth\",\"202001Karl Rove\",\"202001John R. Bolton\",\"202001Marianne Williamson\",\"202001Marco Rubio\",\"202001Tulsi Gabbard\",\"202001Rex Tillerson\",\"202001Adam Schiff\",\"202001Mitch McConnell\",\"202001Chuck Schumer\",\"202001Ann McLane Kuster\",\"202001Mark Randall Meadows\",\"202001Kevin Cramer\",\"202001Lamar Alexander\",\"202001Elizabeth Warren\",\"202001Rick Scott\",\"202001Mitt Romney\",\"202001Carolyn Maloney\",\"202001Gavin Newsom\",\"202001Rand Paul\",\"202001Mike Pompeo\",\"202001Marie Newman\",\"202001Carl DeMaio\",\"202001Chris Pappas\",\"202001Dan Lipinski\",\"202001Duncan L. Hunter\",\"202001Jack Reed\",\"202001Pat Roberts\",\"202001Luz Rivas\",\"202001Alexandria Ocasio-Cortez\",\"202001Michael Bennet\",\"202001Hakeem Jeffries\",\"202001Elaine Luria\",\"202001Patrick Leahy\",\"202001Michael Bloomberg\",\"202001Jeff Van Drew\",\"202001John Rood\",\"202001Joe Biden\",\"202001Hillary Clinton\",\"202001Kellyanne Conway\",\"202001Chris Christie\",\"202001Kevin Faulconer\",\"202001Kevin McCarthy\",\"202001Krystal Ball\",\"202001Martha Fuller Clark\",\"202001Pam Bondi\",\"202001Pete Buttigieg\",\"202001John Cornyn\",\"202001William Barr\",\"202001Rashida Tlaib\",\"202001Ro Khanna\",\"202001Ryan Winkler\",\"202001Barack Obama\",\"202001Kevin McCarthy\",\"202001Tate Reeves\",\"202001Ted Lieu\",\"202001Scott Tipton\",\"202001Val Demings\",\"202001Warren Limmer\",\"202001Peter Shumlin\",\"202001Chris Coons\",\"202001Ra\\u00fal Grijalva\",\"202001Patrick J. Kennedy\",\"202001Juli\\u00e1n Castro\"],\"marker\":{\"color\":[\"blue\",\"blue\",\"blue\",\"blue\",\"blue\",\"blue\",\"blue\",\"blue\",\"blue\",\"blue\",\"blue\",\"blue\",\"blue\",\"blue\",\"blue\",\"blue\",\"blue\",\"blue\",\"blue\",\"blue\",\"blue\",\"blue\",\"blue\",\"blue\",\"blue\",\"blue\",\"blue\",\"blue\",\"blue\",\"blue\",\"blue\",\"blue\",\"blue\",\"blue\",\"blue\",\"blue\",\"blue\",\"blue\",\"blue\",\"blue\",\"blue\",\"blue\",\"blue\",\"blue\",\"blue\",\"blue\",\"blue\",\"blue\",\"blue\",\"blue\",\"red\",\"red\",\"red\",\"red\",\"red\",\"red\",\"red\",\"red\",\"red\",\"red\",\"red\",\"red\",\"red\",\"red\",\"red\",\"red\",\"red\",\"red\",\"red\",\"red\",\"red\",\"red\",\"red\",\"red\",\"red\",\"red\",\"red\",\"red\",\"red\",\"red\",\"red\",\"red\",\"red\",\"red\",\"red\",\"red\",\"red\",\"red\",\"red\",\"red\",\"red\",\"red\",\"red\",\"red\",\"red\",\"red\",\"red\",\"red\",\"red\",\"red\",\"red\"],\"line\":{\"color\":[\"blue\",\"blue\",\"blue\",\"blue\",\"blue\",\"blue\",\"blue\",\"blue\",\"blue\",\"blue\",\"blue\",\"blue\",\"blue\",\"blue\",\"blue\",\"blue\",\"blue\",\"blue\",\"blue\",\"blue\",\"blue\",\"blue\",\"blue\",\"blue\",\"blue\",\"blue\",\"blue\",\"blue\",\"blue\",\"blue\",\"blue\",\"blue\",\"blue\",\"blue\",\"blue\",\"blue\",\"blue\",\"blue\",\"blue\",\"blue\",\"blue\",\"blue\",\"blue\",\"blue\",\"blue\",\"blue\",\"blue\",\"blue\",\"blue\",\"blue\",\"red\",\"red\",\"red\",\"red\",\"red\",\"red\",\"red\",\"red\",\"red\",\"red\",\"red\",\"red\",\"red\",\"red\",\"red\",\"red\",\"red\",\"red\",\"red\",\"red\",\"red\",\"red\",\"red\",\"red\",\"red\",\"red\",\"red\",\"red\",\"red\",\"red\",\"red\",\"red\",\"red\",\"red\",\"red\",\"red\",\"red\",\"red\",\"red\",\"red\",\"red\",\"red\",\"red\",\"red\",\"red\",\"red\",\"red\",\"red\",\"red\",\"red\",\"red\"],\"width\":2},\"size\":15},\"mode\":\"markers\",\"x\":[-0.17364932648352036,0.033467161326702126,0.08961586028085518,0.15616485289907567,-0.3770998630329571,-0.12898504773171734,-0.15571577551053056,0.03346915404554261,0.033467490834916784,0.033465555730693944,0.033463203180876304,0.3331171598668633,0.36875984550802837,0.03352033174963888,0.06018029049510069,0.3068269255642774,0.033458254211490006,0.03345637405487002,0.03345564540698469,0.1341016343612161,0.018107939947814324,0.0334551428424923,-0.37726127246990726,0.3538382386703728,0.004457929013975924,-0.3209471836321768,0.033459873280336686,0.03345815815746938,0.04087204039474477,0.06759711426636152,0.09162971017790357,0.23209061048953614,-0.103690670683909,-0.08695325354031205,0.4860281295043436,0.033475025507192065,0.033474106420075714,0.03347325292127317,-0.3211017409554589,-0.29344633482240606,0.03347359444011551,0.03347416117099885,0.17562943646688942,-0.32112472704950157,0.2549414379063806,0.3256173196143792,0.16370511734668963,0.34239108842616267,0.0334656636056993,-0.42741493815951587,-0.18946871443934,-0.38683336102777477,0.36822852273088647,0.008716139011864993,0.03347138902025385,-0.20302497250194784,0.3346138397925635,-0.312891539237089,-0.20286231274089161,-0.1315755655182324,-0.15052093739173425,-0.10643692445499014,-0.3772310513142015,0.018800648856448984,0.010200206625450512,-0.05483177345159118,-0.06354263809013164,0.03347043256927663,-0.16089493712799743,0.033470883267033916,0.03347040176847653,-0.30609588649372244,0.04263245671847832,0.03346561779690954,-0.2818948559021931,0.13960957067392432,0.03346547623657346,0.012564160111342189,0.05032495292228812,0.1561536923959958,-0.4807206343071841,-0.17364815157004085,-0.3769989176941771,0.18565954934956175,-0.09636740175474885,0.1023557026285066,0.0334517847351091,0.033450784964510386,0.09834909967759214,0.4871525780373211,0.15616467218367705,0.14927949178667752,0.033450000452415946,0.033450694300734184,0.14567109515693427,0.19947454026062006,-0.48074316568471503,-0.08855825793806439,0.03346110415273372,0.03349024132105787,0.03690757311912295],\"y\":[-0.2767263333001506,0.06449212834159318,0.4593806278494334,-0.000505235181103751,-0.624724212734978,-0.004665163142965947,-0.29587001331636964,0.06448337620787767,0.06448434699555912,0.06448476335414165,0.0644839229640926,0.875030989568806,0.999856748237832,0.06436751456904949,0.06787272007615523,0.8261687727764895,0.06447804985493119,0.06447704840534138,0.0644751378019206,-0.05863572536234008,0.09227770481349064,0.06446938829155141,-0.6246858014524563,-0.3655088340608702,0.3543629794468247,0.03605194482999433,0.06447423553044625,0.06447241443462702,0.00449252476760167,0.056650279561980564,0.32533549818106977,0.4468296732068744,-0.12239757411585482,-0.07538670862631718,-0.03476823783240991,0.0644962849106824,0.06449589984832602,0.0644959379736717,0.03604832650622977,-0.03596952649559593,0.06448390322437116,0.06448357277044404,0.2056200197659469,0.03604456306387024,0.6779795783515205,0.6439974157491533,0.27916871134945387,-0.35186457877064076,0.06447809777141349,-0.3169496766345623,-0.5665909422906474,-0.6295172656394739,1.0,-0.23666621721740924,0.06448280370218086,0.01168773772602277,0.48815398785834274,0.0016430166051115294,-0.020278251268973393,-0.15480135158774191,-0.10309786469926445,-0.17365888735898655,-0.6247697794490703,0.11550523247121236,-0.36902132611790534,-0.07214049622678836,-0.06947569924820994,0.06448884453259544,-0.20722251811597334,0.06448726187614828,0.0644869889734642,0.1625503325657921,-0.1165565237730921,0.0644891185434794,-0.44252985106381776,-0.027660191158153536,0.0644907682973989,-0.18202714172265996,-0.14756334226425505,-0.27718055756721105,-0.7920958712021924,-0.2767292020047346,-0.6247515469597049,0.19401074415010133,0.19764995116699322,-0.10331629042455082,0.06449792624677915,0.06449836690673241,-0.17506449651540207,-0.2428845705345533,-0.27719791603359706,-0.10706650115314445,0.06449592349369405,0.0645004694202384,0.27880404581876694,-0.024738405272299095,-0.7921228533666063,0.14765145518705597,0.06449625406540806,0.06441946945177784,0.07014768085097099],\"type\":\"scatter\"},{\"line\":{\"color\":\"mediumaquamarine\",\"shape\":\"spline\",\"width\":1.0},\"mode\":\"lines\",\"x\":[-0.2538861614724361,-0.046990916455814886,null],\"y\":[0.17220692594315112,0.21284037145690396,null],\"type\":\"scatter\"},{\"line\":{\"color\":\"mediumaquamarine\",\"shape\":\"spline\",\"width\":1.0},\"mode\":\"lines\",\"x\":[-0.2539381898342635,-0.046990916455814886,null],\"y\":[0.17255091880895743,0.21284037145690396,null],\"type\":\"scatter\"},{\"line\":{\"color\":\"mediumaquamarine\",\"shape\":\"spline\",\"width\":1.0},\"mode\":\"lines\",\"x\":[-0.2539381898342635,-0.3199196702440453,null],\"y\":[0.17255091880895743,0.36553087546356533,null],\"type\":\"scatter\"},{\"line\":{\"color\":\"mediumaquamarine\",\"shape\":\"spline\",\"width\":1.0},\"mode\":\"lines\",\"x\":[0.5717946181503243,0.2690374449616967,null],\"y\":[-0.4312742408832208,-0.2386533395725597,null],\"type\":\"scatter\"},{\"line\":{\"color\":\"mediumaquamarine\",\"shape\":\"spline\",\"width\":1.0},\"mode\":\"lines\",\"x\":[-0.2539092570184062,-0.046990916455814886,null],\"y\":[0.17221107383309545,0.21284037145690396,null],\"type\":\"scatter\"},{\"line\":{\"color\":\"mediumaquamarine\",\"shape\":\"spline\",\"width\":1.0},\"mode\":\"lines\",\"x\":[-0.2584506856788922,-0.05269437140111136,null],\"y\":[-0.24396368001567295,-0.16141589383709587,null],\"type\":\"scatter\"},{\"line\":{\"color\":\"mediumaquamarine\",\"shape\":\"spline\",\"width\":1.0},\"mode\":\"lines\",\"x\":[-0.2584506856788922,-0.13227150054974252,null],\"y\":[-0.24396368001567295,-0.4061684684530822,null],\"type\":\"scatter\"},{\"line\":{\"color\":\"mediumaquamarine\",\"shape\":\"spline\",\"width\":1.0},\"mode\":\"lines\",\"x\":[0.15278945242584727,-0.046990916455814886,null],\"y\":[0.13508204051531492,0.21284037145690396,null],\"type\":\"scatter\"},{\"line\":{\"color\":\"mediumaquamarine\",\"shape\":\"spline\",\"width\":1.0},\"mode\":\"lines\",\"x\":[0.15278945242584727,0.29094739705890743,null],\"y\":[0.13508204051531492,-0.06815794270007974,null],\"type\":\"scatter\"},{\"line\":{\"color\":\"mediumaquamarine\",\"shape\":\"spline\",\"width\":1.0},\"mode\":\"lines\",\"x\":[0.5762186531291856,0.4846135595614289,null],\"y\":[0.3713792441072575,0.18930843196130914,null],\"type\":\"scatter\"},{\"line\":{\"color\":\"mediumaquamarine\",\"shape\":\"spline\",\"width\":1.189207115002721},\"mode\":\"lines\",\"x\":[0.5762186531291856,-0.046990916455814886,null],\"y\":[0.3713792441072575,0.21284037145690396,null],\"type\":\"scatter\"},{\"line\":{\"color\":\"mediumaquamarine\",\"shape\":\"spline\",\"width\":1.0},\"mode\":\"lines\",\"x\":[0.5762186531291856,0.48518973330265514,null],\"y\":[0.3713792441072575,0.18904054538114498,null],\"type\":\"scatter\"},{\"line\":{\"color\":\"mediumaquamarine\",\"shape\":\"spline\",\"width\":1.0},\"mode\":\"lines\",\"x\":[1.0,0.8265829259162691,null],\"y\":[-0.7690370611023601,-0.6386003475290047,null],\"type\":\"scatter\"},{\"line\":{\"color\":\"mediumaquamarine\",\"shape\":\"spline\",\"width\":1.189207115002721},\"mode\":\"lines\",\"x\":[0.8195344616275223,0.2690374449616967,null],\"y\":[-0.6209115518318161,-0.2386533395725597,null],\"type\":\"scatter\"},{\"line\":{\"color\":\"mediumaquamarine\",\"shape\":\"spline\",\"width\":1.0},\"mode\":\"lines\",\"x\":[0.4372167577837611,0.18526365883956505,null],\"y\":[-0.8272211539236833,-0.5846179681822352,null],\"type\":\"scatter\"},{\"line\":{\"color\":\"mediumaquamarine\",\"shape\":\"spline\",\"width\":1.0},\"mode\":\"lines\",\"x\":[0.4372167577837611,0.4826589834327793,null],\"y\":[-0.8272211539236833,-0.6101178512510884,null],\"type\":\"scatter\"},{\"line\":{\"color\":\"mediumaquamarine\",\"shape\":\"spline\",\"width\":1.0},\"mode\":\"lines\",\"x\":[0.08788227220928034,0.29094739705890743,null],\"y\":[-0.08416431245137139,-0.06815794270007974,null],\"type\":\"scatter\"},{\"line\":{\"color\":\"mediumaquamarine\",\"shape\":\"spline\",\"width\":1.0},\"mode\":\"lines\",\"x\":[0.08916392585997854,0.29094739705890743,null],\"y\":[-0.0960604346143917,-0.06815794270007974,null],\"type\":\"scatter\"},{\"line\":{\"color\":\"mediumaquamarine\",\"shape\":\"spline\",\"width\":1.0},\"mode\":\"lines\",\"x\":[0.3428214176145803,0.22527806544787235,null],\"y\":[0.3731693014805722,0.5279681843610675,null],\"type\":\"scatter\"},{\"line\":{\"color\":\"mediumaquamarine\",\"shape\":\"spline\",\"width\":1.0},\"mode\":\"lines\",\"x\":[-0.08915512453278185,0.1661720714064134,null],\"y\":[-0.6398545116972019,-0.5009375979143256,null],\"type\":\"scatter\"},{\"line\":{\"color\":\"mediumaquamarine\",\"shape\":\"spline\",\"width\":1.0},\"mode\":\"lines\",\"x\":[0.11127417166858421,-0.046990916455814886,null],\"y\":[0.012322481288843744,0.21284037145690396,null],\"type\":\"scatter\"},{\"line\":{\"color\":\"mediumaquamarine\",\"shape\":\"spline\",\"width\":1.0},\"mode\":\"lines\",\"x\":[0.11127417166858421,0.2690374449616967,null],\"y\":[0.012322481288843744,-0.2386533395725597,null],\"type\":\"scatter\"},{\"line\":{\"color\":\"mediumaquamarine\",\"shape\":\"spline\",\"width\":1.0},\"mode\":\"lines\",\"x\":[-0.2539363034248378,-0.046990916455814886,null],\"y\":[0.17221007967781357,0.21284037145690396,null],\"type\":\"scatter\"},{\"line\":{\"color\":\"mediumaquamarine\",\"shape\":\"spline\",\"width\":1.0},\"mode\":\"lines\",\"x\":[0.22527806544787235,0.212089125231628,null],\"y\":[0.5279681843610675,0.8314757408770145,null],\"type\":\"scatter\"},{\"line\":{\"color\":\"mediumaquamarine\",\"shape\":\"spline\",\"width\":1.0},\"mode\":\"lines\",\"x\":[0.22527806544787235,0.29094739705890743,null],\"y\":[0.5279681843610675,-0.06815794270007974,null],\"type\":\"scatter\"},{\"line\":{\"color\":\"mediumaquamarine\",\"shape\":\"spline\",\"width\":1.0},\"mode\":\"lines\",\"x\":[0.22615442032495287,-0.046990916455814886,null],\"y\":[0.10216486433273929,0.21284037145690396,null],\"type\":\"scatter\"},{\"line\":{\"color\":\"mediumaquamarine\",\"shape\":\"spline\",\"width\":1.0},\"mode\":\"lines\",\"x\":[0.22615442032495287,0.49017376063827806,null],\"y\":[0.10216486433273929,-0.15794365254499812,null],\"type\":\"scatter\"},{\"line\":{\"color\":\"mediumaquamarine\",\"shape\":\"spline\",\"width\":1.0},\"mode\":\"lines\",\"x\":[-0.2539356830304834,-0.046990916455814886,null],\"y\":[0.17221289561172615,0.21284037145690396,null],\"type\":\"scatter\"},{\"line\":{\"color\":\"mediumaquamarine\",\"shape\":\"spline\",\"width\":1.0},\"mode\":\"lines\",\"x\":[0.08076597837894949,0.16369029533257448,null],\"y\":[0.14709990886015092,-0.03896215949186053,null],\"type\":\"scatter\"},{\"line\":{\"color\":\"mediumaquamarine\",\"shape\":\"spline\",\"width\":1.0},\"mode\":\"lines\",\"x\":[0.16482476725333625,0.3440215427162439,null],\"y\":[-0.35016037237416076,-0.44671807066658414,null],\"type\":\"scatter\"},{\"line\":{\"color\":\"mediumaquamarine\",\"shape\":\"spline\",\"width\":1.0},\"mode\":\"lines\",\"x\":[-0.25394375521144646,-0.046990916455814886,null],\"y\":[0.17221150187581225,0.21284037145690396,null],\"type\":\"scatter\"},{\"line\":{\"color\":\"mediumaquamarine\",\"shape\":\"spline\",\"width\":1.189207115002721},\"mode\":\"lines\",\"x\":[0.8265829259162691,0.2690374449616967,null],\"y\":[-0.6386003475290047,-0.2386533395725597,null],\"type\":\"scatter\"},{\"line\":{\"color\":\"mediumaquamarine\",\"shape\":\"spline\",\"width\":1.0},\"mode\":\"lines\",\"x\":[0.8265829259162691,0.7512084757501742,null],\"y\":[-0.6386003475290047,-0.4489586799444104,null],\"type\":\"scatter\"},{\"line\":{\"color\":\"mediumaquamarine\",\"shape\":\"spline\",\"width\":1.189207115002721},\"mode\":\"lines\",\"x\":[-0.03623166786590053,-0.046990916455814886,null],\"y\":[-0.35018066175006124,0.21284037145690396,null],\"type\":\"scatter\"},{\"line\":{\"color\":\"mediumaquamarine\",\"shape\":\"spline\",\"width\":1.0},\"mode\":\"lines\",\"x\":[-0.03623166786590053,0.18526365883956505,null],\"y\":[-0.35018066175006124,-0.5846179681822352,null],\"type\":\"scatter\"},{\"line\":{\"color\":\"mediumaquamarine\",\"shape\":\"spline\",\"width\":1.0},\"mode\":\"lines\",\"x\":[-0.03623166786590053,0.1661720714064134,null],\"y\":[-0.35018066175006124,-0.5009375979143256,null],\"type\":\"scatter\"},{\"line\":{\"color\":\"mediumaquamarine\",\"shape\":\"spline\",\"width\":1.0},\"mode\":\"lines\",\"x\":[0.013508990522313542,0.22527806544787235,null],\"y\":[0.47097700266376347,0.5279681843610675,null],\"type\":\"scatter\"},{\"line\":{\"color\":\"mediumaquamarine\",\"shape\":\"spline\",\"width\":1.0},\"mode\":\"lines\",\"x\":[-0.046990916455814886,-0.011145066958727804,null],\"y\":[0.21284037145690396,0.4887539221061084,null],\"type\":\"scatter\"},{\"line\":{\"color\":\"mediumaquamarine\",\"shape\":\"spline\",\"width\":1.3160740129524924},\"mode\":\"lines\",\"x\":[-0.046990916455814886,0.22527806544787235,null],\"y\":[0.21284037145690396,0.5279681843610675,null],\"type\":\"scatter\"},{\"line\":{\"color\":\"mediumaquamarine\",\"shape\":\"spline\",\"width\":1.0},\"mode\":\"lines\",\"x\":[-0.046990916455814886,0.013508990522313542,null],\"y\":[0.21284037145690396,0.47097700266376347,null],\"type\":\"scatter\"},{\"line\":{\"color\":\"mediumaquamarine\",\"shape\":\"spline\",\"width\":1.8988289221159418},\"mode\":\"lines\",\"x\":[-0.046990916455814886,-0.046990916455814886,null],\"y\":[0.21284037145690396,0.21284037145690396,null],\"type\":\"scatter\"},{\"line\":{\"color\":\"mediumaquamarine\",\"shape\":\"spline\",\"width\":1.0},\"mode\":\"lines\",\"x\":[-0.046990916455814886,0.049684873880099976,null],\"y\":[0.21284037145690396,0.45699884167901367,null],\"type\":\"scatter\"},{\"line\":{\"color\":\"mediumaquamarine\",\"shape\":\"spline\",\"width\":1.0},\"mode\":\"lines\",\"x\":[-0.046990916455814886,-0.05269437140111136,null],\"y\":[0.21284037145690396,-0.16141589383709587,null],\"type\":\"scatter\"},{\"line\":{\"color\":\"mediumaquamarine\",\"shape\":\"spline\",\"width\":1.0},\"mode\":\"lines\",\"x\":[-0.046990916455814886,-0.011353869742413328,null],\"y\":[0.21284037145690396,0.4888296673321951,null],\"type\":\"scatter\"},{\"line\":{\"color\":\"mediumaquamarine\",\"shape\":\"spline\",\"width\":1.0},\"mode\":\"lines\",\"x\":[-0.046990916455814886,-0.011370997543038799,null],\"y\":[0.21284037145690396,0.4887701309055294,null],\"type\":\"scatter\"},{\"line\":{\"color\":\"mediumaquamarine\",\"shape\":\"spline\",\"width\":1.189207115002721},\"mode\":\"lines\",\"x\":[-0.046990916455814886,0.29094739705890743,null],\"y\":[0.21284037145690396,-0.06815794270007974,null],\"type\":\"scatter\"},{\"line\":{\"color\":\"mediumaquamarine\",\"shape\":\"spline\",\"width\":1.0},\"mode\":\"lines\",\"x\":[-0.2538770915400085,-0.046990916455814886,null],\"y\":[0.17223040575230514,0.21284037145690396,null],\"type\":\"scatter\"},{\"line\":{\"color\":\"mediumaquamarine\",\"shape\":\"spline\",\"width\":1.0},\"mode\":\"lines\",\"x\":[-0.2538782982682559,-0.046990916455814886,null],\"y\":[0.17222603212301144,0.21284037145690396,null],\"type\":\"scatter\"},{\"line\":{\"color\":\"mediumaquamarine\",\"shape\":\"spline\",\"width\":1.0},\"mode\":\"lines\",\"x\":[0.11125572735401369,-0.046990916455814886,null],\"y\":[0.012316153053499859,0.21284037145690396,null],\"type\":\"scatter\"},{\"line\":{\"color\":\"mediumaquamarine\",\"shape\":\"spline\",\"width\":1.0},\"mode\":\"lines\",\"x\":[0.11125572735401369,0.2690374449616967,null],\"y\":[0.012316153053499859,-0.2386533395725597,null],\"type\":\"scatter\"},{\"line\":{\"color\":\"mediumaquamarine\",\"shape\":\"spline\",\"width\":1.0},\"mode\":\"lines\",\"x\":[0.1112554750212957,-0.046990916455814886,null],\"y\":[0.012316061713486226,0.21284037145690396,null],\"type\":\"scatter\"},{\"line\":{\"color\":\"mediumaquamarine\",\"shape\":\"spline\",\"width\":1.0},\"mode\":\"lines\",\"x\":[0.1112554750212957,0.2690374449616967,null],\"y\":[0.012316061713486226,-0.2386533395725597,null],\"type\":\"scatter\"},{\"line\":{\"color\":\"mediumaquamarine\",\"shape\":\"spline\",\"width\":1.0},\"mode\":\"lines\",\"x\":[-0.12707688946268036,-0.12707688946268036,null],\"y\":[0.1607551862602852,0.1607551862602852,null],\"type\":\"scatter\"},{\"line\":{\"color\":\"mediumaquamarine\",\"shape\":\"spline\",\"width\":1.0},\"mode\":\"lines\",\"x\":[-0.25384272277776576,-0.046990916455814886,null],\"y\":[0.17223182079879204,0.21284037145690396,null],\"type\":\"scatter\"},{\"line\":{\"color\":\"mediumaquamarine\",\"shape\":\"spline\",\"width\":1.0},\"mode\":\"lines\",\"x\":[-0.25384208432639827,-0.046990916455814886,null],\"y\":[0.17223281531674445,0.21284037145690396,null],\"type\":\"scatter\"},{\"line\":{\"color\":\"mediumaquamarine\",\"shape\":\"spline\",\"width\":1.0},\"mode\":\"lines\",\"x\":[-0.28022088432931513,-0.03623166786590053,null],\"y\":[-0.37343010964428164,-0.35018066175006124,null],\"type\":\"scatter\"},{\"line\":{\"color\":\"mediumaquamarine\",\"shape\":\"spline\",\"width\":1.0},\"mode\":\"lines\",\"x\":[-0.2538391742481084,-0.046990916455814886,null],\"y\":[0.17223487117422542,0.21284037145690396,null],\"type\":\"scatter\"},{\"line\":{\"color\":\"mediumaquamarine\",\"shape\":\"spline\",\"width\":1.189207115002721},\"mode\":\"lines\",\"x\":[-0.5079961449669633,-0.046990916455814886,null],\"y\":[0.18495564592576683,0.21284037145690396,null],\"type\":\"scatter\"},{\"line\":{\"color\":\"mediumaquamarine\",\"shape\":\"spline\",\"width\":1.0},\"mode\":\"lines\",\"x\":[0.18526365883956505,0.3440215427162439,null],\"y\":[-0.5846179681822352,-0.44671807066658414,null],\"type\":\"scatter\"},{\"line\":{\"color\":\"mediumaquamarine\",\"shape\":\"spline\",\"width\":1.0},\"mode\":\"lines\",\"x\":[0.5154831964841313,0.2690374449616967,null],\"y\":[-0.30063462263229446,-0.2386533395725597,null],\"type\":\"scatter\"},{\"line\":{\"color\":\"mediumaquamarine\",\"shape\":\"spline\",\"width\":1.0},\"mode\":\"lines\",\"x\":[0.5154831964841313,0.29094739705890743,null],\"y\":[-0.30063462263229446,-0.06815794270007974,null],\"type\":\"scatter\"},{\"line\":{\"color\":\"mediumaquamarine\",\"shape\":\"spline\",\"width\":1.0},\"mode\":\"lines\",\"x\":[0.049684873880099976,0.049684873880099976,null],\"y\":[0.45699884167901367,0.45699884167901367,null],\"type\":\"scatter\"},{\"line\":{\"color\":\"mediumaquamarine\",\"shape\":\"spline\",\"width\":1.0},\"mode\":\"lines\",\"x\":[-0.253886120638,-0.046990916455814886,null],\"y\":[0.17223906003869555,0.21284037145690396,null],\"type\":\"scatter\"},{\"line\":{\"color\":\"mediumaquamarine\",\"shape\":\"spline\",\"width\":1.0},\"mode\":\"lines\",\"x\":[0.6536111696571774,0.4826589834327793,null],\"y\":[-0.4269036984997489,-0.6101178512510884,null],\"type\":\"scatter\"},{\"line\":{\"color\":\"mediumaquamarine\",\"shape\":\"spline\",\"width\":1.0},\"mode\":\"lines\",\"x\":[0.6536111696571774,0.49017376063827806,null],\"y\":[-0.4269036984997489,-0.15794365254499812,null],\"type\":\"scatter\"},{\"line\":{\"color\":\"mediumaquamarine\",\"shape\":\"spline\",\"width\":1.0},\"mode\":\"lines\",\"x\":[0.1713219103117564,0.3440215427162439,null],\"y\":[-0.33892564659343866,-0.44671807066658414,null],\"type\":\"scatter\"},{\"line\":{\"color\":\"mediumaquamarine\",\"shape\":\"spline\",\"width\":1.0},\"mode\":\"lines\",\"x\":[-0.2538756099572459,-0.046990916455814886,null],\"y\":[0.17224128366049515,0.21284037145690396,null],\"type\":\"scatter\"},{\"line\":{\"color\":\"mediumaquamarine\",\"shape\":\"spline\",\"width\":1.0},\"mode\":\"lines\",\"x\":[0.1715519357359662,-0.011145066958727804,null],\"y\":[0.5785078688149321,0.4887539221061084,null],\"type\":\"scatter\"},{\"line\":{\"color\":\"mediumaquamarine\",\"shape\":\"spline\",\"width\":1.6265765616977856},\"mode\":\"lines\",\"x\":[0.4826589834327793,-0.046990916455814886,null],\"y\":[-0.6101178512510884,0.21284037145690396,null],\"type\":\"scatter\"},{\"line\":{\"color\":\"mediumaquamarine\",\"shape\":\"spline\",\"width\":1.0},\"mode\":\"lines\",\"x\":[0.4826589834327793,0.1661720714064134,null],\"y\":[-0.6101178512510884,-0.5009375979143256,null],\"type\":\"scatter\"},{\"line\":{\"color\":\"mediumaquamarine\",\"shape\":\"spline\",\"width\":1.0},\"mode\":\"lines\",\"x\":[-0.14284722719484563,-0.15034101183155726,null],\"y\":[0.3909456707738219,0.18737612285798394,null],\"type\":\"scatter\"},{\"line\":{\"color\":\"mediumaquamarine\",\"shape\":\"spline\",\"width\":1.0},\"mode\":\"lines\",\"x\":[-0.14284722719484563,0.049684873880099976,null],\"y\":[0.3909456707738219,0.45699884167901367,null],\"type\":\"scatter\"},{\"line\":{\"color\":\"mediumaquamarine\",\"shape\":\"spline\",\"width\":1.189207115002721},\"mode\":\"lines\",\"x\":[-0.05269437140111136,-0.046990916455814886,null],\"y\":[-0.16141589383709587,0.21284037145690396,null],\"type\":\"scatter\"},{\"line\":{\"color\":\"mediumaquamarine\",\"shape\":\"spline\",\"width\":1.0},\"mode\":\"lines\",\"x\":[-0.05269437140111136,-0.05269437140111136,null],\"y\":[-0.16141589383709587,-0.16141589383709587,null],\"type\":\"scatter\"},{\"line\":{\"color\":\"mediumaquamarine\",\"shape\":\"spline\",\"width\":1.0},\"mode\":\"lines\",\"x\":[-0.05269437140111136,0.2690374449616967,null],\"y\":[-0.16141589383709587,-0.2386533395725597,null],\"type\":\"scatter\"},{\"line\":{\"color\":\"mediumaquamarine\",\"shape\":\"spline\",\"width\":1.0},\"mode\":\"lines\",\"x\":[-0.08916178915686361,0.1661720714064134,null],\"y\":[-0.6398483795528235,-0.5009375979143256,null],\"type\":\"scatter\"},{\"line\":{\"color\":\"mediumaquamarine\",\"shape\":\"spline\",\"width\":1.0},\"mode\":\"lines\",\"x\":[0.15277646152237206,-0.046990916455814886,null],\"y\":[0.1350455312275401,0.21284037145690396,null],\"type\":\"scatter\"},{\"line\":{\"color\":\"mediumaquamarine\",\"shape\":\"spline\",\"width\":1.0},\"mode\":\"lines\",\"x\":[0.15277646152237206,0.29094739705890743,null],\"y\":[0.1350455312275401,-0.06815794270007974,null],\"type\":\"scatter\"},{\"line\":{\"color\":\"mediumaquamarine\",\"shape\":\"spline\",\"width\":1.0},\"mode\":\"lines\",\"x\":[-0.45718976519120064,-0.2544154434336131,null],\"y\":[0.13047459344388063,0.02939988495046766,null],\"type\":\"scatter\"},{\"line\":{\"color\":\"mediumaquamarine\",\"shape\":\"spline\",\"width\":1.0},\"mode\":\"lines\",\"x\":[-0.45718976519120064,-0.26028477954165646,null],\"y\":[0.13047459344388063,0.07783871730608595,null],\"type\":\"scatter\"},{\"line\":{\"color\":\"mediumaquamarine\",\"shape\":\"spline\",\"width\":1.0},\"mode\":\"lines\",\"x\":[-0.45718976519120064,-0.23170616387948104,null],\"y\":[0.13047459344388063,0.11761520551939535,null],\"type\":\"scatter\"},{\"line\":{\"color\":\"mediumaquamarine\",\"shape\":\"spline\",\"width\":1.0},\"mode\":\"lines\",\"x\":[-0.4571748725463658,-0.2544154434336131,null],\"y\":[0.1305467953765872,0.02939988495046766,null],\"type\":\"scatter\"},{\"line\":{\"color\":\"mediumaquamarine\",\"shape\":\"spline\",\"width\":1.0},\"mode\":\"lines\",\"x\":[-0.4571748725463658,-0.23170616387948104,null],\"y\":[0.1305467953765872,0.11761520551939535,null],\"type\":\"scatter\"},{\"line\":{\"color\":\"mediumaquamarine\",\"shape\":\"spline\",\"width\":1.0},\"mode\":\"lines\",\"x\":[-0.09673212677374662,0.10660264004339866,null],\"y\":[-0.0853922627138707,-0.07352722688270652,null],\"type\":\"scatter\"},{\"line\":{\"color\":\"mediumaquamarine\",\"shape\":\"spline\",\"width\":1.0},\"mode\":\"lines\",\"x\":[-0.4881354333334524,-0.2649589144123616,null],\"y\":[0.17842548564501337,0.17670073200212774,null],\"type\":\"scatter\"},{\"line\":{\"color\":\"mediumaquamarine\",\"shape\":\"spline\",\"width\":1.0},\"mode\":\"lines\",\"x\":[-0.2538464809572591,-0.046990916455814886,null],\"y\":[0.17225504292374474,0.21284037145690396,null],\"type\":\"scatter\"},{\"line\":{\"color\":\"mediumaquamarine\",\"shape\":\"spline\",\"width\":1.0},\"mode\":\"lines\",\"x\":[-0.2538463401925817,-0.046990916455814886,null],\"y\":[0.17225635972130218,0.21284037145690396,null],\"type\":\"scatter\"},{\"line\":{\"color\":\"mediumaquamarine\",\"shape\":\"spline\",\"width\":1.0},\"mode\":\"lines\",\"x\":[-0.2538464105321508,-0.046990916455814886,null],\"y\":[0.17225808568699463,0.21284037145690396,null],\"type\":\"scatter\"},{\"line\":{\"color\":\"mediumaquamarine\",\"shape\":\"spline\",\"width\":1.0},\"mode\":\"lines\",\"x\":[-0.086979651715583,0.04444302743467723,null],\"y\":[-0.05984686483486978,0.09575021636167633,null],\"type\":\"scatter\"},{\"line\":{\"color\":\"mediumaquamarine\",\"shape\":\"spline\",\"width\":1.0},\"mode\":\"lines\",\"x\":[-0.25384436279795913,-0.046990916455814886,null],\"y\":[0.17225930793309724,0.21284037145690396,null],\"type\":\"scatter\"},{\"line\":{\"color\":\"mediumaquamarine\",\"shape\":\"spline\",\"width\":1.0},\"mode\":\"lines\",\"x\":[-0.010339129309178326,-0.2544154434336131,null],\"y\":[-0.09162488542573866,0.02939988495046766,null],\"type\":\"scatter\"},{\"line\":{\"color\":\"mediumaquamarine\",\"shape\":\"spline\",\"width\":1.0},\"mode\":\"lines\",\"x\":[-0.010339129309178326,0.2690374449616967,null],\"y\":[-0.09162488542573866,-0.2386533395725597,null],\"type\":\"scatter\"},{\"line\":{\"color\":\"mediumaquamarine\",\"shape\":\"spline\",\"width\":1.0},\"mode\":\"lines\",\"x\":[-0.010339129309178326,-0.23170616387948104,null],\"y\":[-0.09162488542573866,0.11761520551939535,null],\"type\":\"scatter\"},{\"line\":{\"color\":\"mediumaquamarine\",\"shape\":\"spline\",\"width\":1.0},\"mode\":\"lines\",\"x\":[-0.2538410994003394,-0.046990916455814886,null],\"y\":[0.17225927957059523,0.21284037145690396,null],\"type\":\"scatter\"},{\"line\":{\"color\":\"mediumaquamarine\",\"shape\":\"spline\",\"width\":1.0},\"mode\":\"lines\",\"x\":[-0.25384183354,-0.046990916455814886,null],\"y\":[0.1722603201497639,0.21284037145690396,null],\"type\":\"scatter\"},{\"line\":{\"color\":\"mediumaquamarine\",\"shape\":\"spline\",\"width\":1.189207115002721},\"mode\":\"lines\",\"x\":[-0.5079922226981793,-0.046990916455814886,null],\"y\":[0.1852022597864647,0.21284037145690396,null],\"type\":\"scatter\"},{\"line\":{\"color\":\"mediumaquamarine\",\"shape\":\"spline\",\"width\":1.0},\"mode\":\"lines\",\"x\":[-0.25384075093210295,-0.046990916455814886,null],\"y\":[0.17226094608228526,0.21284037145690396,null],\"type\":\"scatter\"},{\"line\":{\"color\":\"mediumaquamarine\",\"shape\":\"spline\",\"width\":1.0},\"mode\":\"lines\",\"x\":[-0.02323606052775056,0.18526365883956505,null],\"y\":[-0.5802383420661726,-0.5846179681822352,null],\"type\":\"scatter\"},{\"line\":{\"color\":\"mediumaquamarine\",\"shape\":\"spline\",\"width\":1.0},\"mode\":\"lines\",\"x\":[-0.02323606052775056,-0.13227150054974252,null],\"y\":[-0.5802383420661726,-0.4061684684530822,null],\"type\":\"scatter\"},{\"line\":{\"color\":\"mediumaquamarine\",\"shape\":\"spline\",\"width\":1.0},\"mode\":\"lines\",\"x\":[-0.25383957379040495,-0.046990916455814886,null],\"y\":[0.17226219095908402,0.21284037145690396,null],\"type\":\"scatter\"},{\"line\":{\"color\":\"mediumaquamarine\",\"shape\":\"spline\",\"width\":1.0},\"mode\":\"lines\",\"x\":[0.3426477108117135,0.22527806544787235,null],\"y\":[0.37297275811253133,0.5279681843610675,null],\"type\":\"scatter\"},{\"line\":{\"color\":\"mediumaquamarine\",\"shape\":\"spline\",\"width\":1.0},\"mode\":\"lines\",\"x\":[-0.2538382230088621,-0.046990916455814886,null],\"y\":[0.17226317106737118,0.21284037145690396,null],\"type\":\"scatter\"},{\"line\":{\"color\":\"mediumaquamarine\",\"shape\":\"spline\",\"width\":1.0},\"mode\":\"lines\",\"x\":[-0.25383630163975957,-0.046990916455814886,null],\"y\":[0.17226228462236895,0.21284037145690396,null],\"type\":\"scatter\"},{\"line\":{\"color\":\"mediumaquamarine\",\"shape\":\"spline\",\"width\":1.5650845800732873},\"mode\":\"lines\",\"x\":[0.1661720714064134,-0.046990916455814886,null],\"y\":[-0.5009375979143256,0.21284037145690396,null],\"type\":\"scatter\"},{\"line\":{\"color\":\"mediumaquamarine\",\"shape\":\"spline\",\"width\":1.0},\"mode\":\"lines\",\"x\":[0.1661720714064134,0.1833380565063693,null],\"y\":[-0.5009375979143256,-0.7277150979944809,null],\"type\":\"scatter\"},{\"line\":{\"color\":\"mediumaquamarine\",\"shape\":\"spline\",\"width\":1.0},\"mode\":\"lines\",\"x\":[0.1661720714064134,0.18322422407373365,null],\"y\":[-0.5009375979143256,-0.7277771771742519,null],\"type\":\"scatter\"},{\"line\":{\"color\":\"mediumaquamarine\",\"shape\":\"spline\",\"width\":1.0},\"mode\":\"lines\",\"x\":[0.1661720714064134,0.29094739705890743,null],\"y\":[-0.5009375979143256,-0.06815794270007974,null],\"type\":\"scatter\"},{\"line\":{\"color\":\"mediumaquamarine\",\"shape\":\"spline\",\"width\":1.0},\"mode\":\"lines\",\"x\":[0.2690374449616967,0.25803712861746064,null],\"y\":[-0.2386533395725597,-0.44133194198280634,null],\"type\":\"scatter\"},{\"line\":{\"color\":\"mediumaquamarine\",\"shape\":\"spline\",\"width\":1.4953487812212205},\"mode\":\"lines\",\"x\":[0.2690374449616967,-0.046990916455814886,null],\"y\":[-0.2386533395725597,0.21284037145690396,null],\"type\":\"scatter\"},{\"line\":{\"color\":\"mediumaquamarine\",\"shape\":\"spline\",\"width\":1.0},\"mode\":\"lines\",\"x\":[0.2690374449616967,0.1661720714064134,null],\"y\":[-0.2386533395725597,-0.5009375979143256,null],\"type\":\"scatter\"},{\"line\":{\"color\":\"mediumaquamarine\",\"shape\":\"spline\",\"width\":1.0},\"mode\":\"lines\",\"x\":[0.2690374449616967,0.25817113625150634,null],\"y\":[-0.2386533395725597,-0.4412175759313457,null],\"type\":\"scatter\"},{\"line\":{\"color\":\"mediumaquamarine\",\"shape\":\"spline\",\"width\":1.4142135623730951},\"mode\":\"lines\",\"x\":[0.2690374449616967,0.2690374449616967,null],\"y\":[-0.2386533395725597,-0.2386533395725597,null],\"type\":\"scatter\"},{\"line\":{\"color\":\"mediumaquamarine\",\"shape\":\"spline\",\"width\":1.0},\"mode\":\"lines\",\"x\":[0.2690374449616967,0.49017376063827806,null],\"y\":[-0.2386533395725597,-0.15794365254499812,null],\"type\":\"scatter\"},{\"line\":{\"color\":\"mediumaquamarine\",\"shape\":\"spline\",\"width\":1.4142135623730951},\"mode\":\"lines\",\"x\":[0.2690374449616967,0.29094739705890743,null],\"y\":[-0.2386533395725597,-0.06815794270007974,null],\"type\":\"scatter\"},{\"line\":{\"color\":\"mediumaquamarine\",\"shape\":\"spline\",\"width\":1.0},\"mode\":\"lines\",\"x\":[-0.25382447266279606,-0.046990916455814886,null],\"y\":[0.17222591040281993,0.21284037145690396,null],\"type\":\"scatter\"},{\"line\":{\"color\":\"mediumaquamarine\",\"shape\":\"spline\",\"width\":1.0},\"mode\":\"lines\",\"x\":[-0.23170616387948104,-0.046990916455814886,null],\"y\":[0.11761520551939535,0.21284037145690396,null],\"type\":\"scatter\"},{\"line\":{\"color\":\"mediumaquamarine\",\"shape\":\"spline\",\"width\":1.0},\"mode\":\"lines\",\"x\":[0.39474730417893344,0.22527806544787235,null],\"y\":[0.48913926935264834,0.5279681843610675,null],\"type\":\"scatter\"},{\"line\":{\"color\":\"mediumaquamarine\",\"shape\":\"spline\",\"width\":1.3160740129524924},\"mode\":\"lines\",\"x\":[0.39474730417893344,-0.046990916455814886,null],\"y\":[0.48913926935264834,0.21284037145690396,null],\"type\":\"scatter\"},{\"line\":{\"color\":\"mediumaquamarine\",\"shape\":\"spline\",\"width\":1.0},\"mode\":\"lines\",\"x\":[0.39474730417893344,0.049684873880099976,null],\"y\":[0.48913926935264834,0.45699884167901367,null],\"type\":\"scatter\"},{\"line\":{\"color\":\"mediumaquamarine\",\"shape\":\"spline\",\"width\":1.0},\"mode\":\"lines\",\"x\":[-0.2538265499133858,-0.046990916455814886,null],\"y\":[0.1722242080266741,0.21284037145690396,null],\"type\":\"scatter\"},{\"line\":{\"color\":\"mediumaquamarine\",\"shape\":\"spline\",\"width\":1.0},\"mode\":\"lines\",\"x\":[0.06560082463790216,-0.13431419955836296,null],\"y\":[-0.1943305168827764,-0.15501873578505335,null],\"type\":\"scatter\"},{\"line\":{\"color\":\"mediumaquamarine\",\"shape\":\"spline\",\"width\":1.0},\"mode\":\"lines\",\"x\":[-0.08923375164473131,0.1661720714064134,null],\"y\":[-0.6398717898607433,-0.5009375979143256,null],\"type\":\"scatter\"},{\"line\":{\"color\":\"mediumaquamarine\",\"shape\":\"spline\",\"width\":1.0},\"mode\":\"lines\",\"x\":[-0.25383333161969385,-0.046990916455814886,null],\"y\":[0.1722214316371413,0.21284037145690396,null],\"type\":\"scatter\"},{\"line\":{\"color\":\"mediumaquamarine\",\"shape\":\"spline\",\"width\":1.0},\"mode\":\"lines\",\"x\":[-0.25383531770544465,-0.046990916455814886,null],\"y\":[0.17221987486373724,0.21284037145690396,null],\"type\":\"scatter\"},{\"line\":{\"color\":\"mediumaquamarine\",\"shape\":\"spline\",\"width\":1.0},\"mode\":\"lines\",\"x\":[-0.25383709185694786,-0.046990916455814886,null],\"y\":[0.17221817326976183,0.21284037145690396,null],\"type\":\"scatter\"},{\"line\":{\"color\":\"mediumaquamarine\",\"shape\":\"spline\",\"width\":1.5650845800732873},\"mode\":\"lines\",\"x\":[0.49017376063827806,-0.046990916455814886,null],\"y\":[-0.15794365254499812,0.21284037145690396,null],\"type\":\"scatter\"},{\"line\":{\"color\":\"mediumaquamarine\",\"shape\":\"spline\",\"width\":1.0},\"mode\":\"lines\",\"x\":[0.49017376063827806,0.2690374449616967,null],\"y\":[-0.15794365254499812,-0.2386533395725597,null],\"type\":\"scatter\"},{\"line\":{\"color\":\"mediumaquamarine\",\"shape\":\"spline\",\"width\":1.0},\"mode\":\"lines\",\"x\":[0.5698870786586611,0.2690374449616967,null],\"y\":[-0.36131012469004026,-0.2386533395725597,null],\"type\":\"scatter\"},{\"line\":{\"color\":\"mediumaquamarine\",\"shape\":\"spline\",\"width\":1.0},\"mode\":\"lines\",\"x\":[0.5698870786586611,0.49017376063827806,null],\"y\":[-0.36131012469004026,-0.15794365254499812,null],\"type\":\"scatter\"},{\"line\":{\"color\":\"mediumaquamarine\",\"shape\":\"spline\",\"width\":1.0},\"mode\":\"lines\",\"x\":[0.10282853934308896,-0.03264689010375969,null],\"y\":[-0.045956102576163414,0.10612259520016445,null],\"type\":\"scatter\"},{\"line\":{\"color\":\"mediumaquamarine\",\"shape\":\"spline\",\"width\":1.0},\"mode\":\"lines\",\"x\":[-0.4571985291940721,-0.2544154434336131,null],\"y\":[0.13085293666608852,0.02939988495046766,null],\"type\":\"scatter\"},{\"line\":{\"color\":\"mediumaquamarine\",\"shape\":\"spline\",\"width\":1.0},\"mode\":\"lines\",\"x\":[-0.4571985291940721,-0.23170616387948104,null],\"y\":[0.13085293666608852,0.11761520551939535,null],\"type\":\"scatter\"},{\"line\":{\"color\":\"mediumaquamarine\",\"shape\":\"spline\",\"width\":1.0},\"mode\":\"lines\",\"x\":[-0.2538765514998222,-0.046990916455814886,null],\"y\":[0.1722163611464956,0.21284037145690396,null],\"type\":\"scatter\"},{\"line\":{\"color\":\"mediumaquamarine\",\"shape\":\"spline\",\"width\":1.0},\"mode\":\"lines\",\"x\":[-0.2649589144123616,-0.046990916455814886,null],\"y\":[0.17670073200212774,0.21284037145690396,null],\"type\":\"scatter\"},{\"line\":{\"color\":\"mediumaquamarine\",\"shape\":\"spline\",\"width\":1.0},\"mode\":\"lines\",\"x\":[-0.25388295661704063,-0.046990916455814886,null],\"y\":[0.1722152306299753,0.21284037145690396,null],\"type\":\"scatter\"},{\"line\":{\"color\":\"mediumaquamarine\",\"shape\":\"spline\",\"width\":1.0},\"mode\":\"lines\",\"x\":[-0.2538833599871711,-0.046990916455814886,null],\"y\":[0.17221289871654819,0.21284037145690396,null],\"type\":\"scatter\"},{\"line\":{\"color\":\"mediumaquamarine\",\"shape\":\"spline\",\"width\":1.0},\"mode\":\"lines\",\"x\":[-0.25388388120556843,-0.046990916455814886,null],\"y\":[0.1722108037806369,0.21284037145690396,null],\"type\":\"scatter\"},{\"line\":{\"color\":\"mediumaquamarine\",\"shape\":\"spline\",\"width\":1.0},\"mode\":\"lines\",\"x\":[-0.2538842536842242,-0.046990916455814886,null],\"y\":[0.1722082435267078,0.21284037145690396,null],\"type\":\"scatter\"},{\"hovertemplate\":[\"202001Chris Murphy\",\"202001Chris Van Hollen\",\"202001Bill Clinton\",\"202001Darrell Issa\",\"202001David Plouffe\",\"202001Mick Mulvaney\",\"202001Joe Scarborough\",\"202001Ed Markey\",\"202001Jennifer Horn\",\"202001Jeff Merkley\",\"202001Toni Atkins\",\"202001David Jolly\",\"202001John Dean\",\"202001Mazie Hirono\",\"202001Nury Martinez\",\"202001Nancy Pelosi\",\"202001Jennifer Palmieri\",\"202001Trey Gowdy\",\"202001Steve Bartlett\",\"202001Steve Scalise\",\"202001Pramila Jayapal\",\"202001Mark Pocan\",\"202001Richard Blumenthal\",\"202001Paul Gosar\",\"202001Rudy Giuliani\",\"202001Rick Perry\",\"202001Zoe Lofgren\",\"202001Jackie Speier\",\"202001Lindsey Graham\",\"202001Kirsten Gillibrand\",\"202001Amy Klobuchar\",\"202001Claire McCaskill\",\"202001Olympia Snowe\",\"202001Donald Trump\",\"202001Mike Pence\",\"202001Jeanne Shaheen\",\"202001Jon Ossoff\",\"202001Tammy Duckworth\",\"202001Karl Rove\",\"202001John R. Bolton\",\"202001Marianne Williamson\",\"202001Marco Rubio\",\"202001Tulsi Gabbard\",\"202001Rex Tillerson\",\"202001Adam Schiff\",\"202001Mitch McConnell\",\"202001Chuck Schumer\",\"202001Ann McLane Kuster\",\"202001Mark Randall Meadows\",\"202001Kevin Cramer\",\"202001Lamar Alexander\",\"202001Elizabeth Warren\",\"202001Rick Scott\",\"202001Mitt Romney\",\"202001Carolyn Maloney\",\"202001Gavin Newsom\",\"202001Rand Paul\",\"202001Mike Pompeo\",\"202001Marie Newman\",\"202001Carl DeMaio\",\"202001Chris Pappas\",\"202001Dan Lipinski\",\"202001Duncan L. Hunter\",\"202001Jack Reed\",\"202001Pat Roberts\",\"202001Luz Rivas\",\"202001Alexandria Ocasio-Cortez\",\"202001Michael Bennet\",\"202001Hakeem Jeffries\",\"202001Elaine Luria\",\"202001Patrick Leahy\",\"202001Michael Bloomberg\",\"202001Jeff Van Drew\",\"202001John Rood\",\"202001Joe Biden\",\"202001Hillary Clinton\",\"202001Kellyanne Conway\",\"202001Chris Christie\",\"202001Kevin Faulconer\",\"202001Kevin McCarthy\",\"202001Krystal Ball\",\"202001Martha Fuller Clark\",\"202001Pam Bondi\",\"202001Pete Buttigieg\",\"202001John Cornyn\",\"202001William Barr\",\"202001Rashida Tlaib\",\"202001Ro Khanna\",\"202001Ryan Winkler\",\"202001Barack Obama\",\"202001Kevin McCarthy\",\"202001Tate Reeves\",\"202001Ted Lieu\",\"202001Scott Tipton\",\"202001Val Demings\",\"202001Warren Limmer\",\"202001Peter Shumlin\",\"202001Chris Coons\",\"202001Ra\\u00fal Grijalva\",\"202001Patrick J. Kennedy\",\"202001Juli\\u00e1n Castro\",\"202002Chris Murphy\",\"202002Kamala Harris\",\"202002Bill Clinton\",\"202002Cory Gardner\",\"202002Jim Hodges\",\"202002Andrew Cuomo\",\"202002Joaqu\\u00edn Castro\",\"202002Mick Mulvaney\",\"202002Joe Scarborough\",\"202002James Carville\",\"202002Jim Clyburn\"],\"marker\":{\"color\":[\"blue\",\"blue\",\"blue\",\"blue\",\"blue\",\"blue\",\"blue\",\"blue\",\"blue\",\"blue\",\"blue\",\"blue\",\"blue\",\"blue\",\"blue\",\"blue\",\"blue\",\"blue\",\"blue\",\"blue\",\"blue\",\"blue\",\"blue\",\"blue\",\"blue\",\"blue\",\"blue\",\"blue\",\"blue\",\"blue\",\"blue\",\"blue\",\"blue\",\"blue\",\"blue\",\"blue\",\"blue\",\"blue\",\"blue\",\"blue\",\"blue\",\"blue\",\"blue\",\"blue\",\"blue\",\"blue\",\"blue\",\"blue\",\"blue\",\"blue\",\"blue\",\"blue\",\"blue\",\"blue\",\"blue\",\"blue\",\"red\",\"red\",\"red\",\"red\",\"red\",\"red\",\"red\",\"red\",\"red\",\"red\",\"red\",\"red\",\"red\",\"red\",\"red\",\"red\",\"red\",\"red\",\"red\",\"red\",\"red\",\"red\",\"red\",\"red\",\"red\",\"red\",\"red\",\"red\",\"red\",\"red\",\"red\",\"red\",\"red\",\"red\",\"red\",\"red\",\"red\",\"red\",\"red\",\"red\",\"red\",\"red\",\"red\",\"red\",\"red\",\"red\",\"red\",\"red\",\"red\",\"red\",\"red\",\"red\",\"red\",\"red\",\"red\",\"red\"],\"line\":{\"color\":[\"blue\",\"blue\",\"blue\",\"blue\",\"blue\",\"blue\",\"blue\",\"blue\",\"blue\",\"blue\",\"blue\",\"blue\",\"blue\",\"blue\",\"blue\",\"blue\",\"blue\",\"blue\",\"blue\",\"blue\",\"blue\",\"blue\",\"blue\",\"blue\",\"blue\",\"blue\",\"blue\",\"blue\",\"blue\",\"blue\",\"blue\",\"blue\",\"blue\",\"blue\",\"blue\",\"blue\",\"blue\",\"blue\",\"blue\",\"blue\",\"blue\",\"blue\",\"blue\",\"blue\",\"blue\",\"blue\",\"blue\",\"blue\",\"blue\",\"blue\",\"blue\",\"blue\",\"blue\",\"blue\",\"blue\",\"blue\",\"red\",\"red\",\"red\",\"red\",\"red\",\"red\",\"red\",\"red\",\"red\",\"red\",\"red\",\"red\",\"red\",\"red\",\"red\",\"red\",\"red\",\"red\",\"red\",\"red\",\"red\",\"red\",\"red\",\"red\",\"red\",\"red\",\"red\",\"red\",\"red\",\"red\",\"red\",\"red\",\"red\",\"red\",\"red\",\"red\",\"red\",\"red\",\"red\",\"red\",\"red\",\"red\",\"red\",\"red\",\"red\",\"red\",\"red\",\"red\",\"red\",\"red\",\"red\",\"red\",\"red\",\"red\",\"red\",\"red\"],\"width\":2},\"size\":15},\"mode\":\"markers\",\"x\":[-0.2538861614724361,-0.2539381898342635,-0.2544154434336131,-0.011145066958727804,0.5717946181503243,-0.2539092570184062,-0.2584506856788922,0.15278945242584727,0.5762186531291856,1.0,0.8195344616275223,0.4372167577837611,0.08788227220928034,0.08916392585997854,0.3428214176145803,-0.08915512453278185,0.11127417166858421,-0.2539363034248378,0.04444302743467723,0.22527806544787235,-0.15034101183155726,0.22615442032495287,-0.2539356830304834,0.08076597837894949,0.16482476725333625,-0.25394375521144646,0.25803712861746064,0.212089125231628,0.8265829259162691,-0.03623166786590053,0.4846135595614289,0.013508990522313542,-0.046990916455814886,-0.2538770915400085,-0.26028477954165646,-0.2538782982682559,0.11125572735401369,-0.03264689010375969,0.1112554750212957,-0.3199196702440453,-0.12707688946268036,-0.25384272277776576,-0.25384208432639827,-0.28022088432931513,-0.2538391742481084,-0.5079961449669633,0.18526365883956505,0.5154831964841313,0.049684873880099976,-0.253886120638,0.6536111696571774,0.1713219103117564,-0.2538756099572459,0.1833380565063693,0.48518973330265514,0.1715519357359662,0.4826589834327793,-0.14284722719484563,-0.05269437140111136,-0.011353869742413328,-0.08916178915686361,0.15277646152237206,-0.45718976519120064,-0.4571748725463658,-0.09673212677374662,-0.4881354333334524,-0.2538464809572591,-0.2538463401925817,-0.2538464105321508,-0.086979651715583,-0.25384436279795913,-0.13431419955836296,-0.010339129309178326,-0.2538410994003394,-0.25384183354,-0.5079922226981793,-0.25384075093210295,-0.02323606052775056,-0.25383957379040495,0.3426477108117135,-0.2538382230088621,-0.25383630163975957,0.1661720714064134,0.25817113625150634,-0.011370997543038799,0.2690374449616967,-0.25382447266279606,-0.23170616387948104,0.39474730417893344,-0.2538265499133858,0.06560082463790216,0.18322422407373365,-0.08923375164473131,-0.25383333161969385,-0.25383531770544465,-0.25383709185694786,0.49017376063827806,-0.13227150054974252,0.7512084757501742,0.3440215427162439,0.5698870786586611,0.10282853934308896,0.29094739705890743,-0.4571985291940721,0.16369029533257448,-0.2538765514998222,0.10660264004339866,-0.2649589144123616,-0.25388295661704063,-0.2538833599871711,-0.25388388120556843,-0.2538842536842242],\"y\":[0.17220692594315112,0.17255091880895743,0.02939988495046766,0.4887539221061084,-0.4312742408832208,0.17221107383309545,-0.24396368001567295,0.13508204051531492,0.3713792441072575,-0.7690370611023601,-0.6209115518318161,-0.8272211539236833,-0.08416431245137139,-0.0960604346143917,0.3731693014805722,-0.6398545116972019,0.012322481288843744,0.17221007967781357,0.09575021636167633,0.5279681843610675,0.18737612285798394,0.10216486433273929,0.17221289561172615,0.14709990886015092,-0.35016037237416076,0.17221150187581225,-0.44133194198280634,0.8314757408770145,-0.6386003475290047,-0.35018066175006124,0.18930843196130914,0.47097700266376347,0.21284037145690396,0.17223040575230514,0.07783871730608595,0.17222603212301144,0.012316153053499859,0.10612259520016445,0.012316061713486226,0.36553087546356533,0.1607551862602852,0.17223182079879204,0.17223281531674445,-0.37343010964428164,0.17223487117422542,0.18495564592576683,-0.5846179681822352,-0.30063462263229446,0.45699884167901367,0.17223906003869555,-0.4269036984997489,-0.33892564659343866,0.17224128366049515,-0.7277150979944809,0.18904054538114498,0.5785078688149321,-0.6101178512510884,0.3909456707738219,-0.16141589383709587,0.4888296673321951,-0.6398483795528235,0.1350455312275401,0.13047459344388063,0.1305467953765872,-0.0853922627138707,0.17842548564501337,0.17225504292374474,0.17225635972130218,0.17225808568699463,-0.05984686483486978,0.17225930793309724,-0.15501873578505335,-0.09162488542573866,0.17225927957059523,0.1722603201497639,0.1852022597864647,0.17226094608228526,-0.5802383420661726,0.17226219095908402,0.37297275811253133,0.17226317106737118,0.17226228462236895,-0.5009375979143256,-0.4412175759313457,0.4887701309055294,-0.2386533395725597,0.17222591040281993,0.11761520551939535,0.48913926935264834,0.1722242080266741,-0.1943305168827764,-0.7277771771742519,-0.6398717898607433,0.1722214316371413,0.17221987486373724,0.17221817326976183,-0.15794365254499812,-0.4061684684530822,-0.4489586799444104,-0.44671807066658414,-0.36131012469004026,-0.045956102576163414,-0.06815794270007974,0.13085293666608852,-0.03896215949186053,0.1722163611464956,-0.07352722688270652,0.17670073200212774,0.1722152306299753,0.17221289871654819,0.1722108037806369,0.1722082435267078],\"type\":\"scatter\"},{\"line\":{\"color\":\"mediumaquamarine\",\"shape\":\"spline\",\"width\":1.0},\"mode\":\"lines\",\"x\":[-0.06992336700034084,0.12556425051847703,null],\"y\":[-0.1586829777366672,0.08122592568284567,null],\"type\":\"scatter\"},{\"line\":{\"color\":\"mediumaquamarine\",\"shape\":\"spline\",\"width\":1.0},\"mode\":\"lines\",\"x\":[-0.06992336700034084,-0.407030296784562,null],\"y\":[-0.1586829777366672,-0.17496591204824347,null],\"type\":\"scatter\"},{\"line\":{\"color\":\"mediumaquamarine\",\"shape\":\"spline\",\"width\":1.0},\"mode\":\"lines\",\"x\":[0.11493020163084758,-0.1238258914100189,null],\"y\":[-0.037230153504011286,-0.12321821603927363,null],\"type\":\"scatter\"},{\"line\":{\"color\":\"mediumaquamarine\",\"shape\":\"spline\",\"width\":1.0},\"mode\":\"lines\",\"x\":[0.11493020163084758,-0.10224256406625327,null],\"y\":[-0.037230153504011286,-0.16851127198769233,null],\"type\":\"scatter\"},{\"line\":{\"color\":\"mediumaquamarine\",\"shape\":\"spline\",\"width\":1.189207115002721},\"mode\":\"lines\",\"x\":[0.25099278596533997,0.25099278596533997,null],\"y\":[0.05239933473186786,0.05239933473186786,null],\"type\":\"scatter\"},{\"line\":{\"color\":\"mediumaquamarine\",\"shape\":\"spline\",\"width\":1.0},\"mode\":\"lines\",\"x\":[0.37652346402589504,0.12556425051847703,null],\"y\":[0.17290046169792567,0.08122592568284567,null],\"type\":\"scatter\"},{\"line\":{\"color\":\"mediumaquamarine\",\"shape\":\"spline\",\"width\":1.0},\"mode\":\"lines\",\"x\":[-0.06949913220490775,0.12556425051847703,null],\"y\":[-0.14839745485457323,0.08122592568284567,null],\"type\":\"scatter\"},{\"line\":{\"color\":\"mediumaquamarine\",\"shape\":\"spline\",\"width\":1.0},\"mode\":\"lines\",\"x\":[-0.06949913220490775,-0.407030296784562,null],\"y\":[-0.14839745485457323,-0.17496591204824347,null],\"type\":\"scatter\"},{\"line\":{\"color\":\"mediumaquamarine\",\"shape\":\"spline\",\"width\":1.0},\"mode\":\"lines\",\"x\":[0.3765116345964723,0.12556425051847703,null],\"y\":[0.1728819139682018,0.08122592568284567,null],\"type\":\"scatter\"},{\"line\":{\"color\":\"mediumaquamarine\",\"shape\":\"spline\",\"width\":1.0},\"mode\":\"lines\",\"x\":[-0.18068395434277848,0.12556425051847703,null],\"y\":[0.13452358267925332,0.08122592568284567,null],\"type\":\"scatter\"},{\"line\":{\"color\":\"mediumaquamarine\",\"shape\":\"spline\",\"width\":1.0},\"mode\":\"lines\",\"x\":[0.2000176015052409,-0.03965275375338926,null],\"y\":[0.18886598828034948,0.27236542302965105,null],\"type\":\"scatter\"},{\"line\":{\"color\":\"mediumaquamarine\",\"shape\":\"spline\",\"width\":1.0},\"mode\":\"lines\",\"x\":[0.37652375832850443,0.12556425051847703,null],\"y\":[0.17290334224943787,0.08122592568284567,null],\"type\":\"scatter\"},{\"line\":{\"color\":\"mediumaquamarine\",\"shape\":\"spline\",\"width\":1.0},\"mode\":\"lines\",\"x\":[0.24753679781055724,0.12556425051847703,null],\"y\":[0.35224335246371696,0.08122592568284567,null],\"type\":\"scatter\"},{\"line\":{\"color\":\"mediumaquamarine\",\"shape\":\"spline\",\"width\":1.0},\"mode\":\"lines\",\"x\":[0.002350141299245145,-0.21601950527218683,null],\"y\":[0.2066631712898084,0.07745875231172576,null],\"type\":\"scatter\"},{\"line\":{\"color\":\"mediumaquamarine\",\"shape\":\"spline\",\"width\":1.189207115002721},\"mode\":\"lines\",\"x\":[-1.0,-0.407030296784562,null],\"y\":[-0.008553954498802903,-0.17496591204824347,null],\"type\":\"scatter\"},{\"line\":{\"color\":\"mediumaquamarine\",\"shape\":\"spline\",\"width\":1.0},\"mode\":\"lines\",\"x\":[-0.012430188028066343,0.03418312371220912,null],\"y\":[0.14637995491470235,0.39563047263382056,null],\"type\":\"scatter\"},{\"line\":{\"color\":\"mediumaquamarine\",\"shape\":\"spline\",\"width\":1.0},\"mode\":\"lines\",\"x\":[0.12556425051847703,0.4868409919390241,null],\"y\":[0.08122592568284567,-0.18938320795122363,null],\"type\":\"scatter\"},{\"line\":{\"color\":\"mediumaquamarine\",\"shape\":\"spline\",\"width\":1.0},\"mode\":\"lines\",\"x\":[0.12556425051847703,-0.18068395434277848,null],\"y\":[0.08122592568284567,0.13452358267925332,null],\"type\":\"scatter\"},{\"line\":{\"color\":\"mediumaquamarine\",\"shape\":\"spline\",\"width\":1.0},\"mode\":\"lines\",\"x\":[0.12556425051847703,0.24753679781055724,null],\"y\":[0.08122592568284567,0.35224335246371696,null],\"type\":\"scatter\"},{\"line\":{\"color\":\"mediumaquamarine\",\"shape\":\"spline\",\"width\":1.5650845800732873},\"mode\":\"lines\",\"x\":[0.12556425051847703,0.12556425051847703,null],\"y\":[0.08122592568284567,0.08122592568284567,null],\"type\":\"scatter\"},{\"line\":{\"color\":\"mediumaquamarine\",\"shape\":\"spline\",\"width\":1.0},\"mode\":\"lines\",\"x\":[0.12556425051847703,-0.031075821273408046,null],\"y\":[0.08122592568284567,0.3744150226821672,null],\"type\":\"scatter\"},{\"line\":{\"color\":\"mediumaquamarine\",\"shape\":\"spline\",\"width\":1.0},\"mode\":\"lines\",\"x\":[0.12556425051847703,-0.030994664803139393,null],\"y\":[0.08122592568284567,0.3744761083588138,null],\"type\":\"scatter\"},{\"line\":{\"color\":\"mediumaquamarine\",\"shape\":\"spline\",\"width\":1.0},\"mode\":\"lines\",\"x\":[0.12556425051847703,-0.030996759294375443,null],\"y\":[0.08122592568284567,0.37447533498719976,null],\"type\":\"scatter\"},{\"line\":{\"color\":\"mediumaquamarine\",\"shape\":\"spline\",\"width\":1.0},\"mode\":\"lines\",\"x\":[0.12556425051847703,-0.09525654737371206,null],\"y\":[0.08122592568284567,0.350641540187102,null],\"type\":\"scatter\"},{\"line\":{\"color\":\"mediumaquamarine\",\"shape\":\"spline\",\"width\":1.0},\"mode\":\"lines\",\"x\":[0.12556425051847703,-0.030868636292583927,null],\"y\":[0.08122592568284567,0.378117451449038,null],\"type\":\"scatter\"},{\"line\":{\"color\":\"mediumaquamarine\",\"shape\":\"spline\",\"width\":1.0},\"mode\":\"lines\",\"x\":[0.12556425051847703,-0.32710379200727635,null],\"y\":[0.08122592568284567,0.02585505311443355,null],\"type\":\"scatter\"},{\"line\":{\"color\":\"mediumaquamarine\",\"shape\":\"spline\",\"width\":1.0},\"mode\":\"lines\",\"x\":[0.12556425051847703,0.27871331852236975,null],\"y\":[0.08122592568284567,-0.18985035756394322,null],\"type\":\"scatter\"},{\"line\":{\"color\":\"mediumaquamarine\",\"shape\":\"spline\",\"width\":1.0},\"mode\":\"lines\",\"x\":[0.12556425051847703,0.48681380410668107,null],\"y\":[0.08122592568284567,-0.18944876792558707,null],\"type\":\"scatter\"},{\"line\":{\"color\":\"mediumaquamarine\",\"shape\":\"spline\",\"width\":1.189207115002721},\"mode\":\"lines\",\"x\":[0.12556425051847703,-0.407030296784562,null],\"y\":[0.08122592568284567,-0.17496591204824347,null],\"type\":\"scatter\"},{\"line\":{\"color\":\"mediumaquamarine\",\"shape\":\"spline\",\"width\":1.0},\"mode\":\"lines\",\"x\":[0.12556425051847703,0.03418312371220912,null],\"y\":[0.08122592568284567,0.39563047263382056,null],\"type\":\"scatter\"},{\"line\":{\"color\":\"mediumaquamarine\",\"shape\":\"spline\",\"width\":1.0},\"mode\":\"lines\",\"x\":[0.12556425051847703,0.4868363797217803,null],\"y\":[0.08122592568284567,-0.18939457976605625,null],\"type\":\"scatter\"},{\"line\":{\"color\":\"mediumaquamarine\",\"shape\":\"spline\",\"width\":1.0},\"mode\":\"lines\",\"x\":[0.03451360324132861,0.03418312371220912,null],\"y\":[0.14189004114256581,0.39563047263382056,null],\"type\":\"scatter\"},{\"line\":{\"color\":\"mediumaquamarine\",\"shape\":\"spline\",\"width\":1.0},\"mode\":\"lines\",\"x\":[0.009484332426199284,0.12556425051847703,null],\"y\":[-0.14452211264767117,0.08122592568284567,null],\"type\":\"scatter\"},{\"line\":{\"color\":\"mediumaquamarine\",\"shape\":\"spline\",\"width\":1.189207115002721},\"mode\":\"lines\",\"x\":[0.009484332426199284,-0.407030296784562,null],\"y\":[-0.14452211264767117,-0.17496591204824347,null],\"type\":\"scatter\"},{\"line\":{\"color\":\"mediumaquamarine\",\"shape\":\"spline\",\"width\":1.0},\"mode\":\"lines\",\"x\":[-0.11248906376126197,0.1404998750839004,null],\"y\":[0.19278624176704592,0.17326930648864708,null],\"type\":\"scatter\"},{\"line\":{\"color\":\"mediumaquamarine\",\"shape\":\"spline\",\"width\":1.0},\"mode\":\"lines\",\"x\":[-0.08726767189468829,-0.21601950527218683,null],\"y\":[0.2961794106274135,0.07745875231172576,null],\"type\":\"scatter\"},{\"line\":{\"color\":\"mediumaquamarine\",\"shape\":\"spline\",\"width\":1.0},\"mode\":\"lines\",\"x\":[-0.09525654737371206,0.03418312371220912,null],\"y\":[0.350641540187102,0.39563047263382056,null],\"type\":\"scatter\"},{\"line\":{\"color\":\"mediumaquamarine\",\"shape\":\"spline\",\"width\":1.189207115002721},\"mode\":\"lines\",\"x\":[-0.030868636292583927,-0.1341978888014287,null],\"y\":[0.378117451449038,0.9366341301021904,null],\"type\":\"scatter\"},{\"line\":{\"color\":\"mediumaquamarine\",\"shape\":\"spline\",\"width\":1.0},\"mode\":\"lines\",\"x\":[0.025395395580866533,0.12556425051847703,null],\"y\":[-0.14209702578135142,0.08122592568284567,null],\"type\":\"scatter\"},{\"line\":{\"color\":\"mediumaquamarine\",\"shape\":\"spline\",\"width\":1.0},\"mode\":\"lines\",\"x\":[0.02540135584104194,0.12556425051847703,null],\"y\":[-0.14208423721303345,0.08122592568284567,null],\"type\":\"scatter\"},{\"line\":{\"color\":\"mediumaquamarine\",\"shape\":\"spline\",\"width\":1.4142135623730951},\"mode\":\"lines\",\"x\":[-0.32710379200727635,0.12556425051847703,null],\"y\":[0.02585505311443355,0.08122592568284567,null],\"type\":\"scatter\"},{\"line\":{\"color\":\"mediumaquamarine\",\"shape\":\"spline\",\"width\":1.0},\"mode\":\"lines\",\"x\":[-0.32710379200727635,-0.407030296784562,null],\"y\":[0.02585505311443355,-0.17496591204824347,null],\"type\":\"scatter\"},{\"line\":{\"color\":\"mediumaquamarine\",\"shape\":\"spline\",\"width\":1.0},\"mode\":\"lines\",\"x\":[-0.0694837091903562,0.12556425051847703,null],\"y\":[-0.14840518717800572,0.08122592568284567,null],\"type\":\"scatter\"},{\"line\":{\"color\":\"mediumaquamarine\",\"shape\":\"spline\",\"width\":1.0},\"mode\":\"lines\",\"x\":[-0.0694837091903562,0.15509852986688152,null],\"y\":[-0.14840518717800572,-0.266683929101483,null],\"type\":\"scatter\"},{\"line\":{\"color\":\"mediumaquamarine\",\"shape\":\"spline\",\"width\":1.0},\"mode\":\"lines\",\"x\":[-0.0694837091903562,-0.407030296784562,null],\"y\":[-0.14840518717800572,-0.17496591204824347,null],\"type\":\"scatter\"},{\"line\":{\"color\":\"mediumaquamarine\",\"shape\":\"spline\",\"width\":1.0},\"mode\":\"lines\",\"x\":[0.02538657629377427,0.12556425051847703,null],\"y\":[-0.14211095518138617,0.08122592568284567,null],\"type\":\"scatter\"},{\"line\":{\"color\":\"mediumaquamarine\",\"shape\":\"spline\",\"width\":1.0},\"mode\":\"lines\",\"x\":[0.025386534787018526,0.12556425051847703,null],\"y\":[-0.14211295557347575,0.08122592568284567,null],\"type\":\"scatter\"},{\"line\":{\"color\":\"mediumaquamarine\",\"shape\":\"spline\",\"width\":1.0},\"mode\":\"lines\",\"x\":[-0.4371472076950761,-0.407030296784562,null],\"y\":[-0.44609317203244425,-0.17496591204824347,null],\"type\":\"scatter\"},{\"line\":{\"color\":\"mediumaquamarine\",\"shape\":\"spline\",\"width\":1.0},\"mode\":\"lines\",\"x\":[-0.12254878898013782,-0.26935460953291956,null],\"y\":[-0.24247820549908794,-0.035455048820548306,null],\"type\":\"scatter\"},{\"line\":{\"color\":\"mediumaquamarine\",\"shape\":\"spline\",\"width\":1.0},\"mode\":\"lines\",\"x\":[-0.050946437299762046,-0.2537822852458737,null],\"y\":[-0.2789843827704257,-0.12639374181303822,null],\"type\":\"scatter\"},{\"line\":{\"color\":\"mediumaquamarine\",\"shape\":\"spline\",\"width\":1.0},\"mode\":\"lines\",\"x\":[-0.10787959604795998,-0.06992336700034084,null],\"y\":[-0.43917600314951377,-0.1586829777366672,null],\"type\":\"scatter\"},{\"line\":{\"color\":\"mediumaquamarine\",\"shape\":\"spline\",\"width\":1.0},\"mode\":\"lines\",\"x\":[-0.10787959604795998,-0.10787959604795998,null],\"y\":[-0.43917600314951377,-0.43917600314951377,null],\"type\":\"scatter\"},{\"line\":{\"color\":\"mediumaquamarine\",\"shape\":\"spline\",\"width\":1.0},\"mode\":\"lines\",\"x\":[-0.10787959604795998,0.1151534690336601,null],\"y\":[-0.43917600314951377,-0.3178952587389406,null],\"type\":\"scatter\"},{\"line\":{\"color\":\"mediumaquamarine\",\"shape\":\"spline\",\"width\":1.0},\"mode\":\"lines\",\"x\":[-0.09498032549867211,-0.031075821273408046,null],\"y\":[0.1287225936816323,0.3744150226821672,null],\"type\":\"scatter\"},{\"line\":{\"color\":\"mediumaquamarine\",\"shape\":\"spline\",\"width\":1.0},\"mode\":\"lines\",\"x\":[0.025388400590996906,0.12556425051847703,null],\"y\":[-0.14210652699153953,0.08122592568284567,null],\"type\":\"scatter\"},{\"line\":{\"color\":\"mediumaquamarine\",\"shape\":\"spline\",\"width\":1.0},\"mode\":\"lines\",\"x\":[0.025388839953283945,0.12556425051847703,null],\"y\":[-0.14210342517779273,0.08122592568284567,null],\"type\":\"scatter\"},{\"line\":{\"color\":\"mediumaquamarine\",\"shape\":\"spline\",\"width\":1.0},\"mode\":\"lines\",\"x\":[0.27871331852236975,0.12556425051847703,null],\"y\":[-0.18985035756394322,0.08122592568284567,null],\"type\":\"scatter\"},{\"line\":{\"color\":\"mediumaquamarine\",\"shape\":\"spline\",\"width\":1.0},\"mode\":\"lines\",\"x\":[0.27871331852236975,0.27871331852236975,null],\"y\":[-0.18985035756394322,-0.18985035756394322,null],\"type\":\"scatter\"},{\"line\":{\"color\":\"mediumaquamarine\",\"shape\":\"spline\",\"width\":1.0},\"mode\":\"lines\",\"x\":[-0.407030296784562,-0.18068395434277848,null],\"y\":[-0.17496591204824347,0.13452358267925332,null],\"type\":\"scatter\"},{\"line\":{\"color\":\"mediumaquamarine\",\"shape\":\"spline\",\"width\":1.9343364202676694},\"mode\":\"lines\",\"x\":[-0.407030296784562,0.12556425051847703,null],\"y\":[-0.17496591204824347,0.08122592568284567,null],\"type\":\"scatter\"},{\"line\":{\"color\":\"mediumaquamarine\",\"shape\":\"spline\",\"width\":1.189207115002721},\"mode\":\"lines\",\"x\":[-0.407030296784562,-0.9633708590812551,null],\"y\":[-0.17496591204824347,-0.436379450482141,null],\"type\":\"scatter\"},{\"line\":{\"color\":\"mediumaquamarine\",\"shape\":\"spline\",\"width\":1.0},\"mode\":\"lines\",\"x\":[-0.407030296784562,-0.32710379200727635,null],\"y\":[-0.17496591204824347,0.02585505311443355,null],\"type\":\"scatter\"},{\"line\":{\"color\":\"mediumaquamarine\",\"shape\":\"spline\",\"width\":1.7320508075688772},\"mode\":\"lines\",\"x\":[-0.407030296784562,-0.407030296784562,null],\"y\":[-0.17496591204824347,-0.17496591204824347,null],\"type\":\"scatter\"},{\"line\":{\"color\":\"mediumaquamarine\",\"shape\":\"spline\",\"width\":1.3160740129524924},\"mode\":\"lines\",\"x\":[-0.407030296784562,0.03418312371220912,null],\"y\":[-0.17496591204824347,0.39563047263382056,null],\"type\":\"scatter\"},{\"line\":{\"color\":\"mediumaquamarine\",\"shape\":\"spline\",\"width\":1.189207115002721},\"mode\":\"lines\",\"x\":[0.08310057839459586,0.03418312371220912,null],\"y\":[-0.110585128120345,0.39563047263382056,null],\"type\":\"scatter\"},{\"line\":{\"color\":\"mediumaquamarine\",\"shape\":\"spline\",\"width\":1.0},\"mode\":\"lines\",\"x\":[0.08858173915217561,0.27871331852236975,null],\"y\":[-0.4319334871329036,-0.18985035756394322,null],\"type\":\"scatter\"},{\"line\":{\"color\":\"mediumaquamarine\",\"shape\":\"spline\",\"width\":1.0},\"mode\":\"lines\",\"x\":[0.3764390337037802,0.12556425051847703,null],\"y\":[0.17276394050591218,0.08122592568284567,null],\"type\":\"scatter\"},{\"line\":{\"color\":\"mediumaquamarine\",\"shape\":\"spline\",\"width\":1.0},\"mode\":\"lines\",\"x\":[0.3764390337037802,0.3764390337037802,null],\"y\":[0.17276394050591218,0.17276394050591218,null],\"type\":\"scatter\"},{\"line\":{\"color\":\"mediumaquamarine\",\"shape\":\"spline\",\"width\":1.0},\"mode\":\"lines\",\"x\":[0.3764310909335287,0.12556425051847703,null],\"y\":[0.1727513785333494,0.08122592568284567,null],\"type\":\"scatter\"},{\"line\":{\"color\":\"mediumaquamarine\",\"shape\":\"spline\",\"width\":1.0},\"mode\":\"lines\",\"x\":[-0.07997863548732125,-0.32710379200727635,null],\"y\":[-0.28815234122253053,0.02585505311443355,null],\"type\":\"scatter\"},{\"line\":{\"color\":\"mediumaquamarine\",\"shape\":\"spline\",\"width\":1.0},\"mode\":\"lines\",\"x\":[-0.07997863548732125,0.27871331852236975,null],\"y\":[-0.28815234122253053,-0.18985035756394322,null],\"type\":\"scatter\"},{\"line\":{\"color\":\"mediumaquamarine\",\"shape\":\"spline\",\"width\":1.0},\"mode\":\"lines\",\"x\":[0.2351194245767656,0.2351194245767656,null],\"y\":[-0.10259211587357765,-0.10259211587357765,null],\"type\":\"scatter\"},{\"line\":{\"color\":\"mediumaquamarine\",\"shape\":\"spline\",\"width\":1.0},\"mode\":\"lines\",\"x\":[-0.43658049270669186,-0.407030296784562,null],\"y\":[-0.44631197061437455,-0.17496591204824347,null],\"type\":\"scatter\"},{\"line\":{\"color\":\"mediumaquamarine\",\"shape\":\"spline\",\"width\":1.0},\"mode\":\"lines\",\"x\":[0.3765044119879617,0.12556425051847703,null],\"y\":[0.17287428543086658,0.08122592568284567,null],\"type\":\"scatter\"},{\"hovertemplate\":[\"202001Chris Murphy\",\"202001Chris Van Hollen\",\"202001Bill Clinton\",\"202001Darrell Issa\",\"202001David Plouffe\",\"202001Mick Mulvaney\",\"202001Joe Scarborough\",\"202001Ed Markey\",\"202001Jennifer Horn\",\"202001Jeff Merkley\",\"202001Toni Atkins\",\"202001David Jolly\",\"202001John Dean\",\"202001Mazie Hirono\",\"202001Nury Martinez\",\"202001Nancy Pelosi\",\"202001Jennifer Palmieri\",\"202001Trey Gowdy\",\"202001Steve Bartlett\",\"202001Steve Scalise\",\"202001Pramila Jayapal\",\"202001Mark Pocan\",\"202001Richard Blumenthal\",\"202001Paul Gosar\",\"202001Rudy Giuliani\",\"202001Rick Perry\",\"202001Zoe Lofgren\",\"202001Jackie Speier\",\"202001Lindsey Graham\",\"202001Kirsten Gillibrand\",\"202001Amy Klobuchar\",\"202001Claire McCaskill\",\"202001Olympia Snowe\",\"202001Donald Trump\",\"202001Mike Pence\",\"202001Jeanne Shaheen\",\"202001Jon Ossoff\",\"202001Tammy Duckworth\",\"202001Karl Rove\",\"202001John R. Bolton\",\"202001Marianne Williamson\",\"202001Marco Rubio\",\"202001Tulsi Gabbard\",\"202001Rex Tillerson\",\"202001Adam Schiff\",\"202001Mitch McConnell\",\"202001Chuck Schumer\",\"202001Ann McLane Kuster\",\"202001Mark Randall Meadows\",\"202001Kevin Cramer\",\"202001Lamar Alexander\",\"202001Elizabeth Warren\",\"202001Rick Scott\",\"202001Mitt Romney\",\"202001Carolyn Maloney\",\"202001Gavin Newsom\",\"202001Rand Paul\",\"202001Mike Pompeo\",\"202001Marie Newman\",\"202001Carl DeMaio\",\"202001Chris Pappas\"],\"marker\":{\"color\":[\"blue\",\"blue\",\"blue\",\"blue\",\"blue\",\"blue\",\"blue\",\"blue\",\"blue\",\"blue\",\"blue\",\"blue\",\"blue\",\"blue\",\"blue\",\"blue\",\"blue\",\"blue\",\"blue\",\"blue\",\"blue\",\"blue\",\"blue\",\"blue\",\"blue\",\"blue\",\"blue\",\"blue\",\"blue\",\"blue\",\"red\",\"red\",\"red\",\"red\",\"red\",\"red\",\"red\",\"red\",\"red\",\"red\",\"red\",\"red\",\"red\",\"red\",\"red\",\"red\",\"red\",\"red\",\"red\",\"red\",\"red\",\"red\",\"red\",\"red\",\"red\",\"red\",\"red\",\"red\",\"red\",\"red\",\"red\"],\"line\":{\"color\":[\"blue\",\"blue\",\"blue\",\"blue\",\"blue\",\"blue\",\"blue\",\"blue\",\"blue\",\"blue\",\"blue\",\"blue\",\"blue\",\"blue\",\"blue\",\"blue\",\"blue\",\"blue\",\"blue\",\"blue\",\"blue\",\"blue\",\"blue\",\"blue\",\"blue\",\"blue\",\"blue\",\"blue\",\"blue\",\"blue\",\"red\",\"red\",\"red\",\"red\",\"red\",\"red\",\"red\",\"red\",\"red\",\"red\",\"red\",\"red\",\"red\",\"red\",\"red\",\"red\",\"red\",\"red\",\"red\",\"red\",\"red\",\"red\",\"red\",\"red\",\"red\",\"red\",\"red\",\"red\",\"red\",\"red\",\"red\"],\"width\":2},\"size\":15},\"mode\":\"markers\",\"x\":[-0.06992336700034084,0.11493020163084758,0.25099278596533997,0.4868409919390241,0.37652346402589504,-0.06949913220490775,0.3765116345964723,0.1404998750839004,-0.18068395434277848,0.2000176015052409,0.37652375832850443,0.24753679781055724,0.002350141299245145,-1.0,-0.012430188028066343,-0.03965275375338926,0.12556425051847703,0.03451360324132861,-0.031075821273408046,-0.030994664803139393,-0.030996759294375443,0.009484332426199284,-0.11248906376126197,-0.08726767189468829,-0.21601950527218683,-0.09525654737371206,-0.030868636292583927,0.025395395580866533,-0.9633708590812551,0.02540135584104194,-0.32710379200727635,-0.0694837091903562,0.02538657629377427,-0.26935460953291956,0.025386534787018526,-0.4371472076950761,-0.1341978888014287,-0.1238258914100189,-0.2537822852458737,-0.10224256406625327,-0.12254878898013782,-0.050946437299762046,-0.10787959604795998,-0.09498032549867211,0.025388400590996906,0.025388839953283945,0.27871331852236975,0.15509852986688152,0.48681380410668107,-0.407030296784562,0.08310057839459586,0.08858173915217561,0.3764390337037802,0.3764310909335287,-0.07997863548732125,0.1151534690336601,0.03418312371220912,0.2351194245767656,0.4868363797217803,-0.43658049270669186,0.3765044119879617],\"y\":[-0.1586829777366672,-0.037230153504011286,0.05239933473186786,-0.18938320795122363,0.17290046169792567,-0.14839745485457323,0.1728819139682018,0.17326930648864708,0.13452358267925332,0.18886598828034948,0.17290334224943787,0.35224335246371696,0.2066631712898084,-0.008553954498802903,0.14637995491470235,0.27236542302965105,0.08122592568284567,0.14189004114256581,0.3744150226821672,0.3744761083588138,0.37447533498719976,-0.14452211264767117,0.19278624176704592,0.2961794106274135,0.07745875231172576,0.350641540187102,0.378117451449038,-0.14209702578135142,-0.436379450482141,-0.14208423721303345,0.02585505311443355,-0.14840518717800572,-0.14211095518138617,-0.035455048820548306,-0.14211295557347575,-0.44609317203244425,0.9366341301021904,-0.12321821603927363,-0.12639374181303822,-0.16851127198769233,-0.24247820549908794,-0.2789843827704257,-0.43917600314951377,0.1287225936816323,-0.14210652699153953,-0.14210342517779273,-0.18985035756394322,-0.266683929101483,-0.18944876792558707,-0.17496591204824347,-0.110585128120345,-0.4319334871329036,0.17276394050591218,0.1727513785333494,-0.28815234122253053,-0.3178952587389406,0.39563047263382056,-0.10259211587357765,-0.18939457976605625,-0.44631197061437455,0.17287428543086658],\"type\":\"scatter\"},{\"line\":{\"color\":\"mediumaquamarine\",\"shape\":\"spline\",\"width\":1.0},\"mode\":\"lines\",\"x\":[0.4201351639696622,0.4201351639696622,null],\"y\":[0.0010301855287867083,0.0010301855287867083,null],\"type\":\"scatter\"},{\"line\":{\"color\":\"mediumaquamarine\",\"shape\":\"spline\",\"width\":1.0},\"mode\":\"lines\",\"x\":[0.32215712056554696,-0.03378812295016482,null],\"y\":[0.14853740007011065,0.35314815537662775,null],\"type\":\"scatter\"},{\"line\":{\"color\":\"mediumaquamarine\",\"shape\":\"spline\",\"width\":1.0},\"mode\":\"lines\",\"x\":[0.34015685819077396,0.1997361191962242,null],\"y\":[0.09401661480229888,-0.2917928446258578,null],\"type\":\"scatter\"},{\"line\":{\"color\":\"mediumaquamarine\",\"shape\":\"spline\",\"width\":1.0},\"mode\":\"lines\",\"x\":[0.20265265079415853,-0.200161935582182,null],\"y\":[-0.17764868685999663,-0.0967134099410691,null],\"type\":\"scatter\"},{\"line\":{\"color\":\"mediumaquamarine\",\"shape\":\"spline\",\"width\":1.0},\"mode\":\"lines\",\"x\":[0.2018935874533882,-0.200161935582182,null],\"y\":[-0.18111574164294217,-0.0967134099410691,null],\"type\":\"scatter\"},{\"line\":{\"color\":\"mediumaquamarine\",\"shape\":\"spline\",\"width\":1.0},\"mode\":\"lines\",\"x\":[-0.23306525341995016,-0.200161935582182,null],\"y\":[0.31151184950558364,-0.0967134099410691,null],\"type\":\"scatter\"},{\"line\":{\"color\":\"mediumaquamarine\",\"shape\":\"spline\",\"width\":1.0},\"mode\":\"lines\",\"x\":[-0.23306525341995016,-0.5778881979515358,null],\"y\":[0.31151184950558364,0.08196544330714987,null],\"type\":\"scatter\"},{\"line\":{\"color\":\"mediumaquamarine\",\"shape\":\"spline\",\"width\":1.4142135623730951},\"mode\":\"lines\",\"x\":[-0.200161935582182,-0.200161935582182,null],\"y\":[-0.0967134099410691,-0.0967134099410691,null],\"type\":\"scatter\"},{\"line\":{\"color\":\"mediumaquamarine\",\"shape\":\"spline\",\"width\":1.0},\"mode\":\"lines\",\"x\":[-0.200161935582182,-0.5778881979515358,null],\"y\":[-0.0967134099410691,0.08196544330714987,null],\"type\":\"scatter\"},{\"line\":{\"color\":\"mediumaquamarine\",\"shape\":\"spline\",\"width\":1.0},\"mode\":\"lines\",\"x\":[-0.23294403792209087,-0.200161935582182,null],\"y\":[0.31144598554227476,-0.0967134099410691,null],\"type\":\"scatter\"},{\"line\":{\"color\":\"mediumaquamarine\",\"shape\":\"spline\",\"width\":1.0},\"mode\":\"lines\",\"x\":[-0.23294403792209087,-0.5778881979515358,null],\"y\":[0.31144598554227476,0.08196544330714987,null],\"type\":\"scatter\"},{\"line\":{\"color\":\"mediumaquamarine\",\"shape\":\"spline\",\"width\":1.0},\"mode\":\"lines\",\"x\":[-0.28056944759960195,-0.463450609781581,null],\"y\":[0.37050530261903564,0.0029216295330042217,null],\"type\":\"scatter\"},{\"line\":{\"color\":\"mediumaquamarine\",\"shape\":\"spline\",\"width\":1.0},\"mode\":\"lines\",\"x\":[-0.4159795594281268,-0.4159795594281268,null],\"y\":[0.04793765951446853,0.04793765951446853,null],\"type\":\"scatter\"},{\"line\":{\"color\":\"mediumaquamarine\",\"shape\":\"spline\",\"width\":1.0},\"mode\":\"lines\",\"x\":[0.205119352799749,-0.200161935582182,null],\"y\":[-0.1659067370886455,-0.0967134099410691,null],\"type\":\"scatter\"},{\"line\":{\"color\":\"mediumaquamarine\",\"shape\":\"spline\",\"width\":1.0},\"mode\":\"lines\",\"x\":[-0.19150112132268363,-0.5778881979515358,null],\"y\":[0.21828054209133022,0.08196544330714987,null],\"type\":\"scatter\"},{\"line\":{\"color\":\"mediumaquamarine\",\"shape\":\"spline\",\"width\":1.189207115002721},\"mode\":\"lines\",\"x\":[0.5945596944866242,-0.200161935582182,null],\"y\":[-0.30443604663400076,-0.0967134099410691,null],\"type\":\"scatter\"},{\"line\":{\"color\":\"mediumaquamarine\",\"shape\":\"spline\",\"width\":1.0},\"mode\":\"lines\",\"x\":[0.20580782343547047,-0.200161935582182,null],\"y\":[-0.16223764687423267,-0.0967134099410691,null],\"type\":\"scatter\"},{\"line\":{\"color\":\"mediumaquamarine\",\"shape\":\"spline\",\"width\":1.0},\"mode\":\"lines\",\"x\":[0.2088997705256518,-0.200161935582182,null],\"y\":[-0.14412388966045314,-0.0967134099410691,null],\"type\":\"scatter\"},{\"line\":{\"color\":\"mediumaquamarine\",\"shape\":\"spline\",\"width\":1.0},\"mode\":\"lines\",\"x\":[0.0617338464866835,0.17170561257589248,null],\"y\":[-0.12329102521417169,0.27233158490680537,null],\"type\":\"scatter\"},{\"line\":{\"color\":\"mediumaquamarine\",\"shape\":\"spline\",\"width\":1.0},\"mode\":\"lines\",\"x\":[0.0617338464866835,-0.17213142030285225,null],\"y\":[-0.12329102521417169,0.21418588235435865,null],\"type\":\"scatter\"},{\"line\":{\"color\":\"mediumaquamarine\",\"shape\":\"spline\",\"width\":1.0},\"mode\":\"lines\",\"x\":[0.0617338464866835,-0.2183437035549335,null],\"y\":[-0.12329102521417169,-0.4234825603814944,null],\"type\":\"scatter\"},{\"line\":{\"color\":\"mediumaquamarine\",\"shape\":\"spline\",\"width\":1.0},\"mode\":\"lines\",\"x\":[0.0617338464866835,0.0617338464866835,null],\"y\":[-0.12329102521417169,-0.12329102521417169,null],\"type\":\"scatter\"},{\"line\":{\"color\":\"mediumaquamarine\",\"shape\":\"spline\",\"width\":1.0},\"mode\":\"lines\",\"x\":[0.0617338464866835,0.47180668363345907,null],\"y\":[-0.12329102521417169,-0.1018705165419691,null],\"type\":\"scatter\"},{\"line\":{\"color\":\"mediumaquamarine\",\"shape\":\"spline\",\"width\":1.0},\"mode\":\"lines\",\"x\":[-0.5778881979515358,-1.0,null],\"y\":[0.08196544330714987,0.05881624853666161,null],\"type\":\"scatter\"},{\"line\":{\"color\":\"mediumaquamarine\",\"shape\":\"spline\",\"width\":1.0},\"mode\":\"lines\",\"x\":[-0.5778881979515358,-0.5778881979515358,null],\"y\":[0.08196544330714987,0.08196544330714987,null],\"type\":\"scatter\"},{\"line\":{\"color\":\"mediumaquamarine\",\"shape\":\"spline\",\"width\":1.0},\"mode\":\"lines\",\"x\":[0.20823424736133037,-0.200161935582182,null],\"y\":[-0.14843675747453622,-0.0967134099410691,null],\"type\":\"scatter\"},{\"line\":{\"color\":\"mediumaquamarine\",\"shape\":\"spline\",\"width\":1.0},\"mode\":\"lines\",\"x\":[0.20522487834108755,-0.200161935582182,null],\"y\":[-0.16557862074912752,-0.0967134099410691,null],\"type\":\"scatter\"},{\"hovertemplate\":[\"202001Chris Murphy\",\"202001Chris Van Hollen\",\"202001Bill Clinton\",\"202001Darrell Issa\",\"202001David Plouffe\",\"202001Mick Mulvaney\",\"202001Joe Scarborough\",\"202001Ed Markey\",\"202001Jennifer Horn\",\"202001Jeff Merkley\",\"202001Toni Atkins\",\"202001David Jolly\",\"202001John Dean\",\"202001Mazie Hirono\",\"202001Nury Martinez\",\"202001Nancy Pelosi\",\"202001Jennifer Palmieri\",\"202001Trey Gowdy\",\"202001Steve Bartlett\",\"202001Steve Scalise\",\"202001Pramila Jayapal\",\"202001Mark Pocan\",\"202001Richard Blumenthal\",\"202001Paul Gosar\",\"202001Rudy Giuliani\",\"202001Rick Perry\",\"202001Zoe Lofgren\"],\"marker\":{\"color\":[\"blue\",\"blue\",\"blue\",\"blue\",\"blue\",\"blue\",\"blue\",\"blue\",\"blue\",\"blue\",\"blue\",\"blue\",\"blue\",\"red\",\"red\",\"red\",\"red\",\"red\",\"red\",\"red\",\"red\",\"red\",\"red\",\"red\",\"red\",\"red\",\"red\"],\"line\":{\"color\":[\"blue\",\"blue\",\"blue\",\"blue\",\"blue\",\"blue\",\"blue\",\"blue\",\"blue\",\"blue\",\"blue\",\"blue\",\"blue\",\"red\",\"red\",\"red\",\"red\",\"red\",\"red\",\"red\",\"red\",\"red\",\"red\",\"red\",\"red\",\"red\",\"red\"],\"width\":2},\"size\":15},\"mode\":\"markers\",\"x\":[0.4201351639696622,0.32215712056554696,0.34015685819077396,0.20265265079415853,0.2018935874533882,0.17170561257589248,-0.23306525341995016,-0.200161935582182,-0.03378812295016482,-0.17213142030285225,-0.23294403792209087,-0.28056944759960195,-0.463450609781581,-0.4159795594281268,0.205119352799749,-0.19150112132268363,-1.0,0.5945596944866242,0.20580782343547047,-0.2183437035549335,0.2088997705256518,0.0617338464866835,0.1997361191962242,-0.5778881979515358,0.20823424736133037,0.20522487834108755,0.47180668363345907],\"y\":[0.0010301855287867083,0.14853740007011065,0.09401661480229888,-0.17764868685999663,-0.18111574164294217,0.27233158490680537,0.31151184950558364,-0.0967134099410691,0.35314815537662775,0.21418588235435865,0.31144598554227476,0.37050530261903564,0.0029216295330042217,0.04793765951446853,-0.1659067370886455,0.21828054209133022,0.05881624853666161,-0.30443604663400076,-0.16223764687423267,-0.4234825603814944,-0.14412388966045314,-0.12329102521417169,-0.2917928446258578,0.08196544330714987,-0.14843675747453622,-0.16557862074912752,-0.1018705165419691],\"type\":\"scatter\"}],                        {\"height\":1000,\"hovermode\":\"closest\",\"margin\":{\"t\":100},\"paper_bgcolor\":\"rgba(255,255,255,255)\",\"plot_bgcolor\":\"rgba(0,0,0,0)\",\"scene\":{\"xaxis\":{\"showbackground\":false,\"showgrid\":false,\"showline\":false,\"showticklabels\":false,\"title\":{\"text\":\"\"},\"visible\":false,\"zeroline\":false},\"yaxis\":{\"showbackground\":false,\"showgrid\":false,\"showline\":false,\"showticklabels\":false,\"title\":{\"text\":\"\"},\"visible\":false,\"zeroline\":false}},\"showlegend\":false,\"template\":{\"data\":{\"barpolar\":[{\"marker\":{\"line\":{\"color\":\"#E5ECF6\",\"width\":0.5},\"pattern\":{\"fillmode\":\"overlay\",\"size\":10,\"solidity\":0.2}},\"type\":\"barpolar\"}],\"bar\":[{\"error_x\":{\"color\":\"#2a3f5f\"},\"error_y\":{\"color\":\"#2a3f5f\"},\"marker\":{\"line\":{\"color\":\"#E5ECF6\",\"width\":0.5},\"pattern\":{\"fillmode\":\"overlay\",\"size\":10,\"solidity\":0.2}},\"type\":\"bar\"}],\"carpet\":[{\"aaxis\":{\"endlinecolor\":\"#2a3f5f\",\"gridcolor\":\"white\",\"linecolor\":\"white\",\"minorgridcolor\":\"white\",\"startlinecolor\":\"#2a3f5f\"},\"baxis\":{\"endlinecolor\":\"#2a3f5f\",\"gridcolor\":\"white\",\"linecolor\":\"white\",\"minorgridcolor\":\"white\",\"startlinecolor\":\"#2a3f5f\"},\"type\":\"carpet\"}],\"choropleth\":[{\"colorbar\":{\"outlinewidth\":0,\"ticks\":\"\"},\"type\":\"choropleth\"}],\"contourcarpet\":[{\"colorbar\":{\"outlinewidth\":0,\"ticks\":\"\"},\"type\":\"contourcarpet\"}],\"contour\":[{\"colorbar\":{\"outlinewidth\":0,\"ticks\":\"\"},\"colorscale\":[[0.0,\"#0d0887\"],[0.1111111111111111,\"#46039f\"],[0.2222222222222222,\"#7201a8\"],[0.3333333333333333,\"#9c179e\"],[0.4444444444444444,\"#bd3786\"],[0.5555555555555556,\"#d8576b\"],[0.6666666666666666,\"#ed7953\"],[0.7777777777777778,\"#fb9f3a\"],[0.8888888888888888,\"#fdca26\"],[1.0,\"#f0f921\"]],\"type\":\"contour\"}],\"heatmapgl\":[{\"colorbar\":{\"outlinewidth\":0,\"ticks\":\"\"},\"colorscale\":[[0.0,\"#0d0887\"],[0.1111111111111111,\"#46039f\"],[0.2222222222222222,\"#7201a8\"],[0.3333333333333333,\"#9c179e\"],[0.4444444444444444,\"#bd3786\"],[0.5555555555555556,\"#d8576b\"],[0.6666666666666666,\"#ed7953\"],[0.7777777777777778,\"#fb9f3a\"],[0.8888888888888888,\"#fdca26\"],[1.0,\"#f0f921\"]],\"type\":\"heatmapgl\"}],\"heatmap\":[{\"colorbar\":{\"outlinewidth\":0,\"ticks\":\"\"},\"colorscale\":[[0.0,\"#0d0887\"],[0.1111111111111111,\"#46039f\"],[0.2222222222222222,\"#7201a8\"],[0.3333333333333333,\"#9c179e\"],[0.4444444444444444,\"#bd3786\"],[0.5555555555555556,\"#d8576b\"],[0.6666666666666666,\"#ed7953\"],[0.7777777777777778,\"#fb9f3a\"],[0.8888888888888888,\"#fdca26\"],[1.0,\"#f0f921\"]],\"type\":\"heatmap\"}],\"histogram2dcontour\":[{\"colorbar\":{\"outlinewidth\":0,\"ticks\":\"\"},\"colorscale\":[[0.0,\"#0d0887\"],[0.1111111111111111,\"#46039f\"],[0.2222222222222222,\"#7201a8\"],[0.3333333333333333,\"#9c179e\"],[0.4444444444444444,\"#bd3786\"],[0.5555555555555556,\"#d8576b\"],[0.6666666666666666,\"#ed7953\"],[0.7777777777777778,\"#fb9f3a\"],[0.8888888888888888,\"#fdca26\"],[1.0,\"#f0f921\"]],\"type\":\"histogram2dcontour\"}],\"histogram2d\":[{\"colorbar\":{\"outlinewidth\":0,\"ticks\":\"\"},\"colorscale\":[[0.0,\"#0d0887\"],[0.1111111111111111,\"#46039f\"],[0.2222222222222222,\"#7201a8\"],[0.3333333333333333,\"#9c179e\"],[0.4444444444444444,\"#bd3786\"],[0.5555555555555556,\"#d8576b\"],[0.6666666666666666,\"#ed7953\"],[0.7777777777777778,\"#fb9f3a\"],[0.8888888888888888,\"#fdca26\"],[1.0,\"#f0f921\"]],\"type\":\"histogram2d\"}],\"histogram\":[{\"marker\":{\"pattern\":{\"fillmode\":\"overlay\",\"size\":10,\"solidity\":0.2}},\"type\":\"histogram\"}],\"mesh3d\":[{\"colorbar\":{\"outlinewidth\":0,\"ticks\":\"\"},\"type\":\"mesh3d\"}],\"parcoords\":[{\"line\":{\"colorbar\":{\"outlinewidth\":0,\"ticks\":\"\"}},\"type\":\"parcoords\"}],\"pie\":[{\"automargin\":true,\"type\":\"pie\"}],\"scatter3d\":[{\"line\":{\"colorbar\":{\"outlinewidth\":0,\"ticks\":\"\"}},\"marker\":{\"colorbar\":{\"outlinewidth\":0,\"ticks\":\"\"}},\"type\":\"scatter3d\"}],\"scattercarpet\":[{\"marker\":{\"colorbar\":{\"outlinewidth\":0,\"ticks\":\"\"}},\"type\":\"scattercarpet\"}],\"scattergeo\":[{\"marker\":{\"colorbar\":{\"outlinewidth\":0,\"ticks\":\"\"}},\"type\":\"scattergeo\"}],\"scattergl\":[{\"marker\":{\"colorbar\":{\"outlinewidth\":0,\"ticks\":\"\"}},\"type\":\"scattergl\"}],\"scattermapbox\":[{\"marker\":{\"colorbar\":{\"outlinewidth\":0,\"ticks\":\"\"}},\"type\":\"scattermapbox\"}],\"scatterpolargl\":[{\"marker\":{\"colorbar\":{\"outlinewidth\":0,\"ticks\":\"\"}},\"type\":\"scatterpolargl\"}],\"scatterpolar\":[{\"marker\":{\"colorbar\":{\"outlinewidth\":0,\"ticks\":\"\"}},\"type\":\"scatterpolar\"}],\"scatter\":[{\"marker\":{\"colorbar\":{\"outlinewidth\":0,\"ticks\":\"\"}},\"type\":\"scatter\"}],\"scatterternary\":[{\"marker\":{\"colorbar\":{\"outlinewidth\":0,\"ticks\":\"\"}},\"type\":\"scatterternary\"}],\"surface\":[{\"colorbar\":{\"outlinewidth\":0,\"ticks\":\"\"},\"colorscale\":[[0.0,\"#0d0887\"],[0.1111111111111111,\"#46039f\"],[0.2222222222222222,\"#7201a8\"],[0.3333333333333333,\"#9c179e\"],[0.4444444444444444,\"#bd3786\"],[0.5555555555555556,\"#d8576b\"],[0.6666666666666666,\"#ed7953\"],[0.7777777777777778,\"#fb9f3a\"],[0.8888888888888888,\"#fdca26\"],[1.0,\"#f0f921\"]],\"type\":\"surface\"}],\"table\":[{\"cells\":{\"fill\":{\"color\":\"#EBF0F8\"},\"line\":{\"color\":\"white\"}},\"header\":{\"fill\":{\"color\":\"#C8D4E3\"},\"line\":{\"color\":\"white\"}},\"type\":\"table\"}]},\"layout\":{\"annotationdefaults\":{\"arrowcolor\":\"#2a3f5f\",\"arrowhead\":0,\"arrowwidth\":1},\"autotypenumbers\":\"strict\",\"coloraxis\":{\"colorbar\":{\"outlinewidth\":0,\"ticks\":\"\"}},\"colorscale\":{\"diverging\":[[0,\"#8e0152\"],[0.1,\"#c51b7d\"],[0.2,\"#de77ae\"],[0.3,\"#f1b6da\"],[0.4,\"#fde0ef\"],[0.5,\"#f7f7f7\"],[0.6,\"#e6f5d0\"],[0.7,\"#b8e186\"],[0.8,\"#7fbc41\"],[0.9,\"#4d9221\"],[1,\"#276419\"]],\"sequential\":[[0.0,\"#0d0887\"],[0.1111111111111111,\"#46039f\"],[0.2222222222222222,\"#7201a8\"],[0.3333333333333333,\"#9c179e\"],[0.4444444444444444,\"#bd3786\"],[0.5555555555555556,\"#d8576b\"],[0.6666666666666666,\"#ed7953\"],[0.7777777777777778,\"#fb9f3a\"],[0.8888888888888888,\"#fdca26\"],[1.0,\"#f0f921\"]],\"sequentialminus\":[[0.0,\"#0d0887\"],[0.1111111111111111,\"#46039f\"],[0.2222222222222222,\"#7201a8\"],[0.3333333333333333,\"#9c179e\"],[0.4444444444444444,\"#bd3786\"],[0.5555555555555556,\"#d8576b\"],[0.6666666666666666,\"#ed7953\"],[0.7777777777777778,\"#fb9f3a\"],[0.8888888888888888,\"#fdca26\"],[1.0,\"#f0f921\"]]},\"colorway\":[\"#636efa\",\"#EF553B\",\"#00cc96\",\"#ab63fa\",\"#FFA15A\",\"#19d3f3\",\"#FF6692\",\"#B6E880\",\"#FF97FF\",\"#FECB52\"],\"font\":{\"color\":\"#2a3f5f\"},\"geo\":{\"bgcolor\":\"white\",\"lakecolor\":\"white\",\"landcolor\":\"#E5ECF6\",\"showlakes\":true,\"showland\":true,\"subunitcolor\":\"white\"},\"hoverlabel\":{\"align\":\"left\"},\"hovermode\":\"closest\",\"mapbox\":{\"style\":\"light\"},\"paper_bgcolor\":\"white\",\"plot_bgcolor\":\"#E5ECF6\",\"polar\":{\"angularaxis\":{\"gridcolor\":\"white\",\"linecolor\":\"white\",\"ticks\":\"\"},\"bgcolor\":\"#E5ECF6\",\"radialaxis\":{\"gridcolor\":\"white\",\"linecolor\":\"white\",\"ticks\":\"\"}},\"scene\":{\"xaxis\":{\"backgroundcolor\":\"#E5ECF6\",\"gridcolor\":\"white\",\"gridwidth\":2,\"linecolor\":\"white\",\"showbackground\":true,\"ticks\":\"\",\"zerolinecolor\":\"white\"},\"yaxis\":{\"backgroundcolor\":\"#E5ECF6\",\"gridcolor\":\"white\",\"gridwidth\":2,\"linecolor\":\"white\",\"showbackground\":true,\"ticks\":\"\",\"zerolinecolor\":\"white\"},\"zaxis\":{\"backgroundcolor\":\"#E5ECF6\",\"gridcolor\":\"white\",\"gridwidth\":2,\"linecolor\":\"white\",\"showbackground\":true,\"ticks\":\"\",\"zerolinecolor\":\"white\"}},\"shapedefaults\":{\"line\":{\"color\":\"#2a3f5f\"}},\"ternary\":{\"aaxis\":{\"gridcolor\":\"white\",\"linecolor\":\"white\",\"ticks\":\"\"},\"baxis\":{\"gridcolor\":\"white\",\"linecolor\":\"white\",\"ticks\":\"\"},\"bgcolor\":\"#E5ECF6\",\"caxis\":{\"gridcolor\":\"white\",\"linecolor\":\"white\",\"ticks\":\"\"}},\"title\":{\"x\":0.05},\"xaxis\":{\"automargin\":true,\"gridcolor\":\"white\",\"linecolor\":\"white\",\"ticks\":\"\",\"title\":{\"standoff\":15},\"zerolinecolor\":\"white\",\"zerolinewidth\":2},\"yaxis\":{\"automargin\":true,\"gridcolor\":\"white\",\"linecolor\":\"white\",\"ticks\":\"\",\"title\":{\"standoff\":15},\"zerolinecolor\":\"white\",\"zerolinewidth\":2}}},\"updatemenus\":[{\"active\":0,\"buttons\":[{\"args\":[{\"visible\":[true,true,true,true,true,true,true,true,true,true,true,true,true,true,true,true,true,true,true,true,true,true,true,true,true,true,true,true,true,true,true,true,true,true,true,true,true,true,true,true,true,true,true,true,true,true,true,true,true,true,true,true,true,true,true,true,true,true,true,true,true,true,true,true,true,true,true,true,true,true,true,true,true,true,true,true,true,true,true,true,true,true,true,true,true,true,true,true,true,true,true,true,true,true,true,true,true,true,true,true,true,true,true,true,true,true,true,true,true,true,true,true,true,true,true,true,true,true,true,true,true,true,true,true,true,false,false,false,false,false,false,false,false,false,false,false,false,false,false,false,false,false,false,false,false,false,false,false,false,false,false,false,false,false,false,false,false,false,false,false,false,false,false,false,false,false,false,false,false,false,false,false,false,false,false,false,false,false,false,false,false,false,false,false,false,false,false,false,false,false,false,false,false,false,false,false,false,false,false,false,false,false,false,false,false,false,false,false,false,false,false,false,false,false,false,false,false,false,false,false,false,false,false,false,false,false,false,false,false,false,false,false,false,false,false,false,false,false,false,false,false,false,false,false,false,false,false,false,false,false,false,false,false,false,false,false,false,false,false,false,false,false,false,false,false,false,false,false,false,false,false,false,false,false,false,false,false,false,false,false,false,false,false,false,false,false,false,false,false,false,false,false,false,false,false,false,false,false,false,false,false,false,false,false,false,false,false,false,false,false,false,false,false,false,false,false,false,false,false,false,false,false,false,false,false,false,false,false,false,false,false,false,false,false,false,false,false,false,false,false,false,false,false,false,false,false,false,false,false,false,false,false,false,false,false,false,false,false,false,false,false,false,false,false,false,false,false]},{\"title\":\"202001\"}],\"label\":\"202001\",\"method\":\"update\"},{\"args\":[{\"visible\":[false,false,false,false,false,false,false,false,false,false,false,false,false,false,false,false,false,false,false,false,false,false,false,false,false,false,false,false,false,false,false,false,false,false,false,false,false,false,false,false,false,false,false,false,false,false,false,false,false,false,false,false,false,false,false,false,false,false,false,false,false,false,false,false,false,false,false,false,false,false,false,false,false,false,false,false,false,false,false,false,false,false,false,false,false,false,false,false,false,false,false,false,false,false,false,false,false,false,false,false,false,false,false,false,false,false,false,false,false,false,false,false,false,false,false,false,false,false,false,false,false,false,false,false,false,true,true,true,true,true,true,true,true,true,true,true,true,true,true,true,true,true,true,true,true,true,true,true,true,true,true,true,true,true,true,true,true,true,true,true,true,true,true,true,true,true,true,true,true,true,true,true,true,true,true,true,true,true,true,true,true,true,true,true,true,true,true,true,true,true,true,true,true,true,true,true,true,true,true,true,true,true,true,true,true,true,true,true,true,true,true,true,true,true,true,true,true,true,true,true,true,true,true,true,true,true,true,true,true,true,true,true,true,true,true,true,true,true,true,true,true,true,true,true,true,true,true,true,true,true,true,true,true,true,true,true,true,true,true,true,true,true,true,true,false,false,false,false,false,false,false,false,false,false,false,false,false,false,false,false,false,false,false,false,false,false,false,false,false,false,false,false,false,false,false,false,false,false,false,false,false,false,false,false,false,false,false,false,false,false,false,false,false,false,false,false,false,false,false,false,false,false,false,false,false,false,false,false,false,false,false,false,false,false,false,false,false,false,false,false,false,false,false,false,false,false,false,false,false,false,false,false,false,false,false,false,false,false,false,false,false,false,false,false,false,false,false]},{\"title\":\"202002\"}],\"label\":\"202002\",\"method\":\"update\"},{\"args\":[{\"visible\":[false,false,false,false,false,false,false,false,false,false,false,false,false,false,false,false,false,false,false,false,false,false,false,false,false,false,false,false,false,false,false,false,false,false,false,false,false,false,false,false,false,false,false,false,false,false,false,false,false,false,false,false,false,false,false,false,false,false,false,false,false,false,false,false,false,false,false,false,false,false,false,false,false,false,false,false,false,false,false,false,false,false,false,false,false,false,false,false,false,false,false,false,false,false,false,false,false,false,false,false,false,false,false,false,false,false,false,false,false,false,false,false,false,false,false,false,false,false,false,false,false,false,false,false,false,false,false,false,false,false,false,false,false,false,false,false,false,false,false,false,false,false,false,false,false,false,false,false,false,false,false,false,false,false,false,false,false,false,false,false,false,false,false,false,false,false,false,false,false,false,false,false,false,false,false,false,false,false,false,false,false,false,false,false,false,false,false,false,false,false,false,false,false,false,false,false,false,false,false,false,false,false,false,false,false,false,false,false,false,false,false,false,false,false,false,false,false,false,false,false,false,false,false,false,false,false,false,false,false,false,false,false,false,false,false,false,false,false,false,false,false,false,false,false,false,false,false,false,false,false,false,false,false,false,false,false,false,false,false,false,false,false,false,false,true,true,true,true,true,true,true,true,true,true,true,true,true,true,true,true,true,true,true,true,true,true,true,true,true,true,true,true,true,true,true,true,true,true,true,true,true,true,true,true,true,true,true,true,true,true,true,true,true,true,true,true,true,true,true,true,true,true,true,true,true,true,true,true,true,true,true,true,true,true,true,true,true,true,true,false,false,false,false,false,false,false,false,false,false,false,false,false,false,false,false,false,false,false,false,false,false,false,false,false,false,false,false]},{\"title\":\"202003\"}],\"label\":\"202003\",\"method\":\"update\"},{\"args\":[{\"visible\":[false,false,false,false,false,false,false,false,false,false,false,false,false,false,false,false,false,false,false,false,false,false,false,false,false,false,false,false,false,false,false,false,false,false,false,false,false,false,false,false,false,false,false,false,false,false,false,false,false,false,false,false,false,false,false,false,false,false,false,false,false,false,false,false,false,false,false,false,false,false,false,false,false,false,false,false,false,false,false,false,false,false,false,false,false,false,false,false,false,false,false,false,false,false,false,false,false,false,false,false,false,false,false,false,false,false,false,false,false,false,false,false,false,false,false,false,false,false,false,false,false,false,false,false,false,false,false,false,false,false,false,false,false,false,false,false,false,false,false,false,false,false,false,false,false,false,false,false,false,false,false,false,false,false,false,false,false,false,false,false,false,false,false,false,false,false,false,false,false,false,false,false,false,false,false,false,false,false,false,false,false,false,false,false,false,false,false,false,false,false,false,false,false,false,false,false,false,false,false,false,false,false,false,false,false,false,false,false,false,false,false,false,false,false,false,false,false,false,false,false,false,false,false,false,false,false,false,false,false,false,false,false,false,false,false,false,false,false,false,false,false,false,false,false,false,false,false,false,false,false,false,false,false,false,false,false,false,false,false,false,false,false,false,false,false,false,false,false,false,false,false,false,false,false,false,false,false,false,false,false,false,false,false,false,false,false,false,false,false,false,false,false,false,false,false,false,false,false,false,false,false,false,false,false,false,false,false,false,false,false,false,false,false,false,false,false,false,false,false,false,false,false,false,false,false,false,false,false,false,false,false,false,false,false,false,false,false,false,false,true,true,true,true,true,true,true,true,true,true,true,true,true,true,true,true,true,true,true,true,true,true,true,true,true,true,true,true]},{\"title\":\"202004\"}],\"label\":\"202004\",\"method\":\"update\"}]}],\"width\":1000,\"xaxis\":{\"visible\":false},\"yaxis\":{\"visible\":false}},                        {\"responsive\": true}                    ).then(function(){\n",
       "                            \n",
       "var gd = document.getElementById('299097f1-2636-4f9f-95c6-bec5b17db0c8');\n",
       "var x = new MutationObserver(function (mutations, observer) {{\n",
       "        var display = window.getComputedStyle(gd).display;\n",
       "        if (!display || display === 'none') {{\n",
       "            console.log([gd, 'removed!']);\n",
       "            Plotly.purge(gd);\n",
       "            observer.disconnect();\n",
       "        }}\n",
       "}});\n",
       "\n",
       "// Listen for the removal of the full notebook cells\n",
       "var notebookContainer = gd.closest('#notebook-container');\n",
       "if (notebookContainer) {{\n",
       "    x.observe(notebookContainer, {childList: true});\n",
       "}}\n",
       "\n",
       "// Listen for the clearing of the current output cell\n",
       "var outputEl = gd.closest('.output');\n",
       "if (outputEl) {{\n",
       "    x.observe(outputEl, {childList: true});\n",
       "}}\n",
       "\n",
       "                        })                };                });            </script>        </div>"
      ]
     },
     "metadata": {},
     "output_type": "display_data"
    }
   ],
   "source": [
    "print(len(g_all.nodes))\n",
    "print(len(g_all.edges))\n",
    "print(len(labels))\n",
    "plotly_graph_bar(g,L,labels,colormap,mention_y) "
   ]
  },
  {
   "cell_type": "code",
   "execution_count": null,
   "metadata": {},
   "outputs": [],
   "source": []
  }
 ],
 "metadata": {
  "interpreter": {
   "hash": "3b55f20b1d0618b20c2aa65a9063ea807c0869a2d017e9d59b50892a47715681"
  },
  "kernelspec": {
   "display_name": "Python 3 (ipykernel)",
   "language": "python",
   "name": "python3"
  },
  "language_info": {
   "codemirror_mode": {
    "name": "ipython",
    "version": 3
   },
   "file_extension": ".py",
   "mimetype": "text/x-python",
   "name": "python",
   "nbconvert_exporter": "python",
   "pygments_lexer": "ipython3",
   "version": "3.8.8"
  }
 },
 "nbformat": 4,
 "nbformat_minor": 2
}
