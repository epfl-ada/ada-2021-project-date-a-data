{
 "cells": [
  {
   "cell_type": "markdown",
   "metadata": {},
   "source": [
    "# Preprocessing and descriptive statistics"
   ]
  },
  {
   "cell_type": "markdown",
   "metadata": {},
   "source": [
    "In this notebook we did preprocessing of the raw data and did descriptive statistics on the pre-processed data to support our project proposal in MS2.\n",
    "We did the following pipeline for preprocessing and descriptive statistics.\n",
    "\n",
    "1. We filtered the base dataset we will use for this project so that it only contains quotations from US policitians or world-wide politicians.\n",
    "2. We interpreted the dumped data's QIDs into meaningful words.\n",
    "3. \n",
    "did some initial analysis and descriptive statistics of the base dataset we will use for this project"
   ]
  },
  {
   "cell_type": "markdown",
   "metadata": {},
   "source": [
    "# Required package\n",
    "[json](https://docs.python.org/3/library/json.html)\n",
    "[bz2](https://docs.python.org/3/library/bz2.html)\n",
    "[pandas](https://pandas.pydata.org/)\n",
    "[matplotlib](https://matplotlib.org/)\n",
    "[qwikidata](https://qwikidata.readthedocs.io/en/stable/)\n",
    "# Required data\n",
    "[wikidata dump](https://dumps.wikimedia.org/wikidatawiki/entities/)"
   ]
  },
  {
   "cell_type": "code",
   "execution_count": 3,
   "metadata": {},
   "outputs": [],
   "source": [
    "import time\n",
    "import json\n",
    "import bz2\n",
    "import sys\n",
    "from qwikidata.entity import WikidataItem\n",
    "from qwikidata.json_dump import WikidataJsonDump\n",
    "from qwikidata.utils import dump_entities_to_json\n",
    "import os\n",
    "import pandas as pd\n",
    "import matplotlib.pyplot as plt\n",
    "import numpy as np\n",
    "from collections import Counter, OrderedDict\n",
    "import re"
   ]
  },
  {
   "cell_type": "markdown",
   "metadata": {},
   "source": [
    "## 1 Dumping politicians from wikidata\n",
    "This part filtered from the full wikidata dump politician entitities and dumped useful labels into a compressed json file. The script works in the pipeline:\n",
    "\n",
    "1. Load the wikidata dump in stream mode with qwikidata package\n",
    "2. Go through item's dictionary and filtered data of interest\n",
    "3. Dump the data into a compressed json file and print debug information ('corrupted fields in wikidata dumps') The script differs from the provided query_wikidata_dump.py in that\n",
    "4. The dumped data only considers alive people.\n",
    "5. The dumped data only considers politicians.\n",
    "6. The dumped data provides the start/end data of held positions."
   ]
  },
  {
   "cell_type": "code",
   "execution_count": 2,
   "metadata": {},
   "outputs": [],
   "source": [
    "WIKI_DATA_FULL = '../../latest-all.json.bz2' #path to wiki data dump\n",
    "WIKI_DATA_FILTERED = '../../filtered_politician_v2.json.bz2' #path to filtered wiki data dump\n",
    "WIKI_DATA_FILTERED_LABELED = '../../filtered_politician_labeled_v2.json.bz2' #path to filtered wikidata with interpretations\n",
    "WIKI_DATA_FILTERED_MISSINGQ = '../../filtered_politician_missingqids_v2.json.bz2'  #path to missing QIDs in small catalogue gile\n",
    "#politician ID in wikidata\n",
    "Q_POLITICIAN = \"Q82955\" \n",
    "#property IDs in wikidata\n",
    "P_OCCUPATION = \"P106\"\n",
    "P_COUNTRY = \"P27\"\n",
    "P_POSITION_HELD = \"P39\"\n",
    "P_GENDER = \"P21\"\n",
    "P_CITIZENSHIP = \"P27\"\n",
    "P_RELIGION = \"P140\"\n",
    "P_US_CONGRESS_ID = \"P1157\"\n",
    "P_CANDIDACY = \"P3602\"\n",
    "P_PARTY = \"P102\"\n",
    "P_START_TIME = \"P580\"\n",
    "P_END_TIME = \"P582\"\n",
    "P_DEAD = \"P570\""
   ]
  },
  {
   "cell_type": "code",
   "execution_count": 3,
   "metadata": {},
   "outputs": [],
   "source": [
    "def has_occupation_politician(item: WikidataItem, truthy: bool = True) -> bool:\n",
    "    \"\"\"Return True if the Wikidata Item has occupation politician. Adapted from template of qwikidata property query\"\"\"\n",
    "    # Might also be interesting to filter millitary officers (Q189290). (not implemented here)\n",
    "    if truthy:\n",
    "        claim_group = item.get_truthy_claim_group(P_OCCUPATION)\n",
    "    else:\n",
    "        claim_group = item.get_claim_group(P_OCCUPATION)\n",
    "    occupation_qids = [\n",
    "        claim.mainsnak.datavalue.value[\"id\"]\n",
    "        for claim in claim_group\n",
    "        if claim.mainsnak.snaktype == \"value\"\n",
    "    ]\n",
    "    return Q_POLITICIAN in occupation_qids #return if Q_POLITICIAN appears in P_OCCUPATION values"
   ]
  },
  {
   "cell_type": "code",
   "execution_count": null,
   "metadata": {},
   "outputs": [],
   "source": [
    "# create an instance of WikidataJsonDump\n",
    "wjd_dump_path = WIKI_DATA_FULL\n",
    "wjd = WikidataJsonDump(wjd_dump_path)\n",
    "\n",
    "# create an iterable of WikidataItem representing politicians\n",
    "politicians = []\n",
    "t1 = time.time()\n",
    "with bz2.open(WIKI_DATA_FILTERED, 'wb') as d_file:\n",
    "    for ii, entity_dict in enumerate(wjd):\n",
    "        if entity_dict[\"type\"] == \"item\":\n",
    "            entity = WikidataItem(entity_dict)\n",
    "            try:\n",
    "                if has_occupation_politician(entity):\n",
    "                    if (P_DEAD not in entity_dict['claims'].keys() \n",
    "                        and P_CITIZENSHIP in entity_dict['claims'].keys()):\n",
    "                        try:\n",
    "                            temp_position_held = []\n",
    "                            temp_parties = []\n",
    "                            temp_usid = \"\"\n",
    "                            temp_religion = \"\"\n",
    "                            temp_aliases= []\n",
    "                            temp_candiacy = []\n",
    "                            #position held and start/end time(optinal field)\n",
    "                            if (P_POSITION_HELD in entity_dict['claims'].keys()):\n",
    "                                for v in entity_dict[\"claims\"][P_POSITION_HELD]:\n",
    "                                    temp_qualifiers = []\n",
    "                                    if (v[\"mainsnak\"].get(\"datavalue\", {}).get(\"value\", {}).get(\"id\") is not None):\n",
    "                                        temp_qualifiers.append(v['mainsnak']['datavalue']['value']['id'])#position held\n",
    "                                        try:\n",
    "                                            temp_qualifiers.append(v['qualifiers'][P_START_TIME][0]['datavalue']['value']['time'])#start time\n",
    "                                        except:\n",
    "                                            temp_qualifiers.append(\"\")\n",
    "                                        try:\n",
    "                                            temp_qualifiers.append(v['qualifiers'][P_END_TIME][0]['datavalue']['value']['time'])#start time\n",
    "                                        except:\n",
    "                                            temp_qualifiers.append(\"\")\n",
    "                                    temp_position_held.append(temp_qualifiers)\n",
    "                            #Party members (optinal field)\n",
    "                            if (P_PARTY in entity_dict['claims'].keys()):\n",
    "                                for v in entity_dict[\"claims\"][P_PARTY]:\n",
    "                                    if (v[\"mainsnak\"].get(\"datavalue\", {}).get(\"value\", {}).get(\"id\") is not None):\n",
    "                                        temp_parties.append(v['mainsnak']['datavalue']['value']['id']) #parties held **NOTE: there could be people switching parties but wiki doesn't give any temporal information\n",
    "                            #Candidacy in election (optinal field)\n",
    "                            if (P_CANDIDACY in entity_dict['claims'].keys()):\n",
    "                                for v in entity_dict[\"claims\"][P_CANDIDACY]:\n",
    "                                    if (v[\"mainsnak\"].get(\"datavalue\", {}).get(\"value\", {}).get(\"id\") is not None):\n",
    "                                        temp_candiacy.append(v['mainsnak']['datavalue']['value']['id']) \n",
    "                            # US Congress Bio ID (optinal field)\n",
    "                            if (P_US_CONGRESS_ID in entity_dict['claims'].keys()):#there are some corrupted data on wikidata with this field but no data\n",
    "                                if ('datavalue' in entity_dict['claims'][P_US_CONGRESS_ID][0]['mainsnak']):\n",
    "                                    temp_usid = entity_dict[\"claims\"][P_US_CONGRESS_ID][0]['mainsnak']['datavalue']['value']\n",
    "                            # Religion (optinal field)\n",
    "                            if (P_RELIGION in entity_dict['claims'].keys()):\n",
    "                                temp_religion = entity_dict[\"claims\"][P_RELIGION][0]['mainsnak']['datavalue']['value']['id']\n",
    "                            #aliases (optional field)\n",
    "                            \n",
    "                            if (\"aliases\" in entity_dict.keys()):\n",
    "                                if len(entity_dict.get(\"aliases\", {}).get(\"en\", [])) > 0:\n",
    "                                    for v in entity_dict[\"aliases\"][\"en\"]:\n",
    "                                        temp_aliases.append(v[\"value\"])\n",
    "                            #qid, name, gender, nationality are compulsory fields\n",
    "                            politicians.append(dict(zip(['qid',\n",
    "                                                         'name',\n",
    "                                                         'gender',\n",
    "                                                         'nationality',\n",
    "                                                         'aliases',\n",
    "                                                         'parties',\n",
    "                                                         'positions held',\n",
    "                                                         'religion',\n",
    "                                                         'us_congress_id',\n",
    "                                                         'candidacy_election'],\n",
    "                                                        [entity_dict['id'],#Qid\n",
    "                                                         entity_dict['labels']['en']['value'], #name\n",
    "                                                         entity_dict['claims'][P_GENDER][-1]['mainsnak']['datavalue']['value']['id'], #latest gender\n",
    "                                                         entity_dict['claims'][P_CITIZENSHIP][-1]['mainsnak']['datavalue']['value']['id'], #latest country of citizenship\n",
    "                                                         temp_aliases,\n",
    "                                                         temp_parties,\n",
    "                                                         temp_position_held,\n",
    "                                                         temp_religion,\n",
    "                                                         temp_usid,\n",
    "                                                         temp_candiacy\n",
    "                                                        ])))# dump entity qid, name and nationality only\n",
    "                        except KeyError as e: #missing important keys (name, qid, country, gender)\n",
    "                            print(e,entity_dict['id'])\n",
    "            except Exception:\n",
    "                print (Exception)\n",
    "        if ii % 20000 == 0:\n",
    "            t2 = time.time()\n",
    "            dt = t2 - t1\n",
    "            print(\n",
    "                \"Dumped {} politicians among {} entities [entities/s: {:.2f}]\".format(\n",
    "                    len(politicians), ii, ii / dt\n",
    "                )\n",
    "            )\n",
    "            d_file.write(('\\n'.join(map(json.dumps, politicians))+'\\n').encode('utf-8'))\n",
    "            politicians = []"
   ]
  },
  {
   "cell_type": "markdown",
   "metadata": {},
   "source": [
    "The [filtering](https://github.com/epfl-ada/ada-2021-project-date-a-data/blob/main/Milestone2/filter_quotations.ipynb) will take 10 hrs to re-run so we leave it in the notebook where it was executed."
   ]
  },
  {
   "cell_type": "code",
   "execution_count": 4,
   "metadata": {},
   "outputs": [
    {
     "name": "stdout",
     "output_type": "stream",
     "text": [
      "Filtered 269337 politician records in total\n"
     ]
    }
   ],
   "source": [
    "df = pd.read_json(WIKI_DATA_FILTERED, lines=True, compression='bz2')\n",
    "print(f'Filtered {len(df)} politician records in total')"
   ]
  },
  {
   "cell_type": "markdown",
   "metadata": {},
   "source": [
    "## 2 QIDs Interpretation"
   ]
  },
  {
   "cell_type": "markdown",
   "metadata": {},
   "source": [
    "This part interpreted the qids in the filtered politician entity dump from the small quotebank qid catalogue.\n",
    "The script works in the pipeline:\n",
    "1. Load the filtered wikidata json dump in chunks\n",
    "2. Go through record's columns and interpret the QIDs from the label field in the catalogue.\n",
    "3. The interpretation is done in 3 ways\n",
    "    <br>single qid interpretation (gender)<br>\n",
    "    list qid interpretation (candidacy_election, parties)<br>\n",
    "    list in list qid interpretation (position_held)\n",
    "4. Dump the interpretated entities into a new json file\n",
    "5. Dump the unrecognized QIDs into a log file"
   ]
  },
  {
   "cell_type": "code",
   "execution_count": 5,
   "metadata": {},
   "outputs": [],
   "source": [
    "#specification of dataset reading parameters and folders path \n",
    "QUOTEBANK_POLITICIANS_USA=  'quotebank_politicians_USA.json.bz2' # US politician quotes\n",
    "WIKI_DATA_FILTERED_LABELED = '../../filtered_politician_labeled_v2.json.bz2' # filtered wikidata with interpretations\n",
    "POLITICIANS_MENTIONS_USA= 'politicians_mentions_USA.json.bz2'#\n",
    "QUOTEBANK_POLITICIANS_USA_MAPPED = 'quotebank_politicians_USA_mapped.json.bz2'"
   ]
  },
  {
   "cell_type": "code",
   "execution_count": 6,
   "metadata": {},
   "outputs": [],
   "source": [
    "Q_catalogue = pd.read_csv('../../wikidata_labels_descriptions_quotebank.csv.bz2', compression='bz2', index_col='QID')\n",
    "# this is not enough for all interpretation; need full!!"
   ]
  },
  {
   "cell_type": "markdown",
   "metadata": {},
   "source": [
    "Here we defined three interpret functions for df.apply to extract qids for\n",
    "1. single qid interpretation (gender)\n",
    "2. list qid interpretation (candidacy_election, parties)\n",
    "3. list in list qid interpretation (position_held)"
   ]
  },
  {
   "cell_type": "code",
   "execution_count": 9,
   "metadata": {
    "scrolled": true
   },
   "outputs": [],
   "source": [
    "def single_interpret(x):\n",
    "    \"\"\"\n",
    "    Function for single value interpretation. e.g. qid Record undocumented QIDs if not already recorded.\n",
    "    \"\"\"\n",
    "    try:\n",
    "        return Q_catalogue.loc[x]['Label']\n",
    "    except KeyError as e:\n",
    "        if (x not in Unrecorded_Q):\n",
    "            Unrecorded_Q.append(x)\n",
    "        return x\n",
    "def list_interpret(x):\n",
    "    \"\"\"\n",
    "    Function for list interpretation. e.g. [qid1,qid2] Record undocumented QIDs if not already recorded.\n",
    "    \"\"\"\n",
    "    tmp = []\n",
    "    for i in x:\n",
    "        try:\n",
    "            tmp.append(Q_catalogue.loc[i]['Label'])\n",
    "        except KeyError as e:\n",
    "            tmp.append(i)\n",
    "            if (i not in Unrecorded_Q):\n",
    "                Unrecorded_Q.append(i)\n",
    "    return tmp\n",
    "def listlist_interpret(x):\n",
    "    \"\"\"\n",
    "    Function for list interpretation. e.g. [[qid1,time1-1,time1-2],[qid2,time2-1,time2-2] Record undocumented QIDs if not already recorded.\n",
    "    \"\"\"\n",
    "    tmp = []\n",
    "    for i in x:\n",
    "        tmp1 = []\n",
    "        try:\n",
    "            tmp1.append(Q_catalogue.loc[i[0]]['Label'])\n",
    "        except KeyError as e:\n",
    "            tmp.append(i[0])\n",
    "            if (i[0] not in Unrecorded_Q):\n",
    "                Unrecorded_Q.append(i[0])\n",
    "        tmp1.append(i[1:2])\n",
    "        tmp.append(tmp1)\n",
    "    return tmp\n"
   ]
  },
  {
   "cell_type": "code",
   "execution_count": 12,
   "metadata": {},
   "outputs": [
    {
     "name": "stdout",
     "output_type": "stream",
     "text": [
      "Interpreted 10000 records and found 3418 undocumented qids [records/s: 6184.60]\n",
      "Interpreted 10000 records and found 5127 undocumented qids [records/s: 6918.81]\n",
      "Interpreted 10000 records and found 15559 undocumented qids [records/s: 2556.90]\n",
      "Interpreted 10000 records and found 29334 undocumented qids [records/s: 704.49]\n",
      "Interpreted 10000 records and found 30301 undocumented qids [records/s: 5676.16]\n",
      "Interpreted 10000 records and found 41719 undocumented qids [records/s: 462.67]\n",
      "Interpreted 10000 records and found 50504 undocumented qids [records/s: 940.55]\n",
      "Interpreted 10000 records and found 51566 undocumented qids [records/s: 3957.33]\n",
      "Interpreted 10000 records and found 56791 undocumented qids [records/s: 538.32]\n",
      "Interpreted 10000 records and found 66978 undocumented qids [records/s: 601.98]\n",
      "Interpreted 10000 records and found 74167 undocumented qids [records/s: 249.36]\n",
      "Interpreted 10000 records and found 75039 undocumented qids [records/s: 2581.66]\n",
      "Interpreted 10000 records and found 82208 undocumented qids [records/s: 528.98]\n",
      "Interpreted 10000 records and found 85398 undocumented qids [records/s: 1121.79]\n",
      "Interpreted 10000 records and found 85894 undocumented qids [records/s: 3925.20]\n",
      "Interpreted 10000 records and found 87456 undocumented qids [records/s: 1369.08]\n",
      "Interpreted 10000 records and found 95383 undocumented qids [records/s: 314.04]\n",
      "Interpreted 10000 records and found 96027 undocumented qids [records/s: 2466.66]\n",
      "Interpreted 10000 records and found 100707 undocumented qids [records/s: 238.60]\n",
      "Interpreted 10000 records and found 107976 undocumented qids [records/s: 239.39]\n",
      "Interpreted 10000 records and found 109044 undocumented qids [records/s: 1291.38]\n",
      "Interpreted 10000 records and found 109425 undocumented qids [records/s: 2985.72]\n",
      "Interpreted 10000 records and found 113619 undocumented qids [records/s: 305.52]\n",
      "Interpreted 10000 records and found 116928 undocumented qids [records/s: 353.83]\n",
      "Interpreted 10000 records and found 117380 undocumented qids [records/s: 2201.61]\n",
      "Interpreted 10000 records and found 118590 undocumented qids [records/s: 726.25]\n",
      "Interpreted 10000 records and found 123801 undocumented qids [records/s: 186.15]\n"
     ]
    }
   ],
   "source": [
    "CHUNKSIZE = 10000\n",
    "Unrecorded_Q = []\n",
    "with bz2.open(WIKI_DATA_FILTERED_LABELED, 'wb') as out_path_labeled:\n",
    "    with bz2.open(WIKI_DATA_FILTERED_MISSINGQ, 'wb') as out_path_missingq:\n",
    "        with pd.read_json(WIKI_DATA_FILTERED, lines=True, compression='bz2', chunksize=CHUNKSIZE) as df_reader:\n",
    "            for chunk in df_reader:\n",
    "                t1=time.time()\n",
    "                chunk['gender'] = chunk['gender'].apply(single_interpret)\n",
    "                chunk['parties'] = chunk['parties'].apply(list_interpret)\n",
    "                chunk['candidacy_election'] = chunk['candidacy_election'].apply(list_interpret)\n",
    "                #chunk['religion'] = chunk['religion'].apply(list_interpret)\n",
    "                #religion property in wikipedia is messed up with instances like churches, shrines etc. better filter this another way\n",
    "                try:\n",
    "                    chunk['positions held'] = chunk['positions held'].apply(listlist_interpret)\n",
    "                except:\n",
    "                    chunk['positions held'] = chunk['positions held'].apply(list_interpret)\n",
    "                chunk.to_json(path_or_buf=out_path_labeled,orient='records',lines=True)\n",
    "                t2=time.time()\n",
    "                dt=t2-t1\n",
    "                print(\"Interpreted {} records and found {} undocumented qids [records/s: {:.2f}]\".format(CHUNKSIZE,len(Unrecorded_Q), CHUNKSIZE / dt))\n",
    "            pd.DataFrame(Unrecorded_Q).to_json(path_or_buf=out_path_missingq,orient='records',lines=True)"
   ]
  },
  {
   "cell_type": "code",
   "execution_count": 13,
   "metadata": {},
   "outputs": [
    {
     "name": "stdout",
     "output_type": "stream",
     "text": [
      "Found 123801 undocumented qids in total, which need to be queryed with full wikidata label catalogue. #NOTE: Religion field is not interpreted here.\n"
     ]
    }
   ],
   "source": [
    "print(f'Found {len(Unrecorded_Q)} undocumented qids in total, which need to be queryed with full wikidata label catalogue. #NOTE: Religion field is not interpreted here.')"
   ]
  },
  {
   "cell_type": "markdown",
   "metadata": {},
   "source": [
    "## 3 Quote Parsing"
   ]
  },
  {
   "cell_type": "markdown",
   "metadata": {},
   "source": [
    "This part parsed the quotes in filtered US political quotations and found out all mentions that include other US politician(s).\n",
    "The original quote dataframe will be extended by a column in which the mentioned politician's QID(s) is/are saved in a list.\n",
    "The script works in the pipeline:\n",
    "1. Load the filtered and interpreted political quotations wikidata json dump in chunks.\n",
    "2. Load the filtered US politicians dump.\n",
    "3. Concatenate the names and aliases of the filtered US politicians dump and flatten the names. Index the names with index of politician it belongs to.\n",
    "4. Create a match pattern with all US politicians.\n",
    "5. Use match pattern to search all the quotations and filter out quotations containing aliases of politicians.\n",
    "6. In the filtered quotations in 5., query the index of politician names in the flattened name lists in 2., look up the QID of the mentioned politician in 2.\n",
    "7. Extend the dataframe by one column containing the mentions_qid data and dump them to a mapped USA quotation file."
   ]
  },
  {
   "cell_type": "code",
   "execution_count": 16,
   "metadata": {},
   "outputs": [],
   "source": [
    "#specification of dataset reading parameters and folders path \n",
    "QUOTEBANK_POLITICIANS_USA=  'quotebank_politicians_USA.json.bz2' # US politician quotes\n",
    "WIKI_DATA_FILTERED_LABELED = '../../filtered_politician_labeled_v2.json.bz2' # filtered wikidata with interpretations\n",
    "POLITICIANS_MENTIONS_USA= 'politicians_mentions_USA.json.bz2'#\n",
    "QUOTEBANK_POLITICIANS_USA_MAPPED = 'quotebank_politicians_USA_mapped.json.bz2'\n",
    "#qids_df=pd.read_json(WIKI_DATA_FILTERED_LABELED, lines=True)\n",
    "Q_catalogue = pd.read_csv('../../wikidata_labels_descriptions_quotebank.csv.bz2', compression='bz2', index_col='QID')\n",
    "# this is not enough; need full!!"
   ]
  },
  {
   "cell_type": "code",
   "execution_count": 17,
   "metadata": {},
   "outputs": [
    {
     "name": "stderr",
     "output_type": "stream",
     "text": [
      "C:\\Users\\ADMINI~1\\AppData\\Local\\Temp/ipykernel_32136/2342345903.py:4: SettingWithCopyWarning: \n",
      "A value is trying to be set on a copy of a slice from a DataFrame.\n",
      "Try using .loc[row_indexer,col_indexer] = value instead\n",
      "\n",
      "See the caveats in the documentation: https://pandas.pydata.org/pandas-docs/stable/user_guide/indexing.html#returning-a-view-versus-a-copy\n",
      "  names_us['aliases_all'] = [a+[b] for a,b in zip(names_us['aliases'],names_us['name'])]\n"
     ]
    }
   ],
   "source": [
    "#extract US politicians\n",
    "politician_df=pd.read_json(WIKI_DATA_FILTERED_LABELED, lines=True)\n",
    "politician_us_df = politician_df[politician_df['nationality']=='Q30'] \n",
    "\n",
    "#extract qid, name, aliases\n",
    "names_us=politician_us_df[['qid','name','aliases']] \n",
    "names_us['aliases_all'] = [a+[b] for a,b in zip(names_us['aliases'],names_us['name'])]\n",
    "\n",
    "#concatenate and flattened aliases for pattern extraction\n",
    "names_us_list = names_us['aliases_all'].tolist()\n",
    "names_us_reset = names_us.reset_index(drop=True)\n",
    "aliases_list = [item for sublist in names_us_list for item in sublist] \n",
    "\n",
    "#but save original index before flatenning\n",
    "aliases_index = [names_us_list.index(sublist) for sublist in names_us_list for item in sublist] \n",
    "pattern = '|'.join(aliases_list)"
   ]
  },
  {
   "cell_type": "code",
   "execution_count": 19,
   "metadata": {},
   "outputs": [
    {
     "name": "stdout",
     "output_type": "stream",
     "text": [
      "Dumped 715 US political quotations containing mentioning of other US politicians out of 10000 quotations [quotations/s: 240.07]\n",
      "Dumped 671 US political quotations containing mentioning of other US politicians out of 10000 quotations [quotations/s: 244.42]\n",
      "Dumped 697 US political quotations containing mentioning of other US politicians out of 10000 quotations [quotations/s: 234.33]\n",
      "Dumped 689 US political quotations containing mentioning of other US politicians out of 10000 quotations [quotations/s: 233.30]\n",
      "Dumped 687 US political quotations containing mentioning of other US politicians out of 10000 quotations [quotations/s: 247.28]\n",
      "Dumped 676 US political quotations containing mentioning of other US politicians out of 10000 quotations [quotations/s: 244.00]\n",
      "Dumped 693 US political quotations containing mentioning of other US politicians out of 10000 quotations [quotations/s: 236.59]\n",
      "Dumped 675 US political quotations containing mentioning of other US politicians out of 10000 quotations [quotations/s: 247.94]\n",
      "Dumped 678 US political quotations containing mentioning of other US politicians out of 10000 quotations [quotations/s: 245.27]\n",
      "Dumped 654 US political quotations containing mentioning of other US politicians out of 10000 quotations [quotations/s: 246.39]\n",
      "Dumped 707 US political quotations containing mentioning of other US politicians out of 10000 quotations [quotations/s: 248.63]\n",
      "Dumped 667 US political quotations containing mentioning of other US politicians out of 10000 quotations [quotations/s: 238.12]\n",
      "Dumped 662 US political quotations containing mentioning of other US politicians out of 10000 quotations [quotations/s: 240.97]\n",
      "Dumped 653 US political quotations containing mentioning of other US politicians out of 10000 quotations [quotations/s: 238.83]\n",
      "Dumped 665 US political quotations containing mentioning of other US politicians out of 10000 quotations [quotations/s: 247.78]\n",
      "Dumped 657 US political quotations containing mentioning of other US politicians out of 10000 quotations [quotations/s: 235.60]\n",
      "Dumped 710 US political quotations containing mentioning of other US politicians out of 10000 quotations [quotations/s: 238.80]\n",
      "Dumped 670 US political quotations containing mentioning of other US politicians out of 10000 quotations [quotations/s: 245.58]\n",
      "Dumped 656 US political quotations containing mentioning of other US politicians out of 10000 quotations [quotations/s: 238.29]\n",
      "Dumped 673 US political quotations containing mentioning of other US politicians out of 10000 quotations [quotations/s: 240.56]\n",
      "Dumped 689 US political quotations containing mentioning of other US politicians out of 10000 quotations [quotations/s: 239.12]\n",
      "Dumped 690 US political quotations containing mentioning of other US politicians out of 10000 quotations [quotations/s: 250.69]\n",
      "Dumped 688 US political quotations containing mentioning of other US politicians out of 10000 quotations [quotations/s: 248.45]\n",
      "Dumped 672 US political quotations containing mentioning of other US politicians out of 10000 quotations [quotations/s: 244.21]\n",
      "Dumped 633 US political quotations containing mentioning of other US politicians out of 10000 quotations [quotations/s: 244.58]\n",
      "Dumped 687 US political quotations containing mentioning of other US politicians out of 10000 quotations [quotations/s: 245.18]\n",
      "Dumped 707 US political quotations containing mentioning of other US politicians out of 10000 quotations [quotations/s: 246.45]\n",
      "Dumped 653 US political quotations containing mentioning of other US politicians out of 10000 quotations [quotations/s: 248.25]\n",
      "Dumped 690 US political quotations containing mentioning of other US politicians out of 10000 quotations [quotations/s: 241.69]\n",
      "Dumped 675 US political quotations containing mentioning of other US politicians out of 10000 quotations [quotations/s: 247.84]\n",
      "Dumped 690 US political quotations containing mentioning of other US politicians out of 10000 quotations [quotations/s: 249.64]\n",
      "Dumped 654 US political quotations containing mentioning of other US politicians out of 10000 quotations [quotations/s: 248.00]\n",
      "Dumped 698 US political quotations containing mentioning of other US politicians out of 10000 quotations [quotations/s: 238.89]\n",
      "Dumped 660 US political quotations containing mentioning of other US politicians out of 10000 quotations [quotations/s: 250.75]\n",
      "Dumped 626 US political quotations containing mentioning of other US politicians out of 10000 quotations [quotations/s: 246.29]\n",
      "Dumped 682 US political quotations containing mentioning of other US politicians out of 10000 quotations [quotations/s: 244.06]\n",
      "Dumped 659 US political quotations containing mentioning of other US politicians out of 10000 quotations [quotations/s: 245.82]\n",
      "Dumped 680 US political quotations containing mentioning of other US politicians out of 10000 quotations [quotations/s: 249.87]\n",
      "Dumped 681 US political quotations containing mentioning of other US politicians out of 10000 quotations [quotations/s: 244.67]\n",
      "Dumped 635 US political quotations containing mentioning of other US politicians out of 10000 quotations [quotations/s: 244.21]\n",
      "Dumped 152 US political quotations containing mentioning of other US politicians out of 10000 quotations [quotations/s: 1259.87]\n"
     ]
    }
   ],
   "source": [
    "#extraction of political name's mention from the quotes\n",
    "CHUNKSIZE=10000\n",
    "try:\n",
    "    os.remove(POLITICIANS_MENTIONS_USA)\n",
    "except:\n",
    "    pass\n",
    "total_time,total_mentions,chunk_number,nb_quote=0,0,0,0\n",
    "mentions=[]\n",
    "with bz2.open(POLITICIANS_MENTIONS_USA, 'wb') as bzout_mention_usa:\n",
    "    with pd.read_json(QUOTEBANK_POLITICIANS_USA, lines=True, chunksize=CHUNKSIZE, compression='bz2' ) as df_reader:\n",
    "        for chunk in df_reader:\n",
    "            t1=time.time()\n",
    "            quotations_with_mentions = chunk[chunk.quotation.str.contains(pattern)]\n",
    "            quotations_with_mentions.to_json(path_or_buf=bzout_mention_usa,orient='records',lines=True)\n",
    "            mentions = len(quotations_with_mentions)\n",
    "            total_mentions += mentions\n",
    "            t2=time.time()\n",
    "            dt=t2-t1\n",
    "            total_time+=dt\n",
    "            chunk_number += 1\n",
    "            print(\"Dumped {} US political quotations containing mentioning of other US politicians out of {} quotations [quotations/s: {:.2f}]\".format(mentions, CHUNKSIZE, CHUNKSIZE / dt))"
   ]
  },
  {
   "cell_type": "code",
   "execution_count": 20,
   "metadata": {},
   "outputs": [
    {
     "name": "stdout",
     "output_type": "stream",
     "text": [
      "Found 27156 US political quotations containing mentioning of other US politicians in 1649.3 s.\n"
     ]
    }
   ],
   "source": [
    "print(f'Found {total_mentions} US political quotations containing mentioning of other US politicians in {total_time:0.1f} s.')"
   ]
  },
  {
   "cell_type": "markdown",
   "metadata": {},
   "source": [
    "We defined 2 functions for df.apply to append mentioned politician's qid to lists"
   ]
  },
  {
   "cell_type": "code",
   "execution_count": 21,
   "metadata": {},
   "outputs": [],
   "source": [
    "def qid_list_interpret(x):\n",
    "    \"\"\"\n",
    "    Function for qid_list interpretation. e.g. [qid1,qid2] \n",
    "    \"\"\"\n",
    "    tmp = []\n",
    "    for i in x:\n",
    "        new_qid = names_us_reset['qid'][aliases_index[i]]\n",
    "        if new_qid not in tmp:\n",
    "            tmp.append(new_qid)\n",
    "    return tmp\n",
    "def qid_interpret(x):\n",
    "    \"\"\"\n",
    "    Function for qid interpretation. Need whole qid catalogue to work!!\n",
    "    \"\"\"\n",
    "    tmp = []\n",
    "    for i in x:\n",
    "        try:\n",
    "            tmp.append(Q_catalogue.loc[i]['Label'])\n",
    "        except KeyError as e:\n",
    "            tmp.append(i)\n",
    "    return tmp"
   ]
  },
  {
   "cell_type": "code",
   "execution_count": 22,
   "metadata": {},
   "outputs": [
    {
     "name": "stdout",
     "output_type": "stream",
     "text": [
      "Mapped 1000 US political mentionings to the mentioned politicians.  [quotations/s: 4.77]\n",
      "Mapped 2000 US political mentionings to the mentioned politicians.  [quotations/s: 4.85]\n",
      "Mapped 3000 US political mentionings to the mentioned politicians.  [quotations/s: 4.82]\n",
      "Mapped 4000 US political mentionings to the mentioned politicians.  [quotations/s: 4.93]\n",
      "Mapped 5000 US political mentionings to the mentioned politicians.  [quotations/s: 5.02]\n",
      "Mapped 6000 US political mentionings to the mentioned politicians.  [quotations/s: 4.84]\n",
      "Mapped 7000 US political mentionings to the mentioned politicians.  [quotations/s: 4.92]\n",
      "Mapped 8000 US political mentionings to the mentioned politicians.  [quotations/s: 4.95]\n",
      "Mapped 9000 US political mentionings to the mentioned politicians.  [quotations/s: 5.00]\n",
      "Mapped 10000 US political mentionings to the mentioned politicians.  [quotations/s: 4.95]\n",
      "Mapped 11000 US political mentionings to the mentioned politicians.  [quotations/s: 5.06]\n",
      "Mapped 12000 US political mentionings to the mentioned politicians.  [quotations/s: 4.95]\n",
      "Mapped 13000 US political mentionings to the mentioned politicians.  [quotations/s: 4.92]\n",
      "Mapped 14000 US political mentionings to the mentioned politicians.  [quotations/s: 4.93]\n",
      "Mapped 15000 US political mentionings to the mentioned politicians.  [quotations/s: 5.04]\n",
      "Mapped 16000 US political mentionings to the mentioned politicians.  [quotations/s: 4.93]\n",
      "Mapped 17000 US political mentionings to the mentioned politicians.  [quotations/s: 4.99]\n",
      "Mapped 18000 US political mentionings to the mentioned politicians.  [quotations/s: 4.95]\n",
      "Mapped 19000 US political mentionings to the mentioned politicians.  [quotations/s: 4.97]\n",
      "Mapped 20000 US political mentionings to the mentioned politicians.  [quotations/s: 4.94]\n",
      "Mapped 21000 US political mentionings to the mentioned politicians.  [quotations/s: 4.85]\n",
      "Mapped 22000 US political mentionings to the mentioned politicians.  [quotations/s: 5.13]\n",
      "Mapped 23000 US political mentionings to the mentioned politicians.  [quotations/s: 5.02]\n",
      "Mapped 24000 US political mentionings to the mentioned politicians.  [quotations/s: 4.92]\n",
      "Mapped 25000 US political mentionings to the mentioned politicians.  [quotations/s: 5.02]\n",
      "Mapped 26000 US political mentionings to the mentioned politicians.  [quotations/s: 4.98]\n",
      "Mapped 27000 US political mentionings to the mentioned politicians.  [quotations/s: 4.98]\n",
      "Mapped 28000 US political mentionings to the mentioned politicians.  [quotations/s: 19.48]\n"
     ]
    }
   ],
   "source": [
    "#mapping the speaker to the mentioned politicians\n",
    "try:\n",
    "    os.remove(QUOTEBANK_POLITICIANS_USA_MAPPED)\n",
    "except:\n",
    "    pass\n",
    "CHUNKSIZE = 1000\n",
    "total_time,chunk_number=0,0\n",
    "with bz2.open(QUOTEBANK_POLITICIANS_USA_MAPPED, 'wb') as bzout_mention_usa:\n",
    "    with pd.read_json(POLITICIANS_MENTIONS_USA, lines=True, compression='bz2', chunksize = CHUNKSIZE) as df_reader:\n",
    "        for chunk in df_reader:\n",
    "            t1=time.time()\n",
    "            data_output = chunk\n",
    "            data_output['mentions'] = np.empty((len(data_output), 0)).tolist()\n",
    "            data_output['mentions_qids'] = np.empty((len(data_output), 0)).tolist()\n",
    "            for i, e in enumerate(aliases_list):\n",
    "                data_output.loc[data_output['quotation'].str.contains(e)]['mentions'].apply(lambda x: x.append(i))\n",
    "                data_output['mentions_qids'] = data_output['mentions'].apply(qid_list_interpret)\n",
    "            data_output.to_json(path_or_buf=bzout_mention_usa,orient='records',lines=True)\n",
    "            t2=time.time()\n",
    "            dt=t2-t1\n",
    "            total_time+=dt\n",
    "            chunk_number += 1\n",
    "            print(\"Mapped {} US political mentionings to the mentioned politicians.  [quotations/s: {:.2f}]\".format(chunk_number*CHUNKSIZE, CHUNKSIZE / dt))"
   ]
  },
  {
   "cell_type": "markdown",
   "metadata": {},
   "source": [
    "And here we visualize the result. The parsed mentioned politician's qid is included in column \"mentions_qids\""
   ]
  },
  {
   "cell_type": "code",
   "execution_count": 15,
   "metadata": {
    "scrolled": true
   },
   "outputs": [
    {
     "data": {
      "text/html": [
       "<div>\n",
       "<style scoped>\n",
       "    .dataframe tbody tr th:only-of-type {\n",
       "        vertical-align: middle;\n",
       "    }\n",
       "\n",
       "    .dataframe tbody tr th {\n",
       "        vertical-align: top;\n",
       "    }\n",
       "\n",
       "    .dataframe thead th {\n",
       "        text-align: right;\n",
       "    }\n",
       "</style>\n",
       "<table border=\"1\" class=\"dataframe\">\n",
       "  <thead>\n",
       "    <tr style=\"text-align: right;\">\n",
       "      <th></th>\n",
       "      <th>quoteID</th>\n",
       "      <th>quotation</th>\n",
       "      <th>speaker</th>\n",
       "      <th>qids</th>\n",
       "      <th>date</th>\n",
       "      <th>numOccurrences</th>\n",
       "      <th>probas</th>\n",
       "      <th>urls</th>\n",
       "      <th>phase</th>\n",
       "      <th>mentions</th>\n",
       "      <th>mentions_qids</th>\n",
       "    </tr>\n",
       "  </thead>\n",
       "  <tbody>\n",
       "    <tr>\n",
       "      <th>0</th>\n",
       "      <td>2020-02-07-012379</td>\n",
       "      <td>but [ President ] Trump (was) eager to make a ...</td>\n",
       "      <td>President Donald Trump</td>\n",
       "      <td>[Q22686]</td>\n",
       "      <td>2020-02-07 23:05:05</td>\n",
       "      <td>1</td>\n",
       "      <td>[[President Donald Trump, 0.5698], [None, 0.43...</td>\n",
       "      <td>[http://uspolitics.einnews.com/article/5092030...</td>\n",
       "      <td>E</td>\n",
       "      <td>[11746]</td>\n",
       "      <td>[Q22686]</td>\n",
       "    </tr>\n",
       "    <tr>\n",
       "      <th>1</th>\n",
       "      <td>2020-01-29-019304</td>\n",
       "      <td>Even if it's all true, exactly in the worst-ca...</td>\n",
       "      <td>Kevin Cramer</td>\n",
       "      <td>[Q3957020]</td>\n",
       "      <td>2020-01-29 01:01:16</td>\n",
       "      <td>1</td>\n",
       "      <td>[[Kevin Cramer, 0.8789], [None, 0.1072], [John...</td>\n",
       "      <td>[https://www.washingtonexaminer.com/opinion/go...</td>\n",
       "      <td>E</td>\n",
       "      <td>[23467, 23473, 41263]</td>\n",
       "      <td>[Q6279, Q311269]</td>\n",
       "    </tr>\n",
       "    <tr>\n",
       "      <th>2</th>\n",
       "      <td>2020-01-02-019876</td>\n",
       "      <td>I enjoy your analysis and instruction on polli...</td>\n",
       "      <td>Steve Bartlett</td>\n",
       "      <td>[Q185480]</td>\n",
       "      <td>2020-01-02 00:00:00</td>\n",
       "      <td>1</td>\n",
       "      <td>[[Steve Bartlett, 0.9232], [None, 0.0754], [Pr...</td>\n",
       "      <td>[http://feeds.foxnews.com/~r/foxnews/politics/...</td>\n",
       "      <td>E</td>\n",
       "      <td>[11746, 11751]</td>\n",
       "      <td>[Q22686]</td>\n",
       "    </tr>\n",
       "    <tr>\n",
       "      <th>3</th>\n",
       "      <td>2020-01-27-036296</td>\n",
       "      <td>If your last name was not Biden, do you think ...</td>\n",
       "      <td>Joe Biden</td>\n",
       "      <td>[Q6279]</td>\n",
       "      <td>2020-01-27 14:33:49</td>\n",
       "      <td>14</td>\n",
       "      <td>[[Joe Biden, 0.6878], [None, 0.133], [Pam Bond...</td>\n",
       "      <td>[https://www.nytimes.com/live/2020/impeachment...</td>\n",
       "      <td>E</td>\n",
       "      <td>[23467]</td>\n",
       "      <td>[Q6279]</td>\n",
       "    </tr>\n",
       "    <tr>\n",
       "      <th>4</th>\n",
       "      <td>2020-04-09-027891</td>\n",
       "      <td>In short, the Clinton administration's policy ...</td>\n",
       "      <td>President Bill Clinton</td>\n",
       "      <td>[Q1124]</td>\n",
       "      <td>2020-04-09 17:54:15</td>\n",
       "      <td>1</td>\n",
       "      <td>[[President Bill Clinton, 0.7325], [None, 0.24...</td>\n",
       "      <td>[https://www.globalresearch.ca/911-truth-under...</td>\n",
       "      <td>E</td>\n",
       "      <td>[23453]</td>\n",
       "      <td>[Q1124]</td>\n",
       "    </tr>\n",
       "  </tbody>\n",
       "</table>\n",
       "</div>"
      ],
      "text/plain": [
       "             quoteID                                          quotation  \\\n",
       "0  2020-02-07-012379  but [ President ] Trump (was) eager to make a ...   \n",
       "1  2020-01-29-019304  Even if it's all true, exactly in the worst-ca...   \n",
       "2  2020-01-02-019876  I enjoy your analysis and instruction on polli...   \n",
       "3  2020-01-27-036296  If your last name was not Biden, do you think ...   \n",
       "4  2020-04-09-027891  In short, the Clinton administration's policy ...   \n",
       "\n",
       "                  speaker        qids                date  numOccurrences  \\\n",
       "0  President Donald Trump    [Q22686] 2020-02-07 23:05:05               1   \n",
       "1            Kevin Cramer  [Q3957020] 2020-01-29 01:01:16               1   \n",
       "2          Steve Bartlett   [Q185480] 2020-01-02 00:00:00               1   \n",
       "3               Joe Biden     [Q6279] 2020-01-27 14:33:49              14   \n",
       "4  President Bill Clinton     [Q1124] 2020-04-09 17:54:15               1   \n",
       "\n",
       "                                              probas  \\\n",
       "0  [[President Donald Trump, 0.5698], [None, 0.43...   \n",
       "1  [[Kevin Cramer, 0.8789], [None, 0.1072], [John...   \n",
       "2  [[Steve Bartlett, 0.9232], [None, 0.0754], [Pr...   \n",
       "3  [[Joe Biden, 0.6878], [None, 0.133], [Pam Bond...   \n",
       "4  [[President Bill Clinton, 0.7325], [None, 0.24...   \n",
       "\n",
       "                                                urls phase  \\\n",
       "0  [http://uspolitics.einnews.com/article/5092030...     E   \n",
       "1  [https://www.washingtonexaminer.com/opinion/go...     E   \n",
       "2  [http://feeds.foxnews.com/~r/foxnews/politics/...     E   \n",
       "3  [https://www.nytimes.com/live/2020/impeachment...     E   \n",
       "4  [https://www.globalresearch.ca/911-truth-under...     E   \n",
       "\n",
       "                mentions     mentions_qids  \n",
       "0                [11746]          [Q22686]  \n",
       "1  [23467, 23473, 41263]  [Q6279, Q311269]  \n",
       "2         [11746, 11751]          [Q22686]  \n",
       "3                [23467]           [Q6279]  \n",
       "4                [23453]           [Q1124]  "
      ]
     },
     "execution_count": 15,
     "metadata": {},
     "output_type": "execute_result"
    }
   ],
   "source": [
    "pd.read_json(QUOTEBANK_POLITICIANS_USA_MAPPED, lines=True, compression='bz2' ).head()"
   ]
  },
  {
   "cell_type": "markdown",
   "metadata": {},
   "source": [
    "# 4 Descriptive Analysis"
   ]
  },
  {
   "cell_type": "markdown",
   "metadata": {},
   "source": [
    "## Required data\n",
    "Filtered politicians from Quotebank for USA and WORLD. We keep these datasets in a [Google Drive](https://drive.google.com/drive/folders/1DQkcSq3slTHJSZT_PYHw01rOk4X6e2Q2) since they make 1.5Gb and 3Gb respectively."
   ]
  },
  {
   "cell_type": "markdown",
   "metadata": {},
   "source": [
    "We do the descriptive analysis on the US and world dataset to support the motivation we made in README.md for MS2.\n",
    "As said in the README file, 13% of quotations from the whole Quotebank dataset are from politicians and 48% of these are from USA politicians. This makes 7’120’324 quotes in the USA dataset and 14’983’893 in the WORLD dataset. "
   ]
  },
  {
   "cell_type": "code",
   "execution_count": 4,
   "metadata": {},
   "outputs": [],
   "source": [
    "#specifiying dataset reading parameter and folder paths, and loading qids catalogue\n",
    "CHUNKSIZE=100000\n",
    "QUOTEBANK_POLITICIANS_WORLD= 'quotebank_politicians_world.json.bz2'\n",
    "QUOTEBANK_POLITICIANS_USA= 'quotebank_politicians_USA.json.bz2'\n",
    "WIKI_DATA_FILTERED = 'filtered_politician_labeled_v2.json.bz2'\n",
    "qids_df=pd.read_json(WIKI_DATA_FILTERED, lines=True)"
   ]
  },
  {
   "cell_type": "markdown",
   "metadata": {
    "tags": []
   },
   "source": [
    "### 1) USA dataset\n",
    "We did the following analysis to correlate our proposal from the README :\n",
    "\n",
    "1. We plot the most frequent speaker from the USA dataset.\n",
    "2. We do statistic on the distribution of politician parties in the USA dataset.\n",
    "3. Using the filtered quotation (from part 3), we plot the most frequent USA mentioner. (2020 data is shown)\n",
    "4. Using the filtered quotation (from part 3), we plot the most frequent USA parties mentioning other politicians. (2020 data is shown)"
   ]
  },
  {
   "cell_type": "code",
   "execution_count": 3,
   "metadata": {},
   "outputs": [],
   "source": [
    "#iterating trough USA dataset and retrieving speakers qids to load the qids from each citation in the dataset.\n",
    "all_qids_USA=[]\n",
    "with pd.read_json(QUOTEBANK_POLITICIANS_USA, lines=True, chunksize=CHUNKSIZE,compression='bz2') as df_reader:\n",
    "    Nchunk=0\n",
    "    for chunk in df_reader:\n",
    "        all_qids_USA.extend(chunk.qids.str[0])\n",
    "        Nchunk+=1"
   ]
  },
  {
   "cell_type": "markdown",
   "metadata": {},
   "source": [
    "Then we plot the number of quote per speaker distribution."
   ]
  },
  {
   "cell_type": "code",
   "execution_count": 4,
   "metadata": {},
   "outputs": [
    {
     "name": "stdout",
     "output_type": "stream",
     "text": [
      "Total number of speakers in USA dataset: 13103\n"
     ]
    },
    {
     "data": {
      "image/png": "[encoded data removed]",
      "text/plain": [
       "<Figure size 720x432 with 1 Axes>"
      ]
     },
     "metadata": {
      "needs_background": "light"
     },
     "output_type": "display_data"
    }
   ],
   "source": [
    "#plotting usa speakers distribution\n",
    "counts_USA=Counter(all_qids_USA)\n",
    "N_politicians_USA=len(counts_USA)\n",
    "print(f'Total number of speakers in USA dataset: {N_politicians_USA}')\n",
    "\n",
    "most_frequents_USA=counts_USA.most_common(20)\n",
    "qids_USA=[i[0] for i in most_frequents_USA]\n",
    "names_USA=[qids_df.loc[qids_df.qid == qid, 'name'].item() for qid in qids_USA]\n",
    "N=[i[1] for i in most_frequents_USA]\n",
    "plt.figure(figsize=(10,6))\n",
    "plt.title('most frequent speakers in USA dataset', fontsize=14)\n",
    "plt.bar(names_USA,N)\n",
    "plt.ylabel('count',fontsize=11)\n",
    "plt.xticks(rotation = 90)\n",
    "plt.show()"
   ]
  },
  {
   "cell_type": "markdown",
   "metadata": {},
   "source": [
    "Some politicians tend to mention other politicians more often, we find insteresting to identify the central node of political networks. We observed Donald Trump's quotations are very present in the media compared to the others, he could be potentialy a central hub for the political network."
   ]
  },
  {
   "cell_type": "code",
   "execution_count": 5,
   "metadata": {},
   "outputs": [],
   "source": [
    "#only keeping qids of interest from catalogue for code efficiency\n",
    "qids_count_USA=[item for item in counts_USA]\n",
    "qids_df_USA=qids_df[qids_df['qid'].isin(qids_count_USA)]"
   ]
  },
  {
   "cell_type": "markdown",
   "metadata": {},
   "source": [
    "We retrieve the parties information for each speaker from our catalogue ([see Politician Filter notebook](https://github.com/epfl-ada/ada-2021-project-date-a-data/blob/main/Milestone2/Politician%20Filter.ipynb))"
   ]
  },
  {
   "cell_type": "code",
   "execution_count": 6,
   "metadata": {},
   "outputs": [],
   "source": [
    "#retrieving parties information for each speaker in USA dataset\n",
    "parties=[]\n",
    "for i, speaker_qid in enumerate(counts_USA):\n",
    "    parties.extend(qids_df_USA.loc[qids_df_USA.qid == speaker_qid, 'parties'].item())\n",
    "parties_count=Counter(parties)\n",
    "sorted_parties_count=sorted(parties_count.items(), key=lambda x: x[1], reverse=True)\n"
   ]
  },
  {
   "cell_type": "code",
   "execution_count": 7,
   "metadata": {},
   "outputs": [
    {
     "data": {
      "image/png": "[encoded data removed]",
      "text/plain": [
       "<Figure size 576x432 with 1 Axes>"
      ]
     },
     "metadata": {
      "needs_background": "light"
     },
     "output_type": "display_data"
    }
   ],
   "source": [
    "#plotting number of politician per party in USA dataset\n",
    "parties=[x[0] for x in sorted_parties_count][:10]\n",
    "counts=[x[1] for x in sorted_parties_count][:10]\n",
    "plt.figure(figsize=(8,6))\n",
    "plt.bar(parties,counts)\n",
    "plt.xticks(rotation = 90)\n",
    "plt.title('Number of politicians per party in the USA dataset',fontsize=14)\n",
    "plt.ylabel('count',fontsize=12)\n",
    "plt.show()"
   ]
  },
  {
   "cell_type": "markdown",
   "metadata": {},
   "source": [
    "For now, we can observe 2 main parties in our data, Democratic and Republican. The other parties are less present, we will check if there is enough data from the mention quotations. "
   ]
  },
  {
   "cell_type": "markdown",
   "metadata": {},
   "source": [
    "After the preprocessing, we obtain the different mentions of USA politics from QUOTEBANK. \n",
    "\n",
    "In the following code : \n",
    "\n",
    "we decide to check if we have enough data, from the parties/speakers we are interested to make a US mentions network."
   ]
  },
  {
   "cell_type": "code",
   "execution_count": 1,
   "metadata": {},
   "outputs": [],
   "source": [
    "USA_MENTIONS = 'quotebank_politicians_USA_mapped.json.bz2'"
   ]
  },
  {
   "cell_type": "code",
   "execution_count": 5,
   "metadata": {},
   "outputs": [],
   "source": [
    "mentions_usa_df=pd.read_json(USA_MENTIONS,compression='bz2', lines=True)"
   ]
  },
  {
   "cell_type": "code",
   "execution_count": 8,
   "metadata": {},
   "outputs": [
    {
     "name": "stdout",
     "output_type": "stream",
     "text": [
      "Total number of USA speakers mentioning other politicien in 2020: 1581\n"
     ]
    }
   ],
   "source": [
    "counts_USA_mentions=Counter(mentions_usa_df.qids.str[0])\n",
    "N_mentions_USA=len(counts_USA_mentions)\n",
    "print(f'Total number of USA speakers mentioning other politicien in 2020: {N_mentions_USA}')"
   ]
  },
  {
   "cell_type": "code",
   "execution_count": 9,
   "metadata": {},
   "outputs": [
    {
     "data": {
      "image/png": "[encoded data removed]",
      "text/plain": [
       "<Figure size 720x432 with 1 Axes>"
      ]
     },
     "metadata": {
      "needs_background": "light"
     },
     "output_type": "display_data"
    }
   ],
   "source": [
    "#plotting the most frequent USA speakers mentioning another politician (2020 shown)\n",
    "most_speakers=counts_USA_mentions.most_common(20)\n",
    "qids_USA_mentions=[i[0] for i in most_speakers]\n",
    "qids_count_USA_mentions=[item for item in counts_USA_mentions]\n",
    "qids_df_USA_mentions=qids_df[qids_df['qid'].isin(qids_count_USA_mentions)]\n",
    "names_USA_mentions=[qids_df.loc[qids_df.qid == qid, 'name'].item() for qid in qids_USA_mentions]\n",
    "N=[i[1] for i in most_speakers]\n",
    "plt.figure(figsize=(10,6))\n",
    "plt.title('most frequent USA speakers mentioning another politician (2020)', fontsize=14)\n",
    "plt.bar(names_USA_mentions,N)\n",
    "plt.ylabel('count',fontsize=11)\n",
    "plt.xticks(rotation = 90)\n",
    "plt.show()"
   ]
  },
  {
   "cell_type": "markdown",
   "metadata": {},
   "source": [
    "Indeed, we see even if Donald Trump is still more present, there is less differences to the others. multiple central hub could be used to create the political network."
   ]
  },
  {
   "cell_type": "code",
   "execution_count": 10,
   "metadata": {},
   "outputs": [],
   "source": [
    "#retrieving parties information for USA politician mentioning another \n",
    "parties=[]\n",
    "for i, speaker_qid in enumerate(counts_USA_mentions):\n",
    "    parties.extend(qids_df_USA_mentions.loc[qids_df_USA_mentions.qid == speaker_qid, 'parties'].item())\n",
    "parties_count_mentions=Counter(parties)\n",
    "sorted_parties_count_mentions=sorted(parties_count_mentions.items(), key=lambda x: x[1], reverse=True)"
   ]
  },
  {
   "cell_type": "code",
   "execution_count": 11,
   "metadata": {},
   "outputs": [
    {
     "data": {
      "image/png": "[encoded data removed]",
      "text/plain": [
       "<Figure size 576x432 with 1 Axes>"
      ]
     },
     "metadata": {
      "needs_background": "light"
     },
     "output_type": "display_data"
    }
   ],
   "source": [
    "#plotting number of USA politician mentioning\n",
    "parties=[x[0] for x in sorted_parties_count_mentions][:10]\n",
    "counts=[x[1] for x in sorted_parties_count_mentions][:10]\n",
    "plt.figure(figsize=(8,6))\n",
    "plt.bar(parties,counts)\n",
    "plt.xticks(rotation = 90)\n",
    "plt.title('Number of politicians per party mentioning another in 2020 from USA',fontsize=14)\n",
    "plt.ylabel('count',fontsize=12)\n",
    "plt.show()"
   ]
  },
  {
   "cell_type": "markdown",
   "metadata": {},
   "source": [
    "No representative difference is observed from the politician parties, there is still the 2 main parties (Democratic and Republican). Meaning they tend to mentions much more others parties (or themselves)."
   ]
  },
  {
   "cell_type": "markdown",
   "metadata": {},
   "source": [
    "### 2) WORLD dataset\n",
    "We did some analysis about the WORLD dataset, to see the politician speaker distribution on the WORLD dataset :"
   ]
  },
  {
   "cell_type": "code",
   "execution_count": 9,
   "metadata": {},
   "outputs": [],
   "source": [
    "#iterating trough WORLD dataset and retrieving speakers qids\n",
    "all_qids_WORLD=[]\n",
    "with pd.read_json(QUOTEBANK_POLITICIANS_WORLD, lines=True, chunksize=CHUNKSIZE,compression='bz2') as df_reader:\n",
    "    Nchunk=0\n",
    "    for chunk in df_reader:\n",
    "        all_qids_WORLD.extend(chunk.qids.str[0])\n",
    "        Nchunk+=1\n",
    "        #print(f'chunk {Nchunk} in {150}')"
   ]
  },
  {
   "cell_type": "markdown",
   "metadata": {},
   "source": [
    "Then we plot the speaker distribution from the WORLD dataset."
   ]
  },
  {
   "cell_type": "code",
   "execution_count": 10,
   "metadata": {},
   "outputs": [
    {
     "name": "stdout",
     "output_type": "stream",
     "text": [
      "Total number of speakers in USA dataset: 54464\n"
     ]
    },
    {
     "data": {
      "image/png": "[encoded data removed]",
      "text/plain": [
       "<Figure size 720x432 with 1 Axes>"
      ]
     },
     "metadata": {
      "needs_background": "light"
     },
     "output_type": "display_data"
    }
   ],
   "source": [
    "#plotting speaker distribution\n",
    "counts_WORLD=Counter(all_qids_WORLD)\n",
    "N_politicians_WORLD=len(counts_WORLD)\n",
    "print(f'Total number of speakers in USA dataset: {N_politicians_WORLD}')\n",
    "most_frequents_WORLD=counts_WORLD.most_common(20)\n",
    "qids_WORLD=[i[0] for i in most_frequents_WORLD]\n",
    "names_WORLD=[qids_df.loc[qids_df.qid == qid, 'name'].item() for qid in qids_WORLD]\n",
    "N=[i[1] for i in most_frequents_WORLD]\n",
    "plt.figure(figsize=(10,6))\n",
    "plt.title('most frequent speakers in WORLD dataset', fontsize=14)\n",
    "plt.bar(names_WORLD,N)\n",
    "plt.ylabel('# of quotes per speaker',fontsize=11)\n",
    "plt.xticks(rotation = 90)\n",
    "plt.show()"
   ]
  },
  {
   "cell_type": "markdown",
   "metadata": {},
   "source": [
    "We see Donald Trump is still the top ONE speakers during the last 5 years. It is expected as the quotations are from the english news, we observed that most frequent speaker are in general from USA."
   ]
  }
 ],
 "metadata": {
  "interpreter": {
   "hash": "3b55f20b1d0618b20c2aa65a9063ea807c0869a2d017e9d59b50892a47715681"
  },
  "kernelspec": {
   "display_name": "Python 3 (ipykernel)",
   "language": "python",
   "name": "python3"
  },
  "language_info": {
   "codemirror_mode": {
    "name": "ipython",
    "version": 3
   },
   "file_extension": ".py",
   "mimetype": "text/x-python",
   "name": "python",
   "nbconvert_exporter": "python",
   "pygments_lexer": "ipython3",
   "version": "3.8.11"
  }
 },
 "nbformat": 4,
 "nbformat_minor": 4
}
