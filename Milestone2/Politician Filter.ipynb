{
 "cells": [
  {
   "cell_type": "markdown",
   "id": "9fb41748",
   "metadata": {},
   "source": [
    "# Required package\n",
    "[qwikidata](https://qwikidata.readthedocs.io/en/stable/)\n",
    "[json](https://docs.python.org/3/library/json.html)\n",
    "[bz2](https://docs.python.org/3/library/bz2.html)\n",
    "# Required data\n",
    "[wikidata dump](https://dumps.wikimedia.org/wikidatawiki/entities/)"
   ]
  },
  {
   "cell_type": "code",
   "execution_count": null,
   "id": "d67ba826",
   "metadata": {},
   "outputs": [],
   "source": [
    "import time\n",
    "import json\n",
    "import bz2\n",
    "import sys\n",
    "from qwikidata.entity import WikidataItem\n",
    "from qwikidata.json_dump import WikidataJsonDump\n",
    "from qwikidata.utils import dump_entities_to_json"
   ]
  },
  {
   "cell_type": "code",
   "execution_count": null,
   "id": "1db3733f",
   "metadata": {},
   "outputs": [],
   "source": [
    "WIKI_DATA_FULL = '../latest-all.json.bz2' #path to wiki data dump\n",
    "WIKI_DATA_FILTERED = '../filtered_politician.json.bz2' #path to filtered wiki data dump\n",
    "P_OCCUPATION = \"P106\" #politician ID in wikidata\n",
    "Q_POLITICIAN = \"Q82955\" #politician ID in wikidata\n",
    "P_COUNTRY = \"P27\" #country of recognized citizenship in wikidata"
   ]
  },
  {
   "cell_type": "code",
   "execution_count": null,
   "id": "1b87e57b",
   "metadata": {},
   "outputs": [],
   "source": [
    "def has_occupation_politician(item: WikidataItem, truthy: bool = True) -> bool:\n",
    "    \"\"\"Return True if the Wikidata Item has occupation politician.\"\"\"\n",
    "    if truthy:\n",
    "        claim_group = item.get_truthy_claim_group(P_OCCUPATION)\n",
    "    else:\n",
    "        claim_group = item.get_claim_group(P_OCCUPATION)\n",
    "\n",
    "    occupation_qids = [\n",
    "        claim.mainsnak.datavalue.value[\"id\"]\n",
    "        for claim in claim_group\n",
    "        if claim.mainsnak.snaktype == \"value\"\n",
    "    ]\n",
    "    return Q_POLITICIAN in occupation_qids"
   ]
  },
  {
   "cell_type": "code",
   "execution_count": null,
   "id": "161b4c99",
   "metadata": {},
   "outputs": [],
   "source": [
    "# create an instance of WikidataJsonDump\n",
    "wjd_dump_path = WIKI_DATA_FULL\n",
    "wjd = WikidataJsonDump(wjd_dump_path)"
   ]
  },
  {
   "cell_type": "code",
   "execution_count": null,
   "id": "cda88903",
   "metadata": {
    "scrolled": false
   },
   "outputs": [],
   "source": [
    "# create an instance of WikidataJsonDump\n",
    "wjd_dump_path = WIKI_DATA_FULL\n",
    "wjd = WikidataJsonDump(wjd_dump_path)\n",
    "\n",
    "\n",
    "# create an iterable of WikidataItem representing politicians\n",
    "politicians = []\n",
    "t1 = time.time()\n",
    "with bz2.open(WIKI_DATA_FILTERED, 'wb') as d_file:\n",
    "    for ii, entity_dict in enumerate(wjd):\n",
    "        if entity_dict[\"type\"] == \"item\":\n",
    "            entity = WikidataItem(entity_dict)\n",
    "            try:\n",
    "                if ('P570' not in entity_dict['claims'].keys()):\n",
    "                    if has_occupation_politician(entity):\n",
    "                        try:\n",
    "                            politicians.append(dict(zip(['qid', 'name','nationality'], [entity_dict['id'],entity_dict['labels']['en']['value'],entity_dict['claims']['P27'][-1]['mainsnak']['datavalue']['value']['id']])))# dump entity qid, name and nationality only\n",
    "                        except KeyError as e:\n",
    "                            print(e,entity_dict['id'])\n",
    "            except Exception:\n",
    "                print (Exception)\n",
    "        if ii % 10000 == 0:\n",
    "            t2 = time.time()\n",
    "            dt = t2 - t1\n",
    "            print(\n",
    "                \"Dumped {} politicians among {} entities [entities/s: {:.2f}]\".format(\n",
    "                    len(politicians), ii, ii / dt\n",
    "                )\n",
    "            )\n",
    "            d_file.write(('\\n'.join(map(json.dumps, politicians))+'\\n').encode('utf-8'))\n",
    "            politicians = []\n",
    "#         if ii > 10000:\n",
    "#             break"
   ]
  },
  {
   "cell_type": "code",
   "execution_count": 5,
   "id": "69aeaffb",
   "metadata": {},
   "outputs": [],
   "source": [
    "\n",
    "\n",
    "from qwikidata.sparql import return_sparql_query_results\n",
    "\n",
    "# send any sparql query to the wikidata query service and get full result back\n",
    "# you can also use the service directly https://query.wikidata.org/\n",
    "# I think this is much faster\n",
    "\n",
    "# the query is modified based on example: List of countries by age of the head of government\n",
    "# note head of the state and head of government are different\n",
    "# only current leader is selected\n",
    "sparql_query = \"\"\"\n",
    "# head of government\n",
    "SELECT DISTINCT ?country ?countryLabel ?hgovernment ?hgovernmentLabel\n",
    "{\n",
    "  ?country wdt:P31 wd:Q3624078 .\n",
    "  FILTER NOT EXISTS {?country wdt:P31 wd:Q3024240}\n",
    "  ?country p:P6 ?statement .    \n",
    "  ?statement ps:P6 ?hgovernment .\n",
    "  ?country wdt:P6 ?hgovernment .\n",
    "  FILTER NOT EXISTS { ?statement pq:P582 ?x } \n",
    "#   ?hgovernment wdt:P570 wd:Q543287 . # only living people TODO\n",
    "  SERVICE wikibase:label { bd:serviceParam wikibase:language \"en\" }\n",
    "}\n",
    "\"\"\"\n",
    "# result is a json file\n",
    "# we can also download from the website in other formats\n",
    "res = return_sparql_query_results(sparql_query)"
   ]
  }
 ],
 "metadata": {
  "kernelspec": {
   "display_name": "Python 3 (ipykernel)",
   "language": "python",
   "name": "python3"
  },
  "language_info": {
   "codemirror_mode": {
    "name": "ipython",
    "version": 3
   },
   "file_extension": ".py",
   "mimetype": "text/x-python",
   "name": "python",
   "nbconvert_exporter": "python",
   "pygments_lexer": "ipython3",
   "version": "3.8.10"
  }
 },
 "nbformat": 4,
 "nbformat_minor": 5
}
