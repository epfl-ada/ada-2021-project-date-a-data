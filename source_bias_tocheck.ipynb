{
 "cells": [
  {
   "cell_type": "code",
   "execution_count": 2,
   "metadata": {},
   "outputs": [],
   "source": [
    "import json\n",
    "import bz2\n",
    "import sys\n",
    "import os\n",
    "import numpy as np\n",
    "import pandas as pd\n",
    "import networkx as nx\n",
    "import networkx.algorithms.community as community\n",
    "from collections import Counter\n",
    "import matplotlib.pyplot as plt\n",
    "from matplotlib import cm\n",
    "import seaborn as sns\n",
    "from scipy.stats import spearmanr\n",
    "from chart_studio import plotly\n",
    "from plotly.offline import iplot\n",
    "import plotly.graph_objs as go\n",
    "from sklearn import preprocessing\n",
    "#from utils import plotly_graph"
   ]
  },
  {
   "cell_type": "markdown",
   "metadata": {},
   "source": [
    "defining plotting function:"
   ]
  },
  {
   "cell_type": "code",
   "execution_count": 3,
   "metadata": {},
   "outputs": [],
   "source": [
    "def plotly_graph(g,Layout,labels,parties='grey',colormap='white',centrality=10):\n",
    "    #normalize all weights.\n",
    "    Xv=[Layout[k][0] for k in list(g.nodes())]\n",
    "    Yv=[Layout[k][1] for k in list(g.nodes())]\n",
    "    Xe=[]\n",
    "    Ye=[]\n",
    "    for e in g.edges():\n",
    "        Xe+=[[Layout[e[0]][0],Layout[e[1]][0],None]]\n",
    "        Ye+=[[Layout[e[0]][1],Layout[e[1]][1],None]]\n",
    "    scatters=[]\n",
    "    for i in range(len(g.edges())):\n",
    "        if list(nx.get_edge_attributes(g,'weight').values())[i] > 10:\n",
    "            scatters.append(go.Scatter(x=Xe[i],y=Ye[i],mode='lines',\n",
    "                        line=dict( \n",
    "                                shape='spline',\n",
    "                                width=list(nx.get_edge_attributes(g,'weight').values())[i]**.2,\n",
    "                                color='mediumaquamarine'),\n",
    "                        ))\n",
    "    scatters.append(go.Scatter(x=Xv,y=Yv,mode='markers',\n",
    "            marker=dict(\n",
    "                color=parties,\n",
    "                size=[np.sqrt(i*50000) for i in centrality], #[np.sqrt(value*10000) for value in centrality],\n",
    "                opacity=1,\n",
    "                line=dict(\n",
    "                    color=colormap,\n",
    "                    width=[np.sqrt(i*250) for i in centrality],#[np.sqrt(int(value*100)) for value in centrality]\n",
    "                )),\n",
    "            hovertemplate=labels\n",
    "             ))\n",
    "    axis=dict(showbackground=False,\n",
    "            showline=False,\n",
    "            zeroline=False,\n",
    "            showgrid=False,\n",
    "            showticklabels=False,\n",
    "            title='',\n",
    "            visible=False\n",
    "            )\n",
    "    layout = go.Layout(\n",
    "            width=1000,\n",
    "            height=1000,\n",
    "            showlegend=False,\n",
    "            scene=dict(\n",
    "                xaxis=dict(axis),\n",
    "                yaxis=dict(axis),\n",
    "            ),\n",
    "        margin=dict(\n",
    "            t=100\n",
    "        ),\n",
    "        hoverdistance=1,\n",
    "        #hovermode='closest',\n",
    "        paper_bgcolor='rgba(255,255,255,255)',\n",
    "        plot_bgcolor='rgba(0,0,0,0)',\n",
    "            )\n",
    "    fig=go.Figure(data=scatters,layout=layout)\n",
    "    fig.update_xaxes(visible=False)\n",
    "    fig.update_yaxes(visible=False)\n",
    "    iplot(fig)\n",
    "\n",
    "def scaler(list):\n",
    "    return [i/sum(list) for i in list]"
   ]
  },
  {
   "cell_type": "markdown",
   "metadata": {},
   "source": [
    "loading catalogue and usa policitians mentions:"
   ]
  },
  {
   "cell_type": "code",
   "execution_count": 4,
   "metadata": {},
   "outputs": [
    {
     "name": "stdout",
     "output_type": "stream",
     "text": [
      "(450436, 14)\n"
     ]
    },
    {
     "data": {
      "text/html": [
       "<div>\n",
       "<style scoped>\n",
       "    .dataframe tbody tr th:only-of-type {\n",
       "        vertical-align: middle;\n",
       "    }\n",
       "\n",
       "    .dataframe tbody tr th {\n",
       "        vertical-align: top;\n",
       "    }\n",
       "\n",
       "    .dataframe thead th {\n",
       "        text-align: right;\n",
       "    }\n",
       "</style>\n",
       "<table border=\"1\" class=\"dataframe\">\n",
       "  <thead>\n",
       "    <tr style=\"text-align: right;\">\n",
       "      <th></th>\n",
       "      <th>quoteID</th>\n",
       "      <th>quotation</th>\n",
       "      <th>speaker</th>\n",
       "      <th>qids</th>\n",
       "      <th>date</th>\n",
       "      <th>numOccurrences</th>\n",
       "      <th>phase</th>\n",
       "      <th>mentions</th>\n",
       "      <th>mentions_qids</th>\n",
       "      <th>urls</th>\n",
       "      <th>topic_index</th>\n",
       "      <th>topic_scores</th>\n",
       "      <th>sentiment</th>\n",
       "      <th>source_bias</th>\n",
       "    </tr>\n",
       "  </thead>\n",
       "  <tbody>\n",
       "    <tr>\n",
       "      <th>0</th>\n",
       "      <td>2015-10-25-000242</td>\n",
       "      <td>' It is not now, nor has it ever been, the gol...</td>\n",
       "      <td>Bernie Sanders</td>\n",
       "      <td>Q359442</td>\n",
       "      <td>2015-10-25 14:12:35</td>\n",
       "      <td>1</td>\n",
       "      <td>E</td>\n",
       "      <td>[Bill Clinton]</td>\n",
       "      <td>[Q1124]</td>\n",
       "      <td>[examiner.com]</td>\n",
       "      <td>8</td>\n",
       "      <td>0.818588</td>\n",
       "      <td>-0.4822</td>\n",
       "      <td>0.1168</td>\n",
       "    </tr>\n",
       "    <tr>\n",
       "      <th>1</th>\n",
       "      <td>2015-08-07-005048</td>\n",
       "      <td>All we ╒ re asking for here is a discussion an...</td>\n",
       "      <td>John Boehner</td>\n",
       "      <td>Q11702</td>\n",
       "      <td>2015-08-07 12:52:52</td>\n",
       "      <td>1</td>\n",
       "      <td>E</td>\n",
       "      <td>[Barack Obama]</td>\n",
       "      <td>[Q76]</td>\n",
       "      <td>[liveblog.irishtimes.com]</td>\n",
       "      <td>8</td>\n",
       "      <td>0.774811</td>\n",
       "      <td>0.0000</td>\n",
       "      <td>NaN</td>\n",
       "    </tr>\n",
       "    <tr>\n",
       "      <th>2</th>\n",
       "      <td>2015-10-01-005722</td>\n",
       "      <td>An email included in the latest tranche of Cli...</td>\n",
       "      <td>Hillary Clinton</td>\n",
       "      <td>Q6294</td>\n",
       "      <td>2015-10-01 14:56:48</td>\n",
       "      <td>2</td>\n",
       "      <td>E</td>\n",
       "      <td>[Bill Clinton]</td>\n",
       "      <td>[Q1124]</td>\n",
       "      <td>[feeds.foxnews.com, www.foxnews.com]</td>\n",
       "      <td>4</td>\n",
       "      <td>0.368826</td>\n",
       "      <td>-0.2732</td>\n",
       "      <td>0.7295</td>\n",
       "    </tr>\n",
       "    <tr>\n",
       "      <th>3</th>\n",
       "      <td>2015-11-17-006368</td>\n",
       "      <td>and in fact, Secretary of State Kerry was earl...</td>\n",
       "      <td>Phil Bryant</td>\n",
       "      <td>Q887898</td>\n",
       "      <td>2015-11-17 20:03:05</td>\n",
       "      <td>1</td>\n",
       "      <td>E</td>\n",
       "      <td>[John Kerry]</td>\n",
       "      <td>[Q22316]</td>\n",
       "      <td>[hottytoddy.com]</td>\n",
       "      <td>1</td>\n",
       "      <td>0.774721</td>\n",
       "      <td>0.0258</td>\n",
       "      <td>NaN</td>\n",
       "    </tr>\n",
       "    <tr>\n",
       "      <th>4</th>\n",
       "      <td>2015-02-14-014011</td>\n",
       "      <td>I have fought Obamacare from Day One and will ...</td>\n",
       "      <td>John Cornyn</td>\n",
       "      <td>Q719568</td>\n",
       "      <td>2015-02-14 21:01:51</td>\n",
       "      <td>2</td>\n",
       "      <td>E</td>\n",
       "      <td>[Barack Obama]</td>\n",
       "      <td>[Q76]</td>\n",
       "      <td>[www.politico.com, politico.com]</td>\n",
       "      <td>2</td>\n",
       "      <td>0.389230</td>\n",
       "      <td>-0.1280</td>\n",
       "      <td>-0.1914</td>\n",
       "    </tr>\n",
       "  </tbody>\n",
       "</table>\n",
       "</div>"
      ],
      "text/plain": [
       "             quoteID                                          quotation  \\\n",
       "0  2015-10-25-000242  ' It is not now, nor has it ever been, the gol...   \n",
       "1  2015-08-07-005048  All we ╒ re asking for here is a discussion an...   \n",
       "2  2015-10-01-005722  An email included in the latest tranche of Cli...   \n",
       "3  2015-11-17-006368  and in fact, Secretary of State Kerry was earl...   \n",
       "4  2015-02-14-014011  I have fought Obamacare from Day One and will ...   \n",
       "\n",
       "           speaker     qids                date  numOccurrences phase  \\\n",
       "0   Bernie Sanders  Q359442 2015-10-25 14:12:35               1     E   \n",
       "1     John Boehner   Q11702 2015-08-07 12:52:52               1     E   \n",
       "2  Hillary Clinton    Q6294 2015-10-01 14:56:48               2     E   \n",
       "3      Phil Bryant  Q887898 2015-11-17 20:03:05               1     E   \n",
       "4      John Cornyn  Q719568 2015-02-14 21:01:51               2     E   \n",
       "\n",
       "         mentions mentions_qids                                  urls  \\\n",
       "0  [Bill Clinton]       [Q1124]                        [examiner.com]   \n",
       "1  [Barack Obama]         [Q76]             [liveblog.irishtimes.com]   \n",
       "2  [Bill Clinton]       [Q1124]  [feeds.foxnews.com, www.foxnews.com]   \n",
       "3    [John Kerry]      [Q22316]                      [hottytoddy.com]   \n",
       "4  [Barack Obama]         [Q76]      [www.politico.com, politico.com]   \n",
       "\n",
       "   topic_index  topic_scores  sentiment  source_bias  \n",
       "0            8      0.818588    -0.4822       0.1168  \n",
       "1            8      0.774811     0.0000          NaN  \n",
       "2            4      0.368826    -0.2732       0.7295  \n",
       "3            1      0.774721     0.0258          NaN  \n",
       "4            2      0.389230    -0.1280      -0.1914  "
      ]
     },
     "execution_count": 4,
     "metadata": {},
     "output_type": "execute_result"
    }
   ],
   "source": [
    "np.random.seed(4812)\n",
    "quotes_mapped='quotes_mentions_USA_ML_bias.json.bz2'\n",
    "WIKI_DATA_FILTERED='filtered_politician_labeled_us_v3.json.bz2'\n",
    "\n",
    "df_full=pd.read_json(quotes_mapped, lines=True)\n",
    "catalogue_df=pd.read_json(WIKI_DATA_FILTERED, lines=True)\n",
    "print(df_full.shape)\n",
    "df_full.head()"
   ]
  },
  {
   "cell_type": "markdown",
   "metadata": {},
   "source": [
    "selecting only the main democratic and republicans parties (with more than 10 politicians in the catalogue, may need to filter more to be more exhaustive?) (for each one checked on wikipedia if \"affiliated to national Democratic/Republican party\"). Keeping only the first party from the catalogue parties list, not sure about this."
   ]
  },
  {
   "cell_type": "code",
   "execution_count": 5,
   "metadata": {},
   "outputs": [],
   "source": [
    "#execute only once\n",
    "catalogue_df.parties = catalogue_df.parties.apply(lambda x: x[0] if len(x)>0 else '')\n",
    "catalogue_df['parties'][catalogue_df.parties.str.contains('Republican')]='Republican Party'\n",
    "catalogue_df['parties'][catalogue_df.parties.str.contains('Democratic')]='Democratic Party'\n",
    "catalogue_df=catalogue_df[catalogue_df.parties.str.contains('Democratic|Republican')] #keep only republican and democrate parties and affiliates"
   ]
  },
  {
   "cell_type": "markdown",
   "metadata": {},
   "source": [
    "create men_df, dataframe of single mentions where the mentioneer and mentioned politicians are in the catalogue. filtering out self-mentions:"
   ]
  },
  {
   "cell_type": "code",
   "execution_count": 18,
   "metadata": {},
   "outputs": [
    {
     "name": "stdout",
     "output_type": "stream",
     "text": [
      "0\n",
      "10000\n",
      "20000\n",
      "30000\n",
      "40000\n",
      "50000\n",
      "60000\n",
      "70000\n",
      "80000\n",
      "90000\n",
      "100000\n",
      "110000\n",
      "120000\n",
      "130000\n",
      "140000\n",
      "150000\n",
      "160000\n",
      "170000\n",
      "180000\n",
      "190000\n",
      "200000\n",
      "210000\n",
      "220000\n",
      "230000\n",
      "240000\n",
      "250000\n",
      "260000\n",
      "270000\n",
      "280000\n",
      "290000\n",
      "300000\n",
      "310000\n",
      "320000\n",
      "330000\n",
      "340000\n",
      "350000\n",
      "360000\n",
      "370000\n",
      "380000\n",
      "390000\n",
      "400000\n",
      "410000\n",
      "420000\n",
      "430000\n",
      "440000\n",
      "450000\n",
      "        qid mention_qid                 speaker\n",
      "0   Q547218    Q1135774            Mike Coffman\n",
      "1   Q971308     Q538868              Pat Toomey\n",
      "2  Q5562913    Q5218111           Gina Raimondo\n",
      "3       Q76   Q22003929  President Barack Obama\n",
      "4  Q1686078        Q207             Jeb Bradley\n",
      "men_df shape (41627, 3)\n"
     ]
    }
   ],
   "source": [
    "source_bias_range=[-.5,-.25]\n",
    "df=df_full#[['qids','mentions_qids','speaker']]\n",
    "#df=df.loc[:100000,:] # uncomment this to compute the network on less data\n",
    "men_df=pd.DataFrame()\n",
    "for i,row in df.iterrows():\n",
    "    if source_bias_range[0] <= row.source_bias <= source_bias_range[1]:\n",
    "        if row.qids in catalogue_df.qid.values:\n",
    "            for mention_qid in row.mentions_qids:\n",
    "                if (mention_qid in catalogue_df.qid.values) & (row.qids != mention_qid):\n",
    "                    mention=pd.Series([row.qids,mention_qid,row.speaker])\n",
    "                    men_df=men_df.append(mention,ignore_index=True)\n",
    "    if i%10000==0: print(i)\n",
    "men_df.rename(columns={0:'qid',1:'mention_qid',2:'speaker'},inplace=True)\n",
    "print(men_df.head())\n",
    "print(f'men_df shape {men_df.shape}')"
   ]
  },
  {
   "cell_type": "markdown",
   "metadata": {},
   "source": [
    "create the adjacency table:"
   ]
  },
  {
   "cell_type": "code",
   "execution_count": 19,
   "metadata": {},
   "outputs": [
    {
     "name": "stdout",
     "output_type": "stream",
     "text": [
      "number of politicians in network: 2897\n"
     ]
    }
   ],
   "source": [
    "adj_df = pd.crosstab(men_df.qid, men_df.mention_qid)\n",
    "idx = adj_df.columns.union(adj_df.index)\n",
    "adj_df = adj_df.reindex(index = idx, columns=idx, fill_value=0)\n",
    "adj=adj_df.values\n",
    "print(f'number of politicians in network: {len(adj_df.index)}')"
   ]
  },
  {
   "cell_type": "markdown",
   "metadata": {},
   "source": [
    "build graph from adjacency matrix:"
   ]
  },
  {
   "cell_type": "code",
   "execution_count": 20,
   "metadata": {},
   "outputs": [
    {
     "data": {
      "text/plain": [
       "2897"
      ]
     },
     "execution_count": 20,
     "metadata": {},
     "output_type": "execute_result"
    }
   ],
   "source": [
    "g=nx.from_numpy_matrix(adj,create_using=nx.DiGraph)\n",
    "g=nx.relabel_nodes(g,mapping=lambda x: adj_df.index[x])\n",
    "#L=nx.kamada_kawai_layout(g)\n",
    "labels=[catalogue_df.loc[catalogue_df.qid == qid, 'name'].item() for qid in g.nodes()]\n",
    "len(labels) #check if matches with network nodes number"
   ]
  },
  {
   "cell_type": "markdown",
   "metadata": {},
   "source": [
    "basic network analysis"
   ]
  },
  {
   "cell_type": "code",
   "execution_count": 21,
   "metadata": {},
   "outputs": [
    {
     "name": "stderr",
     "output_type": "stream",
     "text": [
      "C:\\Users\\totol\\anaconda3\\envs\\ADA\\lib\\site-packages\\seaborn\\_decorators.py:36: FutureWarning:\n",
      "\n",
      "Pass the following variables as keyword args: x, y. From version 0.12, the only valid positional argument will be `data`, and passing other arguments without an explicit keyword will result in an error or misinterpretation.\n",
      "\n"
     ]
    },
    {
     "data": {
      "image/png": "[encoded data removed]",
      "text/plain": [
       "<Figure size 1152x432 with 2 Axes>"
      ]
     },
     "metadata": {
      "needs_background": "light"
     },
     "output_type": "display_data"
    }
   ],
   "source": [
    "in_degrees = dict(g.in_degree())\n",
    "in_values = sorted(in_degrees.values())\n",
    "in_hist = Counter(in_degrees.values())\n",
    "\n",
    "centr=nx.degree_centrality(g)\n",
    "sorted_centr=sorted(centr.items(), key=lambda x: x[1], reverse=True)[:20]\n",
    "names=[catalogue_df.loc[catalogue_df.qid == qid, 'name'].item() for qid in [x[0] for x in sorted_centr]]\n",
    "\n",
    "fig,axs=plt.subplots(1,2,figsize=(16,6))\n",
    "axs[0].set_title('node centrality distribution')\n",
    "sns.barplot(names,[x[1] for x in sorted_centr], color='LightSkyBlue',ax=axs[0])\n",
    "axs[0].tick_params('x',labelrotation = 90)\n",
    "axs[0].set_ylabel('node degree centrality')\n",
    "\n",
    "axs[1].set_title('node degree distribution')\n",
    "axs[1].scatter([x for x in in_hist], [in_hist[x] for x in in_hist], color='LightSkyBlue')\n",
    "axs[1].set_xscale('log')\n",
    "axs[1].set_xlabel('node degree')\n",
    "axs[1].set_yscale('log')\n",
    "axs[1].set_ylabel('count')\n",
    "plt.show()"
   ]
  },
  {
   "cell_type": "markdown",
   "metadata": {},
   "source": [
    "compute kernighan_lin_bisection of the graph. Uses only undirected graph but for communities doesn't matter. [paper link](https://ieeexplore.ieee.org/stamp/stamp.jsp?tp=&arnumber=6771089)"
   ]
  },
  {
   "cell_type": "code",
   "execution_count": 22,
   "metadata": {},
   "outputs": [],
   "source": [
    "communities=community.kernighan_lin_bisection(g.to_undirected(),seed=42)\n",
    "g0=g.subgraph(communities[0])\n",
    "centr0=nx.degree_centrality(g0)\n",
    "sorted_centr0_nodes=[x[0] for x in sorted(centr0.items(), key=lambda x: x[1], reverse=True)[:20]]\n",
    "\n",
    "g1=g.subgraph(communities[1])\n",
    "centr1=nx.degree_centrality(g1)\n",
    "sorted_centr1_nodes=[x[0] for x in sorted(centr1.items(), key=lambda x: x[1], reverse=True)[:20]]\n",
    "\n",
    "sorted_center_nodes=[]\n",
    "sorted_center_nodes.extend(sorted_centr0_nodes)\n",
    "sorted_center_nodes.extend(sorted_centr1_nodes)\n",
    "g_centers=g.subgraph(sorted_center_nodes)\n",
    "Laycentr=nx.kamada_kawai_layout(g_centers)\n",
    "labels_centr=[catalogue_df.loc[catalogue_df.qid == qid, 'name'].item() for qid in g_centers.nodes()]\n",
    "party_centr=[catalogue_df.loc[catalogue_df.qid == qid, 'parties'].item() for qid in g_centers.nodes()]\n",
    "party_col_centr=['tomato' if x=='Republican Party' else 'dodgerblue' for x in party_centr]\n",
    "colors=['darkgreen','gold']\n",
    "colmap_centr=['black']*nx.number_of_nodes(g_centers)\n",
    "counter=0\n",
    "for i,n in enumerate(sorted_centr0_nodes):\n",
    "    colmap_centr[i]=colors[0]\n",
    "for i,n in enumerate(sorted_centr1_nodes):\n",
    "    colmap_centr[i+len(sorted_centr0_nodes)]=colors[1]\n",
    "\n",
    "centrality=scaler([centr[qid] for qid in g_centers.nodes()])"
   ]
  },
  {
   "cell_type": "markdown",
   "metadata": {},
   "source": [
    "compute catalogue keeping only qids in network, and setting binary_party and binary_community columns:"
   ]
  },
  {
   "cell_type": "code",
   "execution_count": 23,
   "metadata": {},
   "outputs": [
    {
     "data": {
      "text/html": [
       "<div>\n",
       "<style scoped>\n",
       "    .dataframe tbody tr th:only-of-type {\n",
       "        vertical-align: middle;\n",
       "    }\n",
       "\n",
       "    .dataframe tbody tr th {\n",
       "        vertical-align: top;\n",
       "    }\n",
       "\n",
       "    .dataframe thead th {\n",
       "        text-align: right;\n",
       "    }\n",
       "</style>\n",
       "<table border=\"1\" class=\"dataframe\">\n",
       "  <thead>\n",
       "    <tr style=\"text-align: right;\">\n",
       "      <th></th>\n",
       "      <th>qid</th>\n",
       "      <th>name</th>\n",
       "      <th>gender</th>\n",
       "      <th>nationality</th>\n",
       "      <th>aliases</th>\n",
       "      <th>parties</th>\n",
       "      <th>positions held</th>\n",
       "      <th>religion</th>\n",
       "      <th>us_congress_id</th>\n",
       "      <th>candidacy_election</th>\n",
       "      <th>State</th>\n",
       "      <th>binary_party</th>\n",
       "      <th>binary_community</th>\n",
       "    </tr>\n",
       "  </thead>\n",
       "  <tbody>\n",
       "    <tr>\n",
       "      <th>0</th>\n",
       "      <td>Q207</td>\n",
       "      <td>George W. Bush</td>\n",
       "      <td>male</td>\n",
       "      <td>Q30</td>\n",
       "      <td>[George Walker Bush, Bush Jr., Dubya, GWB, Bus...</td>\n",
       "      <td>Republican Party</td>\n",
       "      <td>[[Governor of Texas, [+1995-01-17T00:00:00Z]],...</td>\n",
       "      <td>Q329646</td>\n",
       "      <td></td>\n",
       "      <td>[2000 United States presidential election, 200...</td>\n",
       "      <td>Texas</td>\n",
       "      <td>0</td>\n",
       "      <td>0</td>\n",
       "    </tr>\n",
       "    <tr>\n",
       "      <th>1</th>\n",
       "      <td>Q4496</td>\n",
       "      <td>Mitt Romney</td>\n",
       "      <td>male</td>\n",
       "      <td>Q30</td>\n",
       "      <td>[Willard Mitt Romney, Pierre Delecto]</td>\n",
       "      <td>Republican Party</td>\n",
       "      <td>[[Governor of Massachusetts, [+2003-01-02T00:0...</td>\n",
       "      <td>Q42504</td>\n",
       "      <td>R000615</td>\n",
       "      <td>[2012 Republican Party presidential primaries,...</td>\n",
       "      <td>Massachusetts</td>\n",
       "      <td>0</td>\n",
       "      <td>0</td>\n",
       "    </tr>\n",
       "    <tr>\n",
       "      <th>2</th>\n",
       "      <td>Q11124</td>\n",
       "      <td>Stephen Breyer</td>\n",
       "      <td>male</td>\n",
       "      <td>Q30</td>\n",
       "      <td>[Stephen Gerald Breyer]</td>\n",
       "      <td>Democratic Party</td>\n",
       "      <td>[[Associate Justice of the Supreme Court of th...</td>\n",
       "      <td>Q9268</td>\n",
       "      <td></td>\n",
       "      <td>[]</td>\n",
       "      <td>None</td>\n",
       "      <td>1</td>\n",
       "      <td>0</td>\n",
       "    </tr>\n",
       "    <tr>\n",
       "      <th>3</th>\n",
       "      <td>Q22201</td>\n",
       "      <td>Jim DeMint</td>\n",
       "      <td>male</td>\n",
       "      <td>Q30</td>\n",
       "      <td>[James Warren \"Jim\" DeMint, James Warren DeMint]</td>\n",
       "      <td>Republican Party</td>\n",
       "      <td>[[United States representative, []], [United S...</td>\n",
       "      <td>Q178169</td>\n",
       "      <td>D000595</td>\n",
       "      <td>[]</td>\n",
       "      <td>None</td>\n",
       "      <td>0</td>\n",
       "      <td>0</td>\n",
       "    </tr>\n",
       "    <tr>\n",
       "      <th>4</th>\n",
       "      <td>Q22290</td>\n",
       "      <td>Olympia Snowe</td>\n",
       "      <td>female</td>\n",
       "      <td>Q30</td>\n",
       "      <td>[Olympia J. Snowe, Olympia Bouchles, Olympia J...</td>\n",
       "      <td>Republican Party</td>\n",
       "      <td>[[United States representative, [+1979-01-03T0...</td>\n",
       "      <td>Q3333484</td>\n",
       "      <td>S000663</td>\n",
       "      <td>[]</td>\n",
       "      <td>None</td>\n",
       "      <td>0</td>\n",
       "      <td>1</td>\n",
       "    </tr>\n",
       "  </tbody>\n",
       "</table>\n",
       "</div>"
      ],
      "text/plain": [
       "      qid            name  gender nationality  \\\n",
       "0    Q207  George W. Bush    male         Q30   \n",
       "1   Q4496     Mitt Romney    male         Q30   \n",
       "2  Q11124  Stephen Breyer    male         Q30   \n",
       "3  Q22201      Jim DeMint    male         Q30   \n",
       "4  Q22290   Olympia Snowe  female         Q30   \n",
       "\n",
       "                                             aliases           parties  \\\n",
       "0  [George Walker Bush, Bush Jr., Dubya, GWB, Bus...  Republican Party   \n",
       "1              [Willard Mitt Romney, Pierre Delecto]  Republican Party   \n",
       "2                            [Stephen Gerald Breyer]  Democratic Party   \n",
       "3   [James Warren \"Jim\" DeMint, James Warren DeMint]  Republican Party   \n",
       "4  [Olympia J. Snowe, Olympia Bouchles, Olympia J...  Republican Party   \n",
       "\n",
       "                                      positions held  religion us_congress_id  \\\n",
       "0  [[Governor of Texas, [+1995-01-17T00:00:00Z]],...   Q329646                  \n",
       "1  [[Governor of Massachusetts, [+2003-01-02T00:0...    Q42504        R000615   \n",
       "2  [[Associate Justice of the Supreme Court of th...     Q9268                  \n",
       "3  [[United States representative, []], [United S...   Q178169        D000595   \n",
       "4  [[United States representative, [+1979-01-03T0...  Q3333484        S000663   \n",
       "\n",
       "                                  candidacy_election          State  \\\n",
       "0  [2000 United States presidential election, 200...          Texas   \n",
       "1  [2012 Republican Party presidential primaries,...  Massachusetts   \n",
       "2                                                 []           None   \n",
       "3                                                 []           None   \n",
       "4                                                 []           None   \n",
       "\n",
       "   binary_party  binary_community  \n",
       "0             0                 0  \n",
       "1             0                 0  \n",
       "2             1                 0  \n",
       "3             0                 0  \n",
       "4             0                 1  "
      ]
     },
     "execution_count": 23,
     "metadata": {},
     "output_type": "execute_result"
    }
   ],
   "source": [
    "catalogue_graph=catalogue_df.loc[catalogue_df.qid.isin(list(g.nodes))].copy()\n",
    "catalogue_graph.reset_index(drop=True, inplace=True)\n",
    "catalogue_graph['binary_party'] = np.where(catalogue_graph.parties.loc[:] == 'Democratic Party',1,0)\n",
    "catalogue_graph['binary_community'] = np.where(catalogue_graph.qid.isin(list(g0.nodes)),1,0)\n",
    "catalogue_graph.head()"
   ]
  },
  {
   "cell_type": "markdown",
   "metadata": {},
   "source": [
    "compute Spearman correlation coefficient and pval. Spearman correlation makes sense here because we want to capture if the 2 variables are correlated or anti-correlated, because we don't control wether which binary value will be applied to which community (all same => Spearman coeff=1, all contrary => Spearman coeff=-1 and we take the absolute value). We don't want to just check similarity because it doesn't capture anti-correlation. [wikipedia link](https://en.wikipedia.org/wiki/Spearman%27s_rank_correlation_coefficient). Using two-sided t test with a 95% confidence interval."
   ]
  },
  {
   "cell_type": "code",
   "execution_count": 24,
   "metadata": {},
   "outputs": [
    {
     "name": "stdout",
     "output_type": "stream",
     "text": [
      "absolute value of Spearman correlation coefficient = 0.0323, with a p-value of 0.0823\n",
      "spearman correlation of coefficient = 0.0823 > 0.025, so there is no statististically significant correlation between the two network communities and real politicians parties.\n"
     ]
    }
   ],
   "source": [
    "spearman_corr,spearman_pval=spearmanr(catalogue_graph.binary_party,catalogue_graph.binary_community)\n",
    "abs_spearman_corr = np.abs(spearman_corr)\n",
    "print(f'absolute value of Spearman correlation coefficient = {round(abs_spearman_corr,4)}, with a p-value of {round(spearman_pval,4)}')\n",
    "if spearman_pval < .025:\n",
    "    print(f'spearman correlation of coefficient = {round(spearman_pval,4)} < 0.025, so there is a statististically significant correlation between the graph bisection and real politicians parties.')\n",
    "else:\n",
    "    print(f'spearman correlation of coefficient = {round(spearman_pval,4)} > 0.025, so there is no statististically significant correlation between the two network communities and real politicians parties.')"
   ]
  },
  {
   "cell_type": "markdown",
   "metadata": {},
   "source": [
    "plotting 20 most central nodes of each communities together:"
   ]
  },
  {
   "cell_type": "code",
   "execution_count": 25,
   "metadata": {},
   "outputs": [
    {
     "data": {
      "application/vnd.plotly.v1+json": {
       "config": {
        "linkText": "Export to plot.ly",
        "plotlyServerURL": "https://plot.ly",
        "showLink": false
       },
       "data": [
        {
         "line": {
          "color": "mediumaquamarine",
          "shape": "spline",
          "width": 2.0361680046403983
         },
         "mode": "lines",
         "type": "scatter",
         "x": [
          -0.06331451558630913,
          0.02067370944752117,
          null
         ],
         "y": [
          0.20475932869801228,
          -0.5265902694561188,
          null
         ]
        },
        {
         "line": {
          "color": "mediumaquamarine",
          "shape": "spline",
          "width": 1.7411011265922482
         },
         "mode": "lines",
         "type": "scatter",
         "x": [
          -0.06331451558630913,
          0.2820840078410846,
          null
         ],
         "y": [
          0.20475932869801228,
          -0.11983553640652553,
          null
         ]
        },
        {
         "line": {
          "color": "mediumaquamarine",
          "shape": "spline",
          "width": 2.2039445754429603
         },
         "mode": "lines",
         "type": "scatter",
         "x": [
          0.0930722964651772,
          0.02067370944752117,
          null
         ],
         "y": [
          0.32731155829568764,
          -0.5265902694561188,
          null
         ]
        },
        {
         "line": {
          "color": "mediumaquamarine",
          "shape": "spline",
          "width": 1.6702776523348104
         },
         "mode": "lines",
         "type": "scatter",
         "x": [
          0.0930722964651772,
          -0.3698298244316851,
          null
         ],
         "y": [
          0.32731155829568764,
          0.06371605246684918,
          null
         ]
        },
        {
         "line": {
          "color": "mediumaquamarine",
          "shape": "spline",
          "width": 2.1315255132709487
         },
         "mode": "lines",
         "type": "scatter",
         "x": [
          0.0930722964651772,
          0.2820840078410846,
          null
         ],
         "y": [
          0.32731155829568764,
          -0.11983553640652553,
          null
         ]
        },
        {
         "line": {
          "color": "mediumaquamarine",
          "shape": "spline",
          "width": 2.9567982182010097
         },
         "mode": "lines",
         "type": "scatter",
         "x": [
          -0.20963933369705687,
          0.12745933579319854,
          null
         ],
         "y": [
          0.5670407089779286,
          -0.011591913284546153,
          null
         ]
        },
        {
         "line": {
          "color": "mediumaquamarine",
          "shape": "spline",
          "width": 1.6702776523348104
         },
         "mode": "lines",
         "type": "scatter",
         "x": [
          -0.20963933369705687,
          0.4265297202957624,
          null
         ],
         "y": [
          0.5670407089779286,
          0.12725075876147582,
          null
         ]
        },
        {
         "line": {
          "color": "mediumaquamarine",
          "shape": "spline",
          "width": 2.080716549261844
         },
         "mode": "lines",
         "type": "scatter",
         "x": [
          -0.20963933369705687,
          -0.06331451558630913,
          null
         ],
         "y": [
          0.5670407089779286,
          0.20475932869801228,
          null
         ]
        },
        {
         "line": {
          "color": "mediumaquamarine",
          "shape": "spline",
          "width": 3.612226905766521
         },
         "mode": "lines",
         "type": "scatter",
         "x": [
          -0.20963933369705687,
          0.02067370944752117,
          null
         ],
         "y": [
          0.5670407089779286,
          -0.5265902694561188,
          null
         ]
        },
        {
         "line": {
          "color": "mediumaquamarine",
          "shape": "spline",
          "width": 2.916463134167091
         },
         "mode": "lines",
         "type": "scatter",
         "x": [
          -0.20963933369705687,
          0.2820840078410846,
          null
         ],
         "y": [
          0.5670407089779286,
          -0.11983553640652553,
          null
         ]
        },
        {
         "line": {
          "color": "mediumaquamarine",
          "shape": "spline",
          "width": 2.682890576566476
         },
         "mode": "lines",
         "type": "scatter",
         "x": [
          0.22110699706511125,
          0.02067370944752117,
          null
         ],
         "y": [
          0.3851150480864679,
          -0.5265902694561188,
          null
         ]
        },
        {
         "line": {
          "color": "mediumaquamarine",
          "shape": "spline",
          "width": 1.933182044931763
         },
         "mode": "lines",
         "type": "scatter",
         "x": [
          0.22110699706511125,
          0.2820840078410846,
          null
         ],
         "y": [
          0.3851150480864679,
          -0.11983553640652553,
          null
         ]
        },
        {
         "line": {
          "color": "mediumaquamarine",
          "shape": "spline",
          "width": 3.1249512944817983
         },
         "mode": "lines",
         "type": "scatter",
         "x": [
          0.43542245663268075,
          0.02067370944752117,
          null
         ],
         "y": [
          -0.10414829305424074,
          -0.5265902694561188,
          null
         ]
        },
        {
         "line": {
          "color": "mediumaquamarine",
          "shape": "spline",
          "width": 1.8019831273171423
         },
         "mode": "lines",
         "type": "scatter",
         "x": [
          0.43542245663268075,
          0.2820840078410846,
          null
         ],
         "y": [
          -0.10414829305424074,
          -0.11983553640652553,
          null
         ]
        },
        {
         "line": {
          "color": "mediumaquamarine",
          "shape": "spline",
          "width": 1.6702776523348104
         },
         "mode": "lines",
         "type": "scatter",
         "x": [
          -0.3698298244316851,
          0.12745933579319854,
          null
         ],
         "y": [
          0.06371605246684918,
          -0.011591913284546153,
          null
         ]
        },
        {
         "line": {
          "color": "mediumaquamarine",
          "shape": "spline",
          "width": 1.8205642030260802
         },
         "mode": "lines",
         "type": "scatter",
         "x": [
          -0.3698298244316851,
          -0.06331451558630913,
          null
         ],
         "y": [
          0.06371605246684918,
          0.20475932869801228,
          null
         ]
        },
        {
         "line": {
          "color": "mediumaquamarine",
          "shape": "spline",
          "width": 3.2196986074719094
         },
         "mode": "lines",
         "type": "scatter",
         "x": [
          -0.3698298244316851,
          0.02067370944752117,
          null
         ],
         "y": [
          0.06371605246684918,
          -0.5265902694561188,
          null
         ]
        },
        {
         "line": {
          "color": "mediumaquamarine",
          "shape": "spline",
          "width": 1.6702776523348104
         },
         "mode": "lines",
         "type": "scatter",
         "x": [
          -0.3698298244316851,
          0.23051820197829137,
          null
         ],
         "y": [
          0.06371605246684918,
          0.08357126511604072,
          null
         ]
        },
        {
         "line": {
          "color": "mediumaquamarine",
          "shape": "spline",
          "width": 1.7826024579660034
         },
         "mode": "lines",
         "type": "scatter",
         "x": [
          -0.3698298244316851,
          -0.20963933369705687,
          null
         ],
         "y": [
          0.06371605246684918,
          0.5670407089779286,
          null
         ]
        },
        {
         "line": {
          "color": "mediumaquamarine",
          "shape": "spline",
          "width": 2.6472116807053716
         },
         "mode": "lines",
         "type": "scatter",
         "x": [
          -0.3698298244316851,
          0.2820840078410846,
          null
         ],
         "y": [
          0.06371605246684918,
          -0.11983553640652553,
          null
         ]
        },
        {
         "line": {
          "color": "mediumaquamarine",
          "shape": "spline",
          "width": 3.012245305146196
         },
         "mode": "lines",
         "type": "scatter",
         "x": [
          0.3190205007059847,
          0.02067370944752117,
          null
         ],
         "y": [
          0.21006595696001384,
          -0.5265902694561188,
          null
         ]
        },
        {
         "line": {
          "color": "mediumaquamarine",
          "shape": "spline",
          "width": 1.7826024579660034
         },
         "mode": "lines",
         "type": "scatter",
         "x": [
          0.3190205007059847,
          0.2820840078410846,
          null
         ],
         "y": [
          0.21006595696001384,
          -0.11983553640652553,
          null
         ]
        },
        {
         "line": {
          "color": "mediumaquamarine",
          "shape": "spline",
          "width": 1.6437518295172258
         },
         "mode": "lines",
         "type": "scatter",
         "x": [
          -0.00845723659193862,
          -0.06331451558630913,
          null
         ],
         "y": [
          0.6082815731543112,
          0.20475932869801228,
          null
         ]
        },
        {
         "line": {
          "color": "mediumaquamarine",
          "shape": "spline",
          "width": 3.2399151991372457
         },
         "mode": "lines",
         "type": "scatter",
         "x": [
          -0.00845723659193862,
          0.02067370944752117,
          null
         ],
         "y": [
          0.6082815731543112,
          -0.5265902694561188,
          null
         ]
        },
        {
         "line": {
          "color": "mediumaquamarine",
          "shape": "spline",
          "width": 1.7187719275874789
         },
         "mode": "lines",
         "type": "scatter",
         "x": [
          -0.00845723659193862,
          0.4037158616863077,
          null
         ],
         "y": [
          0.6082815731543112,
          0.39917236537401396,
          null
         ]
        },
        {
         "line": {
          "color": "mediumaquamarine",
          "shape": "spline",
          "width": 1.6702776523348104
         },
         "mode": "lines",
         "type": "scatter",
         "x": [
          -0.00845723659193862,
          0.22110699706511125,
          null
         ],
         "y": [
          0.6082815731543112,
          0.3851150480864679,
          null
         ]
        },
        {
         "line": {
          "color": "mediumaquamarine",
          "shape": "spline",
          "width": 1.6702776523348104
         },
         "mode": "lines",
         "type": "scatter",
         "x": [
          -0.00845723659193862,
          -0.29895814654317016,
          null
         ],
         "y": [
          0.6082815731543112,
          0.22369159560468707,
          null
         ]
        },
        {
         "line": {
          "color": "mediumaquamarine",
          "shape": "spline",
          "width": 1.97435048583482
         },
         "mode": "lines",
         "type": "scatter",
         "x": [
          -0.00845723659193862,
          0.2820840078410846,
          null
         ],
         "y": [
          0.6082815731543112,
          -0.11983553640652553,
          null
         ]
        },
        {
         "line": {
          "color": "mediumaquamarine",
          "shape": "spline",
          "width": 1.6702776523348104
         },
         "mode": "lines",
         "type": "scatter",
         "x": [
          0.23051820197829137,
          0.12745933579319854,
          null
         ],
         "y": [
          0.08357126511604072,
          -0.011591913284546153,
          null
         ]
        },
        {
         "line": {
          "color": "mediumaquamarine",
          "shape": "spline",
          "width": 3.4876262705323984
         },
         "mode": "lines",
         "type": "scatter",
         "x": [
          0.23051820197829137,
          0.02067370944752117,
          null
         ],
         "y": [
          0.08357126511604072,
          -0.5265902694561188,
          null
         ]
        },
        {
         "line": {
          "color": "mediumaquamarine",
          "shape": "spline",
          "width": 1.838416287252544
         },
         "mode": "lines",
         "type": "scatter",
         "x": [
          0.23051820197829137,
          0.4037158616863077,
          null
         ],
         "y": [
          0.08357126511604072,
          0.39917236537401396,
          null
         ]
        },
        {
         "line": {
          "color": "mediumaquamarine",
          "shape": "spline",
          "width": 1.615394266202178
         },
         "mode": "lines",
         "type": "scatter",
         "x": [
          0.23051820197829137,
          0.22110699706511125,
          null
         ],
         "y": [
          0.08357126511604072,
          0.3851150480864679,
          null
         ]
        },
        {
         "line": {
          "color": "mediumaquamarine",
          "shape": "spline",
          "width": 2.0123466170855586
         },
         "mode": "lines",
         "type": "scatter",
         "x": [
          0.23051820197829137,
          -0.3698298244316851,
          null
         ],
         "y": [
          0.08357126511604072,
          0.06371605246684918,
          null
         ]
        },
        {
         "line": {
          "color": "mediumaquamarine",
          "shape": "spline",
          "width": 1.888175022589804
         },
         "mode": "lines",
         "type": "scatter",
         "x": [
          0.23051820197829137,
          -0.20963933369705687,
          null
         ],
         "y": [
          0.08357126511604072,
          0.5670407089779286,
          null
         ]
        },
        {
         "line": {
          "color": "mediumaquamarine",
          "shape": "spline",
          "width": 1.97435048583482
         },
         "mode": "lines",
         "type": "scatter",
         "x": [
          0.23051820197829137,
          0.2820840078410846,
          null
         ],
         "y": [
          0.08357126511604072,
          -0.11983553640652553,
          null
         ]
        },
        {
         "line": {
          "color": "mediumaquamarine",
          "shape": "spline",
          "width": 1.8019831273171423
         },
         "mode": "lines",
         "type": "scatter",
         "x": [
          0.10211148948176672,
          0.12745933579319854,
          null
         ],
         "y": [
          0.15742834180931925,
          -0.011591913284546153,
          null
         ]
        },
        {
         "line": {
          "color": "mediumaquamarine",
          "shape": "spline",
          "width": 3.379774445235429
         },
         "mode": "lines",
         "type": "scatter",
         "x": [
          0.10211148948176672,
          0.02067370944752117,
          null
         ],
         "y": [
          0.15742834180931925,
          -0.5265902694561188,
          null
         ]
        },
        {
         "line": {
          "color": "mediumaquamarine",
          "shape": "spline",
          "width": 2.2039445754429603
         },
         "mode": "lines",
         "type": "scatter",
         "x": [
          0.10211148948176672,
          -0.20963933369705687,
          null
         ],
         "y": [
          0.15742834180931925,
          0.5670407089779286,
          null
         ]
        },
        {
         "line": {
          "color": "mediumaquamarine",
          "shape": "spline",
          "width": 2.2603224696268156
         },
         "mode": "lines",
         "type": "scatter",
         "x": [
          0.10211148948176672,
          0.2820840078410846,
          null
         ],
         "y": [
          0.15742834180931925,
          -0.11983553640652553,
          null
         ]
        },
        {
         "line": {
          "color": "mediumaquamarine",
          "shape": "spline",
          "width": 1.6952182030724354
         },
         "mode": "lines",
         "type": "scatter",
         "x": [
          0.12745933579319854,
          -0.06331451558630913,
          null
         ],
         "y": [
          -0.011591913284546153,
          0.20475932869801228,
          null
         ]
        },
        {
         "line": {
          "color": "mediumaquamarine",
          "shape": "spline",
          "width": 2.2368538294402893
         },
         "mode": "lines",
         "type": "scatter",
         "x": [
          0.12745933579319854,
          0.02067370944752117,
          null
         ],
         "y": [
          -0.011591913284546153,
          -0.5265902694561188,
          null
         ]
        },
        {
         "line": {
          "color": "mediumaquamarine",
          "shape": "spline",
          "width": 1.6437518295172258
         },
         "mode": "lines",
         "type": "scatter",
         "x": [
          0.12745933579319854,
          -0.20963933369705687,
          null
         ],
         "y": [
          -0.011591913284546153,
          0.5670407089779286,
          null
         ]
        },
        {
         "line": {
          "color": "mediumaquamarine",
          "shape": "spline",
          "width": 2.058924136478517
         },
         "mode": "lines",
         "type": "scatter",
         "x": [
          0.12243496008034294,
          0.12745933579319854,
          null
         ],
         "y": [
          0.5809620732093094,
          -0.011591913284546153,
          null
         ]
        },
        {
         "line": {
          "color": "mediumaquamarine",
          "shape": "spline",
          "width": 3.0570479609502477
         },
         "mode": "lines",
         "type": "scatter",
         "x": [
          0.12243496008034294,
          0.02067370944752117,
          null
         ],
         "y": [
          0.5809620732093094,
          -0.5265902694561188,
          null
         ]
        },
        {
         "line": {
          "color": "mediumaquamarine",
          "shape": "spline",
          "width": 1.838416287252544
         },
         "mode": "lines",
         "type": "scatter",
         "x": [
          0.12243496008034294,
          -0.3698298244316851,
          null
         ],
         "y": [
          0.5809620732093094,
          0.06371605246684918,
          null
         ]
        },
        {
         "line": {
          "color": "mediumaquamarine",
          "shape": "spline",
          "width": 2.2039445754429603
         },
         "mode": "lines",
         "type": "scatter",
         "x": [
          0.12243496008034294,
          -0.20963933369705687,
          null
         ],
         "y": [
          0.5809620732093094,
          0.5670407089779286,
          null
         ]
        },
        {
         "line": {
          "color": "mediumaquamarine",
          "shape": "spline",
          "width": 2.168943542395397
         },
         "mode": "lines",
         "type": "scatter",
         "x": [
          0.12243496008034294,
          0.2820840078410846,
          null
         ],
         "y": [
          0.5809620732093094,
          -0.11983553640652553,
          null
         ]
        },
        {
         "line": {
          "color": "mediumaquamarine",
          "shape": "spline",
          "width": 1.888175022589804
         },
         "mode": "lines",
         "type": "scatter",
         "x": [
          -0.0120932173208237,
          -0.16340950679496163,
          null
         ],
         "y": [
          -0.25935527341615383,
          -0.07619383132529833,
          null
         ]
        },
        {
         "line": {
          "color": "mediumaquamarine",
          "shape": "spline",
          "width": 1.961009057454548
         },
         "mode": "lines",
         "type": "scatter",
         "x": [
          0.4037158616863077,
          0.12745933579319854,
          null
         ],
         "y": [
          0.39917236537401396,
          -0.011591913284546153,
          null
         ]
        },
        {
         "line": {
          "color": "mediumaquamarine",
          "shape": "spline",
          "width": 2.6867397897856646
         },
         "mode": "lines",
         "type": "scatter",
         "x": [
          0.4037158616863077,
          0.02067370944752117,
          null
         ],
         "y": [
          0.39917236537401396,
          -0.5265902694561188,
          null
         ]
        },
        {
         "line": {
          "color": "mediumaquamarine",
          "shape": "spline",
          "width": 1.6702776523348104
         },
         "mode": "lines",
         "type": "scatter",
         "x": [
          0.4037158616863077,
          -0.00845723659193862,
          null
         ],
         "y": [
          0.39917236537401396,
          0.6082815731543112,
          null
         ]
        },
        {
         "line": {
          "color": "mediumaquamarine",
          "shape": "spline",
          "width": 2.7276923736437073
         },
         "mode": "lines",
         "type": "scatter",
         "x": [
          0.4037158616863077,
          0.2820840078410846,
          null
         ],
         "y": [
          0.39917236537401396,
          -0.11983553640652553,
          null
         ]
        },
        {
         "line": {
          "color": "mediumaquamarine",
          "shape": "spline",
          "width": 1.961009057454548
         },
         "mode": "lines",
         "type": "scatter",
         "x": [
          0.2820840078410846,
          0.12745933579319854,
          null
         ],
         "y": [
          -0.11983553640652553,
          -0.011591913284546153,
          null
         ]
        },
        {
         "line": {
          "color": "mediumaquamarine",
          "shape": "spline",
          "width": 2.0912791051825463
         },
         "mode": "lines",
         "type": "scatter",
         "x": [
          0.2820840078410846,
          -0.06331451558630913,
          null
         ],
         "y": [
          -0.11983553640652553,
          0.20475932869801228,
          null
         ]
        },
        {
         "line": {
          "color": "mediumaquamarine",
          "shape": "spline",
          "width": 2.995045389960446
         },
         "mode": "lines",
         "type": "scatter",
         "x": [
          0.2820840078410846,
          0.02067370944752117,
          null
         ],
         "y": [
          -0.11983553640652553,
          -0.5265902694561188,
          null
         ]
        },
        {
         "line": {
          "color": "mediumaquamarine",
          "shape": "spline",
          "width": 2.0912791051825463
         },
         "mode": "lines",
         "type": "scatter",
         "x": [
          0.2820840078410846,
          -0.3698298244316851,
          null
         ],
         "y": [
          -0.11983553640652553,
          0.06371605246684918,
          null
         ]
        },
        {
         "line": {
          "color": "mediumaquamarine",
          "shape": "spline",
          "width": 2.2754430321145303
         },
         "mode": "lines",
         "type": "scatter",
         "x": [
          0.2820840078410846,
          -0.20963933369705687,
          null
         ],
         "y": [
          -0.11983553640652553,
          0.5670407089779286,
          null
         ]
        },
        {
         "line": {
          "color": "mediumaquamarine",
          "shape": "spline",
          "width": 2.663305338864483
         },
         "mode": "lines",
         "type": "scatter",
         "x": [
          -0.06213836794857329,
          0.02067370944752117,
          null
         ],
         "y": [
          0.42367793629745326,
          -0.5265902694561188,
          null
         ]
        },
        {
         "line": {
          "color": "mediumaquamarine",
          "shape": "spline",
          "width": 1.762340347832317
         },
         "mode": "lines",
         "type": "scatter",
         "x": [
          -0.29895814654317016,
          0.12745933579319854,
          null
         ],
         "y": [
          0.22369159560468707,
          -0.011591913284546153,
          null
         ]
        },
        {
         "line": {
          "color": "mediumaquamarine",
          "shape": "spline",
          "width": 1.9186451916253062
         },
         "mode": "lines",
         "type": "scatter",
         "x": [
          -0.29895814654317016,
          0.02067370944752117,
          null
         ],
         "y": [
          0.22369159560468707,
          -0.5265902694561188,
          null
         ]
        },
        {
         "line": {
          "color": "mediumaquamarine",
          "shape": "spline",
          "width": 3.2840720193403357
         },
         "mode": "lines",
         "type": "scatter",
         "x": [
          0.02067370944752117,
          0.12745933579319854,
          null
         ],
         "y": [
          -0.5265902694561188,
          -0.011591913284546153,
          null
         ]
        },
        {
         "line": {
          "color": "mediumaquamarine",
          "shape": "spline",
          "width": 2.2368538294402893
         },
         "mode": "lines",
         "type": "scatter",
         "x": [
          0.02067370944752117,
          0.4181423423854575,
          null
         ],
         "y": [
          -0.5265902694561188,
          0.6239107817927818,
          null
         ]
        },
        {
         "line": {
          "color": "mediumaquamarine",
          "shape": "spline",
          "width": 2.2603224696268156
         },
         "mode": "lines",
         "type": "scatter",
         "x": [
          0.02067370944752117,
          0.4265297202957624,
          null
         ],
         "y": [
          -0.5265902694561188,
          0.12725075876147582,
          null
         ]
        },
        {
         "line": {
          "color": "mediumaquamarine",
          "shape": "spline",
          "width": 2.4540194545491305
         },
         "mode": "lines",
         "type": "scatter",
         "x": [
          0.02067370944752117,
          0.43542245663268075,
          null
         ],
         "y": [
          -0.5265902694561188,
          -0.10414829305424074,
          null
         ]
        },
        {
         "line": {
          "color": "mediumaquamarine",
          "shape": "spline",
          "width": 1.8556007362580844
         },
         "mode": "lines",
         "type": "scatter",
         "x": [
          0.02067370944752117,
          0.49266866238085194,
          null
         ],
         "y": [
          -0.5265902694561188,
          0.22602575199709787,
          null
         ]
        },
        {
         "line": {
          "color": "mediumaquamarine",
          "shape": "spline",
          "width": 2.789827435889086
         },
         "mode": "lines",
         "type": "scatter",
         "x": [
          0.02067370944752117,
          -0.06331451558630913,
          null
         ],
         "y": [
          -0.5265902694561188,
          0.20475932869801228,
          null
         ]
        },
        {
         "line": {
          "color": "mediumaquamarine",
          "shape": "spline",
          "width": 1.6952182030724354
         },
         "mode": "lines",
         "type": "scatter",
         "x": [
          0.02067370944752117,
          0.0930722964651772,
          null
         ],
         "y": [
          -0.5265902694561188,
          0.32731155829568764,
          null
         ]
        },
        {
         "line": {
          "color": "mediumaquamarine",
          "shape": "spline",
          "width": 2.2123568222761167
         },
         "mode": "lines",
         "type": "scatter",
         "x": [
          0.02067370944752117,
          0.10211148948176672,
          null
         ],
         "y": [
          -0.5265902694561188,
          0.15742834180931925,
          null
         ]
        },
        {
         "line": {
          "color": "mediumaquamarine",
          "shape": "spline",
          "width": 2
         },
         "mode": "lines",
         "type": "scatter",
         "x": [
          0.02067370944752117,
          0.4037158616863077,
          null
         ],
         "y": [
          -0.5265902694561188,
          0.39917236537401396,
          null
         ]
        },
        {
         "line": {
          "color": "mediumaquamarine",
          "shape": "spline",
          "width": 2.491461879231035
         },
         "mode": "lines",
         "type": "scatter",
         "x": [
          0.02067370944752117,
          0.22110699706511125,
          null
         ],
         "y": [
          -0.5265902694561188,
          0.3851150480864679,
          null
         ]
        },
        {
         "line": {
          "color": "mediumaquamarine",
          "shape": "spline",
          "width": 2.4258048343234657
         },
         "mode": "lines",
         "type": "scatter",
         "x": [
          0.02067370944752117,
          -0.00845723659193862,
          null
         ],
         "y": [
          -0.5265902694561188,
          0.6082815731543112,
          null
         ]
        },
        {
         "line": {
          "color": "mediumaquamarine",
          "shape": "spline",
          "width": 1.933182044931763
         },
         "mode": "lines",
         "type": "scatter",
         "x": [
          0.02067370944752117,
          0.23051820197829137,
          null
         ],
         "y": [
          -0.5265902694561188,
          0.08357126511604072,
          null
         ]
        },
        {
         "line": {
          "color": "mediumaquamarine",
          "shape": "spline",
          "width": 2.2901720489235826
         },
         "mode": "lines",
         "type": "scatter",
         "x": [
          0.02067370944752117,
          0.3190205007059847,
          null
         ],
         "y": [
          -0.5265902694561188,
          0.21006595696001384,
          null
         ]
        },
        {
         "line": {
          "color": "mediumaquamarine",
          "shape": "spline",
          "width": 2.024397458499885
         },
         "mode": "lines",
         "type": "scatter",
         "x": [
          0.02067370944752117,
          -0.29895814654317016,
          null
         ],
         "y": [
          -0.5265902694561188,
          0.22369159560468707,
          null
         ]
        },
        {
         "line": {
          "color": "mediumaquamarine",
          "shape": "spline",
          "width": 2.855950791414727
         },
         "mode": "lines",
         "type": "scatter",
         "x": [
          0.02067370944752117,
          -0.3698298244316851,
          null
         ],
         "y": [
          -0.5265902694561188,
          0.06371605246684918,
          null
         ]
        },
        {
         "line": {
          "color": "mediumaquamarine",
          "shape": "spline",
          "width": 3.4903256749035783
         },
         "mode": "lines",
         "type": "scatter",
         "x": [
          0.02067370944752117,
          -0.20963933369705687,
          null
         ],
         "y": [
          -0.5265902694561188,
          0.5670407089779286,
          null
         ]
        },
        {
         "line": {
          "color": "mediumaquamarine",
          "shape": "spline",
          "width": 2.2368538294402893
         },
         "mode": "lines",
         "type": "scatter",
         "x": [
          0.02067370944752117,
          -0.06213836794857329,
          null
         ],
         "y": [
          -0.5265902694561188,
          0.42367793629745326,
          null
         ]
        },
        {
         "line": {
          "color": "mediumaquamarine",
          "shape": "spline",
          "width": 4.1680807891311815
         },
         "mode": "lines",
         "type": "scatter",
         "x": [
          0.02067370944752117,
          0.2820840078410846,
          null
         ],
         "y": [
          -0.5265902694561188,
          -0.11983553640652553,
          null
         ]
        },
        {
         "line": {
          "color": "mediumaquamarine",
          "shape": "spline",
          "width": 2.486249570212102
         },
         "mode": "lines",
         "type": "scatter",
         "x": [
          0.4265297202957624,
          0.12745933579319854,
          null
         ],
         "y": [
          0.12725075876147582,
          -0.011591913284546153,
          null
         ]
        },
        {
         "line": {
          "color": "mediumaquamarine",
          "shape": "spline",
          "width": 2.806143328984818
         },
         "mode": "lines",
         "type": "scatter",
         "x": [
          0.4265297202957624,
          0.02067370944752117,
          null
         ],
         "y": [
          0.12725075876147582,
          -0.5265902694561188,
          null
         ]
        },
        {
         "line": {
          "color": "mediumaquamarine",
          "shape": "spline",
          "width": 1.6702776523348104
         },
         "mode": "lines",
         "type": "scatter",
         "x": [
          0.4265297202957624,
          0.22110699706511125,
          null
         ],
         "y": [
          0.12725075876147582,
          0.3851150480864679,
          null
         ]
        },
        {
         "line": {
          "color": "mediumaquamarine",
          "shape": "spline",
          "width": 2.024397458499885
         },
         "mode": "lines",
         "type": "scatter",
         "x": [
          0.4265297202957624,
          -0.20963933369705687,
          null
         ],
         "y": [
          0.12725075876147582,
          0.5670407089779286,
          null
         ]
        },
        {
         "line": {
          "color": "mediumaquamarine",
          "shape": "spline",
          "width": 1.6702776523348104
         },
         "mode": "lines",
         "type": "scatter",
         "x": [
          0.4265297202957624,
          -0.06213836794857329,
          null
         ],
         "y": [
          0.12725075876147582,
          0.42367793629745326,
          null
         ]
        },
        {
         "line": {
          "color": "mediumaquamarine",
          "shape": "spline",
          "width": 1.6702776523348104
         },
         "mode": "lines",
         "type": "scatter",
         "x": [
          0.4265297202957624,
          0.2820840078410846,
          null
         ],
         "y": [
          0.12725075876147582,
          -0.11983553640652553,
          null
         ]
        },
        {
         "line": {
          "color": "mediumaquamarine",
          "shape": "spline",
          "width": 1.6702776523348104
         },
         "mode": "lines",
         "type": "scatter",
         "x": [
          0.4181423423854575,
          0.12745933579319854,
          null
         ],
         "y": [
          0.6239107817927818,
          -0.011591913284546153,
          null
         ]
        },
        {
         "line": {
          "color": "mediumaquamarine",
          "shape": "spline",
          "width": 3.2543073936048152
         },
         "mode": "lines",
         "type": "scatter",
         "x": [
          0.4181423423854575,
          0.02067370944752117,
          null
         ],
         "y": [
          0.6239107817927818,
          -0.5265902694561188,
          null
         ]
        },
        {
         "line": {
          "color": "mediumaquamarine",
          "shape": "spline",
          "width": 1.6702776523348104
         },
         "mode": "lines",
         "type": "scatter",
         "x": [
          0.4181423423854575,
          0.4037158616863077,
          null
         ],
         "y": [
          0.6239107817927818,
          0.39917236537401396,
          null
         ]
        },
        {
         "line": {
          "color": "mediumaquamarine",
          "shape": "spline",
          "width": 1.615394266202178
         },
         "mode": "lines",
         "type": "scatter",
         "x": [
          0.4181423423854575,
          -0.20963933369705687,
          null
         ],
         "y": [
          0.6239107817927818,
          0.5670407089779286,
          null
         ]
        },
        {
         "hovertemplate": [
          "George W. Bush",
          "John Bel Edwards",
          "John Kerry",
          "Hillary Clinton",
          "Ryan Winkler",
          "Jeff Sessions",
          "Dustin Burrows",
          "Nancy Pelosi",
          "Joe Biden",
          "Mike Pompeo",
          "Eric Greitens",
          "Paul Ryan",
          "Dan Patrick",
          "Chuck Schumer",
          "Sheldon Silver",
          "Elizabeth Warren",
          "Mike Pence",
          "Jim Davis",
          "Jon Bramnick",
          "Nicholas Mattiello",
          "Scott Garrett",
          "Bill Clinton",
          "Carl Heastie",
          "Kellyanne Conway",
          "Mike Parson",
          "Susana Mendoza",
          "Kate Brown",
          "J.B. Pritzker",
          "Dennis Bonnen",
          "Mitch McConnell",
          "Bruce Rauner",
          "Kane",
          "Barack Obama",
          "Robert Mueller",
          "Brett Kavanaugh",
          "Tim Pawlenty",
          "Donald Trump",
          "James Comey",
          "Steve Bannon",
          "Tim Walz"
         ],
         "marker": {
          "color": [
           "tomato",
           "dodgerblue",
           "dodgerblue",
           "dodgerblue",
           "dodgerblue",
           "tomato",
           "tomato",
           "dodgerblue",
           "dodgerblue",
           "tomato",
           "tomato",
           "tomato",
           "tomato",
           "dodgerblue",
           "dodgerblue",
           "dodgerblue",
           "tomato",
           "tomato",
           "tomato",
           "dodgerblue",
           "tomato",
           "dodgerblue",
           "dodgerblue",
           "tomato",
           "tomato",
           "dodgerblue",
           "dodgerblue",
           "dodgerblue",
           "tomato",
           "tomato",
           "tomato",
           "tomato",
           "dodgerblue",
           "tomato",
           "tomato",
           "tomato",
           "tomato",
           "tomato",
           "tomato",
           "dodgerblue"
          ],
          "line": {
           "color": [
            "darkgreen",
            "darkgreen",
            "darkgreen",
            "darkgreen",
            "darkgreen",
            "darkgreen",
            "darkgreen",
            "darkgreen",
            "darkgreen",
            "darkgreen",
            "darkgreen",
            "darkgreen",
            "darkgreen",
            "darkgreen",
            "darkgreen",
            "darkgreen",
            "darkgreen",
            "darkgreen",
            "darkgreen",
            "darkgreen",
            "gold",
            "gold",
            "gold",
            "gold",
            "gold",
            "gold",
            "gold",
            "gold",
            "gold",
            "gold",
            "gold",
            "gold",
            "gold",
            "gold",
            "gold",
            "gold",
            "gold",
            "gold",
            "gold",
            "gold"
           ],
           "width": [
            3.467422836773934,
            0.5956321622095868,
            1.965485857958954,
            4.2490283082341715,
            0.4863316239347163,
            2.6931825817785424,
            0.5615673879882725,
            3.1642715302657076,
            3.3341216349485485,
            1.9351680634035786,
            1.050596382718834,
            2.072860780011071,
            0.6584961317057682,
            2.5810727029082092,
            0.742883826510545,
            2.8496432635925246,
            2.3407998751501586,
            0.525298191359417,
            0.6278514267443882,
            0.5615673879882725,
            0.4863316239347163,
            4.005475596286168,
            0.5615673879882725,
            1.819686313117098,
            0.5615673879882725,
            0.4863316239347163,
            0.525298191359417,
            0.6877767783794075,
            0.4863316239347163,
            2.6931825817785424,
            0.8654334675314049,
            0.5615673879882725,
            5.842730188706806,
            2.281097513403915,
            1.8518956510465665,
            0.6877767783794075,
            8.565053342361026,
            1.830485733228258,
            2.2637505125001143,
            0.742883826510545
           ]
          },
          "opacity": 1,
          "size": [
           49.03676402247889,
           8.423510819824088,
           27.796167569780714,
           60.09033460411973,
           6.8777677837940745,
           38.08735333098202,
           7.9417621627944905,
           44.74955713132832,
           47.15160034745794,
           27.367409207366183,
           14.857676530210899,
           29.314678280029295,
           9.31254160228517,
           36.50188021923772,
           10.50596382718834,
           40.300041512976776,
           33.103909302386015,
           7.428838265105449,
           8.879160028572116,
           7.9417621627944905,
           6.8777677837940745,
           56.64597912022358,
           7.9417621627944905,
           25.734250632748942,
           7.9417621627944905,
           6.8777677837940745,
           7.428838265105449,
           9.726632478694325,
           6.8777677837940745,
           38.08735333098202,
           12.239077471144885,
           7.9417621627944905,
           82.62868274155879,
           32.25959040551359,
           26.189759458098067,
           9.726632478694325,
           121.1281459921597,
           25.886977496618616,
           32.01426676606706,
           10.50596382718834
          ]
         },
         "mode": "markers",
         "type": "scatter",
         "x": [
          -0.06331451558630913,
          0.4105463427977293,
          0.0930722964651772,
          -0.20963933369705687,
          -0.1023772450677499,
          0.22110699706511125,
          -0.3217658258508049,
          0.43542245663268075,
          -0.3698298244316851,
          0.3190205007059847,
          -0.27627574159589297,
          0.49266866238085194,
          -0.30373882333643226,
          -0.00845723659193862,
          -0.4917659537354641,
          0.23051820197829137,
          0.10211148948176672,
          -0.13949222758755792,
          -0.23739250912506785,
          -0.08267532036126565,
          -0.24442003359607237,
          0.12745933579319854,
          -0.29523840733365425,
          0.12243496008034294,
          -0.027583596687304836,
          -0.2765808510746399,
          -0.14364569830874963,
          -0.0120932173208237,
          -0.088476179648688,
          0.4037158616863077,
          -0.16340950679496163,
          0.021727645382567305,
          0.2820840078410846,
          -0.06213836794857329,
          -0.29895814654317016,
          0.18574534851663735,
          0.02067370944752117,
          0.4265297202957624,
          0.4181423423854575,
          -0.09371131671260978
         ],
         "y": [
          0.20475932869801228,
          -0.41610861787189607,
          0.32731155829568764,
          0.5670407089779286,
          -0.3492185911563668,
          0.3851150480864679,
          -0.5707566465122403,
          -0.10414829305424074,
          0.06371605246684918,
          0.21006595696001384,
          -0.2208390981010104,
          0.22602575199709787,
          -0.8844916011460665,
          0.6082815731543112,
          0.7723024713702134,
          0.08357126511604072,
          0.15742834180931925,
          -0.1649092759976361,
          -0.05672093012213744,
          -1,
          0.00012027614746029643,
          -0.011591913284546153,
          0.9162512400858881,
          0.5809620732093094,
          -0.1974205719797954,
          -0.3132822559552101,
          -0.19764574004406982,
          -0.25935527341615383,
          -0.9983755599740534,
          0.39917236537401396,
          -0.07619383132529833,
          0.0176322599755924,
          -0.11983553640652553,
          0.42367793629745326,
          0.22369159560468707,
          -0.3275837915755566,
          -0.5265902694561188,
          0.12725075876147582,
          0.6239107817927818,
          -0.1232195468016816
         ]
        }
       ],
       "layout": {
        "height": 1000,
        "hoverdistance": 1,
        "margin": {
         "t": 100
        },
        "paper_bgcolor": "rgba(255,255,255,255)",
        "plot_bgcolor": "rgba(0,0,0,0)",
        "scene": {
         "xaxis": {
          "showbackground": false,
          "showgrid": false,
          "showline": false,
          "showticklabels": false,
          "title": {
           "text": ""
          },
          "visible": false,
          "zeroline": false
         },
         "yaxis": {
          "showbackground": false,
          "showgrid": false,
          "showline": false,
          "showticklabels": false,
          "title": {
           "text": ""
          },
          "visible": false,
          "zeroline": false
         }
        },
        "showlegend": false,
        "template": {
         "data": {
          "bar": [
           {
            "error_x": {
             "color": "#2a3f5f"
            },
            "error_y": {
             "color": "#2a3f5f"
            },
            "marker": {
             "line": {
              "color": "#E5ECF6",
              "width": 0.5
             },
             "pattern": {
              "fillmode": "overlay",
              "size": 10,
              "solidity": 0.2
             }
            },
            "type": "bar"
           }
          ],
          "barpolar": [
           {
            "marker": {
             "line": {
              "color": "#E5ECF6",
              "width": 0.5
             },
             "pattern": {
              "fillmode": "overlay",
              "size": 10,
              "solidity": 0.2
             }
            },
            "type": "barpolar"
           }
          ],
          "carpet": [
           {
            "aaxis": {
             "endlinecolor": "#2a3f5f",
             "gridcolor": "white",
             "linecolor": "white",
             "minorgridcolor": "white",
             "startlinecolor": "#2a3f5f"
            },
            "baxis": {
             "endlinecolor": "#2a3f5f",
             "gridcolor": "white",
             "linecolor": "white",
             "minorgridcolor": "white",
             "startlinecolor": "#2a3f5f"
            },
            "type": "carpet"
           }
          ],
          "choropleth": [
           {
            "colorbar": {
             "outlinewidth": 0,
             "ticks": ""
            },
            "type": "choropleth"
           }
          ],
          "contour": [
           {
            "colorbar": {
             "outlinewidth": 0,
             "ticks": ""
            },
            "colorscale": [
             [
              0,
              "#0d0887"
             ],
             [
              0.1111111111111111,
              "#46039f"
             ],
             [
              0.2222222222222222,
              "#7201a8"
             ],
             [
              0.3333333333333333,
              "#9c179e"
             ],
             [
              0.4444444444444444,
              "#bd3786"
             ],
             [
              0.5555555555555556,
              "#d8576b"
             ],
             [
              0.6666666666666666,
              "#ed7953"
             ],
             [
              0.7777777777777778,
              "#fb9f3a"
             ],
             [
              0.8888888888888888,
              "#fdca26"
             ],
             [
              1,
              "#f0f921"
             ]
            ],
            "type": "contour"
           }
          ],
          "contourcarpet": [
           {
            "colorbar": {
             "outlinewidth": 0,
             "ticks": ""
            },
            "type": "contourcarpet"
           }
          ],
          "heatmap": [
           {
            "colorbar": {
             "outlinewidth": 0,
             "ticks": ""
            },
            "colorscale": [
             [
              0,
              "#0d0887"
             ],
             [
              0.1111111111111111,
              "#46039f"
             ],
             [
              0.2222222222222222,
              "#7201a8"
             ],
             [
              0.3333333333333333,
              "#9c179e"
             ],
             [
              0.4444444444444444,
              "#bd3786"
             ],
             [
              0.5555555555555556,
              "#d8576b"
             ],
             [
              0.6666666666666666,
              "#ed7953"
             ],
             [
              0.7777777777777778,
              "#fb9f3a"
             ],
             [
              0.8888888888888888,
              "#fdca26"
             ],
             [
              1,
              "#f0f921"
             ]
            ],
            "type": "heatmap"
           }
          ],
          "heatmapgl": [
           {
            "colorbar": {
             "outlinewidth": 0,
             "ticks": ""
            },
            "colorscale": [
             [
              0,
              "#0d0887"
             ],
             [
              0.1111111111111111,
              "#46039f"
             ],
             [
              0.2222222222222222,
              "#7201a8"
             ],
             [
              0.3333333333333333,
              "#9c179e"
             ],
             [
              0.4444444444444444,
              "#bd3786"
             ],
             [
              0.5555555555555556,
              "#d8576b"
             ],
             [
              0.6666666666666666,
              "#ed7953"
             ],
             [
              0.7777777777777778,
              "#fb9f3a"
             ],
             [
              0.8888888888888888,
              "#fdca26"
             ],
             [
              1,
              "#f0f921"
             ]
            ],
            "type": "heatmapgl"
           }
          ],
          "histogram": [
           {
            "marker": {
             "pattern": {
              "fillmode": "overlay",
              "size": 10,
              "solidity": 0.2
             }
            },
            "type": "histogram"
           }
          ],
          "histogram2d": [
           {
            "colorbar": {
             "outlinewidth": 0,
             "ticks": ""
            },
            "colorscale": [
             [
              0,
              "#0d0887"
             ],
             [
              0.1111111111111111,
              "#46039f"
             ],
             [
              0.2222222222222222,
              "#7201a8"
             ],
             [
              0.3333333333333333,
              "#9c179e"
             ],
             [
              0.4444444444444444,
              "#bd3786"
             ],
             [
              0.5555555555555556,
              "#d8576b"
             ],
             [
              0.6666666666666666,
              "#ed7953"
             ],
             [
              0.7777777777777778,
              "#fb9f3a"
             ],
             [
              0.8888888888888888,
              "#fdca26"
             ],
             [
              1,
              "#f0f921"
             ]
            ],
            "type": "histogram2d"
           }
          ],
          "histogram2dcontour": [
           {
            "colorbar": {
             "outlinewidth": 0,
             "ticks": ""
            },
            "colorscale": [
             [
              0,
              "#0d0887"
             ],
             [
              0.1111111111111111,
              "#46039f"
             ],
             [
              0.2222222222222222,
              "#7201a8"
             ],
             [
              0.3333333333333333,
              "#9c179e"
             ],
             [
              0.4444444444444444,
              "#bd3786"
             ],
             [
              0.5555555555555556,
              "#d8576b"
             ],
             [
              0.6666666666666666,
              "#ed7953"
             ],
             [
              0.7777777777777778,
              "#fb9f3a"
             ],
             [
              0.8888888888888888,
              "#fdca26"
             ],
             [
              1,
              "#f0f921"
             ]
            ],
            "type": "histogram2dcontour"
           }
          ],
          "mesh3d": [
           {
            "colorbar": {
             "outlinewidth": 0,
             "ticks": ""
            },
            "type": "mesh3d"
           }
          ],
          "parcoords": [
           {
            "line": {
             "colorbar": {
              "outlinewidth": 0,
              "ticks": ""
             }
            },
            "type": "parcoords"
           }
          ],
          "pie": [
           {
            "automargin": true,
            "type": "pie"
           }
          ],
          "scatter": [
           {
            "marker": {
             "colorbar": {
              "outlinewidth": 0,
              "ticks": ""
             }
            },
            "type": "scatter"
           }
          ],
          "scatter3d": [
           {
            "line": {
             "colorbar": {
              "outlinewidth": 0,
              "ticks": ""
             }
            },
            "marker": {
             "colorbar": {
              "outlinewidth": 0,
              "ticks": ""
             }
            },
            "type": "scatter3d"
           }
          ],
          "scattercarpet": [
           {
            "marker": {
             "colorbar": {
              "outlinewidth": 0,
              "ticks": ""
             }
            },
            "type": "scattercarpet"
           }
          ],
          "scattergeo": [
           {
            "marker": {
             "colorbar": {
              "outlinewidth": 0,
              "ticks": ""
             }
            },
            "type": "scattergeo"
           }
          ],
          "scattergl": [
           {
            "marker": {
             "colorbar": {
              "outlinewidth": 0,
              "ticks": ""
             }
            },
            "type": "scattergl"
           }
          ],
          "scattermapbox": [
           {
            "marker": {
             "colorbar": {
              "outlinewidth": 0,
              "ticks": ""
             }
            },
            "type": "scattermapbox"
           }
          ],
          "scatterpolar": [
           {
            "marker": {
             "colorbar": {
              "outlinewidth": 0,
              "ticks": ""
             }
            },
            "type": "scatterpolar"
           }
          ],
          "scatterpolargl": [
           {
            "marker": {
             "colorbar": {
              "outlinewidth": 0,
              "ticks": ""
             }
            },
            "type": "scatterpolargl"
           }
          ],
          "scatterternary": [
           {
            "marker": {
             "colorbar": {
              "outlinewidth": 0,
              "ticks": ""
             }
            },
            "type": "scatterternary"
           }
          ],
          "surface": [
           {
            "colorbar": {
             "outlinewidth": 0,
             "ticks": ""
            },
            "colorscale": [
             [
              0,
              "#0d0887"
             ],
             [
              0.1111111111111111,
              "#46039f"
             ],
             [
              0.2222222222222222,
              "#7201a8"
             ],
             [
              0.3333333333333333,
              "#9c179e"
             ],
             [
              0.4444444444444444,
              "#bd3786"
             ],
             [
              0.5555555555555556,
              "#d8576b"
             ],
             [
              0.6666666666666666,
              "#ed7953"
             ],
             [
              0.7777777777777778,
              "#fb9f3a"
             ],
             [
              0.8888888888888888,
              "#fdca26"
             ],
             [
              1,
              "#f0f921"
             ]
            ],
            "type": "surface"
           }
          ],
          "table": [
           {
            "cells": {
             "fill": {
              "color": "#EBF0F8"
             },
             "line": {
              "color": "white"
             }
            },
            "header": {
             "fill": {
              "color": "#C8D4E3"
             },
             "line": {
              "color": "white"
             }
            },
            "type": "table"
           }
          ]
         },
         "layout": {
          "annotationdefaults": {
           "arrowcolor": "#2a3f5f",
           "arrowhead": 0,
           "arrowwidth": 1
          },
          "autotypenumbers": "strict",
          "coloraxis": {
           "colorbar": {
            "outlinewidth": 0,
            "ticks": ""
           }
          },
          "colorscale": {
           "diverging": [
            [
             0,
             "#8e0152"
            ],
            [
             0.1,
             "#c51b7d"
            ],
            [
             0.2,
             "#de77ae"
            ],
            [
             0.3,
             "#f1b6da"
            ],
            [
             0.4,
             "#fde0ef"
            ],
            [
             0.5,
             "#f7f7f7"
            ],
            [
             0.6,
             "#e6f5d0"
            ],
            [
             0.7,
             "#b8e186"
            ],
            [
             0.8,
             "#7fbc41"
            ],
            [
             0.9,
             "#4d9221"
            ],
            [
             1,
             "#276419"
            ]
           ],
           "sequential": [
            [
             0,
             "#0d0887"
            ],
            [
             0.1111111111111111,
             "#46039f"
            ],
            [
             0.2222222222222222,
             "#7201a8"
            ],
            [
             0.3333333333333333,
             "#9c179e"
            ],
            [
             0.4444444444444444,
             "#bd3786"
            ],
            [
             0.5555555555555556,
             "#d8576b"
            ],
            [
             0.6666666666666666,
             "#ed7953"
            ],
            [
             0.7777777777777778,
             "#fb9f3a"
            ],
            [
             0.8888888888888888,
             "#fdca26"
            ],
            [
             1,
             "#f0f921"
            ]
           ],
           "sequentialminus": [
            [
             0,
             "#0d0887"
            ],
            [
             0.1111111111111111,
             "#46039f"
            ],
            [
             0.2222222222222222,
             "#7201a8"
            ],
            [
             0.3333333333333333,
             "#9c179e"
            ],
            [
             0.4444444444444444,
             "#bd3786"
            ],
            [
             0.5555555555555556,
             "#d8576b"
            ],
            [
             0.6666666666666666,
             "#ed7953"
            ],
            [
             0.7777777777777778,
             "#fb9f3a"
            ],
            [
             0.8888888888888888,
             "#fdca26"
            ],
            [
             1,
             "#f0f921"
            ]
           ]
          },
          "colorway": [
           "#636efa",
           "#EF553B",
           "#00cc96",
           "#ab63fa",
           "#FFA15A",
           "#19d3f3",
           "#FF6692",
           "#B6E880",
           "#FF97FF",
           "#FECB52"
          ],
          "font": {
           "color": "#2a3f5f"
          },
          "geo": {
           "bgcolor": "white",
           "lakecolor": "white",
           "landcolor": "#E5ECF6",
           "showlakes": true,
           "showland": true,
           "subunitcolor": "white"
          },
          "hoverlabel": {
           "align": "left"
          },
          "hovermode": "closest",
          "mapbox": {
           "style": "light"
          },
          "paper_bgcolor": "white",
          "plot_bgcolor": "#E5ECF6",
          "polar": {
           "angularaxis": {
            "gridcolor": "white",
            "linecolor": "white",
            "ticks": ""
           },
           "bgcolor": "#E5ECF6",
           "radialaxis": {
            "gridcolor": "white",
            "linecolor": "white",
            "ticks": ""
           }
          },
          "scene": {
           "xaxis": {
            "backgroundcolor": "#E5ECF6",
            "gridcolor": "white",
            "gridwidth": 2,
            "linecolor": "white",
            "showbackground": true,
            "ticks": "",
            "zerolinecolor": "white"
           },
           "yaxis": {
            "backgroundcolor": "#E5ECF6",
            "gridcolor": "white",
            "gridwidth": 2,
            "linecolor": "white",
            "showbackground": true,
            "ticks": "",
            "zerolinecolor": "white"
           },
           "zaxis": {
            "backgroundcolor": "#E5ECF6",
            "gridcolor": "white",
            "gridwidth": 2,
            "linecolor": "white",
            "showbackground": true,
            "ticks": "",
            "zerolinecolor": "white"
           }
          },
          "shapedefaults": {
           "line": {
            "color": "#2a3f5f"
           }
          },
          "ternary": {
           "aaxis": {
            "gridcolor": "white",
            "linecolor": "white",
            "ticks": ""
           },
           "baxis": {
            "gridcolor": "white",
            "linecolor": "white",
            "ticks": ""
           },
           "bgcolor": "#E5ECF6",
           "caxis": {
            "gridcolor": "white",
            "linecolor": "white",
            "ticks": ""
           }
          },
          "title": {
           "x": 0.05
          },
          "xaxis": {
           "automargin": true,
           "gridcolor": "white",
           "linecolor": "white",
           "ticks": "",
           "title": {
            "standoff": 15
           },
           "zerolinecolor": "white",
           "zerolinewidth": 2
          },
          "yaxis": {
           "automargin": true,
           "gridcolor": "white",
           "linecolor": "white",
           "ticks": "",
           "title": {
            "standoff": 15
           },
           "zerolinecolor": "white",
           "zerolinewidth": 2
          }
         }
        },
        "width": 1000,
        "xaxis": {
         "visible": false
        },
        "yaxis": {
         "visible": false
        }
       }
      }
     },
     "metadata": {},
     "output_type": "display_data"
    }
   ],
   "source": [
    "plotly_graph(g_centers,Laycentr,labels_centr,party_col_centr,colmap_centr,centrality)"
   ]
  }
 ],
 "metadata": {
  "interpreter": {
   "hash": "3b55f20b1d0618b20c2aa65a9063ea807c0869a2d017e9d59b50892a47715681"
  },
  "kernelspec": {
   "display_name": "Python 3.9.7 64-bit ('ADA': conda)",
   "language": "python",
   "name": "python3"
  },
  "language_info": {
   "codemirror_mode": {
    "name": "ipython",
    "version": 3
   },
   "file_extension": ".py",
   "mimetype": "text/x-python",
   "name": "python",
   "nbconvert_exporter": "python",
   "pygments_lexer": "ipython3",
   "version": "3.9.7"
  },
  "orig_nbformat": 4
 },
 "nbformat": 4,
 "nbformat_minor": 2
}
