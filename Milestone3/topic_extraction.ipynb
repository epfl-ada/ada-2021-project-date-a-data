{
 "cells": [
  {
   "cell_type": "code",
   "execution_count": 1,
   "metadata": {},
   "outputs": [],
   "source": [
    "import datetime\n",
    "import numpy as np\n",
    "import pandas as pd\n",
    "import gensim\n",
    "from gensim.test.utils import common_texts\n",
    "from gensim.corpora.dictionary import Dictionary\n",
    "from gensim.models import LdaModel\n",
    "from nltk.sentiment.vader import SentimentIntensityAnalyzer\n",
    "from nltk.stem import PorterStemmer, SnowballStemmer\n",
    "from nltk.stem.wordnet import WordNetLemmatizer\n",
    "from nltk.tokenize import word_tokenize"
   ]
  },
  {
   "cell_type": "code",
   "execution_count": 11,
   "metadata": {},
   "outputs": [],
   "source": [
    "def lemmatize_stemming(stemmer, text):\n",
    "    '''lemmatize and stem the text to get key tokens'''\n",
    "    return stemmer.stem(WordNetLemmatizer().lemmatize(text, pos='v'))\n",
    "\n",
    "# Tokenize and lemmatize\n",
    "def preprocess(text, names):\n",
    "    '''preprocess the quotation list and extract tokens to dictionary'''\n",
    "    result=[]\n",
    "    for token in gensim.utils.simple_preprocess(text):\n",
    "        if token not in gensim.parsing.preprocessing.STOPWORDS and len(token) > 3 and token not in names:\n",
    "            result.append(lemmatize_stemming(SnowballStemmer(\"english\"), token))\n",
    "    return result\n",
    "\n"
   ]
  },
  {
   "cell_type": "code",
   "execution_count": 4,
   "metadata": {},
   "outputs": [],
   "source": [
    "# import all quotations data of US\n",
    "USA_DATA = '../data/quotes_mentions_USA_compact.json.bz2'\n",
    "df = pd.read_json(USA_DATA, lines=True, compression='bz2' )"
   ]
  },
  {
   "cell_type": "code",
   "execution_count": 5,
   "metadata": {},
   "outputs": [
    {
     "data": {
      "text/html": [
       "<div>\n",
       "<style scoped>\n",
       "    .dataframe tbody tr th:only-of-type {\n",
       "        vertical-align: middle;\n",
       "    }\n",
       "\n",
       "    .dataframe tbody tr th {\n",
       "        vertical-align: top;\n",
       "    }\n",
       "\n",
       "    .dataframe thead th {\n",
       "        text-align: right;\n",
       "    }\n",
       "</style>\n",
       "<table border=\"1\" class=\"dataframe\">\n",
       "  <thead>\n",
       "    <tr style=\"text-align: right;\">\n",
       "      <th></th>\n",
       "      <th>quoteID</th>\n",
       "      <th>quotation</th>\n",
       "      <th>speaker</th>\n",
       "      <th>qids</th>\n",
       "      <th>date</th>\n",
       "      <th>numOccurrences</th>\n",
       "      <th>phase</th>\n",
       "      <th>mentions</th>\n",
       "      <th>mentions_qids</th>\n",
       "      <th>urls</th>\n",
       "    </tr>\n",
       "  </thead>\n",
       "  <tbody>\n",
       "    <tr>\n",
       "      <th>0</th>\n",
       "      <td>2015-10-25-000242</td>\n",
       "      <td>' It is not now, nor has it ever been, the gol...</td>\n",
       "      <td>Bernie Sanders</td>\n",
       "      <td>Q359442</td>\n",
       "      <td>2015-10-25 14:12:35</td>\n",
       "      <td>1</td>\n",
       "      <td>E</td>\n",
       "      <td>[Bill Clinton]</td>\n",
       "      <td>[Q1124]</td>\n",
       "      <td>[examiner.com]</td>\n",
       "    </tr>\n",
       "    <tr>\n",
       "      <th>1</th>\n",
       "      <td>2015-08-07-005048</td>\n",
       "      <td>All we ╒ re asking for here is a discussion an...</td>\n",
       "      <td>John Boehner</td>\n",
       "      <td>Q11702</td>\n",
       "      <td>2015-08-07 12:52:52</td>\n",
       "      <td>1</td>\n",
       "      <td>E</td>\n",
       "      <td>[Barack Obama]</td>\n",
       "      <td>[Q76]</td>\n",
       "      <td>[liveblog.irishtimes.com]</td>\n",
       "    </tr>\n",
       "    <tr>\n",
       "      <th>2</th>\n",
       "      <td>2015-10-01-005722</td>\n",
       "      <td>An email included in the latest tranche of Cli...</td>\n",
       "      <td>Hillary Clinton</td>\n",
       "      <td>Q6294</td>\n",
       "      <td>2015-10-01 14:56:48</td>\n",
       "      <td>2</td>\n",
       "      <td>E</td>\n",
       "      <td>[Bill Clinton]</td>\n",
       "      <td>[Q1124]</td>\n",
       "      <td>[feeds.foxnews.com, www.foxnews.com]</td>\n",
       "    </tr>\n",
       "    <tr>\n",
       "      <th>3</th>\n",
       "      <td>2015-11-17-006368</td>\n",
       "      <td>and in fact, Secretary of State Kerry was earl...</td>\n",
       "      <td>Phil Bryant</td>\n",
       "      <td>Q887898</td>\n",
       "      <td>2015-11-17 20:03:05</td>\n",
       "      <td>1</td>\n",
       "      <td>E</td>\n",
       "      <td>[John Kerry]</td>\n",
       "      <td>[Q22316]</td>\n",
       "      <td>[hottytoddy.com]</td>\n",
       "    </tr>\n",
       "    <tr>\n",
       "      <th>4</th>\n",
       "      <td>2015-02-14-014011</td>\n",
       "      <td>I have fought Obamacare from Day One and will ...</td>\n",
       "      <td>John Cornyn</td>\n",
       "      <td>Q719568</td>\n",
       "      <td>2015-02-14 21:01:51</td>\n",
       "      <td>2</td>\n",
       "      <td>E</td>\n",
       "      <td>[Barack Obama]</td>\n",
       "      <td>[Q76]</td>\n",
       "      <td>[www.politico.com, politico.com]</td>\n",
       "    </tr>\n",
       "  </tbody>\n",
       "</table>\n",
       "</div>"
      ],
      "text/plain": [
       "             quoteID                                          quotation  \\\n",
       "0  2015-10-25-000242  ' It is not now, nor has it ever been, the gol...   \n",
       "1  2015-08-07-005048  All we ╒ re asking for here is a discussion an...   \n",
       "2  2015-10-01-005722  An email included in the latest tranche of Cli...   \n",
       "3  2015-11-17-006368  and in fact, Secretary of State Kerry was earl...   \n",
       "4  2015-02-14-014011  I have fought Obamacare from Day One and will ...   \n",
       "\n",
       "           speaker     qids                date  numOccurrences phase  \\\n",
       "0   Bernie Sanders  Q359442 2015-10-25 14:12:35               1     E   \n",
       "1     John Boehner   Q11702 2015-08-07 12:52:52               1     E   \n",
       "2  Hillary Clinton    Q6294 2015-10-01 14:56:48               2     E   \n",
       "3      Phil Bryant  Q887898 2015-11-17 20:03:05               1     E   \n",
       "4      John Cornyn  Q719568 2015-02-14 21:01:51               2     E   \n",
       "\n",
       "         mentions mentions_qids                                  urls  \n",
       "0  [Bill Clinton]       [Q1124]                        [examiner.com]  \n",
       "1  [Barack Obama]         [Q76]             [liveblog.irishtimes.com]  \n",
       "2  [Bill Clinton]       [Q1124]  [feeds.foxnews.com, www.foxnews.com]  \n",
       "3    [John Kerry]      [Q22316]                      [hottytoddy.com]  \n",
       "4  [Barack Obama]         [Q76]      [www.politico.com, politico.com]  "
      ]
     },
     "execution_count": 5,
     "metadata": {},
     "output_type": "execute_result"
    }
   ],
   "source": [
    "df.head()"
   ]
  },
  {
   "cell_type": "code",
   "execution_count": 9,
   "metadata": {},
   "outputs": [
    {
     "data": {
      "text/html": [
       "<div>\n",
       "<style scoped>\n",
       "    .dataframe tbody tr th:only-of-type {\n",
       "        vertical-align: middle;\n",
       "    }\n",
       "\n",
       "    .dataframe tbody tr th {\n",
       "        vertical-align: top;\n",
       "    }\n",
       "\n",
       "    .dataframe thead th {\n",
       "        text-align: right;\n",
       "    }\n",
       "</style>\n",
       "<table border=\"1\" class=\"dataframe\">\n",
       "  <thead>\n",
       "    <tr style=\"text-align: right;\">\n",
       "      <th></th>\n",
       "      <th>quoteID</th>\n",
       "      <th>quotation</th>\n",
       "      <th>speaker</th>\n",
       "      <th>qids</th>\n",
       "      <th>date</th>\n",
       "      <th>numOccurrences</th>\n",
       "      <th>phase</th>\n",
       "      <th>mentions</th>\n",
       "      <th>mentions_qids</th>\n",
       "      <th>urls</th>\n",
       "    </tr>\n",
       "  </thead>\n",
       "  <tbody>\n",
       "    <tr>\n",
       "      <th>423280</th>\n",
       "      <td>2020-02-07-012379</td>\n",
       "      <td>but [ President ] Trump (was) eager to make a ...</td>\n",
       "      <td>President Donald Trump</td>\n",
       "      <td>Q22686</td>\n",
       "      <td>2020-02-07 23:05:05</td>\n",
       "      <td>1</td>\n",
       "      <td>E</td>\n",
       "      <td>[Donald Trump]</td>\n",
       "      <td>[Q22686]</td>\n",
       "      <td>[uspolitics.einnews.com]</td>\n",
       "    </tr>\n",
       "    <tr>\n",
       "      <th>423281</th>\n",
       "      <td>2020-01-29-019304</td>\n",
       "      <td>Even if it's all true, exactly in the worst-ca...</td>\n",
       "      <td>Kevin Cramer</td>\n",
       "      <td>Q3957020</td>\n",
       "      <td>2020-01-29 01:01:16</td>\n",
       "      <td>1</td>\n",
       "      <td>E</td>\n",
       "      <td>[John R. Bolton, Joe Biden]</td>\n",
       "      <td>[Q311269, Q6279]</td>\n",
       "      <td>[www.washingtonexaminer.com]</td>\n",
       "    </tr>\n",
       "    <tr>\n",
       "      <th>423282</th>\n",
       "      <td>2020-01-02-019876</td>\n",
       "      <td>I enjoy your analysis and instruction on polli...</td>\n",
       "      <td>Steve Bartlett</td>\n",
       "      <td>Q185480</td>\n",
       "      <td>2020-01-02 00:00:00</td>\n",
       "      <td>1</td>\n",
       "      <td>E</td>\n",
       "      <td>[Donald Trump]</td>\n",
       "      <td>[Q22686]</td>\n",
       "      <td>[feeds.foxnews.com]</td>\n",
       "    </tr>\n",
       "    <tr>\n",
       "      <th>423283</th>\n",
       "      <td>2020-01-27-036296</td>\n",
       "      <td>If your last name was not Biden, do you think ...</td>\n",
       "      <td>Joe Biden</td>\n",
       "      <td>Q6279</td>\n",
       "      <td>2020-01-27 14:33:49</td>\n",
       "      <td>14</td>\n",
       "      <td>E</td>\n",
       "      <td>[Joe Biden]</td>\n",
       "      <td>[Q6279]</td>\n",
       "      <td>[www.nytimes.com]</td>\n",
       "    </tr>\n",
       "    <tr>\n",
       "      <th>423284</th>\n",
       "      <td>2020-04-09-027891</td>\n",
       "      <td>In short, the Clinton administration's policy ...</td>\n",
       "      <td>President Bill Clinton</td>\n",
       "      <td>Q1124</td>\n",
       "      <td>2020-04-09 17:54:15</td>\n",
       "      <td>1</td>\n",
       "      <td>E</td>\n",
       "      <td>[Bill Clinton]</td>\n",
       "      <td>[Q1124]</td>\n",
       "      <td>[www.globalresearch.ca]</td>\n",
       "    </tr>\n",
       "  </tbody>\n",
       "</table>\n",
       "</div>"
      ],
      "text/plain": [
       "                  quoteID                                          quotation  \\\n",
       "423280  2020-02-07-012379  but [ President ] Trump (was) eager to make a ...   \n",
       "423281  2020-01-29-019304  Even if it's all true, exactly in the worst-ca...   \n",
       "423282  2020-01-02-019876  I enjoy your analysis and instruction on polli...   \n",
       "423283  2020-01-27-036296  If your last name was not Biden, do you think ...   \n",
       "423284  2020-04-09-027891  In short, the Clinton administration's policy ...   \n",
       "\n",
       "                       speaker      qids                date  numOccurrences  \\\n",
       "423280  President Donald Trump    Q22686 2020-02-07 23:05:05               1   \n",
       "423281            Kevin Cramer  Q3957020 2020-01-29 01:01:16               1   \n",
       "423282          Steve Bartlett   Q185480 2020-01-02 00:00:00               1   \n",
       "423283               Joe Biden     Q6279 2020-01-27 14:33:49              14   \n",
       "423284  President Bill Clinton     Q1124 2020-04-09 17:54:15               1   \n",
       "\n",
       "       phase                     mentions     mentions_qids  \\\n",
       "423280     E               [Donald Trump]          [Q22686]   \n",
       "423281     E  [John R. Bolton, Joe Biden]  [Q311269, Q6279]   \n",
       "423282     E               [Donald Trump]          [Q22686]   \n",
       "423283     E                  [Joe Biden]           [Q6279]   \n",
       "423284     E               [Bill Clinton]           [Q1124]   \n",
       "\n",
       "                                urls  \n",
       "423280      [uspolitics.einnews.com]  \n",
       "423281  [www.washingtonexaminer.com]  \n",
       "423282           [feeds.foxnews.com]  \n",
       "423283             [www.nytimes.com]  \n",
       "423284       [www.globalresearch.ca]  "
      ]
     },
     "execution_count": 9,
     "metadata": {},
     "output_type": "execute_result"
    }
   ],
   "source": [
    "df_2020 = df[df[\"date\"] > pd.Timestamp(2020,1,1)]\n",
    "df_2020.head(5)"
   ]
  },
  {
   "cell_type": "code",
   "execution_count": 14,
   "metadata": {},
   "outputs": [
    {
     "data": {
      "text/plain": [
       "(14712, 168493)"
      ]
     },
     "execution_count": 14,
     "metadata": {},
     "output_type": "execute_result"
    }
   ],
   "source": [
    "# import politician properties and get their names\n",
    "POLITICIAN = \"../data/filtered_politician_labeled_v3.json.bz2\"\n",
    "pol_df = pd.read_json(POLITICIAN, lines=True, compression='bz2')\n",
    "\n",
    "# global\n",
    "process_names = [gensim.utils.simple_preprocess(name) for name in pol_df[\"name\"].tolist()]\n",
    "global_pol_list = [n for names in process_names for n in names]\n",
    "global_pol_names = frozenset(global_pol_list)\n",
    "\n",
    "# US\n",
    "us_pol_df = pol_df[pol_df[\"nationality\"] == \"Q30\"]\n",
    "process_names = [gensim.utils.simple_preprocess(name) for name in us_pol_df[\"name\"].tolist()]\n",
    "# flatten list\n",
    "us_pol_list = [n for names in process_names for n in names]\n",
    "us_pol_names = frozenset(us_pol_list)\n",
    "\n",
    "len(us_pol_names), len(global_pol_names)"
   ]
  },
  {
   "cell_type": "code",
   "execution_count": 16,
   "metadata": {},
   "outputs": [
    {
     "name": "stdout",
     "output_type": "stream",
     "text": [
      "22.1 ns ± 0.0374 ns per loop (mean ± std. dev. of 7 runs, 10000000 loops each)\n",
      "38.9 µs ± 97.2 ns per loop (mean ± std. dev. of 7 runs, 10000 loops each)\n",
      "28.2 ns ± 0.208 ns per loop (mean ± std. dev. of 7 runs, 10000000 loops each)\n",
      "9.56 µs ± 12.8 ns per loop (mean ± std. dev. of 7 runs, 100000 loops each)\n"
     ]
    }
   ],
   "source": [
    "# speed test \n",
    "%timeit \"clinton\" in us_pol_names\n",
    "%timeit \"clinton\" in us_pol_list\n",
    "%timeit \"clinton\" in global_pol_names\n",
    "%timeit \"clinton\" in global_pol_list # idk why this is the fastest, maybe cache?\n"
   ]
  },
  {
   "cell_type": "code",
   "execution_count": 18,
   "metadata": {},
   "outputs": [
    {
     "name": "stdout",
     "output_type": "stream",
     "text": [
      "Sample quotation:  but [ President ] Trump (was) eager to make a symbol of the Army officer sooner after the Senate acquitted him of the impeachment charges approved by House Democrats.\n"
     ]
    },
    {
     "data": {
      "text/plain": [
       "['presid',\n",
       " 'eager',\n",
       " 'symbol',\n",
       " 'armi',\n",
       " 'sooner',\n",
       " 'senat',\n",
       " 'acquit',\n",
       " 'impeach',\n",
       " 'charg',\n",
       " 'approv',\n",
       " 'democrat']"
      ]
     },
     "execution_count": 18,
     "metadata": {},
     "output_type": "execute_result"
    }
   ],
   "source": [
    "# pass in name list to remove politician names\n",
    "sample_quote = df_2020['quotation'].iloc[0]\n",
    "print(\"Sample quotation: \", sample_quote)\n",
    "preprocess(sample_quote, us_pol_names)"
   ]
  },
  {
   "cell_type": "code",
   "execution_count": 19,
   "metadata": {},
   "outputs": [],
   "source": [
    "# process 2020 data\n",
    "processed_docs = []\n",
    "for quotation in df_2020['quotation'].tolist():\n",
    "    processed_docs.append(preprocess(quotation, us_pol_names))\n",
    "dictionary = gensim.corpora.Dictionary(processed_docs) #words into corpus\n",
    "bow_corpus = [dictionary.doc2bow(doc) for doc in processed_docs] #convert to bag of words"
   ]
  },
  {
   "cell_type": "code",
   "execution_count": 20,
   "metadata": {},
   "outputs": [],
   "source": [
    "# save model\n",
    "num_topics = 8\n",
    "lda_2020 =  gensim.models.LdaMulticore(bow_corpus, \n",
    "                                   num_topics = num_topics, \n",
    "                                   id2word = dictionary,                                    \n",
    "                                   passes = 10)\n",
    "MODEL_PATH = \"./lda_model_2020\"\n",
    "lda_2020.save(MODEL_PATH)"
   ]
  },
  {
   "cell_type": "code",
   "execution_count": 22,
   "metadata": {},
   "outputs": [
    {
     "name": "stdout",
     "output_type": "stream",
     "text": [
      "Topic: 0 \n",
      "Words: 0.040*\"presid\" + 0.028*\"american\" + 0.014*\"peopl\" + 0.011*\"state\" + 0.009*\"administr\" + 0.008*\"countri\" + 0.007*\"america\" + 0.007*\"iran\" + 0.006*\"unit\" + 0.006*\"work\"\n",
      "\n",
      "\n",
      "Topic: 1 \n",
      "Words: 0.036*\"go\" + 0.029*\"think\" + 0.020*\"beat\" + 0.019*\"peopl\" + 0.018*\"presid\" + 0.013*\"work\" + 0.011*\"come\" + 0.010*\"candid\" + 0.010*\"like\" + 0.010*\"defeat\"\n",
      "\n",
      "\n",
      "Topic: 2 \n",
      "Words: 0.020*\"administr\" + 0.015*\"say\" + 0.012*\"peopl\" + 0.012*\"state\" + 0.011*\"presid\" + 0.009*\"want\" + 0.007*\"protect\" + 0.006*\"need\" + 0.006*\"american\" + 0.006*\"govern\"\n",
      "\n",
      "\n",
      "Topic: 3 \n",
      "Words: 0.033*\"presid\" + 0.032*\"senat\" + 0.019*\"vote\" + 0.017*\"democrat\" + 0.014*\"trial\" + 0.013*\"impeach\" + 0.012*\"republican\" + 0.012*\"wit\" + 0.012*\"say\" + 0.010*\"support\"\n",
      "\n",
      "\n",
      "Topic: 4 \n",
      "Words: 0.028*\"presid\" + 0.015*\"state\" + 0.012*\"know\" + 0.012*\"like\" + 0.011*\"work\" + 0.011*\"think\" + 0.011*\"peopl\" + 0.011*\"want\" + 0.008*\"year\" + 0.006*\"democrat\"\n",
      "\n",
      "\n",
      "Topic: 5 \n",
      "Words: 0.049*\"presid\" + 0.016*\"know\" + 0.010*\"say\" + 0.010*\"state\" + 0.009*\"year\" + 0.009*\"go\" + 0.009*\"democrat\" + 0.008*\"need\" + 0.007*\"trade\" + 0.007*\"right\"\n",
      "\n",
      "\n",
      "Topic: 6 \n",
      "Words: 0.019*\"democrat\" + 0.017*\"presid\" + 0.014*\"elect\" + 0.012*\"investig\" + 0.011*\"talk\" + 0.011*\"like\" + 0.011*\"ukrain\" + 0.010*\"say\" + 0.009*\"want\" + 0.008*\"candid\"\n",
      "\n",
      "\n",
      "Topic: 7 \n",
      "Words: 0.026*\"presid\" + 0.024*\"think\" + 0.011*\"need\" + 0.010*\"like\" + 0.009*\"tell\" + 0.009*\"democrat\" + 0.009*\"believ\" + 0.007*\"polici\" + 0.007*\"peopl\" + 0.007*\"go\"\n",
      "\n",
      "\n"
     ]
    }
   ],
   "source": [
    "# analyze model\n",
    "for idx, topic in lda_2020.print_topics(-1):\n",
    "    print(\"Topic: {} \\nWords: {}\".format(idx, topic))\n",
    "    print(\"\\n\")"
   ]
  },
  {
   "cell_type": "code",
   "execution_count": 30,
   "metadata": {},
   "outputs": [
    {
     "name": "stdout",
     "output_type": "stream",
     "text": [
      "original quotation: \"but [ President ] Trump (was) eager to make a symbol of the Army officer sooner after the Senate acquitted him of the impeachment charges approved by House Democrats.\"\n",
      "processed input: \"['presid', 'eager', 'symbol', 'armi', 'sooner', 'senat', 'acquit', 'impeach', 'charg', 'approv', 'democrat']\"\n",
      "Score: 0.7480118870735168\t Topic: 0.049*\"presid\" + 0.016*\"know\" + 0.010*\"say\" + 0.010*\"state\" + 0.009*\"year\"\n",
      "Score: 0.1893889158964157\t Topic: 0.033*\"presid\" + 0.032*\"senat\" + 0.019*\"vote\" + 0.017*\"democrat\" + 0.014*\"trial\"\n",
      "Score: 0.010440495796501637\t Topic: 0.019*\"democrat\" + 0.017*\"presid\" + 0.014*\"elect\" + 0.012*\"investig\" + 0.011*\"talk\"\n",
      "Score: 0.010437259450554848\t Topic: 0.020*\"administr\" + 0.015*\"say\" + 0.012*\"peopl\" + 0.012*\"state\" + 0.011*\"presid\"\n",
      "Score: 0.010431854985654354\t Topic: 0.028*\"presid\" + 0.015*\"state\" + 0.012*\"know\" + 0.012*\"like\" + 0.011*\"work\"\n",
      "Score: 0.010430732741951942\t Topic: 0.026*\"presid\" + 0.024*\"think\" + 0.011*\"need\" + 0.010*\"like\" + 0.009*\"tell\"\n",
      "Score: 0.010430057533085346\t Topic: 0.040*\"presid\" + 0.028*\"american\" + 0.014*\"peopl\" + 0.011*\"state\" + 0.009*\"administr\"\n",
      "Score: 0.010428814217448235\t Topic: 0.036*\"go\" + 0.029*\"think\" + 0.020*\"beat\" + 0.019*\"peopl\" + 0.018*\"presid\"\n"
     ]
    }
   ],
   "source": [
    "# use the model to predict\n",
    "test_document = df_2020['quotation'].iloc[0]\n",
    "test_processed = preprocess(test_document, us_pol_names)\n",
    "bow_vector = dictionary.doc2bow(test_processed)\n",
    "\n",
    "print('original quotation: \"{}\"'.format(test_document))\n",
    "print('processed input: \"{}\"'.format(test_processed))\n",
    "for index, score in sorted(lda_2020[bow_vector], key=lambda tup: -1*tup[1]):\n",
    "    print(\"Score: {}\\t Topic: {}\".format(score, lda_2020.print_topic(index, 5)))"
   ]
  }
 ],
 "metadata": {
  "interpreter": {
   "hash": "f3a4b9e7808f4744fd74a39db385be6b30c2ca4cc57deaa44443ca6af78ad974"
  },
  "kernelspec": {
   "display_name": "Python 3.8.10 64-bit ('pyenv_ada': venv)",
   "language": "python",
   "name": "python3"
  },
  "language_info": {
   "codemirror_mode": {
    "name": "ipython",
    "version": 3
   },
   "file_extension": ".py",
   "mimetype": "text/x-python",
   "name": "python",
   "nbconvert_exporter": "python",
   "pygments_lexer": "ipython3",
   "version": "3.8.10"
  },
  "orig_nbformat": 4
 },
 "nbformat": 4,
 "nbformat_minor": 2
}
