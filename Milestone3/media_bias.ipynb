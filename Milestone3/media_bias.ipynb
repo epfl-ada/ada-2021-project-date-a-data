{
 "cells": [
  {
   "cell_type": "code",
   "execution_count": 5,
   "metadata": {},
   "outputs": [],
   "source": [
    "import pandas as pd\n",
    "import numpy as np\n",
    "from urllib.parse import urlparse\n",
    "import re"
   ]
  },
  {
   "cell_type": "code",
   "execution_count": 3,
   "metadata": {},
   "outputs": [
    {
     "data": {
      "text/html": [
       "<div>\n",
       "<style scoped>\n",
       "    .dataframe tbody tr th:only-of-type {\n",
       "        vertical-align: middle;\n",
       "    }\n",
       "\n",
       "    .dataframe tbody tr th {\n",
       "        vertical-align: top;\n",
       "    }\n",
       "\n",
       "    .dataframe thead th {\n",
       "        text-align: right;\n",
       "    }\n",
       "</style>\n",
       "<table border=\"1\" class=\"dataframe\">\n",
       "  <thead>\n",
       "    <tr style=\"text-align: right;\">\n",
       "      <th></th>\n",
       "      <th>domain</th>\n",
       "      <th>score</th>\n",
       "      <th>fb_score</th>\n",
       "      <th>mturk_score</th>\n",
       "      <th>budak_score</th>\n",
       "      <th>allsides_score</th>\n",
       "      <th>allsides_score_community</th>\n",
       "      <th>pew_score</th>\n",
       "    </tr>\n",
       "  </thead>\n",
       "  <tbody>\n",
       "    <tr>\n",
       "      <th>0</th>\n",
       "      <td>bitly.com</td>\n",
       "      <td>0.0543</td>\n",
       "      <td>NaN</td>\n",
       "      <td>NaN</td>\n",
       "      <td>NaN</td>\n",
       "      <td>NaN</td>\n",
       "      <td>NaN</td>\n",
       "      <td>NaN</td>\n",
       "    </tr>\n",
       "    <tr>\n",
       "      <th>1</th>\n",
       "      <td>youtube.com</td>\n",
       "      <td>0.1282</td>\n",
       "      <td>0.0634</td>\n",
       "      <td>0.000000</td>\n",
       "      <td>NaN</td>\n",
       "      <td>NaN</td>\n",
       "      <td>NaN</td>\n",
       "      <td>NaN</td>\n",
       "    </tr>\n",
       "    <tr>\n",
       "      <th>2</th>\n",
       "      <td>instagram.com</td>\n",
       "      <td>0.1427</td>\n",
       "      <td>NaN</td>\n",
       "      <td>0.000000</td>\n",
       "      <td>NaN</td>\n",
       "      <td>NaN</td>\n",
       "      <td>NaN</td>\n",
       "      <td>NaN</td>\n",
       "    </tr>\n",
       "    <tr>\n",
       "      <th>3</th>\n",
       "      <td>facebook.com</td>\n",
       "      <td>0.1132</td>\n",
       "      <td>NaN</td>\n",
       "      <td>-0.083333</td>\n",
       "      <td>NaN</td>\n",
       "      <td>NaN</td>\n",
       "      <td>NaN</td>\n",
       "      <td>NaN</td>\n",
       "    </tr>\n",
       "    <tr>\n",
       "      <th>4</th>\n",
       "      <td>ow.ly</td>\n",
       "      <td>0.0882</td>\n",
       "      <td>NaN</td>\n",
       "      <td>0.000000</td>\n",
       "      <td>NaN</td>\n",
       "      <td>NaN</td>\n",
       "      <td>NaN</td>\n",
       "      <td>NaN</td>\n",
       "    </tr>\n",
       "  </tbody>\n",
       "</table>\n",
       "</div>"
      ],
      "text/plain": [
       "          domain   score  fb_score  mturk_score  budak_score  allsides_score  \\\n",
       "0      bitly.com  0.0543       NaN          NaN          NaN             NaN   \n",
       "1    youtube.com  0.1282    0.0634     0.000000          NaN             NaN   \n",
       "2  instagram.com  0.1427       NaN     0.000000          NaN             NaN   \n",
       "3   facebook.com  0.1132       NaN    -0.083333          NaN             NaN   \n",
       "4          ow.ly  0.0882       NaN     0.000000          NaN             NaN   \n",
       "\n",
       "   allsides_score_community  pew_score  \n",
       "0                       NaN        NaN  \n",
       "1                       NaN        NaN  \n",
       "2                       NaN        NaN  \n",
       "3                       NaN        NaN  \n",
       "4                       NaN        NaN  "
      ]
     },
     "execution_count": 3,
     "metadata": {},
     "output_type": "execute_result"
    }
   ],
   "source": [
    "BIAS_DATA = \"../data/bias_scores.csv\"\n",
    "bias_df = pd.read_csv(BIAS_DATA)\n",
    "bias_df.head()\n"
   ]
  },
  {
   "cell_type": "code",
   "execution_count": 6,
   "metadata": {},
   "outputs": [
    {
     "name": "stdout",
     "output_type": "stream",
     "text": [
      "www.py4u.net\n",
      "py4u.net\n"
     ]
    }
   ],
   "source": [
    "url = 'www.py4u.net'\n",
    "# url = 'https://www.google.com'\n",
    "print(url)\n",
    "\n",
    "www_re = re.compile(r\"(www\\.)?\")\n",
    "url = www_re.sub('', url)\n",
    "print(url)"
   ]
  },
  {
   "cell_type": "code",
   "execution_count": 7,
   "metadata": {},
   "outputs": [
    {
     "name": "stdout",
     "output_type": "stream",
     "text": [
      "nan\n",
      "0.16504285714285713\n"
     ]
    }
   ],
   "source": [
    "import re\n",
    "\n",
    "\n",
    "\n",
    "def get_bias_score(urls):\n",
    "    '''\n",
    "    pass in a list urls return the mean media bias score\n",
    "    or nan if none if the urls is included in the media bias\n",
    "    database\n",
    "    '''\n",
    "    scores = []\n",
    "\n",
    "    # get path of the url\n",
    "    urls = [urlparse(u).path for u in urls]\n",
    "    # remove www if there is\n",
    "    www_re = re.compile(r\"(www\\.)?\")\n",
    "    urls = [www_re.sub('', u) for u in urls]\n",
    "    for u in urls:\n",
    "        # takes the mean of the matched results\n",
    "        ss = bias_df[bias_df['domain'].str.match(u)]['score']\n",
    "        if not ss.empty:\n",
    "            scores.append(ss.mean())\n",
    "\n",
    "    if scores:\n",
    "        return np.nanmean(scores)\n",
    "    else:\n",
    "        return np.nan\n",
    "\n",
    "\n",
    "\n",
    "print(get_bias_score([\"www.not_exist.com\", \"www.xx.com\"]))\n",
    "print(get_bias_score([\"google.com\", \"www.politicio.com\"]))"
   ]
  },
  {
   "cell_type": "code",
   "execution_count": 8,
   "metadata": {},
   "outputs": [
    {
     "data": {
      "text/html": [
       "<div>\n",
       "<style scoped>\n",
       "    .dataframe tbody tr th:only-of-type {\n",
       "        vertical-align: middle;\n",
       "    }\n",
       "\n",
       "    .dataframe tbody tr th {\n",
       "        vertical-align: top;\n",
       "    }\n",
       "\n",
       "    .dataframe thead th {\n",
       "        text-align: right;\n",
       "    }\n",
       "</style>\n",
       "<table border=\"1\" class=\"dataframe\">\n",
       "  <thead>\n",
       "    <tr style=\"text-align: right;\">\n",
       "      <th></th>\n",
       "      <th>quoteID</th>\n",
       "      <th>quotation</th>\n",
       "      <th>speaker</th>\n",
       "      <th>qids</th>\n",
       "      <th>date</th>\n",
       "      <th>numOccurrences</th>\n",
       "      <th>phase</th>\n",
       "      <th>mentions</th>\n",
       "      <th>mentions_qids</th>\n",
       "      <th>urls</th>\n",
       "      <th>country</th>\n",
       "    </tr>\n",
       "  </thead>\n",
       "  <tbody>\n",
       "    <tr>\n",
       "      <th>0</th>\n",
       "      <td>2015-07-24-075914</td>\n",
       "      <td>Prime Minister Modi recognizes the vital role ...</td>\n",
       "      <td>Michael R. Bloomberg</td>\n",
       "      <td>Q607</td>\n",
       "      <td>2015-07-24 15:56:32</td>\n",
       "      <td>1</td>\n",
       "      <td>E</td>\n",
       "      <td>[Narendra Modi]</td>\n",
       "      <td>[Q1058]</td>\n",
       "      <td>[businessfacilities.com]</td>\n",
       "      <td>[India]</td>\n",
       "    </tr>\n",
       "    <tr>\n",
       "      <th>1</th>\n",
       "      <td>2015-09-24-093742</td>\n",
       "      <td>The growing reach of China's army of cyberwarr...</td>\n",
       "      <td>President Barack Obama</td>\n",
       "      <td>Q76</td>\n",
       "      <td>2015-09-24 13:50:51</td>\n",
       "      <td>2</td>\n",
       "      <td>E</td>\n",
       "      <td>[Xi Jinping]</td>\n",
       "      <td>[Q15031]</td>\n",
       "      <td>[www.defenseone.com, defenseone.com]</td>\n",
       "      <td>[People's Republic of China]</td>\n",
       "    </tr>\n",
       "    <tr>\n",
       "      <th>2</th>\n",
       "      <td>2015-12-21-013885</td>\n",
       "      <td>deal with [ Putin ]</td>\n",
       "      <td>Marco Rubio</td>\n",
       "      <td>Q324546</td>\n",
       "      <td>2015-12-21 00:00:00</td>\n",
       "      <td>1</td>\n",
       "      <td>E</td>\n",
       "      <td>[Vladimir Putin]</td>\n",
       "      <td>[Q7747]</td>\n",
       "      <td>[latinpost.com]</td>\n",
       "      <td>[Russia]</td>\n",
       "    </tr>\n",
       "    <tr>\n",
       "      <th>3</th>\n",
       "      <td>2015-01-09-015364</td>\n",
       "      <td>free for eve... Girls basketball notebook: Rul...</td>\n",
       "      <td>President Barack Obama</td>\n",
       "      <td>Q76</td>\n",
       "      <td>2015-01-09 03:37:35</td>\n",
       "      <td>1</td>\n",
       "      <td>E</td>\n",
       "      <td>[Maithripala Sirisena]</td>\n",
       "      <td>[Q6737124]</td>\n",
       "      <td>[billingsgazette.com]</td>\n",
       "      <td>[Sri Lanka]</td>\n",
       "    </tr>\n",
       "    <tr>\n",
       "      <th>4</th>\n",
       "      <td>2015-02-11-030684</td>\n",
       "      <td>I hope the president does see the value of let...</td>\n",
       "      <td>Madeleine Albright</td>\n",
       "      <td>Q174438</td>\n",
       "      <td>2015-02-11 18:35:22</td>\n",
       "      <td>1</td>\n",
       "      <td>E</td>\n",
       "      <td>[Angela Merkel, Vladimir Putin]</td>\n",
       "      <td>[Q567, Q7747]</td>\n",
       "      <td>[breitbart.com]</td>\n",
       "      <td>[Germany, Russia]</td>\n",
       "    </tr>\n",
       "  </tbody>\n",
       "</table>\n",
       "</div>"
      ],
      "text/plain": [
       "             quoteID                                          quotation  \\\n",
       "0  2015-07-24-075914  Prime Minister Modi recognizes the vital role ...   \n",
       "1  2015-09-24-093742  The growing reach of China's army of cyberwarr...   \n",
       "2  2015-12-21-013885                                deal with [ Putin ]   \n",
       "3  2015-01-09-015364  free for eve... Girls basketball notebook: Rul...   \n",
       "4  2015-02-11-030684  I hope the president does see the value of let...   \n",
       "\n",
       "                  speaker     qids                date  numOccurrences phase  \\\n",
       "0    Michael R. Bloomberg     Q607 2015-07-24 15:56:32               1     E   \n",
       "1  President Barack Obama      Q76 2015-09-24 13:50:51               2     E   \n",
       "2             Marco Rubio  Q324546 2015-12-21 00:00:00               1     E   \n",
       "3  President Barack Obama      Q76 2015-01-09 03:37:35               1     E   \n",
       "4      Madeleine Albright  Q174438 2015-02-11 18:35:22               1     E   \n",
       "\n",
       "                          mentions  mentions_qids  \\\n",
       "0                  [Narendra Modi]        [Q1058]   \n",
       "1                     [Xi Jinping]       [Q15031]   \n",
       "2                 [Vladimir Putin]        [Q7747]   \n",
       "3           [Maithripala Sirisena]     [Q6737124]   \n",
       "4  [Angela Merkel, Vladimir Putin]  [Q567, Q7747]   \n",
       "\n",
       "                                   urls                       country  \n",
       "0              [businessfacilities.com]                       [India]  \n",
       "1  [www.defenseone.com, defenseone.com]  [People's Republic of China]  \n",
       "2                       [latinpost.com]                      [Russia]  \n",
       "3                 [billingsgazette.com]                   [Sri Lanka]  \n",
       "4                       [breitbart.com]             [Germany, Russia]  "
      ]
     },
     "execution_count": 8,
     "metadata": {},
     "output_type": "execute_result"
    }
   ],
   "source": [
    "# QUOTE_FILE = '../data/quotes_mentions_USA_compact.json.bz2'\n",
    "# QUOTE_FILE = '../data/quotes_mentions_USA_ML.json.bz2'\n",
    "QUOTE_FILE = '../data/quotes_mentions_world_compact.json.bz2'\n",
    "df = pd.read_json(QUOTE_FILE, lines=True, compression='bz2')\n",
    "df.head()"
   ]
  },
  {
   "cell_type": "code",
   "execution_count": 9,
   "metadata": {},
   "outputs": [
    {
     "data": {
      "text/plain": [
       "0                                 [businessfacilities.com]\n",
       "1                     [www.defenseone.com, defenseone.com]\n",
       "2                                          [latinpost.com]\n",
       "3                                    [billingsgazette.com]\n",
       "4                                          [breitbart.com]\n",
       "                               ...                        \n",
       "26170                                     [www.cityam.com]\n",
       "26171          [freepressjournal.in, www.thestatesman.com]\n",
       "26172                                [floridapolitics.com]\n",
       "26173    [www.duluthnewstribune.com, feeds.foxnews.com,...\n",
       "26174                                    [www.nytimes.com]\n",
       "Name: urls, Length: 26175, dtype: object"
      ]
     },
     "execution_count": 9,
     "metadata": {},
     "output_type": "execute_result"
    }
   ],
   "source": [
    "df.urls"
   ]
  },
  {
   "cell_type": "code",
   "execution_count": 10,
   "metadata": {},
   "outputs": [
    {
     "data": {
      "text/plain": [
       "<AxesSubplot:ylabel='Count'>"
      ]
     },
     "execution_count": 10,
     "metadata": {},
     "output_type": "execute_result"
    },
    {
     "data": {
      "image/png": "[encoded data removed]",
      "text/plain": [
       "<Figure size 432x288 with 1 Axes>"
      ]
     },
     "metadata": {
      "needs_background": "light"
     },
     "output_type": "display_data"
    }
   ],
   "source": [
    "import seaborn as sns\n",
    "\n",
    "# see the distribution of first 100 quotations\n",
    "scores = [get_bias_score(urls) for urls in df['urls'].iloc[:100]]\n",
    "sns.histplot(scores)"
   ]
  },
  {
   "cell_type": "code",
   "execution_count": 11,
   "metadata": {},
   "outputs": [
    {
     "name": "stdout",
     "output_type": "stream",
     "text": [
      "Dumped 3000 quotations out of 3000 quotations [quotations/s: 42.38]\n",
      "Dumped 3000 quotations out of 3000 quotations [quotations/s: 27.46]\n",
      "Dumped 3000 quotations out of 3000 quotations [quotations/s: 24.89]\n",
      "Dumped 3000 quotations out of 3000 quotations [quotations/s: 25.23]\n",
      "Dumped 3000 quotations out of 3000 quotations [quotations/s: 26.87]\n",
      "Dumped 3000 quotations out of 3000 quotations [quotations/s: 27.56]\n",
      "Dumped 3000 quotations out of 3000 quotations [quotations/s: 32.98]\n",
      "Dumped 3000 quotations out of 3000 quotations [quotations/s: 42.15]\n",
      "Dumped 2175 quotations out of 3000 quotations [quotations/s: 57.47]\n"
     ]
    }
   ],
   "source": [
    "import os, time, bz2\n",
    "\n",
    "READ_FILE = '../data/quotes_mentions_world_compact.json.bz2'\n",
    "SAVE_FILE = '../data/quotes_mentions_world_bias.json.bz2'\n",
    "\n",
    "CHUNKSIZE = 3000\n",
    "\n",
    "try:\n",
    "    os.remove(SAVE_FILE)\n",
    "except:\n",
    "    pass\n",
    "\n",
    "total_time,total_mentions,chunk_number,nb_quote=0,0,0,0\n",
    "mentions=[]\n",
    "\n",
    "\n",
    "with bz2.open(SAVE_FILE, 'wb') as bz_writer:\n",
    "    with pd.read_json(READ_FILE, lines=True, chunksize=CHUNKSIZE, compression='bz2' ) as df_reader:\n",
    "        for chunk in df_reader:\n",
    "            t1=time.time()\n",
    "\n",
    "            # get bias\n",
    "            bias = [get_bias_score(urls) for urls in chunk['urls']]\n",
    "            chunk[\"source_bias\"] = bias\n",
    "\n",
    "            chunk.to_json(path_or_buf=bz_writer,orient='records',lines=True)\n",
    "            mentions = len(chunk)\n",
    "            total_mentions += mentions\n",
    "            t2=time.time()\n",
    "            dt=t2-t1\n",
    "            total_time+=dt\n",
    "            chunk_number += 1\n",
    "            print(\"Dumped {} quotations out of {} quotations [quotations/s: {:.2f}]\".format(mentions, CHUNKSIZE, CHUNKSIZE / dt))"
   ]
  },
  {
   "cell_type": "code",
   "execution_count": 16,
   "metadata": {},
   "outputs": [
    {
     "name": "stdout",
     "output_type": "stream",
     "text": [
      "source not found ratio 13.32%\n"
     ]
    },
    {
     "data": {
      "text/plain": [
       "<AxesSubplot:xlabel='source_bias', ylabel='Count'>"
      ]
     },
     "execution_count": 16,
     "metadata": {},
     "output_type": "execute_result"
    },
    {
     "data": {
      "image/png": "[encoded data removed]",
      "text/plain": [
       "<Figure size 432x288 with 1 Axes>"
      ]
     },
     "metadata": {
      "needs_background": "light"
     },
     "output_type": "display_data"
    }
   ],
   "source": [
    "world_file = '../data/quotes_mentions_world_bias.json.bz2'\n",
    "\n",
    "\n",
    "df = pd.read_json(SAVE_FILE, lines=True, compression='bz2' )\n",
    "print('source not found ratio {:.2%}'.format(len(df[df['source_bias'].isna()]) / len(df)) )\n",
    "sns.histplot(df['source_bias'])"
   ]
  }
 ],
 "metadata": {
  "interpreter": {
   "hash": "5ec1eaa2ec572d1e97809c83bc6fe1ab2a9cd0ea23d47773ae58fb9f89fdb034"
  },
  "kernelspec": {
   "display_name": "Python 3.8.10 64-bit ('pyenv': venv)",
   "language": "python",
   "name": "python3"
  },
  "language_info": {
   "codemirror_mode": {
    "name": "ipython",
    "version": 3
   },
   "file_extension": ".py",
   "mimetype": "text/x-python",
   "name": "python",
   "nbconvert_exporter": "python",
   "pygments_lexer": "ipython3",
   "version": "3.8.10"
  },
  "orig_nbformat": 4
 },
 "nbformat": 4,
 "nbformat_minor": 2
}
