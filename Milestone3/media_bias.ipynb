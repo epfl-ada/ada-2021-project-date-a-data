{
 "cells": [
  {
   "cell_type": "code",
   "execution_count": 3,
   "metadata": {},
   "outputs": [],
   "source": [
    "import pandas as pd\n",
    "import numpy as np\n",
    "from urllib.parse import urlparse\n",
    "import seaborn as sns\n"
   ]
  },
  {
   "cell_type": "code",
   "execution_count": 4,
   "metadata": {},
   "outputs": [
    {
     "data": {
      "text/html": [
       "<div>\n",
       "<style scoped>\n",
       "    .dataframe tbody tr th:only-of-type {\n",
       "        vertical-align: middle;\n",
       "    }\n",
       "\n",
       "    .dataframe tbody tr th {\n",
       "        vertical-align: top;\n",
       "    }\n",
       "\n",
       "    .dataframe thead th {\n",
       "        text-align: right;\n",
       "    }\n",
       "</style>\n",
       "<table border=\"1\" class=\"dataframe\">\n",
       "  <thead>\n",
       "    <tr style=\"text-align: right;\">\n",
       "      <th></th>\n",
       "      <th>domain</th>\n",
       "      <th>score</th>\n",
       "      <th>fb_score</th>\n",
       "      <th>mturk_score</th>\n",
       "      <th>budak_score</th>\n",
       "      <th>allsides_score</th>\n",
       "      <th>allsides_score_community</th>\n",
       "      <th>pew_score</th>\n",
       "    </tr>\n",
       "  </thead>\n",
       "  <tbody>\n",
       "    <tr>\n",
       "      <th>0</th>\n",
       "      <td>bitly.com</td>\n",
       "      <td>0.0543</td>\n",
       "      <td>NaN</td>\n",
       "      <td>NaN</td>\n",
       "      <td>NaN</td>\n",
       "      <td>NaN</td>\n",
       "      <td>NaN</td>\n",
       "      <td>NaN</td>\n",
       "    </tr>\n",
       "    <tr>\n",
       "      <th>1</th>\n",
       "      <td>youtube.com</td>\n",
       "      <td>0.1282</td>\n",
       "      <td>0.0634</td>\n",
       "      <td>0.000000</td>\n",
       "      <td>NaN</td>\n",
       "      <td>NaN</td>\n",
       "      <td>NaN</td>\n",
       "      <td>NaN</td>\n",
       "    </tr>\n",
       "    <tr>\n",
       "      <th>2</th>\n",
       "      <td>instagram.com</td>\n",
       "      <td>0.1427</td>\n",
       "      <td>NaN</td>\n",
       "      <td>0.000000</td>\n",
       "      <td>NaN</td>\n",
       "      <td>NaN</td>\n",
       "      <td>NaN</td>\n",
       "      <td>NaN</td>\n",
       "    </tr>\n",
       "    <tr>\n",
       "      <th>3</th>\n",
       "      <td>facebook.com</td>\n",
       "      <td>0.1132</td>\n",
       "      <td>NaN</td>\n",
       "      <td>-0.083333</td>\n",
       "      <td>NaN</td>\n",
       "      <td>NaN</td>\n",
       "      <td>NaN</td>\n",
       "      <td>NaN</td>\n",
       "    </tr>\n",
       "    <tr>\n",
       "      <th>4</th>\n",
       "      <td>ow.ly</td>\n",
       "      <td>0.0882</td>\n",
       "      <td>NaN</td>\n",
       "      <td>0.000000</td>\n",
       "      <td>NaN</td>\n",
       "      <td>NaN</td>\n",
       "      <td>NaN</td>\n",
       "      <td>NaN</td>\n",
       "    </tr>\n",
       "  </tbody>\n",
       "</table>\n",
       "</div>"
      ],
      "text/plain": [
       "          domain   score  fb_score  mturk_score  budak_score  allsides_score  \\\n",
       "0      bitly.com  0.0543       NaN          NaN          NaN             NaN   \n",
       "1    youtube.com  0.1282    0.0634     0.000000          NaN             NaN   \n",
       "2  instagram.com  0.1427       NaN     0.000000          NaN             NaN   \n",
       "3   facebook.com  0.1132       NaN    -0.083333          NaN             NaN   \n",
       "4          ow.ly  0.0882       NaN     0.000000          NaN             NaN   \n",
       "\n",
       "   allsides_score_community  pew_score  \n",
       "0                       NaN        NaN  \n",
       "1                       NaN        NaN  \n",
       "2                       NaN        NaN  \n",
       "3                       NaN        NaN  \n",
       "4                       NaN        NaN  "
      ]
     },
     "execution_count": 4,
     "metadata": {},
     "output_type": "execute_result"
    }
   ],
   "source": [
    "BIAS_DATA = \"../data/bias_scores.csv\"\n",
    "bias_df = pd.read_csv(BIAS_DATA)\n",
    "bias_df.head()\n"
   ]
  },
  {
   "cell_type": "code",
   "execution_count": 81,
   "metadata": {},
   "outputs": [
    {
     "name": "stdout",
     "output_type": "stream",
     "text": [
      "www.py4u.net\n",
      "py4u.net\n"
     ]
    }
   ],
   "source": [
    "url = 'www.py4u.net'\n",
    "# url = 'https://www.google.com'\n",
    "print(url)\n",
    "\n",
    "www_re = re.compile(r\"(www\\.)?\")\n",
    "url = www_re.sub('', url)\n",
    "print(url)"
   ]
  },
  {
   "cell_type": "code",
   "execution_count": 5,
   "metadata": {},
   "outputs": [
    {
     "name": "stdout",
     "output_type": "stream",
     "text": [
      "nan\n",
      "0.16504285714285713\n"
     ]
    }
   ],
   "source": [
    "import re\n",
    "\n",
    "\n",
    "\n",
    "def get_bias_score(urls):\n",
    "    '''\n",
    "    pass in a list urls return the mean media bias score\n",
    "    or nan if none if the urls is included in the media bias\n",
    "    database\n",
    "    '''\n",
    "    scores = []\n",
    "\n",
    "    # get path of the url\n",
    "    urls = [urlparse(u).path for u in urls]\n",
    "    # remove www if there is\n",
    "    www_re = re.compile(r\"(www\\.)?\")\n",
    "    urls = [www_re.sub('', u) for u in urls]\n",
    "    for u in urls:\n",
    "        # takes the mean of the matched results\n",
    "        ss = bias_df[bias_df['domain'].str.match(u)]['score']\n",
    "        if not ss.empty:\n",
    "            scores.append(ss.mean())\n",
    "\n",
    "    if scores:\n",
    "        return np.nanmean(scores)\n",
    "    else:\n",
    "        return np.nan\n",
    "\n",
    "\n",
    "\n",
    "print(get_bias_score([\"www.not_exist.com\", \"www.xx.com\"]))\n",
    "print(get_bias_score([\"google.com\", \"www.politicio.com\"]))"
   ]
  },
  {
   "cell_type": "code",
   "execution_count": 50,
   "metadata": {},
   "outputs": [],
   "source": [
    "# QUOTE_FILE = '../data/quotes_mentions_USA_compact.json.bz2'\n",
    "QUOTE_FILE = '../data/quotes_mentions_USA_ML.json.bz2'\n",
    "df = pd.read_json(QUOTE_FILE, lines=True, compression='bz2')\n"
   ]
  },
  {
   "cell_type": "code",
   "execution_count": 82,
   "metadata": {},
   "outputs": [
    {
     "data": {
      "text/plain": [
       "0                                            [examiner.com]\n",
       "1                                 [liveblog.irishtimes.com]\n",
       "2                      [feeds.foxnews.com, www.foxnews.com]\n",
       "3                                          [hottytoddy.com]\n",
       "4                          [www.politico.com, politico.com]\n",
       "                                ...                        \n",
       "450431            [www.irishtimes.com, full.gulf-times.com]\n",
       "450432                  [www.thenewcivilrightsmovement.com]\n",
       "450433    [commondreams.org, www.commondreams.org, www.r...\n",
       "450434                             [uspolitics.einnews.com]\n",
       "450435            [www.breitbart.com, www.prisonplanet.com]\n",
       "Name: urls, Length: 450436, dtype: object"
      ]
     },
     "execution_count": 82,
     "metadata": {},
     "output_type": "execute_result"
    }
   ],
   "source": [
    "df.urls"
   ]
  },
  {
   "cell_type": "code",
   "execution_count": 91,
   "metadata": {},
   "outputs": [
    {
     "data": {
      "text/plain": [
       "<AxesSubplot:ylabel='Count'>"
      ]
     },
     "execution_count": 91,
     "metadata": {},
     "output_type": "execute_result"
    },
    {
     "data": {
      "image/png": "[encoded data removed]",
      "text/plain": [
       "<Figure size 432x288 with 1 Axes>"
      ]
     },
     "metadata": {
      "needs_background": "light"
     },
     "output_type": "display_data"
    }
   ],
   "source": [
    "import seaborn as sns\n",
    "\n",
    "# see the distribution of first 100 quotations\n",
    "scores = [get_bias_score(urls) for urls in df['urls'].iloc[:100]]\n",
    "sns.histplot(scores)"
   ]
  },
  {
   "cell_type": "code",
   "execution_count": 92,
   "metadata": {},
   "outputs": [
    {
     "name": "stdout",
     "output_type": "stream",
     "text": [
      "Dumped 3000 quotations out of 3000 quotations [quotations/s: 56.15]\n",
      "Dumped 3000 quotations out of 3000 quotations [quotations/s: 57.29]\n",
      "Dumped 3000 quotations out of 3000 quotations [quotations/s: 55.21]\n",
      "Dumped 3000 quotations out of 3000 quotations [quotations/s: 52.47]\n",
      "Dumped 3000 quotations out of 3000 quotations [quotations/s: 55.42]\n",
      "Dumped 3000 quotations out of 3000 quotations [quotations/s: 57.64]\n",
      "Dumped 3000 quotations out of 3000 quotations [quotations/s: 57.01]\n",
      "Dumped 3000 quotations out of 3000 quotations [quotations/s: 61.62]\n",
      "Dumped 3000 quotations out of 3000 quotations [quotations/s: 63.00]\n",
      "Dumped 3000 quotations out of 3000 quotations [quotations/s: 53.08]\n",
      "Dumped 3000 quotations out of 3000 quotations [quotations/s: 55.31]\n",
      "Dumped 3000 quotations out of 3000 quotations [quotations/s: 55.17]\n",
      "Dumped 3000 quotations out of 3000 quotations [quotations/s: 56.85]\n",
      "Dumped 3000 quotations out of 3000 quotations [quotations/s: 58.17]\n",
      "Dumped 3000 quotations out of 3000 quotations [quotations/s: 60.74]\n",
      "Dumped 3000 quotations out of 3000 quotations [quotations/s: 56.30]\n",
      "Dumped 3000 quotations out of 3000 quotations [quotations/s: 52.70]\n",
      "Dumped 3000 quotations out of 3000 quotations [quotations/s: 38.14]\n",
      "Dumped 3000 quotations out of 3000 quotations [quotations/s: 44.45]\n",
      "Dumped 3000 quotations out of 3000 quotations [quotations/s: 42.80]\n",
      "Dumped 3000 quotations out of 3000 quotations [quotations/s: 40.66]\n",
      "Dumped 3000 quotations out of 3000 quotations [quotations/s: 43.38]\n",
      "Dumped 3000 quotations out of 3000 quotations [quotations/s: 37.77]\n",
      "Dumped 3000 quotations out of 3000 quotations [quotations/s: 41.98]\n",
      "Dumped 3000 quotations out of 3000 quotations [quotations/s: 41.89]\n",
      "Dumped 3000 quotations out of 3000 quotations [quotations/s: 41.80]\n",
      "Dumped 3000 quotations out of 3000 quotations [quotations/s: 44.56]\n",
      "Dumped 3000 quotations out of 3000 quotations [quotations/s: 44.31]\n",
      "Dumped 3000 quotations out of 3000 quotations [quotations/s: 43.27]\n",
      "Dumped 3000 quotations out of 3000 quotations [quotations/s: 44.35]\n",
      "Dumped 3000 quotations out of 3000 quotations [quotations/s: 47.94]\n",
      "Dumped 3000 quotations out of 3000 quotations [quotations/s: 38.54]\n",
      "Dumped 3000 quotations out of 3000 quotations [quotations/s: 44.82]\n",
      "Dumped 3000 quotations out of 3000 quotations [quotations/s: 41.21]\n",
      "Dumped 3000 quotations out of 3000 quotations [quotations/s: 45.89]\n",
      "Dumped 3000 quotations out of 3000 quotations [quotations/s: 43.40]\n",
      "Dumped 3000 quotations out of 3000 quotations [quotations/s: 44.98]\n",
      "Dumped 3000 quotations out of 3000 quotations [quotations/s: 45.68]\n",
      "Dumped 3000 quotations out of 3000 quotations [quotations/s: 0.09]\n",
      "Dumped 3000 quotations out of 3000 quotations [quotations/s: 38.83]\n",
      "Dumped 3000 quotations out of 3000 quotations [quotations/s: 39.76]\n",
      "Dumped 3000 quotations out of 3000 quotations [quotations/s: 34.95]\n",
      "Dumped 3000 quotations out of 3000 quotations [quotations/s: 31.96]\n",
      "Dumped 3000 quotations out of 3000 quotations [quotations/s: 34.62]\n",
      "Dumped 3000 quotations out of 3000 quotations [quotations/s: 35.39]\n",
      "Dumped 3000 quotations out of 3000 quotations [quotations/s: 31.03]\n",
      "Dumped 3000 quotations out of 3000 quotations [quotations/s: 34.53]\n",
      "Dumped 3000 quotations out of 3000 quotations [quotations/s: 33.48]\n",
      "Dumped 3000 quotations out of 3000 quotations [quotations/s: 34.78]\n",
      "Dumped 3000 quotations out of 3000 quotations [quotations/s: 31.44]\n",
      "Dumped 3000 quotations out of 3000 quotations [quotations/s: 40.52]\n",
      "Dumped 3000 quotations out of 3000 quotations [quotations/s: 37.64]\n",
      "Dumped 3000 quotations out of 3000 quotations [quotations/s: 37.80]\n",
      "Dumped 3000 quotations out of 3000 quotations [quotations/s: 39.55]\n",
      "Dumped 3000 quotations out of 3000 quotations [quotations/s: 37.58]\n",
      "Dumped 3000 quotations out of 3000 quotations [quotations/s: 36.07]\n",
      "Dumped 3000 quotations out of 3000 quotations [quotations/s: 32.36]\n",
      "Dumped 3000 quotations out of 3000 quotations [quotations/s: 31.84]\n",
      "Dumped 3000 quotations out of 3000 quotations [quotations/s: 37.32]\n",
      "Dumped 3000 quotations out of 3000 quotations [quotations/s: 33.41]\n",
      "Dumped 3000 quotations out of 3000 quotations [quotations/s: 38.14]\n",
      "Dumped 3000 quotations out of 3000 quotations [quotations/s: 31.07]\n",
      "Dumped 3000 quotations out of 3000 quotations [quotations/s: 41.42]\n",
      "Dumped 3000 quotations out of 3000 quotations [quotations/s: 32.05]\n",
      "Dumped 3000 quotations out of 3000 quotations [quotations/s: 30.26]\n",
      "Dumped 3000 quotations out of 3000 quotations [quotations/s: 36.96]\n",
      "Dumped 3000 quotations out of 3000 quotations [quotations/s: 31.54]\n",
      "Dumped 3000 quotations out of 3000 quotations [quotations/s: 32.42]\n",
      "Dumped 3000 quotations out of 3000 quotations [quotations/s: 30.97]\n",
      "Dumped 3000 quotations out of 3000 quotations [quotations/s: 38.51]\n",
      "Dumped 3000 quotations out of 3000 quotations [quotations/s: 33.87]\n",
      "Dumped 3000 quotations out of 3000 quotations [quotations/s: 37.51]\n",
      "Dumped 3000 quotations out of 3000 quotations [quotations/s: 33.27]\n",
      "Dumped 3000 quotations out of 3000 quotations [quotations/s: 32.08]\n",
      "Dumped 3000 quotations out of 3000 quotations [quotations/s: 34.71]\n",
      "Dumped 3000 quotations out of 3000 quotations [quotations/s: 36.00]\n",
      "Dumped 3000 quotations out of 3000 quotations [quotations/s: 32.06]\n",
      "Dumped 3000 quotations out of 3000 quotations [quotations/s: 37.17]\n",
      "Dumped 3000 quotations out of 3000 quotations [quotations/s: 44.32]\n",
      "Dumped 3000 quotations out of 3000 quotations [quotations/s: 40.62]\n",
      "Dumped 3000 quotations out of 3000 quotations [quotations/s: 38.21]\n",
      "Dumped 3000 quotations out of 3000 quotations [quotations/s: 36.12]\n",
      "Dumped 3000 quotations out of 3000 quotations [quotations/s: 38.03]\n",
      "Dumped 3000 quotations out of 3000 quotations [quotations/s: 39.50]\n",
      "Dumped 3000 quotations out of 3000 quotations [quotations/s: 38.93]\n",
      "Dumped 3000 quotations out of 3000 quotations [quotations/s: 37.06]\n",
      "Dumped 3000 quotations out of 3000 quotations [quotations/s: 35.22]\n",
      "Dumped 3000 quotations out of 3000 quotations [quotations/s: 40.61]\n",
      "Dumped 3000 quotations out of 3000 quotations [quotations/s: 34.96]\n",
      "Dumped 3000 quotations out of 3000 quotations [quotations/s: 37.91]\n",
      "Dumped 3000 quotations out of 3000 quotations [quotations/s: 37.86]\n",
      "Dumped 3000 quotations out of 3000 quotations [quotations/s: 36.20]\n",
      "Dumped 3000 quotations out of 3000 quotations [quotations/s: 42.83]\n",
      "Dumped 3000 quotations out of 3000 quotations [quotations/s: 37.79]\n",
      "Dumped 3000 quotations out of 3000 quotations [quotations/s: 42.87]\n",
      "Dumped 3000 quotations out of 3000 quotations [quotations/s: 42.44]\n",
      "Dumped 3000 quotations out of 3000 quotations [quotations/s: 35.45]\n",
      "Dumped 3000 quotations out of 3000 quotations [quotations/s: 37.95]\n",
      "Dumped 3000 quotations out of 3000 quotations [quotations/s: 48.18]\n",
      "Dumped 3000 quotations out of 3000 quotations [quotations/s: 33.76]\n",
      "Dumped 3000 quotations out of 3000 quotations [quotations/s: 39.77]\n",
      "Dumped 3000 quotations out of 3000 quotations [quotations/s: 40.25]\n",
      "Dumped 3000 quotations out of 3000 quotations [quotations/s: 40.15]\n",
      "Dumped 3000 quotations out of 3000 quotations [quotations/s: 38.96]\n",
      "Dumped 3000 quotations out of 3000 quotations [quotations/s: 42.65]\n",
      "Dumped 3000 quotations out of 3000 quotations [quotations/s: 40.14]\n",
      "Dumped 3000 quotations out of 3000 quotations [quotations/s: 34.09]\n",
      "Dumped 3000 quotations out of 3000 quotations [quotations/s: 41.39]\n",
      "Dumped 3000 quotations out of 3000 quotations [quotations/s: 43.88]\n",
      "Dumped 3000 quotations out of 3000 quotations [quotations/s: 40.59]\n",
      "Dumped 3000 quotations out of 3000 quotations [quotations/s: 36.17]\n",
      "Dumped 3000 quotations out of 3000 quotations [quotations/s: 41.96]\n",
      "Dumped 3000 quotations out of 3000 quotations [quotations/s: 45.80]\n",
      "Dumped 3000 quotations out of 3000 quotations [quotations/s: 57.99]\n",
      "Dumped 3000 quotations out of 3000 quotations [quotations/s: 51.05]\n",
      "Dumped 3000 quotations out of 3000 quotations [quotations/s: 51.65]\n",
      "Dumped 3000 quotations out of 3000 quotations [quotations/s: 52.61]\n",
      "Dumped 3000 quotations out of 3000 quotations [quotations/s: 55.54]\n",
      "Dumped 3000 quotations out of 3000 quotations [quotations/s: 55.10]\n",
      "Dumped 3000 quotations out of 3000 quotations [quotations/s: 52.73]\n",
      "Dumped 3000 quotations out of 3000 quotations [quotations/s: 57.07]\n",
      "Dumped 3000 quotations out of 3000 quotations [quotations/s: 58.77]\n",
      "Dumped 3000 quotations out of 3000 quotations [quotations/s: 56.14]\n",
      "Dumped 3000 quotations out of 3000 quotations [quotations/s: 51.01]\n",
      "Dumped 3000 quotations out of 3000 quotations [quotations/s: 55.88]\n",
      "Dumped 3000 quotations out of 3000 quotations [quotations/s: 58.65]\n",
      "Dumped 3000 quotations out of 3000 quotations [quotations/s: 48.30]\n",
      "Dumped 3000 quotations out of 3000 quotations [quotations/s: 43.48]\n",
      "Dumped 3000 quotations out of 3000 quotations [quotations/s: 57.94]\n",
      "Dumped 3000 quotations out of 3000 quotations [quotations/s: 49.31]\n",
      "Dumped 3000 quotations out of 3000 quotations [quotations/s: 51.44]\n",
      "Dumped 3000 quotations out of 3000 quotations [quotations/s: 53.33]\n",
      "Dumped 3000 quotations out of 3000 quotations [quotations/s: 50.53]\n",
      "Dumped 3000 quotations out of 3000 quotations [quotations/s: 50.40]\n",
      "Dumped 3000 quotations out of 3000 quotations [quotations/s: 46.39]\n",
      "Dumped 3000 quotations out of 3000 quotations [quotations/s: 47.19]\n",
      "Dumped 3000 quotations out of 3000 quotations [quotations/s: 50.23]\n",
      "Dumped 3000 quotations out of 3000 quotations [quotations/s: 57.67]\n",
      "Dumped 3000 quotations out of 3000 quotations [quotations/s: 46.81]\n",
      "Dumped 3000 quotations out of 3000 quotations [quotations/s: 51.93]\n",
      "Dumped 3000 quotations out of 3000 quotations [quotations/s: 47.40]\n",
      "Dumped 3000 quotations out of 3000 quotations [quotations/s: 53.94]\n",
      "Dumped 3000 quotations out of 3000 quotations [quotations/s: 55.32]\n",
      "Dumped 3000 quotations out of 3000 quotations [quotations/s: 55.99]\n",
      "Dumped 3000 quotations out of 3000 quotations [quotations/s: 54.78]\n",
      "Dumped 3000 quotations out of 3000 quotations [quotations/s: 50.87]\n",
      "Dumped 3000 quotations out of 3000 quotations [quotations/s: 52.61]\n",
      "Dumped 3000 quotations out of 3000 quotations [quotations/s: 52.86]\n",
      "Dumped 3000 quotations out of 3000 quotations [quotations/s: 55.30]\n",
      "Dumped 3000 quotations out of 3000 quotations [quotations/s: 47.18]\n",
      "Dumped 436 quotations out of 3000 quotations [quotations/s: 372.68]\n"
     ]
    }
   ],
   "source": [
    "import os, time, bz2\n",
    "\n",
    "READ_FILE = '../data/quotes_mentions_USA_ML.json.bz2'\n",
    "SAVE_FILE = '../data/quotes_mentions_USA_ML_bias.json.bz2'\n",
    "\n",
    "CHUNKSIZE = 3000\n",
    "\n",
    "try:\n",
    "    os.remove(SAVE_FILE)\n",
    "except:\n",
    "    pass\n",
    "\n",
    "total_time,total_mentions,chunk_number,nb_quote=0,0,0,0\n",
    "mentions=[]\n",
    "\n",
    "\n",
    "with bz2.open(SAVE_FILE, 'wb') as bz_writer:\n",
    "    with pd.read_json(READ_FILE, lines=True, chunksize=CHUNKSIZE, compression='bz2' ) as df_reader:\n",
    "        for chunk in df_reader:\n",
    "            t1=time.time()\n",
    "\n",
    "            # get bias\n",
    "            bias = [get_bias_score(urls) for urls in chunk['urls']]\n",
    "            chunk[\"source_bias\"] = bias\n",
    "\n",
    "            chunk.to_json(path_or_buf=bz_writer,orient='records',lines=True)\n",
    "            mentions = len(chunk)\n",
    "            total_mentions += mentions\n",
    "            t2=time.time()\n",
    "            dt=t2-t1\n",
    "            total_time+=dt\n",
    "            chunk_number += 1\n",
    "            print(\"Dumped {} quotations out of {} quotations [quotations/s: {:.2f}]\".format(mentions, CHUNKSIZE, CHUNKSIZE / dt))"
   ]
  },
  {
   "cell_type": "code",
   "execution_count": 6,
   "metadata": {},
   "outputs": [
    {
     "data": {
      "text/html": [
       "<div>\n",
       "<style scoped>\n",
       "    .dataframe tbody tr th:only-of-type {\n",
       "        vertical-align: middle;\n",
       "    }\n",
       "\n",
       "    .dataframe tbody tr th {\n",
       "        vertical-align: top;\n",
       "    }\n",
       "\n",
       "    .dataframe thead th {\n",
       "        text-align: right;\n",
       "    }\n",
       "</style>\n",
       "<table border=\"1\" class=\"dataframe\">\n",
       "  <thead>\n",
       "    <tr style=\"text-align: right;\">\n",
       "      <th></th>\n",
       "      <th>quoteID</th>\n",
       "      <th>quotation</th>\n",
       "      <th>speaker</th>\n",
       "      <th>qids</th>\n",
       "      <th>date</th>\n",
       "      <th>numOccurrences</th>\n",
       "      <th>phase</th>\n",
       "      <th>mentions</th>\n",
       "      <th>mentions_qids</th>\n",
       "      <th>urls</th>\n",
       "      <th>topic_index</th>\n",
       "      <th>topic_scores</th>\n",
       "      <th>sentiment</th>\n",
       "      <th>source_bias</th>\n",
       "    </tr>\n",
       "  </thead>\n",
       "  <tbody>\n",
       "    <tr>\n",
       "      <th>0</th>\n",
       "      <td>2015-10-25-000242</td>\n",
       "      <td>' It is not now, nor has it ever been, the gol...</td>\n",
       "      <td>Bernie Sanders</td>\n",
       "      <td>Q359442</td>\n",
       "      <td>2015-10-25 14:12:35</td>\n",
       "      <td>1</td>\n",
       "      <td>E</td>\n",
       "      <td>[Bill Clinton]</td>\n",
       "      <td>[Q1124]</td>\n",
       "      <td>[examiner.com]</td>\n",
       "      <td>8</td>\n",
       "      <td>0.818588</td>\n",
       "      <td>-0.4822</td>\n",
       "      <td>0.1168</td>\n",
       "    </tr>\n",
       "    <tr>\n",
       "      <th>1</th>\n",
       "      <td>2015-08-07-005048</td>\n",
       "      <td>All we ╒ re asking for here is a discussion an...</td>\n",
       "      <td>John Boehner</td>\n",
       "      <td>Q11702</td>\n",
       "      <td>2015-08-07 12:52:52</td>\n",
       "      <td>1</td>\n",
       "      <td>E</td>\n",
       "      <td>[Barack Obama]</td>\n",
       "      <td>[Q76]</td>\n",
       "      <td>[liveblog.irishtimes.com]</td>\n",
       "      <td>8</td>\n",
       "      <td>0.774811</td>\n",
       "      <td>0.0000</td>\n",
       "      <td>NaN</td>\n",
       "    </tr>\n",
       "    <tr>\n",
       "      <th>2</th>\n",
       "      <td>2015-10-01-005722</td>\n",
       "      <td>An email included in the latest tranche of Cli...</td>\n",
       "      <td>Hillary Clinton</td>\n",
       "      <td>Q6294</td>\n",
       "      <td>2015-10-01 14:56:48</td>\n",
       "      <td>2</td>\n",
       "      <td>E</td>\n",
       "      <td>[Bill Clinton]</td>\n",
       "      <td>[Q1124]</td>\n",
       "      <td>[feeds.foxnews.com, www.foxnews.com]</td>\n",
       "      <td>4</td>\n",
       "      <td>0.368826</td>\n",
       "      <td>-0.2732</td>\n",
       "      <td>0.7295</td>\n",
       "    </tr>\n",
       "    <tr>\n",
       "      <th>3</th>\n",
       "      <td>2015-11-17-006368</td>\n",
       "      <td>and in fact, Secretary of State Kerry was earl...</td>\n",
       "      <td>Phil Bryant</td>\n",
       "      <td>Q887898</td>\n",
       "      <td>2015-11-17 20:03:05</td>\n",
       "      <td>1</td>\n",
       "      <td>E</td>\n",
       "      <td>[John Kerry]</td>\n",
       "      <td>[Q22316]</td>\n",
       "      <td>[hottytoddy.com]</td>\n",
       "      <td>1</td>\n",
       "      <td>0.774721</td>\n",
       "      <td>0.0258</td>\n",
       "      <td>NaN</td>\n",
       "    </tr>\n",
       "    <tr>\n",
       "      <th>4</th>\n",
       "      <td>2015-02-14-014011</td>\n",
       "      <td>I have fought Obamacare from Day One and will ...</td>\n",
       "      <td>John Cornyn</td>\n",
       "      <td>Q719568</td>\n",
       "      <td>2015-02-14 21:01:51</td>\n",
       "      <td>2</td>\n",
       "      <td>E</td>\n",
       "      <td>[Barack Obama]</td>\n",
       "      <td>[Q76]</td>\n",
       "      <td>[www.politico.com, politico.com]</td>\n",
       "      <td>2</td>\n",
       "      <td>0.389230</td>\n",
       "      <td>-0.1280</td>\n",
       "      <td>-0.1914</td>\n",
       "    </tr>\n",
       "  </tbody>\n",
       "</table>\n",
       "</div>"
      ],
      "text/plain": [
       "             quoteID                                          quotation  \\\n",
       "0  2015-10-25-000242  ' It is not now, nor has it ever been, the gol...   \n",
       "1  2015-08-07-005048  All we ╒ re asking for here is a discussion an...   \n",
       "2  2015-10-01-005722  An email included in the latest tranche of Cli...   \n",
       "3  2015-11-17-006368  and in fact, Secretary of State Kerry was earl...   \n",
       "4  2015-02-14-014011  I have fought Obamacare from Day One and will ...   \n",
       "\n",
       "           speaker     qids                date  numOccurrences phase  \\\n",
       "0   Bernie Sanders  Q359442 2015-10-25 14:12:35               1     E   \n",
       "1     John Boehner   Q11702 2015-08-07 12:52:52               1     E   \n",
       "2  Hillary Clinton    Q6294 2015-10-01 14:56:48               2     E   \n",
       "3      Phil Bryant  Q887898 2015-11-17 20:03:05               1     E   \n",
       "4      John Cornyn  Q719568 2015-02-14 21:01:51               2     E   \n",
       "\n",
       "         mentions mentions_qids                                  urls  \\\n",
       "0  [Bill Clinton]       [Q1124]                        [examiner.com]   \n",
       "1  [Barack Obama]         [Q76]             [liveblog.irishtimes.com]   \n",
       "2  [Bill Clinton]       [Q1124]  [feeds.foxnews.com, www.foxnews.com]   \n",
       "3    [John Kerry]      [Q22316]                      [hottytoddy.com]   \n",
       "4  [Barack Obama]         [Q76]      [www.politico.com, politico.com]   \n",
       "\n",
       "   topic_index  topic_scores  sentiment  source_bias  \n",
       "0            8      0.818588    -0.4822       0.1168  \n",
       "1            8      0.774811     0.0000          NaN  \n",
       "2            4      0.368826    -0.2732       0.7295  \n",
       "3            1      0.774721     0.0258          NaN  \n",
       "4            2      0.389230    -0.1280      -0.1914  "
      ]
     },
     "execution_count": 6,
     "metadata": {},
     "output_type": "execute_result"
    }
   ],
   "source": [
    "SAVE_FILE = '../data/quotes_mentions_USA_ML_bias.json.bz2'\n",
    "df = pd.read_json(SAVE_FILE, lines=True, compression='bz2' )\n",
    "df.head(5)"
   ]
  },
  {
   "cell_type": "code",
   "execution_count": 7,
   "metadata": {},
   "outputs": [
    {
     "data": {
      "text/plain": [
       "<AxesSubplot:xlabel='source_bias', ylabel='Count'>"
      ]
     },
     "execution_count": 7,
     "metadata": {},
     "output_type": "execute_result"
    },
    {
     "data": {
      "image/png": "[encoded data removed]",
      "text/plain": [
       "<Figure size 432x288 with 1 Axes>"
      ]
     },
     "metadata": {
      "needs_background": "light"
     },
     "output_type": "display_data"
    }
   ],
   "source": [
    "sns.histplot(df['source_bias'])"
   ]
  },
  {
   "cell_type": "code",
   "execution_count": 8,
   "metadata": {},
   "outputs": [
    {
     "data": {
      "text/plain": [
       "0.11162296086458454"
      ]
     },
     "execution_count": 8,
     "metadata": {},
     "output_type": "execute_result"
    }
   ],
   "source": [
    "len(df[df['source_bias'].isna()]) / len(df)"
   ]
  },
  {
   "cell_type": "code",
   "execution_count": 17,
   "metadata": {},
   "outputs": [
    {
     "data": {
      "text/plain": [
       "<AxesSubplot:xlabel='source_bias', ylabel='Count'>"
      ]
     },
     "execution_count": 17,
     "metadata": {},
     "output_type": "execute_result"
    },
    {
     "data": {
      "image/png": "[encoded data removed]",
      "text/plain": [
       "<Figure size 432x288 with 1 Axes>"
      ]
     },
     "metadata": {
      "needs_background": "light"
     },
     "output_type": "display_data"
    }
   ],
   "source": [
    "df['bias_cat'] = pd.cut(df['source_bias'], [-1, -0.5, 0.5, 1], labels=['far left', 'neutral', 'far right'])\n",
    "sns.histplot(data=df, x='source_bias', hue='bias_cat')\n",
    "# sns.histplot(df[(df['source_bias'] <= 0.25) & (df['source_bias'] >= -0.25)]['sentiment'])\n",
    "# sns.histplot(df[(df['source_bias'] > 0.25) | (df['source_bias'] < -0.25)]['sentiment'])"
   ]
  },
  {
   "cell_type": "code",
   "execution_count": 31,
   "metadata": {},
   "outputs": [
    {
     "data": {
      "text/plain": [
       "<AxesSubplot:xlabel='sentiment', ylabel='Percent'>"
      ]
     },
     "execution_count": 31,
     "metadata": {},
     "output_type": "execute_result"
    },
    {
     "data": {
      "image/png": "[encoded data removed]",
      "text/plain": [
       "<Figure size 432x288 with 1 Axes>"
      ]
     },
     "metadata": {
      "needs_background": "light"
     },
     "output_type": "display_data"
    }
   ],
   "source": [
    "sns.histplot(data=df, x='sentiment', hue='bias_cat', stat='percent', common_norm=False, multiple='stack', log_scale=(False, True))"
   ]
  },
  {
   "cell_type": "code",
   "execution_count": 39,
   "metadata": {},
   "outputs": [
    {
     "name": "stdout",
     "output_type": "stream",
     "text": [
      "2.537277941862108e-38\n",
      "5.2250237043207143e-20\n",
      "7.112316873834822e-09\n"
     ]
    },
    {
     "data": {
      "text/plain": [
       "bias_cat\n",
       "far left     0.060447\n",
       "neutral      0.097064\n",
       "far right    0.078851\n",
       "Name: sentiment, dtype: float64"
      ]
     },
     "execution_count": 39,
     "metadata": {},
     "output_type": "execute_result"
    }
   ],
   "source": [
    "from scipy.stats import ttest_ind\n",
    "# print(ttest_ind(df[df['bias_cat'] == 'neutral']['sentiment'].iloc[:100], df[df['bias_cat'] == 'neutral']['sentiment'].iloc[-100:], equal_var=False).pvalue)\n",
    "print(ttest_ind(df[df['bias_cat'] == 'neutral']['sentiment'], df[df['bias_cat'] == 'far left']['sentiment'], equal_var=False).pvalue)\n",
    "print(ttest_ind(df[df['bias_cat'] == 'neutral']['sentiment'], df[df['bias_cat'] == 'far right']['sentiment'], equal_var=False).pvalue)\n",
    "print(ttest_ind(df[df['bias_cat'] == 'far left']['sentiment'], df[df['bias_cat'] == 'far right']['sentiment'], equal_var=False).pvalue)\n",
    "df.groupby(by='bias_cat')['sentiment'].mean()\n"
   ]
  },
  {
   "cell_type": "code",
   "execution_count": 35,
   "metadata": {},
   "outputs": [
    {
     "data": {
      "text/plain": [
       "<AxesSubplot:xlabel='topic_index', ylabel='Percent'>"
      ]
     },
     "execution_count": 35,
     "metadata": {},
     "output_type": "execute_result"
    },
    {
     "data": {
      "image/png": "[encoded data removed]",
      "text/plain": [
       "<Figure size 432x288 with 1 Axes>"
      ]
     },
     "metadata": {
      "needs_background": "light"
     },
     "output_type": "display_data"
    }
   ],
   "source": [
    "sns.histplot(data=df, x='topic_index', hue='bias_cat', stat='percent', common_norm=False, multiple='stack', )"
   ]
  },
  {
   "cell_type": "code",
   "execution_count": 40,
   "metadata": {},
   "outputs": [],
   "source": [
    "# print(ttest_ind(df[df['bias_cat'] == 'neutral']['topic_index'], df[df['bias_cat'] == 'far left']['topic_index'], equal_var=False).pvalue)\n",
    "# print(ttest_ind(df[df['bias_cat'] == 'neutral']['topic_index'], df[df['bias_cat'] == 'far right']['topic_index'], equal_var=False).pvalue)\n",
    "# print(ttest_ind(df[df['bias_cat'] == 'far left']['topic_index'], df[df['bias_cat'] == 'far right']['topic_index'], equal_var=False).pvalue)"
   ]
  }
 ],
 "metadata": {
  "interpreter": {
   "hash": "5ec1eaa2ec572d1e97809c83bc6fe1ab2a9cd0ea23d47773ae58fb9f89fdb034"
  },
  "kernelspec": {
   "display_name": "Python 3.8.10 64-bit ('pyenv': venv)",
   "language": "python",
   "name": "python3"
  },
  "language_info": {
   "codemirror_mode": {
    "name": "ipython",
    "version": 3
   },
   "file_extension": ".py",
   "mimetype": "text/x-python",
   "name": "python",
   "nbconvert_exporter": "python",
   "pygments_lexer": "ipython3",
   "version": "3.8.10"
  },
  "orig_nbformat": 4
 },
 "nbformat": 4,
 "nbformat_minor": 2
}
