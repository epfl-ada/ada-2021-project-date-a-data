{
 "cells": [
  {
   "cell_type": "code",
   "execution_count": 3,
   "metadata": {},
   "outputs": [],
   "source": [
    "import pandas as pd\n",
    "import numpy as np\n",
    "from urllib.parse import urlparse\n",
    "import seaborn as sns\n"
    "import re"
   ]
  },
  {
   "cell_type": "code",
   "execution_count": 3,
   "metadata": {},
   "outputs": [
    {
     "data": {
      "text/html": [
       "<div>\n",
       "<style scoped>\n",
       "    .dataframe tbody tr th:only-of-type {\n",
       "        vertical-align: middle;\n",
       "    }\n",
       "\n",
       "    .dataframe tbody tr th {\n",
       "        vertical-align: top;\n",
       "    }\n",
       "\n",
       "    .dataframe thead th {\n",
       "        text-align: right;\n",
       "    }\n",
       "</style>\n",
       "<table border=\"1\" class=\"dataframe\">\n",
       "  <thead>\n",
       "    <tr style=\"text-align: right;\">\n",
       "      <th></th>\n",
       "      <th>domain</th>\n",
       "      <th>score</th>\n",
       "      <th>fb_score</th>\n",
       "      <th>mturk_score</th>\n",
       "      <th>budak_score</th>\n",
       "      <th>allsides_score</th>\n",
       "      <th>allsides_score_community</th>\n",
       "      <th>pew_score</th>\n",
       "    </tr>\n",
       "  </thead>\n",
       "  <tbody>\n",
       "    <tr>\n",
       "      <th>0</th>\n",
       "      <td>bitly.com</td>\n",
       "      <td>0.0543</td>\n",
       "      <td>NaN</td>\n",
       "      <td>NaN</td>\n",
       "      <td>NaN</td>\n",
       "      <td>NaN</td>\n",
       "      <td>NaN</td>\n",
       "      <td>NaN</td>\n",
       "    </tr>\n",
       "    <tr>\n",
       "      <th>1</th>\n",
       "      <td>youtube.com</td>\n",
       "      <td>0.1282</td>\n",
       "      <td>0.0634</td>\n",
       "      <td>0.000000</td>\n",
       "      <td>NaN</td>\n",
       "      <td>NaN</td>\n",
       "      <td>NaN</td>\n",
       "      <td>NaN</td>\n",
       "    </tr>\n",
       "    <tr>\n",
       "      <th>2</th>\n",
       "      <td>instagram.com</td>\n",
       "      <td>0.1427</td>\n",
       "      <td>NaN</td>\n",
       "      <td>0.000000</td>\n",
       "      <td>NaN</td>\n",
       "      <td>NaN</td>\n",
       "      <td>NaN</td>\n",
       "      <td>NaN</td>\n",
       "    </tr>\n",
       "    <tr>\n",
       "      <th>3</th>\n",
       "      <td>facebook.com</td>\n",
       "      <td>0.1132</td>\n",
       "      <td>NaN</td>\n",
       "      <td>-0.083333</td>\n",
       "      <td>NaN</td>\n",
       "      <td>NaN</td>\n",
       "      <td>NaN</td>\n",
       "      <td>NaN</td>\n",
       "    </tr>\n",
       "    <tr>\n",
       "      <th>4</th>\n",
       "      <td>ow.ly</td>\n",
       "      <td>0.0882</td>\n",
       "      <td>NaN</td>\n",
       "      <td>0.000000</td>\n",
       "      <td>NaN</td>\n",
       "      <td>NaN</td>\n",
       "      <td>NaN</td>\n",
       "      <td>NaN</td>\n",
       "    </tr>\n",
       "  </tbody>\n",
       "</table>\n",
       "</div>"
      ],
      "text/plain": [
       "          domain   score  fb_score  mturk_score  budak_score  allsides_score  \\\n",
       "0      bitly.com  0.0543       NaN          NaN          NaN             NaN   \n",
       "1    youtube.com  0.1282    0.0634     0.000000          NaN             NaN   \n",
       "2  instagram.com  0.1427       NaN     0.000000          NaN             NaN   \n",
       "3   facebook.com  0.1132       NaN    -0.083333          NaN             NaN   \n",
       "4          ow.ly  0.0882       NaN     0.000000          NaN             NaN   \n",
       "\n",
       "   allsides_score_community  pew_score  \n",
       "0                       NaN        NaN  \n",
       "1                       NaN        NaN  \n",
       "2                       NaN        NaN  \n",
       "3                       NaN        NaN  \n",
       "4                       NaN        NaN  "
      ]
     },
     "execution_count": 3,
     "metadata": {},
     "output_type": "execute_result"
    }
   ],
   "source": [
    "BIAS_DATA = \"../data/bias_scores.csv\"\n",
    "bias_df = pd.read_csv(BIAS_DATA)\n",
    "bias_df.head()\n"
   ]
  },
  {
   "cell_type": "code",
   "execution_count": 6,
   "metadata": {},
   "outputs": [
    {
     "name": "stdout",
     "output_type": "stream",
     "text": [
      "www.py4u.net\n",
      "py4u.net\n"
     ]
    }
   ],
   "source": [
    "url = 'www.py4u.net'\n",
    "# url = 'https://www.google.com'\n",
    "print(url)\n",
    "\n",
    "www_re = re.compile(r\"(www\\.)?\")\n",
    "url = www_re.sub('', url)\n",
    "print(url)"
   ]
  },
  {
   "cell_type": "code",
   "execution_count": 5,
   "metadata": {},
   "outputs": [
    {
     "name": "stdout",
     "output_type": "stream",
     "text": [
      "nan\n",
      "0.16504285714285713\n"
     ]
    }
   ],
   "source": [
    "import re\n",
    "\n",
    "\n",
    "\n",
    "def get_bias_score(urls):\n",
    "    '''\n",
    "    pass in a list urls return the mean media bias score\n",
    "    or nan if none if the urls is included in the media bias\n",
    "    database\n",
    "    '''\n",
    "    scores = []\n",
    "\n",
    "    # get path of the url\n",
    "    urls = [urlparse(u).path for u in urls]\n",
    "    # remove www if there is\n",
    "    www_re = re.compile(r\"(www\\.)?\")\n",
    "    urls = [www_re.sub('', u) for u in urls]\n",
    "    for u in urls:\n",
    "        # takes the mean of the matched results\n",
    "        ss = bias_df[bias_df['domain'].str.match(u)]['score']\n",
    "        if not ss.empty:\n",
    "            scores.append(ss.mean())\n",
    "\n",
    "    if scores:\n",
    "        return np.nanmean(scores)\n",
    "    else:\n",
    "        return np.nan\n",
    "\n",
    "\n",
    "\n",
    "print(get_bias_score([\"www.not_exist.com\", \"www.xx.com\"]))\n",
    "print(get_bias_score([\"google.com\", \"www.politicio.com\"]))"
   ]
  },
  {
   "cell_type": "code",
   "execution_count": 8,
   "metadata": {},
   "outputs": [
    {
     "data": {
      "text/html": [
       "<div>\n",
       "<style scoped>\n",
       "    .dataframe tbody tr th:only-of-type {\n",
       "        vertical-align: middle;\n",
       "    }\n",
       "\n",
       "    .dataframe tbody tr th {\n",
       "        vertical-align: top;\n",
       "    }\n",
       "\n",
       "    .dataframe thead th {\n",
       "        text-align: right;\n",
       "    }\n",
       "</style>\n",
       "<table border=\"1\" class=\"dataframe\">\n",
       "  <thead>\n",
       "    <tr style=\"text-align: right;\">\n",
       "      <th></th>\n",
       "      <th>quoteID</th>\n",
       "      <th>quotation</th>\n",
       "      <th>speaker</th>\n",
       "      <th>qids</th>\n",
       "      <th>date</th>\n",
       "      <th>numOccurrences</th>\n",
       "      <th>phase</th>\n",
       "      <th>mentions</th>\n",
       "      <th>mentions_qids</th>\n",
       "      <th>urls</th>\n",
       "      <th>country</th>\n",
       "    </tr>\n",
       "  </thead>\n",
       "  <tbody>\n",
       "    <tr>\n",
       "      <th>0</th>\n",
       "      <td>2015-07-24-075914</td>\n",
       "      <td>Prime Minister Modi recognizes the vital role ...</td>\n",
       "      <td>Michael R. Bloomberg</td>\n",
       "      <td>Q607</td>\n",
       "      <td>2015-07-24 15:56:32</td>\n",
       "      <td>1</td>\n",
       "      <td>E</td>\n",
       "      <td>[Narendra Modi]</td>\n",
       "      <td>[Q1058]</td>\n",
       "      <td>[businessfacilities.com]</td>\n",
       "      <td>[India]</td>\n",
       "    </tr>\n",
       "    <tr>\n",
       "      <th>1</th>\n",
       "      <td>2015-09-24-093742</td>\n",
       "      <td>The growing reach of China's army of cyberwarr...</td>\n",
       "      <td>President Barack Obama</td>\n",
       "      <td>Q76</td>\n",
       "      <td>2015-09-24 13:50:51</td>\n",
       "      <td>2</td>\n",
       "      <td>E</td>\n",
       "      <td>[Xi Jinping]</td>\n",
       "      <td>[Q15031]</td>\n",
       "      <td>[www.defenseone.com, defenseone.com]</td>\n",
       "      <td>[People's Republic of China]</td>\n",
       "    </tr>\n",
       "    <tr>\n",
       "      <th>2</th>\n",
       "      <td>2015-12-21-013885</td>\n",
       "      <td>deal with [ Putin ]</td>\n",
       "      <td>Marco Rubio</td>\n",
       "      <td>Q324546</td>\n",
       "      <td>2015-12-21 00:00:00</td>\n",
       "      <td>1</td>\n",
       "      <td>E</td>\n",
       "      <td>[Vladimir Putin]</td>\n",
       "      <td>[Q7747]</td>\n",
       "      <td>[latinpost.com]</td>\n",
       "      <td>[Russia]</td>\n",
       "    </tr>\n",
       "    <tr>\n",
       "      <th>3</th>\n",
       "      <td>2015-01-09-015364</td>\n",
       "      <td>free for eve... Girls basketball notebook: Rul...</td>\n",
       "      <td>President Barack Obama</td>\n",
       "      <td>Q76</td>\n",
       "      <td>2015-01-09 03:37:35</td>\n",
       "      <td>1</td>\n",
       "      <td>E</td>\n",
       "      <td>[Maithripala Sirisena]</td>\n",
       "      <td>[Q6737124]</td>\n",
       "      <td>[billingsgazette.com]</td>\n",
       "      <td>[Sri Lanka]</td>\n",
       "    </tr>\n",
       "    <tr>\n",
       "      <th>4</th>\n",
       "      <td>2015-02-11-030684</td>\n",
       "      <td>I hope the president does see the value of let...</td>\n",
       "      <td>Madeleine Albright</td>\n",
       "      <td>Q174438</td>\n",
       "      <td>2015-02-11 18:35:22</td>\n",
       "      <td>1</td>\n",
       "      <td>E</td>\n",
       "      <td>[Angela Merkel, Vladimir Putin]</td>\n",
       "      <td>[Q567, Q7747]</td>\n",
       "      <td>[breitbart.com]</td>\n",
       "      <td>[Germany, Russia]</td>\n",
       "    </tr>\n",
       "  </tbody>\n",
       "</table>\n",
       "</div>"
      ],
      "text/plain": [
       "             quoteID                                          quotation  \\\n",
       "0  2015-07-24-075914  Prime Minister Modi recognizes the vital role ...   \n",
       "1  2015-09-24-093742  The growing reach of China's army of cyberwarr...   \n",
       "2  2015-12-21-013885                                deal with [ Putin ]   \n",
       "3  2015-01-09-015364  free for eve... Girls basketball notebook: Rul...   \n",
       "4  2015-02-11-030684  I hope the president does see the value of let...   \n",
       "\n",
       "                  speaker     qids                date  numOccurrences phase  \\\n",
       "0    Michael R. Bloomberg     Q607 2015-07-24 15:56:32               1     E   \n",
       "1  President Barack Obama      Q76 2015-09-24 13:50:51               2     E   \n",
       "2             Marco Rubio  Q324546 2015-12-21 00:00:00               1     E   \n",
       "3  President Barack Obama      Q76 2015-01-09 03:37:35               1     E   \n",
       "4      Madeleine Albright  Q174438 2015-02-11 18:35:22               1     E   \n",
       "\n",
       "                          mentions  mentions_qids  \\\n",
       "0                  [Narendra Modi]        [Q1058]   \n",
       "1                     [Xi Jinping]       [Q15031]   \n",
       "2                 [Vladimir Putin]        [Q7747]   \n",
       "3           [Maithripala Sirisena]     [Q6737124]   \n",
       "4  [Angela Merkel, Vladimir Putin]  [Q567, Q7747]   \n",
       "\n",
       "                                   urls                       country  \n",
       "0              [businessfacilities.com]                       [India]  \n",
       "1  [www.defenseone.com, defenseone.com]  [People's Republic of China]  \n",
       "2                       [latinpost.com]                      [Russia]  \n",
       "3                 [billingsgazette.com]                   [Sri Lanka]  \n",
       "4                       [breitbart.com]             [Germany, Russia]  "
      ]
     },
     "execution_count": 8,
     "metadata": {},
     "output_type": "execute_result"
    }
   ],
   "source": [
    "# QUOTE_FILE = '../data/quotes_mentions_USA_compact.json.bz2'\n",
    "# QUOTE_FILE = '../data/quotes_mentions_USA_ML.json.bz2'\n",
    "QUOTE_FILE = '../data/quotes_mentions_world_compact.json.bz2'\n",
    "df = pd.read_json(QUOTE_FILE, lines=True, compression='bz2')\n",
    "df.head()"
   ]
  },
  {
   "cell_type": "code",
   "execution_count": 9,
   "metadata": {},
   "outputs": [
    {
     "data": {
      "text/plain": [
       "0                                 [businessfacilities.com]\n",
       "1                     [www.defenseone.com, defenseone.com]\n",
       "2                                          [latinpost.com]\n",
       "3                                    [billingsgazette.com]\n",
       "4                                          [breitbart.com]\n",
       "                               ...                        \n",
       "26170                                     [www.cityam.com]\n",
       "26171          [freepressjournal.in, www.thestatesman.com]\n",
       "26172                                [floridapolitics.com]\n",
       "26173    [www.duluthnewstribune.com, feeds.foxnews.com,...\n",
       "26174                                    [www.nytimes.com]\n",
       "Name: urls, Length: 26175, dtype: object"
      ]
     },
     "execution_count": 9,
     "metadata": {},
     "output_type": "execute_result"
    }
   ],
   "source": [
    "df.urls"
   ]
  },
  {
   "cell_type": "code",
   "execution_count": 10,
   "metadata": {},
   "outputs": [
    {
     "data": {
      "text/plain": [
       "<AxesSubplot:ylabel='Count'>"
      ]
     },
     "execution_count": 10,
     "metadata": {},
     "output_type": "execute_result"
    },
    {
     "data": {
      "image/png": "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",
      "text/plain": [
       "<Figure size 432x288 with 1 Axes>"
      ]
     },
     "metadata": {
      "needs_background": "light"
     },
     "output_type": "display_data"
    }
   ],
   "source": [
    "import seaborn as sns\n",
    "\n",
    "# see the distribution of first 100 quotations\n",
    "scores = [get_bias_score(urls) for urls in df['urls'].iloc[:100]]\n",
    "sns.histplot(scores)"
   ]
  },
  {
   "cell_type": "code",
   "execution_count": 11,
   "metadata": {},
   "outputs": [
    {
     "name": "stdout",
     "output_type": "stream",
     "text": [
      "Dumped 3000 quotations out of 3000 quotations [quotations/s: 42.38]\n",
      "Dumped 3000 quotations out of 3000 quotations [quotations/s: 27.46]\n",
      "Dumped 3000 quotations out of 3000 quotations [quotations/s: 24.89]\n",
      "Dumped 3000 quotations out of 3000 quotations [quotations/s: 25.23]\n",
      "Dumped 3000 quotations out of 3000 quotations [quotations/s: 26.87]\n",
      "Dumped 3000 quotations out of 3000 quotations [quotations/s: 27.56]\n",
      "Dumped 3000 quotations out of 3000 quotations [quotations/s: 32.98]\n",
      "Dumped 3000 quotations out of 3000 quotations [quotations/s: 42.15]\n",
      "Dumped 2175 quotations out of 3000 quotations [quotations/s: 57.47]\n"
     ]
    }
   ],
   "source": [
    "import os, time, bz2\n",
    "\n",
    "READ_FILE = '../data/quotes_mentions_world_compact.json.bz2'\n",
    "SAVE_FILE = '../data/quotes_mentions_world_bias.json.bz2'\n",
    "\n",
    "CHUNKSIZE = 3000\n",
    "\n",
    "try:\n",
    "    os.remove(SAVE_FILE)\n",
    "except:\n",
    "    pass\n",
    "\n",
    "total_time,total_mentions,chunk_number,nb_quote=0,0,0,0\n",
    "mentions=[]\n",
    "\n",
    "\n",
    "with bz2.open(SAVE_FILE, 'wb') as bz_writer:\n",
    "    with pd.read_json(READ_FILE, lines=True, chunksize=CHUNKSIZE, compression='bz2' ) as df_reader:\n",
    "        for chunk in df_reader:\n",
    "            t1=time.time()\n",
    "\n",
    "            # get bias\n",
    "            bias = [get_bias_score(urls) for urls in chunk['urls']]\n",
    "            chunk[\"source_bias\"] = bias\n",
    "\n",
    "            chunk.to_json(path_or_buf=bz_writer,orient='records',lines=True)\n",
    "            mentions = len(chunk)\n",
    "            total_mentions += mentions\n",
    "            t2=time.time()\n",
    "            dt=t2-t1\n",
    "            total_time+=dt\n",
    "            chunk_number += 1\n",
    "            print(\"Dumped {} quotations out of {} quotations [quotations/s: {:.2f}]\".format(mentions, CHUNKSIZE, CHUNKSIZE / dt))"
   ]
  },
  {
   "cell_type": "code",
   "execution_count": 6,
   "metadata": {},
   "outputs": [
    {
     "data": {
      "text/html": [
       "<div>\n",
       "<style scoped>\n",
       "    .dataframe tbody tr th:only-of-type {\n",
       "        vertical-align: middle;\n",
       "    }\n",
       "\n",
       "    .dataframe tbody tr th {\n",
       "        vertical-align: top;\n",
       "    }\n",
       "\n",
       "    .dataframe thead th {\n",
       "        text-align: right;\n",
       "    }\n",
       "</style>\n",
       "<table border=\"1\" class=\"dataframe\">\n",
       "  <thead>\n",
       "    <tr style=\"text-align: right;\">\n",
       "      <th></th>\n",
       "      <th>quoteID</th>\n",
       "      <th>quotation</th>\n",
       "      <th>speaker</th>\n",
       "      <th>qids</th>\n",
       "      <th>date</th>\n",
       "      <th>numOccurrences</th>\n",
       "      <th>phase</th>\n",
       "      <th>mentions</th>\n",
       "      <th>mentions_qids</th>\n",
       "      <th>urls</th>\n",
       "      <th>topic_index</th>\n",
       "      <th>topic_scores</th>\n",
       "      <th>sentiment</th>\n",
       "      <th>source_bias</th>\n",
       "    </tr>\n",
       "  </thead>\n",
       "  <tbody>\n",
       "    <tr>\n",
       "      <th>0</th>\n",
       "      <td>2015-10-25-000242</td>\n",
       "      <td>' It is not now, nor has it ever been, the gol...</td>\n",
       "      <td>Bernie Sanders</td>\n",
       "      <td>Q359442</td>\n",
       "      <td>2015-10-25 14:12:35</td>\n",
       "      <td>1</td>\n",
       "      <td>E</td>\n",
       "      <td>[Bill Clinton]</td>\n",
       "      <td>[Q1124]</td>\n",
       "      <td>[examiner.com]</td>\n",
       "      <td>8</td>\n",
       "      <td>0.818588</td>\n",
       "      <td>-0.4822</td>\n",
       "      <td>0.1168</td>\n",
       "    </tr>\n",
       "    <tr>\n",
       "      <th>1</th>\n",
       "      <td>2015-08-07-005048</td>\n",
       "      <td>All we ╒ re asking for here is a discussion an...</td>\n",
       "      <td>John Boehner</td>\n",
       "      <td>Q11702</td>\n",
       "      <td>2015-08-07 12:52:52</td>\n",
       "      <td>1</td>\n",
       "      <td>E</td>\n",
       "      <td>[Barack Obama]</td>\n",
       "      <td>[Q76]</td>\n",
       "      <td>[liveblog.irishtimes.com]</td>\n",
       "      <td>8</td>\n",
       "      <td>0.774811</td>\n",
       "      <td>0.0000</td>\n",
       "      <td>NaN</td>\n",
       "    </tr>\n",
       "    <tr>\n",
       "      <th>2</th>\n",
       "      <td>2015-10-01-005722</td>\n",
       "      <td>An email included in the latest tranche of Cli...</td>\n",
       "      <td>Hillary Clinton</td>\n",
       "      <td>Q6294</td>\n",
       "      <td>2015-10-01 14:56:48</td>\n",
       "      <td>2</td>\n",
       "      <td>E</td>\n",
       "      <td>[Bill Clinton]</td>\n",
       "      <td>[Q1124]</td>\n",
       "      <td>[feeds.foxnews.com, www.foxnews.com]</td>\n",
       "      <td>4</td>\n",
       "      <td>0.368826</td>\n",
       "      <td>-0.2732</td>\n",
       "      <td>0.7295</td>\n",
       "    </tr>\n",
       "    <tr>\n",
       "      <th>3</th>\n",
       "      <td>2015-11-17-006368</td>\n",
       "      <td>and in fact, Secretary of State Kerry was earl...</td>\n",
       "      <td>Phil Bryant</td>\n",
       "      <td>Q887898</td>\n",
       "      <td>2015-11-17 20:03:05</td>\n",
       "      <td>1</td>\n",
       "      <td>E</td>\n",
       "      <td>[John Kerry]</td>\n",
       "      <td>[Q22316]</td>\n",
       "      <td>[hottytoddy.com]</td>\n",
       "      <td>1</td>\n",
       "      <td>0.774721</td>\n",
       "      <td>0.0258</td>\n",
       "      <td>NaN</td>\n",
       "    </tr>\n",
       "    <tr>\n",
       "      <th>4</th>\n",
       "      <td>2015-02-14-014011</td>\n",
       "      <td>I have fought Obamacare from Day One and will ...</td>\n",
       "      <td>John Cornyn</td>\n",
       "      <td>Q719568</td>\n",
       "      <td>2015-02-14 21:01:51</td>\n",
       "      <td>2</td>\n",
       "      <td>E</td>\n",
       "      <td>[Barack Obama]</td>\n",
       "      <td>[Q76]</td>\n",
       "      <td>[www.politico.com, politico.com]</td>\n",
       "      <td>2</td>\n",
       "      <td>0.389230</td>\n",
       "      <td>-0.1280</td>\n",
       "      <td>-0.1914</td>\n",
       "    </tr>\n",
       "  </tbody>\n",
       "</table>\n",
       "</div>"
      ],
      "text/plain": [
       "             quoteID                                          quotation  \\\n",
       "0  2015-10-25-000242  ' It is not now, nor has it ever been, the gol...   \n",
       "1  2015-08-07-005048  All we ╒ re asking for here is a discussion an...   \n",
       "2  2015-10-01-005722  An email included in the latest tranche of Cli...   \n",
       "3  2015-11-17-006368  and in fact, Secretary of State Kerry was earl...   \n",
       "4  2015-02-14-014011  I have fought Obamacare from Day One and will ...   \n",
       "\n",
       "           speaker     qids                date  numOccurrences phase  \\\n",
       "0   Bernie Sanders  Q359442 2015-10-25 14:12:35               1     E   \n",
       "1     John Boehner   Q11702 2015-08-07 12:52:52               1     E   \n",
       "2  Hillary Clinton    Q6294 2015-10-01 14:56:48               2     E   \n",
       "3      Phil Bryant  Q887898 2015-11-17 20:03:05               1     E   \n",
       "4      John Cornyn  Q719568 2015-02-14 21:01:51               2     E   \n",
       "\n",
       "         mentions mentions_qids                                  urls  \\\n",
       "0  [Bill Clinton]       [Q1124]                        [examiner.com]   \n",
       "1  [Barack Obama]         [Q76]             [liveblog.irishtimes.com]   \n",
       "2  [Bill Clinton]       [Q1124]  [feeds.foxnews.com, www.foxnews.com]   \n",
       "3    [John Kerry]      [Q22316]                      [hottytoddy.com]   \n",
       "4  [Barack Obama]         [Q76]      [www.politico.com, politico.com]   \n",
       "\n",
       "   topic_index  topic_scores  sentiment  source_bias  \n",
       "0            8      0.818588    -0.4822       0.1168  \n",
       "1            8      0.774811     0.0000          NaN  \n",
       "2            4      0.368826    -0.2732       0.7295  \n",
       "3            1      0.774721     0.0258          NaN  \n",
       "4            2      0.389230    -0.1280      -0.1914  "
      ]
     },
     "execution_count": 6,
     "metadata": {},
     "output_type": "execute_result"
    }
   ],
   "source": [
    "SAVE_FILE = '../data/quotes_mentions_USA_ML_bias.json.bz2'\n",
    "df = pd.read_json(SAVE_FILE, lines=True, compression='bz2' )\n",
    "df.head(5)"
   ]
  },
  {
   "cell_type": "code",
   "execution_count": 7,
   "metadata": {},
   "outputs": [
    {
     "data": {
      "text/plain": [
       "<AxesSubplot:xlabel='source_bias', ylabel='Count'>"
      ]
     },
     "execution_count": 16,
     "metadata": {},
     "output_type": "execute_result"
    },
    {
     "data": {
      "image/png": "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",
      "text/plain": [
       "<Figure size 432x288 with 1 Axes>"
      ]
     },
     "metadata": {
      "needs_background": "light"
     },
     "output_type": "display_data"
    }
   ],
   "source": [
    "world_file = '../data/quotes_mentions_world_bias.json.bz2'\n",
    "\n",
    "\n",
    "df = pd.read_json(SAVE_FILE, lines=True, compression='bz2' )\n",
    "print('source not found ratio {:.2%}'.format(len(df[df['source_bias'].isna()]) / len(df)) )\n",
    "sns.histplot(df['source_bias'])"
   ]
  },
  {
   "cell_type": "code",
   "execution_count": 8,
   "metadata": {},
   "outputs": [
    {
     "data": {
      "text/plain": [
       "0.11162296086458454"
      ]
     },
     "execution_count": 8,
     "metadata": {},
     "output_type": "execute_result"
    }
   ],
   "source": [
    "len(df[df['source_bias'].isna()]) / len(df)"
   ]
  },
  {
   "cell_type": "code",
   "execution_count": 17,
   "metadata": {},
   "outputs": [
    {
     "data": {
      "text/plain": [
       "<AxesSubplot:xlabel='source_bias', ylabel='Count'>"
      ]
     },
     "execution_count": 17,
     "metadata": {},
     "output_type": "execute_result"
    },
    {
     "data": {
      "image/png": "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",
      "text/plain": [
       "<Figure size 432x288 with 1 Axes>"
      ]
     },
     "metadata": {
      "needs_background": "light"
     },
     "output_type": "display_data"
    }
   ],
   "source": [
    "df['bias_cat'] = pd.cut(df['source_bias'], [-1, -0.5, 0.5, 1], labels=['far left', 'neutral', 'far right'])\n",
    "sns.histplot(data=df, x='source_bias', hue='bias_cat')\n",
    "# sns.histplot(df[(df['source_bias'] <= 0.25) & (df['source_bias'] >= -0.25)]['sentiment'])\n",
    "# sns.histplot(df[(df['source_bias'] > 0.25) | (df['source_bias'] < -0.25)]['sentiment'])"
   ]
  },
  {
   "cell_type": "code",
   "execution_count": 31,
   "metadata": {},
   "outputs": [
    {
     "data": {
      "text/plain": [
       "<AxesSubplot:xlabel='sentiment', ylabel='Percent'>"
      ]
     },
     "execution_count": 31,
     "metadata": {},
     "output_type": "execute_result"
    },
    {
     "data": {
      "image/png": "iVBORw0KGgoAAAANSUhEUgAAAYUAAAEGCAYAAACKB4k+AAAAOXRFWHRTb2Z0d2FyZQBNYXRwbG90bGliIHZlcnNpb24zLjQuMywgaHR0cHM6Ly9tYXRwbG90bGliLm9yZy/MnkTPAAAACXBIWXMAAAsTAAALEwEAmpwYAAAtT0lEQVR4nO3deZwU1b338c+ZaXQiIKvohQEHQ1BQ9nHBLS43BhVQE7xueYmJETW5N8/N5uMS402CuebGK68YNYaXMeQ+aoJiiECMiUSMJi4E8gCJIzCDjiz6sJkZnDAD9Mx5/ujFmp7unuruqq6qme/79eLFTC9Vp2uq61fnd079ylhrERERAagIugEiIhIeCgoiIpKmoCAiImkKCiIikqagICIiabGgG1CKoUOH2pqamqCbISISKWvXrt1jrT0q23ORDgo1NTWsWbMm6GaIiESKMeadXM8pfSQiImkKCiIikhbJoGCMmWWMWdjc3Bx0U0REepRIjilYa5cDy2tra28Iui0iUj6HDh1i+/bttLW1Bd2USKiqqqK6upo+ffq4fk8kg4KI9E7bt2+nf//+1NTUYIwJujmhZq1l7969bN++ndGjR7t+XyTTRyLSO7W1tTFkyBAFBBeMMQwZMqTgXpWCgohEigKCe8Vsq0imj4wxs4BZY8aMCbopIp3E43E2b96c/n3s2LHEYpH8mkkvFcmegrV2ubV23oABA4Juikgnmzdv5sYHV/DVJ9dx44MrOgUIkSiIZFAQCbN+R1UzYPho+h1VHXRTJI/GxkZOOumkLo9//vOfp66uLoAWwXe/+91A1uukoCAi4vDII48wfvz4QNatoCAiEqB4PM4111zDuHHjmDNnDvv37+ecc85J11S7+eabqa2t5cQTT+Suu+5Kv+/WW29l/PjxTJw4ka997Ws5l79z504uu+wyJk2axKRJk3jllVcAuPTSS5k2bRonnngiCxcuTC+ztbWVyZMnc8011/j4qfPTCJiI9FqbNm3iJz/5CWeccQaf+9zneOihhzo9f/fddzN48GDa29s5//zz2bBhAyNGjGDp0qVs3LgRYwxNTU05l/+lL32Jj3/84yxdupT29nZaWloAePTRRxk8eDCtra2cfPLJfPrTn+aee+7hgQceYN26dT5+4u5FsqegMhci4oWRI0dyxhlnAPCZz3yGP/7xj52ef/LJJ5k6dSpTpkzhjTfeoK6ujgEDBlBVVcX111/PL3/5S4444oicy3/hhRe4+eabAaisrCQ1Oeb+++9n0qRJnHbaaWzbto36+nqfPmHhIhkUNPtIRLyQOY/f+fvbb7/Nvffey+9//3s2bNjAxRdfTFtbG7FYjNWrVzNnzhxWrFjBjBkzClrniy++yMqVK3n11VdZv349U6ZMCVXZjkgGBRERL2zdupVXX30VgCeeeIIzzzwz/dy+ffvo27cvAwYMYOfOnfzmN78BoKWlhebmZi666CIWLFjA+vXrcy7//PPP50c/+hEA7e3tNDc309zczKBBgzjiiCPYuHEjr732Wvr1ffr04dChQ358VNcUFESk1zr++ON58MEHGTduHH//+9/TqR6ASZMmMWXKFE444QSuvvrqdJrpgw8+YObMmUycOJEzzzyT++67L+fyf/CDH7Bq1SomTJjAtGnTqKurY8aMGcTjccaNG8ett97Kaaedln79vHnzmDhxYqADzcZaG9jKS1VbW2t15zUJk7q6Or765DoGDB9N87tv89//Mjmw6Y090Ztvvsm4ceOCbkakZNtmxpi11trabK9XT0FERNI0JVVEpER33303Tz31VKfHLr/8cu64446AWlS8SAYFFcQTkTC54447IhkAsolk+khTUiWs4vE4e7dtYeeWN9m7bQvxeDzoJokUJJI9BZEwu/bAYka1VbH1QBtwSdDNESmIgoKIh2KxGOeNG8L4Ef2p2/EB6F4KEjGRTB+JiACMGDkKY4xn/0aMHNXtOu+//37GjRtX0rUE/fr1K2g9v/rVr8pWzlunMSISWe9u38YVP37Fs+UtvvH0bl/z0EMPsXLlSqqr3d0vIx6PF3X3Ped6rrvuOmbOnFmWa17UUxARcemmm27irbfe4sILL2TBggWsXr2a6dOnM2XKFE4//XQ2bdoEwKJFi5g9ezbnnXce559/ft5lfv/73+fkk09m4sSJ6fLczvXcfffdLFu2jK9//etMnjyZLVu2+PoZ1VMQEXHp4Ycf5rnnnmPVqlUMHTqUffv28fLLLxOLxVi5ciW33347Tz/9NAB/+ctf2LBhA4MHD865vN/97nfU19ezevVqrLXMnj2bl156qct66uvrmTlzJnPmzPH9MyooiIgUqbm5mblz51JfX48xplMxu0984hN5AwIkgsLvfvc7pkyZAiSK7dXX13P22Wf72u58FBRERIp05513cu6557J06VIaGxs555xz0s/17du32/dba7ntttu48cYbfWxlYSI5pqCb7IhIGDQ3NzNixAggMY5QqE9+8pM8+uij6Tuy7dixg127dnV5Xf/+/fnggw9KaqtbkewpWGuXA8tra2tvCLotIhKc4dUjXc0YKmR5hbjllluYO3cu8+fP5+KLLy54fRdccAFvvvkm06dPBxJTVR977DGGDRvW6XVXXnklN9xwA/fffz9Llizhox/9aMHrckuls0U8VFdXB0tv/vDitct+pNLZHlLp7MKpdLaIiBRNQUFERNIUFEREJE1BQURE0hQUREQkTUFBRETSFBREJLJqRo7wtHR2zcgRZWt7Y2MjTzzxRFHvdVN6u1iRvHhNRATgne3vYn9a+EVjuZjP/tqzZXUnFRSuvvrqLs8VW27bC+opiIgUoLGxkXHjxnHDDTdw4okncsEFF9Da2sqWLVuYMWMG06ZN46yzzmLjxo0AXHfddSxZsiT9/tRZ/q233srLL7/M5MmTWbBgQZdy2y0tLZx//vlMnTqVCRMm8Mwzz5Tl8ykoiIgUqL6+ni9+8Yu88cYbDBw4kKeffpp58+bxwx/+kLVr13LvvffyhS98Ie8y7rnnHs466yzWrVvHl7/8ZSBRbnvJkiX84Q9/oKqqiqVLl/KXv/yFVatW8dWvfpVyVKCIZPrIGDMLmDVmzJigmyIivdDo0aOZPHkyANOmTaOxsZFXXnmFyy+/PP2aAwcOFLxcZ7ltay233347L730EhUVFezYsYOdO3dyzDHHePIZcolkUFBBPBEJ0uGHH57+ubKykp07dzJw4EDWrVvX5bWxWIyOjg4AOjo6OHjwYM7lOsttP/744+zevZu1a9fSp08fampqaGtr8+5D5KD0kYiH4vE4f9v6PmsadvG3re8Tj8eDbpKUwZFHHsno0aN56qmngMRZ/vr16wGoqalh7dq1ACxbtix9I57uymE3NzczbNgw+vTpw6pVq3jnnXd8/hQJkewpiITZfbG+9Iv1oyVWwcKgG9PDHVs93NMZQ8dWDy/6vY8//jg333wz8+fP59ChQ1x55ZVMmjSJG264gUsuuYRJkyYxY8aMdG9g4sSJVFZWMmnSJK677joGDRrUaXnXXHMNs2bNYsKECdTW1nLCCSeU9NncUulsEQ/V1dXxjT9+g4HHDqTpnSbmnzlfpbM9pNLZhVPpbBERKZqCgoiIpCkoiIhImoKCiIikKSiIiEiagoKIiKQpKIhIZI0Y5W3p7BGjui+dff/99zNu3DiuueYazz7HRRddRFNTU97XnHPOOWSbgr9u3TqeffZZz9qii9dEJLLe3fYun33us54t76czftrtax566CFWrlxJdXW1q2XmK4NtrcVaW9JBfd26daxZs4aLLrqo6GU4qacgIuLSTTfdxFtvvcWFF17IggULWL16NdOnT2fKlCmcfvrpbNq0CaBLGWynxsZGjj/+eK699lpOOukktm3bRk1NDXv27AHgO9/5DscffzxnnnkmV111Fffee2/6vU899RSnnHIKY8eO5eWXX+bgwYN885vfZPHixUyePJnFixeX/BnVUxARcenhhx/mueeeY9WqVQwdOpR9+/bx8ssvE4vFWLlyJbfffjtPP/00kCiDvWHDhnTVU6f6+np+9rOfcdppp3V6/M9//jNPP/0069ev59ChQ0ydOpVp06aln4/H46xevZpnn32Wb33rW6xcuZJvf/vbrFmzhgceeMCTz6igICJSpObmZubOnUt9fT3GmHSxO+hcBjvTscce2yUgAPzpT3/ikksuoaqqiqqqKmbNmtXp+U996lPAh+W6/aD0kYhIke68807OPfdc/va3v7F8+fJOpa2dZbAz5Xsun1TJ7srKSt8q8CooiIgUqbm5mREjEjOWFi1aVPLyzjjjjHRwaWlpYcWKFd2+p7sS3IVS+khEImv4yOGuZgwVsrxC3HLLLcydO5f58+dz8cUXl7z+k08+mdmzZzNx4kSOPvpoJkyYwIABA/K+59xzz+Wee+5h8uTJ3HbbbVxxxRUltUGls0U8pNLZ/uoNpbNbWlro168f+/fv5+yzz2bhwoVMnTq16OUVWjo7ND0FY8xxwB3AAGvtnKDbIyIShHnz5lFXV0dbWxtz584tKSAUw9egYIx5FJgJ7LLWnuR4fAbwA6ASeMRae4+19i3gemPMEj/bJCISZk888USg6/d7oHkRMMP5gDGmEngQuBAYD1xljFH/WkRciXLKu9yK2Va+BgVr7UvA+xkPnwI0WGvfstYeBH4BXOJ2mcaYecaYNcaYNbt37/awtSISdlVVVezdu1eBwQVrLXv37qWqqqqg9wUxpjAC2Ob4fTtwqjFmCHA3MMUYc5u19j+zvdlauxAS90Ovra3VniHSi1RXV7N9+3Z0QuhOVVWV6xpNKaEZaLbW7gVuCrodIhJeffr0YfTo0UE3o0cL4uK1HcBIx+/VycdcM8bMMsYsbG5u9rRhIiK9XRBB4c/Ax4wxo40xhwFXAssKWYC1drm1dl53F3WIiEhhfA0KxpifA68CxxtjthtjrrfWxoF/BX4LvAk8aa19w892iIiIO76OKVhrr8rx+LOAd7cKEhERT0SyIJ7GFERE/BGa2UeFsNYuB5bX1tbeEHRbRKSzeDzO5s2bOz02duzYnLeklHDRX0lEPLV582ZufHAF/Y5KzI9v2b2dH39xpgoDRoSCgoh4rt9R1QwYrusJoiiSYwoiIuKPSAYFDTSLiPgjkkFBF6+JiPgjkkFBRET8oaAgIiJpCgoiIpIWyaCggWYREX9EMihooFlExB+RDAoiIuIPXdEsIiVz1jtqaGjQPZQjTEFBRErmrHe0c+Ma2vv05UDbAQD+sWcH8fhJAbdQ3FJQkFDKrLSpKpvB6676aare0f5//IMzN36PUwcPBGDrgTbgkjK3VooVyW+ZMWYWMGvMmDFBN0V84jzzVJXNcHBb/bSiopJTjxvI7CnHAFC34wNQQI+MSP6ldD+F3kGVNsMn6L+JepD+czX7yBhzhpvHRET8lOqtfPXJddz44Iou6SwpndspqT90+ZiIiK9SvZVUGku8lbffZYyZDpwOHGWM+YrjqSOBSj8bJiIi5dddMu4woF/ydf0dj+8D5vjVKBGRUmjsoXh5t5K19g/AH4wxi6y175SpTRIR+uJJWLmdvaZ9uCu3n/5wY8xCoMb5HmvteX40qjuakuq9Yr4cmjYqYeZmplSp+3BPDCpuW/8U8DDwCNDuX3Pc0ZRU7xX75Qh6iqL0Xh0d7TQ0NHR6rJiDcin7cE88MXK79eLW2h/52hIJnA7wUk6lnmXv3/se859pZMjIFiD3xXRey6zz1HfoiB71vXH7F1hujPkCsBQ4kHrQWvu+L60SEV91V7LCDeeZ+qZNm9iztYG21jbef/dt7KDuC+LlO8t2GzD8OiDn2z7Odu/atJYjR53o+fqD5HYPmJv8/+uOxyxwnLfNEZFyyFeyItcBOR6Ps3fbFtpa2wDYU/9/+c72oxg6qoU972zmgj2PcWr/gbze1MTRIwe5akeu3qmXaZli0kzdlfRItbtl93ZXbYjS2IOrVllre07fSESA4g7I1x5YzKi2KgBeP9TEn4bexoDho2lrbePUIz+sdxSrML61r1DFppmc63cGlmJKg0dp7MFVUDDGHAF8BRhlrZ1njPkYcLy1doWvrRPpBcJ4FpntgByLxThv3BDGj/jwkqVXTOkH/3IoNc3kDCxuU0ZRHXtwu+f9FFhL4upmgB0kZiQpKIgvnKmKnl6PP0pnkUFz7hdN721jyJghBS+j2LP+1EE9V8ooM03V0NDAfz33Jv2HjewUSLyaNeUXt634qLX2CmPMVQDW2v3GROQUQSIrlaroDfX4wzrzK/MAWtMe/B3VUvvF64ea+BOTC35/MWf9hS4XSC87M5AENWvKLbdB4aAx5iMkBpcxxnwUxyykctPFa/n5mY4o120XnakK1eMPjvMAtnfbFr7Rbz8TRx0ZWHsyU1jFpq+6O+svljNFlG/Zztdl9hyC7jW4XfNdwHPASGPM48AZwHV+Nao7ungtv1zpCC+mIfb06XhR5MXfNZ/UAayttQ3aSltWuU4qikkzlTqYXCxn4A1Dr8Ht7KPnjTF/AU4DDPC/rLV7fG2ZlCRbOsLtnbPcLrvUsyy/D2a9hVd/13Io50mFmzSTtfD+u28DnafYlvuEJ0yD0G5nH10GvGCt/XXy94HGmEuttb/ys3HivSBy17nSWVE6mIVdWMckAOLtlkbHGbhfqRvnmX5jYyNnjx2cTnXlSjNV9h3EzG0LOXXwwE5TbN22zRlUih34DhvX6SNr7dLUL9baJmPMXcCvfGmVBMrt7AjnFyJzhlBmmiA1CyPXRUD5OA8q+doj+ZUrdZOpce9+5j+zPu/AbraZO4W2r5jxj8z7SRc6RtElqBQx8O0UhvEFt2vLdoc2fSPLoFxz2J05WGc3GnKfwTu/EJkzhLKlCYo9k3UeVPK1R/ILcjyou95Brpk7kHsGVHu7TZ+UQOpMfbJn4x+5dOod/L+tnDJ6QNFBJVMYxhfcHl3WGGPuAx5M/v5FEtctiAfc1lnxeyfplINNdqPzcZ5lZZshlG3sId9gXr7pj2HKuUZZrvEgLwdZrbVs3NGc/r3hvWZsTffLyzVzJ2cPwMDcA79gTNsAAE/O1N3o1DsooKSHW0Hv626Dwr8BdwKLSUxLfZ5EYJACFJtbL0e+2Kupft3JN0c8bNMfezLn2S54O8h6dL8K7tx9OMNiib/drso2BnfThsx8fNfnuvYAKisMZ48dRO2YYen3Zdtvs/co8uf+M7eP8z2ZKadcJT2iOt7QbVAwxlQCK6y155ahPT1avrN+Nwd+59lcPB4H6JRKCjLPnpn3z3e2mS+V4OX0R8nNebYLnesYfbBru6uDmfNg66yMGqswDDt+GKOmj/rwta1dD5z58vGe5uqL6FFkbp/XDjbx63cHYIxxXQXWuQzn+8MeILo9glhr240xHcaYAdba5u5e3xsVkvdPHfyL6a5nnmVXHjGQISM/CsAHO9/hlgtPZMyYMWUdREzJzPtH8RqG3jRFNvNsFz48y3Z9QHYcbItJo+Qb5C11ANjJbY8iX9vaOyxDdy7O+1m79Egc4w2d3l+mNFex3O7tLcBfjTHPA/9IPWit/ZIvrYqYYvL+xV5q7zzLjvUb2ikH290Mj2K5DWBur+b0kpcD8UFNkfWzzlMxM47cHpAzD7ZeVEYNK1efNbNH4ggezve3t1tWvNdIqlJQ2HoObr89v0z+kxyKyft7PV+70OW5rWvjV60YL3g9EB/UfP9C6zy5PdjrCvSucqW9SpWtR+IqeISs5+D2iuafJWsfjbLWbvK5TZEWhnnGbhUysOvXBUdeCPOFW27kqvPk1d2/SrkC3a8DaKBKTHuVKjN4OHsOYeg1uL2ieRZwL3AYMNoYMxn4trV2to9tiyTngdaZ54fyXTDknPXQsmsrmzZ9JOf6Cx3YdS47qINEqdMny3XtR0d7R0knCJnprMxxo7IE6oAPoH7IlQoKLAA6t3EIeg1u99D/AE4BXgSw1q4zxgR2K84gqqRmHkics38yD0zOL2sxg6+lHvQ6DRTuaeK7yysYur7Vk/SB33O03fDihie5rrD2UsvOFuavWV/ShUjOXpCf40a5eD1uEIaTipwCCoCZ2zg1hhNU1sHtGg5Za5szbqHQ4UN7XAmiSmrmWZtz9k++L2gxg6+l5vC7DBRWVXeZagjFDXC5naPtt+7OkjODeLYbnhQyBRiK+1IWeiFSZp2gXD27MKbxcuno6Ejvd/uam5m5bzGnBXhSkUvYBs6DurrZ7R7+hjHmaqAyeSvOLwGv+NescMo8a0vN/vHjC+rHlz/r3PQydFVzXcST7wKhUmUL4tlueJJPEF9KN3WCMmVuxzDeqS59Br6viVkTBnHa2KMBbw+8PWH8w/kZnBftlVMhVzTfQeLGOk8AvwXm+9Uo8Ue+uelOxVwBmsl5oOp0dugIRH4Hqcwgnk13qbpsZ/rlun+B2+CVuR1zzWAKKnVTUVHR7Rl45j7nbJ/rg31PGP8IwfhC3r3YGFMF3ASMAf4KTLfWxsvRMAmQB1PmOo09ZJwdpgJROYNULsWk6robAO5o75pZ9fO+vJnbMded6kodD8pW02h4v4Fdntu4oxk7qn9hHyLPHH+3B/uwpX+KkWt8oZy62yN/BhwCXgYuBMYB/+5zm8QhiPopxVwBminX2ENRXXyf53UXk6rLNQC8d9sWjhzZwuDjOlf7CcN9efONB7n5u2SraXR2lud2tbVxzIDKgtqWb45/TzjYR0l3QWG8tXYCgDHmJ8Bq/5sUHuWqP58vt+51vfbA5Tnry3Vg8iJI+a3T1N5uXhNKLs7Gs9U0Ir4v63MVldmq7UsUdBcUDqV+sNbGTci+iH4r19Wg+XLrzrO7sF3k4pQvJ+yU96zPcWB6ramJpooK1jRUdkpTiD+icjbuTFNpv/BHd0FhkjFmX/JnA3wk+bsBrLW2x9c19up+xJA7FeQ2t97poOmoupi5vEDkywm75DwwDetrmPf2gUQ6wpGm8JOfs6HEG53SVGXaL3qbvEHBWltYYlDyylVK13UpXmdRLUfVRSiutK9bbvLNruu+uNQlVRHfl/8NHghqyq64F8R+0duEsyhPD9UpFeSiFG8+XeqnFLG8njDVL999ogvluscWIc4KrFGduy/lpaCQoZjBZeeB6e/vbaXyiMTZS770g9c53KKW1wOm+uW7T3TUZaaz3O5bmdK3WQ1ZQJdwUlDIUMzgsvPA9OqBvzO4wnB8W/hnC5V6sA/DoF9394lOieKtETPTWc59y226MPM2q2EK6H5yu2+Wug+H4TvgNQWFLAodXM5MOwzvX5H1ZhpBdN/dpoiK2bmDGvQr5lqHIKb2Omv+uA1EncocOO7clZLet0pMP/YEHR0dOS+mc7tvlroP98SBbwUFPxU5I8fTGi4uU0TF7NyBDfq5+EzOXDpk3BqxjFN7Cy5Z0ANSeuV0X6wvg7NcTOd23yxmH+58ArWPo8ZW+/IdcB4HylnPSkHBpXz5Xc9n5Hg4sOv24BGlWR1uP1Mqlw55yibkOViX+qXMrPnjZtC6XAf7fCUroqKiooJhJw1j+AnDP3ywDPttqVdvu+bYT8s5Xqag4FK+/K7X3XedBZYuM5cOucsm5DxYB/SlLId8JSvCkCf3sg350kxu1p/5HrdXbzuXUf9eE83NFa7XD53303zjZV5TUHAp23TFVH4XdODuiXJ9KbukplykoDKv+A66vHW+khVuU4nOg21RRfDy8DpXnyvN5Gb9bt+Tbxk7TSuxyhhDIjD2oKAgvVqx4zedUlNuxgsyxpfC3PMoJJWYOth6nUbxMp1ZTJopc/0dHR1s3LYDjHEdADOXERsU+7ANIU7PhiYoGGP6Ag8BB4EXrbWPB9wk6Q2KGL/JTE05B67ff/dthozuWjo7M2WV2fPYuPV99re2Riq3n3mwLbQIXhjSVIXwKgAWk84qJ1+DgjHmUWAmsMtae5Lj8RnAD4BK4BFr7T3Ap4Al1trlxpjFgIKC+M6T8RtHYGk40MwKRha8iPtifekX6xe61EKUUkRuFfOZ3ATAzIN9vmUXms4qJ797CouAB4D/ST1gjKkEHgQ+AWwH/myMWQZUk7iRD0C7z+1yJdQ3GQ9IyTdT6YGcgWVN/wqerSjsjDkWizF80nAGHjsw8UDIUgtRSBEVyq/P1Olgn2PZmQHGmZoKQ6/B16BgrX3JGFOT8fApQIO19i0AY8wvSCRXt5MIDOuAUBRjL/VOVUHxs1tetul4EgqlpojCKNdnKrVXlG3swu32SgepEPQaghhTGAFsc/y+HTgVuB94wBhzMbA815uNMfOAeQCjRo3K9TJP5LtTVZjl6pZ7MTddN1ORUoS9p+lXDyIfZzAJQ68hNAPN1tp/AJ918bqFwEKA2tpa5XOyyNUtdzvNLuwDYRItzv2pqfkD/vtgVSh7mmHpFQXdawgiKOyATiNx1cnHAuOsjLpp0yb2bG3okaWG881Nz+TlQFiudFZPuKo2DDK341u7WzkhHg+wRV2lD3QH2zjm5GOoPrEa8PbA6+egeLl0SUEFML4URFD4M/AxY8xoEsHgSuDqQhZgjJkFzBozZownDXJWRt3zzmYu2PMYp/aP1jiCl7woH+A8UHU6O8xxs3cI3yyMqMjcji2xikRXOkO+1I2fB9RSz8ALaVsQ6Z+exu8pqT8HzgGGGmO2A3dZa39ijPlX4LckpqQ+aq19o5DlWmuXA8tra2tv8Kqtqcqoba1tnHpkeMYRSr1UPiidxjUyzg5z3ezd+ZyT0ln5ZW7HpneaiGUpidDdJIEgD6jdTed007awpH+izu/ZR1flePxZ4Fk/1x12uQ72kLsEcKQulc8xIF3sGWnQ87rj7ZbGhgYgcfOlmvbopRXzTRIIwwE113TOMLQtaM79L2Xs2LFZg3+pQjPQ3NvkOthD/hLAYb1UvpgLd9yekbpNZ/l54G7cu5/5z6xnyMgW9m7bwjf67WfiqCM9W35vV8p0zt7Auf8BtOzezo+/OJPx48d7vq5IBgWvxxTKJV8d9k4He+j2gB/GlEoxF+44v/il5rX9PnD3HToinWKkzbPFeq6jvYOGiPdqpKvU/ue3SAYFP8YUysHrC7/KlVJxc7D26kyv1Lx2VA7cfmrZ2cL8NYnguGdrA1e1vMfBg22RnZEj5RXJoBA2bq8g9vLCr3yXyrv98odtVkfQueOwTZHNbE8hEw1SwbF1fyuLWj/Cs5qRIy4pKHigUw/AtHHUjuZArkgs5sAd9VkdmQHZ1hSfKgnbFNnM9hQz0cAYXYEuhYlkUAhiTMHtnZg6OjpY8F5T2a9ILKaeS5gP9m5llvQYnON1bnpzhVzcVw7Z2pMaeyqmZyjiRiSDQhBjCl3OIh09AueXMlcdEwjuKsuedkGPM9BlDti3tya2tbWWhveaWdM/EehyXUBXvna66zWGLaUnvU8kg0IQst2JKd0jyPOldDMjJ5OXV5f2hN5ANm4OiIsqE7l0oNMFdOUsOlZMHZuop/Qk2hQUiuTmS+lJKV2dBXbhZttn5tIzX1eOomPF1LHRwV6CpqAQQjow+MvtwToz/VPKIHbmdSVhLFon4eLl/leISAYFrwea4/E4e7dt6VIZNey136V03aXqnD2K1CB25niF2xSUM5WYq2idiFO2/c9vkQwKfgw0X3tgMaPaqjpVRtVdxnqHXKm6zB5FahAbMsYrXKSgMpeVq2idSEq+/c9P2itJ3CP3vHFDGD8icZaYqoyqu4z1fMWk6jLHKzQ9VHoSBQXpMTo6Onj/3bcBeP/dtxkyuqNsy9bEAOkpFBQyaBwh2uYe+AVj2gbQcKCZFZ1u8OffssM2McDP4CjBcP5NAf6xZwfx+Em+rEtBIYPGEaKroqKCs8cOonbMMNb0r+DZCu8Ozn4u2w9+BkcJRupvCrD1QBtwiS/riWRQ8LPMhcYRJOqiFsCke86/KUDdjg/Ap4kKkdxbrLXLrbXzBgwYEHRTRIqSuudBXV0dDQ0NdLQrxSPhEMmegkjUOe95sHfbFo4c2cLg48o1E10kNwUFkYB0uiGQSEhEMn0kIiL+UFAQEZE0BQUREUlTUBARkbRIBgVjzCxjzMLm5ubuXywiIq5FMijoOgUREX/0yimp8XiczZs3p39vaGigpr08N7AQEQmzXhkUNm/ezI0PrqDfUdUA7NnawFUt73HwYJuK4IlIr9YrgwJAv6OqGTB8NACt+1tZ1Jq4aYqK4IlIb9Zrg4JT5k1TVARP/Kby1hJWCgoiAVF5awkjBQWRAKi8tYSV9kQREUmLZE/Bz5vsSHR1dHToVqoiJYpkT0EXr0ku98X6cmvsSP6r7XAqNYtMpGCR7CmIZFNRUcGwk4Yx/IThid81i0ykYAoKIi4oNSW9hYKCiEv3xfoyWBc4Sg+noCDiglJT0lsoKIj0MEp1SSkUFER6IKW6ehZnoAd4a3crJ8TjvqxLQUGkh1Gqq2dKBXqAllgFC31aT68MCvF4nL3bttDW2gaoIJmIhFtmoG96p4lYzJ/Dd68MCgDXHljMqLYqABUkExFJ6pVBIRaLcd64IYwfkRiAU0EyEZEEHQlFRCQtkj0FFcSTqNO0UQmrSPYUVBBPegIV75MwimRPQSTqNG1Uwkp7ooiIpCkoiIhImoKCiIikKSiIiEiagoKIiKQpKIiISJqCgoiIpCkoiIhIWq+8eC0ej7Nx6/vsb20FVGZARCSlVwYFSJQY6BfrB6C7U4mIJPXKoBCLxRg+aTgDjx2YfkxlBkRENKYgIiIOCgoiIpKmoCAiImkKCiIikqagICIiaQoKIiKSpqAgIiJpCgoiIpJmrLVBt6FoxpjdwDtFvn0osMfD5nhF7SqM2lWYsLYLwtu2ntiuY621R2V7ItJBoRTGmDXW2tqg25FJ7SqM2lWYsLYLwtu23tYupY9ERCRNQUFERNJ6c1BYGHQDclC7CqN2FSas7YLwtq1XtavXjimIiEhXvbmnICIiGRQUREQkrUcHBWPM5caYN4wxHcaYnFO3jDEzjDGbjDENxphbHY+PNsa8nnx8sTHmMI/aNdgY87wxpj75/6AsrznXGLPO8a/NGHNp8rlFxpi3Hc9NLle7kq9rd6x7mePxILfXZGPMq8m/9wZjzBWO5zzdXrn2F8fzhyc/f0Nye9Q4nrst+fgmY8wnS2lHEe36ijGmLrl9fm+MOdbxXNa/aZnadZ0xZrdj/Z93PDc3+XevN8bMLXO7FjjatNkY0+R4zs/t9agxZpcx5m85njfGmPuT7d5gjJnqeK707WWt7bH/gHHA8cCLQG2O11QCW4DjgMOA9cD45HNPAlcmf34YuNmjdv0XcGvy51uB73Xz+sHA+8ARyd8XAXN82F6u2gW05Hg8sO0FjAU+lvx5OPAeMNDr7ZVvf3G85gvAw8mfrwQWJ38en3z94cDo5HIqy9iucx370M2pduX7m5apXdcBD2R572DgreT/g5I/DypXuzJe/2/Ao35vr+SyzwamAn/L8fxFwG8AA5wGvO7l9urRPQVr7ZvW2k3dvOwUoMFa+5a19iDwC+ASY4wBzgOWJF/3M+BSj5p2SXJ5bpc7B/iNtXa/R+vPpdB2pQW9vay1m6219cmf3wV2AVmv2CxR1v0lT3uXAOcnt88lwC+stQestW8DDcnllaVd1tpVjn3oNaDao3WX1K48Pgk8b61931r7d+B5YEZA7boK+LlH687LWvsSiZPAXC4B/scmvAYMNMb8Ex5trx4dFFwaAWxz/L49+dgQoMlaG8943AtHW2vfS/78/4Cju3n9lXTdIe9Odh0XGGMOL3O7qowxa4wxr6VSWoRoexljTiFx9rfF8bBX2yvX/pL1Ncnt0Uxi+7h5r5/tcrqexNlmSra/aTnb9enk32eJMWZkge/1s10k02yjgRccD/u1vdzI1XZPtlespKaFgDFmJXBMlqfusNY+U+72pORrl/MXa601xuScF5w8A5gA/Nbx8G0kDo6HkZir/L+Bb5exXcdaa3cYY44DXjDG/JXEga9oHm+v/wPMtdZ2JB8uenv1RMaYzwC1wMcdD3f5m1prt2RfgueWAz+31h4wxtxIopd1XpnW7caVwBJrbbvjsSC3l68iHxSstf9c4iJ2ACMdv1cnH9tLolsWS57tpR4vuV3GmJ3GmH+y1r6XPIjtyrOofwGWWmsPOZadOms+YIz5KfC1crbLWrsj+f9bxpgXgSnA0wS8vYwxRwK/JnFC8Jpj2UVvryxy7S/ZXrPdGBMDBpDYn9y81892YYz5ZxKB9uPW2gOpx3P8Tb04yHXbLmvtXsevj5AYQ0q995yM977oQZtctcvhSuCLzgd83F5u5Gq7J9tL6SP4M/Axk5g5cxiJHWCZTYzcrCKRzweYC3jV81iWXJ6b5XbJZSYPjKk8/qVA1lkKfrTLGDMolX4xxgwFzgDqgt5eyb/dUhK51iUZz3m5vbLuL3naOwd4Ibl9lgFXmsTspNHAx4DVJbSloHYZY6YAPwZmW2t3OR7P+jctY7v+yfHrbODN5M+/BS5Itm8QcAGde8y+tivZthNIDNq+6njMz+3lxjLg2uQspNOA5uSJjzfby68R9DD8Ay4jkVc7AOwEfpt8fDjwrON1FwGbSUT6OxyPH0fiS9sAPAUc7lG7hgC/B+qBlcDg5OO1wCOO19WQiP4VGe9/AfgriYPbY0C/crULOD257vXJ/68Pw/YCPgMcAtY5/k32Y3tl219IpKNmJ3+uSn7+huT2OM7x3juS79sEXOjx/t5du1Ymvwep7bOsu79pmdr1n8AbyfWvAk5wvPdzye3YAHy2nO1K/v4fwD0Z7/N7e/2cxOy5QySOX9cDNwE3JZ83wIPJdv8Vx8xKL7aXylyIiEia0kciIpKmoCAiImkKCiIikqagICIiaQoKIiKSpqAgUiSTqMx6keP32SZLtU2P13mOMeZ0P9chvZuCgkjxJpOY6w6AtXaZtfYen9d5Dol58iK+0HUK0isZY/qSKPVdTaKM8ndIXPBzH9AP2ANcZxOlNV4EXidRenogiYuJXk++/iMkLjD8z+TPtdbafzXGLAJaSZQ/GEbioqJrgekkSh1fl2zHBcC3SJTT3kLigqMWY0wjiRpAs4A+wOVAG4nqpu3AbuDfrLUv+7B5pBdTT0F6qxnAu9baSdbak4DngB+SuO/CNOBR4G7H62PW2lOAfwfusolyy98kcU+CydbaxVnWMYhEEPgyidIEC4ATgQnJ1NNQ4BvAP1trpwJrgK843r8n+fiPgK9ZaxtJ3KdiQXKdCgjiucgXxBMp0l+B/zbGfA9YAfwdOAl4PlEiiUoSpQZSfpn8fy2J8iNuLLfW2mQV2Z3W2r8CGGPeSC6jmsSNd/6UXOdhOGrsZKzzUwV8NpGiKShIr2St3WwStzG8CJhPoj7SG9ba6Tnekqoo2o77703qPR2On1O/x5LLet5ae5WH6xQpidJH0isZY4YD+621jwHfB04FjjLGTE8+38cYc2I3i/kA6F9CM14DzjDGjEmus68xZqzP6xTJS0FBeqsJwGpjzDrgLhLjA3OA7xlj1pOoItrdLJ9VwHiTuHn7FYU2wFq7m8T9iX9ujNlAInV0QjdvWw5cllznWYWuU6Q7mn0kIiJp6imIiEiagoKIiKQpKIiISJqCgoiIpCkoiIhImoKCiIikKSiIiEja/werNMrlSSwybgAAAABJRU5ErkJggg==",
      "text/plain": [
       "<Figure size 432x288 with 1 Axes>"
      ]
     },
     "metadata": {
      "needs_background": "light"
     },
     "output_type": "display_data"
    }
   ],
   "source": [
    "sns.histplot(data=df, x='sentiment', hue='bias_cat', stat='percent', common_norm=False, multiple='stack', log_scale=(False, True))"
   ]
  },
  {
   "cell_type": "code",
   "execution_count": 39,
   "metadata": {},
   "outputs": [
    {
     "name": "stdout",
     "output_type": "stream",
     "text": [
      "2.537277941862108e-38\n",
      "5.2250237043207143e-20\n",
      "7.112316873834822e-09\n"
     ]
    },
    {
     "data": {
      "text/plain": [
       "bias_cat\n",
       "far left     0.060447\n",
       "neutral      0.097064\n",
       "far right    0.078851\n",
       "Name: sentiment, dtype: float64"
      ]
     },
     "execution_count": 39,
     "metadata": {},
     "output_type": "execute_result"
    }
   ],
   "source": [
    "from scipy.stats import ttest_ind\n",
    "# print(ttest_ind(df[df['bias_cat'] == 'neutral']['sentiment'].iloc[:100], df[df['bias_cat'] == 'neutral']['sentiment'].iloc[-100:], equal_var=False).pvalue)\n",
    "print(ttest_ind(df[df['bias_cat'] == 'neutral']['sentiment'], df[df['bias_cat'] == 'far left']['sentiment'], equal_var=False).pvalue)\n",
    "print(ttest_ind(df[df['bias_cat'] == 'neutral']['sentiment'], df[df['bias_cat'] == 'far right']['sentiment'], equal_var=False).pvalue)\n",
    "print(ttest_ind(df[df['bias_cat'] == 'far left']['sentiment'], df[df['bias_cat'] == 'far right']['sentiment'], equal_var=False).pvalue)\n",
    "df.groupby(by='bias_cat')['sentiment'].mean()\n"
   ]
  },
  {
   "cell_type": "code",
   "execution_count": 35,
   "metadata": {},
   "outputs": [
    {
     "data": {
      "text/plain": [
       "<AxesSubplot:xlabel='topic_index', ylabel='Percent'>"
      ]
     },
     "execution_count": 35,
     "metadata": {},
     "output_type": "execute_result"
    },
    {
     "data": {
      "image/png": "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",
      "text/plain": [
       "<Figure size 432x288 with 1 Axes>"
      ]
     },
     "metadata": {
      "needs_background": "light"
     },
     "output_type": "display_data"
    }
   ],
   "source": [
    "sns.histplot(data=df, x='topic_index', hue='bias_cat', stat='percent', common_norm=False, multiple='stack', )"
   ]
  },
  {
   "cell_type": "code",
   "execution_count": 40,
   "metadata": {},
   "outputs": [],
   "source": [
    "# print(ttest_ind(df[df['bias_cat'] == 'neutral']['topic_index'], df[df['bias_cat'] == 'far left']['topic_index'], equal_var=False).pvalue)\n",
    "# print(ttest_ind(df[df['bias_cat'] == 'neutral']['topic_index'], df[df['bias_cat'] == 'far right']['topic_index'], equal_var=False).pvalue)\n",
    "# print(ttest_ind(df[df['bias_cat'] == 'far left']['topic_index'], df[df['bias_cat'] == 'far right']['topic_index'], equal_var=False).pvalue)"
   ]
  }
 ],
 "metadata": {
  "interpreter": {
   "hash": "5ec1eaa2ec572d1e97809c83bc6fe1ab2a9cd0ea23d47773ae58fb9f89fdb034"
  },
  "kernelspec": {
   "display_name": "Python 3.8.10 64-bit ('pyenv': venv)",
   "language": "python",
   "name": "python3"
  },
  "language_info": {
   "codemirror_mode": {
    "name": "ipython",
    "version": 3
   },
   "file_extension": ".py",
   "mimetype": "text/x-python",
   "name": "python",
   "nbconvert_exporter": "python",
   "pygments_lexer": "ipython3",
   "version": "3.8.10"
  },
  "orig_nbformat": 4
 },
 "nbformat": 4,
 "nbformat_minor": 2
}
