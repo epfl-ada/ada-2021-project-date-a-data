{
 "cells": [
  {
   "cell_type": "markdown",
   "metadata": {},
   "source": [
    "### Network and communities\n",
    "To capture interactions between politicians, we build a directed network graph where each node is a politician and each edge represent then mention of one politician by another one. The weight of each edge represent the number of occurencies of it. We applied the [Kernighan-Lin algorithm](https://ieeexplore.ieee.org/stamp/stamp.jsp?tp=&arnumber=6771089&tag=1) to split the graph into 2 communities. Each node has two attributes: the party the politician belongs to (Democratic, Republican or directly affiliated parties) and the community it has been assigned to. The goal of this part of our work was to check wether US politicians interact more within their own party or not."
   ]
  },
  {
   "cell_type": "code",
   "execution_count": 1,
   "metadata": {},
   "outputs": [],
   "source": [
    "import json\n",
    "import bz2\n",
    "import numpy as np\n",
    "import pandas as pd\n",
    "import networkx as nx\n",
    "import networkx.algorithms.community as community\n",
    "from collections import Counter\n",
    "import matplotlib\n",
    "import matplotlib.pyplot as plt\n",
    "from matplotlib import cm\n",
    "import seaborn as sns\n",
    "from scipy.stats import spearmanr\n",
    "import warnings\n",
    "\n",
    "sys.path.insert(0, os.path.join(os.getcwd(), 'src'))\n",
    "from utils_vizualisation import *\n",
    "\n",
    "warnings.filterwarnings(\"ignore\") #to ignore seaborn \"FutureWarnings\"\n",
    "np.random.seed(42)\n",
    "%load_ext autoreload\n",
    "%autoreload 2"
   ]
  },
  {
   "cell_type": "markdown",
   "metadata": {},
   "source": [
    "We load catalogue and usa policitians mentions:"
   ]
  },
  {
   "cell_type": "code",
   "execution_count": 21,
   "metadata": {},
   "outputs": [
    {
     "name": "stdout",
     "output_type": "stream",
     "text": [
      "total number of citations: 450436\n"
     ]
    }
   ],
   "source": [
    "quotes_mapped='./data/quotes_mentions_USA_ML_bias.json.bz2'\n",
    "WIKI_DATA_FILTERED='./data/filtered_politician_labeled_us_v3.json.bz2'\n",
    "\n",
    "df_full=pd.read_json(quotes_mapped, lines=True)\n",
    "catalogue_df=pd.read_json(WIKI_DATA_FILTERED, lines=True)\n",
    "print(f'total number of citations: {df_full.shape[0]}')"
   ]
  },
  {
   "cell_type": "markdown",
   "metadata": {},
   "source": [
    "We only select the main democratic and republicans parties (with more than 10 politicians in the catalogue, may need to filter more to be more exhaustive?) (for each one checked on wikipedia if \"affiliated to national Democratic/Republican party\"). This makes sense to keep our network divided into the two real communities and check its correlation with the communities detected in the network."
   ]
  },
  {
   "cell_type": "code",
   "execution_count": 22,
   "metadata": {},
   "outputs": [],
   "source": [
    "catalogue_df=catalogue_df.loc[catalogue_df.parties.apply(len) !=0]\n",
    "catalogue_df.parties=[x[0] for x in catalogue_df.parties]\n",
    "catalogue_df.loc[catalogue_df.parties == 'Minnesota Democratic–Farmer–Labor Party','parties']='Democratic Party'\n",
    "catalogue_df.loc[catalogue_df.parties == 'Iowa Democratic Party','parties']='Democratic Party'\n",
    "catalogue_df.loc[catalogue_df.parties == 'California Democratic Party','parties']='Democratic Party'\n",
    "catalogue_df.loc[catalogue_df.parties == 'Maine Democratic Party','parties']='Democratic Party'\n",
    "catalogue_df.loc[catalogue_df.parties == 'North Dakota Democratic-Nonpartisan League Party','parties']='Democratic Party'\n",
    "catalogue_df.loc[catalogue_df.parties == 'Democratic Party of Oregon','parties']='Democratic Party'\n",
    "catalogue_df.loc[catalogue_df.parties == 'Utah Democratic Party','parties']='Democratic Party'\n",
    "\n",
    "catalogue_df.loc[catalogue_df.parties == 'Republican Party of Minnesota','parties']='Republican Party'\n",
    "catalogue_df.loc[catalogue_df.parties == 'Republican Party of Iowa','parties']='Republican Party'\n",
    "catalogue_df.loc[catalogue_df.parties == 'California Republican Party','parties']='Republican Party'\n",
    "catalogue_df.loc[catalogue_df.parties == 'Maine Republican Party','parties']='Republican Party'\n",
    "catalogue_df.loc[catalogue_df.parties == 'Utah Republican Party','parties']='Republican Party'\n",
    "catalogue_df.loc[catalogue_df.parties == 'Oregon Republican Party','parties']='Republican Party'\n",
    "catalogue_df.loc[catalogue_df.parties == 'North Dakota Republican Party','parties']='Republican Party'\n",
    "catalogue_df=catalogue_df.loc[(catalogue_df.parties =='Democratic Party') | (catalogue_df.parties =='Republican Party')] #keep only republican and democrate parties and affiliates"
   ]
  },
  {
   "cell_type": "markdown",
   "metadata": {},
   "source": [
    "We build our network by flattening our filtered mentions to have an edge list with repetitions. We filter it by selecting only politicians in our catalogue (to be able to assign politic party attribute to each one). We also remove self-mentions since we are interested in interactions between politician"
   ]
  },
  {
   "cell_type": "code",
   "execution_count": 64,
   "metadata": {},
   "outputs": [
    {
     "ename": "KeyboardInterrupt",
     "evalue": "",
     "output_type": "error",
     "traceback": [
      "\u001b[0;31m---------------------------------------------------------------------------\u001b[0m",
      "\u001b[0;31mKeyboardInterrupt\u001b[0m                         Traceback (most recent call last)",
      "\u001b[0;32m/tmp/ipykernel_312/1852947595.py\u001b[0m in \u001b[0;36m<module>\u001b[0;34m\u001b[0m\n\u001b[1;32m      3\u001b[0m     \u001b[0;32mif\u001b[0m \u001b[0mrow\u001b[0m\u001b[0;34m.\u001b[0m\u001b[0mqids\u001b[0m \u001b[0;32min\u001b[0m \u001b[0mcatalogue_df\u001b[0m\u001b[0;34m.\u001b[0m\u001b[0mqid\u001b[0m\u001b[0;34m.\u001b[0m\u001b[0mvalues\u001b[0m\u001b[0;34m:\u001b[0m\u001b[0;34m\u001b[0m\u001b[0;34m\u001b[0m\u001b[0m\n\u001b[1;32m      4\u001b[0m         \u001b[0;32mfor\u001b[0m \u001b[0mmention_qid\u001b[0m \u001b[0;32min\u001b[0m \u001b[0mrow\u001b[0m\u001b[0;34m.\u001b[0m\u001b[0mmentions_qids\u001b[0m\u001b[0;34m:\u001b[0m\u001b[0;34m\u001b[0m\u001b[0;34m\u001b[0m\u001b[0m\n\u001b[0;32m----> 5\u001b[0;31m             \u001b[0;32mif\u001b[0m \u001b[0;34m(\u001b[0m\u001b[0mmention_qid\u001b[0m \u001b[0;32min\u001b[0m \u001b[0mcatalogue_df\u001b[0m\u001b[0;34m.\u001b[0m\u001b[0mqid\u001b[0m\u001b[0;34m.\u001b[0m\u001b[0mvalues\u001b[0m\u001b[0;34m)\u001b[0m \u001b[0;34m&\u001b[0m \u001b[0;34m(\u001b[0m\u001b[0mrow\u001b[0m\u001b[0;34m.\u001b[0m\u001b[0mqids\u001b[0m \u001b[0;34m!=\u001b[0m \u001b[0mmention_qid\u001b[0m\u001b[0;34m)\u001b[0m\u001b[0;34m:\u001b[0m\u001b[0;34m\u001b[0m\u001b[0;34m\u001b[0m\u001b[0m\n\u001b[0m\u001b[1;32m      6\u001b[0m                 \u001b[0mmen_df\u001b[0m\u001b[0;34m=\u001b[0m\u001b[0mmen_df\u001b[0m\u001b[0;34m.\u001b[0m\u001b[0mappend\u001b[0m\u001b[0;34m(\u001b[0m\u001b[0mpd\u001b[0m\u001b[0;34m.\u001b[0m\u001b[0mSeries\u001b[0m\u001b[0;34m(\u001b[0m\u001b[0;34m[\u001b[0m\u001b[0mrow\u001b[0m\u001b[0;34m.\u001b[0m\u001b[0mqids\u001b[0m\u001b[0;34m,\u001b[0m\u001b[0mmention_qid\u001b[0m\u001b[0;34m,\u001b[0m\u001b[0mrow\u001b[0m\u001b[0;34m.\u001b[0m\u001b[0mspeaker\u001b[0m\u001b[0;34m]\u001b[0m\u001b[0;34m)\u001b[0m\u001b[0;34m,\u001b[0m\u001b[0mignore_index\u001b[0m\u001b[0;34m=\u001b[0m\u001b[0;32mTrue\u001b[0m\u001b[0;34m)\u001b[0m\u001b[0;34m\u001b[0m\u001b[0;34m\u001b[0m\u001b[0m\n\u001b[1;32m      7\u001b[0m     \u001b[0;31m#if i %10000==0: print(i)\u001b[0m\u001b[0;34m\u001b[0m\u001b[0;34m\u001b[0m\u001b[0;34m\u001b[0m\u001b[0m\n",
      "\u001b[0;31mKeyboardInterrupt\u001b[0m: "
     ]
    }
   ],
   "source": [
    "men_df=pd.DataFrame()\n",
    "for i,row in df_full.iterrows():\n",
    "    if row.qids in catalogue_df.qid.values:\n",
    "        for mention_qid in row.mentions_qids:\n",
    "            if (mention_qid in catalogue_df.qid.values) & (row.qids != mention_qid):\n",
    "                men_df=men_df.append(pd.Series([row.qids,mention_qid,row.speaker]),ignore_index=True)\n",
    "    #if i %10000==0: print(i)\n",
    "men_df.rename(columns={0:'qid',1:'mention_qid',2:'speaker'},inplace=True)"
   ]
  },
  {
   "cell_type": "markdown",
   "metadata": {},
   "source": [
    "We build the adjacency matrix from our edge list so the count of each repetition with the be the weight value in the adjacency matrix. We then build our graph from this adjacency matrix."
   ]
  },
  {
   "cell_type": "code",
   "execution_count": 5,
   "metadata": {},
   "outputs": [
    {
     "name": "stdout",
     "output_type": "stream",
     "text": [
      "full network characteristics: \n",
      "- number of nodes: 7220 \n",
      "- number of edges: 49007\n"
     ]
    }
   ],
   "source": [
    "adj_df = pd.crosstab(men_df.qid, men_df.mention_qid)\n",
    "idx = adj_df.columns.union(adj_df.index)\n",
    "adj_df = adj_df.reindex(index = idx, columns=idx, fill_value=0)\n",
    "adj=adj_df.values\n",
    "\n",
    "g=nx.from_numpy_matrix(adj,create_using=nx.DiGraph)\n",
    "g=nx.relabel_nodes(g,mapping=lambda x: adj_df.index[x])\n",
    "labels=[catalogue_df.loc[catalogue_df.qid == qid, 'name'].item() for qid in g.nodes()]\n",
    "print(f'full network characteristics: \\n- number of nodes: {len(list(g.nodes))} \\n'\n",
    "        f'- number of edges: {len(list(g.edges))}')"
   ]
  },
  {
   "cell_type": "markdown",
   "metadata": {},
   "source": [
    "We then take a look main nodes centrality distribution and network degree distribution."
   ]
  },
  {
   "cell_type": "code",
   "execution_count": 6,
   "metadata": {},
   "outputs": [
    {
     "data": {
      "image/png": "[encoded data removed]",
      "text/plain": [
       "<Figure size 1152x432 with 2 Axes>"
      ]
     },
     "metadata": {
      "needs_background": "light"
     },
     "output_type": "display_data"
    }
   ],
   "source": [
    "degrees = sorted(dict(g.degree(weight='weight')).values())\n",
    "degree_counts = Counter(degrees)\n",
    "\n",
    "centr=nx.degree_centrality(g)\n",
    "sorted_centr=sorted(centr.items(), key=lambda x: x[1], reverse=True)[:20]\n",
    "names=[catalogue_df.loc[catalogue_df.qid == qid, 'name'].item() for qid in [x[0] for x in sorted_centr]]\n",
    "\n",
    "fig,axs=plt.subplots(1,2,figsize=(16,6))\n",
    "axs[0].set_title('main nodes centrality distribution')\n",
    "sns.barplot(names,[x[1] for x in sorted_centr], color='LightSkyBlue',ax=axs[0])\n",
    "axs[0].tick_params('x',labelrotation = 90)\n",
    "axs[0].set_ylabel('node centrality')\n",
    "\n",
    "axs[1].set_title('node degree distribution')\n",
    "axs[1].scatter([x for x in degree_counts], [degree_counts[x] for x in degree_counts], color='LightSkyBlue')\n",
    "axs[1].set_xscale('log')\n",
    "axs[1].set_xlabel('node degree (logscale)')\n",
    "axs[1].set_yscale('log')\n",
    "axs[1].set_ylabel('count (logscale)')\n",
    "plt.show()"
   ]
  },
  {
   "cell_type": "markdown",
   "metadata": {},
   "source": [
    "From the main nodes centrality distribution we can see obviously expected names (Donald Trump as main character of the network as well as Barack Obama etc) taking into account that the dataset spans from 2015 to 2020. It also seems to follow a power law distribution. The second graph, the node degree distribution, shows that the distribution follows a power law distribution, as expected for this type of big social network graph."
   ]
  },
  {
   "cell_type": "markdown",
   "metadata": {},
   "source": [
    "We then compute the Kernighan-Lin bisection of the graph and compute attributes of each community. Using this bisection, we compute two vectors with binary value of party and binary value of community respectively."
   ]
  },
  {
   "cell_type": "code",
   "execution_count": 7,
   "metadata": {},
   "outputs": [],
   "source": [
    "communities=community.kernighan_lin_bisection(g.to_undirected(),seed=42,weight='weight')\n",
    "g0=g.subgraph(communities[0])\n",
    "g1=g.subgraph(communities[1])\n",
    "\n",
    "catalogue_graph=catalogue_df.loc[catalogue_df.qid.isin(list(g.nodes))].copy() #to keep only politicians in network\n",
    "catalogue_graph.reset_index(drop=True, inplace=True)\n",
    "binary_party = np.where(catalogue_graph.parties.loc[:] == 'Democratic Party',1,0)\n",
    "binary_community = np.where(catalogue_graph.qid.isin(list(g0.nodes)),1,0)"
   ]
  },
  {
   "cell_type": "markdown",
   "metadata": {},
   "source": [
    "We now compute Spearman correlation coefficient between the two new catalogue columns. Spearman correlation makes sense here because we want to capture if the 2 variables are correlated or anti-correlated, because we don't control which binary value will be given to which community (all same => Spearman coeff=1, all contrary => Spearman coeff=-1 and we take the absolute value). We don't want to just check similarity because it doesn't capture anti-correlation. [wikipedia link](https://en.wikipedia.org/wiki/Spearman%27s_rank_correlation_coefficient). We use a  two-sided 95% confidence interval to verify statistical significance."
   ]
  },
  {
   "cell_type": "code",
   "execution_count": 8,
   "metadata": {},
   "outputs": [
    {
     "name": "stdout",
     "output_type": "stream",
     "text": [
      "absolute value of Spearman correlation coefficient = 0.0296, with a p-value of 0.0118\n",
      "spearman correlation of coefficient p-value = 0.0118 < 0.025, so there is a statististically significant correlation between the graph bisection and real politicians parties.\n"
     ]
    }
   ],
   "source": [
    "spearman_corr,spearman_pval=spearmanr(binary_party,binary_community)\n",
    "abs_spearman_corr = np.abs(spearman_corr)\n",
    "print(f'absolute value of Spearman correlation coefficient = {round(abs_spearman_corr,4)}, with a p-value of {round(spearman_pval,4)}')\n",
    "if spearman_pval < .025:\n",
    "    print(f'spearman correlation of coefficient p-value = {round(spearman_pval,4)} < 0.025, so there is a statististically significant correlation between the graph bisection and real politicians parties.')\n",
    "else:\n",
    "    print(f'spearman correlation of coefficient p-value = {round(spearman_pval,4)} > 0.025, so there is no statististically significant correlation between the two network communities and real politicians parties.')"
   ]
  },
  {
   "cell_type": "markdown",
   "metadata": {},
   "source": [
    "We then see that there is a statiscally significant correlation between real Republican/Democratic politicians and the community bisection of our network, meaning US Republican/Democratic politicians have the tendency to more often mention their peers rather than opposite party politicians in the medias."
   ]
  },
  {
   "cell_type": "markdown",
   "metadata": {},
   "source": [
    "We built plotting functions to visualize the most important nodes and edges of our network to get a feeling of our network structure. Feel free to explore!"
   ]
  },
  {
   "cell_type": "code",
   "execution_count": 9,
   "metadata": {},
   "outputs": [],
   "source": [
    "#this cell sets parameters used for vizualization\n",
    "centr0=nx.degree_centrality(g0)\n",
    "sorted_centr0_nodes=[x[0] for x in sorted(centr0.items(), key=lambda x: x[1], reverse=True)[:20]]\n",
    "centr1=nx.degree_centrality(g1)\n",
    "sorted_centr1_nodes=[x[0] for x in sorted(centr1.items(), key=lambda x: x[1], reverse=True)[:20]]\n",
    "\n",
    "sorted_center_nodes=[]\n",
    "sorted_center_nodes.extend(sorted_centr0_nodes)\n",
    "sorted_center_nodes.extend(sorted_centr1_nodes)\n",
    "g_centers=g.subgraph(sorted_center_nodes)\n",
    "Laycentr=nx.kamada_kawai_layout(g_centers.to_undirected()) #for vizualisation\n",
    "labels_centr=[catalogue_df.loc[catalogue_df.qid == qid, 'name'].item() for qid in g_centers.nodes()]\n",
    "party_centr=[catalogue_df.loc[catalogue_df.qid == qid, 'parties'].item() for qid in g_centers.nodes()]\n",
    "party_colmap=['tomato' if x=='Republican Party' else 'dodgerblue' for x in party_centr]\n",
    "\n",
    "bisection_colmap=['darkgreen' if node in list(g0.nodes()) else 'gold' for node in g_centers.nodes]\n",
    "\n",
    "centrality=scaler([centr[qid] for qid in g_centers.nodes()])\n",
    "Lay_centr_bipart=nx.bipartite_layout(g_centers.to_undirected(),nodes=g0.nodes) #for vizualisation"
   ]
  },
  {
   "cell_type": "code",
   "execution_count": 10,
   "metadata": {},
   "outputs": [
    {
     "data": {
      "application/vnd.plotly.v1+json": {
       "config": {
        "linkText": "Export to plot.ly",
        "plotlyServerURL": "https://plot.ly",
        "showLink": false
       },
       "data": [
        {
         "line": {
          "color": "mediumaquamarine",
          "shape": "spline",
          "width": 3.0906499672781513
         },
         "mode": "lines",
         "type": "scatter",
         "x": [
          0.036813569512212284,
          0.4603061823346641,
          null
         ],
         "y": [
          0.33044893049821905,
          0.015399619175435,
          null
         ]
        },
        {
         "line": {
          "color": "mediumaquamarine",
          "shape": "spline",
          "width": 1.961009057454548
         },
         "mode": "lines",
         "type": "scatter",
         "x": [
          0.036813569512212284,
          0.6709373090223415,
          null
         ],
         "y": [
          0.33044893049821905,
          -0.36021367426395356,
          null
         ]
        },
        {
         "line": {
          "color": "mediumaquamarine",
          "shape": "spline",
          "width": 2.486249570212102
         },
         "mode": "lines",
         "type": "scatter",
         "x": [
          0.036813569512212284,
          -0.15261838328153446,
          null
         ],
         "y": [
          0.33044893049821905,
          0.17823519227303816,
          null
         ]
        },
        {
         "line": {
          "color": "mediumaquamarine",
          "shape": "spline",
          "width": 2.168943542395397
         },
         "mode": "lines",
         "type": "scatter",
         "x": [
          0.036813569512212284,
          0.2746095337896326,
          null
         ],
         "y": [
          0.33044893049821905,
          -0.09440271622127791,
          null
         ]
        },
        {
         "line": {
          "color": "mediumaquamarine",
          "shape": "spline",
          "width": 1.8556007362580844
         },
         "mode": "lines",
         "type": "scatter",
         "x": [
          -0.21046119713716252,
          -0.03715983719689872,
          null
         ],
         "y": [
          -0.21184779140367338,
          0.4728700645080155,
          null
         ]
        },
        {
         "line": {
          "color": "mediumaquamarine",
          "shape": "spline",
          "width": 2.3389428374280206
         },
         "mode": "lines",
         "type": "scatter",
         "x": [
          -0.21046119713716252,
          -0.47451592499128115,
          null
         ],
         "y": [
          -0.21184779140367338,
          -0.03294990048185629,
          null
         ]
        },
        {
         "line": {
          "color": "mediumaquamarine",
          "shape": "spline",
          "width": 1.8721712305548575
         },
         "mode": "lines",
         "type": "scatter",
         "x": [
          -0.21046119713716252,
          0.16292331864242854,
          null
         ],
         "y": [
          -0.21184779140367338,
          -0.3803282899393932,
          null
         ]
        },
        {
         "line": {
          "color": "mediumaquamarine",
          "shape": "spline",
          "width": 2.6712084610391402
         },
         "mode": "lines",
         "type": "scatter",
         "x": [
          -0.21046119713716252,
          -0.6618082546176302,
          null
         ],
         "y": [
          -0.21184779140367338,
          -0.505974964629709,
          null
         ]
        },
        {
         "line": {
          "color": "mediumaquamarine",
          "shape": "spline",
          "width": 3.447512045348849
         },
         "mode": "lines",
         "type": "scatter",
         "x": [
          -0.21046119713716252,
          0.4603061823346641,
          null
         ],
         "y": [
          -0.21184779140367338,
          0.015399619175435,
          null
         ]
        },
        {
         "line": {
          "color": "mediumaquamarine",
          "shape": "spline",
          "width": 2.4428896557373942
         },
         "mode": "lines",
         "type": "scatter",
         "x": [
          -0.21046119713716252,
          0.3679754325870704,
          null
         ],
         "y": [
          -0.21184779140367338,
          0.3107117790558336,
          null
         ]
        },
        {
         "line": {
          "color": "mediumaquamarine",
          "shape": "spline",
          "width": 1.97435048583482
         },
         "mode": "lines",
         "type": "scatter",
         "x": [
          -0.21046119713716252,
          0.2746095337896326,
          null
         ],
         "y": [
          -0.21184779140367338,
          -0.09440271622127791,
          null
         ]
        },
        {
         "line": {
          "color": "mediumaquamarine",
          "shape": "spline",
          "width": 2.639015821545789
         },
         "mode": "lines",
         "type": "scatter",
         "x": [
          -0.03715983719689872,
          -0.4866284341914349,
          null
         ],
         "y": [
          0.4728700645080155,
          0.2682528924535917,
          null
         ]
        },
        {
         "line": {
          "color": "mediumaquamarine",
          "shape": "spline",
          "width": 2.141127368338324
         },
         "mode": "lines",
         "type": "scatter",
         "x": [
          -0.03715983719689872,
          -0.2793722595710471,
          null
         ],
         "y": [
          0.4728700645080155,
          0.1329260605146619,
          null
         ]
        },
        {
         "line": {
          "color": "mediumaquamarine",
          "shape": "spline",
          "width": 2.913693458576192
         },
         "mode": "lines",
         "type": "scatter",
         "x": [
          -0.03715983719689872,
          0.4603061823346641,
          null
         ],
         "y": [
          0.4728700645080155,
          0.015399619175435,
          null
         ]
        },
        {
         "line": {
          "color": "mediumaquamarine",
          "shape": "spline",
          "width": 2.0912791051825463
         },
         "mode": "lines",
         "type": "scatter",
         "x": [
          -0.03715983719689872,
          0.2746095337896326,
          null
         ],
         "y": [
          0.4728700645080155,
          -0.09440271622127791,
          null
         ]
        },
        {
         "line": {
          "color": "mediumaquamarine",
          "shape": "spline",
          "width": 2.4595094858493636
         },
         "mode": "lines",
         "type": "scatter",
         "x": [
          0.047392838296069204,
          -0.4866284341914349,
          null
         ],
         "y": [
          0.8263248790118143,
          0.2682528924535917,
          null
         ]
        },
        {
         "line": {
          "color": "mediumaquamarine",
          "shape": "spline",
          "width": 2.5602273756445477
         },
         "mode": "lines",
         "type": "scatter",
         "x": [
          0.047392838296069204,
          -0.5167599353267631,
          null
         ],
         "y": [
          0.8263248790118143,
          0.11697479711078079,
          null
         ]
        },
        {
         "line": {
          "color": "mediumaquamarine",
          "shape": "spline",
          "width": 2.713085416565605
         },
         "mode": "lines",
         "type": "scatter",
         "x": [
          0.047392838296069204,
          0.16292331864242854,
          null
         ],
         "y": [
          0.8263248790118143,
          -0.3803282899393932,
          null
         ]
        },
        {
         "line": {
          "color": "mediumaquamarine",
          "shape": "spline",
          "width": 2.846874492985077
         },
         "mode": "lines",
         "type": "scatter",
         "x": [
          0.047392838296069204,
          -0.47451592499128115,
          null
         ],
         "y": [
          0.8263248790118143,
          -0.03294990048185629,
          null
         ]
        },
        {
         "line": {
          "color": "mediumaquamarine",
          "shape": "spline",
          "width": 2.058924136478517
         },
         "mode": "lines",
         "type": "scatter",
         "x": [
          0.047392838296069204,
          -0.2793722595710471,
          null
         ],
         "y": [
          0.8263248790118143,
          0.1329260605146619,
          null
         ]
        },
        {
         "line": {
          "color": "mediumaquamarine",
          "shape": "spline",
          "width": 4.396171541689877
         },
         "mode": "lines",
         "type": "scatter",
         "x": [
          0.047392838296069204,
          0.4603061823346641,
          null
         ],
         "y": [
          0.8263248790118143,
          0.015399619175435,
          null
         ]
        },
        {
         "line": {
          "color": "mediumaquamarine",
          "shape": "spline",
          "width": 2.159830011764466
         },
         "mode": "lines",
         "type": "scatter",
         "x": [
          0.047392838296069204,
          -0.6618082546176302,
          null
         ],
         "y": [
          0.8263248790118143,
          -0.505974964629709,
          null
         ]
        },
        {
         "line": {
          "color": "mediumaquamarine",
          "shape": "spline",
          "width": 2.6265278044037674
         },
         "mode": "lines",
         "type": "scatter",
         "x": [
          0.047392838296069204,
          -0.29354787914907643,
          null
         ],
         "y": [
          0.8263248790118143,
          -0.5531118450202867,
          null
         ]
        },
        {
         "line": {
          "color": "mediumaquamarine",
          "shape": "spline",
          "width": 2.058924136478517
         },
         "mode": "lines",
         "type": "scatter",
         "x": [
          0.047392838296069204,
          -0.1713825870769349,
          null
         ],
         "y": [
          0.8263248790118143,
          -0.053460751356624044,
          null
         ]
        },
        {
         "line": {
          "color": "mediumaquamarine",
          "shape": "spline",
          "width": 2.5830901781308797
         },
         "mode": "lines",
         "type": "scatter",
         "x": [
          0.047392838296069204,
          -0.15261838328153446,
          null
         ],
         "y": [
          0.8263248790118143,
          0.17823519227303816,
          null
         ]
        },
        {
         "line": {
          "color": "mediumaquamarine",
          "shape": "spline",
          "width": 3.1893544542910526
         },
         "mode": "lines",
         "type": "scatter",
         "x": [
          0.047392838296069204,
          0.2746095337896326,
          null
         ],
         "y": [
          0.8263248790118143,
          -0.09440271622127791,
          null
         ]
        },
        {
         "line": {
          "color": "mediumaquamarine",
          "shape": "spline",
          "width": 3.1835344256144342
         },
         "mode": "lines",
         "type": "scatter",
         "x": [
          0.047392838296069204,
          0.3679754325870704,
          null
         ],
         "y": [
          0.8263248790118143,
          0.3107117790558336,
          null
         ]
        },
        {
         "line": {
          "color": "mediumaquamarine",
          "shape": "spline",
          "width": 2.2603224696268156
         },
         "mode": "lines",
         "type": "scatter",
         "x": [
          0.047392838296069204,
          0.6709373090223415,
          null
         ],
         "y": [
          0.8263248790118143,
          -0.36021367426395356,
          null
         ]
        },
        {
         "line": {
          "color": "mediumaquamarine",
          "shape": "spline",
          "width": 2.069935054081614
         },
         "mode": "lines",
         "type": "scatter",
         "x": [
          -0.15261838328153446,
          -0.5167599353267631,
          null
         ],
         "y": [
          0.17823519227303816,
          0.11697479711078079,
          null
         ]
        },
        {
         "line": {
          "color": "mediumaquamarine",
          "shape": "spline",
          "width": 2.352158045049347
         },
         "mode": "lines",
         "type": "scatter",
         "x": [
          -0.15261838328153446,
          0.16292331864242854,
          null
         ],
         "y": [
          0.17823519227303816,
          -0.3803282899393932,
          null
         ]
        },
        {
         "line": {
          "color": "mediumaquamarine",
          "shape": "spline",
          "width": 1.8556007362580844
         },
         "mode": "lines",
         "type": "scatter",
         "x": [
          -0.15261838328153446,
          -0.7321369596919848,
          null
         ],
         "y": [
          0.17823519227303816,
          0.4090667960284218,
          null
         ]
        },
        {
         "line": {
          "color": "mediumaquamarine",
          "shape": "spline",
          "width": 3.3194108500902413
         },
         "mode": "lines",
         "type": "scatter",
         "x": [
          -0.15261838328153446,
          -0.47451592499128115,
          null
         ],
         "y": [
          0.17823519227303816,
          -0.03294990048185629,
          null
         ]
        },
        {
         "line": {
          "color": "mediumaquamarine",
          "shape": "spline",
          "width": 2.3962129904817697
         },
         "mode": "lines",
         "type": "scatter",
         "x": [
          -0.15261838328153446,
          -0.2793722595710471,
          null
         ],
         "y": [
          0.17823519227303816,
          0.1329260605146619,
          null
         ]
        },
        {
         "line": {
          "color": "mediumaquamarine",
          "shape": "spline",
          "width": 4.466695543429539
         },
         "mode": "lines",
         "type": "scatter",
         "x": [
          -0.15261838328153446,
          0.4603061823346641,
          null
         ],
         "y": [
          0.17823519227303816,
          0.015399619175435,
          null
         ]
        },
        {
         "line": {
          "color": "mediumaquamarine",
          "shape": "spline",
          "width": 2.2368538294402893
         },
         "mode": "lines",
         "type": "scatter",
         "x": [
          -0.15261838328153446,
          -0.6618082546176302,
          null
         ],
         "y": [
          0.17823519227303816,
          -0.505974964629709,
          null
         ]
        },
        {
         "line": {
          "color": "mediumaquamarine",
          "shape": "spline",
          "width": 2.17790642448278
         },
         "mode": "lines",
         "type": "scatter",
         "x": [
          -0.15261838328153446,
          0.6709373090223415,
          null
         ],
         "y": [
          0.17823519227303816,
          -0.36021367426395356,
          null
         ]
        },
        {
         "line": {
          "color": "mediumaquamarine",
          "shape": "spline",
          "width": 2.0912791051825463
         },
         "mode": "lines",
         "type": "scatter",
         "x": [
          -0.15261838328153446,
          -0.29354787914907643,
          null
         ],
         "y": [
          0.17823519227303816,
          -0.5531118450202867,
          null
         ]
        },
        {
         "line": {
          "color": "mediumaquamarine",
          "shape": "spline",
          "width": 2.7093840584173186
         },
         "mode": "lines",
         "type": "scatter",
         "x": [
          -0.15261838328153446,
          0.2746095337896326,
          null
         ],
         "y": [
          0.17823519227303816,
          -0.09440271622127791,
          null
         ]
        },
        {
         "line": {
          "color": "mediumaquamarine",
          "shape": "spline",
          "width": 3.0049220937458307
         },
         "mode": "lines",
         "type": "scatter",
         "x": [
          -0.15261838328153446,
          0.3679754325870704,
          null
         ],
         "y": [
          0.17823519227303816,
          0.3107117790558336,
          null
         ]
        },
        {
         "line": {
          "color": "mediumaquamarine",
          "shape": "spline",
          "width": 2.19540189742749
         },
         "mode": "lines",
         "type": "scatter",
         "x": [
          0.2260909391074089,
          0.4603061823346641,
          null
         ],
         "y": [
          -0.5281883703083152,
          0.015399619175435,
          null
         ]
        },
        {
         "line": {
          "color": "mediumaquamarine",
          "shape": "spline",
          "width": 2.080716549261844
         },
         "mode": "lines",
         "type": "scatter",
         "x": [
          -0.29870889450332283,
          -0.47451592499128115,
          null
         ],
         "y": [
          0.4824555677115902,
          -0.03294990048185629,
          null
         ]
        },
        {
         "line": {
          "color": "mediumaquamarine",
          "shape": "spline",
          "width": 3.5944318187380233
         },
         "mode": "lines",
         "type": "scatter",
         "x": [
          -0.29870889450332283,
          0.4603061823346641,
          null
         ],
         "y": [
          0.4824555677115902,
          0.015399619175435,
          null
         ]
        },
        {
         "line": {
          "color": "mediumaquamarine",
          "shape": "spline",
          "width": 2.058924136478517
         },
         "mode": "lines",
         "type": "scatter",
         "x": [
          -0.29870889450332283,
          0.6709373090223415,
          null
         ],
         "y": [
          0.4824555677115902,
          -0.36021367426395356,
          null
         ]
        },
        {
         "line": {
          "color": "mediumaquamarine",
          "shape": "spline",
          "width": 1.838416287252544
         },
         "mode": "lines",
         "type": "scatter",
         "x": [
          -0.29870889450332283,
          -0.2557668206658704,
          null
         ],
         "y": [
          0.4824555677115902,
          -0.09474865937078274,
          null
         ]
        },
        {
         "line": {
          "color": "mediumaquamarine",
          "shape": "spline",
          "width": 1.97435048583482
         },
         "mode": "lines",
         "type": "scatter",
         "x": [
          -0.29870889450332283,
          -0.29354787914907643,
          null
         ],
         "y": [
          0.4824555677115902,
          -0.5531118450202867,
          null
         ]
        },
        {
         "line": {
          "color": "mediumaquamarine",
          "shape": "spline",
          "width": 2.111785764966754
         },
         "mode": "lines",
         "type": "scatter",
         "x": [
          -0.47451592499128115,
          -0.2793722595710471,
          null
         ],
         "y": [
          -0.03294990048185629,
          0.1329260605146619,
          null
         ]
        },
        {
         "line": {
          "color": "mediumaquamarine",
          "shape": "spline",
          "width": 2.9435976987922756
         },
         "mode": "lines",
         "type": "scatter",
         "x": [
          -0.47451592499128115,
          0.4603061823346641,
          null
         ],
         "y": [
          -0.03294990048185629,
          0.015399619175435,
          null
         ]
        },
        {
         "line": {
          "color": "mediumaquamarine",
          "shape": "spline",
          "width": 1.9873407546644581
         },
         "mode": "lines",
         "type": "scatter",
         "x": [
          -0.5167599353267631,
          0.16292331864242854,
          null
         ],
         "y": [
          0.11697479711078079,
          -0.3803282899393932,
          null
         ]
        },
        {
         "line": {
          "color": "mediumaquamarine",
          "shape": "spline",
          "width": 2.111785764966754
         },
         "mode": "lines",
         "type": "scatter",
         "x": [
          -0.5167599353267631,
          -0.7321369596919848,
          null
         ],
         "y": [
          0.11697479711078079,
          0.4090667960284218,
          null
         ]
        },
        {
         "line": {
          "color": "mediumaquamarine",
          "shape": "spline",
          "width": 3.271946949706187
         },
         "mode": "lines",
         "type": "scatter",
         "x": [
          -0.5167599353267631,
          0.4603061823346641,
          null
         ],
         "y": [
          0.11697479711078079,
          0.015399619175435,
          null
         ]
        },
        {
         "line": {
          "color": "mediumaquamarine",
          "shape": "spline",
          "width": 1.838416287252544
         },
         "mode": "lines",
         "type": "scatter",
         "x": [
          -0.5167599353267631,
          0.6709373090223415,
          null
         ],
         "y": [
          0.11697479711078079,
          -0.36021367426395356,
          null
         ]
        },
        {
         "line": {
          "color": "mediumaquamarine",
          "shape": "spline",
          "width": 1.9472943612303364
         },
         "mode": "lines",
         "type": "scatter",
         "x": [
          -0.5167599353267631,
          0.2746095337896326,
          null
         ],
         "y": [
          0.11697479711078079,
          -0.09440271622127791,
          null
         ]
        },
        {
         "line": {
          "color": "mediumaquamarine",
          "shape": "spline",
          "width": 2.7931212200789903
         },
         "mode": "lines",
         "type": "scatter",
         "x": [
          -0.2793722595710471,
          0.4603061823346641,
          null
         ],
         "y": [
          0.1329260605146619,
          0.015399619175435,
          null
         ]
        },
        {
         "line": {
          "color": "mediumaquamarine",
          "shape": "spline",
          "width": 2.414141770603736
         },
         "mode": "lines",
         "type": "scatter",
         "x": [
          -0.2793722595710471,
          0.2746095337896326,
          null
         ],
         "y": [
          0.1329260605146619,
          -0.09440271622127791,
          null
         ]
        },
        {
         "line": {
          "color": "mediumaquamarine",
          "shape": "spline",
          "width": 2.486249570212102
         },
         "mode": "lines",
         "type": "scatter",
         "x": [
          -0.2793722595710471,
          0.3679754325870704,
          null
         ],
         "y": [
          0.1329260605146619,
          0.3107117790558336,
          null
         ]
        },
        {
         "line": {
          "color": "mediumaquamarine",
          "shape": "spline",
          "width": 2.622311847181126
         },
         "mode": "lines",
         "type": "scatter",
         "x": [
          -0.4866284341914349,
          0.16292331864242854,
          null
         ],
         "y": [
          0.2682528924535917,
          -0.3803282899393932,
          null
         ]
        },
        {
         "line": {
          "color": "mediumaquamarine",
          "shape": "spline",
          "width": 4.976744679832557
         },
         "mode": "lines",
         "type": "scatter",
         "x": [
          -0.4866284341914349,
          0.4603061823346641,
          null
         ],
         "y": [
          0.2682528924535917,
          0.015399619175435,
          null
         ]
        },
        {
         "line": {
          "color": "mediumaquamarine",
          "shape": "spline",
          "width": 2.876691202782905
         },
         "mode": "lines",
         "type": "scatter",
         "x": [
          -0.4866284341914349,
          0.6709373090223415,
          null
         ],
         "y": [
          0.2682528924535917,
          -0.36021367426395356,
          null
         ]
        },
        {
         "line": {
          "color": "mediumaquamarine",
          "shape": "spline",
          "width": 2.4428896557373942
         },
         "mode": "lines",
         "type": "scatter",
         "x": [
          -0.4866284341914349,
          -0.2557668206658704,
          null
         ],
         "y": [
          0.2682528924535917,
          -0.09474865937078274,
          null
         ]
        },
        {
         "line": {
          "color": "mediumaquamarine",
          "shape": "spline",
          "width": 2.3185419629780504
         },
         "mode": "lines",
         "type": "scatter",
         "x": [
          -0.4866284341914349,
          -0.29354787914907643,
          null
         ],
         "y": [
          0.2682528924535917,
          -0.5531118450202867,
          null
         ]
        },
        {
         "line": {
          "color": "mediumaquamarine",
          "shape": "spline",
          "width": 2.5413306424150433
         },
         "mode": "lines",
         "type": "scatter",
         "x": [
          -0.4866284341914349,
          -0.1713825870769349,
          null
         ],
         "y": [
          0.2682528924535917,
          -0.053460751356624044,
          null
         ]
        },
        {
         "line": {
          "color": "mediumaquamarine",
          "shape": "spline",
          "width": 4.597482532297944
         },
         "mode": "lines",
         "type": "scatter",
         "x": [
          -0.4866284341914349,
          0.2746095337896326,
          null
         ],
         "y": [
          0.2682528924535917,
          -0.09440271622127791,
          null
         ]
        },
        {
         "line": {
          "color": "mediumaquamarine",
          "shape": "spline",
          "width": 3.191285057675361
         },
         "mode": "lines",
         "type": "scatter",
         "x": [
          -0.4866284341914349,
          0.3679754325870704,
          null
         ],
         "y": [
          0.2682528924535917,
          0.3107117790558336,
          null
         ]
        },
        {
         "line": {
          "color": "mediumaquamarine",
          "shape": "spline",
          "width": 2.822088351818347
         },
         "mode": "lines",
         "type": "scatter",
         "x": [
          -0.4866284341914349,
          -0.6618082546176302,
          null
         ],
         "y": [
          0.2682528924535917,
          -0.505974964629709,
          null
         ]
        },
        {
         "line": {
          "color": "mediumaquamarine",
          "shape": "spline",
          "width": 2
         },
         "mode": "lines",
         "type": "scatter",
         "x": [
          -0.7321369596919848,
          0.16292331864242854,
          null
         ],
         "y": [
          0.4090667960284218,
          -0.3803282899393932,
          null
         ]
        },
        {
         "line": {
          "color": "mediumaquamarine",
          "shape": "spline",
          "width": 1.888175022589804
         },
         "mode": "lines",
         "type": "scatter",
         "x": [
          -0.7321369596919848,
          -0.29354787914907643,
          null
         ],
         "y": [
          0.4090667960284218,
          -0.5531118450202867,
          null
         ]
        },
        {
         "line": {
          "color": "mediumaquamarine",
          "shape": "spline",
          "width": 2.390115677352187
         },
         "mode": "lines",
         "type": "scatter",
         "x": [
          -0.7321369596919848,
          -0.6618082546176302,
          null
         ],
         "y": [
          0.4090667960284218,
          -0.505974964629709,
          null
         ]
        },
        {
         "line": {
          "color": "mediumaquamarine",
          "shape": "spline",
          "width": 3.08404595398765
         },
         "mode": "lines",
         "type": "scatter",
         "x": [
          -0.7321369596919848,
          0.4603061823346641,
          null
         ],
         "y": [
          0.4090667960284218,
          0.015399619175435,
          null
         ]
        },
        {
         "line": {
          "color": "mediumaquamarine",
          "shape": "spline",
          "width": 2.058924136478517
         },
         "mode": "lines",
         "type": "scatter",
         "x": [
          -0.7321369596919848,
          0.3679754325870704,
          null
         ],
         "y": [
          0.4090667960284218,
          0.3107117790558336,
          null
         ]
        },
        {
         "line": {
          "color": "mediumaquamarine",
          "shape": "spline",
          "width": 3.177671523146437
         },
         "mode": "lines",
         "type": "scatter",
         "x": [
          -0.1713825870769349,
          0.4603061823346641,
          null
         ],
         "y": [
          -0.053460751356624044,
          0.015399619175435,
          null
         ]
        },
        {
         "line": {
          "color": "mediumaquamarine",
          "shape": "spline",
          "width": 2.3254220304389963
         },
         "mode": "lines",
         "type": "scatter",
         "x": [
          -0.1713825870769349,
          0.6709373090223415,
          null
         ],
         "y": [
          -0.053460751356624044,
          -0.36021367426395356,
          null
         ]
        },
        {
         "line": {
          "color": "mediumaquamarine",
          "shape": "spline",
          "width": 2.282855055701629
         },
         "mode": "lines",
         "type": "scatter",
         "x": [
          -0.1713825870769349,
          -0.29354787914907643,
          null
         ],
         "y": [
          -0.053460751356624044,
          -0.5531118450202867,
          null
         ]
        },
        {
         "line": {
          "color": "mediumaquamarine",
          "shape": "spline",
          "width": 1.8556007362580844
         },
         "mode": "lines",
         "type": "scatter",
         "x": [
          -0.1713825870769349,
          0.3679754325870704,
          null
         ],
         "y": [
          -0.053460751356624044,
          0.3107117790558336,
          null
         ]
        },
        {
         "line": {
          "color": "mediumaquamarine",
          "shape": "spline",
          "width": 2.1016324782757847
         },
         "mode": "lines",
         "type": "scatter",
         "x": [
          -0.1713825870769349,
          -0.6618082546176302,
          null
         ],
         "y": [
          -0.053460751356624044,
          -0.505974964629709,
          null
         ]
        },
        {
         "line": {
          "color": "mediumaquamarine",
          "shape": "spline",
          "width": 4.0723360092807965
         },
         "mode": "lines",
         "type": "scatter",
         "x": [
          0.16292331864242854,
          0.4603061823346641,
          null
         ],
         "y": [
          -0.3803282899393932,
          0.015399619175435,
          null
         ]
        },
        {
         "line": {
          "color": "mediumaquamarine",
          "shape": "spline",
          "width": 2.358655818240736
         },
         "mode": "lines",
         "type": "scatter",
         "x": [
          0.16292331864242854,
          -0.6618082546176302,
          null
         ],
         "y": [
          -0.3803282899393932,
          -0.505974964629709,
          null
         ]
        },
        {
         "line": {
          "color": "mediumaquamarine",
          "shape": "spline",
          "width": 2.069935054081614
         },
         "mode": "lines",
         "type": "scatter",
         "x": [
          0.16292331864242854,
          0.6709373090223415,
          null
         ],
         "y": [
          -0.3803282899393932,
          -0.36021367426395356,
          null
         ]
        },
        {
         "line": {
          "color": "mediumaquamarine",
          "shape": "spline",
          "width": 2.024397458499885
         },
         "mode": "lines",
         "type": "scatter",
         "x": [
          0.16292331864242854,
          -0.29354787914907643,
          null
         ],
         "y": [
          -0.3803282899393932,
          -0.5531118450202867,
          null
         ]
        },
        {
         "line": {
          "color": "mediumaquamarine",
          "shape": "spline",
          "width": 2.2039445754429603
         },
         "mode": "lines",
         "type": "scatter",
         "x": [
          0.16292331864242854,
          0.2746095337896326,
          null
         ],
         "y": [
          -0.3803282899393932,
          -0.09440271622127791,
          null
         ]
        },
        {
         "line": {
          "color": "mediumaquamarine",
          "shape": "spline",
          "width": 1.97435048583482
         },
         "mode": "lines",
         "type": "scatter",
         "x": [
          0.16292331864242854,
          0.3679754325870704,
          null
         ],
         "y": [
          -0.3803282899393932,
          0.3107117790558336,
          null
         ]
        },
        {
         "line": {
          "color": "mediumaquamarine",
          "shape": "spline",
          "width": 3.118633955811384
         },
         "mode": "lines",
         "type": "scatter",
         "x": [
          0.0009821895951671455,
          0.016975515890097687,
          null
         ],
         "y": [
          0.1374904066641827,
          -0.20765300717410853,
          null
         ]
        },
        {
         "line": {
          "color": "mediumaquamarine",
          "shape": "spline",
          "width": 1.8556007362580844
         },
         "mode": "lines",
         "type": "scatter",
         "x": [
          0.0009821895951671455,
          0.3679754325870704,
          null
         ],
         "y": [
          0.1374904066641827,
          0.3107117790558336,
          null
         ]
        },
        {
         "line": {
          "color": "mediumaquamarine",
          "shape": "spline",
          "width": 3.1207454228486045
         },
         "mode": "lines",
         "type": "scatter",
         "x": [
          0.6709373090223415,
          0.4603061823346641,
          null
         ],
         "y": [
          -0.36021367426395356,
          0.015399619175435,
          null
         ]
        },
        {
         "line": {
          "color": "mediumaquamarine",
          "shape": "spline",
          "width": 2.7798516352723115
         },
         "mode": "lines",
         "type": "scatter",
         "x": [
          0.6709373090223415,
          -0.29354787914907643,
          null
         ],
         "y": [
          -0.36021367426395356,
          -0.5531118450202867,
          null
         ]
        },
        {
         "line": {
          "color": "mediumaquamarine",
          "shape": "spline",
          "width": 2.2603224696268156
         },
         "mode": "lines",
         "type": "scatter",
         "x": [
          0.6709373090223415,
          0.3679754325870704,
          null
         ],
         "y": [
          -0.36021367426395356,
          0.3107117790558336,
          null
         ]
        },
        {
         "line": {
          "color": "mediumaquamarine",
          "shape": "spline",
          "width": 3.8911051849320613
         },
         "mode": "lines",
         "type": "scatter",
         "x": [
          -0.29354787914907643,
          0.4603061823346641,
          null
         ],
         "y": [
          -0.5531118450202867,
          0.015399619175435,
          null
         ]
        },
        {
         "line": {
          "color": "mediumaquamarine",
          "shape": "spline",
          "width": 2.058924136478517
         },
         "mode": "lines",
         "type": "scatter",
         "x": [
          -0.29354787914907643,
          -0.6618082546176302,
          null
         ],
         "y": [
          -0.5531118450202867,
          -0.505974964629709,
          null
         ]
        },
        {
         "line": {
          "color": "mediumaquamarine",
          "shape": "spline",
          "width": 3.3469548828320934
         },
         "mode": "lines",
         "type": "scatter",
         "x": [
          -0.6618082546176302,
          0.4603061823346641,
          null
         ],
         "y": [
          -0.505974964629709,
          0.015399619175435,
          null
         ]
        },
        {
         "line": {
          "color": "mediumaquamarine",
          "shape": "spline",
          "width": 2.1016324782757847
         },
         "mode": "lines",
         "type": "scatter",
         "x": [
          -0.6618082546176302,
          0.2746095337896326,
          null
         ],
         "y": [
          -0.505974964629709,
          -0.09440271622127791,
          null
         ]
        },
        {
         "line": {
          "color": "mediumaquamarine",
          "shape": "spline",
          "width": 4.273295966256995
         },
         "mode": "lines",
         "type": "scatter",
         "x": [
          0.4603061823346641,
          -0.2557668206658704,
          null
         ],
         "y": [
          0.015399619175435,
          -0.09474865937078274,
          null
         ]
        },
        {
         "line": {
          "color": "mediumaquamarine",
          "shape": "spline",
          "width": 2.7931212200789903
         },
         "mode": "lines",
         "type": "scatter",
         "x": [
          0.4603061823346641,
          0.016975515890097687,
          null
         ],
         "y": [
          0.015399619175435,
          -0.20765300717410853,
          null
         ]
        },
        {
         "line": {
          "color": "mediumaquamarine",
          "shape": "spline",
          "width": 5.4971899447431225
         },
         "mode": "lines",
         "type": "scatter",
         "x": [
          0.4603061823346641,
          0.2746095337896326,
          null
         ],
         "y": [
          0.015399619175435,
          -0.09440271622127791,
          null
         ]
        },
        {
         "line": {
          "color": "mediumaquamarine",
          "shape": "spline",
          "width": 4.516326760657285
         },
         "mode": "lines",
         "type": "scatter",
         "x": [
          0.4603061823346641,
          0.3679754325870704,
          null
         ],
         "y": [
          0.015399619175435,
          0.3107117790558336,
          null
         ]
        },
        {
         "line": {
          "color": "mediumaquamarine",
          "shape": "spline",
          "width": 1.9873407546644581
         },
         "mode": "lines",
         "type": "scatter",
         "x": [
          -0.13150641878175603,
          0.3679754325870704,
          null
         ],
         "y": [
          -0.34998166398249625,
          0.3107117790558336,
          null
         ]
        },
        {
         "line": {
          "color": "mediumaquamarine",
          "shape": "spline",
          "width": 3.139496244373661
         },
         "mode": "lines",
         "type": "scatter",
         "x": [
          0.3679754325870704,
          -0.2557668206658704,
          null
         ],
         "y": [
          0.3107117790558336,
          -0.09474865937078274,
          null
         ]
        },
        {
         "line": {
          "color": "mediumaquamarine",
          "shape": "spline",
          "width": 4.4068290523623865
         },
         "mode": "lines",
         "type": "scatter",
         "x": [
          0.3679754325870704,
          0.2746095337896326,
          null
         ],
         "y": [
          0.3107117790558336,
          -0.09440271622127791,
          null
         ]
        },
        {
         "line": {
          "color": "mediumaquamarine",
          "shape": "spline",
          "width": 2.3714406097793117
         },
         "mode": "lines",
         "type": "scatter",
         "x": [
          0.2746095337896326,
          -0.2557668206658704,
          null
         ],
         "y": [
          -0.09440271622127791,
          -0.09474865937078274,
          null
         ]
        },
        {
         "hovertemplate": [
          "Elizabeth Warren<extra></extra>",
          "Ron Reagan<extra></extra>",
          "Marco Rubio<extra></extra>",
          "Pat Quinn<extra></extra>",
          "George W. Bush<extra></extra>",
          "Bill Brady<extra></extra>",
          "Kane<extra></extra>",
          "Dennis Daugaard<extra></extra>",
          "John Yudichak<extra></extra>",
          "Andy Manar<extra></extra>",
          "Joe Biden<extra></extra>",
          "Daniel Biss<extra></extra>",
          "Robert Mueller<extra></extra>",
          "Lindsey Graham<extra></extra>",
          "Jeanne Ives<extra></extra>",
          "Steve Bannon<extra></extra>",
          "Chael Sonnen<extra></extra>",
          "John Kerry<extra></extra>",
          "Bill Clinton<extra></extra>",
          "Paul Ryan<extra></extra>",
          "Brett Kavanaugh<extra></extra>",
          "Paulette Jordan<extra></extra>",
          "Nancy Pelosi<extra></extra>",
          "David McSweeney<extra></extra>",
          "Bruce Rauner<extra></extra>",
          "Tom Corbett<extra></extra>",
          "Mitch McConnell<extra></extra>",
          "Chuck Schumer<extra></extra>",
          "Mike Pence<extra></extra>",
          "Donald Trump<extra></extra>",
          "Eric Greitens<extra></extra>",
          "Todd Richardson<extra></extra>",
          "Barack Obama<extra></extra>",
          "Hillary Clinton<extra></extra>",
          "Tom Wolf<extra></extra>",
          "J.B. Pritzker<extra></extra>",
          "Jesse White<extra></extra>",
          "Jeff Sessions<extra></extra>",
          "Phil Scott<extra></extra>",
          "Chuck McGrady<extra></extra>"
         ],
         "marker": {
          "color": [
           "dodgerblue",
           "tomato",
           "tomato",
           "dodgerblue",
           "tomato",
           "tomato",
           "tomato",
           "tomato",
           "dodgerblue",
           "dodgerblue",
           "dodgerblue",
           "dodgerblue",
           "tomato",
           "tomato",
           "tomato",
           "tomato",
           "tomato",
           "dodgerblue",
           "dodgerblue",
           "tomato",
           "tomato",
           "dodgerblue",
           "dodgerblue",
           "tomato",
           "tomato",
           "tomato",
           "tomato",
           "dodgerblue",
           "tomato",
           "tomato",
           "tomato",
           "tomato",
           "dodgerblue",
           "dodgerblue",
           "dodgerblue",
           "dodgerblue",
           "dodgerblue",
           "tomato",
           "tomato",
           "tomato"
          ],
          "line": {
           "color": [
            "gold",
            "gold",
            "gold",
            "darkgreen",
            "gold",
            "darkgreen",
            "darkgreen",
            "darkgreen",
            "darkgreen",
            "darkgreen",
            "gold",
            "darkgreen",
            "gold",
            "gold",
            "darkgreen",
            "gold",
            "darkgreen",
            "gold",
            "gold",
            "gold",
            "gold",
            "darkgreen",
            "gold",
            "darkgreen",
            "darkgreen",
            "darkgreen",
            "gold",
            "gold",
            "gold",
            "gold",
            "darkgreen",
            "darkgreen",
            "gold",
            "gold",
            "darkgreen",
            "darkgreen",
            "darkgreen",
            "gold",
            "darkgreen",
            "darkgreen"
           ],
           "width": [
            3.7114251730727563,
            3.490221737050124,
            3.5304147027137702,
            2.325932960311724,
            4.354636711447779,
            2.3626647185734173,
            2.7076788741451674,
            2.318077999744543,
            2.275463628163714,
            2.246382159161116,
            4.156137184803516,
            2.3411006537808343,
            3.438402031663768,
            3.315320796633835,
            2.408578588487524,
            3.427812424836683,
            2.2358929580483893,
            3.368105207046429,
            4.6383223149946,
            3.486823279406312,
            3.375480490712918,
            2.256442681800374,
            4.167836332994993,
            2.2661231477061747,
            2.859399430781096,
            2.275463628163714,
            3.80213013039564,
            3.7936891934511285,
            3.7894537939313033,
            6.648185156911677,
            2.6895766711765994,
            2.2358929580483893,
            5.5526621478415015,
            4.774763416838512,
            2.5865068519063215,
            2.8046807622265684,
            2.3017552858349632,
            3.7936891934511285,
            2.256442681800374,
            2.2932534259531607
           ]
          },
          "opacity": 1,
          "size": [
           35.96059203491321,
           33.25141429688405,
           33.74367558250973,
           18.99184721559262,
           43.838292363360246,
           19.44171754107467,
           23.667260717014678,
           18.89564398889624,
           18.373726658484287,
           18.01755285834963,
           41.40717959104805,
           19.177612763463948,
           32.61675511279442,
           31.10932399911989,
           20.00404530810509,
           32.48705944627916,
           17.889086905671558,
           31.755798358542418,
           47.312717243676204,
           33.20979186118504,
           31.846126766998324,
           18.140768593409135,
           41.550464308519665,
           18.259329603117237,
           25.52545045325998,
           18.373726658484287,
           37.07149634782316,
           36.96811640549785,
           36.91624356709585,
           71.92840932206084,
           23.44555491454824,
           17.889086905671558,
           58.51104745355906,
           48.983772640979694,
           22.183212589082935,
           24.855286366444645,
           18.695732387416744,
           36.96811640549785,
           18.140768593409135,
           18.591606294541467
          ]
         },
         "mode": "markers",
         "type": "scatter",
         "x": [
          0.036813569512212284,
          -0.21046119713716252,
          -0.03715983719689872,
          0.4153568837438049,
          0.047392838296069204,
          0.4354622429668309,
          0.016338732201408326,
          -0.6425360024572263,
          0.5301020432592194,
          0.18715091261535924,
          -0.15261838328153446,
          0.2260909391074089,
          -0.29870889450332283,
          -0.47451592499128115,
          0.2585750182997808,
          -0.5167599353267631,
          -0.18779218273493883,
          -0.2793722595710471,
          -0.4866284341914349,
          -0.7321369596919848,
          -0.1713825870769349,
          0.3179443049349031,
          0.16292331864242854,
          0.09717121185979216,
          0.0009821895951671455,
          -0.1949578909235335,
          0.6709373090223415,
          -0.29354787914907643,
          -0.6618082546176302,
          0.4603061823346641,
          -0.13150641878175603,
          1,
          0.3679754325870704,
          0.2746095337896326,
          -0.4535658893421797,
          0.016975515890097687,
          0.08933609761757962,
          -0.2557668206658704,
          -0.03566414401208114,
          0.6044456193768858
         ],
         "y": [
          0.33044893049821905,
          -0.21184779140367338,
          0.4728700645080155,
          -0.5231245746381047,
          0.8263248790118143,
          -0.2337226535354702,
          -0.44514471393411514,
          -0.7221872162635239,
          0.5391861568558711,
          0.44786273247330166,
          0.17823519227303816,
          -0.5281883703083152,
          0.4824555677115902,
          -0.03294990048185629,
          -0.28002131318197054,
          0.11697479711078079,
          0.13642082339494943,
          0.1329260605146619,
          0.2682528924535917,
          0.4090667960284218,
          -0.053460751356624044,
          0.1623290386871405,
          -0.3803282899393932,
          -0.06743634796604654,
          0.1374904066641827,
          0.3808002698555597,
          -0.36021367426395356,
          -0.5531118450202867,
          -0.505974964629709,
          0.015399619175435,
          -0.34998166398249625,
          0.034802210193512005,
          0.3107117790558336,
          -0.09440271622127791,
          0.41845051866779415,
          -0.20765300717410853,
          0.23742806583842493,
          -0.09474865937078274,
          -0.5921974401525983,
          0.19825909285216736
         ]
        }
       ],
       "layout": {
        "height": 1000,
        "hoverdistance": 1,
        "margin": {
         "t": 100
        },
        "paper_bgcolor": "rgba(255,255,255,255)",
        "plot_bgcolor": "rgba(0,0,0,0)",
        "scene": {
         "xaxis": {
          "showbackground": false,
          "showgrid": false,
          "showline": false,
          "showticklabels": false,
          "title": {
           "text": ""
          },
          "visible": false,
          "zeroline": false
         },
         "yaxis": {
          "showbackground": false,
          "showgrid": false,
          "showline": false,
          "showticklabels": false,
          "title": {
           "text": ""
          },
          "visible": false,
          "zeroline": false
         }
        },
        "showlegend": false,
        "template": {
         "data": {
          "bar": [
           {
            "error_x": {
             "color": "#2a3f5f"
            },
            "error_y": {
             "color": "#2a3f5f"
            },
            "marker": {
             "line": {
              "color": "#E5ECF6",
              "width": 0.5
             },
             "pattern": {
              "fillmode": "overlay",
              "size": 10,
              "solidity": 0.2
             }
            },
            "type": "bar"
           }
          ],
          "barpolar": [
           {
            "marker": {
             "line": {
              "color": "#E5ECF6",
              "width": 0.5
             },
             "pattern": {
              "fillmode": "overlay",
              "size": 10,
              "solidity": 0.2
             }
            },
            "type": "barpolar"
           }
          ],
          "carpet": [
           {
            "aaxis": {
             "endlinecolor": "#2a3f5f",
             "gridcolor": "white",
             "linecolor": "white",
             "minorgridcolor": "white",
             "startlinecolor": "#2a3f5f"
            },
            "baxis": {
             "endlinecolor": "#2a3f5f",
             "gridcolor": "white",
             "linecolor": "white",
             "minorgridcolor": "white",
             "startlinecolor": "#2a3f5f"
            },
            "type": "carpet"
           }
          ],
          "choropleth": [
           {
            "colorbar": {
             "outlinewidth": 0,
             "ticks": ""
            },
            "type": "choropleth"
           }
          ],
          "contour": [
           {
            "colorbar": {
             "outlinewidth": 0,
             "ticks": ""
            },
            "colorscale": [
             [
              0,
              "#0d0887"
             ],
             [
              0.1111111111111111,
              "#46039f"
             ],
             [
              0.2222222222222222,
              "#7201a8"
             ],
             [
              0.3333333333333333,
              "#9c179e"
             ],
             [
              0.4444444444444444,
              "#bd3786"
             ],
             [
              0.5555555555555556,
              "#d8576b"
             ],
             [
              0.6666666666666666,
              "#ed7953"
             ],
             [
              0.7777777777777778,
              "#fb9f3a"
             ],
             [
              0.8888888888888888,
              "#fdca26"
             ],
             [
              1,
              "#f0f921"
             ]
            ],
            "type": "contour"
           }
          ],
          "contourcarpet": [
           {
            "colorbar": {
             "outlinewidth": 0,
             "ticks": ""
            },
            "type": "contourcarpet"
           }
          ],
          "heatmap": [
           {
            "colorbar": {
             "outlinewidth": 0,
             "ticks": ""
            },
            "colorscale": [
             [
              0,
              "#0d0887"
             ],
             [
              0.1111111111111111,
              "#46039f"
             ],
             [
              0.2222222222222222,
              "#7201a8"
             ],
             [
              0.3333333333333333,
              "#9c179e"
             ],
             [
              0.4444444444444444,
              "#bd3786"
             ],
             [
              0.5555555555555556,
              "#d8576b"
             ],
             [
              0.6666666666666666,
              "#ed7953"
             ],
             [
              0.7777777777777778,
              "#fb9f3a"
             ],
             [
              0.8888888888888888,
              "#fdca26"
             ],
             [
              1,
              "#f0f921"
             ]
            ],
            "type": "heatmap"
           }
          ],
          "heatmapgl": [
           {
            "colorbar": {
             "outlinewidth": 0,
             "ticks": ""
            },
            "colorscale": [
             [
              0,
              "#0d0887"
             ],
             [
              0.1111111111111111,
              "#46039f"
             ],
             [
              0.2222222222222222,
              "#7201a8"
             ],
             [
              0.3333333333333333,
              "#9c179e"
             ],
             [
              0.4444444444444444,
              "#bd3786"
             ],
             [
              0.5555555555555556,
              "#d8576b"
             ],
             [
              0.6666666666666666,
              "#ed7953"
             ],
             [
              0.7777777777777778,
              "#fb9f3a"
             ],
             [
              0.8888888888888888,
              "#fdca26"
             ],
             [
              1,
              "#f0f921"
             ]
            ],
            "type": "heatmapgl"
           }
          ],
          "histogram": [
           {
            "marker": {
             "pattern": {
              "fillmode": "overlay",
              "size": 10,
              "solidity": 0.2
             }
            },
            "type": "histogram"
           }
          ],
          "histogram2d": [
           {
            "colorbar": {
             "outlinewidth": 0,
             "ticks": ""
            },
            "colorscale": [
             [
              0,
              "#0d0887"
             ],
             [
              0.1111111111111111,
              "#46039f"
             ],
             [
              0.2222222222222222,
              "#7201a8"
             ],
             [
              0.3333333333333333,
              "#9c179e"
             ],
             [
              0.4444444444444444,
              "#bd3786"
             ],
             [
              0.5555555555555556,
              "#d8576b"
             ],
             [
              0.6666666666666666,
              "#ed7953"
             ],
             [
              0.7777777777777778,
              "#fb9f3a"
             ],
             [
              0.8888888888888888,
              "#fdca26"
             ],
             [
              1,
              "#f0f921"
             ]
            ],
            "type": "histogram2d"
           }
          ],
          "histogram2dcontour": [
           {
            "colorbar": {
             "outlinewidth": 0,
             "ticks": ""
            },
            "colorscale": [
             [
              0,
              "#0d0887"
             ],
             [
              0.1111111111111111,
              "#46039f"
             ],
             [
              0.2222222222222222,
              "#7201a8"
             ],
             [
              0.3333333333333333,
              "#9c179e"
             ],
             [
              0.4444444444444444,
              "#bd3786"
             ],
             [
              0.5555555555555556,
              "#d8576b"
             ],
             [
              0.6666666666666666,
              "#ed7953"
             ],
             [
              0.7777777777777778,
              "#fb9f3a"
             ],
             [
              0.8888888888888888,
              "#fdca26"
             ],
             [
              1,
              "#f0f921"
             ]
            ],
            "type": "histogram2dcontour"
           }
          ],
          "mesh3d": [
           {
            "colorbar": {
             "outlinewidth": 0,
             "ticks": ""
            },
            "type": "mesh3d"
           }
          ],
          "parcoords": [
           {
            "line": {
             "colorbar": {
              "outlinewidth": 0,
              "ticks": ""
             }
            },
            "type": "parcoords"
           }
          ],
          "pie": [
           {
            "automargin": true,
            "type": "pie"
           }
          ],
          "scatter": [
           {
            "marker": {
             "colorbar": {
              "outlinewidth": 0,
              "ticks": ""
             }
            },
            "type": "scatter"
           }
          ],
          "scatter3d": [
           {
            "line": {
             "colorbar": {
              "outlinewidth": 0,
              "ticks": ""
             }
            },
            "marker": {
             "colorbar": {
              "outlinewidth": 0,
              "ticks": ""
             }
            },
            "type": "scatter3d"
           }
          ],
          "scattercarpet": [
           {
            "marker": {
             "colorbar": {
              "outlinewidth": 0,
              "ticks": ""
             }
            },
            "type": "scattercarpet"
           }
          ],
          "scattergeo": [
           {
            "marker": {
             "colorbar": {
              "outlinewidth": 0,
              "ticks": ""
             }
            },
            "type": "scattergeo"
           }
          ],
          "scattergl": [
           {
            "marker": {
             "colorbar": {
              "outlinewidth": 0,
              "ticks": ""
             }
            },
            "type": "scattergl"
           }
          ],
          "scattermapbox": [
           {
            "marker": {
             "colorbar": {
              "outlinewidth": 0,
              "ticks": ""
             }
            },
            "type": "scattermapbox"
           }
          ],
          "scatterpolar": [
           {
            "marker": {
             "colorbar": {
              "outlinewidth": 0,
              "ticks": ""
             }
            },
            "type": "scatterpolar"
           }
          ],
          "scatterpolargl": [
           {
            "marker": {
             "colorbar": {
              "outlinewidth": 0,
              "ticks": ""
             }
            },
            "type": "scatterpolargl"
           }
          ],
          "scatterternary": [
           {
            "marker": {
             "colorbar": {
              "outlinewidth": 0,
              "ticks": ""
             }
            },
            "type": "scatterternary"
           }
          ],
          "surface": [
           {
            "colorbar": {
             "outlinewidth": 0,
             "ticks": ""
            },
            "colorscale": [
             [
              0,
              "#0d0887"
             ],
             [
              0.1111111111111111,
              "#46039f"
             ],
             [
              0.2222222222222222,
              "#7201a8"
             ],
             [
              0.3333333333333333,
              "#9c179e"
             ],
             [
              0.4444444444444444,
              "#bd3786"
             ],
             [
              0.5555555555555556,
              "#d8576b"
             ],
             [
              0.6666666666666666,
              "#ed7953"
             ],
             [
              0.7777777777777778,
              "#fb9f3a"
             ],
             [
              0.8888888888888888,
              "#fdca26"
             ],
             [
              1,
              "#f0f921"
             ]
            ],
            "type": "surface"
           }
          ],
          "table": [
           {
            "cells": {
             "fill": {
              "color": "#EBF0F8"
             },
             "line": {
              "color": "white"
             }
            },
            "header": {
             "fill": {
              "color": "#C8D4E3"
             },
             "line": {
              "color": "white"
             }
            },
            "type": "table"
           }
          ]
         },
         "layout": {
          "annotationdefaults": {
           "arrowcolor": "#2a3f5f",
           "arrowhead": 0,
           "arrowwidth": 1
          },
          "autotypenumbers": "strict",
          "coloraxis": {
           "colorbar": {
            "outlinewidth": 0,
            "ticks": ""
           }
          },
          "colorscale": {
           "diverging": [
            [
             0,
             "#8e0152"
            ],
            [
             0.1,
             "#c51b7d"
            ],
            [
             0.2,
             "#de77ae"
            ],
            [
             0.3,
             "#f1b6da"
            ],
            [
             0.4,
             "#fde0ef"
            ],
            [
             0.5,
             "#f7f7f7"
            ],
            [
             0.6,
             "#e6f5d0"
            ],
            [
             0.7,
             "#b8e186"
            ],
            [
             0.8,
             "#7fbc41"
            ],
            [
             0.9,
             "#4d9221"
            ],
            [
             1,
             "#276419"
            ]
           ],
           "sequential": [
            [
             0,
             "#0d0887"
            ],
            [
             0.1111111111111111,
             "#46039f"
            ],
            [
             0.2222222222222222,
             "#7201a8"
            ],
            [
             0.3333333333333333,
             "#9c179e"
            ],
            [
             0.4444444444444444,
             "#bd3786"
            ],
            [
             0.5555555555555556,
             "#d8576b"
            ],
            [
             0.6666666666666666,
             "#ed7953"
            ],
            [
             0.7777777777777778,
             "#fb9f3a"
            ],
            [
             0.8888888888888888,
             "#fdca26"
            ],
            [
             1,
             "#f0f921"
            ]
           ],
           "sequentialminus": [
            [
             0,
             "#0d0887"
            ],
            [
             0.1111111111111111,
             "#46039f"
            ],
            [
             0.2222222222222222,
             "#7201a8"
            ],
            [
             0.3333333333333333,
             "#9c179e"
            ],
            [
             0.4444444444444444,
             "#bd3786"
            ],
            [
             0.5555555555555556,
             "#d8576b"
            ],
            [
             0.6666666666666666,
             "#ed7953"
            ],
            [
             0.7777777777777778,
             "#fb9f3a"
            ],
            [
             0.8888888888888888,
             "#fdca26"
            ],
            [
             1,
             "#f0f921"
            ]
           ]
          },
          "colorway": [
           "#636efa",
           "#EF553B",
           "#00cc96",
           "#ab63fa",
           "#FFA15A",
           "#19d3f3",
           "#FF6692",
           "#B6E880",
           "#FF97FF",
           "#FECB52"
          ],
          "font": {
           "color": "#2a3f5f"
          },
          "geo": {
           "bgcolor": "white",
           "lakecolor": "white",
           "landcolor": "#E5ECF6",
           "showlakes": true,
           "showland": true,
           "subunitcolor": "white"
          },
          "hoverlabel": {
           "align": "left"
          },
          "hovermode": "closest",
          "mapbox": {
           "style": "light"
          },
          "paper_bgcolor": "white",
          "plot_bgcolor": "#E5ECF6",
          "polar": {
           "angularaxis": {
            "gridcolor": "white",
            "linecolor": "white",
            "ticks": ""
           },
           "bgcolor": "#E5ECF6",
           "radialaxis": {
            "gridcolor": "white",
            "linecolor": "white",
            "ticks": ""
           }
          },
          "scene": {
           "xaxis": {
            "backgroundcolor": "#E5ECF6",
            "gridcolor": "white",
            "gridwidth": 2,
            "linecolor": "white",
            "showbackground": true,
            "ticks": "",
            "zerolinecolor": "white"
           },
           "yaxis": {
            "backgroundcolor": "#E5ECF6",
            "gridcolor": "white",
            "gridwidth": 2,
            "linecolor": "white",
            "showbackground": true,
            "ticks": "",
            "zerolinecolor": "white"
           },
           "zaxis": {
            "backgroundcolor": "#E5ECF6",
            "gridcolor": "white",
            "gridwidth": 2,
            "linecolor": "white",
            "showbackground": true,
            "ticks": "",
            "zerolinecolor": "white"
           }
          },
          "shapedefaults": {
           "line": {
            "color": "#2a3f5f"
           }
          },
          "ternary": {
           "aaxis": {
            "gridcolor": "white",
            "linecolor": "white",
            "ticks": ""
           },
           "baxis": {
            "gridcolor": "white",
            "linecolor": "white",
            "ticks": ""
           },
           "bgcolor": "#E5ECF6",
           "caxis": {
            "gridcolor": "white",
            "linecolor": "white",
            "ticks": ""
           }
          },
          "title": {
           "x": 0.05
          },
          "xaxis": {
           "automargin": true,
           "gridcolor": "white",
           "linecolor": "white",
           "ticks": "",
           "title": {
            "standoff": 15
           },
           "zerolinecolor": "white",
           "zerolinewidth": 2
          },
          "yaxis": {
           "automargin": true,
           "gridcolor": "white",
           "linecolor": "white",
           "ticks": "",
           "title": {
            "standoff": 15
           },
           "zerolinecolor": "white",
           "zerolinewidth": 2
          }
         }
        },
        "title": {
         "text": "Most central nodes and edges of the network",
         "x": 0.5
        },
        "width": 1000,
        "xaxis": {
         "visible": false
        },
        "yaxis": {
         "visible": false
        }
       }
      }
     },
     "metadata": {},
     "output_type": "display_data"
    }
   ],
   "source": [
    "plotly_graph(g_centers.to_undirected(),Laycentr,labels_centr,party_colmap,bisection_colmap,centrality,\n",
    "            title='Most central nodes and edges of the network')"
   ]
  },
  {
   "cell_type": "markdown",
   "metadata": {},
   "source": [
    "In this plot, only the 20 most central nodes of each community and main edges between them are shown. The fill color of each node represent its real party belongings and the surronding color represent the bisection community it belongs to. The size of the node represent the its centrality. To have an easier interpretable plot, we rendered the graph undirected so the edge weights add up. The width of the edges then represent the sum of the 2 edges between each node. Noticeably, The biggest nodes belongs to same community (Trump, Obama, Biden, ... etc). This is expected from the bisection algorithm since it looks to minimize the sum of weights between the two communities. It then benefit from clustering them together. But for statistical correlation we take into account the whole network and these nodes only represent a very small portion of it."
   ]
  },
  {
   "cell_type": "code",
   "execution_count": 11,
   "metadata": {},
   "outputs": [
    {
     "data": {
      "application/vnd.plotly.v1+json": {
       "config": {
        "linkText": "Export to plot.ly",
        "plotlyServerURL": "https://plot.ly",
        "showLink": false
       },
       "data": [
        {
         "line": {
          "color": "mediumaquamarine",
          "shape": "spline",
          "width": 1.148698354997035
         },
         "mode": "lines",
         "type": "scatter",
         "x": [
          0.9999999999999999,
          0.9999999999999999,
          null
         ],
         "y": [
          -0.37707756232686984,
          -0.019846187490887943,
          null
         ]
        },
        {
         "line": {
          "color": "mediumaquamarine",
          "shape": "spline",
          "width": 1.615394266202178
         },
         "mode": "lines",
         "type": "scatter",
         "x": [
          0.9999999999999999,
          0.9999999999999999,
          null
         ],
         "y": [
          -0.37707756232686984,
          -0.09923093745443949,
          null
         ]
        },
        {
         "line": {
          "color": "mediumaquamarine",
          "shape": "spline",
          "width": 1.3195079107728942
         },
         "mode": "lines",
         "type": "scatter",
         "x": [
          0.9999999999999999,
          0.9999999999999999,
          null
         ],
         "y": [
          -0.37707756232686984,
          0.09923093745443937,
          null
         ]
        },
        {
         "line": {
          "color": "mediumaquamarine",
          "shape": "spline",
          "width": 1.5157165665103982
         },
         "mode": "lines",
         "type": "scatter",
         "x": [
          0.9999999999999999,
          0.9999999999999999,
          null
         ],
         "y": [
          -0.37707756232686984,
          0.019846187490887828,
          null
         ]
        },
        {
         "line": {
          "color": "mediumaquamarine",
          "shape": "spline",
          "width": 1.148698354997035
         },
         "mode": "lines",
         "type": "scatter",
         "x": [
          0.9999999999999999,
          0.9999999999999999,
          null
         ],
         "y": [
          -0.37707756232686984,
          -0.25800043738154255,
          null
         ]
        },
        {
         "line": {
          "color": "mediumaquamarine",
          "shape": "spline",
          "width": 1.4757731615945522
         },
         "mode": "lines",
         "type": "scatter",
         "x": [
          0.9999999999999999,
          0.9999999999999999,
          null
         ],
         "y": [
          -0.37707756232686984,
          -0.13892331243621525,
          null
         ]
        },
        {
         "line": {
          "color": "mediumaquamarine",
          "shape": "spline",
          "width": 1
         },
         "mode": "lines",
         "type": "scatter",
         "x": [
          0.9999999999999999,
          0.9999999999999999,
          null
         ],
         "y": [
          -0.37707756232686984,
          -0.05953856247266371,
          null
         ]
        },
        {
         "line": {
          "color": "mediumaquamarine",
          "shape": "spline",
          "width": 3.0906499672781513
         },
         "mode": "lines",
         "type": "scatter",
         "x": [
          0.9999999999999999,
          0.9999999999999999,
          null
         ],
         "y": [
          -0.37707756232686984,
          0.25800043738154244,
          null
         ]
        },
        {
         "line": {
          "color": "mediumaquamarine",
          "shape": "spline",
          "width": 1.4309690811052556
         },
         "mode": "lines",
         "type": "scatter",
         "x": [
          0.9999999999999999,
          0.9999999999999999,
          null
         ],
         "y": [
          -0.37707756232686984,
          0.21830806239976672,
          null
         ]
        },
        {
         "line": {
          "color": "mediumaquamarine",
          "shape": "spline",
          "width": 1.148698354997035
         },
         "mode": "lines",
         "type": "scatter",
         "x": [
          0.9999999999999999,
          0.9999999999999999,
          null
         ],
         "y": [
          -0.37707756232686984,
          -0.29769281236331835,
          null
         ]
        },
        {
         "line": {
          "color": "mediumaquamarine",
          "shape": "spline",
          "width": 1.961009057454548
         },
         "mode": "lines",
         "type": "scatter",
         "x": [
          0.9999999999999999,
          0.9999999999999999,
          null
         ],
         "y": [
          -0.37707756232686984,
          0.13892331243621509,
          null
         ]
        },
        {
         "line": {
          "color": "mediumaquamarine",
          "shape": "spline",
          "width": 1.4757731615945522
         },
         "mode": "lines",
         "type": "scatter",
         "x": [
          0.9999999999999999,
          0.9999999999999999,
          null
         ],
         "y": [
          -0.37707756232686984,
          0.3770775623268698,
          null
         ]
        },
        {
         "line": {
          "color": "mediumaquamarine",
          "shape": "spline",
          "width": 1.5157165665103982
         },
         "mode": "lines",
         "type": "scatter",
         "x": [
          0.9999999999999999,
          0.9999999999999999,
          null
         ],
         "y": [
          -0.37707756232686984,
          0.17861568741799091,
          null
         ]
        },
        {
         "line": {
          "color": "mediumaquamarine",
          "shape": "spline",
          "width": 1.148698354997035
         },
         "mode": "lines",
         "type": "scatter",
         "x": [
          0.9999999999999999,
          0.9999999999999999,
          null
         ],
         "y": [
          -0.37707756232686984,
          0.05953856247266365,
          null
         ]
        },
        {
         "line": {
          "color": "mediumaquamarine",
          "shape": "spline",
          "width": 2.486249570212102
         },
         "mode": "lines",
         "type": "scatter",
         "x": [
          0.9999999999999999,
          0.9999999999999999,
          null
         ],
         "y": [
          -0.37707756232686984,
          -0.2183080623997668,
          null
         ]
        },
        {
         "line": {
          "color": "mediumaquamarine",
          "shape": "spline",
          "width": 2.168943542395397
         },
         "mode": "lines",
         "type": "scatter",
         "x": [
          0.9999999999999999,
          0.9999999999999999,
          null
         ],
         "y": [
          -0.37707756232686984,
          0.2976928123633182,
          null
         ]
        },
        {
         "line": {
          "color": "mediumaquamarine",
          "shape": "spline",
          "width": 1.8019831273171423
         },
         "mode": "lines",
         "type": "scatter",
         "x": [
          0.9999999999999999,
          0.9999999999999999,
          null
         ],
         "y": [
          -0.37707756232686984,
          -0.17861568741799103,
          null
         ]
        },
        {
         "line": {
          "color": "mediumaquamarine",
          "shape": "spline",
          "width": 1.4309690811052556
         },
         "mode": "lines",
         "type": "scatter",
         "x": [
          0.9999999999999999,
          0.9999999999999999,
          null
         ],
         "y": [
          -0.37707756232686984,
          -0.3373851873450941,
          null
         ]
        },
        {
         "line": {
          "color": "mediumaquamarine",
          "shape": "spline",
          "width": 1.7187719275874789
         },
         "mode": "lines",
         "type": "scatter",
         "x": [
          0.9999999999999999,
          0.9999999999999999,
          null
         ],
         "y": [
          -0.37707756232686984,
          0.337385187345094,
          null
         ]
        },
        {
         "line": {
          "color": "mediumaquamarine",
          "shape": "spline",
          "width": 1
         },
         "mode": "lines",
         "type": "scatter",
         "x": [
          0.9999999999999999,
          -0.005540166204986178,
          null
         ],
         "y": [
          -0.37707756232686984,
          0.3122983745622095,
          null
         ]
        },
        {
         "line": {
          "color": "mediumaquamarine",
          "shape": "spline",
          "width": 1.8556007362580844
         },
         "mode": "lines",
         "type": "scatter",
         "x": [
          0.9999999999999999,
          0.9999999999999999,
          null
         ],
         "y": [
          -0.3373851873450941,
          -0.29769281236331835,
          null
         ]
        },
        {
         "line": {
          "color": "mediumaquamarine",
          "shape": "spline",
          "width": 1.6702776523348104
         },
         "mode": "lines",
         "type": "scatter",
         "x": [
          0.9999999999999999,
          0.9999999999999999,
          null
         ],
         "y": [
          -0.3373851873450941,
          -0.25800043738154255,
          null
         ]
        },
        {
         "line": {
          "color": "mediumaquamarine",
          "shape": "spline",
          "width": 1.148698354997035
         },
         "mode": "lines",
         "type": "scatter",
         "x": [
          0.9999999999999999,
          -0.005540166204986178,
          null
         ],
         "y": [
          -0.3373851873450941,
          0.09957188054793766,
          null
         ]
        },
        {
         "line": {
          "color": "mediumaquamarine",
          "shape": "spline",
          "width": 1.5157165665103982
         },
         "mode": "lines",
         "type": "scatter",
         "x": [
          0.9999999999999999,
          0.9999999999999999,
          null
         ],
         "y": [
          -0.3373851873450941,
          -0.2183080623997668,
          null
         ]
        },
        {
         "line": {
          "color": "mediumaquamarine",
          "shape": "spline",
          "width": 2.3389428374280206
         },
         "mode": "lines",
         "type": "scatter",
         "x": [
          0.9999999999999999,
          0.9999999999999999,
          null
         ],
         "y": [
          -0.3373851873450941,
          -0.13892331243621525,
          null
         ]
        },
        {
         "line": {
          "color": "mediumaquamarine",
          "shape": "spline",
          "width": 1.6437518295172258
         },
         "mode": "lines",
         "type": "scatter",
         "x": [
          0.9999999999999999,
          0.9999999999999999,
          null
         ],
         "y": [
          -0.3373851873450941,
          -0.09923093745443949,
          null
         ]
        },
        {
         "line": {
          "color": "mediumaquamarine",
          "shape": "spline",
          "width": 1.4309690811052556
         },
         "mode": "lines",
         "type": "scatter",
         "x": [
          0.9999999999999999,
          0.9999999999999999,
          null
         ],
         "y": [
          -0.3373851873450941,
          -0.05953856247266371,
          null
         ]
        },
        {
         "line": {
          "color": "mediumaquamarine",
          "shape": "spline",
          "width": 1.379729661461215
         },
         "mode": "lines",
         "type": "scatter",
         "x": [
          0.9999999999999999,
          0.9999999999999999,
          null
         ],
         "y": [
          -0.3373851873450941,
          -0.019846187490887943,
          null
         ]
        },
        {
         "line": {
          "color": "mediumaquamarine",
          "shape": "spline",
          "width": 1
         },
         "mode": "lines",
         "type": "scatter",
         "x": [
          0.9999999999999999,
          0.9999999999999999,
          null
         ],
         "y": [
          -0.3373851873450941,
          0.05953856247266365,
          null
         ]
        },
        {
         "line": {
          "color": "mediumaquamarine",
          "shape": "spline",
          "width": 1.8721712305548575
         },
         "mode": "lines",
         "type": "scatter",
         "x": [
          0.9999999999999999,
          0.9999999999999999,
          null
         ],
         "y": [
          -0.3373851873450941,
          0.09923093745443937,
          null
         ]
        },
        {
         "line": {
          "color": "mediumaquamarine",
          "shape": "spline",
          "width": 1
         },
         "mode": "lines",
         "type": "scatter",
         "x": [
          0.9999999999999999,
          -0.005540166204986178,
          null
         ],
         "y": [
          -0.3373851873450941,
          -0.19799445292585718,
          null
         ]
        },
        {
         "line": {
          "color": "mediumaquamarine",
          "shape": "spline",
          "width": 1.379729661461215
         },
         "mode": "lines",
         "type": "scatter",
         "x": [
          0.9999999999999999,
          -0.005540166204986178,
          null
         ],
         "y": [
          -0.3373851873450941,
          0.08097398470582544,
          null
         ]
        },
        {
         "line": {
          "color": "mediumaquamarine",
          "shape": "spline",
          "width": 1.6702776523348104
         },
         "mode": "lines",
         "type": "scatter",
         "x": [
          0.9999999999999999,
          0.9999999999999999,
          null
         ],
         "y": [
          -0.3373851873450941,
          0.13892331243621509,
          null
         ]
        },
        {
         "line": {
          "color": "mediumaquamarine",
          "shape": "spline",
          "width": 1.4309690811052556
         },
         "mode": "lines",
         "type": "scatter",
         "x": [
          0.9999999999999999,
          0.9999999999999999,
          null
         ],
         "y": [
          -0.3373851873450941,
          0.17861568741799091,
          null
         ]
        },
        {
         "line": {
          "color": "mediumaquamarine",
          "shape": "spline",
          "width": 2.6712084610391402
         },
         "mode": "lines",
         "type": "scatter",
         "x": [
          0.9999999999999999,
          0.9999999999999999,
          null
         ],
         "y": [
          -0.3373851873450941,
          0.21830806239976672,
          null
         ]
        },
        {
         "line": {
          "color": "mediumaquamarine",
          "shape": "spline",
          "width": 3.447512045348849
         },
         "mode": "lines",
         "type": "scatter",
         "x": [
          0.9999999999999999,
          0.9999999999999999,
          null
         ],
         "y": [
          -0.3373851873450941,
          0.25800043738154244,
          null
         ]
        },
        {
         "line": {
          "color": "mediumaquamarine",
          "shape": "spline",
          "width": 2.4428896557373942
         },
         "mode": "lines",
         "type": "scatter",
         "x": [
          0.9999999999999999,
          0.9999999999999999,
          null
         ],
         "y": [
          -0.3373851873450941,
          0.337385187345094,
          null
         ]
        },
        {
         "line": {
          "color": "mediumaquamarine",
          "shape": "spline",
          "width": 1.97435048583482
         },
         "mode": "lines",
         "type": "scatter",
         "x": [
          0.9999999999999999,
          0.9999999999999999,
          null
         ],
         "y": [
          -0.3373851873450941,
          0.2976928123633182,
          null
         ]
        },
        {
         "line": {
          "color": "mediumaquamarine",
          "shape": "spline",
          "width": 1.5848931924611136
         },
         "mode": "lines",
         "type": "scatter",
         "x": [
          0.9999999999999999,
          0.9999999999999999,
          null
         ],
         "y": [
          -0.3373851873450941,
          0.3770775623268698,
          null
         ]
        },
        {
         "line": {
          "color": "mediumaquamarine",
          "shape": "spline",
          "width": 2.639015821545789
         },
         "mode": "lines",
         "type": "scatter",
         "x": [
          0.9999999999999999,
          0.9999999999999999,
          null
         ],
         "y": [
          -0.29769281236331835,
          -0.019846187490887943,
          null
         ]
        },
        {
         "line": {
          "color": "mediumaquamarine",
          "shape": "spline",
          "width": 1
         },
         "mode": "lines",
         "type": "scatter",
         "x": [
          0.9999999999999999,
          -0.005540166204986178,
          null
         ],
         "y": [
          -0.29769281236331835,
          0.08097398470582544,
          null
         ]
        },
        {
         "line": {
          "color": "mediumaquamarine",
          "shape": "spline",
          "width": 1.4309690811052556
         },
         "mode": "lines",
         "type": "scatter",
         "x": [
          0.9999999999999999,
          0.9999999999999999,
          null
         ],
         "y": [
          -0.29769281236331835,
          -0.09923093745443949,
          null
         ]
        },
        {
         "line": {
          "color": "mediumaquamarine",
          "shape": "spline",
          "width": 1.2457309396155174
         },
         "mode": "lines",
         "type": "scatter",
         "x": [
          0.9999999999999999,
          0.9999999999999999,
          null
         ],
         "y": [
          -0.29769281236331835,
          0.09923093745443937,
          null
         ]
        },
        {
         "line": {
          "color": "mediumaquamarine",
          "shape": "spline",
          "width": 1.4309690811052556
         },
         "mode": "lines",
         "type": "scatter",
         "x": [
          0.9999999999999999,
          0.9999999999999999,
          null
         ],
         "y": [
          -0.29769281236331835,
          0.019846187490887828,
          null
         ]
        },
        {
         "line": {
          "color": "mediumaquamarine",
          "shape": "spline",
          "width": 1.4757731615945522
         },
         "mode": "lines",
         "type": "scatter",
         "x": [
          0.9999999999999999,
          0.9999999999999999,
          null
         ],
         "y": [
          -0.29769281236331835,
          -0.25800043738154255,
          null
         ]
        },
        {
         "line": {
          "color": "mediumaquamarine",
          "shape": "spline",
          "width": 1.5848931924611136
         },
         "mode": "lines",
         "type": "scatter",
         "x": [
          0.9999999999999999,
          0.9999999999999999,
          null
         ],
         "y": [
          -0.29769281236331835,
          -0.13892331243621525,
          null
         ]
        },
        {
         "line": {
          "color": "mediumaquamarine",
          "shape": "spline",
          "width": 2.141127368338324
         },
         "mode": "lines",
         "type": "scatter",
         "x": [
          0.9999999999999999,
          0.9999999999999999,
          null
         ],
         "y": [
          -0.29769281236331835,
          -0.05953856247266371,
          null
         ]
        },
        {
         "line": {
          "color": "mediumaquamarine",
          "shape": "spline",
          "width": 2.913693458576192
         },
         "mode": "lines",
         "type": "scatter",
         "x": [
          0.9999999999999999,
          0.9999999999999999,
          null
         ],
         "y": [
          -0.29769281236331835,
          0.25800043738154244,
          null
         ]
        },
        {
         "line": {
          "color": "mediumaquamarine",
          "shape": "spline",
          "width": 1.3195079107728942
         },
         "mode": "lines",
         "type": "scatter",
         "x": [
          0.9999999999999999,
          0.9999999999999999,
          null
         ],
         "y": [
          -0.29769281236331835,
          0.21830806239976672,
          null
         ]
        },
        {
         "line": {
          "color": "mediumaquamarine",
          "shape": "spline",
          "width": 1.762340347832317
         },
         "mode": "lines",
         "type": "scatter",
         "x": [
          0.9999999999999999,
          0.9999999999999999,
          null
         ],
         "y": [
          -0.29769281236331835,
          0.13892331243621509,
          null
         ]
        },
        {
         "line": {
          "color": "mediumaquamarine",
          "shape": "spline",
          "width": 1.3195079107728942
         },
         "mode": "lines",
         "type": "scatter",
         "x": [
          0.9999999999999999,
          0.9999999999999999,
          null
         ],
         "y": [
          -0.29769281236331835,
          0.3770775623268698,
          null
         ]
        },
        {
         "line": {
          "color": "mediumaquamarine",
          "shape": "spline",
          "width": 1.2457309396155174
         },
         "mode": "lines",
         "type": "scatter",
         "x": [
          0.9999999999999999,
          0.9999999999999999,
          null
         ],
         "y": [
          -0.29769281236331835,
          0.17861568741799091,
          null
         ]
        },
        {
         "line": {
          "color": "mediumaquamarine",
          "shape": "spline",
          "width": 1.3195079107728942
         },
         "mode": "lines",
         "type": "scatter",
         "x": [
          0.9999999999999999,
          0.9999999999999999,
          null
         ],
         "y": [
          -0.29769281236331835,
          0.05953856247266365,
          null
         ]
        },
        {
         "line": {
          "color": "mediumaquamarine",
          "shape": "spline",
          "width": 1.8019831273171423
         },
         "mode": "lines",
         "type": "scatter",
         "x": [
          0.9999999999999999,
          0.9999999999999999,
          null
         ],
         "y": [
          -0.29769281236331835,
          -0.2183080623997668,
          null
         ]
        },
        {
         "line": {
          "color": "mediumaquamarine",
          "shape": "spline",
          "width": 2.0912791051825463
         },
         "mode": "lines",
         "type": "scatter",
         "x": [
          0.9999999999999999,
          0.9999999999999999,
          null
         ],
         "y": [
          -0.29769281236331835,
          0.2976928123633182,
          null
         ]
        },
        {
         "line": {
          "color": "mediumaquamarine",
          "shape": "spline",
          "width": 1.3195079107728942
         },
         "mode": "lines",
         "type": "scatter",
         "x": [
          0.9999999999999999,
          0.9999999999999999,
          null
         ],
         "y": [
          -0.29769281236331835,
          -0.17861568741799103,
          null
         ]
        },
        {
         "line": {
          "color": "mediumaquamarine",
          "shape": "spline",
          "width": 1.615394266202178
         },
         "mode": "lines",
         "type": "scatter",
         "x": [
          0.9999999999999999,
          0.9999999999999999,
          null
         ],
         "y": [
          -0.29769281236331835,
          0.337385187345094,
          null
         ]
        },
        {
         "line": {
          "color": "mediumaquamarine",
          "shape": "spline",
          "width": 1.148698354997035
         },
         "mode": "lines",
         "type": "scatter",
         "x": [
          -0.005540166204986178,
          -0.005540166204986178,
          null
         ],
         "y": [
          0.2213985465698635,
          -0.15515660295245268,
          null
         ]
        },
        {
         "line": {
          "color": "mediumaquamarine",
          "shape": "spline",
          "width": 1
         },
         "mode": "lines",
         "type": "scatter",
         "x": [
          -0.005540166204986178,
          -0.005540166204986178,
          null
         ],
         "y": [
          0.2213985465698635,
          0.3357024682062158,
          null
         ]
        },
        {
         "line": {
          "color": "mediumaquamarine",
          "shape": "spline",
          "width": 1
         },
         "mode": "lines",
         "type": "scatter",
         "x": [
          -0.005540166204986178,
          -0.005540166204986178,
          null
         ],
         "y": [
          0.2213985465698635,
          0.27029638507609094,
          null
         ]
        },
        {
         "line": {
          "color": "mediumaquamarine",
          "shape": "spline",
          "width": 1.379729661461215
         },
         "mode": "lines",
         "type": "scatter",
         "x": [
          -0.005540166204986178,
          -0.005540166204986178,
          null
         ],
         "y": [
          0.2213985465698635,
          -0.19799445292585718,
          null
         ]
        },
        {
         "line": {
          "color": "mediumaquamarine",
          "shape": "spline",
          "width": 1.5518455739153598
         },
         "mode": "lines",
         "type": "scatter",
         "x": [
          -0.005540166204986178,
          -0.005540166204986178,
          null
         ],
         "y": [
          0.2213985465698635,
          0.08097398470582544,
          null
         ]
        },
        {
         "line": {
          "color": "mediumaquamarine",
          "shape": "spline",
          "width": 1.148698354997035
         },
         "mode": "lines",
         "type": "scatter",
         "x": [
          -0.005540166204986178,
          -0.005540166204986178,
          null
         ],
         "y": [
          0.2213985465698635,
          -0.21617441852432637,
          null
         ]
        },
        {
         "line": {
          "color": "mediumaquamarine",
          "shape": "spline",
          "width": 2.4595094858493636
         },
         "mode": "lines",
         "type": "scatter",
         "x": [
          0.9999999999999999,
          0.9999999999999999,
          null
         ],
         "y": [
          -0.25800043738154255,
          -0.019846187490887943,
          null
         ]
        },
        {
         "line": {
          "color": "mediumaquamarine",
          "shape": "spline",
          "width": 2.5602273756445477
         },
         "mode": "lines",
         "type": "scatter",
         "x": [
          0.9999999999999999,
          0.9999999999999999,
          null
         ],
         "y": [
          -0.25800043738154255,
          -0.09923093745443949,
          null
         ]
        },
        {
         "line": {
          "color": "mediumaquamarine",
          "shape": "spline",
          "width": 2.713085416565605
         },
         "mode": "lines",
         "type": "scatter",
         "x": [
          0.9999999999999999,
          0.9999999999999999,
          null
         ],
         "y": [
          -0.25800043738154255,
          0.09923093745443937,
          null
         ]
        },
        {
         "line": {
          "color": "mediumaquamarine",
          "shape": "spline",
          "width": 2.846874492985077
         },
         "mode": "lines",
         "type": "scatter",
         "x": [
          0.9999999999999999,
          0.9999999999999999,
          null
         ],
         "y": [
          -0.25800043738154255,
          -0.13892331243621525,
          null
         ]
        },
        {
         "line": {
          "color": "mediumaquamarine",
          "shape": "spline",
          "width": 2.058924136478517
         },
         "mode": "lines",
         "type": "scatter",
         "x": [
          0.9999999999999999,
          0.9999999999999999,
          null
         ],
         "y": [
          -0.25800043738154255,
          -0.05953856247266371,
          null
         ]
        },
        {
         "line": {
          "color": "mediumaquamarine",
          "shape": "spline",
          "width": 4.396171541689877
         },
         "mode": "lines",
         "type": "scatter",
         "x": [
          0.9999999999999999,
          0.9999999999999999,
          null
         ],
         "y": [
          -0.25800043738154255,
          0.25800043738154244,
          null
         ]
        },
        {
         "line": {
          "color": "mediumaquamarine",
          "shape": "spline",
          "width": 2.159830011764466
         },
         "mode": "lines",
         "type": "scatter",
         "x": [
          0.9999999999999999,
          0.9999999999999999,
          null
         ],
         "y": [
          -0.25800043738154255,
          0.21830806239976672,
          null
         ]
        },
        {
         "line": {
          "color": "mediumaquamarine",
          "shape": "spline",
          "width": 1.7826024579660034
         },
         "mode": "lines",
         "type": "scatter",
         "x": [
          0.9999999999999999,
          0.9999999999999999,
          null
         ],
         "y": [
          -0.25800043738154255,
          0.3770775623268698,
          null
         ]
        },
        {
         "line": {
          "color": "mediumaquamarine",
          "shape": "spline",
          "width": 2.6265278044037674
         },
         "mode": "lines",
         "type": "scatter",
         "x": [
          0.9999999999999999,
          0.9999999999999999,
          null
         ],
         "y": [
          -0.25800043738154255,
          0.17861568741799091,
          null
         ]
        },
        {
         "line": {
          "color": "mediumaquamarine",
          "shape": "spline",
          "width": 2.058924136478517
         },
         "mode": "lines",
         "type": "scatter",
         "x": [
          0.9999999999999999,
          0.9999999999999999,
          null
         ],
         "y": [
          -0.25800043738154255,
          0.05953856247266365,
          null
         ]
        },
        {
         "line": {
          "color": "mediumaquamarine",
          "shape": "spline",
          "width": 2.5830901781308797
         },
         "mode": "lines",
         "type": "scatter",
         "x": [
          0.9999999999999999,
          0.9999999999999999,
          null
         ],
         "y": [
          -0.25800043738154255,
          -0.2183080623997668,
          null
         ]
        },
        {
         "line": {
          "color": "mediumaquamarine",
          "shape": "spline",
          "width": 3.1893544542910526
         },
         "mode": "lines",
         "type": "scatter",
         "x": [
          0.9999999999999999,
          0.9999999999999999,
          null
         ],
         "y": [
          -0.25800043738154255,
          0.2976928123633182,
          null
         ]
        },
        {
         "line": {
          "color": "mediumaquamarine",
          "shape": "spline",
          "width": 1.4757731615945522
         },
         "mode": "lines",
         "type": "scatter",
         "x": [
          0.9999999999999999,
          0.9999999999999999,
          null
         ],
         "y": [
          -0.25800043738154255,
          -0.17861568741799103,
          null
         ]
        },
        {
         "line": {
          "color": "mediumaquamarine",
          "shape": "spline",
          "width": 3.1835344256144342
         },
         "mode": "lines",
         "type": "scatter",
         "x": [
          0.9999999999999999,
          0.9999999999999999,
          null
         ],
         "y": [
          -0.25800043738154255,
          0.337385187345094,
          null
         ]
        },
        {
         "line": {
          "color": "mediumaquamarine",
          "shape": "spline",
          "width": 1.148698354997035
         },
         "mode": "lines",
         "type": "scatter",
         "x": [
          0.9999999999999999,
          -0.005540166204986178,
          null
         ],
         "y": [
          -0.25800043738154255,
          0.08097398470582544,
          null
         ]
        },
        {
         "line": {
          "color": "mediumaquamarine",
          "shape": "spline",
          "width": 2.2603224696268156
         },
         "mode": "lines",
         "type": "scatter",
         "x": [
          0.9999999999999999,
          0.9999999999999999,
          null
         ],
         "y": [
          -0.25800043738154255,
          0.13892331243621509,
          null
         ]
        },
        {
         "line": {
          "color": "mediumaquamarine",
          "shape": "spline",
          "width": 1.148698354997035
         },
         "mode": "lines",
         "type": "scatter",
         "x": [
          -0.005540166204986178,
          -0.005540166204986178,
          null
         ],
         "y": [
          -0.15515660295245268,
          0.08097398470582544,
          null
         ]
        },
        {
         "line": {
          "color": "mediumaquamarine",
          "shape": "spline",
          "width": 1
         },
         "mode": "lines",
         "type": "scatter",
         "x": [
          -0.005540166204986178,
          0.9999999999999999,
          null
         ],
         "y": [
          -0.15515660295245268,
          0.09923093745443937,
          null
         ]
        },
        {
         "line": {
          "color": "mediumaquamarine",
          "shape": "spline",
          "width": 1
         },
         "mode": "lines",
         "type": "scatter",
         "x": [
          -0.005540166204986178,
          0.9999999999999999,
          null
         ],
         "y": [
          -0.15515660295245268,
          0.25800043738154244,
          null
         ]
        },
        {
         "line": {
          "color": "mediumaquamarine",
          "shape": "spline",
          "width": 1
         },
         "mode": "lines",
         "type": "scatter",
         "x": [
          -0.005540166204986178,
          0.9999999999999999,
          null
         ],
         "y": [
          -0.15515660295245268,
          0.13892331243621509,
          null
         ]
        },
        {
         "line": {
          "color": "mediumaquamarine",
          "shape": "spline",
          "width": 1.2457309396155174
         },
         "mode": "lines",
         "type": "scatter",
         "x": [
          -0.005540166204986178,
          -0.005540166204986178,
          null
         ],
         "y": [
          -0.15515660295245268,
          -0.21617441852432637,
          null
         ]
        },
        {
         "line": {
          "color": "mediumaquamarine",
          "shape": "spline",
          "width": 1
         },
         "mode": "lines",
         "type": "scatter",
         "x": [
          -0.005540166204986178,
          -0.005540166204986178,
          null
         ],
         "y": [
          -0.15515660295245268,
          0.27029638507609094,
          null
         ]
        },
        {
         "line": {
          "color": "mediumaquamarine",
          "shape": "spline",
          "width": 1.2457309396155174
         },
         "mode": "lines",
         "type": "scatter",
         "x": [
          -0.005540166204986178,
          -0.005540166204986178,
          null
         ],
         "y": [
          -0.15515660295245268,
          -0.19799445292585718,
          null
         ]
        },
        {
         "line": {
          "color": "mediumaquamarine",
          "shape": "spline",
          "width": 1.6952182030724354
         },
         "mode": "lines",
         "type": "scatter",
         "x": [
          -0.005540166204986178,
          0.9999999999999999,
          null
         ],
         "y": [
          0.09957188054793766,
          0.25800043738154244,
          null
         ]
        },
        {
         "line": {
          "color": "mediumaquamarine",
          "shape": "spline",
          "width": 1
         },
         "mode": "lines",
         "type": "scatter",
         "x": [
          -0.005540166204986178,
          0.9999999999999999,
          null
         ],
         "y": [
          0.09957188054793766,
          0.09923093745443937,
          null
         ]
        },
        {
         "line": {
          "color": "mediumaquamarine",
          "shape": "spline",
          "width": 1.148698354997035
         },
         "mode": "lines",
         "type": "scatter",
         "x": [
          -0.005540166204986178,
          -0.005540166204986178,
          null
         ],
         "y": [
          0.09957188054793766,
          0.08097398470582544,
          null
         ]
        },
        {
         "line": {
          "color": "mediumaquamarine",
          "shape": "spline",
          "width": 1.5848931924611136
         },
         "mode": "lines",
         "type": "scatter",
         "x": [
          -0.005540166204986178,
          0.9999999999999999,
          null
         ],
         "y": [
          0.09957188054793766,
          0.337385187345094,
          null
         ]
        },
        {
         "line": {
          "color": "mediumaquamarine",
          "shape": "spline",
          "width": 1
         },
         "mode": "lines",
         "type": "scatter",
         "x": [
          -0.005540166204986178,
          -0.005540166204986178,
          null
         ],
         "y": [
          0.09957188054793766,
          -0.21617441852432637,
          null
         ]
        },
        {
         "line": {
          "color": "mediumaquamarine",
          "shape": "spline",
          "width": 1.4309690811052556
         },
         "mode": "lines",
         "type": "scatter",
         "x": [
          -0.005540166204986178,
          0.9999999999999999,
          null
         ],
         "y": [
          0.08849672909139894,
          0.25800043738154244,
          null
         ]
        },
        {
         "line": {
          "color": "mediumaquamarine",
          "shape": "spline",
          "width": 1
         },
         "mode": "lines",
         "type": "scatter",
         "x": [
          -0.005540166204986178,
          0.9999999999999999,
          null
         ],
         "y": [
          0.08849672909139894,
          0.21830806239976672,
          null
         ]
        },
        {
         "line": {
          "color": "mediumaquamarine",
          "shape": "spline",
          "width": 1.2457309396155174
         },
         "mode": "lines",
         "type": "scatter",
         "x": [
          -0.005540166204986178,
          0.9999999999999999,
          null
         ],
         "y": [
          0.08849672909139894,
          0.337385187345094,
          null
         ]
        },
        {
         "line": {
          "color": "mediumaquamarine",
          "shape": "spline",
          "width": 1.2457309396155174
         },
         "mode": "lines",
         "type": "scatter",
         "x": [
          -0.005540166204986178,
          0.9999999999999999,
          null
         ],
         "y": [
          0.25086262874669285,
          0.25800043738154244,
          null
         ]
        },
        {
         "line": {
          "color": "mediumaquamarine",
          "shape": "spline",
          "width": 1
         },
         "mode": "lines",
         "type": "scatter",
         "x": [
          -0.005540166204986178,
          0.9999999999999999,
          null
         ],
         "y": [
          0.25086262874669285,
          0.337385187345094,
          null
         ]
        },
        {
         "line": {
          "color": "mediumaquamarine",
          "shape": "spline",
          "width": 1.3195079107728942
         },
         "mode": "lines",
         "type": "scatter",
         "x": [
          -0.005540166204986178,
          -0.005540166204986178,
          null
         ],
         "y": [
          0.25086262874669285,
          0.2548329660613011,
          null
         ]
        },
        {
         "line": {
          "color": "mediumaquamarine",
          "shape": "spline",
          "width": 1.148698354997035
         },
         "mode": "lines",
         "type": "scatter",
         "x": [
          -0.005540166204986178,
          -0.005540166204986178,
          null
         ],
         "y": [
          -0.2968349555474196,
          0.08097398470582544,
          null
         ]
        },
        {
         "line": {
          "color": "mediumaquamarine",
          "shape": "spline",
          "width": 1.2457309396155174
         },
         "mode": "lines",
         "type": "scatter",
         "x": [
          -0.005540166204986178,
          0.9999999999999999,
          null
         ],
         "y": [
          -0.2968349555474196,
          0.25800043738154244,
          null
         ]
        },
        {
         "line": {
          "color": "mediumaquamarine",
          "shape": "spline",
          "width": 1
         },
         "mode": "lines",
         "type": "scatter",
         "x": [
          -0.005540166204986178,
          -0.005540166204986178,
          null
         ],
         "y": [
          -0.2968349555474196,
          0.1323794046739108,
          null
         ]
        },
        {
         "line": {
          "color": "mediumaquamarine",
          "shape": "spline",
          "width": 1.148698354997035
         },
         "mode": "lines",
         "type": "scatter",
         "x": [
          -0.005540166204986178,
          -0.005540166204986178,
          null
         ],
         "y": [
          -0.2968349555474196,
          -0.21617441852432637,
          null
         ]
        },
        {
         "line": {
          "color": "mediumaquamarine",
          "shape": "spline",
          "width": 1.615394266202178
         },
         "mode": "lines",
         "type": "scatter",
         "x": [
          0.9999999999999999,
          0.9999999999999999,
          null
         ],
         "y": [
          -0.2183080623997668,
          -0.019846187490887943,
          null
         ]
        },
        {
         "line": {
          "color": "mediumaquamarine",
          "shape": "spline",
          "width": 2.069935054081614
         },
         "mode": "lines",
         "type": "scatter",
         "x": [
          0.9999999999999999,
          0.9999999999999999,
          null
         ],
         "y": [
          -0.2183080623997668,
          -0.09923093745443949,
          null
         ]
        },
        {
         "line": {
          "color": "mediumaquamarine",
          "shape": "spline",
          "width": 2.352158045049347
         },
         "mode": "lines",
         "type": "scatter",
         "x": [
          0.9999999999999999,
          0.9999999999999999,
          null
         ],
         "y": [
          -0.2183080623997668,
          0.09923093745443937,
          null
         ]
        },
        {
         "line": {
          "color": "mediumaquamarine",
          "shape": "spline",
          "width": 1.8556007362580844
         },
         "mode": "lines",
         "type": "scatter",
         "x": [
          0.9999999999999999,
          0.9999999999999999,
          null
         ],
         "y": [
          -0.2183080623997668,
          0.019846187490887828,
          null
         ]
        },
        {
         "line": {
          "color": "mediumaquamarine",
          "shape": "spline",
          "width": 3.3194108500902413
         },
         "mode": "lines",
         "type": "scatter",
         "x": [
          0.9999999999999999,
          0.9999999999999999,
          null
         ],
         "y": [
          -0.2183080623997668,
          -0.13892331243621525,
          null
         ]
        },
        {
         "line": {
          "color": "mediumaquamarine",
          "shape": "spline",
          "width": 2.3962129904817697
         },
         "mode": "lines",
         "type": "scatter",
         "x": [
          0.9999999999999999,
          0.9999999999999999,
          null
         ],
         "y": [
          -0.2183080623997668,
          -0.05953856247266371,
          null
         ]
        },
        {
         "line": {
          "color": "mediumaquamarine",
          "shape": "spline",
          "width": 4.466695543429539
         },
         "mode": "lines",
         "type": "scatter",
         "x": [
          0.9999999999999999,
          0.9999999999999999,
          null
         ],
         "y": [
          -0.2183080623997668,
          0.25800043738154244,
          null
         ]
        },
        {
         "line": {
          "color": "mediumaquamarine",
          "shape": "spline",
          "width": 2.2368538294402893
         },
         "mode": "lines",
         "type": "scatter",
         "x": [
          0.9999999999999999,
          0.9999999999999999,
          null
         ],
         "y": [
          -0.2183080623997668,
          0.21830806239976672,
          null
         ]
        },
        {
         "line": {
          "color": "mediumaquamarine",
          "shape": "spline",
          "width": 2.17790642448278
         },
         "mode": "lines",
         "type": "scatter",
         "x": [
          0.9999999999999999,
          0.9999999999999999,
          null
         ],
         "y": [
          -0.2183080623997668,
          0.13892331243621509,
          null
         ]
        },
        {
         "line": {
          "color": "mediumaquamarine",
          "shape": "spline",
          "width": 2.0912791051825463
         },
         "mode": "lines",
         "type": "scatter",
         "x": [
          0.9999999999999999,
          0.9999999999999999,
          null
         ],
         "y": [
          -0.2183080623997668,
          0.17861568741799091,
          null
         ]
        },
        {
         "line": {
          "color": "mediumaquamarine",
          "shape": "spline",
          "width": 1
         },
         "mode": "lines",
         "type": "scatter",
         "x": [
          0.9999999999999999,
          0.9999999999999999,
          null
         ],
         "y": [
          -0.2183080623997668,
          0.05953856247266365,
          null
         ]
        },
        {
         "line": {
          "color": "mediumaquamarine",
          "shape": "spline",
          "width": 2.7093840584173186
         },
         "mode": "lines",
         "type": "scatter",
         "x": [
          0.9999999999999999,
          0.9999999999999999,
          null
         ],
         "y": [
          -0.2183080623997668,
          0.2976928123633182,
          null
         ]
        },
        {
         "line": {
          "color": "mediumaquamarine",
          "shape": "spline",
          "width": 1
         },
         "mode": "lines",
         "type": "scatter",
         "x": [
          0.9999999999999999,
          0.9999999999999999,
          null
         ],
         "y": [
          -0.2183080623997668,
          -0.17861568741799103,
          null
         ]
        },
        {
         "line": {
          "color": "mediumaquamarine",
          "shape": "spline",
          "width": 3.0049220937458307
         },
         "mode": "lines",
         "type": "scatter",
         "x": [
          0.9999999999999999,
          0.9999999999999999,
          null
         ],
         "y": [
          -0.2183080623997668,
          0.337385187345094,
          null
         ]
        },
        {
         "line": {
          "color": "mediumaquamarine",
          "shape": "spline",
          "width": 1
         },
         "mode": "lines",
         "type": "scatter",
         "x": [
          0.9999999999999999,
          -0.005540166204986178,
          null
         ],
         "y": [
          -0.2183080623997668,
          0.08097398470582544,
          null
         ]
        },
        {
         "line": {
          "color": "mediumaquamarine",
          "shape": "spline",
          "width": 1.4309690811052556
         },
         "mode": "lines",
         "type": "scatter",
         "x": [
          0.9999999999999999,
          -0.005540166204986178,
          null
         ],
         "y": [
          -0.2183080623997668,
          -0.21617441852432637,
          null
         ]
        },
        {
         "line": {
          "color": "mediumaquamarine",
          "shape": "spline",
          "width": 1
         },
         "mode": "lines",
         "type": "scatter",
         "x": [
          0.9999999999999999,
          -0.005540166204986178,
          null
         ],
         "y": [
          -0.2183080623997668,
          0.1323794046739108,
          null
         ]
        },
        {
         "line": {
          "color": "mediumaquamarine",
          "shape": "spline",
          "width": 1
         },
         "mode": "lines",
         "type": "scatter",
         "x": [
          0.9999999999999999,
          0.9999999999999999,
          null
         ],
         "y": [
          -0.2183080623997668,
          0.3770775623268698,
          null
         ]
        },
        {
         "line": {
          "color": "mediumaquamarine",
          "shape": "spline",
          "width": 1.2457309396155174
         },
         "mode": "lines",
         "type": "scatter",
         "x": [
          -0.005540166204986178,
          -0.005540166204986178,
          null
         ],
         "y": [
          0.3357024682062158,
          0.08097398470582544,
          null
         ]
        },
        {
         "line": {
          "color": "mediumaquamarine",
          "shape": "spline",
          "width": 1.148698354997035
         },
         "mode": "lines",
         "type": "scatter",
         "x": [
          -0.005540166204986178,
          0.9999999999999999,
          null
         ],
         "y": [
          0.3357024682062158,
          -0.09923093745443949,
          null
         ]
        },
        {
         "line": {
          "color": "mediumaquamarine",
          "shape": "spline",
          "width": 1
         },
         "mode": "lines",
         "type": "scatter",
         "x": [
          -0.005540166204986178,
          -0.005540166204986178,
          null
         ],
         "y": [
          0.3357024682062158,
          0.27029638507609094,
          null
         ]
        },
        {
         "line": {
          "color": "mediumaquamarine",
          "shape": "spline",
          "width": 2.19540189742749
         },
         "mode": "lines",
         "type": "scatter",
         "x": [
          -0.005540166204986178,
          0.9999999999999999,
          null
         ],
         "y": [
          0.3357024682062158,
          0.25800043738154244,
          null
         ]
        },
        {
         "line": {
          "color": "mediumaquamarine",
          "shape": "spline",
          "width": 1.3195079107728942
         },
         "mode": "lines",
         "type": "scatter",
         "x": [
          -0.005540166204986178,
          -0.005540166204986178,
          null
         ],
         "y": [
          0.3357024682062158,
          -0.21617441852432637,
          null
         ]
        },
        {
         "line": {
          "color": "mediumaquamarine",
          "shape": "spline",
          "width": 1.2457309396155174
         },
         "mode": "lines",
         "type": "scatter",
         "x": [
          -0.005540166204986178,
          0.9999999999999999,
          null
         ],
         "y": [
          0.3357024682062158,
          0.337385187345094,
          null
         ]
        },
        {
         "line": {
          "color": "mediumaquamarine",
          "shape": "spline",
          "width": 1.148698354997035
         },
         "mode": "lines",
         "type": "scatter",
         "x": [
          0.9999999999999999,
          0.9999999999999999,
          null
         ],
         "y": [
          -0.17861568741799103,
          -0.019846187490887943,
          null
         ]
        },
        {
         "line": {
          "color": "mediumaquamarine",
          "shape": "spline",
          "width": 1.6437518295172258
         },
         "mode": "lines",
         "type": "scatter",
         "x": [
          0.9999999999999999,
          0.9999999999999999,
          null
         ],
         "y": [
          -0.17861568741799103,
          -0.09923093745443949,
          null
         ]
        },
        {
         "line": {
          "color": "mediumaquamarine",
          "shape": "spline",
          "width": 1.8019831273171423
         },
         "mode": "lines",
         "type": "scatter",
         "x": [
          0.9999999999999999,
          0.9999999999999999,
          null
         ],
         "y": [
          -0.17861568741799103,
          0.09923093745443937,
          null
         ]
        },
        {
         "line": {
          "color": "mediumaquamarine",
          "shape": "spline",
          "width": 2.080716549261844
         },
         "mode": "lines",
         "type": "scatter",
         "x": [
          0.9999999999999999,
          0.9999999999999999,
          null
         ],
         "y": [
          -0.17861568741799103,
          -0.13892331243621525,
          null
         ]
        },
        {
         "line": {
          "color": "mediumaquamarine",
          "shape": "spline",
          "width": 3.5944318187380233
         },
         "mode": "lines",
         "type": "scatter",
         "x": [
          0.9999999999999999,
          0.9999999999999999,
          null
         ],
         "y": [
          -0.17861568741799103,
          0.25800043738154244,
          null
         ]
        },
        {
         "line": {
          "color": "mediumaquamarine",
          "shape": "spline",
          "width": 2.058924136478517
         },
         "mode": "lines",
         "type": "scatter",
         "x": [
          0.9999999999999999,
          0.9999999999999999,
          null
         ],
         "y": [
          -0.17861568741799103,
          0.13892331243621509,
          null
         ]
        },
        {
         "line": {
          "color": "mediumaquamarine",
          "shape": "spline",
          "width": 1.838416287252544
         },
         "mode": "lines",
         "type": "scatter",
         "x": [
          0.9999999999999999,
          0.9999999999999999,
          null
         ],
         "y": [
          -0.17861568741799103,
          0.3770775623268698,
          null
         ]
        },
        {
         "line": {
          "color": "mediumaquamarine",
          "shape": "spline",
          "width": 1.97435048583482
         },
         "mode": "lines",
         "type": "scatter",
         "x": [
          0.9999999999999999,
          0.9999999999999999,
          null
         ],
         "y": [
          -0.17861568741799103,
          0.17861568741799091,
          null
         ]
        },
        {
         "line": {
          "color": "mediumaquamarine",
          "shape": "spline",
          "width": 1.6437518295172258
         },
         "mode": "lines",
         "type": "scatter",
         "x": [
          0.9999999999999999,
          0.9999999999999999,
          null
         ],
         "y": [
          -0.17861568741799103,
          0.2976928123633182,
          null
         ]
        },
        {
         "line": {
          "color": "mediumaquamarine",
          "shape": "spline",
          "width": 1.3195079107728942
         },
         "mode": "lines",
         "type": "scatter",
         "x": [
          0.9999999999999999,
          0.9999999999999999,
          null
         ],
         "y": [
          -0.17861568741799103,
          0.337385187345094,
          null
         ]
        },
        {
         "line": {
          "color": "mediumaquamarine",
          "shape": "spline",
          "width": 1.5518455739153598
         },
         "mode": "lines",
         "type": "scatter",
         "x": [
          0.9999999999999999,
          0.9999999999999999,
          null
         ],
         "y": [
          -0.17861568741799103,
          -0.05953856247266371,
          null
         ]
        },
        {
         "line": {
          "color": "mediumaquamarine",
          "shape": "spline",
          "width": 1.148698354997035
         },
         "mode": "lines",
         "type": "scatter",
         "x": [
          0.9999999999999999,
          0.9999999999999999,
          null
         ],
         "y": [
          -0.17861568741799103,
          0.05953856247266365,
          null
         ]
        },
        {
         "line": {
          "color": "mediumaquamarine",
          "shape": "spline",
          "width": 1.379729661461215
         },
         "mode": "lines",
         "type": "scatter",
         "x": [
          0.9999999999999999,
          0.9999999999999999,
          null
         ],
         "y": [
          -0.17861568741799103,
          0.21830806239976672,
          null
         ]
        },
        {
         "line": {
          "color": "mediumaquamarine",
          "shape": "spline",
          "width": 1
         },
         "mode": "lines",
         "type": "scatter",
         "x": [
          0.9999999999999999,
          0.9999999999999999,
          null
         ],
         "y": [
          -0.13892331243621525,
          -0.019846187490887943,
          null
         ]
        },
        {
         "line": {
          "color": "mediumaquamarine",
          "shape": "spline",
          "width": 1.4757731615945522
         },
         "mode": "lines",
         "type": "scatter",
         "x": [
          0.9999999999999999,
          0.9999999999999999,
          null
         ],
         "y": [
          -0.13892331243621525,
          -0.09923093745443949,
          null
         ]
        },
        {
         "line": {
          "color": "mediumaquamarine",
          "shape": "spline",
          "width": 1.3195079107728942
         },
         "mode": "lines",
         "type": "scatter",
         "x": [
          0.9999999999999999,
          0.9999999999999999,
          null
         ],
         "y": [
          -0.13892331243621525,
          0.09923093745443937,
          null
         ]
        },
        {
         "line": {
          "color": "mediumaquamarine",
          "shape": "spline",
          "width": 1.8205642030260802
         },
         "mode": "lines",
         "type": "scatter",
         "x": [
          0.9999999999999999,
          0.9999999999999999,
          null
         ],
         "y": [
          -0.13892331243621525,
          0.019846187490887828,
          null
         ]
        },
        {
         "line": {
          "color": "mediumaquamarine",
          "shape": "spline",
          "width": 2.111785764966754
         },
         "mode": "lines",
         "type": "scatter",
         "x": [
          0.9999999999999999,
          0.9999999999999999,
          null
         ],
         "y": [
          -0.13892331243621525,
          -0.05953856247266371,
          null
         ]
        },
        {
         "line": {
          "color": "mediumaquamarine",
          "shape": "spline",
          "width": 2.9435976987922756
         },
         "mode": "lines",
         "type": "scatter",
         "x": [
          0.9999999999999999,
          0.9999999999999999,
          null
         ],
         "y": [
          -0.13892331243621525,
          0.25800043738154244,
          null
         ]
        },
        {
         "line": {
          "color": "mediumaquamarine",
          "shape": "spline",
          "width": 1.3195079107728942
         },
         "mode": "lines",
         "type": "scatter",
         "x": [
          0.9999999999999999,
          0.9999999999999999,
          null
         ],
         "y": [
          -0.13892331243621525,
          0.21830806239976672,
          null
         ]
        },
        {
         "line": {
          "color": "mediumaquamarine",
          "shape": "spline",
          "width": 1.6437518295172258
         },
         "mode": "lines",
         "type": "scatter",
         "x": [
          0.9999999999999999,
          0.9999999999999999,
          null
         ],
         "y": [
          -0.13892331243621525,
          0.13892331243621509,
          null
         ]
        },
        {
         "line": {
          "color": "mediumaquamarine",
          "shape": "spline",
          "width": 1
         },
         "mode": "lines",
         "type": "scatter",
         "x": [
          0.9999999999999999,
          0.9999999999999999,
          null
         ],
         "y": [
          -0.13892331243621525,
          0.3770775623268698,
          null
         ]
        },
        {
         "line": {
          "color": "mediumaquamarine",
          "shape": "spline",
          "width": 1.379729661461215
         },
         "mode": "lines",
         "type": "scatter",
         "x": [
          0.9999999999999999,
          0.9999999999999999,
          null
         ],
         "y": [
          -0.13892331243621525,
          0.17861568741799091,
          null
         ]
        },
        {
         "line": {
          "color": "mediumaquamarine",
          "shape": "spline",
          "width": 1
         },
         "mode": "lines",
         "type": "scatter",
         "x": [
          0.9999999999999999,
          0.9999999999999999,
          null
         ],
         "y": [
          -0.13892331243621525,
          0.05953856247266365,
          null
         ]
        },
        {
         "line": {
          "color": "mediumaquamarine",
          "shape": "spline",
          "width": 1.6437518295172258
         },
         "mode": "lines",
         "type": "scatter",
         "x": [
          0.9999999999999999,
          0.9999999999999999,
          null
         ],
         "y": [
          -0.13892331243621525,
          0.2976928123633182,
          null
         ]
        },
        {
         "line": {
          "color": "mediumaquamarine",
          "shape": "spline",
          "width": 1.5518455739153598
         },
         "mode": "lines",
         "type": "scatter",
         "x": [
          0.9999999999999999,
          0.9999999999999999,
          null
         ],
         "y": [
          -0.13892331243621525,
          0.337385187345094,
          null
         ]
        },
        {
         "line": {
          "color": "mediumaquamarine",
          "shape": "spline",
          "width": 1.379729661461215
         },
         "mode": "lines",
         "type": "scatter",
         "x": [
          -0.005540166204986178,
          -0.005540166204986178,
          null
         ],
         "y": [
          0.27029638507609094,
          0.08097398470582544,
          null
         ]
        },
        {
         "line": {
          "color": "mediumaquamarine",
          "shape": "spline",
          "width": 1.8205642030260802
         },
         "mode": "lines",
         "type": "scatter",
         "x": [
          -0.005540166204986178,
          0.9999999999999999,
          null
         ],
         "y": [
          0.27029638507609094,
          0.25800043738154244,
          null
         ]
        },
        {
         "line": {
          "color": "mediumaquamarine",
          "shape": "spline",
          "width": 1
         },
         "mode": "lines",
         "type": "scatter",
         "x": [
          -0.005540166204986178,
          -0.005540166204986178,
          null
         ],
         "y": [
          0.27029638507609094,
          -0.19799445292585718,
          null
         ]
        },
        {
         "line": {
          "color": "mediumaquamarine",
          "shape": "spline",
          "width": 1
         },
         "mode": "lines",
         "type": "scatter",
         "x": [
          -0.005540166204986178,
          -0.005540166204986178,
          null
         ],
         "y": [
          0.27029638507609094,
          -0.21617441852432637,
          null
         ]
        },
        {
         "line": {
          "color": "mediumaquamarine",
          "shape": "spline",
          "width": 1.148698354997035
         },
         "mode": "lines",
         "type": "scatter",
         "x": [
          -0.005540166204986178,
          0.9999999999999999,
          null
         ],
         "y": [
          0.27029638507609094,
          0.337385187345094,
          null
         ]
        },
        {
         "line": {
          "color": "mediumaquamarine",
          "shape": "spline",
          "width": 1.2457309396155174
         },
         "mode": "lines",
         "type": "scatter",
         "x": [
          0.9999999999999999,
          0.9999999999999999,
          null
         ],
         "y": [
          -0.09923093745443949,
          -0.019846187490887943,
          null
         ]
        },
        {
         "line": {
          "color": "mediumaquamarine",
          "shape": "spline",
          "width": 1.9873407546644581
         },
         "mode": "lines",
         "type": "scatter",
         "x": [
          0.9999999999999999,
          0.9999999999999999,
          null
         ],
         "y": [
          -0.09923093745443949,
          0.09923093745443937,
          null
         ]
        },
        {
         "line": {
          "color": "mediumaquamarine",
          "shape": "spline",
          "width": 2.111785764966754
         },
         "mode": "lines",
         "type": "scatter",
         "x": [
          0.9999999999999999,
          0.9999999999999999,
          null
         ],
         "y": [
          -0.09923093745443949,
          0.019846187490887828,
          null
         ]
        },
        {
         "line": {
          "color": "mediumaquamarine",
          "shape": "spline",
          "width": 1
         },
         "mode": "lines",
         "type": "scatter",
         "x": [
          0.9999999999999999,
          0.9999999999999999,
          null
         ],
         "y": [
          -0.09923093745443949,
          -0.05953856247266371,
          null
         ]
        },
        {
         "line": {
          "color": "mediumaquamarine",
          "shape": "spline",
          "width": 3.271946949706187
         },
         "mode": "lines",
         "type": "scatter",
         "x": [
          0.9999999999999999,
          0.9999999999999999,
          null
         ],
         "y": [
          -0.09923093745443949,
          0.25800043738154244,
          null
         ]
        },
        {
         "line": {
          "color": "mediumaquamarine",
          "shape": "spline",
          "width": 1.838416287252544
         },
         "mode": "lines",
         "type": "scatter",
         "x": [
          0.9999999999999999,
          0.9999999999999999,
          null
         ],
         "y": [
          -0.09923093745443949,
          0.13892331243621509,
          null
         ]
        },
        {
         "line": {
          "color": "mediumaquamarine",
          "shape": "spline",
          "width": 1.615394266202178
         },
         "mode": "lines",
         "type": "scatter",
         "x": [
          0.9999999999999999,
          0.9999999999999999,
          null
         ],
         "y": [
          -0.09923093745443949,
          0.3770775623268698,
          null
         ]
        },
        {
         "line": {
          "color": "mediumaquamarine",
          "shape": "spline",
          "width": 1.7187719275874789
         },
         "mode": "lines",
         "type": "scatter",
         "x": [
          0.9999999999999999,
          0.9999999999999999,
          null
         ],
         "y": [
          -0.09923093745443949,
          0.17861568741799091,
          null
         ]
        },
        {
         "line": {
          "color": "mediumaquamarine",
          "shape": "spline",
          "width": 1.9472943612303364
         },
         "mode": "lines",
         "type": "scatter",
         "x": [
          0.9999999999999999,
          0.9999999999999999,
          null
         ],
         "y": [
          -0.09923093745443949,
          0.2976928123633182,
          null
         ]
        },
        {
         "line": {
          "color": "mediumaquamarine",
          "shape": "spline",
          "width": 1.379729661461215
         },
         "mode": "lines",
         "type": "scatter",
         "x": [
          0.9999999999999999,
          0.9999999999999999,
          null
         ],
         "y": [
          -0.09923093745443949,
          0.337385187345094,
          null
         ]
        },
        {
         "line": {
          "color": "mediumaquamarine",
          "shape": "spline",
          "width": 1
         },
         "mode": "lines",
         "type": "scatter",
         "x": [
          0.9999999999999999,
          -0.005540166204986178,
          null
         ],
         "y": [
          -0.09923093745443949,
          0.2548329660613011,
          null
         ]
        },
        {
         "line": {
          "color": "mediumaquamarine",
          "shape": "spline",
          "width": 1.6702776523348104
         },
         "mode": "lines",
         "type": "scatter",
         "x": [
          0.9999999999999999,
          0.9999999999999999,
          null
         ],
         "y": [
          -0.09923093745443949,
          0.21830806239976672,
          null
         ]
        },
        {
         "line": {
          "color": "mediumaquamarine",
          "shape": "spline",
          "width": 1.4757731615945522
         },
         "mode": "lines",
         "type": "scatter",
         "x": [
          0.9999999999999999,
          0.9999999999999999,
          null
         ],
         "y": [
          -0.05953856247266371,
          -0.019846187490887943,
          null
         ]
        },
        {
         "line": {
          "color": "mediumaquamarine",
          "shape": "spline",
          "width": 1.4309690811052556
         },
         "mode": "lines",
         "type": "scatter",
         "x": [
          0.9999999999999999,
          0.9999999999999999,
          null
         ],
         "y": [
          -0.05953856247266371,
          0.09923093745443937,
          null
         ]
        },
        {
         "line": {
          "color": "mediumaquamarine",
          "shape": "spline",
          "width": 2.7931212200789903
         },
         "mode": "lines",
         "type": "scatter",
         "x": [
          0.9999999999999999,
          0.9999999999999999,
          null
         ],
         "y": [
          -0.05953856247266371,
          0.25800043738154244,
          null
         ]
        },
        {
         "line": {
          "color": "mediumaquamarine",
          "shape": "spline",
          "width": 1.148698354997035
         },
         "mode": "lines",
         "type": "scatter",
         "x": [
          0.9999999999999999,
          0.9999999999999999,
          null
         ],
         "y": [
          -0.05953856247266371,
          0.3770775623268698,
          null
         ]
        },
        {
         "line": {
          "color": "mediumaquamarine",
          "shape": "spline",
          "width": 1.5518455739153598
         },
         "mode": "lines",
         "type": "scatter",
         "x": [
          0.9999999999999999,
          0.9999999999999999,
          null
         ],
         "y": [
          -0.05953856247266371,
          0.17861568741799091,
          null
         ]
        },
        {
         "line": {
          "color": "mediumaquamarine",
          "shape": "spline",
          "width": 2.414141770603736
         },
         "mode": "lines",
         "type": "scatter",
         "x": [
          0.9999999999999999,
          0.9999999999999999,
          null
         ],
         "y": [
          -0.05953856247266371,
          0.2976928123633182,
          null
         ]
        },
        {
         "line": {
          "color": "mediumaquamarine",
          "shape": "spline",
          "width": 2.486249570212102
         },
         "mode": "lines",
         "type": "scatter",
         "x": [
          0.9999999999999999,
          0.9999999999999999,
          null
         ],
         "y": [
          -0.05953856247266371,
          0.337385187345094,
          null
         ]
        },
        {
         "line": {
          "color": "mediumaquamarine",
          "shape": "spline",
          "width": 1
         },
         "mode": "lines",
         "type": "scatter",
         "x": [
          0.9999999999999999,
          0.9999999999999999,
          null
         ],
         "y": [
          -0.05953856247266371,
          0.05953856247266365,
          null
         ]
        },
        {
         "line": {
          "color": "mediumaquamarine",
          "shape": "spline",
          "width": 1.379729661461215
         },
         "mode": "lines",
         "type": "scatter",
         "x": [
          0.9999999999999999,
          0.9999999999999999,
          null
         ],
         "y": [
          -0.05953856247266371,
          0.13892331243621509,
          null
         ]
        },
        {
         "line": {
          "color": "mediumaquamarine",
          "shape": "spline",
          "width": 1.5157165665103982
         },
         "mode": "lines",
         "type": "scatter",
         "x": [
          0.9999999999999999,
          -0.005540166204986178,
          null
         ],
         "y": [
          -0.019846187490887943,
          0.08097398470582544,
          null
         ]
        },
        {
         "line": {
          "color": "mediumaquamarine",
          "shape": "spline",
          "width": 2.622311847181126
         },
         "mode": "lines",
         "type": "scatter",
         "x": [
          0.9999999999999999,
          0.9999999999999999,
          null
         ],
         "y": [
          -0.019846187490887943,
          0.09923093745443937,
          null
         ]
        },
        {
         "line": {
          "color": "mediumaquamarine",
          "shape": "spline",
          "width": 1
         },
         "mode": "lines",
         "type": "scatter",
         "x": [
          0.9999999999999999,
          0.9999999999999999,
          null
         ],
         "y": [
          -0.019846187490887943,
          0.019846187490887828,
          null
         ]
        },
        {
         "line": {
          "color": "mediumaquamarine",
          "shape": "spline",
          "width": 4.976744679832557
         },
         "mode": "lines",
         "type": "scatter",
         "x": [
          0.9999999999999999,
          0.9999999999999999,
          null
         ],
         "y": [
          -0.019846187490887943,
          0.25800043738154244,
          null
         ]
        },
        {
         "line": {
          "color": "mediumaquamarine",
          "shape": "spline",
          "width": 2.876691202782905
         },
         "mode": "lines",
         "type": "scatter",
         "x": [
          0.9999999999999999,
          0.9999999999999999,
          null
         ],
         "y": [
          -0.019846187490887943,
          0.13892331243621509,
          null
         ]
        },
        {
         "line": {
          "color": "mediumaquamarine",
          "shape": "spline",
          "width": 2.4428896557373942
         },
         "mode": "lines",
         "type": "scatter",
         "x": [
          0.9999999999999999,
          0.9999999999999999,
          null
         ],
         "y": [
          -0.019846187490887943,
          0.3770775623268698,
          null
         ]
        },
        {
         "line": {
          "color": "mediumaquamarine",
          "shape": "spline",
          "width": 2.3185419629780504
         },
         "mode": "lines",
         "type": "scatter",
         "x": [
          0.9999999999999999,
          0.9999999999999999,
          null
         ],
         "y": [
          -0.019846187490887943,
          0.17861568741799091,
          null
         ]
        },
        {
         "line": {
          "color": "mediumaquamarine",
          "shape": "spline",
          "width": 2.5413306424150433
         },
         "mode": "lines",
         "type": "scatter",
         "x": [
          0.9999999999999999,
          0.9999999999999999,
          null
         ],
         "y": [
          -0.019846187490887943,
          0.05953856247266365,
          null
         ]
        },
        {
         "line": {
          "color": "mediumaquamarine",
          "shape": "spline",
          "width": 4.597482532297944
         },
         "mode": "lines",
         "type": "scatter",
         "x": [
          0.9999999999999999,
          0.9999999999999999,
          null
         ],
         "y": [
          -0.019846187490887943,
          0.2976928123633182,
          null
         ]
        },
        {
         "line": {
          "color": "mediumaquamarine",
          "shape": "spline",
          "width": 3.191285057675361
         },
         "mode": "lines",
         "type": "scatter",
         "x": [
          0.9999999999999999,
          0.9999999999999999,
          null
         ],
         "y": [
          -0.019846187490887943,
          0.337385187345094,
          null
         ]
        },
        {
         "line": {
          "color": "mediumaquamarine",
          "shape": "spline",
          "width": 1
         },
         "mode": "lines",
         "type": "scatter",
         "x": [
          0.9999999999999999,
          -0.005540166204986178,
          null
         ],
         "y": [
          -0.019846187490887943,
          0.31355216529313834,
          null
         ]
        },
        {
         "line": {
          "color": "mediumaquamarine",
          "shape": "spline",
          "width": 2.822088351818347
         },
         "mode": "lines",
         "type": "scatter",
         "x": [
          0.9999999999999999,
          0.9999999999999999,
          null
         ],
         "y": [
          -0.019846187490887943,
          0.21830806239976672,
          null
         ]
        },
        {
         "line": {
          "color": "mediumaquamarine",
          "shape": "spline",
          "width": 1.4309690811052556
         },
         "mode": "lines",
         "type": "scatter",
         "x": [
          0.9999999999999999,
          -0.005540166204986178,
          null
         ],
         "y": [
          -0.019846187490887943,
          -0.3254631772369631,
          null
         ]
        },
        {
         "line": {
          "color": "mediumaquamarine",
          "shape": "spline",
          "width": 1.2457309396155174
         },
         "mode": "lines",
         "type": "scatter",
         "x": [
          0.9999999999999999,
          -0.005540166204986178,
          null
         ],
         "y": [
          -0.019846187490887943,
          -0.21617441852432637,
          null
         ]
        },
        {
         "line": {
          "color": "mediumaquamarine",
          "shape": "spline",
          "width": 2
         },
         "mode": "lines",
         "type": "scatter",
         "x": [
          0.9999999999999999,
          0.9999999999999999,
          null
         ],
         "y": [
          0.019846187490887828,
          0.09923093745443937,
          null
         ]
        },
        {
         "line": {
          "color": "mediumaquamarine",
          "shape": "spline",
          "width": 1.8019831273171423
         },
         "mode": "lines",
         "type": "scatter",
         "x": [
          0.9999999999999999,
          0.9999999999999999,
          null
         ],
         "y": [
          0.019846187490887828,
          0.13892331243621509,
          null
         ]
        },
        {
         "line": {
          "color": "mediumaquamarine",
          "shape": "spline",
          "width": 1.888175022589804
         },
         "mode": "lines",
         "type": "scatter",
         "x": [
          0.9999999999999999,
          0.9999999999999999,
          null
         ],
         "y": [
          0.019846187490887828,
          0.17861568741799091,
          null
         ]
        },
        {
         "line": {
          "color": "mediumaquamarine",
          "shape": "spline",
          "width": 2.390115677352187
         },
         "mode": "lines",
         "type": "scatter",
         "x": [
          0.9999999999999999,
          0.9999999999999999,
          null
         ],
         "y": [
          0.019846187490887828,
          0.21830806239976672,
          null
         ]
        },
        {
         "line": {
          "color": "mediumaquamarine",
          "shape": "spline",
          "width": 3.08404595398765
         },
         "mode": "lines",
         "type": "scatter",
         "x": [
          0.9999999999999999,
          0.9999999999999999,
          null
         ],
         "y": [
          0.019846187490887828,
          0.25800043738154244,
          null
         ]
        },
        {
         "line": {
          "color": "mediumaquamarine",
          "shape": "spline",
          "width": 2.058924136478517
         },
         "mode": "lines",
         "type": "scatter",
         "x": [
          0.9999999999999999,
          0.9999999999999999,
          null
         ],
         "y": [
          0.019846187490887828,
          0.337385187345094,
          null
         ]
        },
        {
         "line": {
          "color": "mediumaquamarine",
          "shape": "spline",
          "width": 1.5157165665103982
         },
         "mode": "lines",
         "type": "scatter",
         "x": [
          0.9999999999999999,
          0.9999999999999999,
          null
         ],
         "y": [
          0.019846187490887828,
          0.2976928123633182,
          null
         ]
        },
        {
         "line": {
          "color": "mediumaquamarine",
          "shape": "spline",
          "width": 1.3195079107728942
         },
         "mode": "lines",
         "type": "scatter",
         "x": [
          0.9999999999999999,
          0.9999999999999999,
          null
         ],
         "y": [
          0.019846187490887828,
          0.3770775623268698,
          null
         ]
        },
        {
         "line": {
          "color": "mediumaquamarine",
          "shape": "spline",
          "width": 1.5157165665103982
         },
         "mode": "lines",
         "type": "scatter",
         "x": [
          0.9999999999999999,
          0.9999999999999999,
          null
         ],
         "y": [
          0.05953856247266365,
          0.09923093745443937,
          null
         ]
        },
        {
         "line": {
          "color": "mediumaquamarine",
          "shape": "spline",
          "width": 3.177671523146437
         },
         "mode": "lines",
         "type": "scatter",
         "x": [
          0.9999999999999999,
          0.9999999999999999,
          null
         ],
         "y": [
          0.05953856247266365,
          0.25800043738154244,
          null
         ]
        },
        {
         "line": {
          "color": "mediumaquamarine",
          "shape": "spline",
          "width": 2.3254220304389963
         },
         "mode": "lines",
         "type": "scatter",
         "x": [
          0.9999999999999999,
          0.9999999999999999,
          null
         ],
         "y": [
          0.05953856247266365,
          0.13892331243621509,
          null
         ]
        },
        {
         "line": {
          "color": "mediumaquamarine",
          "shape": "spline",
          "width": 1.2457309396155174
         },
         "mode": "lines",
         "type": "scatter",
         "x": [
          0.9999999999999999,
          0.9999999999999999,
          null
         ],
         "y": [
          0.05953856247266365,
          0.3770775623268698,
          null
         ]
        },
        {
         "line": {
          "color": "mediumaquamarine",
          "shape": "spline",
          "width": 2.282855055701629
         },
         "mode": "lines",
         "type": "scatter",
         "x": [
          0.9999999999999999,
          0.9999999999999999,
          null
         ],
         "y": [
          0.05953856247266365,
          0.17861568741799091,
          null
         ]
        },
        {
         "line": {
          "color": "mediumaquamarine",
          "shape": "spline",
          "width": 1.5848931924611136
         },
         "mode": "lines",
         "type": "scatter",
         "x": [
          0.9999999999999999,
          0.9999999999999999,
          null
         ],
         "y": [
          0.05953856247266365,
          0.2976928123633182,
          null
         ]
        },
        {
         "line": {
          "color": "mediumaquamarine",
          "shape": "spline",
          "width": 1.8556007362580844
         },
         "mode": "lines",
         "type": "scatter",
         "x": [
          0.9999999999999999,
          0.9999999999999999,
          null
         ],
         "y": [
          0.05953856247266365,
          0.337385187345094,
          null
         ]
        },
        {
         "line": {
          "color": "mediumaquamarine",
          "shape": "spline",
          "width": 1
         },
         "mode": "lines",
         "type": "scatter",
         "x": [
          0.9999999999999999,
          -0.005540166204986178,
          null
         ],
         "y": [
          0.05953856247266365,
          0.08097398470582544,
          null
         ]
        },
        {
         "line": {
          "color": "mediumaquamarine",
          "shape": "spline",
          "width": 2.1016324782757847
         },
         "mode": "lines",
         "type": "scatter",
         "x": [
          0.9999999999999999,
          0.9999999999999999,
          null
         ],
         "y": [
          0.05953856247266365,
          0.21830806239976672,
          null
         ]
        },
        {
         "line": {
          "color": "mediumaquamarine",
          "shape": "spline",
          "width": 1
         },
         "mode": "lines",
         "type": "scatter",
         "x": [
          0.9999999999999999,
          -0.005540166204986178,
          null
         ],
         "y": [
          0.05953856247266365,
          -0.3254631772369631,
          null
         ]
        },
        {
         "line": {
          "color": "mediumaquamarine",
          "shape": "spline",
          "width": 1
         },
         "mode": "lines",
         "type": "scatter",
         "x": [
          0.9999999999999999,
          -0.005540166204986178,
          null
         ],
         "y": [
          0.05953856247266365,
          -0.21617441852432637,
          null
         ]
        },
        {
         "line": {
          "color": "mediumaquamarine",
          "shape": "spline",
          "width": 1
         },
         "mode": "lines",
         "type": "scatter",
         "x": [
          -0.005540166204986178,
          0.9999999999999999,
          null
         ],
         "y": [
          0.3122983745622095,
          0.25800043738154244,
          null
         ]
        },
        {
         "line": {
          "color": "mediumaquamarine",
          "shape": "spline",
          "width": 1
         },
         "mode": "lines",
         "type": "scatter",
         "x": [
          -0.005540166204986178,
          0.9999999999999999,
          null
         ],
         "y": [
          0.3122983745622095,
          0.2976928123633182,
          null
         ]
        },
        {
         "line": {
          "color": "mediumaquamarine",
          "shape": "spline",
          "width": 4.0723360092807965
         },
         "mode": "lines",
         "type": "scatter",
         "x": [
          0.9999999999999999,
          0.9999999999999999,
          null
         ],
         "y": [
          0.09923093745443937,
          0.25800043738154244,
          null
         ]
        },
        {
         "line": {
          "color": "mediumaquamarine",
          "shape": "spline",
          "width": 2.358655818240736
         },
         "mode": "lines",
         "type": "scatter",
         "x": [
          0.9999999999999999,
          0.9999999999999999,
          null
         ],
         "y": [
          0.09923093745443937,
          0.21830806239976672,
          null
         ]
        },
        {
         "line": {
          "color": "mediumaquamarine",
          "shape": "spline",
          "width": 2.069935054081614
         },
         "mode": "lines",
         "type": "scatter",
         "x": [
          0.9999999999999999,
          0.9999999999999999,
          null
         ],
         "y": [
          0.09923093745443937,
          0.13892331243621509,
          null
         ]
        },
        {
         "line": {
          "color": "mediumaquamarine",
          "shape": "spline",
          "width": 1.2457309396155174
         },
         "mode": "lines",
         "type": "scatter",
         "x": [
          0.9999999999999999,
          0.9999999999999999,
          null
         ],
         "y": [
          0.09923093745443937,
          0.3770775623268698,
          null
         ]
        },
        {
         "line": {
          "color": "mediumaquamarine",
          "shape": "spline",
          "width": 2.024397458499885
         },
         "mode": "lines",
         "type": "scatter",
         "x": [
          0.9999999999999999,
          0.9999999999999999,
          null
         ],
         "y": [
          0.09923093745443937,
          0.17861568741799091,
          null
         ]
        },
        {
         "line": {
          "color": "mediumaquamarine",
          "shape": "spline",
          "width": 1
         },
         "mode": "lines",
         "type": "scatter",
         "x": [
          0.9999999999999999,
          -0.005540166204986178,
          null
         ],
         "y": [
          0.09923093745443937,
          -0.21617441852432637,
          null
         ]
        },
        {
         "line": {
          "color": "mediumaquamarine",
          "shape": "spline",
          "width": 2.2039445754429603
         },
         "mode": "lines",
         "type": "scatter",
         "x": [
          0.9999999999999999,
          0.9999999999999999,
          null
         ],
         "y": [
          0.09923093745443937,
          0.2976928123633182,
          null
         ]
        },
        {
         "line": {
          "color": "mediumaquamarine",
          "shape": "spline",
          "width": 1.97435048583482
         },
         "mode": "lines",
         "type": "scatter",
         "x": [
          0.9999999999999999,
          0.9999999999999999,
          null
         ],
         "y": [
          0.09923093745443937,
          0.337385187345094,
          null
         ]
        },
        {
         "line": {
          "color": "mediumaquamarine",
          "shape": "spline",
          "width": 1
         },
         "mode": "lines",
         "type": "scatter",
         "x": [
          0.9999999999999999,
          -0.005540166204986178,
          null
         ],
         "y": [
          0.09923093745443937,
          -0.3254631772369631,
          null
         ]
        },
        {
         "line": {
          "color": "mediumaquamarine",
          "shape": "spline",
          "width": 1.6952182030724354
         },
         "mode": "lines",
         "type": "scatter",
         "x": [
          -0.005540166204986178,
          -0.005540166204986178,
          null
         ],
         "y": [
          -0.19799445292585718,
          0.08097398470582544,
          null
         ]
        },
        {
         "line": {
          "color": "mediumaquamarine",
          "shape": "spline",
          "width": 1.5518455739153598
         },
         "mode": "lines",
         "type": "scatter",
         "x": [
          -0.005540166204986178,
          0.9999999999999999,
          null
         ],
         "y": [
          -0.19799445292585718,
          0.25800043738154244,
          null
         ]
        },
        {
         "line": {
          "color": "mediumaquamarine",
          "shape": "spline",
          "width": 1
         },
         "mode": "lines",
         "type": "scatter",
         "x": [
          -0.005540166204986178,
          -0.005540166204986178,
          null
         ],
         "y": [
          -0.19799445292585718,
          0.1323794046739108,
          null
         ]
        },
        {
         "line": {
          "color": "mediumaquamarine",
          "shape": "spline",
          "width": 1
         },
         "mode": "lines",
         "type": "scatter",
         "x": [
          -0.005540166204986178,
          -0.005540166204986178,
          null
         ],
         "y": [
          -0.19799445292585718,
          -0.21617441852432637,
          null
         ]
        },
        {
         "line": {
          "color": "mediumaquamarine",
          "shape": "spline",
          "width": 1.2457309396155174
         },
         "mode": "lines",
         "type": "scatter",
         "x": [
          -0.005540166204986178,
          0.9999999999999999,
          null
         ],
         "y": [
          -0.19799445292585718,
          0.337385187345094,
          null
         ]
        },
        {
         "line": {
          "color": "mediumaquamarine",
          "shape": "spline",
          "width": 1.148698354997035
         },
         "mode": "lines",
         "type": "scatter",
         "x": [
          -0.005540166204986178,
          0.9999999999999999,
          null
         ],
         "y": [
          0.08097398470582544,
          0.25800043738154244,
          null
         ]
        },
        {
         "line": {
          "color": "mediumaquamarine",
          "shape": "spline",
          "width": 1.379729661461215
         },
         "mode": "lines",
         "type": "scatter",
         "x": [
          -0.005540166204986178,
          0.9999999999999999,
          null
         ],
         "y": [
          0.08097398470582544,
          0.21830806239976672,
          null
         ]
        },
        {
         "line": {
          "color": "mediumaquamarine",
          "shape": "spline",
          "width": 1.148698354997035
         },
         "mode": "lines",
         "type": "scatter",
         "x": [
          -0.005540166204986178,
          -0.005540166204986178,
          null
         ],
         "y": [
          0.08097398470582544,
          -0.3254631772369631,
          null
         ]
        },
        {
         "line": {
          "color": "mediumaquamarine",
          "shape": "spline",
          "width": 3.118633955811384
         },
         "mode": "lines",
         "type": "scatter",
         "x": [
          -0.005540166204986178,
          -0.005540166204986178,
          null
         ],
         "y": [
          0.08097398470582544,
          -0.21617441852432637,
          null
         ]
        },
        {
         "line": {
          "color": "mediumaquamarine",
          "shape": "spline",
          "width": 1.2457309396155174
         },
         "mode": "lines",
         "type": "scatter",
         "x": [
          -0.005540166204986178,
          0.9999999999999999,
          null
         ],
         "y": [
          0.08097398470582544,
          0.2976928123633182,
          null
         ]
        },
        {
         "line": {
          "color": "mediumaquamarine",
          "shape": "spline",
          "width": 1.8556007362580844
         },
         "mode": "lines",
         "type": "scatter",
         "x": [
          -0.005540166204986178,
          0.9999999999999999,
          null
         ],
         "y": [
          0.08097398470582544,
          0.337385187345094,
          null
         ]
        },
        {
         "line": {
          "color": "mediumaquamarine",
          "shape": "spline",
          "width": 1.148698354997035
         },
         "mode": "lines",
         "type": "scatter",
         "x": [
          -0.005540166204986178,
          0.9999999999999999,
          null
         ],
         "y": [
          0.31355216529313834,
          0.25800043738154244,
          null
         ]
        },
        {
         "line": {
          "color": "mediumaquamarine",
          "shape": "spline",
          "width": 1
         },
         "mode": "lines",
         "type": "scatter",
         "x": [
          -0.005540166204986178,
          -0.005540166204986178,
          null
         ],
         "y": [
          0.31355216529313834,
          0.2548329660613011,
          null
         ]
        },
        {
         "line": {
          "color": "mediumaquamarine",
          "shape": "spline",
          "width": 1
         },
         "mode": "lines",
         "type": "scatter",
         "x": [
          -0.005540166204986178,
          -0.005540166204986178,
          null
         ],
         "y": [
          0.31355216529313834,
          0.1323794046739108,
          null
         ]
        },
        {
         "line": {
          "color": "mediumaquamarine",
          "shape": "spline",
          "width": 3.1207454228486045
         },
         "mode": "lines",
         "type": "scatter",
         "x": [
          0.9999999999999999,
          0.9999999999999999,
          null
         ],
         "y": [
          0.13892331243621509,
          0.25800043738154244,
          null
         ]
        },
        {
         "line": {
          "color": "mediumaquamarine",
          "shape": "spline",
          "width": 1.5157165665103982
         },
         "mode": "lines",
         "type": "scatter",
         "x": [
          0.9999999999999999,
          0.9999999999999999,
          null
         ],
         "y": [
          0.13892331243621509,
          0.21830806239976672,
          null
         ]
        },
        {
         "line": {
          "color": "mediumaquamarine",
          "shape": "spline",
          "width": 1.4309690811052556
         },
         "mode": "lines",
         "type": "scatter",
         "x": [
          0.9999999999999999,
          0.9999999999999999,
          null
         ],
         "y": [
          0.13892331243621509,
          0.3770775623268698,
          null
         ]
        },
        {
         "line": {
          "color": "mediumaquamarine",
          "shape": "spline",
          "width": 2.7798516352723115
         },
         "mode": "lines",
         "type": "scatter",
         "x": [
          0.9999999999999999,
          0.9999999999999999,
          null
         ],
         "y": [
          0.13892331243621509,
          0.17861568741799091,
          null
         ]
        },
        {
         "line": {
          "color": "mediumaquamarine",
          "shape": "spline",
          "width": 1.762340347832317
         },
         "mode": "lines",
         "type": "scatter",
         "x": [
          0.9999999999999999,
          0.9999999999999999,
          null
         ],
         "y": [
          0.13892331243621509,
          0.2976928123633182,
          null
         ]
        },
        {
         "line": {
          "color": "mediumaquamarine",
          "shape": "spline",
          "width": 2.2603224696268156
         },
         "mode": "lines",
         "type": "scatter",
         "x": [
          0.9999999999999999,
          0.9999999999999999,
          null
         ],
         "y": [
          0.13892331243621509,
          0.337385187345094,
          null
         ]
        },
        {
         "line": {
          "color": "mediumaquamarine",
          "shape": "spline",
          "width": 3.8911051849320613
         },
         "mode": "lines",
         "type": "scatter",
         "x": [
          0.9999999999999999,
          0.9999999999999999,
          null
         ],
         "y": [
          0.17861568741799091,
          0.25800043738154244,
          null
         ]
        },
        {
         "line": {
          "color": "mediumaquamarine",
          "shape": "spline",
          "width": 2.058924136478517
         },
         "mode": "lines",
         "type": "scatter",
         "x": [
          0.9999999999999999,
          0.9999999999999999,
          null
         ],
         "y": [
          0.17861568741799091,
          0.21830806239976672,
          null
         ]
        },
        {
         "line": {
          "color": "mediumaquamarine",
          "shape": "spline",
          "width": 1.6952182030724354
         },
         "mode": "lines",
         "type": "scatter",
         "x": [
          0.9999999999999999,
          0.9999999999999999,
          null
         ],
         "y": [
          0.17861568741799091,
          0.3770775623268698,
          null
         ]
        },
        {
         "line": {
          "color": "mediumaquamarine",
          "shape": "spline",
          "width": 1
         },
         "mode": "lines",
         "type": "scatter",
         "x": [
          0.9999999999999999,
          -0.005540166204986178,
          null
         ],
         "y": [
          0.17861568741799091,
          -0.3254631772369631,
          null
         ]
        },
        {
         "line": {
          "color": "mediumaquamarine",
          "shape": "spline",
          "width": 1.5157165665103982
         },
         "mode": "lines",
         "type": "scatter",
         "x": [
          0.9999999999999999,
          0.9999999999999999,
          null
         ],
         "y": [
          0.17861568741799091,
          0.2976928123633182,
          null
         ]
        },
        {
         "line": {
          "color": "mediumaquamarine",
          "shape": "spline",
          "width": 1.8205642030260802
         },
         "mode": "lines",
         "type": "scatter",
         "x": [
          0.9999999999999999,
          0.9999999999999999,
          null
         ],
         "y": [
          0.17861568741799091,
          0.337385187345094,
          null
         ]
        },
        {
         "line": {
          "color": "mediumaquamarine",
          "shape": "spline",
          "width": 3.3469548828320934
         },
         "mode": "lines",
         "type": "scatter",
         "x": [
          0.9999999999999999,
          0.9999999999999999,
          null
         ],
         "y": [
          0.21830806239976672,
          0.25800043738154244,
          null
         ]
        },
        {
         "line": {
          "color": "mediumaquamarine",
          "shape": "spline",
          "width": 1.379729661461215
         },
         "mode": "lines",
         "type": "scatter",
         "x": [
          0.9999999999999999,
          0.9999999999999999,
          null
         ],
         "y": [
          0.21830806239976672,
          0.3770775623268698,
          null
         ]
        },
        {
         "line": {
          "color": "mediumaquamarine",
          "shape": "spline",
          "width": 1.148698354997035
         },
         "mode": "lines",
         "type": "scatter",
         "x": [
          0.9999999999999999,
          -0.005540166204986178,
          null
         ],
         "y": [
          0.21830806239976672,
          -0.3254631772369631,
          null
         ]
        },
        {
         "line": {
          "color": "mediumaquamarine",
          "shape": "spline",
          "width": 2.1016324782757847
         },
         "mode": "lines",
         "type": "scatter",
         "x": [
          0.9999999999999999,
          0.9999999999999999,
          null
         ],
         "y": [
          0.21830806239976672,
          0.2976928123633182,
          null
         ]
        },
        {
         "line": {
          "color": "mediumaquamarine",
          "shape": "spline",
          "width": 1.3195079107728942
         },
         "mode": "lines",
         "type": "scatter",
         "x": [
          0.9999999999999999,
          0.9999999999999999,
          null
         ],
         "y": [
          0.21830806239976672,
          0.337385187345094,
          null
         ]
        },
        {
         "line": {
          "color": "mediumaquamarine",
          "shape": "spline",
          "width": 1.2457309396155174
         },
         "mode": "lines",
         "type": "scatter",
         "x": [
          0.9999999999999999,
          -0.005540166204986178,
          null
         ],
         "y": [
          0.21830806239976672,
          0.2548329660613011,
          null
         ]
        },
        {
         "line": {
          "color": "mediumaquamarine",
          "shape": "spline",
          "width": 4.273295966256995
         },
         "mode": "lines",
         "type": "scatter",
         "x": [
          0.9999999999999999,
          0.9999999999999999,
          null
         ],
         "y": [
          0.25800043738154244,
          0.3770775623268698,
          null
         ]
        },
        {
         "line": {
          "color": "mediumaquamarine",
          "shape": "spline",
          "width": 1.6702776523348104
         },
         "mode": "lines",
         "type": "scatter",
         "x": [
          0.9999999999999999,
          -0.005540166204986178,
          null
         ],
         "y": [
          0.25800043738154244,
          -0.3254631772369631,
          null
         ]
        },
        {
         "line": {
          "color": "mediumaquamarine",
          "shape": "spline",
          "width": 2.7931212200789903
         },
         "mode": "lines",
         "type": "scatter",
         "x": [
          0.9999999999999999,
          -0.005540166204986178,
          null
         ],
         "y": [
          0.25800043738154244,
          -0.21617441852432637,
          null
         ]
        },
        {
         "line": {
          "color": "mediumaquamarine",
          "shape": "spline",
          "width": 5.4971899447431225
         },
         "mode": "lines",
         "type": "scatter",
         "x": [
          0.9999999999999999,
          0.9999999999999999,
          null
         ],
         "y": [
          0.25800043738154244,
          0.2976928123633182,
          null
         ]
        },
        {
         "line": {
          "color": "mediumaquamarine",
          "shape": "spline",
          "width": 1.148698354997035
         },
         "mode": "lines",
         "type": "scatter",
         "x": [
          0.9999999999999999,
          -0.005540166204986178,
          null
         ],
         "y": [
          0.25800043738154244,
          -0.15745521929248907,
          null
         ]
        },
        {
         "line": {
          "color": "mediumaquamarine",
          "shape": "spline",
          "width": 4.516326760657285
         },
         "mode": "lines",
         "type": "scatter",
         "x": [
          0.9999999999999999,
          0.9999999999999999,
          null
         ],
         "y": [
          0.25800043738154244,
          0.337385187345094,
          null
         ]
        },
        {
         "line": {
          "color": "mediumaquamarine",
          "shape": "spline",
          "width": 1.3195079107728942
         },
         "mode": "lines",
         "type": "scatter",
         "x": [
          0.9999999999999999,
          -0.005540166204986178,
          null
         ],
         "y": [
          0.25800043738154244,
          0.2548329660613011,
          null
         ]
        },
        {
         "line": {
          "color": "mediumaquamarine",
          "shape": "spline",
          "width": 1.148698354997035
         },
         "mode": "lines",
         "type": "scatter",
         "x": [
          0.9999999999999999,
          -0.005540166204986178,
          null
         ],
         "y": [
          0.25800043738154244,
          -0.30477563017663606,
          null
         ]
        },
        {
         "line": {
          "color": "mediumaquamarine",
          "shape": "spline",
          "width": 1.148698354997035
         },
         "mode": "lines",
         "type": "scatter",
         "x": [
          0.9999999999999999,
          -0.005540166204986178,
          null
         ],
         "y": [
          0.25800043738154244,
          0.1323794046739108,
          null
         ]
        },
        {
         "line": {
          "color": "mediumaquamarine",
          "shape": "spline",
          "width": 1
         },
         "mode": "lines",
         "type": "scatter",
         "x": [
          0.9999999999999999,
          -0.005540166204986178,
          null
         ],
         "y": [
          0.25800043738154244,
          -0.36767413184490305,
          null
         ]
        },
        {
         "line": {
          "color": "mediumaquamarine",
          "shape": "spline",
          "width": 1.3195079107728942
         },
         "mode": "lines",
         "type": "scatter",
         "x": [
          -0.005540166204986178,
          -0.005540166204986178,
          null
         ],
         "y": [
          -0.3254631772369631,
          -0.30477563017663606,
          null
         ]
        },
        {
         "line": {
          "color": "mediumaquamarine",
          "shape": "spline",
          "width": 1.148698354997035
         },
         "mode": "lines",
         "type": "scatter",
         "x": [
          -0.005540166204986178,
          0.9999999999999999,
          null
         ],
         "y": [
          -0.3254631772369631,
          0.2976928123633182,
          null
         ]
        },
        {
         "line": {
          "color": "mediumaquamarine",
          "shape": "spline",
          "width": 1
         },
         "mode": "lines",
         "type": "scatter",
         "x": [
          -0.005540166204986178,
          -0.005540166204986178,
          null
         ],
         "y": [
          -0.3254631772369631,
          -0.15745521929248907,
          null
         ]
        },
        {
         "line": {
          "color": "mediumaquamarine",
          "shape": "spline",
          "width": 1.9873407546644581
         },
         "mode": "lines",
         "type": "scatter",
         "x": [
          -0.005540166204986178,
          0.9999999999999999,
          null
         ],
         "y": [
          -0.3254631772369631,
          0.337385187345094,
          null
         ]
        },
        {
         "line": {
          "color": "mediumaquamarine",
          "shape": "spline",
          "width": 1
         },
         "mode": "lines",
         "type": "scatter",
         "x": [
          -0.005540166204986178,
          -0.005540166204986178,
          null
         ],
         "y": [
          -0.3254631772369631,
          -0.21617441852432637,
          null
         ]
        },
        {
         "line": {
          "color": "mediumaquamarine",
          "shape": "spline",
          "width": 1
         },
         "mode": "lines",
         "type": "scatter",
         "x": [
          0.9999999999999999,
          -0.005540166204986178,
          null
         ],
         "y": [
          0.337385187345094,
          0.1323794046739108,
          null
         ]
        },
        {
         "line": {
          "color": "mediumaquamarine",
          "shape": "spline",
          "width": 3.139496244373661
         },
         "mode": "lines",
         "type": "scatter",
         "x": [
          0.9999999999999999,
          0.9999999999999999,
          null
         ],
         "y": [
          0.337385187345094,
          0.3770775623268698,
          null
         ]
        },
        {
         "line": {
          "color": "mediumaquamarine",
          "shape": "spline",
          "width": 1.762340347832317
         },
         "mode": "lines",
         "type": "scatter",
         "x": [
          0.9999999999999999,
          -0.005540166204986178,
          null
         ],
         "y": [
          0.337385187345094,
          -0.21617441852432637,
          null
         ]
        },
        {
         "line": {
          "color": "mediumaquamarine",
          "shape": "spline",
          "width": 4.4068290523623865
         },
         "mode": "lines",
         "type": "scatter",
         "x": [
          0.9999999999999999,
          0.9999999999999999,
          null
         ],
         "y": [
          0.337385187345094,
          0.2976928123633182,
          null
         ]
        },
        {
         "line": {
          "color": "mediumaquamarine",
          "shape": "spline",
          "width": 1
         },
         "mode": "lines",
         "type": "scatter",
         "x": [
          0.9999999999999999,
          -0.005540166204986178,
          null
         ],
         "y": [
          0.337385187345094,
          -0.36767413184490305,
          null
         ]
        },
        {
         "line": {
          "color": "mediumaquamarine",
          "shape": "spline",
          "width": 2.3714406097793117
         },
         "mode": "lines",
         "type": "scatter",
         "x": [
          0.9999999999999999,
          0.9999999999999999,
          null
         ],
         "y": [
          0.2976928123633182,
          0.3770775623268698,
          null
         ]
        },
        {
         "line": {
          "color": "mediumaquamarine",
          "shape": "spline",
          "width": 1
         },
         "mode": "lines",
         "type": "scatter",
         "x": [
          0.9999999999999999,
          -0.005540166204986178,
          null
         ],
         "y": [
          0.2976928123633182,
          -0.21617441852432637,
          null
         ]
        },
        {
         "line": {
          "color": "mediumaquamarine",
          "shape": "spline",
          "width": 1.3195079107728942
         },
         "mode": "lines",
         "type": "scatter",
         "x": [
          -0.005540166204986178,
          -0.005540166204986178,
          null
         ],
         "y": [
          -0.21617441852432637,
          0.1323794046739108,
          null
         ]
        },
        {
         "line": {
          "color": "mediumaquamarine",
          "shape": "spline",
          "width": 1
         },
         "mode": "lines",
         "type": "scatter",
         "x": [
          -0.005540166204986178,
          0.9999999999999999,
          null
         ],
         "y": [
          -0.21617441852432637,
          0.3770775623268698,
          null
         ]
        },
        {
         "hovertemplate": [
          "Elizabeth Warren<extra></extra>",
          "Ron Reagan<extra></extra>",
          "Marco Rubio<extra></extra>",
          "Pat Quinn<extra></extra>",
          "George W. Bush<extra></extra>",
          "Bill Brady<extra></extra>",
          "Kane<extra></extra>",
          "Dennis Daugaard<extra></extra>",
          "John Yudichak<extra></extra>",
          "Andy Manar<extra></extra>",
          "Joe Biden<extra></extra>",
          "Daniel Biss<extra></extra>",
          "Robert Mueller<extra></extra>",
          "Lindsey Graham<extra></extra>",
          "Jeanne Ives<extra></extra>",
          "Steve Bannon<extra></extra>",
          "Chael Sonnen<extra></extra>",
          "John Kerry<extra></extra>",
          "Bill Clinton<extra></extra>",
          "Paul Ryan<extra></extra>",
          "Brett Kavanaugh<extra></extra>",
          "Paulette Jordan<extra></extra>",
          "Nancy Pelosi<extra></extra>",
          "David McSweeney<extra></extra>",
          "Bruce Rauner<extra></extra>",
          "Tom Corbett<extra></extra>",
          "Mitch McConnell<extra></extra>",
          "Chuck Schumer<extra></extra>",
          "Mike Pence<extra></extra>",
          "Donald Trump<extra></extra>",
          "Eric Greitens<extra></extra>",
          "Todd Richardson<extra></extra>",
          "Barack Obama<extra></extra>",
          "Hillary Clinton<extra></extra>",
          "Tom Wolf<extra></extra>",
          "J.B. Pritzker<extra></extra>",
          "Jesse White<extra></extra>",
          "Jeff Sessions<extra></extra>",
          "Phil Scott<extra></extra>",
          "Chuck McGrady<extra></extra>"
         ],
         "marker": {
          "color": [
           "dodgerblue",
           "tomato",
           "tomato",
           "dodgerblue",
           "tomato",
           "tomato",
           "tomato",
           "tomato",
           "dodgerblue",
           "dodgerblue",
           "dodgerblue",
           "dodgerblue",
           "tomato",
           "tomato",
           "tomato",
           "tomato",
           "tomato",
           "dodgerblue",
           "dodgerblue",
           "tomato",
           "tomato",
           "dodgerblue",
           "dodgerblue",
           "tomato",
           "tomato",
           "tomato",
           "tomato",
           "dodgerblue",
           "tomato",
           "tomato",
           "tomato",
           "tomato",
           "dodgerblue",
           "dodgerblue",
           "dodgerblue",
           "dodgerblue",
           "dodgerblue",
           "tomato",
           "tomato",
           "tomato"
          ],
          "line": {
           "color": [
            "gold",
            "gold",
            "gold",
            "darkgreen",
            "gold",
            "darkgreen",
            "darkgreen",
            "darkgreen",
            "darkgreen",
            "darkgreen",
            "gold",
            "darkgreen",
            "gold",
            "gold",
            "darkgreen",
            "gold",
            "darkgreen",
            "gold",
            "gold",
            "gold",
            "gold",
            "darkgreen",
            "gold",
            "darkgreen",
            "darkgreen",
            "darkgreen",
            "gold",
            "gold",
            "gold",
            "gold",
            "darkgreen",
            "darkgreen",
            "gold",
            "gold",
            "darkgreen",
            "darkgreen",
            "darkgreen",
            "gold",
            "darkgreen",
            "darkgreen"
           ],
           "width": 4
          },
          "opacity": 1,
          "size": 25
         },
         "mode": "markers",
         "type": "scatter",
         "x": [
          0.9999999999999999,
          0.9999999999999999,
          0.9999999999999999,
          -0.005540166204986178,
          0.9999999999999999,
          -0.005540166204986178,
          -0.005540166204986178,
          -0.005540166204986178,
          -0.005540166204986178,
          -0.005540166204986178,
          0.9999999999999999,
          -0.005540166204986178,
          0.9999999999999999,
          0.9999999999999999,
          -0.005540166204986178,
          0.9999999999999999,
          -0.005540166204986178,
          0.9999999999999999,
          0.9999999999999999,
          0.9999999999999999,
          0.9999999999999999,
          -0.005540166204986178,
          0.9999999999999999,
          -0.005540166204986178,
          -0.005540166204986178,
          -0.005540166204986178,
          0.9999999999999999,
          0.9999999999999999,
          0.9999999999999999,
          0.9999999999999999,
          -0.005540166204986178,
          -0.005540166204986178,
          0.9999999999999999,
          0.9999999999999999,
          -0.005540166204986178,
          -0.005540166204986178,
          -0.005540166204986178,
          0.9999999999999999,
          -0.005540166204986178,
          -0.005540166204986178
         ],
         "y": [
          -0.37707756232686984,
          -0.3373851873450941,
          -0.29769281236331835,
          0.2213985465698635,
          -0.25800043738154255,
          -0.15515660295245268,
          0.09957188054793766,
          0.08849672909139894,
          0.25086262874669285,
          -0.2968349555474196,
          -0.2183080623997668,
          0.3357024682062158,
          -0.17861568741799103,
          -0.13892331243621525,
          0.27029638507609094,
          -0.09923093745443949,
          0.26172881508141005,
          -0.05953856247266371,
          -0.019846187490887943,
          0.019846187490887828,
          0.05953856247266365,
          0.3122983745622095,
          0.09923093745443937,
          -0.19799445292585718,
          0.08097398470582544,
          0.31355216529313834,
          0.13892331243621509,
          0.17861568741799091,
          0.21830806239976672,
          0.25800043738154244,
          -0.3254631772369631,
          -0.30477563017663606,
          0.337385187345094,
          0.2976928123633182,
          0.2548329660613011,
          -0.21617441852432637,
          0.1323794046739108,
          0.3770775623268698,
          -0.15745521929248907,
          -0.36767413184490305
         ]
        }
       ],
       "layout": {
        "autosize": true,
        "height": 1000,
        "hoverdistance": 1,
        "margin": {
         "t": 100
        },
        "paper_bgcolor": "rgba(255,255,255,255)",
        "plot_bgcolor": "rgba(0,0,0,0)",
        "scene": {
         "xaxis": {
          "showbackground": false,
          "showgrid": false,
          "showline": false,
          "showticklabels": false,
          "title": {
           "text": ""
          },
          "visible": false,
          "zeroline": false
         },
         "yaxis": {
          "showbackground": false,
          "showgrid": false,
          "showline": false,
          "showticklabels": false,
          "title": {
           "text": ""
          },
          "visible": false,
          "zeroline": false
         }
        },
        "showlegend": false,
        "template": {
         "data": {
          "bar": [
           {
            "error_x": {
             "color": "#2a3f5f"
            },
            "error_y": {
             "color": "#2a3f5f"
            },
            "marker": {
             "line": {
              "color": "#E5ECF6",
              "width": 0.5
             },
             "pattern": {
              "fillmode": "overlay",
              "size": 10,
              "solidity": 0.2
             }
            },
            "type": "bar"
           }
          ],
          "barpolar": [
           {
            "marker": {
             "line": {
              "color": "#E5ECF6",
              "width": 0.5
             },
             "pattern": {
              "fillmode": "overlay",
              "size": 10,
              "solidity": 0.2
             }
            },
            "type": "barpolar"
           }
          ],
          "carpet": [
           {
            "aaxis": {
             "endlinecolor": "#2a3f5f",
             "gridcolor": "white",
             "linecolor": "white",
             "minorgridcolor": "white",
             "startlinecolor": "#2a3f5f"
            },
            "baxis": {
             "endlinecolor": "#2a3f5f",
             "gridcolor": "white",
             "linecolor": "white",
             "minorgridcolor": "white",
             "startlinecolor": "#2a3f5f"
            },
            "type": "carpet"
           }
          ],
          "choropleth": [
           {
            "colorbar": {
             "outlinewidth": 0,
             "ticks": ""
            },
            "type": "choropleth"
           }
          ],
          "contour": [
           {
            "colorbar": {
             "outlinewidth": 0,
             "ticks": ""
            },
            "colorscale": [
             [
              0,
              "#0d0887"
             ],
             [
              0.1111111111111111,
              "#46039f"
             ],
             [
              0.2222222222222222,
              "#7201a8"
             ],
             [
              0.3333333333333333,
              "#9c179e"
             ],
             [
              0.4444444444444444,
              "#bd3786"
             ],
             [
              0.5555555555555556,
              "#d8576b"
             ],
             [
              0.6666666666666666,
              "#ed7953"
             ],
             [
              0.7777777777777778,
              "#fb9f3a"
             ],
             [
              0.8888888888888888,
              "#fdca26"
             ],
             [
              1,
              "#f0f921"
             ]
            ],
            "type": "contour"
           }
          ],
          "contourcarpet": [
           {
            "colorbar": {
             "outlinewidth": 0,
             "ticks": ""
            },
            "type": "contourcarpet"
           }
          ],
          "heatmap": [
           {
            "colorbar": {
             "outlinewidth": 0,
             "ticks": ""
            },
            "colorscale": [
             [
              0,
              "#0d0887"
             ],
             [
              0.1111111111111111,
              "#46039f"
             ],
             [
              0.2222222222222222,
              "#7201a8"
             ],
             [
              0.3333333333333333,
              "#9c179e"
             ],
             [
              0.4444444444444444,
              "#bd3786"
             ],
             [
              0.5555555555555556,
              "#d8576b"
             ],
             [
              0.6666666666666666,
              "#ed7953"
             ],
             [
              0.7777777777777778,
              "#fb9f3a"
             ],
             [
              0.8888888888888888,
              "#fdca26"
             ],
             [
              1,
              "#f0f921"
             ]
            ],
            "type": "heatmap"
           }
          ],
          "heatmapgl": [
           {
            "colorbar": {
             "outlinewidth": 0,
             "ticks": ""
            },
            "colorscale": [
             [
              0,
              "#0d0887"
             ],
             [
              0.1111111111111111,
              "#46039f"
             ],
             [
              0.2222222222222222,
              "#7201a8"
             ],
             [
              0.3333333333333333,
              "#9c179e"
             ],
             [
              0.4444444444444444,
              "#bd3786"
             ],
             [
              0.5555555555555556,
              "#d8576b"
             ],
             [
              0.6666666666666666,
              "#ed7953"
             ],
             [
              0.7777777777777778,
              "#fb9f3a"
             ],
             [
              0.8888888888888888,
              "#fdca26"
             ],
             [
              1,
              "#f0f921"
             ]
            ],
            "type": "heatmapgl"
           }
          ],
          "histogram": [
           {
            "marker": {
             "pattern": {
              "fillmode": "overlay",
              "size": 10,
              "solidity": 0.2
             }
            },
            "type": "histogram"
           }
          ],
          "histogram2d": [
           {
            "colorbar": {
             "outlinewidth": 0,
             "ticks": ""
            },
            "colorscale": [
             [
              0,
              "#0d0887"
             ],
             [
              0.1111111111111111,
              "#46039f"
             ],
             [
              0.2222222222222222,
              "#7201a8"
             ],
             [
              0.3333333333333333,
              "#9c179e"
             ],
             [
              0.4444444444444444,
              "#bd3786"
             ],
             [
              0.5555555555555556,
              "#d8576b"
             ],
             [
              0.6666666666666666,
              "#ed7953"
             ],
             [
              0.7777777777777778,
              "#fb9f3a"
             ],
             [
              0.8888888888888888,
              "#fdca26"
             ],
             [
              1,
              "#f0f921"
             ]
            ],
            "type": "histogram2d"
           }
          ],
          "histogram2dcontour": [
           {
            "colorbar": {
             "outlinewidth": 0,
             "ticks": ""
            },
            "colorscale": [
             [
              0,
              "#0d0887"
             ],
             [
              0.1111111111111111,
              "#46039f"
             ],
             [
              0.2222222222222222,
              "#7201a8"
             ],
             [
              0.3333333333333333,
              "#9c179e"
             ],
             [
              0.4444444444444444,
              "#bd3786"
             ],
             [
              0.5555555555555556,
              "#d8576b"
             ],
             [
              0.6666666666666666,
              "#ed7953"
             ],
             [
              0.7777777777777778,
              "#fb9f3a"
             ],
             [
              0.8888888888888888,
              "#fdca26"
             ],
             [
              1,
              "#f0f921"
             ]
            ],
            "type": "histogram2dcontour"
           }
          ],
          "mesh3d": [
           {
            "colorbar": {
             "outlinewidth": 0,
             "ticks": ""
            },
            "type": "mesh3d"
           }
          ],
          "parcoords": [
           {
            "line": {
             "colorbar": {
              "outlinewidth": 0,
              "ticks": ""
             }
            },
            "type": "parcoords"
           }
          ],
          "pie": [
           {
            "automargin": true,
            "type": "pie"
           }
          ],
          "scatter": [
           {
            "marker": {
             "colorbar": {
              "outlinewidth": 0,
              "ticks": ""
             }
            },
            "type": "scatter"
           }
          ],
          "scatter3d": [
           {
            "line": {
             "colorbar": {
              "outlinewidth": 0,
              "ticks": ""
             }
            },
            "marker": {
             "colorbar": {
              "outlinewidth": 0,
              "ticks": ""
             }
            },
            "type": "scatter3d"
           }
          ],
          "scattercarpet": [
           {
            "marker": {
             "colorbar": {
              "outlinewidth": 0,
              "ticks": ""
             }
            },
            "type": "scattercarpet"
           }
          ],
          "scattergeo": [
           {
            "marker": {
             "colorbar": {
              "outlinewidth": 0,
              "ticks": ""
             }
            },
            "type": "scattergeo"
           }
          ],
          "scattergl": [
           {
            "marker": {
             "colorbar": {
              "outlinewidth": 0,
              "ticks": ""
             }
            },
            "type": "scattergl"
           }
          ],
          "scattermapbox": [
           {
            "marker": {
             "colorbar": {
              "outlinewidth": 0,
              "ticks": ""
             }
            },
            "type": "scattermapbox"
           }
          ],
          "scatterpolar": [
           {
            "marker": {
             "colorbar": {
              "outlinewidth": 0,
              "ticks": ""
             }
            },
            "type": "scatterpolar"
           }
          ],
          "scatterpolargl": [
           {
            "marker": {
             "colorbar": {
              "outlinewidth": 0,
              "ticks": ""
             }
            },
            "type": "scatterpolargl"
           }
          ],
          "scatterternary": [
           {
            "marker": {
             "colorbar": {
              "outlinewidth": 0,
              "ticks": ""
             }
            },
            "type": "scatterternary"
           }
          ],
          "surface": [
           {
            "colorbar": {
             "outlinewidth": 0,
             "ticks": ""
            },
            "colorscale": [
             [
              0,
              "#0d0887"
             ],
             [
              0.1111111111111111,
              "#46039f"
             ],
             [
              0.2222222222222222,
              "#7201a8"
             ],
             [
              0.3333333333333333,
              "#9c179e"
             ],
             [
              0.4444444444444444,
              "#bd3786"
             ],
             [
              0.5555555555555556,
              "#d8576b"
             ],
             [
              0.6666666666666666,
              "#ed7953"
             ],
             [
              0.7777777777777778,
              "#fb9f3a"
             ],
             [
              0.8888888888888888,
              "#fdca26"
             ],
             [
              1,
              "#f0f921"
             ]
            ],
            "type": "surface"
           }
          ],
          "table": [
           {
            "cells": {
             "fill": {
              "color": "#EBF0F8"
             },
             "line": {
              "color": "white"
             }
            },
            "header": {
             "fill": {
              "color": "#C8D4E3"
             },
             "line": {
              "color": "white"
             }
            },
            "type": "table"
           }
          ]
         },
         "layout": {
          "annotationdefaults": {
           "arrowcolor": "#2a3f5f",
           "arrowhead": 0,
           "arrowwidth": 1
          },
          "autotypenumbers": "strict",
          "coloraxis": {
           "colorbar": {
            "outlinewidth": 0,
            "ticks": ""
           }
          },
          "colorscale": {
           "diverging": [
            [
             0,
             "#8e0152"
            ],
            [
             0.1,
             "#c51b7d"
            ],
            [
             0.2,
             "#de77ae"
            ],
            [
             0.3,
             "#f1b6da"
            ],
            [
             0.4,
             "#fde0ef"
            ],
            [
             0.5,
             "#f7f7f7"
            ],
            [
             0.6,
             "#e6f5d0"
            ],
            [
             0.7,
             "#b8e186"
            ],
            [
             0.8,
             "#7fbc41"
            ],
            [
             0.9,
             "#4d9221"
            ],
            [
             1,
             "#276419"
            ]
           ],
           "sequential": [
            [
             0,
             "#0d0887"
            ],
            [
             0.1111111111111111,
             "#46039f"
            ],
            [
             0.2222222222222222,
             "#7201a8"
            ],
            [
             0.3333333333333333,
             "#9c179e"
            ],
            [
             0.4444444444444444,
             "#bd3786"
            ],
            [
             0.5555555555555556,
             "#d8576b"
            ],
            [
             0.6666666666666666,
             "#ed7953"
            ],
            [
             0.7777777777777778,
             "#fb9f3a"
            ],
            [
             0.8888888888888888,
             "#fdca26"
            ],
            [
             1,
             "#f0f921"
            ]
           ],
           "sequentialminus": [
            [
             0,
             "#0d0887"
            ],
            [
             0.1111111111111111,
             "#46039f"
            ],
            [
             0.2222222222222222,
             "#7201a8"
            ],
            [
             0.3333333333333333,
             "#9c179e"
            ],
            [
             0.4444444444444444,
             "#bd3786"
            ],
            [
             0.5555555555555556,
             "#d8576b"
            ],
            [
             0.6666666666666666,
             "#ed7953"
            ],
            [
             0.7777777777777778,
             "#fb9f3a"
            ],
            [
             0.8888888888888888,
             "#fdca26"
            ],
            [
             1,
             "#f0f921"
            ]
           ]
          },
          "colorway": [
           "#636efa",
           "#EF553B",
           "#00cc96",
           "#ab63fa",
           "#FFA15A",
           "#19d3f3",
           "#FF6692",
           "#B6E880",
           "#FF97FF",
           "#FECB52"
          ],
          "font": {
           "color": "#2a3f5f"
          },
          "geo": {
           "bgcolor": "white",
           "lakecolor": "white",
           "landcolor": "#E5ECF6",
           "showlakes": true,
           "showland": true,
           "subunitcolor": "white"
          },
          "hoverlabel": {
           "align": "left"
          },
          "hovermode": "closest",
          "mapbox": {
           "style": "light"
          },
          "paper_bgcolor": "white",
          "plot_bgcolor": "#E5ECF6",
          "polar": {
           "angularaxis": {
            "gridcolor": "white",
            "linecolor": "white",
            "ticks": ""
           },
           "bgcolor": "#E5ECF6",
           "radialaxis": {
            "gridcolor": "white",
            "linecolor": "white",
            "ticks": ""
           }
          },
          "scene": {
           "xaxis": {
            "backgroundcolor": "#E5ECF6",
            "gridcolor": "white",
            "gridwidth": 2,
            "linecolor": "white",
            "showbackground": true,
            "ticks": "",
            "zerolinecolor": "white"
           },
           "yaxis": {
            "backgroundcolor": "#E5ECF6",
            "gridcolor": "white",
            "gridwidth": 2,
            "linecolor": "white",
            "showbackground": true,
            "ticks": "",
            "zerolinecolor": "white"
           },
           "zaxis": {
            "backgroundcolor": "#E5ECF6",
            "gridcolor": "white",
            "gridwidth": 2,
            "linecolor": "white",
            "showbackground": true,
            "ticks": "",
            "zerolinecolor": "white"
           }
          },
          "shapedefaults": {
           "line": {
            "color": "#2a3f5f"
           }
          },
          "ternary": {
           "aaxis": {
            "gridcolor": "white",
            "linecolor": "white",
            "ticks": ""
           },
           "baxis": {
            "gridcolor": "white",
            "linecolor": "white",
            "ticks": ""
           },
           "bgcolor": "#E5ECF6",
           "caxis": {
            "gridcolor": "white",
            "linecolor": "white",
            "ticks": ""
           }
          },
          "title": {
           "x": 0.05
          },
          "xaxis": {
           "automargin": true,
           "gridcolor": "white",
           "linecolor": "white",
           "ticks": "",
           "title": {
            "standoff": 15
           },
           "zerolinecolor": "white",
           "zerolinewidth": 2
          },
          "yaxis": {
           "automargin": true,
           "gridcolor": "white",
           "linecolor": "white",
           "ticks": "",
           "title": {
            "standoff": 15
           },
           "zerolinecolor": "white",
           "zerolinewidth": 2
          }
         }
        },
        "title": {
         "text": "Bipartition of the graph by community",
         "x": 0.5
        },
        "width": 1000,
        "xaxis": {
         "visible": false
        },
        "yaxis": {
         "visible": false
        }
       }
      }
     },
     "metadata": {},
     "output_type": "display_data"
    }
   ],
   "source": [
    "plotly_graph_bipartite(g_centers.to_undirected(),Lay_centr_bipart,labels_centr,party_colmap,bisection_colmap,centrality,\n",
    "            title='Bipartition of the graph by community')"
   ]
  },
  {
   "cell_type": "markdown",
   "metadata": {},
   "source": [
    "This plot shows the main nodes of each community in a bipartite layout corresponding to bisection community, as for before, fill color represent the party belonging, surronding color represent bisection community belongings and edges width represent edge weights."
   ]
  },
  {
   "cell_type": "markdown",
   "metadata": {},
   "source": [
    "We also decided that I would be interesting to vizualize self-mentionning frequency. For this, we use the same pipline to build a network but only keeping self loops."
   ]
  },
  {
   "cell_type": "code",
   "execution_count": null,
   "metadata": {},
   "outputs": [],
   "source": [
    "self_men_df=pd.DataFrame()\n",
    "for i,row in df_full.iterrows():\n",
    "    if row.qids in catalogue_df.qid.values:\n",
    "        for mention_qid in row.mentions_qids:\n",
    "            if row.qids == mention_qid:\n",
    "                mention=pd.Series([row.qids,mention_qid,row.speaker])\n",
    "                self_men_df=self_men_df.append(mention,ignore_index=True)\n",
    "    #if i %10000==0: print(i)\n",
    "self_men_df.rename(columns={0:'qid',1:'mentions_qid',2:'speaker'},inplace=True)"
   ]
  },
  {
   "cell_type": "code",
   "execution_count": 13,
   "metadata": {},
   "outputs": [
    {
     "name": "stdout",
     "output_type": "stream",
     "text": [
      "self mentionning network characteristics: \n",
      "- number of nodes: 2493\n"
     ]
    }
   ],
   "source": [
    "self_adj_df = pd.crosstab(self_men_df.qid, self_men_df.mentions_qids)\n",
    "self_adj=self_adj_df.values\n",
    "\n",
    "g_self=nx.from_numpy_matrix(self_adj)\n",
    "g_self=nx.relabel_nodes(g_self,mapping=lambda x: self_adj_df.index[x])\n",
    "print(f'self mentionning network characteristics: \\n- number of nodes: {len(list(g_self.nodes))}')"
   ]
  },
  {
   "cell_type": "markdown",
   "metadata": {},
   "source": [
    "To compute frequencies, we divide the number of self-mentionning occurencies for each node by the total number of mentionning other politician (out edges) from the previous network."
   ]
  },
  {
   "cell_type": "code",
   "execution_count": 14,
   "metadata": {},
   "outputs": [],
   "source": [
    "for node in g_self.nodes:\n",
    "    total_edges=len(g.out_edges(node))\n",
    "    if total_edges != 0:\n",
    "        self_mentions=g_self.get_edge_data(node,node,'weight')['weight']\n",
    "        fract=self_mentions/total_edges\n",
    "    else: fract=0\n",
    "    g_self[node][node]['weight']=fract"
   ]
  },
  {
   "cell_type": "code",
   "execution_count": 22,
   "metadata": {},
   "outputs": [
    {
     "data": {
      "application/vnd.plotly.v1+json": {
       "config": {
        "linkText": "Export to plot.ly",
        "plotlyServerURL": "https://plot.ly",
        "showLink": false
       },
       "data": [
        {
         "line": {
          "color": "mediumaquamarine",
          "shape": "spline",
          "width": 2.1198970379187614
         },
         "mode": "lines",
         "type": "scatter",
         "x": [
          0.44183316826820374,
          0.44183316826820374,
          null
         ],
         "y": [
          0.4340139925479889,
          0.4340139925479889,
          null
         ]
        },
        {
         "hovertemplate": [
          "freq: 0.072<extra></extra>",
          "freq: 0.012<extra></extra>",
          "freq: 0.01<extra></extra>",
          "freq: 0.024<extra></extra>",
          "freq: 0.072<extra></extra>",
          "freq: 0.031<extra></extra>",
          "freq: 0.006<extra></extra>",
          "freq: 0.03<extra></extra>",
          "freq: 0.006<extra></extra>",
          "freq: 0.085<extra></extra>",
          "freq: 0.042<extra></extra>",
          "freq: 0.016<extra></extra>",
          "freq: 0.458<extra></extra>",
          "freq: 0.007<extra></extra>",
          "freq: 0.041<extra></extra>",
          "freq: 0.009<extra></extra>",
          "freq: 0.016<extra></extra>",
          "freq: 0.023<extra></extra>",
          "freq: 0.033<extra></extra>",
          "freq: 0.006<extra></extra>"
         ],
         "marker": {
          "color": [
           "dodgerblue",
           "tomato",
           "tomato",
           "dodgerblue",
           "dodgerblue",
           "tomato",
           "dodgerblue",
           "tomato",
           "dodgerblue",
           "tomato",
           "tomato",
           "tomato",
           "tomato",
           "dodgerblue",
           "dodgerblue",
           "tomato",
           "dodgerblue",
           "tomato",
           "tomato",
           "dodgerblue"
          ],
          "line": {
           "color": "white",
           "width": [
            4.687757289308497,
            3.1067235897152634,
            2.996051230743737,
            3.536640142511059,
            4.687757289308497,
            3.7707577435444213,
            2.7664851375627997,
            3.739137069552557,
            2.790516849796617,
            4.913619246393244,
            4.043182011782025,
            3.264826959674587,
            8.76885120054057,
            2.8323142924295412,
            4.034971946675324,
            2.94862021975594,
            3.264826959674587,
            3.501982014613572,
            3.8181887545322186,
            2.790516849796617
           ]
          },
          "opacity": 1,
          "size": [
           47.918169556259414,
           28.55454040551858,
           27.199086364966725,
           33.8199213371486,
           47.918169556259414,
           36.687264648829725,
           24.387487412279157,
           36.29999206581491,
           24.681814575370417,
           50.684402292079525,
           40.023766902495844,
           30.490903320592665,
           97.90115793074864,
           25.19372661039,
           39.923214551163625,
           26.6181774904445,
           30.490903320592665,
           33.39544769320379,
           37.26817352335196,
           24.681814575370417
          ]
         },
         "mode": "markers+text",
         "text": [
          "Tim Cahill",
          "Nick Wagner",
          "Mike Pompeo",
          "Joe Biden",
          "Mark Hunt",
          "Steve Gooch",
          "Bill Clinton",
          "Joe Hart",
          "Bill Cooper",
          "Roseanne Barr",
          "Stan Lee",
          "Cesar Chavez",
          "Donald Trump",
          "Hillary Clinton",
          "Barack Obama",
          "Michele Fiore",
          "Bill Bailey",
          "Bryan Adams",
          "Richard Petty",
          "Jay Ash"
         ],
         "textposition": "top center",
         "type": "scatter",
         "x": [
          0.771320641040802,
          0.6336482167243958,
          0.498507022857666,
          0.19806286692619324,
          0.16911083459854126,
          0.6853598356246948,
          0.00394826615229249,
          0.8126209378242493,
          0.72175532579422,
          0.9177741408348083,
          0.5425443649291992,
          0.37334075570106506,
          0.44183316826820374,
          0.6177669763565063,
          0.6503971815109253,
          0.8052232265472412,
          0.9086489081382751,
          0.09045934677124023,
          0.1139843612909317,
          0.0468963198363781
         ],
         "y": [
          0.0207519493997097,
          0.7488038539886475,
          0.22479665279388428,
          0.7605307102203369,
          0.08833981305360794,
          0.9533933401107788,
          0.5121922492980957,
          0.6125260591506958,
          0.29187607765197754,
          0.7145757675170898,
          0.1421700417995453,
          0.6741335988044739,
          0.4340139925479889,
          0.5131382346153259,
          0.601038932800293,
          0.5216471552848816,
          0.3192360997200012,
          0.3007000684738159,
          0.8286813497543335,
          0.6262871623039246
         ]
        }
       ],
       "layout": {
        "height": 1000,
        "hoverdistance": 1,
        "margin": {
         "t": 100
        },
        "paper_bgcolor": "rgba(255,255,255,255)",
        "plot_bgcolor": "rgba(0,0,0,0)",
        "scene": {
         "xaxis": {
          "showbackground": false,
          "showgrid": false,
          "showline": false,
          "showticklabels": false,
          "title": {
           "text": ""
          },
          "visible": false,
          "zeroline": false
         },
         "yaxis": {
          "showbackground": false,
          "showgrid": false,
          "showline": false,
          "showticklabels": false,
          "title": {
           "text": ""
          },
          "visible": false,
          "zeroline": false
         }
        },
        "showlegend": false,
        "template": {
         "data": {
          "bar": [
           {
            "error_x": {
             "color": "#2a3f5f"
            },
            "error_y": {
             "color": "#2a3f5f"
            },
            "marker": {
             "line": {
              "color": "#E5ECF6",
              "width": 0.5
             },
             "pattern": {
              "fillmode": "overlay",
              "size": 10,
              "solidity": 0.2
             }
            },
            "type": "bar"
           }
          ],
          "barpolar": [
           {
            "marker": {
             "line": {
              "color": "#E5ECF6",
              "width": 0.5
             },
             "pattern": {
              "fillmode": "overlay",
              "size": 10,
              "solidity": 0.2
             }
            },
            "type": "barpolar"
           }
          ],
          "carpet": [
           {
            "aaxis": {
             "endlinecolor": "#2a3f5f",
             "gridcolor": "white",
             "linecolor": "white",
             "minorgridcolor": "white",
             "startlinecolor": "#2a3f5f"
            },
            "baxis": {
             "endlinecolor": "#2a3f5f",
             "gridcolor": "white",
             "linecolor": "white",
             "minorgridcolor": "white",
             "startlinecolor": "#2a3f5f"
            },
            "type": "carpet"
           }
          ],
          "choropleth": [
           {
            "colorbar": {
             "outlinewidth": 0,
             "ticks": ""
            },
            "type": "choropleth"
           }
          ],
          "contour": [
           {
            "colorbar": {
             "outlinewidth": 0,
             "ticks": ""
            },
            "colorscale": [
             [
              0,
              "#0d0887"
             ],
             [
              0.1111111111111111,
              "#46039f"
             ],
             [
              0.2222222222222222,
              "#7201a8"
             ],
             [
              0.3333333333333333,
              "#9c179e"
             ],
             [
              0.4444444444444444,
              "#bd3786"
             ],
             [
              0.5555555555555556,
              "#d8576b"
             ],
             [
              0.6666666666666666,
              "#ed7953"
             ],
             [
              0.7777777777777778,
              "#fb9f3a"
             ],
             [
              0.8888888888888888,
              "#fdca26"
             ],
             [
              1,
              "#f0f921"
             ]
            ],
            "type": "contour"
           }
          ],
          "contourcarpet": [
           {
            "colorbar": {
             "outlinewidth": 0,
             "ticks": ""
            },
            "type": "contourcarpet"
           }
          ],
          "heatmap": [
           {
            "colorbar": {
             "outlinewidth": 0,
             "ticks": ""
            },
            "colorscale": [
             [
              0,
              "#0d0887"
             ],
             [
              0.1111111111111111,
              "#46039f"
             ],
             [
              0.2222222222222222,
              "#7201a8"
             ],
             [
              0.3333333333333333,
              "#9c179e"
             ],
             [
              0.4444444444444444,
              "#bd3786"
             ],
             [
              0.5555555555555556,
              "#d8576b"
             ],
             [
              0.6666666666666666,
              "#ed7953"
             ],
             [
              0.7777777777777778,
              "#fb9f3a"
             ],
             [
              0.8888888888888888,
              "#fdca26"
             ],
             [
              1,
              "#f0f921"
             ]
            ],
            "type": "heatmap"
           }
          ],
          "heatmapgl": [
           {
            "colorbar": {
             "outlinewidth": 0,
             "ticks": ""
            },
            "colorscale": [
             [
              0,
              "#0d0887"
             ],
             [
              0.1111111111111111,
              "#46039f"
             ],
             [
              0.2222222222222222,
              "#7201a8"
             ],
             [
              0.3333333333333333,
              "#9c179e"
             ],
             [
              0.4444444444444444,
              "#bd3786"
             ],
             [
              0.5555555555555556,
              "#d8576b"
             ],
             [
              0.6666666666666666,
              "#ed7953"
             ],
             [
              0.7777777777777778,
              "#fb9f3a"
             ],
             [
              0.8888888888888888,
              "#fdca26"
             ],
             [
              1,
              "#f0f921"
             ]
            ],
            "type": "heatmapgl"
           }
          ],
          "histogram": [
           {
            "marker": {
             "pattern": {
              "fillmode": "overlay",
              "size": 10,
              "solidity": 0.2
             }
            },
            "type": "histogram"
           }
          ],
          "histogram2d": [
           {
            "colorbar": {
             "outlinewidth": 0,
             "ticks": ""
            },
            "colorscale": [
             [
              0,
              "#0d0887"
             ],
             [
              0.1111111111111111,
              "#46039f"
             ],
             [
              0.2222222222222222,
              "#7201a8"
             ],
             [
              0.3333333333333333,
              "#9c179e"
             ],
             [
              0.4444444444444444,
              "#bd3786"
             ],
             [
              0.5555555555555556,
              "#d8576b"
             ],
             [
              0.6666666666666666,
              "#ed7953"
             ],
             [
              0.7777777777777778,
              "#fb9f3a"
             ],
             [
              0.8888888888888888,
              "#fdca26"
             ],
             [
              1,
              "#f0f921"
             ]
            ],
            "type": "histogram2d"
           }
          ],
          "histogram2dcontour": [
           {
            "colorbar": {
             "outlinewidth": 0,
             "ticks": ""
            },
            "colorscale": [
             [
              0,
              "#0d0887"
             ],
             [
              0.1111111111111111,
              "#46039f"
             ],
             [
              0.2222222222222222,
              "#7201a8"
             ],
             [
              0.3333333333333333,
              "#9c179e"
             ],
             [
              0.4444444444444444,
              "#bd3786"
             ],
             [
              0.5555555555555556,
              "#d8576b"
             ],
             [
              0.6666666666666666,
              "#ed7953"
             ],
             [
              0.7777777777777778,
              "#fb9f3a"
             ],
             [
              0.8888888888888888,
              "#fdca26"
             ],
             [
              1,
              "#f0f921"
             ]
            ],
            "type": "histogram2dcontour"
           }
          ],
          "mesh3d": [
           {
            "colorbar": {
             "outlinewidth": 0,
             "ticks": ""
            },
            "type": "mesh3d"
           }
          ],
          "parcoords": [
           {
            "line": {
             "colorbar": {
              "outlinewidth": 0,
              "ticks": ""
             }
            },
            "type": "parcoords"
           }
          ],
          "pie": [
           {
            "automargin": true,
            "type": "pie"
           }
          ],
          "scatter": [
           {
            "marker": {
             "colorbar": {
              "outlinewidth": 0,
              "ticks": ""
             }
            },
            "type": "scatter"
           }
          ],
          "scatter3d": [
           {
            "line": {
             "colorbar": {
              "outlinewidth": 0,
              "ticks": ""
             }
            },
            "marker": {
             "colorbar": {
              "outlinewidth": 0,
              "ticks": ""
             }
            },
            "type": "scatter3d"
           }
          ],
          "scattercarpet": [
           {
            "marker": {
             "colorbar": {
              "outlinewidth": 0,
              "ticks": ""
             }
            },
            "type": "scattercarpet"
           }
          ],
          "scattergeo": [
           {
            "marker": {
             "colorbar": {
              "outlinewidth": 0,
              "ticks": ""
             }
            },
            "type": "scattergeo"
           }
          ],
          "scattergl": [
           {
            "marker": {
             "colorbar": {
              "outlinewidth": 0,
              "ticks": ""
             }
            },
            "type": "scattergl"
           }
          ],
          "scattermapbox": [
           {
            "marker": {
             "colorbar": {
              "outlinewidth": 0,
              "ticks": ""
             }
            },
            "type": "scattermapbox"
           }
          ],
          "scatterpolar": [
           {
            "marker": {
             "colorbar": {
              "outlinewidth": 0,
              "ticks": ""
             }
            },
            "type": "scatterpolar"
           }
          ],
          "scatterpolargl": [
           {
            "marker": {
             "colorbar": {
              "outlinewidth": 0,
              "ticks": ""
             }
            },
            "type": "scatterpolargl"
           }
          ],
          "scatterternary": [
           {
            "marker": {
             "colorbar": {
              "outlinewidth": 0,
              "ticks": ""
             }
            },
            "type": "scatterternary"
           }
          ],
          "surface": [
           {
            "colorbar": {
             "outlinewidth": 0,
             "ticks": ""
            },
            "colorscale": [
             [
              0,
              "#0d0887"
             ],
             [
              0.1111111111111111,
              "#46039f"
             ],
             [
              0.2222222222222222,
              "#7201a8"
             ],
             [
              0.3333333333333333,
              "#9c179e"
             ],
             [
              0.4444444444444444,
              "#bd3786"
             ],
             [
              0.5555555555555556,
              "#d8576b"
             ],
             [
              0.6666666666666666,
              "#ed7953"
             ],
             [
              0.7777777777777778,
              "#fb9f3a"
             ],
             [
              0.8888888888888888,
              "#fdca26"
             ],
             [
              1,
              "#f0f921"
             ]
            ],
            "type": "surface"
           }
          ],
          "table": [
           {
            "cells": {
             "fill": {
              "color": "#EBF0F8"
             },
             "line": {
              "color": "white"
             }
            },
            "header": {
             "fill": {
              "color": "#C8D4E3"
             },
             "line": {
              "color": "white"
             }
            },
            "type": "table"
           }
          ]
         },
         "layout": {
          "annotationdefaults": {
           "arrowcolor": "#2a3f5f",
           "arrowhead": 0,
           "arrowwidth": 1
          },
          "autotypenumbers": "strict",
          "coloraxis": {
           "colorbar": {
            "outlinewidth": 0,
            "ticks": ""
           }
          },
          "colorscale": {
           "diverging": [
            [
             0,
             "#8e0152"
            ],
            [
             0.1,
             "#c51b7d"
            ],
            [
             0.2,
             "#de77ae"
            ],
            [
             0.3,
             "#f1b6da"
            ],
            [
             0.4,
             "#fde0ef"
            ],
            [
             0.5,
             "#f7f7f7"
            ],
            [
             0.6,
             "#e6f5d0"
            ],
            [
             0.7,
             "#b8e186"
            ],
            [
             0.8,
             "#7fbc41"
            ],
            [
             0.9,
             "#4d9221"
            ],
            [
             1,
             "#276419"
            ]
           ],
           "sequential": [
            [
             0,
             "#0d0887"
            ],
            [
             0.1111111111111111,
             "#46039f"
            ],
            [
             0.2222222222222222,
             "#7201a8"
            ],
            [
             0.3333333333333333,
             "#9c179e"
            ],
            [
             0.4444444444444444,
             "#bd3786"
            ],
            [
             0.5555555555555556,
             "#d8576b"
            ],
            [
             0.6666666666666666,
             "#ed7953"
            ],
            [
             0.7777777777777778,
             "#fb9f3a"
            ],
            [
             0.8888888888888888,
             "#fdca26"
            ],
            [
             1,
             "#f0f921"
            ]
           ],
           "sequentialminus": [
            [
             0,
             "#0d0887"
            ],
            [
             0.1111111111111111,
             "#46039f"
            ],
            [
             0.2222222222222222,
             "#7201a8"
            ],
            [
             0.3333333333333333,
             "#9c179e"
            ],
            [
             0.4444444444444444,
             "#bd3786"
            ],
            [
             0.5555555555555556,
             "#d8576b"
            ],
            [
             0.6666666666666666,
             "#ed7953"
            ],
            [
             0.7777777777777778,
             "#fb9f3a"
            ],
            [
             0.8888888888888888,
             "#fdca26"
            ],
            [
             1,
             "#f0f921"
            ]
           ]
          },
          "colorway": [
           "#636efa",
           "#EF553B",
           "#00cc96",
           "#ab63fa",
           "#FFA15A",
           "#19d3f3",
           "#FF6692",
           "#B6E880",
           "#FF97FF",
           "#FECB52"
          ],
          "font": {
           "color": "#2a3f5f"
          },
          "geo": {
           "bgcolor": "white",
           "lakecolor": "white",
           "landcolor": "#E5ECF6",
           "showlakes": true,
           "showland": true,
           "subunitcolor": "white"
          },
          "hoverlabel": {
           "align": "left"
          },
          "hovermode": "closest",
          "mapbox": {
           "style": "light"
          },
          "paper_bgcolor": "white",
          "plot_bgcolor": "#E5ECF6",
          "polar": {
           "angularaxis": {
            "gridcolor": "white",
            "linecolor": "white",
            "ticks": ""
           },
           "bgcolor": "#E5ECF6",
           "radialaxis": {
            "gridcolor": "white",
            "linecolor": "white",
            "ticks": ""
           }
          },
          "scene": {
           "xaxis": {
            "backgroundcolor": "#E5ECF6",
            "gridcolor": "white",
            "gridwidth": 2,
            "linecolor": "white",
            "showbackground": true,
            "ticks": "",
            "zerolinecolor": "white"
           },
           "yaxis": {
            "backgroundcolor": "#E5ECF6",
            "gridcolor": "white",
            "gridwidth": 2,
            "linecolor": "white",
            "showbackground": true,
            "ticks": "",
            "zerolinecolor": "white"
           },
           "zaxis": {
            "backgroundcolor": "#E5ECF6",
            "gridcolor": "white",
            "gridwidth": 2,
            "linecolor": "white",
            "showbackground": true,
            "ticks": "",
            "zerolinecolor": "white"
           }
          },
          "shapedefaults": {
           "line": {
            "color": "#2a3f5f"
           }
          },
          "ternary": {
           "aaxis": {
            "gridcolor": "white",
            "linecolor": "white",
            "ticks": ""
           },
           "baxis": {
            "gridcolor": "white",
            "linecolor": "white",
            "ticks": ""
           },
           "bgcolor": "#E5ECF6",
           "caxis": {
            "gridcolor": "white",
            "linecolor": "white",
            "ticks": ""
           }
          },
          "title": {
           "x": 0.05
          },
          "xaxis": {
           "automargin": true,
           "gridcolor": "white",
           "linecolor": "white",
           "ticks": "",
           "title": {
            "standoff": 15
           },
           "zerolinecolor": "white",
           "zerolinewidth": 2
          },
          "yaxis": {
           "automargin": true,
           "gridcolor": "white",
           "linecolor": "white",
           "ticks": "",
           "title": {
            "standoff": 15
           },
           "zerolinecolor": "white",
           "zerolinewidth": 2
          }
         }
        },
        "title": {
         "text": "Self-mentionning frequencies",
         "x": 0.5
        },
        "width": 1000,
        "xaxis": {
         "visible": false
        },
        "yaxis": {
         "visible": false
        }
       }
      }
     },
     "metadata": {},
     "output_type": "display_data"
    }
   ],
   "source": [
    "weights=list(g_self.edges(data='weight'))\n",
    "sorted_self_weights=sorted(weights, key=lambda d:d[2], reverse=True)[:20]\n",
    "g_self_centers=g_self.subgraph([x[0] for x in sorted_self_weights])\n",
    "Lay_self_centr=nx.random_layout(g_self_centers,seed=10)\n",
    "self_weights_centr=scaler([g_self_centers.get_edge_data(node,node,'weight')['weight']**2 for node in g_self_centers.nodes])\n",
    "self_party_centr=[catalogue_df.loc[catalogue_df.qid == qid, 'parties'].item() for qid in g_self_centers.nodes()]\n",
    "self_party_col_centr=['tomato' if x=='Republican Party' else 'dodgerblue' for x in self_party_centr]\n",
    "self_labels=[catalogue_df.loc[catalogue_df.qid == qid, 'name'].item() for qid in g_self_centers.nodes()]\n",
    "plotly_graph_self(g_self_centers,Lay_self_centr,self_labels,parties=self_party_col_centr,centrality=self_weights_centr,\n",
    "            title='Self-mentionning frequencies')\n"
   ]
  },
  {
   "cell_type": "markdown",
   "metadata": {},
   "source": [
    "In this plot, the 40 politicians with highest self-mentionning frequencies are shown. Color represents party belongings and size of nodes represent the number of frequency. Here are revealed the most selfish american politicians."
   ]
  },
  {
   "cell_type": "markdown",
   "metadata": {},
   "source": [
    "# Topic and Sentiment analysis"
   ]
  },
  {
   "cell_type": "code",
   "execution_count": 2,
   "metadata": {},
   "outputs": [
    {
     "data": {
      "text/plain": [
       "[(0,\n",
       "  '0.004*\"Mueller\" + 0.003*\"impeachment\" + 0.002*\"Ukraine\" + 0.002*\"border\" + 0.002*\"report\" + 0.001*\"children\" + 0.001*\"Bob\" + 0.001*\"Robert\" + 0.001*\"Kavanaugh\" + 0.001*\"realDonaldTrump\"'),\n",
       " (1,\n",
       "  '0.003*\"shy\" + 0.002*\"Silver\" + 0.002*\"statement\" + 0.002*\"send\" + 0.002*\"response\" + 0.002*\"ISIS\" + 0.002*\"works\" + 0.002*\"Reagan\" + 0.002*\"guys\" + 0.002*\"Rick\"'),\n",
       " (2,\n",
       "  '0.002*\"conservative\" + 0.002*\"elect\" + 0.002*\"couldn\" + 0.002*\"Kavanaugh\" + 0.002*\"North\" + 0.001*\"primary\" + 0.001*\"dangerous\" + 0.001*\"nuclear\" + 0.001*\"GOP\" + 0.001*\"emails\"'),\n",
       " (3,\n",
       "  '0.007*\"Northern\" + 0.007*\"Ireland\" + 0.003*\"Social\" + 0.003*\"agreement\" + 0.003*\"Iowa\" + 0.003*\"Security\" + 0.002*\"December\" + 0.002*\"Video\" + 0.002*\"giving\" + 0.002*\"Social Security\"'),\n",
       " (4,\n",
       "  '0.003*\"Comey\" + 0.002*\"Mueller\" + 0.002*\"interest\" + 0.002*\"words\" + 0.002*\"citizens\" + 0.001*\"Bob\" + 0.001*\"special\" + 0.001*\"elect\" + 0.001*\"example\" + 0.001*\"especially\"'),\n",
       " (5,\n",
       "  '0.002*\"hold\" + 0.002*\"weeks\" + 0.002*\"play\" + 0.002*\"budget\" + 0.002*\"young\" + 0.002*\"agreement\" + 0.002*\"early\" + 0.002*\"goes\" + 0.002*\"terms\" + 0.002*\"free\"'),\n",
       " (6,\n",
       "  '0.002*\"Attorney\" + 0.002*\"majority\" + 0.002*\"questions\" + 0.002*\"Bloomberg\" + 0.002*\"Ukraine\" + 0.002*\"defeat\" + 0.002*\"witnesses\" + 0.002*\"looking\" + 0.002*\"California\" + 0.002*\"friends\"'),\n",
       " (7,\n",
       "  '0.002*\"defeat\" + 0.002*\"impeachment\" + 0.002*\"Bloomberg\" + 0.002*\"Ukraine\" + 0.002*\"trial\" + 0.002*\"Bolton\" + 0.001*\"Elizabeth\" + 0.001*\"coronavirus\" + 0.001*\"elect\" + 0.001*\"supporters\"'),\n",
       " (8,\n",
       "  '0.001*\"repeal\" + 0.001*\"Mueller\" + 0.001*\"Comey\" + 0.001*\"term\" + 0.001*\"nuclear\" + 0.001*\"Jeb\" + 0.001*\"Steve\" + 0.001*\"budget\" + 0.001*\"insurance\" + 0.001*\"conservative\"'),\n",
       " (9,\n",
       "  '0.004*\"Kavanaugh\" + 0.002*\"North\" + 0.002*\"Brett\" + 0.002*\"Jeff\" + 0.002*\"shutdown\" + 0.002*\"Mueller\" + 0.002*\"leave\" + 0.002*\"Speaker\" + 0.002*\"Supreme\" + 0.001*\"conservative\"')]"
      ]
     },
     "execution_count": 2,
     "metadata": {},
     "output_type": "execute_result"
    }
   ],
   "source": [
    "from gensim.models import LdaModel\n",
    "from gensim.corpora.dictionary import Dictionary\n",
    "\n",
    "# load the model trained\n",
    "model_path = './model/lda_bow'\n",
    "\n",
    "dictionary = Dictionary.load(model_path+'.id2word')\n",
    "lda_model = LdaModel.load(model_path)\n",
    "\n",
    "lda_model.show_topics()"
   ]
  },
  {
   "cell_type": "code",
   "execution_count": 48,
   "metadata": {},
   "outputs": [
    {
     "data": {
      "text/plain": [
       "10"
      ]
     },
     "execution_count": 48,
     "metadata": {},
     "output_type": "execute_result"
    }
   ],
   "source": [
    "# assign manually the topic based on keywords\n",
    "topics_man = ['Ukraine scandal', 'ISIS', 'GOP election', 'Ireland', 'Firing James Comey', 'Financial budget', 'Bloomberg Law', 'Defeat in Trial' ,'Mueller investigation', 'Brett Kavanaugh in Supreme court']\n",
    "# topics_man = ['Scandal', 'Terrorisim', 'Election', 'Geopolitical', 'Scandal', 'Financial', 'Legal System', 'Legal System', 'Legal System', 'Legal System']\n",
    "len(topics_man)"
   ]
  },
  {
   "cell_type": "markdown",
   "metadata": {},
   "source": [
    "### how do different parties talk about the same set of topics?"
   ]
  },
  {
   "cell_type": "code",
   "execution_count": 31,
   "metadata": {},
   "outputs": [],
   "source": [
    "df_full = df_full.drop(['qid_x', 'qid_y', 'parties_x', 'parties_y'], axis=1)"
   ]
  },
  {
   "cell_type": "code",
   "execution_count": 32,
   "metadata": {},
   "outputs": [
    {
     "data": {
      "text/html": [
       "<div>\n",
       "<style scoped>\n",
       "    .dataframe tbody tr th:only-of-type {\n",
       "        vertical-align: middle;\n",
       "    }\n",
       "\n",
       "    .dataframe tbody tr th {\n",
       "        vertical-align: top;\n",
       "    }\n",
       "\n",
       "    .dataframe thead th {\n",
       "        text-align: right;\n",
       "    }\n",
       "</style>\n",
       "<table border=\"1\" class=\"dataframe\">\n",
       "  <thead>\n",
       "    <tr style=\"text-align: right;\">\n",
       "      <th></th>\n",
       "      <th>quoteID</th>\n",
       "      <th>quotation</th>\n",
       "      <th>speaker</th>\n",
       "      <th>qids</th>\n",
       "      <th>date</th>\n",
       "      <th>numOccurrences</th>\n",
       "      <th>phase</th>\n",
       "      <th>mentions</th>\n",
       "      <th>mentions_qids</th>\n",
       "      <th>urls</th>\n",
       "      <th>topic_index</th>\n",
       "      <th>topic_scores</th>\n",
       "      <th>sentiment</th>\n",
       "      <th>source_bias</th>\n",
       "      <th>qid</th>\n",
       "      <th>parties</th>\n",
       "    </tr>\n",
       "  </thead>\n",
       "  <tbody>\n",
       "    <tr>\n",
       "      <th>0</th>\n",
       "      <td>2015-08-07-005048</td>\n",
       "      <td>All we ╒ re asking for here is a discussion an...</td>\n",
       "      <td>John Boehner</td>\n",
       "      <td>Q11702</td>\n",
       "      <td>2015-08-07 12:52:52</td>\n",
       "      <td>1</td>\n",
       "      <td>E</td>\n",
       "      <td>[Barack Obama]</td>\n",
       "      <td>[Q76]</td>\n",
       "      <td>[liveblog.irishtimes.com]</td>\n",
       "      <td>8</td>\n",
       "      <td>0.774811</td>\n",
       "      <td>0.0000</td>\n",
       "      <td>NaN</td>\n",
       "      <td>Q11702</td>\n",
       "      <td>Republican Party</td>\n",
       "    </tr>\n",
       "    <tr>\n",
       "      <th>1</th>\n",
       "      <td>2015-10-21-045916</td>\n",
       "      <td>I think Paul Ryan would make a great speaker,</td>\n",
       "      <td>John Boehner</td>\n",
       "      <td>Q11702</td>\n",
       "      <td>2015-10-21 14:57:37</td>\n",
       "      <td>6</td>\n",
       "      <td>E</td>\n",
       "      <td>[Paul Ryan]</td>\n",
       "      <td>[Q203966]</td>\n",
       "      <td>[news.yahoo.com, dailycaller.com, www.post-gaz...</td>\n",
       "      <td>5</td>\n",
       "      <td>0.774940</td>\n",
       "      <td>0.6249</td>\n",
       "      <td>0.128440</td>\n",
       "      <td>Q11702</td>\n",
       "      <td>Republican Party</td>\n",
       "    </tr>\n",
       "    <tr>\n",
       "      <th>2</th>\n",
       "      <td>2015-06-27-027018</td>\n",
       "      <td>Obamacare is fundamentally broken and increasi...</td>\n",
       "      <td>John Boehner</td>\n",
       "      <td>Q11702</td>\n",
       "      <td>2015-06-27 16:50:33</td>\n",
       "      <td>2</td>\n",
       "      <td>E</td>\n",
       "      <td>[Barack Obama]</td>\n",
       "      <td>[Q76]</td>\n",
       "      <td>[ptinews.com, news.outlookindia.com]</td>\n",
       "      <td>4</td>\n",
       "      <td>0.909938</td>\n",
       "      <td>0.4019</td>\n",
       "      <td>NaN</td>\n",
       "      <td>Q11702</td>\n",
       "      <td>Republican Party</td>\n",
       "    </tr>\n",
       "    <tr>\n",
       "      <th>3</th>\n",
       "      <td>2015-09-02-023110</td>\n",
       "      <td>Forcing a bad deal, over the objections of the...</td>\n",
       "      <td>John Boehner</td>\n",
       "      <td>Q11702</td>\n",
       "      <td>2015-09-02 17:11:29</td>\n",
       "      <td>24</td>\n",
       "      <td>E</td>\n",
       "      <td>[Barack Obama]</td>\n",
       "      <td>[Q76]</td>\n",
       "      <td>[m.washingtonexaminer.com, www.newshour.com.bd...</td>\n",
       "      <td>6</td>\n",
       "      <td>0.699471</td>\n",
       "      <td>-0.2263</td>\n",
       "      <td>0.210156</td>\n",
       "      <td>Q11702</td>\n",
       "      <td>Republican Party</td>\n",
       "    </tr>\n",
       "    <tr>\n",
       "      <th>4</th>\n",
       "      <td>2015-04-23-004339</td>\n",
       "      <td>As President Obama indicated, this is not a ti...</td>\n",
       "      <td>John Boehner</td>\n",
       "      <td>Q11702</td>\n",
       "      <td>2015-04-23 17:01:55</td>\n",
       "      <td>1</td>\n",
       "      <td>E</td>\n",
       "      <td>[Barack Obama]</td>\n",
       "      <td>[Q76]</td>\n",
       "      <td>[www.ibtimes.com]</td>\n",
       "      <td>8</td>\n",
       "      <td>0.899917</td>\n",
       "      <td>0.0000</td>\n",
       "      <td>-0.171200</td>\n",
       "      <td>Q11702</td>\n",
       "      <td>Republican Party</td>\n",
       "    </tr>\n",
       "  </tbody>\n",
       "</table>\n",
       "</div>"
      ],
      "text/plain": [
       "             quoteID                                          quotation  \\\n",
       "0  2015-08-07-005048  All we ╒ re asking for here is a discussion an...   \n",
       "1  2015-10-21-045916      I think Paul Ryan would make a great speaker,   \n",
       "2  2015-06-27-027018  Obamacare is fundamentally broken and increasi...   \n",
       "3  2015-09-02-023110  Forcing a bad deal, over the objections of the...   \n",
       "4  2015-04-23-004339  As President Obama indicated, this is not a ti...   \n",
       "\n",
       "        speaker    qids                date  numOccurrences phase  \\\n",
       "0  John Boehner  Q11702 2015-08-07 12:52:52               1     E   \n",
       "1  John Boehner  Q11702 2015-10-21 14:57:37               6     E   \n",
       "2  John Boehner  Q11702 2015-06-27 16:50:33               2     E   \n",
       "3  John Boehner  Q11702 2015-09-02 17:11:29              24     E   \n",
       "4  John Boehner  Q11702 2015-04-23 17:01:55               1     E   \n",
       "\n",
       "         mentions mentions_qids  \\\n",
       "0  [Barack Obama]         [Q76]   \n",
       "1     [Paul Ryan]     [Q203966]   \n",
       "2  [Barack Obama]         [Q76]   \n",
       "3  [Barack Obama]         [Q76]   \n",
       "4  [Barack Obama]         [Q76]   \n",
       "\n",
       "                                                urls  topic_index  \\\n",
       "0                          [liveblog.irishtimes.com]            8   \n",
       "1  [news.yahoo.com, dailycaller.com, www.post-gaz...            5   \n",
       "2               [ptinews.com, news.outlookindia.com]            4   \n",
       "3  [m.washingtonexaminer.com, www.newshour.com.bd...            6   \n",
       "4                                  [www.ibtimes.com]            8   \n",
       "\n",
       "   topic_scores  sentiment  source_bias     qid           parties  \n",
       "0      0.774811     0.0000          NaN  Q11702  Republican Party  \n",
       "1      0.774940     0.6249     0.128440  Q11702  Republican Party  \n",
       "2      0.909938     0.4019          NaN  Q11702  Republican Party  \n",
       "3      0.699471    -0.2263     0.210156  Q11702  Republican Party  \n",
       "4      0.899917     0.0000    -0.171200  Q11702  Republican Party  "
      ]
     },
     "execution_count": 32,
     "metadata": {},
     "output_type": "execute_result"
    }
   ],
   "source": [
    "# merge party information to quotes\n",
    "df_full = pd.merge(df_full, catalogue_df[['qid', 'parties']], left_on='qids', right_on='qid')\n",
    "df_full.head()"
   ]
  },
  {
   "cell_type": "code",
   "execution_count": 63,
   "metadata": {},
   "outputs": [
    {
     "data": {
      "text/plain": [
       "<seaborn.axisgrid.FacetGrid at 0x7f0c8130fa90>"
      ]
     },
     "execution_count": 63,
     "metadata": {},
     "output_type": "execute_result"
    },
    {
     "data": {
      "image/png": "[encoded data removed]",
      "text/plain": [
       "<Figure size 720x360 with 2 Axes>"
      ]
     },
     "metadata": {
      "needs_background": "light"
     },
     "output_type": "display_data"
    }
   ],
   "source": [
    "# see if different parties show different sentiment when talking about certain topics\n",
    "g = sns.factorplot(data=df_full, col='parties', x='topic_index', y='sentiment', kind='bar', ci=95)\n",
    "g.set_xlabels('')\n",
    "g.set_xticklabels(topics_man, rotation=90)"
   ]
  },
  {
   "cell_type": "markdown",
   "metadata": {},
   "source": [
    "The mean sentiment value over a topic grouped by parties can be viewed as the general tone of a party on the topic. The tone is quite different over topics like \"Ireland\" and \"Defeat in Trial\"."
   ]
  },
  {
   "cell_type": "markdown",
   "metadata": {},
   "source": [
    "### Who talks most positively/ negatively about other politician?"
   ]
  },
  {
   "cell_type": "code",
   "execution_count": 95,
   "metadata": {},
   "outputs": [
    {
     "data": {
      "image/png": "[encoded data removed]",
      "text/plain": [
       "<Figure size 432x288 with 1 Axes>"
      ]
     },
     "metadata": {
      "needs_background": "light"
     },
     "output_type": "display_data"
    }
   ],
   "source": [
    "# plotician with moest extreme sentiments\n",
    "neg_pol = df_full.groupby(by='speaker')['sentiment'].mean().sort_values()[:10]\n",
    "pos_pol = df_full.groupby(by='speaker')['sentiment'].mean().sort_values()[-10:]\n",
    "\n",
    "ax = sns.barplot(pd.concat([neg_pol, pos_pol]).index, pd.concat([neg_pol, pos_pol]))\n",
    "_ = ax.set_xticklabels(ax.get_xticklabels(), rotation=90)"
   ]
  },
  {
   "cell_type": "markdown",
   "metadata": {},
   "source": [
    "# Media bias analysis"
   ]
  },
  {
   "cell_type": "markdown",
   "metadata": {},
   "source": [
    "Classify sources into three categories based on their bias scores.\n",
    "- far left: bias score below -0.5\n",
    "- far right: bias score over 0.5\n",
    "- neutral: bias score between -0.5 and 0.5"
   ]
  },
  {
   "cell_type": "code",
   "execution_count": 98,
   "metadata": {},
   "outputs": [
    {
     "data": {
      "image/png": "[encoded data removed]",
      "text/plain": [
       "<Figure size 432x288 with 1 Axes>"
      ]
     },
     "metadata": {
      "needs_background": "light"
     },
     "output_type": "display_data"
    }
   ],
   "source": [
    "df_full['bias_cat'] = pd.cut(df_full['source_bias'], [-1, -0.5, 0.5, 1], labels=['far left', 'neutral', 'far right'])\n",
    "ax = sns.histplot(data=df_full, x='source_bias', hue='bias_cat')\n"
   ]
  },
  {
   "cell_type": "markdown",
   "metadata": {},
   "source": [
    "see if the tone of two parties varies in the news by different media"
   ]
  },
  {
   "cell_type": "code",
   "execution_count": 97,
   "metadata": {},
   "outputs": [
    {
     "data": {
      "text/plain": [
       "<seaborn.axisgrid.FacetGrid at 0x7f0c70f74a30>"
      ]
     },
     "execution_count": 97,
     "metadata": {},
     "output_type": "execute_result"
    },
    {
     "data": {
      "image/png": "[encoded data removed]",
      "text/plain": [
       "<Figure size 720x360 with 2 Axes>"
      ]
     },
     "metadata": {
      "needs_background": "light"
     },
     "output_type": "display_data"
    }
   ],
   "source": [
    "g = sns.factorplot(data=df_full, col='parties', x='bias_cat', y='sentiment', kind='bar', ci=95)\n",
    "g.set_xlabels('')"
   ]
  },
  {
   "cell_type": "code",
   "execution_count": 100,
   "metadata": {},
   "outputs": [
    {
     "name": "stdout",
     "output_type": "stream",
     "text": [
      "Ttest_indResult(statistic=2.1724305993666886, pvalue=0.029831161447967155)\n",
      "Ttest_indResult(statistic=-8.916854923703003, pvalue=5.037742672981389e-19)\n",
      "Ttest_indResult(statistic=-5.209267904710853, pvalue=1.907938878645523e-07)\n",
      "Ttest_indResult(statistic=-5.403773340669651, pvalue=6.550409566970628e-08)\n",
      "Ttest_indResult(statistic=14.05957336448792, pvalue=7.024568118395709e-45)\n"
     ]
    }
   ],
   "source": [
    "from scipy.stats import ttest_ind\n",
    "\n",
    "\n",
    "demo_in_left = (df_full['bias_cat'] == 'far left') & (df_full['parties'] == 'Democratic Party')\n",
    "demo_in_right = (df_full['bias_cat'] == 'far right') & (df_full['parties'] == 'Democratic Party')\n",
    "gop_in_left = (df_full['bias_cat'] == 'far left') & (df_full['parties'] == 'Republican Party')\n",
    "gop_in_right = (df_full['bias_cat'] == 'far right') & (df_full['parties'] == 'Republican Party')\n",
    "gop_in_neu = (df_full['bias_cat'] == 'neutral') & (df_full['parties'] == 'Republican Party')\n",
    "demo_in_neu = (df_full['bias_cat'] == 'neutral') & (df_full['parties'] == 'Democratic Party')\n",
    "print(ttest_ind(df_full[demo_in_left]['sentiment'], df_full[demo_in_right]['sentiment'], equal_var=False))\n",
    "print(ttest_ind(df_full[gop_in_left]['sentiment'], df_full[gop_in_right]['sentiment'], equal_var=False))\n",
    "print(ttest_ind(df_full[gop_in_left]['sentiment'], df_full[demo_in_left]['sentiment'], equal_var=False))\n",
    "print(ttest_ind(df_full[demo_in_right]['sentiment'], df_full[gop_in_right]['sentiment'], equal_var=False))\n",
    "print(ttest_ind(df_full[gop_in_neu]['sentiment'], df_full[demo_in_neu]['sentiment'], equal_var=False))"
   ]
  },
  {
   "cell_type": "markdown",
   "metadata": {},
   "source": [
    "In general, the Democratic party speaks more positively in far left news (p value $\\lt$ 0.05). Similarly, the Republicans speaks more positively in far right news (p value $\\ll$ 0.05) but with a more significant statistical difference.\n",
    "\n",
    "Note that for all media, the general tone of two parties are significantly different."
   ]
  }
 ],
 "metadata": {
  "interpreter": {
   "hash": "3b55f20b1d0618b20c2aa65a9063ea807c0869a2d017e9d59b50892a47715681"
  },
  "kernelspec": {
   "display_name": "Python 3.9.7 64-bit ('ADA': conda)",
   "language": "python",
   "name": "python3"
  },
  "language_info": {
   "codemirror_mode": {
    "name": "ipython",
    "version": 3
   },
   "file_extension": ".py",
   "mimetype": "text/x-python",
   "name": "python",
   "nbconvert_exporter": "python",
   "pygments_lexer": "ipython3",
   "version": "3.8.10"
  },
  "orig_nbformat": 4
 },
 "nbformat": 4,
 "nbformat_minor": 2
}
